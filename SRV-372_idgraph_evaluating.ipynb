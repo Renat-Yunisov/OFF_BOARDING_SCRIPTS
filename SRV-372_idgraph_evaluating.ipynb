{
 "cells": [
  {
   "cell_type": "markdown",
   "id": "b3ad7401",
   "metadata": {},
   "source": [
    "# Packages"
   ]
  },
  {
   "cell_type": "code",
   "execution_count": 261,
   "id": "09894ecd",
   "metadata": {},
   "outputs": [
    {
     "data": {
      "text/html": [
       "<style>.container { width:80% !important; }</style>"
      ],
      "text/plain": [
       "<IPython.core.display.HTML object>"
      ]
     },
     "metadata": {},
     "output_type": "display_data"
    }
   ],
   "source": [
    "# Visualisation\n",
    "import plotly.express as px\n",
    "import plotly.graph_objects as go\n",
    "from plotly.subplots import make_subplots\n",
    "import matplotlib.pyplot as plt\n",
    "import seaborn as sns\n",
    "from pyvis.network import Network\n",
    "\n",
    "# Data analysis / Data processing\n",
    "import pandas as pd\n",
    "pd.set_option('display.max_rows', 500)\n",
    "pd.set_option('display.max_columns', 500)\n",
    "pd.set_option('display.width', 1000)\n",
    "pd.set_option('max_colwidth', None)\n",
    "pd.options.display.float_format = \"{:,.3f}\".format\n",
    "from datetime import time, timedelta, datetime\n",
    "import numpy as np\n",
    "import networkx as nx\n",
    "from collections import defaultdict\n",
    "import ast\n",
    "\n",
    "# Maths & Stats\n",
    "import math \n",
    "import scipy.stats as st\n",
    "from scipy import stats\n",
    "from scipy.stats import norm\n",
    "import statsmodels.stats.weightstats as ws\n",
    "from statsmodels.stats.proportion import test_proportions_2indep\n",
    "import AB_library\n",
    "# from ambrosia.designer import Designer\n",
    "# from ambrosia.tester import Tester\n",
    "import expab\n",
    "from statsmodels.stats.power import NormalIndPower\n",
    "from statsmodels.stats.proportion import proportion_effectsize\n",
    "from math import ceil\n",
    "\n",
    "# System library\n",
    "import os\n",
    "import ipywidgets\n",
    "import warnings\n",
    "warnings.filterwarnings('ignore')\n",
    "from tqdm.notebook import tqdm\n",
    "tqdm.pandas()\n",
    "from IPython.display import display, HTML\n",
    "display(HTML(\"<style>.container { width:80% !important; }</style>\"))\n",
    "%config InlineBackend.figure_format='retina'\n",
    "# from itables import init_notebook_mode\n",
    "# init_notebook_mode(all_interactive=True)\n",
    "import openpyxl\n",
    "\n",
    "# Data connection\n",
    "from google.cloud import bigquery\n",
    "bigquery_client = bigquery.Client(project='analytics-dev-333113')\n",
    "\n",
    "\n",
    "# Useful functions\n",
    "def read_bq(query, project='analytics-dev-333113'):\n",
    "    client = bigquery.Client(project=project)\n",
    "    query_job = client.query(query)\n",
    "    result_df = query_job.to_dataframe()\n",
    "    return result_df\n",
    "\n",
    "def display_side_by_side(*args):\n",
    "\n",
    "    html_str = ''\n",
    "    for df in args:\n",
    "        html_str += df.to_html()\n",
    "    display_html(\n",
    "        html_str.replace('table','table style=\"display:inline\"'), \n",
    "        raw=True\n",
    "    )\n",
    "\n",
    "def cycle_sql(start, end, query, weeks=False):\n",
    "    \"\"\"\n",
    "    You have to use {date} in your script to add cycle date into this backets\n",
    "    \"\"\"\n",
    "    date_start = datetime.strptime(start, '%Y-%m-%d')\n",
    "    date_end = datetime.strptime(end, '%Y-%m-%d')\n",
    "\n",
    "    if weeks == False:\n",
    "        daterange = [(date_start + timedelta(days=x)).strftime('%Y-%m-%d') for x in range(((date_end-date_start).days)+1)]\n",
    "    else:\n",
    "        daterange = [(date_start + timedelta(weeks=x)).strftime('%Y-%m-%d') for x in range(((date_end-date_start).days//7)+1)] # weeks dividing days by 7\n",
    "\n",
    "    total_df = pd.DataFrame()\n",
    "\n",
    "    counter = 0\n",
    "\n",
    "    for date in daterange:\n",
    "        counter+=1\n",
    "        print(f\"{counter}) Uploading - {date}:\", datetime.today().strftime('%Y-%m-%d %H:%M:%S'))\n",
    "        script = query.format(date = date)\n",
    "        df_cycle = bigquery_client.query(script).to_dataframe()\n",
    "        if df_cycle.empty == True:\n",
    "            print('Dataframe is empty')\n",
    "        total_df = pd.concat([df_cycle, total_df])\n",
    "    return total_df  \n",
    "\n",
    "def writing_excel(name:str, dataset1=None, dataset2=None, dataset3=None, dataset4=None):\n",
    "    with pd.ExcelWriter(f\"{name}.xlsx\") as writer:\n",
    "\n",
    "    # use to_excel function and specify the sheet_name and index \n",
    "    # to store the dataframe in specified sheet\n",
    "\n",
    "        if dataset1 is not None:\n",
    "            if dataset2 is not None:\n",
    "                if dataset3 is not None:\n",
    "                    if dataset4 is not None:\n",
    "                        dataset1.to_excel(writer, sheet_name=f\"1-{name}\", \n",
    "                                        #   index=False\n",
    "                                            )\n",
    "                        dataset2.to_excel(writer, sheet_name=f\"2-{name}\", \n",
    "                                        #   index=False\n",
    "                                            )\n",
    "                        dataset3.to_excel(writer, sheet_name=f\"3-{name}\", \n",
    "                                        #   index=False\n",
    "                                            )\n",
    "                        dataset4.to_excel(writer, sheet_name=f\"4-{name}\", \n",
    "                                        #   index=False\n",
    "                                            )\n",
    "                    else:\n",
    "                        dataset1.to_excel(writer, sheet_name=f\"1-{name}\", \n",
    "                                        #   index=False\n",
    "                                            )\n",
    "                        dataset2.to_excel(writer, sheet_name=f\"2-{name}\", \n",
    "                                        #   index=False\n",
    "                                            )\n",
    "                        dataset3.to_excel(writer, sheet_name=f\"3-{name}\", \n",
    "                                        #   index=False\n",
    "                                            )\n",
    "                else:\n",
    "                    dataset1.to_excel(writer, sheet_name=f\"1-{name}\", \n",
    "                                    #   index=False\n",
    "                                        )\n",
    "                    dataset2.to_excel(writer, sheet_name=f\"2-{name}\", \n",
    "                                    #   index=False\n",
    "                                        )\n",
    "            else:\n",
    "                dataset1.to_excel(writer, sheet_name=f\"1-{name}\", \n",
    "                                #   index=False\n",
    "                                    )\n",
    "\n",
    "        print('DataFrame is written to Excel File successfully.') "
   ]
  },
  {
   "cell_type": "markdown",
   "id": "09a58d34",
   "metadata": {},
   "source": [
    "# Research"
   ]
  },
  {
   "cell_type": "markdown",
   "id": "904bb8c8",
   "metadata": {},
   "source": [
    "### Common data"
   ]
  },
  {
   "cell_type": "code",
   "execution_count": 19,
   "id": "483a8705",
   "metadata": {},
   "outputs": [
    {
     "data": {
      "text/html": [
       "<div>\n",
       "<style scoped>\n",
       "    .dataframe tbody tr th:only-of-type {\n",
       "        vertical-align: middle;\n",
       "    }\n",
       "\n",
       "    .dataframe tbody tr th {\n",
       "        vertical-align: top;\n",
       "    }\n",
       "\n",
       "    .dataframe thead th {\n",
       "        text-align: right;\n",
       "    }\n",
       "</style>\n",
       "<table border=\"1\" class=\"dataframe\">\n",
       "  <thead>\n",
       "    <tr style=\"text-align: right;\">\n",
       "      <th></th>\n",
       "      <th>user_id</th>\n",
       "      <th>requester</th>\n",
       "      <th>unban_applied_cd</th>\n",
       "      <th>created_dt</th>\n",
       "      <th>created_dt_week</th>\n",
       "      <th>country_id</th>\n",
       "      <th>country_name</th>\n",
       "      <th>city_id</th>\n",
       "      <th>city_name</th>\n",
       "    </tr>\n",
       "  </thead>\n",
       "  <tbody>\n",
       "    <tr>\n",
       "      <th>0</th>\n",
       "      <td>168723089</td>\n",
       "      <td>banhammer</td>\n",
       "      <td>0</td>\n",
       "      <td>2025-06-03</td>\n",
       "      <td>2025-06-01</td>\n",
       "      <td>25</td>\n",
       "      <td>Chile</td>\n",
       "      <td>5600</td>\n",
       "      <td>Rancagua</td>\n",
       "    </tr>\n",
       "    <tr>\n",
       "      <th>1</th>\n",
       "      <td>137872631</td>\n",
       "      <td>user</td>\n",
       "      <td>0</td>\n",
       "      <td>2025-07-04</td>\n",
       "      <td>2025-06-29</td>\n",
       "      <td>25</td>\n",
       "      <td>Chile</td>\n",
       "      <td>4281</td>\n",
       "      <td>Valparaíso - Viña del Mar</td>\n",
       "    </tr>\n",
       "    <tr>\n",
       "      <th>2</th>\n",
       "      <td>161633640</td>\n",
       "      <td>banhammer</td>\n",
       "      <td>0</td>\n",
       "      <td>2025-06-28</td>\n",
       "      <td>2025-06-22</td>\n",
       "      <td>22</td>\n",
       "      <td>Colombia</td>\n",
       "      <td>22827</td>\n",
       "      <td>Firavitoba</td>\n",
       "    </tr>\n",
       "    <tr>\n",
       "      <th>3</th>\n",
       "      <td>296685985</td>\n",
       "      <td>user</td>\n",
       "      <td>0</td>\n",
       "      <td>2025-06-05</td>\n",
       "      <td>2025-06-01</td>\n",
       "      <td>25</td>\n",
       "      <td>Chile</td>\n",
       "      <td>4261</td>\n",
       "      <td>Concepción</td>\n",
       "    </tr>\n",
       "    <tr>\n",
       "      <th>4</th>\n",
       "      <td>296481221</td>\n",
       "      <td>user</td>\n",
       "      <td>0</td>\n",
       "      <td>2025-07-09</td>\n",
       "      <td>2025-07-06</td>\n",
       "      <td>25</td>\n",
       "      <td>Chile</td>\n",
       "      <td>5589</td>\n",
       "      <td>Osorno</td>\n",
       "    </tr>\n",
       "  </tbody>\n",
       "</table>\n",
       "</div>"
      ],
      "text/plain": [
       "     user_id  requester  unban_applied_cd  created_dt created_dt_week  country_id country_name  city_id                  city_name\n",
       "0  168723089  banhammer                 0  2025-06-03      2025-06-01          25        Chile     5600                   Rancagua\n",
       "1  137872631       user                 0  2025-07-04      2025-06-29          25        Chile     4281  Valparaíso - Viña del Mar\n",
       "2  161633640  banhammer                 0  2025-06-28      2025-06-22          22     Colombia    22827                 Firavitoba\n",
       "3  296685985       user                 0  2025-06-05      2025-06-01          25        Chile     4261                 Concepción\n",
       "4  296481221       user                 0  2025-07-09      2025-07-06          25        Chile     5589                     Osorno"
      ]
     },
     "execution_count": 19,
     "metadata": {},
     "output_type": "execute_result"
    }
   ],
   "source": [
    "df_scale = read_bq(\"\"\"\n",
    "                   WITH banned AS (SELECT user_id,\n",
    "                       unban_applied_cd,\n",
    "                       DATE(created_dttm) AS created_dt\n",
    "                FROM dwh-storage-327422.ods_expel.tbl_ban\n",
    "                WHERE type_cd = 9\n",
    "                  AND unban_applied_cd = 0\n",
    "                  AND DATE(created_dttm) >= '2025-05-29'\n",
    "                QUALIFY ROW_NUMBER() OVER (PARTITION BY user_id ORDER BY created_dttm ASC) = 1),\n",
    "     user_region_data AS (SELECT id AS user_id, country_id, city_id\n",
    "                          FROM dwh-storage-327422.personal_data.tbl_user_act\n",
    "                          WHERE country_id IN (12, 23, 54, 25, 13, 43, 24, 75, 72, 77, 11, 22, 10)),\n",
    "     triggers AS (SELECT user_id, requester\n",
    "                  FROM indriver-e6e40.ods_facechecker.user_liveness\n",
    "                  WHERE DATE(created_at) >= '2020-01-01'\n",
    "                    AND TRIM(status) NOT IN ('requested', 'decline', 'resubmission')\n",
    "                  QUALIFY ROW_NUMBER() OVER (PARTITION BY user_id ORDER BY created_at DESC) = 1)\n",
    "SELECT t1.user_id,\n",
    "       t0.requester,\n",
    "       t1.unban_applied_cd,\n",
    "       t1.created_dt,\n",
    "       DATE_TRUNC(t1.created_dt, WEEK) AS created_dt_week,\n",
    "       t2.country_id,\n",
    "       geo.country_name,\n",
    "       t2.city_id,\n",
    "       geo.city_name\n",
    "FROM banned t1\n",
    "         LEFT JOIN triggers t0 ON t1.user_id = t0.user_id\n",
    "         LEFT JOIN user_region_data t2 ON t1.user_id = t2.user_id\n",
    "         JOIN indriver-e6e40.heap.vw_macroregion_mapping geo\n",
    "              ON\n",
    "                  t2.city_id = geo.city_id\n",
    "                   \"\"\")\n",
    "\n",
    "df_scale.head()"
   ]
  },
  {
   "cell_type": "code",
   "execution_count": 22,
   "id": "d9026973",
   "metadata": {},
   "outputs": [
    {
     "data": {
      "text/plain": [
       "11458"
      ]
     },
     "execution_count": 22,
     "metadata": {},
     "output_type": "execute_result"
    }
   ],
   "source": [
    "df_scale.groupby(['created_dt_week'], as_index=False)['user_id'].nunique()['user_id'].sum()"
   ]
  },
  {
   "cell_type": "code",
   "execution_count": 5,
   "id": "ec9f4a6a",
   "metadata": {},
   "outputs": [
    {
     "data": {
      "text/html": [
       "<div>\n",
       "<style scoped>\n",
       "    .dataframe tbody tr th:only-of-type {\n",
       "        vertical-align: middle;\n",
       "    }\n",
       "\n",
       "    .dataframe tbody tr th {\n",
       "        vertical-align: top;\n",
       "    }\n",
       "\n",
       "    .dataframe thead th {\n",
       "        text-align: right;\n",
       "    }\n",
       "</style>\n",
       "<table border=\"1\" class=\"dataframe\">\n",
       "  <thead>\n",
       "    <tr style=\"text-align: right;\">\n",
       "      <th></th>\n",
       "      <th>country_name</th>\n",
       "      <th>user_id</th>\n",
       "    </tr>\n",
       "  </thead>\n",
       "  <tbody>\n",
       "    <tr>\n",
       "      <th>1</th>\n",
       "      <td>Brazil</td>\n",
       "      <td>2684</td>\n",
       "    </tr>\n",
       "    <tr>\n",
       "      <th>9</th>\n",
       "      <td>Mexico</td>\n",
       "      <td>1537</td>\n",
       "    </tr>\n",
       "    <tr>\n",
       "      <th>2</th>\n",
       "      <td>Chile</td>\n",
       "      <td>1263</td>\n",
       "    </tr>\n",
       "    <tr>\n",
       "      <th>11</th>\n",
       "      <td>Peru</td>\n",
       "      <td>1197</td>\n",
       "    </tr>\n",
       "    <tr>\n",
       "      <th>3</th>\n",
       "      <td>Colombia</td>\n",
       "      <td>1191</td>\n",
       "    </tr>\n",
       "    <tr>\n",
       "      <th>5</th>\n",
       "      <td>Ecuador</td>\n",
       "      <td>545</td>\n",
       "    </tr>\n",
       "    <tr>\n",
       "      <th>4</th>\n",
       "      <td>Costa Rica</td>\n",
       "      <td>454</td>\n",
       "    </tr>\n",
       "    <tr>\n",
       "      <th>6</th>\n",
       "      <td>Guatemala</td>\n",
       "      <td>354</td>\n",
       "    </tr>\n",
       "    <tr>\n",
       "      <th>10</th>\n",
       "      <td>Panama</td>\n",
       "      <td>342</td>\n",
       "    </tr>\n",
       "    <tr>\n",
       "      <th>0</th>\n",
       "      <td>Argentina</td>\n",
       "      <td>46</td>\n",
       "    </tr>\n",
       "    <tr>\n",
       "      <th>12</th>\n",
       "      <td>South Africa</td>\n",
       "      <td>29</td>\n",
       "    </tr>\n",
       "    <tr>\n",
       "      <th>8</th>\n",
       "      <td>Jamaica</td>\n",
       "      <td>13</td>\n",
       "    </tr>\n",
       "    <tr>\n",
       "      <th>7</th>\n",
       "      <td>Honduras</td>\n",
       "      <td>11</td>\n",
       "    </tr>\n",
       "  </tbody>\n",
       "</table>\n",
       "</div>"
      ],
      "text/plain": [
       "    country_name  user_id\n",
       "1         Brazil     2684\n",
       "9         Mexico     1537\n",
       "2          Chile     1263\n",
       "11          Peru     1197\n",
       "3       Colombia     1191\n",
       "5        Ecuador      545\n",
       "4     Costa Rica      454\n",
       "6      Guatemala      354\n",
       "10        Panama      342\n",
       "0      Argentina       46\n",
       "12  South Africa       29\n",
       "8        Jamaica       13\n",
       "7       Honduras       11"
      ]
     },
     "execution_count": 5,
     "metadata": {},
     "output_type": "execute_result"
    }
   ],
   "source": [
    "df_scale.groupby('country_name', as_index=False)['user_id'].nunique().sort_values('user_id', ascending=False)"
   ]
  },
  {
   "cell_type": "code",
   "execution_count": 18,
   "id": "78ec1f33",
   "metadata": {},
   "outputs": [
    {
     "data": {
      "application/vnd.plotly.v1+json": {
       "config": {
        "plotlyServerURL": "https://plot.ly"
       },
       "data": [
        {
         "alignmentgroup": "True",
         "hovertemplate": "country_name=%{x}<br>user_id=%{y}<extra></extra>",
         "legendgroup": "",
         "marker": {
          "color": "#636efa",
          "pattern": {
           "shape": ""
          }
         },
         "name": "",
         "offsetgroup": "",
         "orientation": "v",
         "showlegend": false,
         "textposition": "auto",
         "texttemplate": "%{y}",
         "type": "bar",
         "x": [
          "Brazil",
          "Mexico",
          "Chile",
          "Peru",
          "Colombia",
          "Ecuador",
          "Costa Rica",
          "Guatemala",
          "Panama",
          "Argentina",
          "South Africa",
          "Jamaica",
          "Honduras"
         ],
         "xaxis": "x",
         "y": [
          2684,
          1537,
          1263,
          1197,
          1191,
          545,
          454,
          354,
          342,
          46,
          29,
          13,
          11
         ],
         "yaxis": "y"
        }
       ],
       "layout": {
        "barmode": "relative",
        "legend": {
         "tracegroupgap": 0
        },
        "margin": {
         "t": 60
        },
        "template": {
         "data": {
          "bar": [
           {
            "error_x": {
             "color": "#2a3f5f"
            },
            "error_y": {
             "color": "#2a3f5f"
            },
            "marker": {
             "line": {
              "color": "#E5ECF6",
              "width": 0.5
             },
             "pattern": {
              "fillmode": "overlay",
              "size": 10,
              "solidity": 0.2
             }
            },
            "type": "bar"
           }
          ],
          "barpolar": [
           {
            "marker": {
             "line": {
              "color": "#E5ECF6",
              "width": 0.5
             },
             "pattern": {
              "fillmode": "overlay",
              "size": 10,
              "solidity": 0.2
             }
            },
            "type": "barpolar"
           }
          ],
          "carpet": [
           {
            "aaxis": {
             "endlinecolor": "#2a3f5f",
             "gridcolor": "white",
             "linecolor": "white",
             "minorgridcolor": "white",
             "startlinecolor": "#2a3f5f"
            },
            "baxis": {
             "endlinecolor": "#2a3f5f",
             "gridcolor": "white",
             "linecolor": "white",
             "minorgridcolor": "white",
             "startlinecolor": "#2a3f5f"
            },
            "type": "carpet"
           }
          ],
          "choropleth": [
           {
            "colorbar": {
             "outlinewidth": 0,
             "ticks": ""
            },
            "type": "choropleth"
           }
          ],
          "contour": [
           {
            "colorbar": {
             "outlinewidth": 0,
             "ticks": ""
            },
            "colorscale": [
             [
              0,
              "#0d0887"
             ],
             [
              0.1111111111111111,
              "#46039f"
             ],
             [
              0.2222222222222222,
              "#7201a8"
             ],
             [
              0.3333333333333333,
              "#9c179e"
             ],
             [
              0.4444444444444444,
              "#bd3786"
             ],
             [
              0.5555555555555556,
              "#d8576b"
             ],
             [
              0.6666666666666666,
              "#ed7953"
             ],
             [
              0.7777777777777778,
              "#fb9f3a"
             ],
             [
              0.8888888888888888,
              "#fdca26"
             ],
             [
              1,
              "#f0f921"
             ]
            ],
            "type": "contour"
           }
          ],
          "contourcarpet": [
           {
            "colorbar": {
             "outlinewidth": 0,
             "ticks": ""
            },
            "type": "contourcarpet"
           }
          ],
          "heatmap": [
           {
            "colorbar": {
             "outlinewidth": 0,
             "ticks": ""
            },
            "colorscale": [
             [
              0,
              "#0d0887"
             ],
             [
              0.1111111111111111,
              "#46039f"
             ],
             [
              0.2222222222222222,
              "#7201a8"
             ],
             [
              0.3333333333333333,
              "#9c179e"
             ],
             [
              0.4444444444444444,
              "#bd3786"
             ],
             [
              0.5555555555555556,
              "#d8576b"
             ],
             [
              0.6666666666666666,
              "#ed7953"
             ],
             [
              0.7777777777777778,
              "#fb9f3a"
             ],
             [
              0.8888888888888888,
              "#fdca26"
             ],
             [
              1,
              "#f0f921"
             ]
            ],
            "type": "heatmap"
           }
          ],
          "heatmapgl": [
           {
            "colorbar": {
             "outlinewidth": 0,
             "ticks": ""
            },
            "colorscale": [
             [
              0,
              "#0d0887"
             ],
             [
              0.1111111111111111,
              "#46039f"
             ],
             [
              0.2222222222222222,
              "#7201a8"
             ],
             [
              0.3333333333333333,
              "#9c179e"
             ],
             [
              0.4444444444444444,
              "#bd3786"
             ],
             [
              0.5555555555555556,
              "#d8576b"
             ],
             [
              0.6666666666666666,
              "#ed7953"
             ],
             [
              0.7777777777777778,
              "#fb9f3a"
             ],
             [
              0.8888888888888888,
              "#fdca26"
             ],
             [
              1,
              "#f0f921"
             ]
            ],
            "type": "heatmapgl"
           }
          ],
          "histogram": [
           {
            "marker": {
             "pattern": {
              "fillmode": "overlay",
              "size": 10,
              "solidity": 0.2
             }
            },
            "type": "histogram"
           }
          ],
          "histogram2d": [
           {
            "colorbar": {
             "outlinewidth": 0,
             "ticks": ""
            },
            "colorscale": [
             [
              0,
              "#0d0887"
             ],
             [
              0.1111111111111111,
              "#46039f"
             ],
             [
              0.2222222222222222,
              "#7201a8"
             ],
             [
              0.3333333333333333,
              "#9c179e"
             ],
             [
              0.4444444444444444,
              "#bd3786"
             ],
             [
              0.5555555555555556,
              "#d8576b"
             ],
             [
              0.6666666666666666,
              "#ed7953"
             ],
             [
              0.7777777777777778,
              "#fb9f3a"
             ],
             [
              0.8888888888888888,
              "#fdca26"
             ],
             [
              1,
              "#f0f921"
             ]
            ],
            "type": "histogram2d"
           }
          ],
          "histogram2dcontour": [
           {
            "colorbar": {
             "outlinewidth": 0,
             "ticks": ""
            },
            "colorscale": [
             [
              0,
              "#0d0887"
             ],
             [
              0.1111111111111111,
              "#46039f"
             ],
             [
              0.2222222222222222,
              "#7201a8"
             ],
             [
              0.3333333333333333,
              "#9c179e"
             ],
             [
              0.4444444444444444,
              "#bd3786"
             ],
             [
              0.5555555555555556,
              "#d8576b"
             ],
             [
              0.6666666666666666,
              "#ed7953"
             ],
             [
              0.7777777777777778,
              "#fb9f3a"
             ],
             [
              0.8888888888888888,
              "#fdca26"
             ],
             [
              1,
              "#f0f921"
             ]
            ],
            "type": "histogram2dcontour"
           }
          ],
          "mesh3d": [
           {
            "colorbar": {
             "outlinewidth": 0,
             "ticks": ""
            },
            "type": "mesh3d"
           }
          ],
          "parcoords": [
           {
            "line": {
             "colorbar": {
              "outlinewidth": 0,
              "ticks": ""
             }
            },
            "type": "parcoords"
           }
          ],
          "pie": [
           {
            "automargin": true,
            "type": "pie"
           }
          ],
          "scatter": [
           {
            "fillpattern": {
             "fillmode": "overlay",
             "size": 10,
             "solidity": 0.2
            },
            "type": "scatter"
           }
          ],
          "scatter3d": [
           {
            "line": {
             "colorbar": {
              "outlinewidth": 0,
              "ticks": ""
             }
            },
            "marker": {
             "colorbar": {
              "outlinewidth": 0,
              "ticks": ""
             }
            },
            "type": "scatter3d"
           }
          ],
          "scattercarpet": [
           {
            "marker": {
             "colorbar": {
              "outlinewidth": 0,
              "ticks": ""
             }
            },
            "type": "scattercarpet"
           }
          ],
          "scattergeo": [
           {
            "marker": {
             "colorbar": {
              "outlinewidth": 0,
              "ticks": ""
             }
            },
            "type": "scattergeo"
           }
          ],
          "scattergl": [
           {
            "marker": {
             "colorbar": {
              "outlinewidth": 0,
              "ticks": ""
             }
            },
            "type": "scattergl"
           }
          ],
          "scattermapbox": [
           {
            "marker": {
             "colorbar": {
              "outlinewidth": 0,
              "ticks": ""
             }
            },
            "type": "scattermapbox"
           }
          ],
          "scatterpolar": [
           {
            "marker": {
             "colorbar": {
              "outlinewidth": 0,
              "ticks": ""
             }
            },
            "type": "scatterpolar"
           }
          ],
          "scatterpolargl": [
           {
            "marker": {
             "colorbar": {
              "outlinewidth": 0,
              "ticks": ""
             }
            },
            "type": "scatterpolargl"
           }
          ],
          "scatterternary": [
           {
            "marker": {
             "colorbar": {
              "outlinewidth": 0,
              "ticks": ""
             }
            },
            "type": "scatterternary"
           }
          ],
          "surface": [
           {
            "colorbar": {
             "outlinewidth": 0,
             "ticks": ""
            },
            "colorscale": [
             [
              0,
              "#0d0887"
             ],
             [
              0.1111111111111111,
              "#46039f"
             ],
             [
              0.2222222222222222,
              "#7201a8"
             ],
             [
              0.3333333333333333,
              "#9c179e"
             ],
             [
              0.4444444444444444,
              "#bd3786"
             ],
             [
              0.5555555555555556,
              "#d8576b"
             ],
             [
              0.6666666666666666,
              "#ed7953"
             ],
             [
              0.7777777777777778,
              "#fb9f3a"
             ],
             [
              0.8888888888888888,
              "#fdca26"
             ],
             [
              1,
              "#f0f921"
             ]
            ],
            "type": "surface"
           }
          ],
          "table": [
           {
            "cells": {
             "fill": {
              "color": "#EBF0F8"
             },
             "line": {
              "color": "white"
             }
            },
            "header": {
             "fill": {
              "color": "#C8D4E3"
             },
             "line": {
              "color": "white"
             }
            },
            "type": "table"
           }
          ]
         },
         "layout": {
          "annotationdefaults": {
           "arrowcolor": "#2a3f5f",
           "arrowhead": 0,
           "arrowwidth": 1
          },
          "autotypenumbers": "strict",
          "coloraxis": {
           "colorbar": {
            "outlinewidth": 0,
            "ticks": ""
           }
          },
          "colorscale": {
           "diverging": [
            [
             0,
             "#8e0152"
            ],
            [
             0.1,
             "#c51b7d"
            ],
            [
             0.2,
             "#de77ae"
            ],
            [
             0.3,
             "#f1b6da"
            ],
            [
             0.4,
             "#fde0ef"
            ],
            [
             0.5,
             "#f7f7f7"
            ],
            [
             0.6,
             "#e6f5d0"
            ],
            [
             0.7,
             "#b8e186"
            ],
            [
             0.8,
             "#7fbc41"
            ],
            [
             0.9,
             "#4d9221"
            ],
            [
             1,
             "#276419"
            ]
           ],
           "sequential": [
            [
             0,
             "#0d0887"
            ],
            [
             0.1111111111111111,
             "#46039f"
            ],
            [
             0.2222222222222222,
             "#7201a8"
            ],
            [
             0.3333333333333333,
             "#9c179e"
            ],
            [
             0.4444444444444444,
             "#bd3786"
            ],
            [
             0.5555555555555556,
             "#d8576b"
            ],
            [
             0.6666666666666666,
             "#ed7953"
            ],
            [
             0.7777777777777778,
             "#fb9f3a"
            ],
            [
             0.8888888888888888,
             "#fdca26"
            ],
            [
             1,
             "#f0f921"
            ]
           ],
           "sequentialminus": [
            [
             0,
             "#0d0887"
            ],
            [
             0.1111111111111111,
             "#46039f"
            ],
            [
             0.2222222222222222,
             "#7201a8"
            ],
            [
             0.3333333333333333,
             "#9c179e"
            ],
            [
             0.4444444444444444,
             "#bd3786"
            ],
            [
             0.5555555555555556,
             "#d8576b"
            ],
            [
             0.6666666666666666,
             "#ed7953"
            ],
            [
             0.7777777777777778,
             "#fb9f3a"
            ],
            [
             0.8888888888888888,
             "#fdca26"
            ],
            [
             1,
             "#f0f921"
            ]
           ]
          },
          "colorway": [
           "#636efa",
           "#EF553B",
           "#00cc96",
           "#ab63fa",
           "#FFA15A",
           "#19d3f3",
           "#FF6692",
           "#B6E880",
           "#FF97FF",
           "#FECB52"
          ],
          "font": {
           "color": "#2a3f5f"
          },
          "geo": {
           "bgcolor": "white",
           "lakecolor": "white",
           "landcolor": "#E5ECF6",
           "showlakes": true,
           "showland": true,
           "subunitcolor": "white"
          },
          "hoverlabel": {
           "align": "left"
          },
          "hovermode": "closest",
          "mapbox": {
           "style": "light"
          },
          "paper_bgcolor": "white",
          "plot_bgcolor": "#E5ECF6",
          "polar": {
           "angularaxis": {
            "gridcolor": "white",
            "linecolor": "white",
            "ticks": ""
           },
           "bgcolor": "#E5ECF6",
           "radialaxis": {
            "gridcolor": "white",
            "linecolor": "white",
            "ticks": ""
           }
          },
          "scene": {
           "xaxis": {
            "backgroundcolor": "#E5ECF6",
            "gridcolor": "white",
            "gridwidth": 2,
            "linecolor": "white",
            "showbackground": true,
            "ticks": "",
            "zerolinecolor": "white"
           },
           "yaxis": {
            "backgroundcolor": "#E5ECF6",
            "gridcolor": "white",
            "gridwidth": 2,
            "linecolor": "white",
            "showbackground": true,
            "ticks": "",
            "zerolinecolor": "white"
           },
           "zaxis": {
            "backgroundcolor": "#E5ECF6",
            "gridcolor": "white",
            "gridwidth": 2,
            "linecolor": "white",
            "showbackground": true,
            "ticks": "",
            "zerolinecolor": "white"
           }
          },
          "shapedefaults": {
           "line": {
            "color": "#2a3f5f"
           }
          },
          "ternary": {
           "aaxis": {
            "gridcolor": "white",
            "linecolor": "white",
            "ticks": ""
           },
           "baxis": {
            "gridcolor": "white",
            "linecolor": "white",
            "ticks": ""
           },
           "bgcolor": "#E5ECF6",
           "caxis": {
            "gridcolor": "white",
            "linecolor": "white",
            "ticks": ""
           }
          },
          "title": {
           "x": 0.05
          },
          "xaxis": {
           "automargin": true,
           "gridcolor": "white",
           "linecolor": "white",
           "ticks": "",
           "title": {
            "standoff": 15
           },
           "zerolinecolor": "white",
           "zerolinewidth": 2
          },
          "yaxis": {
           "automargin": true,
           "gridcolor": "white",
           "linecolor": "white",
           "ticks": "",
           "title": {
            "standoff": 15
           },
           "zerolinecolor": "white",
           "zerolinewidth": 2
          }
         }
        },
        "xaxis": {
         "anchor": "y",
         "domain": [
          0,
          1
         ],
         "title": {
          "text": "country_name"
         }
        },
        "yaxis": {
         "anchor": "x",
         "domain": [
          0,
          1
         ],
         "title": {
          "text": "user_id"
         }
        }
       }
      }
     },
     "metadata": {},
     "output_type": "display_data"
    }
   ],
   "source": [
    "fig = px.bar(\n",
    "    df_scale.groupby(['country_name'], as_index=False)['user_id'].nunique().sort_values('user_id', ascending=False), \n",
    "    x='country_name', \n",
    "    y='user_id',\n",
    "    text_auto=True\n",
    "    )\n",
    "fig.show()"
   ]
  },
  {
   "cell_type": "code",
   "execution_count": 25,
   "id": "99cc4913",
   "metadata": {},
   "outputs": [],
   "source": [
    "df_scale['requester'] = df_scale['requester'].replace({'banhammer':'Triggers', 'user':'Common liveness'})"
   ]
  },
  {
   "cell_type": "code",
   "execution_count": 29,
   "id": "a0128416",
   "metadata": {},
   "outputs": [
    {
     "data": {
      "application/vnd.plotly.v1+json": {
       "config": {
        "plotlyServerURL": "https://plot.ly"
       },
       "data": [
        {
         "alignmentgroup": "True",
         "hovertemplate": "Segment=Common liveness<br>Country name=%{x}<br>Users=%{y}<extra></extra>",
         "legendgroup": "Common liveness",
         "marker": {
          "color": "#636efa",
          "pattern": {
           "shape": ""
          }
         },
         "name": "Common liveness",
         "offsetgroup": "Common liveness",
         "orientation": "v",
         "showlegend": true,
         "textposition": "auto",
         "texttemplate": "%{y}",
         "type": "bar",
         "x": [
          "Brazil",
          "Mexico",
          "Colombia",
          "Chile",
          "Peru",
          "Ecuador",
          "Costa Rica",
          "Guatemala",
          "Panama",
          "South Africa",
          "Argentina",
          "Jamaica",
          "Honduras"
         ],
         "xaxis": "x",
         "y": [
          2554,
          1638,
          1169,
          1138,
          1081,
          520,
          473,
          364,
          339,
          155,
          61,
          14,
          13
         ],
         "yaxis": "y"
        },
        {
         "alignmentgroup": "True",
         "hovertemplate": "Segment=Triggers<br>Country name=%{x}<br>Users=%{y}<extra></extra>",
         "legendgroup": "Triggers",
         "marker": {
          "color": "#EF553B",
          "pattern": {
           "shape": ""
          }
         },
         "name": "Triggers",
         "offsetgroup": "Triggers",
         "orientation": "v",
         "showlegend": true,
         "textposition": "auto",
         "texttemplate": "%{y}",
         "type": "bar",
         "x": [
          "Brazil",
          "Peru",
          "Chile",
          "Colombia",
          "Mexico",
          "Ecuador",
          "Panama",
          "Guatemala",
          "South Africa",
          "Jamaica",
          "Costa Rica",
          "Honduras"
         ],
         "xaxis": "x",
         "y": [
          581,
          339,
          331,
          216,
          204,
          110,
          71,
          64,
          15,
          3,
          3,
          1
         ],
         "yaxis": "y"
        }
       ],
       "layout": {
        "barmode": "relative",
        "legend": {
         "title": {
          "text": "Segment"
         },
         "tracegroupgap": 0
        },
        "margin": {
         "t": 60
        },
        "template": {
         "data": {
          "bar": [
           {
            "error_x": {
             "color": "#2a3f5f"
            },
            "error_y": {
             "color": "#2a3f5f"
            },
            "marker": {
             "line": {
              "color": "#E5ECF6",
              "width": 0.5
             },
             "pattern": {
              "fillmode": "overlay",
              "size": 10,
              "solidity": 0.2
             }
            },
            "type": "bar"
           }
          ],
          "barpolar": [
           {
            "marker": {
             "line": {
              "color": "#E5ECF6",
              "width": 0.5
             },
             "pattern": {
              "fillmode": "overlay",
              "size": 10,
              "solidity": 0.2
             }
            },
            "type": "barpolar"
           }
          ],
          "carpet": [
           {
            "aaxis": {
             "endlinecolor": "#2a3f5f",
             "gridcolor": "white",
             "linecolor": "white",
             "minorgridcolor": "white",
             "startlinecolor": "#2a3f5f"
            },
            "baxis": {
             "endlinecolor": "#2a3f5f",
             "gridcolor": "white",
             "linecolor": "white",
             "minorgridcolor": "white",
             "startlinecolor": "#2a3f5f"
            },
            "type": "carpet"
           }
          ],
          "choropleth": [
           {
            "colorbar": {
             "outlinewidth": 0,
             "ticks": ""
            },
            "type": "choropleth"
           }
          ],
          "contour": [
           {
            "colorbar": {
             "outlinewidth": 0,
             "ticks": ""
            },
            "colorscale": [
             [
              0,
              "#0d0887"
             ],
             [
              0.1111111111111111,
              "#46039f"
             ],
             [
              0.2222222222222222,
              "#7201a8"
             ],
             [
              0.3333333333333333,
              "#9c179e"
             ],
             [
              0.4444444444444444,
              "#bd3786"
             ],
             [
              0.5555555555555556,
              "#d8576b"
             ],
             [
              0.6666666666666666,
              "#ed7953"
             ],
             [
              0.7777777777777778,
              "#fb9f3a"
             ],
             [
              0.8888888888888888,
              "#fdca26"
             ],
             [
              1,
              "#f0f921"
             ]
            ],
            "type": "contour"
           }
          ],
          "contourcarpet": [
           {
            "colorbar": {
             "outlinewidth": 0,
             "ticks": ""
            },
            "type": "contourcarpet"
           }
          ],
          "heatmap": [
           {
            "colorbar": {
             "outlinewidth": 0,
             "ticks": ""
            },
            "colorscale": [
             [
              0,
              "#0d0887"
             ],
             [
              0.1111111111111111,
              "#46039f"
             ],
             [
              0.2222222222222222,
              "#7201a8"
             ],
             [
              0.3333333333333333,
              "#9c179e"
             ],
             [
              0.4444444444444444,
              "#bd3786"
             ],
             [
              0.5555555555555556,
              "#d8576b"
             ],
             [
              0.6666666666666666,
              "#ed7953"
             ],
             [
              0.7777777777777778,
              "#fb9f3a"
             ],
             [
              0.8888888888888888,
              "#fdca26"
             ],
             [
              1,
              "#f0f921"
             ]
            ],
            "type": "heatmap"
           }
          ],
          "heatmapgl": [
           {
            "colorbar": {
             "outlinewidth": 0,
             "ticks": ""
            },
            "colorscale": [
             [
              0,
              "#0d0887"
             ],
             [
              0.1111111111111111,
              "#46039f"
             ],
             [
              0.2222222222222222,
              "#7201a8"
             ],
             [
              0.3333333333333333,
              "#9c179e"
             ],
             [
              0.4444444444444444,
              "#bd3786"
             ],
             [
              0.5555555555555556,
              "#d8576b"
             ],
             [
              0.6666666666666666,
              "#ed7953"
             ],
             [
              0.7777777777777778,
              "#fb9f3a"
             ],
             [
              0.8888888888888888,
              "#fdca26"
             ],
             [
              1,
              "#f0f921"
             ]
            ],
            "type": "heatmapgl"
           }
          ],
          "histogram": [
           {
            "marker": {
             "pattern": {
              "fillmode": "overlay",
              "size": 10,
              "solidity": 0.2
             }
            },
            "type": "histogram"
           }
          ],
          "histogram2d": [
           {
            "colorbar": {
             "outlinewidth": 0,
             "ticks": ""
            },
            "colorscale": [
             [
              0,
              "#0d0887"
             ],
             [
              0.1111111111111111,
              "#46039f"
             ],
             [
              0.2222222222222222,
              "#7201a8"
             ],
             [
              0.3333333333333333,
              "#9c179e"
             ],
             [
              0.4444444444444444,
              "#bd3786"
             ],
             [
              0.5555555555555556,
              "#d8576b"
             ],
             [
              0.6666666666666666,
              "#ed7953"
             ],
             [
              0.7777777777777778,
              "#fb9f3a"
             ],
             [
              0.8888888888888888,
              "#fdca26"
             ],
             [
              1,
              "#f0f921"
             ]
            ],
            "type": "histogram2d"
           }
          ],
          "histogram2dcontour": [
           {
            "colorbar": {
             "outlinewidth": 0,
             "ticks": ""
            },
            "colorscale": [
             [
              0,
              "#0d0887"
             ],
             [
              0.1111111111111111,
              "#46039f"
             ],
             [
              0.2222222222222222,
              "#7201a8"
             ],
             [
              0.3333333333333333,
              "#9c179e"
             ],
             [
              0.4444444444444444,
              "#bd3786"
             ],
             [
              0.5555555555555556,
              "#d8576b"
             ],
             [
              0.6666666666666666,
              "#ed7953"
             ],
             [
              0.7777777777777778,
              "#fb9f3a"
             ],
             [
              0.8888888888888888,
              "#fdca26"
             ],
             [
              1,
              "#f0f921"
             ]
            ],
            "type": "histogram2dcontour"
           }
          ],
          "mesh3d": [
           {
            "colorbar": {
             "outlinewidth": 0,
             "ticks": ""
            },
            "type": "mesh3d"
           }
          ],
          "parcoords": [
           {
            "line": {
             "colorbar": {
              "outlinewidth": 0,
              "ticks": ""
             }
            },
            "type": "parcoords"
           }
          ],
          "pie": [
           {
            "automargin": true,
            "type": "pie"
           }
          ],
          "scatter": [
           {
            "fillpattern": {
             "fillmode": "overlay",
             "size": 10,
             "solidity": 0.2
            },
            "type": "scatter"
           }
          ],
          "scatter3d": [
           {
            "line": {
             "colorbar": {
              "outlinewidth": 0,
              "ticks": ""
             }
            },
            "marker": {
             "colorbar": {
              "outlinewidth": 0,
              "ticks": ""
             }
            },
            "type": "scatter3d"
           }
          ],
          "scattercarpet": [
           {
            "marker": {
             "colorbar": {
              "outlinewidth": 0,
              "ticks": ""
             }
            },
            "type": "scattercarpet"
           }
          ],
          "scattergeo": [
           {
            "marker": {
             "colorbar": {
              "outlinewidth": 0,
              "ticks": ""
             }
            },
            "type": "scattergeo"
           }
          ],
          "scattergl": [
           {
            "marker": {
             "colorbar": {
              "outlinewidth": 0,
              "ticks": ""
             }
            },
            "type": "scattergl"
           }
          ],
          "scattermapbox": [
           {
            "marker": {
             "colorbar": {
              "outlinewidth": 0,
              "ticks": ""
             }
            },
            "type": "scattermapbox"
           }
          ],
          "scatterpolar": [
           {
            "marker": {
             "colorbar": {
              "outlinewidth": 0,
              "ticks": ""
             }
            },
            "type": "scatterpolar"
           }
          ],
          "scatterpolargl": [
           {
            "marker": {
             "colorbar": {
              "outlinewidth": 0,
              "ticks": ""
             }
            },
            "type": "scatterpolargl"
           }
          ],
          "scatterternary": [
           {
            "marker": {
             "colorbar": {
              "outlinewidth": 0,
              "ticks": ""
             }
            },
            "type": "scatterternary"
           }
          ],
          "surface": [
           {
            "colorbar": {
             "outlinewidth": 0,
             "ticks": ""
            },
            "colorscale": [
             [
              0,
              "#0d0887"
             ],
             [
              0.1111111111111111,
              "#46039f"
             ],
             [
              0.2222222222222222,
              "#7201a8"
             ],
             [
              0.3333333333333333,
              "#9c179e"
             ],
             [
              0.4444444444444444,
              "#bd3786"
             ],
             [
              0.5555555555555556,
              "#d8576b"
             ],
             [
              0.6666666666666666,
              "#ed7953"
             ],
             [
              0.7777777777777778,
              "#fb9f3a"
             ],
             [
              0.8888888888888888,
              "#fdca26"
             ],
             [
              1,
              "#f0f921"
             ]
            ],
            "type": "surface"
           }
          ],
          "table": [
           {
            "cells": {
             "fill": {
              "color": "#EBF0F8"
             },
             "line": {
              "color": "white"
             }
            },
            "header": {
             "fill": {
              "color": "#C8D4E3"
             },
             "line": {
              "color": "white"
             }
            },
            "type": "table"
           }
          ]
         },
         "layout": {
          "annotationdefaults": {
           "arrowcolor": "#2a3f5f",
           "arrowhead": 0,
           "arrowwidth": 1
          },
          "autotypenumbers": "strict",
          "coloraxis": {
           "colorbar": {
            "outlinewidth": 0,
            "ticks": ""
           }
          },
          "colorscale": {
           "diverging": [
            [
             0,
             "#8e0152"
            ],
            [
             0.1,
             "#c51b7d"
            ],
            [
             0.2,
             "#de77ae"
            ],
            [
             0.3,
             "#f1b6da"
            ],
            [
             0.4,
             "#fde0ef"
            ],
            [
             0.5,
             "#f7f7f7"
            ],
            [
             0.6,
             "#e6f5d0"
            ],
            [
             0.7,
             "#b8e186"
            ],
            [
             0.8,
             "#7fbc41"
            ],
            [
             0.9,
             "#4d9221"
            ],
            [
             1,
             "#276419"
            ]
           ],
           "sequential": [
            [
             0,
             "#0d0887"
            ],
            [
             0.1111111111111111,
             "#46039f"
            ],
            [
             0.2222222222222222,
             "#7201a8"
            ],
            [
             0.3333333333333333,
             "#9c179e"
            ],
            [
             0.4444444444444444,
             "#bd3786"
            ],
            [
             0.5555555555555556,
             "#d8576b"
            ],
            [
             0.6666666666666666,
             "#ed7953"
            ],
            [
             0.7777777777777778,
             "#fb9f3a"
            ],
            [
             0.8888888888888888,
             "#fdca26"
            ],
            [
             1,
             "#f0f921"
            ]
           ],
           "sequentialminus": [
            [
             0,
             "#0d0887"
            ],
            [
             0.1111111111111111,
             "#46039f"
            ],
            [
             0.2222222222222222,
             "#7201a8"
            ],
            [
             0.3333333333333333,
             "#9c179e"
            ],
            [
             0.4444444444444444,
             "#bd3786"
            ],
            [
             0.5555555555555556,
             "#d8576b"
            ],
            [
             0.6666666666666666,
             "#ed7953"
            ],
            [
             0.7777777777777778,
             "#fb9f3a"
            ],
            [
             0.8888888888888888,
             "#fdca26"
            ],
            [
             1,
             "#f0f921"
            ]
           ]
          },
          "colorway": [
           "#636efa",
           "#EF553B",
           "#00cc96",
           "#ab63fa",
           "#FFA15A",
           "#19d3f3",
           "#FF6692",
           "#B6E880",
           "#FF97FF",
           "#FECB52"
          ],
          "font": {
           "color": "#2a3f5f"
          },
          "geo": {
           "bgcolor": "white",
           "lakecolor": "white",
           "landcolor": "#E5ECF6",
           "showlakes": true,
           "showland": true,
           "subunitcolor": "white"
          },
          "hoverlabel": {
           "align": "left"
          },
          "hovermode": "closest",
          "mapbox": {
           "style": "light"
          },
          "paper_bgcolor": "white",
          "plot_bgcolor": "#E5ECF6",
          "polar": {
           "angularaxis": {
            "gridcolor": "white",
            "linecolor": "white",
            "ticks": ""
           },
           "bgcolor": "#E5ECF6",
           "radialaxis": {
            "gridcolor": "white",
            "linecolor": "white",
            "ticks": ""
           }
          },
          "scene": {
           "xaxis": {
            "backgroundcolor": "#E5ECF6",
            "gridcolor": "white",
            "gridwidth": 2,
            "linecolor": "white",
            "showbackground": true,
            "ticks": "",
            "zerolinecolor": "white"
           },
           "yaxis": {
            "backgroundcolor": "#E5ECF6",
            "gridcolor": "white",
            "gridwidth": 2,
            "linecolor": "white",
            "showbackground": true,
            "ticks": "",
            "zerolinecolor": "white"
           },
           "zaxis": {
            "backgroundcolor": "#E5ECF6",
            "gridcolor": "white",
            "gridwidth": 2,
            "linecolor": "white",
            "showbackground": true,
            "ticks": "",
            "zerolinecolor": "white"
           }
          },
          "shapedefaults": {
           "line": {
            "color": "#2a3f5f"
           }
          },
          "ternary": {
           "aaxis": {
            "gridcolor": "white",
            "linecolor": "white",
            "ticks": ""
           },
           "baxis": {
            "gridcolor": "white",
            "linecolor": "white",
            "ticks": ""
           },
           "bgcolor": "#E5ECF6",
           "caxis": {
            "gridcolor": "white",
            "linecolor": "white",
            "ticks": ""
           }
          },
          "title": {
           "x": 0.05
          },
          "xaxis": {
           "automargin": true,
           "gridcolor": "white",
           "linecolor": "white",
           "ticks": "",
           "title": {
            "standoff": 15
           },
           "zerolinecolor": "white",
           "zerolinewidth": 2
          },
          "yaxis": {
           "automargin": true,
           "gridcolor": "white",
           "linecolor": "white",
           "ticks": "",
           "title": {
            "standoff": 15
           },
           "zerolinecolor": "white",
           "zerolinewidth": 2
          }
         }
        },
        "xaxis": {
         "anchor": "y",
         "domain": [
          0,
          1
         ],
         "title": {
          "text": "Country name"
         }
        },
        "yaxis": {
         "anchor": "x",
         "domain": [
          0,
          1
         ],
         "title": {
          "text": "Users"
         }
        }
       }
      }
     },
     "metadata": {},
     "output_type": "display_data"
    }
   ],
   "source": [
    "fig = px.bar(\n",
    "    df_scale.groupby(['country_name', 'requester'], as_index=False)['user_id'].nunique().sort_values('user_id', ascending=False), \n",
    "    x='country_name', \n",
    "    y='user_id',\n",
    "    color='requester',\n",
    "    labels={'user_id': 'Users', 'country_name': 'Country name', 'requester': 'Segment', 'user':'Common liveness', 'banhammer':'Triggers'},\n",
    "    text_auto=True\n",
    "    )\n",
    "fig.show()"
   ]
  },
  {
   "cell_type": "code",
   "execution_count": 15,
   "id": "2bb4e88d",
   "metadata": {},
   "outputs": [
    {
     "data": {
      "application/vnd.plotly.v1+json": {
       "config": {
        "plotlyServerURL": "https://plot.ly"
       },
       "data": [
        {
         "alignmentgroup": "True",
         "hovertemplate": "created_dt_week=%{x}<br>user_id=%{y}<extra></extra>",
         "legendgroup": "",
         "marker": {
          "color": "#636efa",
          "pattern": {
           "shape": ""
          }
         },
         "name": "",
         "offsetgroup": "",
         "orientation": "v",
         "showlegend": false,
         "textposition": "auto",
         "texttemplate": "%{y}",
         "type": "bar",
         "x": [
          "2025-05-25",
          "2025-06-01",
          "2025-06-08",
          "2025-06-15",
          "2025-06-22",
          "2025-06-29"
         ],
         "xaxis": "x",
         "y": [
          793,
          2136,
          2116,
          2118,
          1589,
          914
         ],
         "yaxis": "y"
        }
       ],
       "layout": {
        "barmode": "relative",
        "legend": {
         "tracegroupgap": 0
        },
        "margin": {
         "t": 60
        },
        "template": {
         "data": {
          "bar": [
           {
            "error_x": {
             "color": "#2a3f5f"
            },
            "error_y": {
             "color": "#2a3f5f"
            },
            "marker": {
             "line": {
              "color": "#E5ECF6",
              "width": 0.5
             },
             "pattern": {
              "fillmode": "overlay",
              "size": 10,
              "solidity": 0.2
             }
            },
            "type": "bar"
           }
          ],
          "barpolar": [
           {
            "marker": {
             "line": {
              "color": "#E5ECF6",
              "width": 0.5
             },
             "pattern": {
              "fillmode": "overlay",
              "size": 10,
              "solidity": 0.2
             }
            },
            "type": "barpolar"
           }
          ],
          "carpet": [
           {
            "aaxis": {
             "endlinecolor": "#2a3f5f",
             "gridcolor": "white",
             "linecolor": "white",
             "minorgridcolor": "white",
             "startlinecolor": "#2a3f5f"
            },
            "baxis": {
             "endlinecolor": "#2a3f5f",
             "gridcolor": "white",
             "linecolor": "white",
             "minorgridcolor": "white",
             "startlinecolor": "#2a3f5f"
            },
            "type": "carpet"
           }
          ],
          "choropleth": [
           {
            "colorbar": {
             "outlinewidth": 0,
             "ticks": ""
            },
            "type": "choropleth"
           }
          ],
          "contour": [
           {
            "colorbar": {
             "outlinewidth": 0,
             "ticks": ""
            },
            "colorscale": [
             [
              0,
              "#0d0887"
             ],
             [
              0.1111111111111111,
              "#46039f"
             ],
             [
              0.2222222222222222,
              "#7201a8"
             ],
             [
              0.3333333333333333,
              "#9c179e"
             ],
             [
              0.4444444444444444,
              "#bd3786"
             ],
             [
              0.5555555555555556,
              "#d8576b"
             ],
             [
              0.6666666666666666,
              "#ed7953"
             ],
             [
              0.7777777777777778,
              "#fb9f3a"
             ],
             [
              0.8888888888888888,
              "#fdca26"
             ],
             [
              1,
              "#f0f921"
             ]
            ],
            "type": "contour"
           }
          ],
          "contourcarpet": [
           {
            "colorbar": {
             "outlinewidth": 0,
             "ticks": ""
            },
            "type": "contourcarpet"
           }
          ],
          "heatmap": [
           {
            "colorbar": {
             "outlinewidth": 0,
             "ticks": ""
            },
            "colorscale": [
             [
              0,
              "#0d0887"
             ],
             [
              0.1111111111111111,
              "#46039f"
             ],
             [
              0.2222222222222222,
              "#7201a8"
             ],
             [
              0.3333333333333333,
              "#9c179e"
             ],
             [
              0.4444444444444444,
              "#bd3786"
             ],
             [
              0.5555555555555556,
              "#d8576b"
             ],
             [
              0.6666666666666666,
              "#ed7953"
             ],
             [
              0.7777777777777778,
              "#fb9f3a"
             ],
             [
              0.8888888888888888,
              "#fdca26"
             ],
             [
              1,
              "#f0f921"
             ]
            ],
            "type": "heatmap"
           }
          ],
          "heatmapgl": [
           {
            "colorbar": {
             "outlinewidth": 0,
             "ticks": ""
            },
            "colorscale": [
             [
              0,
              "#0d0887"
             ],
             [
              0.1111111111111111,
              "#46039f"
             ],
             [
              0.2222222222222222,
              "#7201a8"
             ],
             [
              0.3333333333333333,
              "#9c179e"
             ],
             [
              0.4444444444444444,
              "#bd3786"
             ],
             [
              0.5555555555555556,
              "#d8576b"
             ],
             [
              0.6666666666666666,
              "#ed7953"
             ],
             [
              0.7777777777777778,
              "#fb9f3a"
             ],
             [
              0.8888888888888888,
              "#fdca26"
             ],
             [
              1,
              "#f0f921"
             ]
            ],
            "type": "heatmapgl"
           }
          ],
          "histogram": [
           {
            "marker": {
             "pattern": {
              "fillmode": "overlay",
              "size": 10,
              "solidity": 0.2
             }
            },
            "type": "histogram"
           }
          ],
          "histogram2d": [
           {
            "colorbar": {
             "outlinewidth": 0,
             "ticks": ""
            },
            "colorscale": [
             [
              0,
              "#0d0887"
             ],
             [
              0.1111111111111111,
              "#46039f"
             ],
             [
              0.2222222222222222,
              "#7201a8"
             ],
             [
              0.3333333333333333,
              "#9c179e"
             ],
             [
              0.4444444444444444,
              "#bd3786"
             ],
             [
              0.5555555555555556,
              "#d8576b"
             ],
             [
              0.6666666666666666,
              "#ed7953"
             ],
             [
              0.7777777777777778,
              "#fb9f3a"
             ],
             [
              0.8888888888888888,
              "#fdca26"
             ],
             [
              1,
              "#f0f921"
             ]
            ],
            "type": "histogram2d"
           }
          ],
          "histogram2dcontour": [
           {
            "colorbar": {
             "outlinewidth": 0,
             "ticks": ""
            },
            "colorscale": [
             [
              0,
              "#0d0887"
             ],
             [
              0.1111111111111111,
              "#46039f"
             ],
             [
              0.2222222222222222,
              "#7201a8"
             ],
             [
              0.3333333333333333,
              "#9c179e"
             ],
             [
              0.4444444444444444,
              "#bd3786"
             ],
             [
              0.5555555555555556,
              "#d8576b"
             ],
             [
              0.6666666666666666,
              "#ed7953"
             ],
             [
              0.7777777777777778,
              "#fb9f3a"
             ],
             [
              0.8888888888888888,
              "#fdca26"
             ],
             [
              1,
              "#f0f921"
             ]
            ],
            "type": "histogram2dcontour"
           }
          ],
          "mesh3d": [
           {
            "colorbar": {
             "outlinewidth": 0,
             "ticks": ""
            },
            "type": "mesh3d"
           }
          ],
          "parcoords": [
           {
            "line": {
             "colorbar": {
              "outlinewidth": 0,
              "ticks": ""
             }
            },
            "type": "parcoords"
           }
          ],
          "pie": [
           {
            "automargin": true,
            "type": "pie"
           }
          ],
          "scatter": [
           {
            "fillpattern": {
             "fillmode": "overlay",
             "size": 10,
             "solidity": 0.2
            },
            "type": "scatter"
           }
          ],
          "scatter3d": [
           {
            "line": {
             "colorbar": {
              "outlinewidth": 0,
              "ticks": ""
             }
            },
            "marker": {
             "colorbar": {
              "outlinewidth": 0,
              "ticks": ""
             }
            },
            "type": "scatter3d"
           }
          ],
          "scattercarpet": [
           {
            "marker": {
             "colorbar": {
              "outlinewidth": 0,
              "ticks": ""
             }
            },
            "type": "scattercarpet"
           }
          ],
          "scattergeo": [
           {
            "marker": {
             "colorbar": {
              "outlinewidth": 0,
              "ticks": ""
             }
            },
            "type": "scattergeo"
           }
          ],
          "scattergl": [
           {
            "marker": {
             "colorbar": {
              "outlinewidth": 0,
              "ticks": ""
             }
            },
            "type": "scattergl"
           }
          ],
          "scattermapbox": [
           {
            "marker": {
             "colorbar": {
              "outlinewidth": 0,
              "ticks": ""
             }
            },
            "type": "scattermapbox"
           }
          ],
          "scatterpolar": [
           {
            "marker": {
             "colorbar": {
              "outlinewidth": 0,
              "ticks": ""
             }
            },
            "type": "scatterpolar"
           }
          ],
          "scatterpolargl": [
           {
            "marker": {
             "colorbar": {
              "outlinewidth": 0,
              "ticks": ""
             }
            },
            "type": "scatterpolargl"
           }
          ],
          "scatterternary": [
           {
            "marker": {
             "colorbar": {
              "outlinewidth": 0,
              "ticks": ""
             }
            },
            "type": "scatterternary"
           }
          ],
          "surface": [
           {
            "colorbar": {
             "outlinewidth": 0,
             "ticks": ""
            },
            "colorscale": [
             [
              0,
              "#0d0887"
             ],
             [
              0.1111111111111111,
              "#46039f"
             ],
             [
              0.2222222222222222,
              "#7201a8"
             ],
             [
              0.3333333333333333,
              "#9c179e"
             ],
             [
              0.4444444444444444,
              "#bd3786"
             ],
             [
              0.5555555555555556,
              "#d8576b"
             ],
             [
              0.6666666666666666,
              "#ed7953"
             ],
             [
              0.7777777777777778,
              "#fb9f3a"
             ],
             [
              0.8888888888888888,
              "#fdca26"
             ],
             [
              1,
              "#f0f921"
             ]
            ],
            "type": "surface"
           }
          ],
          "table": [
           {
            "cells": {
             "fill": {
              "color": "#EBF0F8"
             },
             "line": {
              "color": "white"
             }
            },
            "header": {
             "fill": {
              "color": "#C8D4E3"
             },
             "line": {
              "color": "white"
             }
            },
            "type": "table"
           }
          ]
         },
         "layout": {
          "annotationdefaults": {
           "arrowcolor": "#2a3f5f",
           "arrowhead": 0,
           "arrowwidth": 1
          },
          "autotypenumbers": "strict",
          "coloraxis": {
           "colorbar": {
            "outlinewidth": 0,
            "ticks": ""
           }
          },
          "colorscale": {
           "diverging": [
            [
             0,
             "#8e0152"
            ],
            [
             0.1,
             "#c51b7d"
            ],
            [
             0.2,
             "#de77ae"
            ],
            [
             0.3,
             "#f1b6da"
            ],
            [
             0.4,
             "#fde0ef"
            ],
            [
             0.5,
             "#f7f7f7"
            ],
            [
             0.6,
             "#e6f5d0"
            ],
            [
             0.7,
             "#b8e186"
            ],
            [
             0.8,
             "#7fbc41"
            ],
            [
             0.9,
             "#4d9221"
            ],
            [
             1,
             "#276419"
            ]
           ],
           "sequential": [
            [
             0,
             "#0d0887"
            ],
            [
             0.1111111111111111,
             "#46039f"
            ],
            [
             0.2222222222222222,
             "#7201a8"
            ],
            [
             0.3333333333333333,
             "#9c179e"
            ],
            [
             0.4444444444444444,
             "#bd3786"
            ],
            [
             0.5555555555555556,
             "#d8576b"
            ],
            [
             0.6666666666666666,
             "#ed7953"
            ],
            [
             0.7777777777777778,
             "#fb9f3a"
            ],
            [
             0.8888888888888888,
             "#fdca26"
            ],
            [
             1,
             "#f0f921"
            ]
           ],
           "sequentialminus": [
            [
             0,
             "#0d0887"
            ],
            [
             0.1111111111111111,
             "#46039f"
            ],
            [
             0.2222222222222222,
             "#7201a8"
            ],
            [
             0.3333333333333333,
             "#9c179e"
            ],
            [
             0.4444444444444444,
             "#bd3786"
            ],
            [
             0.5555555555555556,
             "#d8576b"
            ],
            [
             0.6666666666666666,
             "#ed7953"
            ],
            [
             0.7777777777777778,
             "#fb9f3a"
            ],
            [
             0.8888888888888888,
             "#fdca26"
            ],
            [
             1,
             "#f0f921"
            ]
           ]
          },
          "colorway": [
           "#636efa",
           "#EF553B",
           "#00cc96",
           "#ab63fa",
           "#FFA15A",
           "#19d3f3",
           "#FF6692",
           "#B6E880",
           "#FF97FF",
           "#FECB52"
          ],
          "font": {
           "color": "#2a3f5f"
          },
          "geo": {
           "bgcolor": "white",
           "lakecolor": "white",
           "landcolor": "#E5ECF6",
           "showlakes": true,
           "showland": true,
           "subunitcolor": "white"
          },
          "hoverlabel": {
           "align": "left"
          },
          "hovermode": "closest",
          "mapbox": {
           "style": "light"
          },
          "paper_bgcolor": "white",
          "plot_bgcolor": "#E5ECF6",
          "polar": {
           "angularaxis": {
            "gridcolor": "white",
            "linecolor": "white",
            "ticks": ""
           },
           "bgcolor": "#E5ECF6",
           "radialaxis": {
            "gridcolor": "white",
            "linecolor": "white",
            "ticks": ""
           }
          },
          "scene": {
           "xaxis": {
            "backgroundcolor": "#E5ECF6",
            "gridcolor": "white",
            "gridwidth": 2,
            "linecolor": "white",
            "showbackground": true,
            "ticks": "",
            "zerolinecolor": "white"
           },
           "yaxis": {
            "backgroundcolor": "#E5ECF6",
            "gridcolor": "white",
            "gridwidth": 2,
            "linecolor": "white",
            "showbackground": true,
            "ticks": "",
            "zerolinecolor": "white"
           },
           "zaxis": {
            "backgroundcolor": "#E5ECF6",
            "gridcolor": "white",
            "gridwidth": 2,
            "linecolor": "white",
            "showbackground": true,
            "ticks": "",
            "zerolinecolor": "white"
           }
          },
          "shapedefaults": {
           "line": {
            "color": "#2a3f5f"
           }
          },
          "ternary": {
           "aaxis": {
            "gridcolor": "white",
            "linecolor": "white",
            "ticks": ""
           },
           "baxis": {
            "gridcolor": "white",
            "linecolor": "white",
            "ticks": ""
           },
           "bgcolor": "#E5ECF6",
           "caxis": {
            "gridcolor": "white",
            "linecolor": "white",
            "ticks": ""
           }
          },
          "title": {
           "x": 0.05
          },
          "xaxis": {
           "automargin": true,
           "gridcolor": "white",
           "linecolor": "white",
           "ticks": "",
           "title": {
            "standoff": 15
           },
           "zerolinecolor": "white",
           "zerolinewidth": 2
          },
          "yaxis": {
           "automargin": true,
           "gridcolor": "white",
           "linecolor": "white",
           "ticks": "",
           "title": {
            "standoff": 15
           },
           "zerolinecolor": "white",
           "zerolinewidth": 2
          }
         }
        },
        "xaxis": {
         "anchor": "y",
         "domain": [
          0,
          1
         ],
         "title": {
          "text": "created_dt_week"
         }
        },
        "yaxis": {
         "anchor": "x",
         "domain": [
          0,
          1
         ],
         "title": {
          "text": "user_id"
         }
        }
       }
      }
     },
     "metadata": {},
     "output_type": "display_data"
    }
   ],
   "source": [
    "fig = px.bar(\n",
    "    df_scale.groupby(['created_dt_week'], as_index=False)['user_id'].nunique(), \n",
    "    x='created_dt_week', \n",
    "    y='user_id',\n",
    "    text_auto=True\n",
    "    )\n",
    "fig.show()"
   ]
  },
  {
   "cell_type": "code",
   "execution_count": null,
   "id": "be81da35",
   "metadata": {},
   "outputs": [],
   "source": []
  },
  {
   "cell_type": "code",
   "execution_count": null,
   "id": "003b95ff",
   "metadata": {},
   "outputs": [],
   "source": []
  },
  {
   "cell_type": "markdown",
   "id": "bf0848b5",
   "metadata": {},
   "source": [
    "### Comparing the exp cities"
   ]
  },
  {
   "cell_type": "code",
   "execution_count": 70,
   "id": "b0cafd12",
   "metadata": {},
   "outputs": [
    {
     "data": {
      "text/html": [
       "<div>\n",
       "<style scoped>\n",
       "    .dataframe tbody tr th:only-of-type {\n",
       "        vertical-align: middle;\n",
       "    }\n",
       "\n",
       "    .dataframe tbody tr th {\n",
       "        vertical-align: top;\n",
       "    }\n",
       "\n",
       "    .dataframe thead th {\n",
       "        text-align: right;\n",
       "    }\n",
       "</style>\n",
       "<table border=\"1\" class=\"dataframe\">\n",
       "  <thead>\n",
       "    <tr style=\"text-align: right;\">\n",
       "      <th></th>\n",
       "      <th>metric_date_utc</th>\n",
       "      <th>city_id</th>\n",
       "      <th>segment</th>\n",
       "      <th>city_name</th>\n",
       "      <th>country_name</th>\n",
       "      <th>users</th>\n",
       "      <th>appeals</th>\n",
       "      <th>reviews</th>\n",
       "      <th>support</th>\n",
       "    </tr>\n",
       "  </thead>\n",
       "  <tbody>\n",
       "    <tr>\n",
       "      <th>0</th>\n",
       "      <td>2025-06-30</td>\n",
       "      <td>4257</td>\n",
       "      <td>treatment</td>\n",
       "      <td>Trujillo</td>\n",
       "      <td>Peru</td>\n",
       "      <td>71446</td>\n",
       "      <td>251</td>\n",
       "      <td>131</td>\n",
       "      <td>10</td>\n",
       "    </tr>\n",
       "    <tr>\n",
       "      <th>1</th>\n",
       "      <td>2025-05-20</td>\n",
       "      <td>4197</td>\n",
       "      <td>treatment</td>\n",
       "      <td>Bogota</td>\n",
       "      <td>Colombia</td>\n",
       "      <td>115832</td>\n",
       "      <td>345</td>\n",
       "      <td>153</td>\n",
       "      <td>56</td>\n",
       "    </tr>\n",
       "    <tr>\n",
       "      <th>2</th>\n",
       "      <td>2025-06-17</td>\n",
       "      <td>4225</td>\n",
       "      <td>treatment</td>\n",
       "      <td>Guadalajara</td>\n",
       "      <td>Mexico</td>\n",
       "      <td>24004</td>\n",
       "      <td>81</td>\n",
       "      <td>57</td>\n",
       "      <td>12</td>\n",
       "    </tr>\n",
       "    <tr>\n",
       "      <th>3</th>\n",
       "      <td>2025-06-04</td>\n",
       "      <td>4242</td>\n",
       "      <td>treatment</td>\n",
       "      <td>Medellin</td>\n",
       "      <td>Colombia</td>\n",
       "      <td>151398</td>\n",
       "      <td>614</td>\n",
       "      <td>269</td>\n",
       "      <td>44</td>\n",
       "    </tr>\n",
       "    <tr>\n",
       "      <th>4</th>\n",
       "      <td>2025-06-07</td>\n",
       "      <td>4199</td>\n",
       "      <td>treatment</td>\n",
       "      <td>Lima</td>\n",
       "      <td>Peru</td>\n",
       "      <td>423925</td>\n",
       "      <td>1802</td>\n",
       "      <td>1118</td>\n",
       "      <td>116</td>\n",
       "    </tr>\n",
       "  </tbody>\n",
       "</table>\n",
       "</div>"
      ],
      "text/plain": [
       "  metric_date_utc  city_id    segment    city_name country_name   users  appeals  reviews  support\n",
       "0      2025-06-30     4257  treatment     Trujillo         Peru   71446      251      131       10\n",
       "1      2025-05-20     4197  treatment       Bogota     Colombia  115832      345      153       56\n",
       "2      2025-06-17     4225  treatment  Guadalajara       Mexico   24004       81       57       12\n",
       "3      2025-06-04     4242  treatment     Medellin     Colombia  151398      614      269       44\n",
       "4      2025-06-07     4199  treatment         Lima         Peru  423925     1802     1118      116"
      ]
     },
     "execution_count": 70,
     "metadata": {},
     "output_type": "execute_result"
    }
   ],
   "source": [
    "df_proxy = read_bq(\"\"\"\n",
    "WITH users AS (SELECT DISTINCT user_id,\n",
    "                               metric_date_utc,\n",
    "                               t1.city_id,\n",
    "                               t2.city_name,\n",
    "                               t1.country_id,\n",
    "                               t2.country_name\n",
    "               FROM indriver-bi.incity.tbl_incity_growth_metrics_detail t1\n",
    "                        JOIN indriver-e6e40.heap.vw_macroregion_mapping t2\n",
    "                             ON t1.city_id = t2.city_id\n",
    "               WHERE user_type = 'pass'\n",
    "                 AND orders_count > 0\n",
    "                 AND metric_date_utc >= '2025-05-01'\n",
    "                 AND t2.macroregion_name IN ('Latin America', 'Brazil', 'Africa')\n",
    "               QUALIFY ROW_NUMBER() OVER (PARTITION BY user_id, metric_date_utc ORDER BY city_id) = 1),\n",
    "     appeals AS (SELECT target_id              user_id,\n",
    "                        DATE(t1.created_at) AS date,\n",
    "                        COUNT(DISTINCT uuid)   cnt_appeals\n",
    "                 FROM indriver-e6e40.ods_moderation_feed_red_pill.appeal t1\n",
    "                          JOIN indriver-e6e40.heap.vw_macroregion_mapping t2\n",
    "                               ON t1.city_id = t2.city_id\n",
    "                          LEFT JOIN\n",
    "                      indriver-e6e40.ods_ds_moderation_system_cdc.violation_review_v3 t3\n",
    "                      ON t1.uuid = JSON_EXTRACT_SCALAR(t3.payload, '$.uuid')\n",
    "                 WHERE DATE(t1.created_at) BETWEEN '2025-05-01' AND '2025-07-01'\n",
    "                   AND DATE(t3.export_raw_dt) BETWEEN '2025-05-01' AND '2025-07-01'\n",
    "                   --AND t1.initiator_id = 1 --жалоба от пассажира водиле\n",
    "                   AND t1.initiator_id = 0 --жалоба от водилы пассажиру\n",
    "                   AND t2.macroregion_name IN ('Latin America', 'Brazil', 'Africa')\n",
    "                   AND JSON_EXTRACT_SCALAR(t3.model, '$.result.top_category[0]') NOT IN ('CATEGORY_TEXT_NOT_RECOGNISED',\n",
    "                                                                                         'CATEGORY_LOCATION_DISPUTE',\n",
    "                                                                                         'CATEGORY_RIDE_REFUSAL',\n",
    "                                                                                         'CATEGORY_CANCELLED_BY_DRIVER_REQUEST',\n",
    "                                                                                         'CATEGORY_BARGAINING_AFTER_ACCEPT',\n",
    "                                                                                         'CATEGORY_PASSENGER_WAS_LATE',\n",
    "                                                                                         'CATEGORY_DRIVER_WAS_LATE',\n",
    "                                                                                         'CATEGORY_APP_PROBLEM',\n",
    "                                                                                         'CATEGORY_POSITIVE_REVIEW',\n",
    "                                                                                         'CATEGORY_DIFFERENT_CAR',\n",
    "                                                                                         'CATEGORY_DRIVER_REPORTED_CAR_MALFUNCTION',\n",
    "                                                                                         'CATEGORY_STRANGER_IN_CAR')\n",
    "                 GROUP BY 1, 2),\n",
    "     reviews AS (SELECT target_id          AS  user_id,\n",
    "                        DATE(r.created_at) AS  date,\n",
    "                        COUNT(DISTINCT r.uuid) cnt_reviews\n",
    "                 FROM indriver-e6e40.ods_moderation_feed_red_pill.review r\n",
    "                          JOIN indriver-e6e40.heap.vw_macroregion_mapping t2\n",
    "                               ON r.city_id = t2.city_id\n",
    "                          LEFT JOIN\n",
    "                      indriver-e6e40.ods_ds_moderation_system_cdc.violation_review_v3 src\n",
    "                      ON JSON_EXTRACT_SCALAR(src.payload, '$.uuid') = r.uuid\n",
    "                 WHERE DATE(r.created_at) BETWEEN '2025-05-01' AND '2025-07-01'\n",
    "                   AND DATE(src.export_raw_dt) BETWEEN '2025-05-01' AND '2025-07-01'\n",
    "                   AND rating < 5\n",
    "                   AND r.visibility_id = 1 --жалобы от водителя на пассажира\n",
    "                   AND t2.macroregion_name IN ('Latin America', 'Brazil', 'Africa')\n",
    "                   AND\n",
    "                     JSON_EXTRACT_SCALAR(src.model, '$.result.top_category[0]') NOT IN ('CATEGORY_TEXT_NOT_RECOGNISED',\n",
    "                                                                                        'CATEGORY_DIRTY_CABIN',\n",
    "                                                                                        'CATEGORY_SUSPICIOUS_AREA', --УДАЛИТЬ?\n",
    "                                                                                        'CATEGORY_ASSAULT', --УДАЛИТЬ?\n",
    "                                                                                        'CATEGORY_BARGAINING_AFTER_ACCEPT',\n",
    "                                                                                        'CATEGORY_POSITIVE_REVIEW',\n",
    "                                                                                        'CATEGORY_DIFFERENT_CAR',\n",
    "                                                                                        'CATEGORY_PASSENGER_REPORTED_CAR_MALFUNCTION',\n",
    "                                                                                        'CATEGORY_NO_CHANGE',\n",
    "                                                                                        'CATEGORY_DANGEROUS_DRIVING')\n",
    "                 GROUP BY 1, 2),\n",
    "     orders_raw AS (SELECT DISTINCT order_uuid,\n",
    "                                    created_date_order_part AS date,\n",
    "                                    user_id\n",
    "                    FROM indriver-e6e40.emart.incity_detail t1\n",
    "                             JOIN indriver-e6e40.heap.vw_macroregion_mapping t2\n",
    "                                  ON t1.city_id = t2.city_id\n",
    "                    WHERE created_date_order_part BETWEEN '2025-05-01' AND '2025-07-01'\n",
    "                      AND t2.macroregion_name IN ('Latin America', 'Brazil', 'Africa')),\n",
    "     support_raw AS (SELECT DISTINCT t1.id                       support_id,\n",
    "                                     DATE(t1.created_dt_part) AS date,\n",
    "                                     LOWER(t4.order_id)          order_uuid\n",
    "                     FROM indriver-e6e40.ods_customer_support.request t1\n",
    "                              JOIN\n",
    "                          indriver-bi.customer_service.tbl_customer_support_chats_just_detail t2\n",
    "                          ON t1.id = t2.request_id\n",
    "                              JOIN\n",
    "                          dwh-storage-327422.ods_customer_support.chat_request_entry t4 ON t1.id = t4.request_id\n",
    "                              JOIN indriver-e6e40.heap.vw_macroregion_mapping geo\n",
    "                                   ON t4.city_id = geo.city_id\n",
    "                              JOIN\n",
    "                          (SELECT DISTINCT country_id, country_name, city_id FROM indriver-bi.heap.vw_geo_mapping) t3\n",
    "                          ON t2.country_name = t3.country_name\n",
    "                     WHERE DATE(t1.created_dt_part) BETWEEN '2025-05-01' AND '2025-07-01'\n",
    "                       AND t4.created_dt_part BETWEEN '2025-05-01' AND '2025-07-01'\n",
    "                       AND contact_category IS NOT NULL\n",
    "                       AND contact_reason IS NOT NULL\n",
    "                       AND who_contacts = 'Driver'\n",
    "                       AND contact_category IN ('Complaints against Passenger', 'Safety')\n",
    "                       AND geo.macroregion_name IN ('Latin America', 'Brazil', 'Africa')),\n",
    "     support AS (SELECT orders_raw.user_id,\n",
    "                        orders_raw.date,\n",
    "                        COUNT(DISTINCT support_id) cnt_support\n",
    "                 FROM orders_raw\n",
    "                          JOIN\n",
    "                      support_raw ON orders_raw.order_uuid = support_raw.order_uuid\n",
    "                 GROUP BY 1, 2)\n",
    "SELECT t1.metric_date_utc,\n",
    "       t1.city_id,\n",
    "       CASE\n",
    "           WHEN city_id IN\n",
    "                (4226, 4143, 5495, 22796, 4516, 4261, 4231, 4263, 23089, 4200, 5483, 4404, 4228, 19943, 5568, 4257,\n",
    "                 4196, 4267, 4242, 4225, 5513, 5573, 4272, 22654, 4155, 6083, 4266, 6117, 4397, 4227, 23233, 4271, 4599,\n",
    "                 7236, 4269, 22737, 5368, 4396, 4230, 4385, 4199, 4255, 5536, 5548, 5589, 4264, 4229, 4726, 23130, 5291,\n",
    "                 5600, 4198, 22817, 42833, 5535, 4234, 4197, 6587, 4243) THEN 'treatment'\n",
    "           ELSE 'control'\n",
    "           END                                  segment,\n",
    "       t1.city_name,\n",
    "       t1.country_name,\n",
    "       COUNT(DISTINCT t1.user_id)            AS users,\n",
    "       COALESCE(SUM(appeals.cnt_appeals), 0) AS appeals,\n",
    "       COALESCE(SUM(reviews.cnt_reviews), 0) AS reviews,\n",
    "       COALESCE(SUM(support.cnt_support), 0) AS support\n",
    "FROM users t1\n",
    "         LEFT JOIN\n",
    "     appeals ON t1.user_id = appeals.user_id AND t1.metric_date_utc = appeals.date\n",
    "         LEFT JOIN\n",
    "     reviews ON t1.user_id = reviews.user_id AND t1.metric_date_utc = reviews.date\n",
    "         LEFT JOIN\n",
    "     support ON t1.user_id = support.user_id AND t1.metric_date_utc = support.date\n",
    "WHERE city_id IN\n",
    "      (4163, 4545, 4232, 4144, 4825, 4235, 5543, 19549, 23089, 4524, 4194, 4746, 4240, 4236, 4233, 21828, 4515, 5504,\n",
    "       4532, 4195, 4258, 4226, 4143, 5495, 22796, 4516, 4261, 4231, 4263, 23089, 4200, 5483, 4404, 4228, 19943, 5568,\n",
    "       4257, 4196, 4267, 4242, 4225, 5513, 5573, 4272, 22654, 4155, 6083, 4266, 6117, 4397, 4227, 23233, 4271, 4599,\n",
    "       7236, 4269, 22737, 5368, 4396, 4230, 4385, 4199, 4255, 5536, 5548, 5589, 4264, 4229, 4726, 23130, 5291, 5600,\n",
    "       4198, 22817, 42833, 5535, 4234, 4197, 6587, 4243)\n",
    "GROUP BY 1, 2, 3, 4, 5\n",
    "\"\"\")\n",
    "\n",
    "df_proxy.head()"
   ]
  },
  {
   "cell_type": "code",
   "execution_count": 73,
   "id": "17ec194a",
   "metadata": {},
   "outputs": [
    {
     "data": {
      "text/html": [
       "<div>\n",
       "<style scoped>\n",
       "    .dataframe tbody tr th:only-of-type {\n",
       "        vertical-align: middle;\n",
       "    }\n",
       "\n",
       "    .dataframe tbody tr th {\n",
       "        vertical-align: top;\n",
       "    }\n",
       "\n",
       "    .dataframe thead th {\n",
       "        text-align: right;\n",
       "    }\n",
       "</style>\n",
       "<table border=\"1\" class=\"dataframe\">\n",
       "  <thead>\n",
       "    <tr style=\"text-align: right;\">\n",
       "      <th></th>\n",
       "      <th>metric_date_utc</th>\n",
       "      <th>segment</th>\n",
       "      <th>users</th>\n",
       "      <th>appeals</th>\n",
       "      <th>reviews</th>\n",
       "      <th>support</th>\n",
       "      <th>composite</th>\n",
       "      <th>composite_rel</th>\n",
       "      <th>appeals_rel</th>\n",
       "      <th>reviews_rel</th>\n",
       "      <th>support_rel</th>\n",
       "    </tr>\n",
       "  </thead>\n",
       "  <tbody>\n",
       "    <tr>\n",
       "      <th>0</th>\n",
       "      <td>2025-05-01</td>\n",
       "      <td>control</td>\n",
       "      <td>411415</td>\n",
       "      <td>2095</td>\n",
       "      <td>1130</td>\n",
       "      <td>228</td>\n",
       "      <td>3453</td>\n",
       "      <td>0.84</td>\n",
       "      <td>0.51</td>\n",
       "      <td>0.27</td>\n",
       "      <td>0.06</td>\n",
       "    </tr>\n",
       "    <tr>\n",
       "      <th>1</th>\n",
       "      <td>2025-05-01</td>\n",
       "      <td>treatment</td>\n",
       "      <td>1579410</td>\n",
       "      <td>7445</td>\n",
       "      <td>4149</td>\n",
       "      <td>670</td>\n",
       "      <td>12264</td>\n",
       "      <td>0.78</td>\n",
       "      <td>0.47</td>\n",
       "      <td>0.26</td>\n",
       "      <td>0.04</td>\n",
       "    </tr>\n",
       "    <tr>\n",
       "      <th>2</th>\n",
       "      <td>2025-05-02</td>\n",
       "      <td>control</td>\n",
       "      <td>440320</td>\n",
       "      <td>2065</td>\n",
       "      <td>1151</td>\n",
       "      <td>259</td>\n",
       "      <td>3475</td>\n",
       "      <td>0.79</td>\n",
       "      <td>0.47</td>\n",
       "      <td>0.26</td>\n",
       "      <td>0.06</td>\n",
       "    </tr>\n",
       "    <tr>\n",
       "      <th>3</th>\n",
       "      <td>2025-05-02</td>\n",
       "      <td>treatment</td>\n",
       "      <td>1643242</td>\n",
       "      <td>7086</td>\n",
       "      <td>4052</td>\n",
       "      <td>659</td>\n",
       "      <td>11797</td>\n",
       "      <td>0.72</td>\n",
       "      <td>0.43</td>\n",
       "      <td>0.25</td>\n",
       "      <td>0.04</td>\n",
       "    </tr>\n",
       "    <tr>\n",
       "      <th>4</th>\n",
       "      <td>2025-05-03</td>\n",
       "      <td>control</td>\n",
       "      <td>455004</td>\n",
       "      <td>2122</td>\n",
       "      <td>1271</td>\n",
       "      <td>270</td>\n",
       "      <td>3663</td>\n",
       "      <td>0.81</td>\n",
       "      <td>0.47</td>\n",
       "      <td>0.28</td>\n",
       "      <td>0.06</td>\n",
       "    </tr>\n",
       "  </tbody>\n",
       "</table>\n",
       "</div>"
      ],
      "text/plain": [
       "  metric_date_utc    segment    users  appeals  reviews  support  composite  composite_rel  appeals_rel  reviews_rel  support_rel\n",
       "0      2025-05-01    control   411415     2095     1130      228       3453           0.84         0.51         0.27         0.06\n",
       "1      2025-05-01  treatment  1579410     7445     4149      670      12264           0.78         0.47         0.26         0.04\n",
       "2      2025-05-02    control   440320     2065     1151      259       3475           0.79         0.47         0.26         0.06\n",
       "3      2025-05-02  treatment  1643242     7086     4052      659      11797           0.72         0.43         0.25         0.04\n",
       "4      2025-05-03    control   455004     2122     1271      270       3663           0.81         0.47         0.28         0.06"
      ]
     },
     "execution_count": 73,
     "metadata": {},
     "output_type": "execute_result"
    }
   ],
   "source": [
    "df_proxy['metric_date_utc'] = pd.to_datetime(df_proxy['metric_date_utc'])\n",
    "\n",
    "df_proxy_data = df_proxy.groupby(['metric_date_utc', 'segment'], as_index=False)[['users', 'appeals', 'reviews', 'support']].sum()\n",
    "\n",
    "df_proxy_data['composite'] = df_proxy_data['appeals']+df_proxy_data['reviews']+df_proxy_data['support']\n",
    "df_proxy_data['composite_rel'] = df_proxy_data['composite']/df_proxy_data['users']*100\n",
    "df_proxy_data['appeals_rel'] = df_proxy_data['appeals']/df_proxy_data['users']*100\n",
    "df_proxy_data['reviews_rel'] = df_proxy_data['reviews']/df_proxy_data['users']*100\n",
    "df_proxy_data['support_rel'] = df_proxy_data['support']/df_proxy_data['users']*100\n",
    "\n",
    "df_proxy_data.head()"
   ]
  },
  {
   "cell_type": "code",
   "execution_count": 74,
   "id": "ac3fcee7",
   "metadata": {},
   "outputs": [
    {
     "name": "stdout",
     "output_type": "stream",
     "text": [
      "composite_rel\n",
      "1.2356807144123687 0.21657726896230034\n",
      "appeals_rel\n",
      "1.1824918908473672 0.23701058124907504\n",
      "reviews_rel\n",
      "0.7998707131330633 0.42378570766696444\n",
      "support_rel\n",
      "3.9624770534737754 7.417613829954162e-05\n"
     ]
    }
   ],
   "source": [
    "from statsmodels.stats.weightstats import ztest as ztest\n",
    "\n",
    "metric = ['composite_rel', 'appeals_rel', 'reviews_rel', 'support_rel']\n",
    "\n",
    "for i in metric:\n",
    "    print(i)\n",
    "    z_stat, p_value = ztest(\n",
    "        df_proxy_data.groupby(['metric_date_utc','segment'], as_index=False)[['composite_rel', 'appeals_rel',\t'reviews_rel',\t'support_rel']].mean().query(\"segment == 'control'\")[i], \n",
    "        df_proxy_data.groupby(['metric_date_utc','segment'], as_index=False)[['composite_rel', 'appeals_rel',\t'reviews_rel',\t'support_rel']].mean().query(\"segment == 'treatment'\")[i],\n",
    "                            value=0)\n",
    "\n",
    "    print(z_stat, p_value)"
   ]
  },
  {
   "cell_type": "code",
   "execution_count": 75,
   "id": "7d873efb",
   "metadata": {},
   "outputs": [
    {
     "data": {
      "application/vnd.plotly.v1+json": {
       "config": {
        "plotlyServerURL": "https://plot.ly"
       },
       "data": [
        {
         "hovertemplate": "segment=control<br>metric_date_utc=%{x}<br>support_rel=%{y}<extra></extra>",
         "legendgroup": "control",
         "line": {
          "color": "#636efa",
          "dash": "solid"
         },
         "marker": {
          "symbol": "circle"
         },
         "mode": "lines",
         "name": "control",
         "orientation": "v",
         "showlegend": true,
         "type": "scatter",
         "x": [
          "2025-05-01T00:00:00",
          "2025-05-02T00:00:00",
          "2025-05-03T00:00:00",
          "2025-05-04T00:00:00",
          "2025-05-05T00:00:00",
          "2025-05-06T00:00:00",
          "2025-05-07T00:00:00",
          "2025-05-08T00:00:00",
          "2025-05-09T00:00:00",
          "2025-05-10T00:00:00",
          "2025-05-11T00:00:00",
          "2025-05-12T00:00:00",
          "2025-05-13T00:00:00",
          "2025-05-14T00:00:00",
          "2025-05-15T00:00:00",
          "2025-05-16T00:00:00",
          "2025-05-17T00:00:00",
          "2025-05-18T00:00:00",
          "2025-05-19T00:00:00",
          "2025-05-20T00:00:00",
          "2025-05-21T00:00:00",
          "2025-05-22T00:00:00",
          "2025-05-23T00:00:00",
          "2025-05-24T00:00:00",
          "2025-05-25T00:00:00",
          "2025-05-26T00:00:00",
          "2025-05-27T00:00:00",
          "2025-05-28T00:00:00",
          "2025-05-29T00:00:00",
          "2025-05-30T00:00:00",
          "2025-05-31T00:00:00",
          "2025-06-01T00:00:00",
          "2025-06-02T00:00:00",
          "2025-06-03T00:00:00",
          "2025-06-04T00:00:00",
          "2025-06-05T00:00:00",
          "2025-06-06T00:00:00",
          "2025-06-07T00:00:00",
          "2025-06-08T00:00:00",
          "2025-06-09T00:00:00",
          "2025-06-10T00:00:00",
          "2025-06-11T00:00:00",
          "2025-06-12T00:00:00",
          "2025-06-13T00:00:00",
          "2025-06-14T00:00:00",
          "2025-06-15T00:00:00",
          "2025-06-16T00:00:00",
          "2025-06-17T00:00:00",
          "2025-06-18T00:00:00",
          "2025-06-19T00:00:00",
          "2025-06-20T00:00:00",
          "2025-06-21T00:00:00",
          "2025-06-22T00:00:00",
          "2025-06-23T00:00:00",
          "2025-06-24T00:00:00",
          "2025-06-25T00:00:00",
          "2025-06-26T00:00:00",
          "2025-06-27T00:00:00",
          "2025-06-28T00:00:00",
          "2025-06-29T00:00:00",
          "2025-06-30T00:00:00",
          "2025-07-01T00:00:00"
         ],
         "xaxis": "x",
         "y": [
          0.0554184947072907,
          0.05882085755813954,
          0.059340137669119386,
          0.0618460011916116,
          0.04940300740807597,
          0.05439946252328272,
          0.05534846362962352,
          0.05179037844325094,
          0.047626431561925434,
          0.05632590166704553,
          0.056134210292785314,
          0.047647773668703715,
          0.051480997995918286,
          0.05352016737215978,
          0.062175847625675816,
          0.0516846020511339,
          0.0630152592910992,
          0.05782642471217715,
          0.052831577693815024,
          0.04822523481096474,
          0.04879953152449736,
          0.04839136516577823,
          0.05280348636689734,
          0.054524940966265846,
          0.0466100871997048,
          0.04837118520011456,
          0.04817683975306807,
          0.05435767349157456,
          0.047605201061209995,
          0.058528031311366864,
          0.04865217649269229,
          0.042973164498381275,
          0.04626210490502784,
          0.053093367774054386,
          0.05084780409030979,
          0.05063403694061739,
          0.0425026846775561,
          0.045871559633027525,
          0.045556999399081484,
          0.0431808268361167,
          0.051430257177392615,
          0.04960330688712581,
          0.05098086136847197,
          0.05014999407318252,
          0.05678522113554101,
          0.048589493378925465,
          0.04555240978375883,
          0.041911148365465216,
          0.050048516418977576,
          0.04934021172433075,
          0.04908256115663293,
          0.05278680644313513,
          0.044142661686943016,
          0.049983029018054334,
          0.04493047810842687,
          0.06078447406438248,
          0.057495894101080976,
          0.05583621377293273,
          0.05455383836044067,
          0.05027090431771211,
          0.047913878100940034,
          0.03259617683063751
         ],
         "yaxis": "y"
        },
        {
         "hovertemplate": "segment=treatment<br>metric_date_utc=%{x}<br>support_rel=%{y}<extra></extra>",
         "legendgroup": "treatment",
         "line": {
          "color": "#EF553B",
          "dash": "solid"
         },
         "marker": {
          "symbol": "circle"
         },
         "mode": "lines",
         "name": "treatment",
         "orientation": "v",
         "showlegend": true,
         "type": "scatter",
         "x": [
          "2025-05-01T00:00:00",
          "2025-05-02T00:00:00",
          "2025-05-03T00:00:00",
          "2025-05-04T00:00:00",
          "2025-05-05T00:00:00",
          "2025-05-06T00:00:00",
          "2025-05-07T00:00:00",
          "2025-05-08T00:00:00",
          "2025-05-09T00:00:00",
          "2025-05-10T00:00:00",
          "2025-05-11T00:00:00",
          "2025-05-12T00:00:00",
          "2025-05-13T00:00:00",
          "2025-05-14T00:00:00",
          "2025-05-15T00:00:00",
          "2025-05-16T00:00:00",
          "2025-05-17T00:00:00",
          "2025-05-18T00:00:00",
          "2025-05-19T00:00:00",
          "2025-05-20T00:00:00",
          "2025-05-21T00:00:00",
          "2025-05-22T00:00:00",
          "2025-05-23T00:00:00",
          "2025-05-24T00:00:00",
          "2025-05-25T00:00:00",
          "2025-05-26T00:00:00",
          "2025-05-27T00:00:00",
          "2025-05-28T00:00:00",
          "2025-05-29T00:00:00",
          "2025-05-30T00:00:00",
          "2025-05-31T00:00:00",
          "2025-06-01T00:00:00",
          "2025-06-02T00:00:00",
          "2025-06-03T00:00:00",
          "2025-06-04T00:00:00",
          "2025-06-05T00:00:00",
          "2025-06-06T00:00:00",
          "2025-06-07T00:00:00",
          "2025-06-08T00:00:00",
          "2025-06-09T00:00:00",
          "2025-06-10T00:00:00",
          "2025-06-11T00:00:00",
          "2025-06-12T00:00:00",
          "2025-06-13T00:00:00",
          "2025-06-14T00:00:00",
          "2025-06-15T00:00:00",
          "2025-06-16T00:00:00",
          "2025-06-17T00:00:00",
          "2025-06-18T00:00:00",
          "2025-06-19T00:00:00",
          "2025-06-20T00:00:00",
          "2025-06-21T00:00:00",
          "2025-06-22T00:00:00",
          "2025-06-23T00:00:00",
          "2025-06-24T00:00:00",
          "2025-06-25T00:00:00",
          "2025-06-26T00:00:00",
          "2025-06-27T00:00:00",
          "2025-06-28T00:00:00",
          "2025-06-29T00:00:00",
          "2025-06-30T00:00:00",
          "2025-07-01T00:00:00"
         ],
         "xaxis": "x",
         "y": [
          0.042420904008458854,
          0.040103648762629,
          0.04089816653757192,
          0.03954466282892254,
          0.04100733461921075,
          0.041536644276370306,
          0.051759400512983854,
          0.04256364860755094,
          0.037330741804678214,
          0.041292018374948176,
          0.03321789795614474,
          0.034014824389357975,
          0.04185553539455593,
          0.04530615886846907,
          0.04340872262458409,
          0.039271787111379325,
          0.04339838831388649,
          0.037050865463618965,
          0.0381341684027419,
          0.03988805563989894,
          0.04227193492155723,
          0.03773802182006872,
          0.0410003565531802,
          0.04099286389532598,
          0.03631475218375143,
          0.03693832399632557,
          0.039540350853722254,
          0.040081001081063265,
          0.03944577951992594,
          0.04497530736775602,
          0.035437360498450275,
          0.03464370284078363,
          0.03123496502439602,
          0.03759271860031125,
          0.03745178610524656,
          0.03814492012495414,
          0.03689790810052436,
          0.040709982087607885,
          0.03708719937445039,
          0.03628257601069162,
          0.037710729920327785,
          0.03794052967897934,
          0.04207179250878821,
          0.03896707093955265,
          0.03597131958369909,
          0.03299998114286792,
          0.0322781281447441,
          0.03231154240097991,
          0.03606381960372838,
          0.039356423378848045,
          0.03936781367711541,
          0.03866154100284366,
          0.038185409895181356,
          0.0371413559116431,
          0.03640732259000425,
          0.04077101713112075,
          0.040808084801741897,
          0.04362094031410848,
          0.03544709276754264,
          0.03663166554566729,
          0.032769489084932,
          0.02337999324152108
         ],
         "yaxis": "y"
        }
       ],
       "layout": {
        "legend": {
         "title": {
          "text": "segment"
         },
         "tracegroupgap": 0
        },
        "margin": {
         "t": 60
        },
        "template": {
         "data": {
          "bar": [
           {
            "error_x": {
             "color": "#2a3f5f"
            },
            "error_y": {
             "color": "#2a3f5f"
            },
            "marker": {
             "line": {
              "color": "#E5ECF6",
              "width": 0.5
             },
             "pattern": {
              "fillmode": "overlay",
              "size": 10,
              "solidity": 0.2
             }
            },
            "type": "bar"
           }
          ],
          "barpolar": [
           {
            "marker": {
             "line": {
              "color": "#E5ECF6",
              "width": 0.5
             },
             "pattern": {
              "fillmode": "overlay",
              "size": 10,
              "solidity": 0.2
             }
            },
            "type": "barpolar"
           }
          ],
          "carpet": [
           {
            "aaxis": {
             "endlinecolor": "#2a3f5f",
             "gridcolor": "white",
             "linecolor": "white",
             "minorgridcolor": "white",
             "startlinecolor": "#2a3f5f"
            },
            "baxis": {
             "endlinecolor": "#2a3f5f",
             "gridcolor": "white",
             "linecolor": "white",
             "minorgridcolor": "white",
             "startlinecolor": "#2a3f5f"
            },
            "type": "carpet"
           }
          ],
          "choropleth": [
           {
            "colorbar": {
             "outlinewidth": 0,
             "ticks": ""
            },
            "type": "choropleth"
           }
          ],
          "contour": [
           {
            "colorbar": {
             "outlinewidth": 0,
             "ticks": ""
            },
            "colorscale": [
             [
              0,
              "#0d0887"
             ],
             [
              0.1111111111111111,
              "#46039f"
             ],
             [
              0.2222222222222222,
              "#7201a8"
             ],
             [
              0.3333333333333333,
              "#9c179e"
             ],
             [
              0.4444444444444444,
              "#bd3786"
             ],
             [
              0.5555555555555556,
              "#d8576b"
             ],
             [
              0.6666666666666666,
              "#ed7953"
             ],
             [
              0.7777777777777778,
              "#fb9f3a"
             ],
             [
              0.8888888888888888,
              "#fdca26"
             ],
             [
              1,
              "#f0f921"
             ]
            ],
            "type": "contour"
           }
          ],
          "contourcarpet": [
           {
            "colorbar": {
             "outlinewidth": 0,
             "ticks": ""
            },
            "type": "contourcarpet"
           }
          ],
          "heatmap": [
           {
            "colorbar": {
             "outlinewidth": 0,
             "ticks": ""
            },
            "colorscale": [
             [
              0,
              "#0d0887"
             ],
             [
              0.1111111111111111,
              "#46039f"
             ],
             [
              0.2222222222222222,
              "#7201a8"
             ],
             [
              0.3333333333333333,
              "#9c179e"
             ],
             [
              0.4444444444444444,
              "#bd3786"
             ],
             [
              0.5555555555555556,
              "#d8576b"
             ],
             [
              0.6666666666666666,
              "#ed7953"
             ],
             [
              0.7777777777777778,
              "#fb9f3a"
             ],
             [
              0.8888888888888888,
              "#fdca26"
             ],
             [
              1,
              "#f0f921"
             ]
            ],
            "type": "heatmap"
           }
          ],
          "heatmapgl": [
           {
            "colorbar": {
             "outlinewidth": 0,
             "ticks": ""
            },
            "colorscale": [
             [
              0,
              "#0d0887"
             ],
             [
              0.1111111111111111,
              "#46039f"
             ],
             [
              0.2222222222222222,
              "#7201a8"
             ],
             [
              0.3333333333333333,
              "#9c179e"
             ],
             [
              0.4444444444444444,
              "#bd3786"
             ],
             [
              0.5555555555555556,
              "#d8576b"
             ],
             [
              0.6666666666666666,
              "#ed7953"
             ],
             [
              0.7777777777777778,
              "#fb9f3a"
             ],
             [
              0.8888888888888888,
              "#fdca26"
             ],
             [
              1,
              "#f0f921"
             ]
            ],
            "type": "heatmapgl"
           }
          ],
          "histogram": [
           {
            "marker": {
             "pattern": {
              "fillmode": "overlay",
              "size": 10,
              "solidity": 0.2
             }
            },
            "type": "histogram"
           }
          ],
          "histogram2d": [
           {
            "colorbar": {
             "outlinewidth": 0,
             "ticks": ""
            },
            "colorscale": [
             [
              0,
              "#0d0887"
             ],
             [
              0.1111111111111111,
              "#46039f"
             ],
             [
              0.2222222222222222,
              "#7201a8"
             ],
             [
              0.3333333333333333,
              "#9c179e"
             ],
             [
              0.4444444444444444,
              "#bd3786"
             ],
             [
              0.5555555555555556,
              "#d8576b"
             ],
             [
              0.6666666666666666,
              "#ed7953"
             ],
             [
              0.7777777777777778,
              "#fb9f3a"
             ],
             [
              0.8888888888888888,
              "#fdca26"
             ],
             [
              1,
              "#f0f921"
             ]
            ],
            "type": "histogram2d"
           }
          ],
          "histogram2dcontour": [
           {
            "colorbar": {
             "outlinewidth": 0,
             "ticks": ""
            },
            "colorscale": [
             [
              0,
              "#0d0887"
             ],
             [
              0.1111111111111111,
              "#46039f"
             ],
             [
              0.2222222222222222,
              "#7201a8"
             ],
             [
              0.3333333333333333,
              "#9c179e"
             ],
             [
              0.4444444444444444,
              "#bd3786"
             ],
             [
              0.5555555555555556,
              "#d8576b"
             ],
             [
              0.6666666666666666,
              "#ed7953"
             ],
             [
              0.7777777777777778,
              "#fb9f3a"
             ],
             [
              0.8888888888888888,
              "#fdca26"
             ],
             [
              1,
              "#f0f921"
             ]
            ],
            "type": "histogram2dcontour"
           }
          ],
          "mesh3d": [
           {
            "colorbar": {
             "outlinewidth": 0,
             "ticks": ""
            },
            "type": "mesh3d"
           }
          ],
          "parcoords": [
           {
            "line": {
             "colorbar": {
              "outlinewidth": 0,
              "ticks": ""
             }
            },
            "type": "parcoords"
           }
          ],
          "pie": [
           {
            "automargin": true,
            "type": "pie"
           }
          ],
          "scatter": [
           {
            "fillpattern": {
             "fillmode": "overlay",
             "size": 10,
             "solidity": 0.2
            },
            "type": "scatter"
           }
          ],
          "scatter3d": [
           {
            "line": {
             "colorbar": {
              "outlinewidth": 0,
              "ticks": ""
             }
            },
            "marker": {
             "colorbar": {
              "outlinewidth": 0,
              "ticks": ""
             }
            },
            "type": "scatter3d"
           }
          ],
          "scattercarpet": [
           {
            "marker": {
             "colorbar": {
              "outlinewidth": 0,
              "ticks": ""
             }
            },
            "type": "scattercarpet"
           }
          ],
          "scattergeo": [
           {
            "marker": {
             "colorbar": {
              "outlinewidth": 0,
              "ticks": ""
             }
            },
            "type": "scattergeo"
           }
          ],
          "scattergl": [
           {
            "marker": {
             "colorbar": {
              "outlinewidth": 0,
              "ticks": ""
             }
            },
            "type": "scattergl"
           }
          ],
          "scattermapbox": [
           {
            "marker": {
             "colorbar": {
              "outlinewidth": 0,
              "ticks": ""
             }
            },
            "type": "scattermapbox"
           }
          ],
          "scatterpolar": [
           {
            "marker": {
             "colorbar": {
              "outlinewidth": 0,
              "ticks": ""
             }
            },
            "type": "scatterpolar"
           }
          ],
          "scatterpolargl": [
           {
            "marker": {
             "colorbar": {
              "outlinewidth": 0,
              "ticks": ""
             }
            },
            "type": "scatterpolargl"
           }
          ],
          "scatterternary": [
           {
            "marker": {
             "colorbar": {
              "outlinewidth": 0,
              "ticks": ""
             }
            },
            "type": "scatterternary"
           }
          ],
          "surface": [
           {
            "colorbar": {
             "outlinewidth": 0,
             "ticks": ""
            },
            "colorscale": [
             [
              0,
              "#0d0887"
             ],
             [
              0.1111111111111111,
              "#46039f"
             ],
             [
              0.2222222222222222,
              "#7201a8"
             ],
             [
              0.3333333333333333,
              "#9c179e"
             ],
             [
              0.4444444444444444,
              "#bd3786"
             ],
             [
              0.5555555555555556,
              "#d8576b"
             ],
             [
              0.6666666666666666,
              "#ed7953"
             ],
             [
              0.7777777777777778,
              "#fb9f3a"
             ],
             [
              0.8888888888888888,
              "#fdca26"
             ],
             [
              1,
              "#f0f921"
             ]
            ],
            "type": "surface"
           }
          ],
          "table": [
           {
            "cells": {
             "fill": {
              "color": "#EBF0F8"
             },
             "line": {
              "color": "white"
             }
            },
            "header": {
             "fill": {
              "color": "#C8D4E3"
             },
             "line": {
              "color": "white"
             }
            },
            "type": "table"
           }
          ]
         },
         "layout": {
          "annotationdefaults": {
           "arrowcolor": "#2a3f5f",
           "arrowhead": 0,
           "arrowwidth": 1
          },
          "autotypenumbers": "strict",
          "coloraxis": {
           "colorbar": {
            "outlinewidth": 0,
            "ticks": ""
           }
          },
          "colorscale": {
           "diverging": [
            [
             0,
             "#8e0152"
            ],
            [
             0.1,
             "#c51b7d"
            ],
            [
             0.2,
             "#de77ae"
            ],
            [
             0.3,
             "#f1b6da"
            ],
            [
             0.4,
             "#fde0ef"
            ],
            [
             0.5,
             "#f7f7f7"
            ],
            [
             0.6,
             "#e6f5d0"
            ],
            [
             0.7,
             "#b8e186"
            ],
            [
             0.8,
             "#7fbc41"
            ],
            [
             0.9,
             "#4d9221"
            ],
            [
             1,
             "#276419"
            ]
           ],
           "sequential": [
            [
             0,
             "#0d0887"
            ],
            [
             0.1111111111111111,
             "#46039f"
            ],
            [
             0.2222222222222222,
             "#7201a8"
            ],
            [
             0.3333333333333333,
             "#9c179e"
            ],
            [
             0.4444444444444444,
             "#bd3786"
            ],
            [
             0.5555555555555556,
             "#d8576b"
            ],
            [
             0.6666666666666666,
             "#ed7953"
            ],
            [
             0.7777777777777778,
             "#fb9f3a"
            ],
            [
             0.8888888888888888,
             "#fdca26"
            ],
            [
             1,
             "#f0f921"
            ]
           ],
           "sequentialminus": [
            [
             0,
             "#0d0887"
            ],
            [
             0.1111111111111111,
             "#46039f"
            ],
            [
             0.2222222222222222,
             "#7201a8"
            ],
            [
             0.3333333333333333,
             "#9c179e"
            ],
            [
             0.4444444444444444,
             "#bd3786"
            ],
            [
             0.5555555555555556,
             "#d8576b"
            ],
            [
             0.6666666666666666,
             "#ed7953"
            ],
            [
             0.7777777777777778,
             "#fb9f3a"
            ],
            [
             0.8888888888888888,
             "#fdca26"
            ],
            [
             1,
             "#f0f921"
            ]
           ]
          },
          "colorway": [
           "#636efa",
           "#EF553B",
           "#00cc96",
           "#ab63fa",
           "#FFA15A",
           "#19d3f3",
           "#FF6692",
           "#B6E880",
           "#FF97FF",
           "#FECB52"
          ],
          "font": {
           "color": "#2a3f5f"
          },
          "geo": {
           "bgcolor": "white",
           "lakecolor": "white",
           "landcolor": "#E5ECF6",
           "showlakes": true,
           "showland": true,
           "subunitcolor": "white"
          },
          "hoverlabel": {
           "align": "left"
          },
          "hovermode": "closest",
          "mapbox": {
           "style": "light"
          },
          "paper_bgcolor": "white",
          "plot_bgcolor": "#E5ECF6",
          "polar": {
           "angularaxis": {
            "gridcolor": "white",
            "linecolor": "white",
            "ticks": ""
           },
           "bgcolor": "#E5ECF6",
           "radialaxis": {
            "gridcolor": "white",
            "linecolor": "white",
            "ticks": ""
           }
          },
          "scene": {
           "xaxis": {
            "backgroundcolor": "#E5ECF6",
            "gridcolor": "white",
            "gridwidth": 2,
            "linecolor": "white",
            "showbackground": true,
            "ticks": "",
            "zerolinecolor": "white"
           },
           "yaxis": {
            "backgroundcolor": "#E5ECF6",
            "gridcolor": "white",
            "gridwidth": 2,
            "linecolor": "white",
            "showbackground": true,
            "ticks": "",
            "zerolinecolor": "white"
           },
           "zaxis": {
            "backgroundcolor": "#E5ECF6",
            "gridcolor": "white",
            "gridwidth": 2,
            "linecolor": "white",
            "showbackground": true,
            "ticks": "",
            "zerolinecolor": "white"
           }
          },
          "shapedefaults": {
           "line": {
            "color": "#2a3f5f"
           }
          },
          "ternary": {
           "aaxis": {
            "gridcolor": "white",
            "linecolor": "white",
            "ticks": ""
           },
           "baxis": {
            "gridcolor": "white",
            "linecolor": "white",
            "ticks": ""
           },
           "bgcolor": "#E5ECF6",
           "caxis": {
            "gridcolor": "white",
            "linecolor": "white",
            "ticks": ""
           }
          },
          "title": {
           "x": 0.05
          },
          "xaxis": {
           "automargin": true,
           "gridcolor": "white",
           "linecolor": "white",
           "ticks": "",
           "title": {
            "standoff": 15
           },
           "zerolinecolor": "white",
           "zerolinewidth": 2
          },
          "yaxis": {
           "automargin": true,
           "gridcolor": "white",
           "linecolor": "white",
           "ticks": "",
           "title": {
            "standoff": 15
           },
           "zerolinecolor": "white",
           "zerolinewidth": 2
          }
         }
        },
        "xaxis": {
         "anchor": "y",
         "domain": [
          0,
          1
         ],
         "title": {
          "text": "metric_date_utc"
         }
        },
        "yaxis": {
         "anchor": "x",
         "domain": [
          0,
          1
         ],
         "title": {
          "text": "support_rel"
         }
        }
       }
      }
     },
     "metadata": {},
     "output_type": "display_data"
    }
   ],
   "source": [
    "fig = px.line(df_proxy_data.query(\"metric_date_utc<='2025-07-01'\"), x=\"metric_date_utc\", y=\"support_rel\", color='segment', )\n",
    "fig.show()"
   ]
  },
  {
   "cell_type": "code",
   "execution_count": 53,
   "id": "55795caa",
   "metadata": {},
   "outputs": [
    {
     "data": {
      "text/html": [
       "<div>\n",
       "<style scoped>\n",
       "    .dataframe tbody tr th:only-of-type {\n",
       "        vertical-align: middle;\n",
       "    }\n",
       "\n",
       "    .dataframe tbody tr th {\n",
       "        vertical-align: top;\n",
       "    }\n",
       "\n",
       "    .dataframe thead th {\n",
       "        text-align: right;\n",
       "    }\n",
       "</style>\n",
       "<table border=\"1\" class=\"dataframe\">\n",
       "  <thead>\n",
       "    <tr style=\"text-align: right;\">\n",
       "      <th></th>\n",
       "      <th>segment</th>\n",
       "      <th>weekly</th>\n",
       "      <th>inc_rate</th>\n",
       "      <th>conf_inc_rate</th>\n",
       "    </tr>\n",
       "  </thead>\n",
       "  <tbody>\n",
       "    <tr>\n",
       "      <th>0</th>\n",
       "      <td>treatment</td>\n",
       "      <td>2025-07-07</td>\n",
       "      <td>34.34</td>\n",
       "      <td>5.03</td>\n",
       "    </tr>\n",
       "    <tr>\n",
       "      <th>1</th>\n",
       "      <td>treatment</td>\n",
       "      <td>2025-07-03</td>\n",
       "      <td>36.33</td>\n",
       "      <td>8.00</td>\n",
       "    </tr>\n",
       "    <tr>\n",
       "      <th>2</th>\n",
       "      <td>treatment</td>\n",
       "      <td>2025-06-04</td>\n",
       "      <td>38.39</td>\n",
       "      <td>12.02</td>\n",
       "    </tr>\n",
       "    <tr>\n",
       "      <th>3</th>\n",
       "      <td>treatment</td>\n",
       "      <td>2025-06-15</td>\n",
       "      <td>50.72</td>\n",
       "      <td>10.59</td>\n",
       "    </tr>\n",
       "    <tr>\n",
       "      <th>4</th>\n",
       "      <td>control</td>\n",
       "      <td>2025-06-24</td>\n",
       "      <td>32.72</td>\n",
       "      <td>6.46</td>\n",
       "    </tr>\n",
       "  </tbody>\n",
       "</table>\n",
       "</div>"
      ],
      "text/plain": [
       "     segment      weekly  inc_rate  conf_inc_rate\n",
       "0  treatment  2025-07-07     34.34           5.03\n",
       "1  treatment  2025-07-03     36.33           8.00\n",
       "2  treatment  2025-06-04     38.39          12.02\n",
       "3  treatment  2025-06-15     50.72          10.59\n",
       "4    control  2025-06-24     32.72           6.46"
      ]
     },
     "execution_count": 53,
     "metadata": {},
     "output_type": "execute_result"
    }
   ],
   "source": [
    "# df_incidents = read_bq(\"\"\"\n",
    "# SELECT redmine_id,\n",
    "#        'driver'                        AS aggressor_mode,\n",
    "#        driver_id                       AS aggressor_id,\n",
    "#        pass_id,\n",
    "#        driver_id,\n",
    "#        city_id,\n",
    "#        city_name,\n",
    "#        country_name,\n",
    "#        incident_date,\n",
    "#        DATE_TRUNC(incident_date, WEEK) AS weekly,\n",
    "#        incident_type,\n",
    "#        incident_level,\n",
    "#        information_status,\n",
    "#        CASE\n",
    "#            WHEN city_id IN\n",
    "#                 (4226, 4143, 5495, 22796, 4516, 4261, 4231, 4263, 23089, 4200, 5483, 4404, 4228, 19943, 5568, 4257,\n",
    "#                  4196, 4267, 4242, 4225, 5513, 5573, 4272, 22654, 4155, 6083, 4266, 6117, 4397, 4227, 23233, 4271, 4599,\n",
    "#                  7236, 4269, 22737, 5368, 4396, 4230, 4385, 4199, 4255, 5536, 5548, 5589, 4264, 4229, 4726, 23130, 5291,\n",
    "#                  5600, 4198, 22817, 42833, 5535, 4234, 4197, 6587, 4243) THEN 'treatment'\n",
    "#            ELSE 'control'\n",
    "#            END                            segment,\n",
    "#        CASE\n",
    "#            WHEN incident_level = 'Green' THEN 1\n",
    "#            WHEN incident_level = 'Yellow' THEN 2\n",
    "#            WHEN incident_level = 'Red' THEN 3\n",
    "#            ELSE 0\n",
    "#            END                            incident_level_digit\n",
    "# FROM indriver-bi.safety.vw_safety_incidents_detail\n",
    "# WHERE aggressor = 'Driver'\n",
    "#   AND incident_date >= '2025-05-31'\n",
    "#   AND city_id IN\n",
    "#       (4163, 4545, 4232, 4144, 4825, 4235, 5543, 19549, 23089, 4524, 4194, 4746, 4240, 4236, 4233, 21828, 4515, 5504,\n",
    "#        4532, 4195, 4258, 4226, 4143, 5495, 22796, 4516, 4261, 4231, 4263, 23089, 4200, 5483, 4404, 4228, 19943, 5568,\n",
    "#        4257, 4196, 4267, 4242, 4225, 5513, 5573, 4272, 22654, 4155, 6083, 4266, 6117, 4397, 4227, 23233, 4271, 4599,\n",
    "#        7236, 4269, 22737, 5368, 4396, 4230, 4385, 4199, 4255, 5536, 5548, 5589, 4264, 4229, 4726, 23130, 5291, 5600,\n",
    "#        4198, 22817, 42833, 5535, 4234, 4197, 6587, 4243)\n",
    "# UNION\n",
    "# DISTINCT\n",
    "# SELECT redmine_id,\n",
    "#        'pax'                           AS aggressor_mode,\n",
    "#        pass_id                         AS aggressor_id,\n",
    "#        pass_id,\n",
    "#        driver_id,\n",
    "#        city_id,\n",
    "#        city_name,\n",
    "#        country_name,\n",
    "#        incident_date,\n",
    "#        DATE_TRUNC(incident_date, WEEK) AS weekly,\n",
    "#        incident_type,\n",
    "#        incident_level,\n",
    "#        information_status,\n",
    "    #    CASE\n",
    "    #        WHEN city_id IN\n",
    "    #             (4226, 4143, 5495, 22796, 4516, 4261, 4231, 4263, 23089, 4200, 5483, 4404, 4228, 19943, 5568, 4257,\n",
    "    #              4196, 4267, 4242, 4225, 5513, 5573, 4272, 22654, 4155, 6083, 4266, 6117, 4397, 4227, 23233, 4271, 4599,\n",
    "    #              7236, 4269, 22737, 5368, 4396, 4230, 4385, 4199, 4255, 5536, 5548, 5589, 4264, 4229, 4726, 23130, 5291,\n",
    "    #              5600, 4198, 22817, 42833, 5535, 4234, 4197, 6587, 4243) THEN 'treatment'\n",
    "    #        ELSE 'control'\n",
    "    #        END                            segment,\n",
    "#        CASE\n",
    "#            WHEN incident_level = 'Green' THEN 1\n",
    "#            WHEN incident_level = 'Yellow' THEN 2\n",
    "#            WHEN incident_level = 'Red' THEN 3\n",
    "#            ELSE 0\n",
    "#            END                            incident_level_digit\n",
    "# FROM indriver-bi.safety.vw_safety_incidents_detail\n",
    "# WHERE aggressor = 'Passenger'\n",
    "#   AND incident_date >= '2025-05-31'\n",
    "#   AND city_id IN\n",
    "#       (4163, 4545, 4232, 4144, 4825, 4235, 5543, 19549, 23089, 4524, 4194, 4746, 4240, 4236, 4233, 21828, 4515, 5504,\n",
    "#        4532, 4195, 4258, 4226, 4143, 5495, 22796, 4516, 4261, 4231, 4263, 23089, 4200, 5483, 4404, 4228, 19943, 5568,\n",
    "#        4257, 4196, 4267, 4242, 4225, 5513, 5573, 4272, 22654, 4155, 6083, 4266, 6117, 4397, 4227, 23233, 4271, 4599,\n",
    "#        7236, 4269, 22737, 5368, 4396, 4230, 4385, 4199, 4255, 5536, 5548, 5589, 4264, 4229, 4726, 23130, 5291, 5600,\n",
    "#        4198, 22817, 42833, 5535, 4234, 4197, 6587, 4243)\n",
    "\n",
    "# \"\"\")\n",
    "\n",
    "df_incident = read_bq(\"\"\"\n",
    "SELECT \n",
    "       CASE\n",
    "           WHEN t1.city_id IN\n",
    "                (4226, 4143, 5495, 22796, 4516, 4261, 4231, 4263, 23089, 4200, 5483, 4404, 4228, 19943, 5568, 4257,\n",
    "                 4196, 4267, 4242, 4225, 5513, 5573, 4272, 22654, 4155, 6083, 4266, 6117, 4397, 4227, 23233, 4271, 4599,\n",
    "                 7236, 4269, 22737, 5368, 4396, 4230, 4385, 4199, 4255, 5536, 5548, 5589, 4264, 4229, 4726, 23130, 5291,\n",
    "                 5600, 4198, 22817, 42833, 5535, 4234, 4197, 6587, 4243) THEN 'treatment'\n",
    "           ELSE 'control'\n",
    "           END                                                                       segment,\n",
    "       t1.weekly,\n",
    "       SUM(SAFE_DIVIDE(t1.incidents, t2.rides) * 100000) / COUNT(t1.city_id)      AS inc_rate,\n",
    "       SUM(SAFE_DIVIDE(t1.conf_incidents, t2.rides) * 100000) / COUNT(t1.city_id) AS conf_inc_rate\n",
    "FROM (SELECT incident_date                              AS weekly,\n",
    "             t1.city_id,\n",
    "             t1.city_name,\n",
    "             COUNT(redmine_id)                                             AS incidents,\n",
    "             COUNT(IF(information_status = 'Confirmed', redmine_id, NULL)) AS conf_incidents\n",
    "      FROM indriver-bi.safety.vw_safety_incidents_detail t1\n",
    "               JOIN indriver-e6e40.heap.vw_macroregion_mapping t2\n",
    "                    ON\n",
    "                        t1.city_id = t2.city_id\n",
    "      WHERE incident_date >= '2025-05-29'\n",
    "        AND t1.city_id IN\n",
    "            (4163, 4545, 4232, 4144, 4825, 4235, 5543, 19549, 23089, 4524, 4194, 4746, 4240, 4236, 4233, 21828, 4515,\n",
    "             5504,\n",
    "             4532, 4195, 4258, 4226, 4143, 5495, 22796, 4516, 4261, 4231, 4263, 23089, 4200, 5483, 4404, 4228, 19943,\n",
    "             5568,\n",
    "             4257, 4196, 4267, 4242, 4225, 5513, 5573, 4272, 22654, 4155, 6083, 4266, 6117, 4397, 4227, 23233, 4271,\n",
    "             4599,\n",
    "             7236, 4269, 22737, 5368, 4396, 4230, 4385, 4199, 4255, 5536, 5548, 5589, 4264, 4229, 4726, 23130, 5291,\n",
    "             5600,\n",
    "             4198, 22817, 42833, 5535, 4234, 4197, 6587, 4243)\n",
    "      GROUP BY 1, 2, 3) t1\n",
    "         LEFT JOIN (SELECT city_id,\n",
    "                           metric_date AS weekly,\n",
    "                           SUM(rides_count)               AS rides\n",
    "                    FROM indriver-bi.incity.tbl_incity_growth_metrics_detail\n",
    "                    WHERE user_type = 'pass'\n",
    "                      AND metric_date >= '2025-05-29'\n",
    "                      AND city_id IN\n",
    "                          (4163, 4545, 4232, 4144, 4825, 4235, 5543, 19549, 23089, 4524, 4194, 4746, 4240, 4236, 4233,\n",
    "                           21828, 4515, 5504,\n",
    "                           4532, 4195, 4258, 4226, 4143, 5495, 22796, 4516, 4261, 4231, 4263, 23089, 4200, 5483, 4404,\n",
    "                           4228, 19943, 5568,\n",
    "                           4257, 4196, 4267, 4242, 4225, 5513, 5573, 4272, 22654, 4155, 6083, 4266, 6117, 4397, 4227,\n",
    "                           23233, 4271, 4599,\n",
    "                           7236, 4269, 22737, 5368, 4396, 4230, 4385, 4199, 4255, 5536, 5548, 5589, 4264, 4229, 4726,\n",
    "                           23130, 5291, 5600,\n",
    "                           4198, 22817, 42833, 5535, 4234, 4197, 6587, 4243)\n",
    "                    GROUP BY 1, 2) t2 ON t1.city_id = t2.city_id AND t1.weekly = t2.weekly\n",
    "GROUP BY 1, 2\n",
    "\"\"\")\n",
    "\n",
    "df_incident.head()"
   ]
  },
  {
   "cell_type": "code",
   "execution_count": 59,
   "id": "cd7eb897",
   "metadata": {},
   "outputs": [
    {
     "data": {
      "text/html": [
       "<div>\n",
       "<style scoped>\n",
       "    .dataframe tbody tr th:only-of-type {\n",
       "        vertical-align: middle;\n",
       "    }\n",
       "\n",
       "    .dataframe tbody tr th {\n",
       "        vertical-align: top;\n",
       "    }\n",
       "\n",
       "    .dataframe thead th {\n",
       "        text-align: right;\n",
       "    }\n",
       "</style>\n",
       "<table border=\"1\" class=\"dataframe\">\n",
       "  <thead>\n",
       "    <tr style=\"text-align: right;\">\n",
       "      <th></th>\n",
       "      <th>segment</th>\n",
       "      <th>inc_rate</th>\n",
       "      <th>conf_inc_rate</th>\n",
       "    </tr>\n",
       "  </thead>\n",
       "  <tbody>\n",
       "    <tr>\n",
       "      <th>0</th>\n",
       "      <td>control</td>\n",
       "      <td>52.74</td>\n",
       "      <td>14.10</td>\n",
       "    </tr>\n",
       "    <tr>\n",
       "      <th>1</th>\n",
       "      <td>treatment</td>\n",
       "      <td>55.84</td>\n",
       "      <td>11.08</td>\n",
       "    </tr>\n",
       "  </tbody>\n",
       "</table>\n",
       "</div>"
      ],
      "text/plain": [
       "     segment  inc_rate  conf_inc_rate\n",
       "0    control     52.74          14.10\n",
       "1  treatment     55.84          11.08"
      ]
     },
     "execution_count": 59,
     "metadata": {},
     "output_type": "execute_result"
    }
   ],
   "source": [
    "df_incident.groupby(['segment'], as_index=False)[['inc_rate', 'conf_inc_rate']].mean()"
   ]
  },
  {
   "cell_type": "code",
   "execution_count": 67,
   "id": "74a044f6",
   "metadata": {},
   "outputs": [
    {
     "data": {
      "application/vnd.plotly.v1+json": {
       "config": {
        "plotlyServerURL": "https://plot.ly"
       },
       "data": [
        {
         "hovertemplate": "segment=control<br>weekly=%{x}<br>conf_inc_rate=%{y}<extra></extra>",
         "legendgroup": "control",
         "line": {
          "color": "#636efa",
          "dash": "solid"
         },
         "marker": {
          "symbol": "circle"
         },
         "mode": "lines",
         "name": "control",
         "orientation": "v",
         "showlegend": true,
         "type": "scatter",
         "x": [
          "2025-05-29",
          "2025-05-30",
          "2025-05-31",
          "2025-06-01",
          "2025-06-02",
          "2025-06-03",
          "2025-06-04",
          "2025-06-05",
          "2025-06-06",
          "2025-06-07",
          "2025-06-08",
          "2025-06-09",
          "2025-06-10",
          "2025-06-11",
          "2025-06-12",
          "2025-06-13",
          "2025-06-14",
          "2025-06-15",
          "2025-06-16",
          "2025-06-17",
          "2025-06-18",
          "2025-06-19",
          "2025-06-20",
          "2025-06-21",
          "2025-06-22",
          "2025-06-23",
          "2025-06-24",
          "2025-06-25",
          "2025-06-26",
          "2025-06-27",
          "2025-06-28",
          "2025-06-29",
          "2025-06-30",
          "2025-07-01",
          "2025-07-02",
          "2025-07-03",
          "2025-07-04",
          "2025-07-05",
          "2025-07-06",
          "2025-07-07",
          "2025-07-08",
          "2025-07-09",
          "2025-07-10",
          "2025-07-11"
         ],
         "xaxis": "x",
         "y": [
          6.904376791453525,
          6.373159246673837,
          6.617280934635307,
          12.355915323462764,
          9.371431729927608,
          6.302642653928361,
          13.285921719491972,
          65.16905912079224,
          11.500449803153465,
          12.165742905041052,
          6.656619042296362,
          13.567586860488198,
          32.23107033646088,
          12.294883980438238,
          19.273802930189092,
          9.565435801399374,
          12.781377876214442,
          8.85814339515822,
          84.65680650258328,
          7.9779660938137456,
          7.963677585073876,
          20.79079041299415,
          37.496106191747494,
          13.521745227501862,
          18.079792846124587,
          7.329107051736465,
          6.457235221531313,
          5.733083003459886,
          11.649909133807599,
          6.950160086978472,
          8.324888708304815,
          10.650182598090083,
          8.55909538322782,
          12.031000468488143,
          8.551332257764678,
          5.367860196883975,
          4.12744184979253,
          6.5207023957729495,
          10.108031621148132,
          5.104321164484657,
          3.8317462956006767,
          13.730841657542362,
          4.141904314359887,
          25.639625868908542
         ],
         "yaxis": "y"
        },
        {
         "hovertemplate": "segment=treatment<br>weekly=%{x}<br>conf_inc_rate=%{y}<extra></extra>",
         "legendgroup": "treatment",
         "line": {
          "color": "#EF553B",
          "dash": "solid"
         },
         "marker": {
          "symbol": "circle"
         },
         "mode": "lines",
         "name": "treatment",
         "orientation": "v",
         "showlegend": true,
         "type": "scatter",
         "x": [
          "2025-05-29",
          "2025-05-30",
          "2025-05-31",
          "2025-06-01",
          "2025-06-02",
          "2025-06-03",
          "2025-06-04",
          "2025-06-05",
          "2025-06-06",
          "2025-06-07",
          "2025-06-08",
          "2025-06-09",
          "2025-06-10",
          "2025-06-11",
          "2025-06-12",
          "2025-06-13",
          "2025-06-14",
          "2025-06-15",
          "2025-06-16",
          "2025-06-17",
          "2025-06-18",
          "2025-06-19",
          "2025-06-20",
          "2025-06-21",
          "2025-06-22",
          "2025-06-23",
          "2025-06-24",
          "2025-06-25",
          "2025-06-26",
          "2025-06-27",
          "2025-06-28",
          "2025-06-29",
          "2025-06-30",
          "2025-07-01",
          "2025-07-02",
          "2025-07-03",
          "2025-07-04",
          "2025-07-05",
          "2025-07-06",
          "2025-07-07",
          "2025-07-08",
          "2025-07-09",
          "2025-07-10",
          "2025-07-11"
         ],
         "xaxis": "x",
         "y": [
          10.792724818483752,
          10.379706470143342,
          6.9018584381904216,
          10.992676663049226,
          7.268368072470321,
          11.056829315166173,
          12.01961874130611,
          8.372742941825509,
          5.0575983085046055,
          12.853770117685448,
          15.08390410862199,
          9.206046905022575,
          8.241475367525007,
          10.40100446760232,
          13.757772876352597,
          9.457896537290623,
          9.795462783061001,
          10.589784837024594,
          10.45469648348822,
          8.256829107959913,
          7.164517563083258,
          7.956618071037289,
          11.649142405018239,
          11.728970814104521,
          12.4293129808352,
          10.548965498739022,
          15.008745440391294,
          14.896992018933435,
          9.287902285111306,
          10.014236713299104,
          9.817190810812827,
          10.292671620509381,
          17.361719439711297,
          9.437071575145822,
          12.972841639994204,
          7.999368808714327,
          7.849003945010364,
          9.00239207976372,
          11.422730027490745,
          5.030679912582976,
          4.393756793995212,
          1.755905465214378,
          1.2227509402812222,
          67.34452349219771
         ],
         "yaxis": "y"
        }
       ],
       "layout": {
        "legend": {
         "title": {
          "text": "segment"
         },
         "tracegroupgap": 0
        },
        "margin": {
         "t": 60
        },
        "template": {
         "data": {
          "bar": [
           {
            "error_x": {
             "color": "#2a3f5f"
            },
            "error_y": {
             "color": "#2a3f5f"
            },
            "marker": {
             "line": {
              "color": "#E5ECF6",
              "width": 0.5
             },
             "pattern": {
              "fillmode": "overlay",
              "size": 10,
              "solidity": 0.2
             }
            },
            "type": "bar"
           }
          ],
          "barpolar": [
           {
            "marker": {
             "line": {
              "color": "#E5ECF6",
              "width": 0.5
             },
             "pattern": {
              "fillmode": "overlay",
              "size": 10,
              "solidity": 0.2
             }
            },
            "type": "barpolar"
           }
          ],
          "carpet": [
           {
            "aaxis": {
             "endlinecolor": "#2a3f5f",
             "gridcolor": "white",
             "linecolor": "white",
             "minorgridcolor": "white",
             "startlinecolor": "#2a3f5f"
            },
            "baxis": {
             "endlinecolor": "#2a3f5f",
             "gridcolor": "white",
             "linecolor": "white",
             "minorgridcolor": "white",
             "startlinecolor": "#2a3f5f"
            },
            "type": "carpet"
           }
          ],
          "choropleth": [
           {
            "colorbar": {
             "outlinewidth": 0,
             "ticks": ""
            },
            "type": "choropleth"
           }
          ],
          "contour": [
           {
            "colorbar": {
             "outlinewidth": 0,
             "ticks": ""
            },
            "colorscale": [
             [
              0,
              "#0d0887"
             ],
             [
              0.1111111111111111,
              "#46039f"
             ],
             [
              0.2222222222222222,
              "#7201a8"
             ],
             [
              0.3333333333333333,
              "#9c179e"
             ],
             [
              0.4444444444444444,
              "#bd3786"
             ],
             [
              0.5555555555555556,
              "#d8576b"
             ],
             [
              0.6666666666666666,
              "#ed7953"
             ],
             [
              0.7777777777777778,
              "#fb9f3a"
             ],
             [
              0.8888888888888888,
              "#fdca26"
             ],
             [
              1,
              "#f0f921"
             ]
            ],
            "type": "contour"
           }
          ],
          "contourcarpet": [
           {
            "colorbar": {
             "outlinewidth": 0,
             "ticks": ""
            },
            "type": "contourcarpet"
           }
          ],
          "heatmap": [
           {
            "colorbar": {
             "outlinewidth": 0,
             "ticks": ""
            },
            "colorscale": [
             [
              0,
              "#0d0887"
             ],
             [
              0.1111111111111111,
              "#46039f"
             ],
             [
              0.2222222222222222,
              "#7201a8"
             ],
             [
              0.3333333333333333,
              "#9c179e"
             ],
             [
              0.4444444444444444,
              "#bd3786"
             ],
             [
              0.5555555555555556,
              "#d8576b"
             ],
             [
              0.6666666666666666,
              "#ed7953"
             ],
             [
              0.7777777777777778,
              "#fb9f3a"
             ],
             [
              0.8888888888888888,
              "#fdca26"
             ],
             [
              1,
              "#f0f921"
             ]
            ],
            "type": "heatmap"
           }
          ],
          "heatmapgl": [
           {
            "colorbar": {
             "outlinewidth": 0,
             "ticks": ""
            },
            "colorscale": [
             [
              0,
              "#0d0887"
             ],
             [
              0.1111111111111111,
              "#46039f"
             ],
             [
              0.2222222222222222,
              "#7201a8"
             ],
             [
              0.3333333333333333,
              "#9c179e"
             ],
             [
              0.4444444444444444,
              "#bd3786"
             ],
             [
              0.5555555555555556,
              "#d8576b"
             ],
             [
              0.6666666666666666,
              "#ed7953"
             ],
             [
              0.7777777777777778,
              "#fb9f3a"
             ],
             [
              0.8888888888888888,
              "#fdca26"
             ],
             [
              1,
              "#f0f921"
             ]
            ],
            "type": "heatmapgl"
           }
          ],
          "histogram": [
           {
            "marker": {
             "pattern": {
              "fillmode": "overlay",
              "size": 10,
              "solidity": 0.2
             }
            },
            "type": "histogram"
           }
          ],
          "histogram2d": [
           {
            "colorbar": {
             "outlinewidth": 0,
             "ticks": ""
            },
            "colorscale": [
             [
              0,
              "#0d0887"
             ],
             [
              0.1111111111111111,
              "#46039f"
             ],
             [
              0.2222222222222222,
              "#7201a8"
             ],
             [
              0.3333333333333333,
              "#9c179e"
             ],
             [
              0.4444444444444444,
              "#bd3786"
             ],
             [
              0.5555555555555556,
              "#d8576b"
             ],
             [
              0.6666666666666666,
              "#ed7953"
             ],
             [
              0.7777777777777778,
              "#fb9f3a"
             ],
             [
              0.8888888888888888,
              "#fdca26"
             ],
             [
              1,
              "#f0f921"
             ]
            ],
            "type": "histogram2d"
           }
          ],
          "histogram2dcontour": [
           {
            "colorbar": {
             "outlinewidth": 0,
             "ticks": ""
            },
            "colorscale": [
             [
              0,
              "#0d0887"
             ],
             [
              0.1111111111111111,
              "#46039f"
             ],
             [
              0.2222222222222222,
              "#7201a8"
             ],
             [
              0.3333333333333333,
              "#9c179e"
             ],
             [
              0.4444444444444444,
              "#bd3786"
             ],
             [
              0.5555555555555556,
              "#d8576b"
             ],
             [
              0.6666666666666666,
              "#ed7953"
             ],
             [
              0.7777777777777778,
              "#fb9f3a"
             ],
             [
              0.8888888888888888,
              "#fdca26"
             ],
             [
              1,
              "#f0f921"
             ]
            ],
            "type": "histogram2dcontour"
           }
          ],
          "mesh3d": [
           {
            "colorbar": {
             "outlinewidth": 0,
             "ticks": ""
            },
            "type": "mesh3d"
           }
          ],
          "parcoords": [
           {
            "line": {
             "colorbar": {
              "outlinewidth": 0,
              "ticks": ""
             }
            },
            "type": "parcoords"
           }
          ],
          "pie": [
           {
            "automargin": true,
            "type": "pie"
           }
          ],
          "scatter": [
           {
            "fillpattern": {
             "fillmode": "overlay",
             "size": 10,
             "solidity": 0.2
            },
            "type": "scatter"
           }
          ],
          "scatter3d": [
           {
            "line": {
             "colorbar": {
              "outlinewidth": 0,
              "ticks": ""
             }
            },
            "marker": {
             "colorbar": {
              "outlinewidth": 0,
              "ticks": ""
             }
            },
            "type": "scatter3d"
           }
          ],
          "scattercarpet": [
           {
            "marker": {
             "colorbar": {
              "outlinewidth": 0,
              "ticks": ""
             }
            },
            "type": "scattercarpet"
           }
          ],
          "scattergeo": [
           {
            "marker": {
             "colorbar": {
              "outlinewidth": 0,
              "ticks": ""
             }
            },
            "type": "scattergeo"
           }
          ],
          "scattergl": [
           {
            "marker": {
             "colorbar": {
              "outlinewidth": 0,
              "ticks": ""
             }
            },
            "type": "scattergl"
           }
          ],
          "scattermapbox": [
           {
            "marker": {
             "colorbar": {
              "outlinewidth": 0,
              "ticks": ""
             }
            },
            "type": "scattermapbox"
           }
          ],
          "scatterpolar": [
           {
            "marker": {
             "colorbar": {
              "outlinewidth": 0,
              "ticks": ""
             }
            },
            "type": "scatterpolar"
           }
          ],
          "scatterpolargl": [
           {
            "marker": {
             "colorbar": {
              "outlinewidth": 0,
              "ticks": ""
             }
            },
            "type": "scatterpolargl"
           }
          ],
          "scatterternary": [
           {
            "marker": {
             "colorbar": {
              "outlinewidth": 0,
              "ticks": ""
             }
            },
            "type": "scatterternary"
           }
          ],
          "surface": [
           {
            "colorbar": {
             "outlinewidth": 0,
             "ticks": ""
            },
            "colorscale": [
             [
              0,
              "#0d0887"
             ],
             [
              0.1111111111111111,
              "#46039f"
             ],
             [
              0.2222222222222222,
              "#7201a8"
             ],
             [
              0.3333333333333333,
              "#9c179e"
             ],
             [
              0.4444444444444444,
              "#bd3786"
             ],
             [
              0.5555555555555556,
              "#d8576b"
             ],
             [
              0.6666666666666666,
              "#ed7953"
             ],
             [
              0.7777777777777778,
              "#fb9f3a"
             ],
             [
              0.8888888888888888,
              "#fdca26"
             ],
             [
              1,
              "#f0f921"
             ]
            ],
            "type": "surface"
           }
          ],
          "table": [
           {
            "cells": {
             "fill": {
              "color": "#EBF0F8"
             },
             "line": {
              "color": "white"
             }
            },
            "header": {
             "fill": {
              "color": "#C8D4E3"
             },
             "line": {
              "color": "white"
             }
            },
            "type": "table"
           }
          ]
         },
         "layout": {
          "annotationdefaults": {
           "arrowcolor": "#2a3f5f",
           "arrowhead": 0,
           "arrowwidth": 1
          },
          "autotypenumbers": "strict",
          "coloraxis": {
           "colorbar": {
            "outlinewidth": 0,
            "ticks": ""
           }
          },
          "colorscale": {
           "diverging": [
            [
             0,
             "#8e0152"
            ],
            [
             0.1,
             "#c51b7d"
            ],
            [
             0.2,
             "#de77ae"
            ],
            [
             0.3,
             "#f1b6da"
            ],
            [
             0.4,
             "#fde0ef"
            ],
            [
             0.5,
             "#f7f7f7"
            ],
            [
             0.6,
             "#e6f5d0"
            ],
            [
             0.7,
             "#b8e186"
            ],
            [
             0.8,
             "#7fbc41"
            ],
            [
             0.9,
             "#4d9221"
            ],
            [
             1,
             "#276419"
            ]
           ],
           "sequential": [
            [
             0,
             "#0d0887"
            ],
            [
             0.1111111111111111,
             "#46039f"
            ],
            [
             0.2222222222222222,
             "#7201a8"
            ],
            [
             0.3333333333333333,
             "#9c179e"
            ],
            [
             0.4444444444444444,
             "#bd3786"
            ],
            [
             0.5555555555555556,
             "#d8576b"
            ],
            [
             0.6666666666666666,
             "#ed7953"
            ],
            [
             0.7777777777777778,
             "#fb9f3a"
            ],
            [
             0.8888888888888888,
             "#fdca26"
            ],
            [
             1,
             "#f0f921"
            ]
           ],
           "sequentialminus": [
            [
             0,
             "#0d0887"
            ],
            [
             0.1111111111111111,
             "#46039f"
            ],
            [
             0.2222222222222222,
             "#7201a8"
            ],
            [
             0.3333333333333333,
             "#9c179e"
            ],
            [
             0.4444444444444444,
             "#bd3786"
            ],
            [
             0.5555555555555556,
             "#d8576b"
            ],
            [
             0.6666666666666666,
             "#ed7953"
            ],
            [
             0.7777777777777778,
             "#fb9f3a"
            ],
            [
             0.8888888888888888,
             "#fdca26"
            ],
            [
             1,
             "#f0f921"
            ]
           ]
          },
          "colorway": [
           "#636efa",
           "#EF553B",
           "#00cc96",
           "#ab63fa",
           "#FFA15A",
           "#19d3f3",
           "#FF6692",
           "#B6E880",
           "#FF97FF",
           "#FECB52"
          ],
          "font": {
           "color": "#2a3f5f"
          },
          "geo": {
           "bgcolor": "white",
           "lakecolor": "white",
           "landcolor": "#E5ECF6",
           "showlakes": true,
           "showland": true,
           "subunitcolor": "white"
          },
          "hoverlabel": {
           "align": "left"
          },
          "hovermode": "closest",
          "mapbox": {
           "style": "light"
          },
          "paper_bgcolor": "white",
          "plot_bgcolor": "#E5ECF6",
          "polar": {
           "angularaxis": {
            "gridcolor": "white",
            "linecolor": "white",
            "ticks": ""
           },
           "bgcolor": "#E5ECF6",
           "radialaxis": {
            "gridcolor": "white",
            "linecolor": "white",
            "ticks": ""
           }
          },
          "scene": {
           "xaxis": {
            "backgroundcolor": "#E5ECF6",
            "gridcolor": "white",
            "gridwidth": 2,
            "linecolor": "white",
            "showbackground": true,
            "ticks": "",
            "zerolinecolor": "white"
           },
           "yaxis": {
            "backgroundcolor": "#E5ECF6",
            "gridcolor": "white",
            "gridwidth": 2,
            "linecolor": "white",
            "showbackground": true,
            "ticks": "",
            "zerolinecolor": "white"
           },
           "zaxis": {
            "backgroundcolor": "#E5ECF6",
            "gridcolor": "white",
            "gridwidth": 2,
            "linecolor": "white",
            "showbackground": true,
            "ticks": "",
            "zerolinecolor": "white"
           }
          },
          "shapedefaults": {
           "line": {
            "color": "#2a3f5f"
           }
          },
          "ternary": {
           "aaxis": {
            "gridcolor": "white",
            "linecolor": "white",
            "ticks": ""
           },
           "baxis": {
            "gridcolor": "white",
            "linecolor": "white",
            "ticks": ""
           },
           "bgcolor": "#E5ECF6",
           "caxis": {
            "gridcolor": "white",
            "linecolor": "white",
            "ticks": ""
           }
          },
          "title": {
           "x": 0.05
          },
          "xaxis": {
           "automargin": true,
           "gridcolor": "white",
           "linecolor": "white",
           "ticks": "",
           "title": {
            "standoff": 15
           },
           "zerolinecolor": "white",
           "zerolinewidth": 2
          },
          "yaxis": {
           "automargin": true,
           "gridcolor": "white",
           "linecolor": "white",
           "ticks": "",
           "title": {
            "standoff": 15
           },
           "zerolinecolor": "white",
           "zerolinewidth": 2
          }
         }
        },
        "xaxis": {
         "anchor": "y",
         "domain": [
          0,
          1
         ],
         "title": {
          "text": "weekly"
         }
        },
        "yaxis": {
         "anchor": "x",
         "domain": [
          0,
          1
         ],
         "title": {
          "text": "conf_inc_rate"
         }
        }
       }
      }
     },
     "metadata": {},
     "output_type": "display_data"
    }
   ],
   "source": [
    "fig = px.line(df_incident.groupby(['weekly', 'segment'], as_index=False)['conf_inc_rate'].max(), x=\"weekly\", y=\"conf_inc_rate\", color='segment')\n",
    "fig.show()"
   ]
  },
  {
   "cell_type": "code",
   "execution_count": 76,
   "id": "fa054739",
   "metadata": {},
   "outputs": [
    {
     "data": {
      "text/html": [
       "<div>\n",
       "<style scoped>\n",
       "    .dataframe tbody tr th:only-of-type {\n",
       "        vertical-align: middle;\n",
       "    }\n",
       "\n",
       "    .dataframe tbody tr th {\n",
       "        vertical-align: top;\n",
       "    }\n",
       "\n",
       "    .dataframe thead th {\n",
       "        text-align: right;\n",
       "    }\n",
       "</style>\n",
       "<table border=\"1\" class=\"dataframe\">\n",
       "  <thead>\n",
       "    <tr style=\"text-align: right;\">\n",
       "      <th></th>\n",
       "      <th>incident_level</th>\n",
       "      <th>information_status</th>\n",
       "      <th>incident_type</th>\n",
       "      <th>prevented_accounts</th>\n",
       "      <th>potential_incidents</th>\n",
       "      <th>total_banned</th>\n",
       "      <th>share</th>\n",
       "    </tr>\n",
       "  </thead>\n",
       "  <tbody>\n",
       "    <tr>\n",
       "      <th>0</th>\n",
       "      <td>Green</td>\n",
       "      <td>Confirmed</td>\n",
       "      <td>Attempted robbery</td>\n",
       "      <td>1120</td>\n",
       "      <td>168.00</td>\n",
       "      <td>4180</td>\n",
       "      <td>26.79</td>\n",
       "    </tr>\n",
       "    <tr>\n",
       "      <th>1</th>\n",
       "      <td>Green</td>\n",
       "      <td>Confirmed</td>\n",
       "      <td>Threat with weapons</td>\n",
       "      <td>121</td>\n",
       "      <td>18.15</td>\n",
       "      <td>4180</td>\n",
       "      <td>2.89</td>\n",
       "    </tr>\n",
       "    <tr>\n",
       "      <th>2</th>\n",
       "      <td>Green</td>\n",
       "      <td>Confirmed</td>\n",
       "      <td>Theft</td>\n",
       "      <td>90</td>\n",
       "      <td>13.50</td>\n",
       "      <td>4180</td>\n",
       "      <td>2.15</td>\n",
       "    </tr>\n",
       "    <tr>\n",
       "      <th>3</th>\n",
       "      <td>Green</td>\n",
       "      <td>Confirmed</td>\n",
       "      <td>Robbery</td>\n",
       "      <td>80</td>\n",
       "      <td>12.00</td>\n",
       "      <td>4180</td>\n",
       "      <td>1.91</td>\n",
       "    </tr>\n",
       "    <tr>\n",
       "      <th>4</th>\n",
       "      <td>Green</td>\n",
       "      <td>Confirmed</td>\n",
       "      <td>Fraud</td>\n",
       "      <td>39</td>\n",
       "      <td>5.85</td>\n",
       "      <td>4180</td>\n",
       "      <td>0.93</td>\n",
       "    </tr>\n",
       "  </tbody>\n",
       "</table>\n",
       "</div>"
      ],
      "text/plain": [
       "  incident_level information_status        incident_type  prevented_accounts  potential_incidents  total_banned  share\n",
       "0          Green          Confirmed    Attempted robbery                1120               168.00          4180  26.79\n",
       "1          Green          Confirmed  Threat with weapons                 121                18.15          4180   2.89\n",
       "2          Green          Confirmed                Theft                  90                13.50          4180   2.15\n",
       "3          Green          Confirmed              Robbery                  80                12.00          4180   1.91\n",
       "4          Green          Confirmed                Fraud                  39                 5.85          4180   0.93"
      ]
     },
     "execution_count": 76,
     "metadata": {},
     "output_type": "execute_result"
    }
   ],
   "source": [
    "df_cat_incidents = read_bq(\"\"\"\n",
    "WITH bans AS (SELECT connected_account, COUNT(DISTINCT user_id) AS banned_users\n",
    "              FROM (SELECT user_id,\n",
    "                           CAST(REGEXP_EXTRACT(moderation_note, r\"#(\\d+)\\.?\") AS INT64) AS connected_account,\n",
    "                           DATE(created_dttm)                                           AS created_dt\n",
    "                    FROM dwh-storage-327422.ods_expel.tbl_ban\n",
    "                    WHERE type_cd = 9\n",
    "                      AND unban_applied_cd = 0\n",
    "                      AND DATE(created_dttm) >= '2025-05-29'\n",
    "                    QUALIFY ROW_NUMBER() OVER (PARTITION BY user_id ORDER BY created_dttm ASC) = 1)\n",
    "              GROUP BY 1),\n",
    "     incidents AS (SELECT redmine_id,\n",
    "                          'driver'                        AS aggressor_mode,\n",
    "                          driver_id                       AS aggressor_id,\n",
    "                          pass_id,\n",
    "                          driver_id,\n",
    "                          city_id,\n",
    "                          city_name,\n",
    "                          country_name,\n",
    "                          incident_date,\n",
    "                          DATE_TRUNC(incident_date, WEEK) AS weekly,\n",
    "                          incident_type,\n",
    "                          incident_level,\n",
    "                          information_status,\n",
    "                          CASE\n",
    "                              WHEN incident_level = 'Green' THEN 1\n",
    "                              WHEN incident_level = 'Yellow' THEN 2\n",
    "                              WHEN incident_level = 'Red' THEN 3\n",
    "                              ELSE 0\n",
    "                              END                            incident_level_digit\n",
    "                   FROM indriver-bi.safety.vw_safety_incidents_detail\n",
    "                   WHERE aggressor = 'Driver'\n",
    "                     AND information_status = 'Confirmed'\n",
    "                     AND incident_date >= '2014-01-01'\n",
    "                   UNION\n",
    "                   DISTINCT\n",
    "                   SELECT redmine_id,\n",
    "                          'pax'                           AS aggressor_mode,\n",
    "                          pass_id                         AS aggressor_id,\n",
    "                          pass_id,\n",
    "                          driver_id,\n",
    "                          city_id,\n",
    "                          city_name,\n",
    "                          country_name,\n",
    "                          incident_date,\n",
    "                          DATE_TRUNC(incident_date, WEEK) AS weekly,\n",
    "                          incident_type,\n",
    "                          incident_level,\n",
    "                          information_status,\n",
    "                          CASE\n",
    "                              WHEN incident_level = 'Green' THEN 1\n",
    "                              WHEN incident_level = 'Yellow' THEN 2\n",
    "                              WHEN incident_level = 'Red' THEN 3\n",
    "                              ELSE 0\n",
    "                              END                            incident_level_digit\n",
    "                   FROM indriver-bi.safety.vw_safety_incidents_detail\n",
    "                   WHERE aggressor = 'Passenger'\n",
    "                     AND information_status = 'Confirmed'\n",
    "                     AND incident_date >= '2014-01-01')\n",
    "SELECT *,\n",
    "       (prevented_accounts * 0.15)                                          AS potential_incidents,\n",
    "       SUM(prevented_accounts) OVER ()                                      AS total_banned,\n",
    "       ROUND(prevented_accounts / SUM(prevented_accounts) OVER () * 100, 2) AS share\n",
    "FROM (SELECT t2.incident_level,\n",
    "             information_status,\n",
    "             incident_type,\n",
    "             SUM(banned_users) AS prevented_accounts\n",
    "      FROM bans t1\n",
    "               LEFT JOIN incidents t2 ON t1.connected_account = t2.aggressor_id\n",
    "      WHERE information_status IS NOT NULL\n",
    "      GROUP BY 1, 2, 3)\n",
    "QUALIFY ROW_NUMBER() OVER (PARTITION BY incident_level ORDER BY prevented_accounts DESC) IN (1, 2, 3, 4, 5)\n",
    "\"\"\")\n",
    "\n",
    "df_cat_incidents.head()"
   ]
  },
  {
   "cell_type": "code",
   "execution_count": 77,
   "id": "0638d269",
   "metadata": {},
   "outputs": [
    {
     "data": {
      "text/html": [
       "<div>\n",
       "<style scoped>\n",
       "    .dataframe tbody tr th:only-of-type {\n",
       "        vertical-align: middle;\n",
       "    }\n",
       "\n",
       "    .dataframe tbody tr th {\n",
       "        vertical-align: top;\n",
       "    }\n",
       "\n",
       "    .dataframe thead th {\n",
       "        text-align: right;\n",
       "    }\n",
       "</style>\n",
       "<table border=\"1\" class=\"dataframe\">\n",
       "  <thead>\n",
       "    <tr style=\"text-align: right;\">\n",
       "      <th></th>\n",
       "      <th>incident_level</th>\n",
       "      <th>information_status</th>\n",
       "      <th>incident_type</th>\n",
       "      <th>prevented_accounts</th>\n",
       "      <th>potential_incidents</th>\n",
       "      <th>total_banned</th>\n",
       "      <th>share</th>\n",
       "    </tr>\n",
       "  </thead>\n",
       "  <tbody>\n",
       "    <tr>\n",
       "      <th>0</th>\n",
       "      <td>Green</td>\n",
       "      <td>Confirmed</td>\n",
       "      <td>Attempted robbery</td>\n",
       "      <td>1120</td>\n",
       "      <td>168.00</td>\n",
       "      <td>4180</td>\n",
       "      <td>26.79</td>\n",
       "    </tr>\n",
       "    <tr>\n",
       "      <th>1</th>\n",
       "      <td>Green</td>\n",
       "      <td>Confirmed</td>\n",
       "      <td>Threat with weapons</td>\n",
       "      <td>121</td>\n",
       "      <td>18.15</td>\n",
       "      <td>4180</td>\n",
       "      <td>2.89</td>\n",
       "    </tr>\n",
       "    <tr>\n",
       "      <th>2</th>\n",
       "      <td>Green</td>\n",
       "      <td>Confirmed</td>\n",
       "      <td>Theft</td>\n",
       "      <td>90</td>\n",
       "      <td>13.50</td>\n",
       "      <td>4180</td>\n",
       "      <td>2.15</td>\n",
       "    </tr>\n",
       "    <tr>\n",
       "      <th>3</th>\n",
       "      <td>Green</td>\n",
       "      <td>Confirmed</td>\n",
       "      <td>Robbery</td>\n",
       "      <td>80</td>\n",
       "      <td>12.00</td>\n",
       "      <td>4180</td>\n",
       "      <td>1.91</td>\n",
       "    </tr>\n",
       "    <tr>\n",
       "      <th>4</th>\n",
       "      <td>Green</td>\n",
       "      <td>Confirmed</td>\n",
       "      <td>Fraud</td>\n",
       "      <td>39</td>\n",
       "      <td>5.85</td>\n",
       "      <td>4180</td>\n",
       "      <td>0.93</td>\n",
       "    </tr>\n",
       "    <tr>\n",
       "      <th>5</th>\n",
       "      <td>Red</td>\n",
       "      <td>Confirmed</td>\n",
       "      <td>Car theft</td>\n",
       "      <td>332</td>\n",
       "      <td>49.80</td>\n",
       "      <td>4180</td>\n",
       "      <td>7.94</td>\n",
       "    </tr>\n",
       "    <tr>\n",
       "      <th>6</th>\n",
       "      <td>Red</td>\n",
       "      <td>Confirmed</td>\n",
       "      <td>Alcohol/narcotic intoxication of the driver</td>\n",
       "      <td>34</td>\n",
       "      <td>5.10</td>\n",
       "      <td>4180</td>\n",
       "      <td>0.81</td>\n",
       "    </tr>\n",
       "    <tr>\n",
       "      <th>7</th>\n",
       "      <td>Red</td>\n",
       "      <td>Confirmed</td>\n",
       "      <td>Robbery</td>\n",
       "      <td>7</td>\n",
       "      <td>1.05</td>\n",
       "      <td>4180</td>\n",
       "      <td>0.17</td>\n",
       "    </tr>\n",
       "    <tr>\n",
       "      <th>8</th>\n",
       "      <td>Red</td>\n",
       "      <td>Confirmed</td>\n",
       "      <td>Buying/transportation of drugs</td>\n",
       "      <td>3</td>\n",
       "      <td>0.45</td>\n",
       "      <td>4180</td>\n",
       "      <td>0.07</td>\n",
       "    </tr>\n",
       "    <tr>\n",
       "      <th>9</th>\n",
       "      <td>Red</td>\n",
       "      <td>Confirmed</td>\n",
       "      <td>An accident with the victims</td>\n",
       "      <td>2</td>\n",
       "      <td>0.30</td>\n",
       "      <td>4180</td>\n",
       "      <td>0.05</td>\n",
       "    </tr>\n",
       "    <tr>\n",
       "      <th>10</th>\n",
       "      <td>Yellow</td>\n",
       "      <td>Confirmed</td>\n",
       "      <td>Robbery</td>\n",
       "      <td>785</td>\n",
       "      <td>117.75</td>\n",
       "      <td>4180</td>\n",
       "      <td>18.78</td>\n",
       "    </tr>\n",
       "    <tr>\n",
       "      <th>11</th>\n",
       "      <td>Yellow</td>\n",
       "      <td>Confirmed</td>\n",
       "      <td>Bothering before/after a trip for the purpose of dating SMS, call, messengers</td>\n",
       "      <td>467</td>\n",
       "      <td>70.05</td>\n",
       "      <td>4180</td>\n",
       "      <td>11.17</td>\n",
       "    </tr>\n",
       "    <tr>\n",
       "      <th>12</th>\n",
       "      <td>Yellow</td>\n",
       "      <td>Confirmed</td>\n",
       "      <td>Fraud</td>\n",
       "      <td>207</td>\n",
       "      <td>31.05</td>\n",
       "      <td>4180</td>\n",
       "      <td>4.95</td>\n",
       "    </tr>\n",
       "    <tr>\n",
       "      <th>13</th>\n",
       "      <td>Yellow</td>\n",
       "      <td>Confirmed</td>\n",
       "      <td>Buying/transportation of drugs</td>\n",
       "      <td>138</td>\n",
       "      <td>20.70</td>\n",
       "      <td>4180</td>\n",
       "      <td>3.30</td>\n",
       "    </tr>\n",
       "    <tr>\n",
       "      <th>14</th>\n",
       "      <td>Yellow</td>\n",
       "      <td>Confirmed</td>\n",
       "      <td>Attempted robbery</td>\n",
       "      <td>120</td>\n",
       "      <td>18.00</td>\n",
       "      <td>4180</td>\n",
       "      <td>2.87</td>\n",
       "    </tr>\n",
       "  </tbody>\n",
       "</table>\n",
       "</div>"
      ],
      "text/plain": [
       "   incident_level information_status                                                                  incident_type  prevented_accounts  potential_incidents  total_banned  share\n",
       "0           Green          Confirmed                                                              Attempted robbery                1120               168.00          4180  26.79\n",
       "1           Green          Confirmed                                                            Threat with weapons                 121                18.15          4180   2.89\n",
       "2           Green          Confirmed                                                                          Theft                  90                13.50          4180   2.15\n",
       "3           Green          Confirmed                                                                        Robbery                  80                12.00          4180   1.91\n",
       "4           Green          Confirmed                                                                          Fraud                  39                 5.85          4180   0.93\n",
       "5             Red          Confirmed                                                                      Car theft                 332                49.80          4180   7.94\n",
       "6             Red          Confirmed                                    Alcohol/narcotic intoxication of the driver                  34                 5.10          4180   0.81\n",
       "7             Red          Confirmed                                                                        Robbery                   7                 1.05          4180   0.17\n",
       "8             Red          Confirmed                                                 Buying/transportation of drugs                   3                 0.45          4180   0.07\n",
       "9             Red          Confirmed                                                   An accident with the victims                   2                 0.30          4180   0.05\n",
       "10         Yellow          Confirmed                                                                        Robbery                 785               117.75          4180  18.78\n",
       "11         Yellow          Confirmed  Bothering before/after a trip for the purpose of dating SMS, call, messengers                 467                70.05          4180  11.17\n",
       "12         Yellow          Confirmed                                                                          Fraud                 207                31.05          4180   4.95\n",
       "13         Yellow          Confirmed                                                 Buying/transportation of drugs                 138                20.70          4180   3.30\n",
       "14         Yellow          Confirmed                                                              Attempted robbery                 120                18.00          4180   2.87"
      ]
     },
     "execution_count": 77,
     "metadata": {},
     "output_type": "execute_result"
    }
   ],
   "source": [
    "df_cat_incidents"
   ]
  },
  {
   "cell_type": "markdown",
   "id": "615a6382",
   "metadata": {},
   "source": [
    "## Distribution by incident levels & Share of fraud lines"
   ]
  },
  {
   "cell_type": "code",
   "execution_count": 78,
   "id": "9e6a7be5",
   "metadata": {},
   "outputs": [
    {
     "data": {
      "text/html": [
       "<div>\n",
       "<style scoped>\n",
       "    .dataframe tbody tr th:only-of-type {\n",
       "        vertical-align: middle;\n",
       "    }\n",
       "\n",
       "    .dataframe tbody tr th {\n",
       "        vertical-align: top;\n",
       "    }\n",
       "\n",
       "    .dataframe thead th {\n",
       "        text-align: right;\n",
       "    }\n",
       "</style>\n",
       "<table border=\"1\" class=\"dataframe\">\n",
       "  <thead>\n",
       "    <tr style=\"text-align: right;\">\n",
       "      <th></th>\n",
       "      <th>redmine_id</th>\n",
       "      <th>aggressor</th>\n",
       "      <th>driver_id</th>\n",
       "      <th>city_id</th>\n",
       "      <th>city_name</th>\n",
       "      <th>segment</th>\n",
       "      <th>country_name</th>\n",
       "      <th>incident_date</th>\n",
       "      <th>weekly</th>\n",
       "      <th>incident_type</th>\n",
       "      <th>incident_level</th>\n",
       "      <th>information_status</th>\n",
       "      <th>incident_level_digit</th>\n",
       "    </tr>\n",
       "  </thead>\n",
       "  <tbody>\n",
       "    <tr>\n",
       "      <th>0</th>\n",
       "      <td>SQ-430855</td>\n",
       "      <td>Passenger</td>\n",
       "      <td>58438793</td>\n",
       "      <td>4233</td>\n",
       "      <td>Aguascalientes</td>\n",
       "      <td>control</td>\n",
       "      <td>Mexico</td>\n",
       "      <td>2025-01-03</td>\n",
       "      <td>2024-12-29</td>\n",
       "      <td>Buying/transportation of drugs</td>\n",
       "      <td>Green</td>\n",
       "      <td>Not confirmed</td>\n",
       "      <td>1</td>\n",
       "    </tr>\n",
       "    <tr>\n",
       "      <th>1</th>\n",
       "      <td>SQ-431962</td>\n",
       "      <td>Passenger</td>\n",
       "      <td>265816251</td>\n",
       "      <td>4155</td>\n",
       "      <td>Monterrey</td>\n",
       "      <td>treatment</td>\n",
       "      <td>Mexico</td>\n",
       "      <td>2025-01-03</td>\n",
       "      <td>2024-12-29</td>\n",
       "      <td>Robbery</td>\n",
       "      <td>Yellow</td>\n",
       "      <td>Confirmed</td>\n",
       "      <td>2</td>\n",
       "    </tr>\n",
       "    <tr>\n",
       "      <th>2</th>\n",
       "      <td>SQ-435132</td>\n",
       "      <td>Passenger</td>\n",
       "      <td>100305829</td>\n",
       "      <td>5573</td>\n",
       "      <td>Copiapó</td>\n",
       "      <td>treatment</td>\n",
       "      <td>Chile</td>\n",
       "      <td>2025-01-06</td>\n",
       "      <td>2025-01-05</td>\n",
       "      <td>Robbery</td>\n",
       "      <td>Yellow</td>\n",
       "      <td>Confirmed</td>\n",
       "      <td>2</td>\n",
       "    </tr>\n",
       "    <tr>\n",
       "      <th>3</th>\n",
       "      <td>SQ-441612</td>\n",
       "      <td>Passenger</td>\n",
       "      <td>226665611</td>\n",
       "      <td>5368</td>\n",
       "      <td>Kingston</td>\n",
       "      <td>treatment</td>\n",
       "      <td>Jamaica</td>\n",
       "      <td>2025-01-09</td>\n",
       "      <td>2025-01-05</td>\n",
       "      <td>Threats / insults before/after a trip</td>\n",
       "      <td>Green</td>\n",
       "      <td>Not confirmed</td>\n",
       "      <td>1</td>\n",
       "    </tr>\n",
       "    <tr>\n",
       "      <th>4</th>\n",
       "      <td>SQ-451310</td>\n",
       "      <td>Passenger</td>\n",
       "      <td>144035242</td>\n",
       "      <td>5573</td>\n",
       "      <td>Copiapó</td>\n",
       "      <td>treatment</td>\n",
       "      <td>Chile</td>\n",
       "      <td>2025-01-15</td>\n",
       "      <td>2025-01-12</td>\n",
       "      <td>Attempted robbery</td>\n",
       "      <td>None</td>\n",
       "      <td>Automated ML decision</td>\n",
       "      <td>0</td>\n",
       "    </tr>\n",
       "  </tbody>\n",
       "</table>\n",
       "</div>"
      ],
      "text/plain": [
       "  redmine_id  aggressor  driver_id  city_id       city_name    segment country_name incident_date      weekly                          incident_type incident_level     information_status  incident_level_digit\n",
       "0  SQ-430855  Passenger   58438793     4233  Aguascalientes    control       Mexico    2025-01-03  2024-12-29         Buying/transportation of drugs          Green          Not confirmed                     1\n",
       "1  SQ-431962  Passenger  265816251     4155       Monterrey  treatment       Mexico    2025-01-03  2024-12-29                                Robbery         Yellow              Confirmed                     2\n",
       "2  SQ-435132  Passenger  100305829     5573         Copiapó  treatment        Chile    2025-01-06  2025-01-05                                Robbery         Yellow              Confirmed                     2\n",
       "3  SQ-441612  Passenger  226665611     5368        Kingston  treatment      Jamaica    2025-01-09  2025-01-05  Threats / insults before/after a trip          Green          Not confirmed                     1\n",
       "4  SQ-451310  Passenger  144035242     5573         Copiapó  treatment        Chile    2025-01-15  2025-01-12                      Attempted robbery           None  Automated ML decision                     0"
      ]
     },
     "execution_count": 78,
     "metadata": {},
     "output_type": "execute_result"
    }
   ],
   "source": [
    "df_distr = read_bq(\"\"\"\n",
    "SELECT redmine_id,\n",
    "       aggressor,\n",
    "       driver_id,\n",
    "       city_id,\n",
    "       city_name,\n",
    "       CASE\n",
    "           WHEN city_id IN\n",
    "                (4226, 4143, 5495, 22796, 4516, 4261, 4231, 4263, 23089, 4200, 5483, 4404, 4228, 19943, 5568, 4257,\n",
    "                 4196, 4267, 4242, 4225, 5513, 5573, 4272, 22654, 4155, 6083, 4266, 6117, 4397, 4227, 23233, 4271, 4599,\n",
    "                 7236, 4269, 22737, 5368, 4396, 4230, 4385, 4199, 4255, 5536, 5548, 5589, 4264, 4229, 4726, 23130, 5291,\n",
    "                 5600, 4198, 22817, 42833, 5535, 4234, 4197, 6587, 4243) THEN 'treatment'\n",
    "           ELSE 'control'\n",
    "           END                            segment,\n",
    "       country_name,\n",
    "       incident_date,\n",
    "       DATE_TRUNC(incident_date, WEEK) AS weekly,\n",
    "       incident_type,\n",
    "       incident_level,\n",
    "       information_status,\n",
    "       CASE\n",
    "           WHEN incident_level = 'Green' THEN 1\n",
    "           WHEN incident_level = 'Yellow' THEN 2\n",
    "           WHEN incident_level = 'Red' THEN 3\n",
    "           ELSE 0\n",
    "           END                            incident_level_digit\n",
    "FROM indriver-bi.safety.vw_safety_incidents_detail\n",
    "WHERE aggressor = 'Passenger'\n",
    "  AND city_id IN\n",
    "      (4163, 4545, 4232, 4144, 4825, 4235, 5543, 19549, 23089, 4524, 4194, 4746, 4240, 4236, 4233, 21828, 4515, 5504,\n",
    "       4532, 4195, 4258, 4226, 4143, 5495, 22796, 4516, 4261, 4231, 4263, 23089, 4200, 5483, 4404, 4228, 19943, 5568,\n",
    "       4257, 4196, 4267, 4242, 4225, 5513, 5573, 4272, 22654, 4155, 6083, 4266, 6117, 4397, 4227, 23233, 4271, 4599,\n",
    "       7236, 4269, 22737, 5368, 4396, 4230, 4385, 4199, 4255, 5536, 5548, 5589, 4264, 4229, 4726, 23130, 5291, 5600,\n",
    "       4198, 22817, 42833, 5535, 4234, 4197, 6587, 4243)\n",
    "  AND incident_date >= '2025-01-01'\n",
    "\"\"\")\n",
    "\n",
    "df_distr['incident_date'] = pd.to_datetime(df_distr['incident_date'])\n",
    "df_distr['weekly'] = pd.to_datetime(df_distr['weekly'])\n",
    "\n",
    "df_distr.head()"
   ]
  },
  {
   "cell_type": "code",
   "execution_count": 104,
   "id": "4f2310b8",
   "metadata": {},
   "outputs": [
    {
     "data": {
      "text/html": [
       "<div>\n",
       "<style scoped>\n",
       "    .dataframe tbody tr th:only-of-type {\n",
       "        vertical-align: middle;\n",
       "    }\n",
       "\n",
       "    .dataframe tbody tr th {\n",
       "        vertical-align: top;\n",
       "    }\n",
       "\n",
       "    .dataframe thead th {\n",
       "        text-align: right;\n",
       "    }\n",
       "</style>\n",
       "<table border=\"1\" class=\"dataframe\">\n",
       "  <thead>\n",
       "    <tr style=\"text-align: right;\">\n",
       "      <th></th>\n",
       "      <th>weekly</th>\n",
       "      <th>incident_level</th>\n",
       "      <th>redmine_id</th>\n",
       "      <th>weekly_total</th>\n",
       "      <th>share</th>\n",
       "    </tr>\n",
       "  </thead>\n",
       "  <tbody>\n",
       "    <tr>\n",
       "      <th>0</th>\n",
       "      <td>2025-04-06</td>\n",
       "      <td>Green</td>\n",
       "      <td>174</td>\n",
       "      <td>495</td>\n",
       "      <td>35.15</td>\n",
       "    </tr>\n",
       "    <tr>\n",
       "      <th>1</th>\n",
       "      <td>2025-04-06</td>\n",
       "      <td>Red</td>\n",
       "      <td>43</td>\n",
       "      <td>495</td>\n",
       "      <td>8.69</td>\n",
       "    </tr>\n",
       "    <tr>\n",
       "      <th>2</th>\n",
       "      <td>2025-04-06</td>\n",
       "      <td>Yellow</td>\n",
       "      <td>278</td>\n",
       "      <td>495</td>\n",
       "      <td>56.16</td>\n",
       "    </tr>\n",
       "    <tr>\n",
       "      <th>3</th>\n",
       "      <td>2025-04-13</td>\n",
       "      <td>Green</td>\n",
       "      <td>176</td>\n",
       "      <td>478</td>\n",
       "      <td>36.82</td>\n",
       "    </tr>\n",
       "    <tr>\n",
       "      <th>4</th>\n",
       "      <td>2025-04-13</td>\n",
       "      <td>Red</td>\n",
       "      <td>35</td>\n",
       "      <td>478</td>\n",
       "      <td>7.32</td>\n",
       "    </tr>\n",
       "    <tr>\n",
       "      <th>5</th>\n",
       "      <td>2025-04-13</td>\n",
       "      <td>Yellow</td>\n",
       "      <td>267</td>\n",
       "      <td>478</td>\n",
       "      <td>55.86</td>\n",
       "    </tr>\n",
       "    <tr>\n",
       "      <th>6</th>\n",
       "      <td>2025-04-20</td>\n",
       "      <td>Green</td>\n",
       "      <td>213</td>\n",
       "      <td>521</td>\n",
       "      <td>40.88</td>\n",
       "    </tr>\n",
       "    <tr>\n",
       "      <th>7</th>\n",
       "      <td>2025-04-20</td>\n",
       "      <td>Red</td>\n",
       "      <td>30</td>\n",
       "      <td>521</td>\n",
       "      <td>5.76</td>\n",
       "    </tr>\n",
       "    <tr>\n",
       "      <th>8</th>\n",
       "      <td>2025-04-20</td>\n",
       "      <td>Yellow</td>\n",
       "      <td>278</td>\n",
       "      <td>521</td>\n",
       "      <td>53.36</td>\n",
       "    </tr>\n",
       "    <tr>\n",
       "      <th>9</th>\n",
       "      <td>2025-04-27</td>\n",
       "      <td>Green</td>\n",
       "      <td>223</td>\n",
       "      <td>558</td>\n",
       "      <td>39.96</td>\n",
       "    </tr>\n",
       "    <tr>\n",
       "      <th>10</th>\n",
       "      <td>2025-04-27</td>\n",
       "      <td>Red</td>\n",
       "      <td>31</td>\n",
       "      <td>558</td>\n",
       "      <td>5.56</td>\n",
       "    </tr>\n",
       "    <tr>\n",
       "      <th>11</th>\n",
       "      <td>2025-04-27</td>\n",
       "      <td>Yellow</td>\n",
       "      <td>304</td>\n",
       "      <td>558</td>\n",
       "      <td>54.48</td>\n",
       "    </tr>\n",
       "    <tr>\n",
       "      <th>12</th>\n",
       "      <td>2025-05-04</td>\n",
       "      <td>Green</td>\n",
       "      <td>203</td>\n",
       "      <td>473</td>\n",
       "      <td>42.92</td>\n",
       "    </tr>\n",
       "    <tr>\n",
       "      <th>13</th>\n",
       "      <td>2025-05-04</td>\n",
       "      <td>Red</td>\n",
       "      <td>33</td>\n",
       "      <td>473</td>\n",
       "      <td>6.98</td>\n",
       "    </tr>\n",
       "    <tr>\n",
       "      <th>14</th>\n",
       "      <td>2025-05-04</td>\n",
       "      <td>Yellow</td>\n",
       "      <td>237</td>\n",
       "      <td>473</td>\n",
       "      <td>50.11</td>\n",
       "    </tr>\n",
       "    <tr>\n",
       "      <th>15</th>\n",
       "      <td>2025-05-11</td>\n",
       "      <td>Green</td>\n",
       "      <td>156</td>\n",
       "      <td>481</td>\n",
       "      <td>32.43</td>\n",
       "    </tr>\n",
       "    <tr>\n",
       "      <th>16</th>\n",
       "      <td>2025-05-11</td>\n",
       "      <td>Red</td>\n",
       "      <td>34</td>\n",
       "      <td>481</td>\n",
       "      <td>7.07</td>\n",
       "    </tr>\n",
       "    <tr>\n",
       "      <th>17</th>\n",
       "      <td>2025-05-11</td>\n",
       "      <td>Yellow</td>\n",
       "      <td>291</td>\n",
       "      <td>481</td>\n",
       "      <td>60.50</td>\n",
       "    </tr>\n",
       "    <tr>\n",
       "      <th>18</th>\n",
       "      <td>2025-05-18</td>\n",
       "      <td>Green</td>\n",
       "      <td>167</td>\n",
       "      <td>462</td>\n",
       "      <td>36.15</td>\n",
       "    </tr>\n",
       "    <tr>\n",
       "      <th>19</th>\n",
       "      <td>2025-05-18</td>\n",
       "      <td>Red</td>\n",
       "      <td>28</td>\n",
       "      <td>462</td>\n",
       "      <td>6.06</td>\n",
       "    </tr>\n",
       "    <tr>\n",
       "      <th>20</th>\n",
       "      <td>2025-05-18</td>\n",
       "      <td>Yellow</td>\n",
       "      <td>267</td>\n",
       "      <td>462</td>\n",
       "      <td>57.79</td>\n",
       "    </tr>\n",
       "    <tr>\n",
       "      <th>21</th>\n",
       "      <td>2025-05-25</td>\n",
       "      <td>Green</td>\n",
       "      <td>165</td>\n",
       "      <td>446</td>\n",
       "      <td>37.00</td>\n",
       "    </tr>\n",
       "    <tr>\n",
       "      <th>22</th>\n",
       "      <td>2025-05-25</td>\n",
       "      <td>Red</td>\n",
       "      <td>34</td>\n",
       "      <td>446</td>\n",
       "      <td>7.62</td>\n",
       "    </tr>\n",
       "    <tr>\n",
       "      <th>23</th>\n",
       "      <td>2025-05-25</td>\n",
       "      <td>Yellow</td>\n",
       "      <td>247</td>\n",
       "      <td>446</td>\n",
       "      <td>55.38</td>\n",
       "    </tr>\n",
       "    <tr>\n",
       "      <th>24</th>\n",
       "      <td>2025-06-01</td>\n",
       "      <td>Green</td>\n",
       "      <td>165</td>\n",
       "      <td>467</td>\n",
       "      <td>35.33</td>\n",
       "    </tr>\n",
       "    <tr>\n",
       "      <th>25</th>\n",
       "      <td>2025-06-01</td>\n",
       "      <td>Red</td>\n",
       "      <td>18</td>\n",
       "      <td>467</td>\n",
       "      <td>3.85</td>\n",
       "    </tr>\n",
       "    <tr>\n",
       "      <th>26</th>\n",
       "      <td>2025-06-01</td>\n",
       "      <td>Yellow</td>\n",
       "      <td>284</td>\n",
       "      <td>467</td>\n",
       "      <td>60.81</td>\n",
       "    </tr>\n",
       "    <tr>\n",
       "      <th>27</th>\n",
       "      <td>2025-06-08</td>\n",
       "      <td>Green</td>\n",
       "      <td>165</td>\n",
       "      <td>494</td>\n",
       "      <td>33.40</td>\n",
       "    </tr>\n",
       "    <tr>\n",
       "      <th>28</th>\n",
       "      <td>2025-06-08</td>\n",
       "      <td>Red</td>\n",
       "      <td>27</td>\n",
       "      <td>494</td>\n",
       "      <td>5.47</td>\n",
       "    </tr>\n",
       "    <tr>\n",
       "      <th>29</th>\n",
       "      <td>2025-06-08</td>\n",
       "      <td>Yellow</td>\n",
       "      <td>302</td>\n",
       "      <td>494</td>\n",
       "      <td>61.13</td>\n",
       "    </tr>\n",
       "    <tr>\n",
       "      <th>30</th>\n",
       "      <td>2025-06-15</td>\n",
       "      <td>Green</td>\n",
       "      <td>150</td>\n",
       "      <td>460</td>\n",
       "      <td>32.61</td>\n",
       "    </tr>\n",
       "    <tr>\n",
       "      <th>31</th>\n",
       "      <td>2025-06-15</td>\n",
       "      <td>Red</td>\n",
       "      <td>30</td>\n",
       "      <td>460</td>\n",
       "      <td>6.52</td>\n",
       "    </tr>\n",
       "    <tr>\n",
       "      <th>32</th>\n",
       "      <td>2025-06-15</td>\n",
       "      <td>Yellow</td>\n",
       "      <td>280</td>\n",
       "      <td>460</td>\n",
       "      <td>60.87</td>\n",
       "    </tr>\n",
       "    <tr>\n",
       "      <th>33</th>\n",
       "      <td>2025-06-22</td>\n",
       "      <td>Green</td>\n",
       "      <td>218</td>\n",
       "      <td>537</td>\n",
       "      <td>40.60</td>\n",
       "    </tr>\n",
       "    <tr>\n",
       "      <th>34</th>\n",
       "      <td>2025-06-22</td>\n",
       "      <td>Red</td>\n",
       "      <td>28</td>\n",
       "      <td>537</td>\n",
       "      <td>5.21</td>\n",
       "    </tr>\n",
       "    <tr>\n",
       "      <th>35</th>\n",
       "      <td>2025-06-22</td>\n",
       "      <td>Yellow</td>\n",
       "      <td>291</td>\n",
       "      <td>537</td>\n",
       "      <td>54.19</td>\n",
       "    </tr>\n",
       "    <tr>\n",
       "      <th>36</th>\n",
       "      <td>2025-06-29</td>\n",
       "      <td>Green</td>\n",
       "      <td>226</td>\n",
       "      <td>558</td>\n",
       "      <td>40.50</td>\n",
       "    </tr>\n",
       "    <tr>\n",
       "      <th>37</th>\n",
       "      <td>2025-06-29</td>\n",
       "      <td>Red</td>\n",
       "      <td>34</td>\n",
       "      <td>558</td>\n",
       "      <td>6.09</td>\n",
       "    </tr>\n",
       "    <tr>\n",
       "      <th>38</th>\n",
       "      <td>2025-06-29</td>\n",
       "      <td>Yellow</td>\n",
       "      <td>298</td>\n",
       "      <td>558</td>\n",
       "      <td>53.41</td>\n",
       "    </tr>\n",
       "    <tr>\n",
       "      <th>39</th>\n",
       "      <td>2025-07-06</td>\n",
       "      <td>Green</td>\n",
       "      <td>170</td>\n",
       "      <td>400</td>\n",
       "      <td>42.50</td>\n",
       "    </tr>\n",
       "    <tr>\n",
       "      <th>40</th>\n",
       "      <td>2025-07-06</td>\n",
       "      <td>Red</td>\n",
       "      <td>16</td>\n",
       "      <td>400</td>\n",
       "      <td>4.00</td>\n",
       "    </tr>\n",
       "    <tr>\n",
       "      <th>41</th>\n",
       "      <td>2025-07-06</td>\n",
       "      <td>Yellow</td>\n",
       "      <td>214</td>\n",
       "      <td>400</td>\n",
       "      <td>53.50</td>\n",
       "    </tr>\n",
       "    <tr>\n",
       "      <th>42</th>\n",
       "      <td>2025-07-13</td>\n",
       "      <td>Green</td>\n",
       "      <td>10</td>\n",
       "      <td>31</td>\n",
       "      <td>32.26</td>\n",
       "    </tr>\n",
       "    <tr>\n",
       "      <th>43</th>\n",
       "      <td>2025-07-13</td>\n",
       "      <td>Yellow</td>\n",
       "      <td>21</td>\n",
       "      <td>31</td>\n",
       "      <td>67.74</td>\n",
       "    </tr>\n",
       "  </tbody>\n",
       "</table>\n",
       "</div>"
      ],
      "text/plain": [
       "       weekly incident_level  redmine_id  weekly_total  share\n",
       "0  2025-04-06          Green         174           495  35.15\n",
       "1  2025-04-06            Red          43           495   8.69\n",
       "2  2025-04-06         Yellow         278           495  56.16\n",
       "3  2025-04-13          Green         176           478  36.82\n",
       "4  2025-04-13            Red          35           478   7.32\n",
       "5  2025-04-13         Yellow         267           478  55.86\n",
       "6  2025-04-20          Green         213           521  40.88\n",
       "7  2025-04-20            Red          30           521   5.76\n",
       "8  2025-04-20         Yellow         278           521  53.36\n",
       "9  2025-04-27          Green         223           558  39.96\n",
       "10 2025-04-27            Red          31           558   5.56\n",
       "11 2025-04-27         Yellow         304           558  54.48\n",
       "12 2025-05-04          Green         203           473  42.92\n",
       "13 2025-05-04            Red          33           473   6.98\n",
       "14 2025-05-04         Yellow         237           473  50.11\n",
       "15 2025-05-11          Green         156           481  32.43\n",
       "16 2025-05-11            Red          34           481   7.07\n",
       "17 2025-05-11         Yellow         291           481  60.50\n",
       "18 2025-05-18          Green         167           462  36.15\n",
       "19 2025-05-18            Red          28           462   6.06\n",
       "20 2025-05-18         Yellow         267           462  57.79\n",
       "21 2025-05-25          Green         165           446  37.00\n",
       "22 2025-05-25            Red          34           446   7.62\n",
       "23 2025-05-25         Yellow         247           446  55.38\n",
       "24 2025-06-01          Green         165           467  35.33\n",
       "25 2025-06-01            Red          18           467   3.85\n",
       "26 2025-06-01         Yellow         284           467  60.81\n",
       "27 2025-06-08          Green         165           494  33.40\n",
       "28 2025-06-08            Red          27           494   5.47\n",
       "29 2025-06-08         Yellow         302           494  61.13\n",
       "30 2025-06-15          Green         150           460  32.61\n",
       "31 2025-06-15            Red          30           460   6.52\n",
       "32 2025-06-15         Yellow         280           460  60.87\n",
       "33 2025-06-22          Green         218           537  40.60\n",
       "34 2025-06-22            Red          28           537   5.21\n",
       "35 2025-06-22         Yellow         291           537  54.19\n",
       "36 2025-06-29          Green         226           558  40.50\n",
       "37 2025-06-29            Red          34           558   6.09\n",
       "38 2025-06-29         Yellow         298           558  53.41\n",
       "39 2025-07-06          Green         170           400  42.50\n",
       "40 2025-07-06            Red          16           400   4.00\n",
       "41 2025-07-06         Yellow         214           400  53.50\n",
       "42 2025-07-13          Green          10            31  32.26\n",
       "43 2025-07-13         Yellow          21            31  67.74"
      ]
     },
     "execution_count": 104,
     "metadata": {},
     "output_type": "execute_result"
    }
   ],
   "source": [
    "agg_data = df_distr[(df_distr['weekly']>='2025-04-01')&(df_distr['information_status']=='Confirmed')&(df_distr['segment']=='treatment')].groupby(['weekly', 'incident_level'], as_index=False)['redmine_id'].count()\n",
    "\n",
    "agg_data['weekly_total'] = agg_data.groupby('weekly')['redmine_id'].transform('sum')\n",
    "\n",
    "agg_data['share'] = agg_data['redmine_id'] / agg_data['weekly_total'] *100 \n",
    "\n",
    "agg_data"
   ]
  },
  {
   "cell_type": "code",
   "execution_count": null,
   "id": "a0069cb6",
   "metadata": {},
   "outputs": [],
   "source": []
  },
  {
   "cell_type": "code",
   "execution_count": 115,
   "id": "bfd9af48",
   "metadata": {},
   "outputs": [
    {
     "data": {
      "application/vnd.plotly.v1+json": {
       "config": {
        "plotlyServerURL": "https://plot.ly"
       },
       "data": [
        {
         "alignmentgroup": "True",
         "hovertemplate": "incident_level=Green<br>weekly=%{x}<br>redmine_id=%{y}<extra></extra>",
         "legendgroup": "Green",
         "marker": {
          "color": "#636efa",
          "pattern": {
           "shape": ""
          }
         },
         "name": "Green",
         "offsetgroup": "Green",
         "orientation": "v",
         "showlegend": true,
         "textposition": "auto",
         "texttemplate": "%{y}",
         "type": "bar",
         "x": [
          "2025-04-06T00:00:00",
          "2025-04-13T00:00:00",
          "2025-04-20T00:00:00",
          "2025-04-27T00:00:00",
          "2025-05-04T00:00:00",
          "2025-05-11T00:00:00",
          "2025-05-18T00:00:00",
          "2025-05-25T00:00:00",
          "2025-06-01T00:00:00",
          "2025-06-08T00:00:00",
          "2025-06-15T00:00:00",
          "2025-06-22T00:00:00",
          "2025-06-29T00:00:00",
          "2025-07-06T00:00:00",
          "2025-07-13T00:00:00"
         ],
         "xaxis": "x",
         "y": [
          47,
          57,
          33,
          42,
          45,
          43,
          32,
          47,
          47,
          60,
          41,
          50,
          57,
          50,
          1
         ],
         "yaxis": "y"
        },
        {
         "alignmentgroup": "True",
         "hovertemplate": "incident_level=Red<br>weekly=%{x}<br>redmine_id=%{y}<extra></extra>",
         "legendgroup": "Red",
         "marker": {
          "color": "#EF553B",
          "pattern": {
           "shape": ""
          }
         },
         "name": "Red",
         "offsetgroup": "Red",
         "orientation": "v",
         "showlegend": true,
         "textposition": "auto",
         "texttemplate": "%{y}",
         "type": "bar",
         "x": [
          "2025-04-06T00:00:00",
          "2025-04-13T00:00:00",
          "2025-04-20T00:00:00",
          "2025-04-27T00:00:00",
          "2025-05-04T00:00:00",
          "2025-05-11T00:00:00",
          "2025-05-18T00:00:00",
          "2025-05-25T00:00:00",
          "2025-06-01T00:00:00",
          "2025-06-08T00:00:00",
          "2025-06-15T00:00:00",
          "2025-06-22T00:00:00",
          "2025-06-29T00:00:00",
          "2025-07-06T00:00:00",
          "2025-07-13T00:00:00"
         ],
         "xaxis": "x",
         "y": [
          5,
          5,
          7,
          2,
          8,
          6,
          4,
          4,
          3,
          8,
          5,
          4,
          2,
          3,
          1
         ],
         "yaxis": "y"
        },
        {
         "alignmentgroup": "True",
         "hovertemplate": "incident_level=Yellow<br>weekly=%{x}<br>redmine_id=%{y}<extra></extra>",
         "legendgroup": "Yellow",
         "marker": {
          "color": "#00cc96",
          "pattern": {
           "shape": ""
          }
         },
         "name": "Yellow",
         "offsetgroup": "Yellow",
         "orientation": "v",
         "showlegend": true,
         "textposition": "auto",
         "texttemplate": "%{y}",
         "type": "bar",
         "x": [
          "2025-04-06T00:00:00",
          "2025-04-13T00:00:00",
          "2025-04-20T00:00:00",
          "2025-04-27T00:00:00",
          "2025-05-04T00:00:00",
          "2025-05-11T00:00:00",
          "2025-05-18T00:00:00",
          "2025-05-25T00:00:00",
          "2025-06-01T00:00:00",
          "2025-06-08T00:00:00",
          "2025-06-15T00:00:00",
          "2025-06-22T00:00:00",
          "2025-06-29T00:00:00",
          "2025-07-06T00:00:00",
          "2025-07-13T00:00:00"
         ],
         "xaxis": "x",
         "y": [
          67,
          69,
          86,
          56,
          59,
          68,
          61,
          67,
          76,
          70,
          76,
          82,
          55,
          65,
          3
         ],
         "yaxis": "y"
        }
       ],
       "layout": {
        "barmode": "relative",
        "legend": {
         "title": {
          "text": "incident_level"
         },
         "tracegroupgap": 0
        },
        "template": {
         "data": {
          "bar": [
           {
            "error_x": {
             "color": "#2a3f5f"
            },
            "error_y": {
             "color": "#2a3f5f"
            },
            "marker": {
             "line": {
              "color": "#E5ECF6",
              "width": 0.5
             },
             "pattern": {
              "fillmode": "overlay",
              "size": 10,
              "solidity": 0.2
             }
            },
            "type": "bar"
           }
          ],
          "barpolar": [
           {
            "marker": {
             "line": {
              "color": "#E5ECF6",
              "width": 0.5
             },
             "pattern": {
              "fillmode": "overlay",
              "size": 10,
              "solidity": 0.2
             }
            },
            "type": "barpolar"
           }
          ],
          "carpet": [
           {
            "aaxis": {
             "endlinecolor": "#2a3f5f",
             "gridcolor": "white",
             "linecolor": "white",
             "minorgridcolor": "white",
             "startlinecolor": "#2a3f5f"
            },
            "baxis": {
             "endlinecolor": "#2a3f5f",
             "gridcolor": "white",
             "linecolor": "white",
             "minorgridcolor": "white",
             "startlinecolor": "#2a3f5f"
            },
            "type": "carpet"
           }
          ],
          "choropleth": [
           {
            "colorbar": {
             "outlinewidth": 0,
             "ticks": ""
            },
            "type": "choropleth"
           }
          ],
          "contour": [
           {
            "colorbar": {
             "outlinewidth": 0,
             "ticks": ""
            },
            "colorscale": [
             [
              0,
              "#0d0887"
             ],
             [
              0.1111111111111111,
              "#46039f"
             ],
             [
              0.2222222222222222,
              "#7201a8"
             ],
             [
              0.3333333333333333,
              "#9c179e"
             ],
             [
              0.4444444444444444,
              "#bd3786"
             ],
             [
              0.5555555555555556,
              "#d8576b"
             ],
             [
              0.6666666666666666,
              "#ed7953"
             ],
             [
              0.7777777777777778,
              "#fb9f3a"
             ],
             [
              0.8888888888888888,
              "#fdca26"
             ],
             [
              1,
              "#f0f921"
             ]
            ],
            "type": "contour"
           }
          ],
          "contourcarpet": [
           {
            "colorbar": {
             "outlinewidth": 0,
             "ticks": ""
            },
            "type": "contourcarpet"
           }
          ],
          "heatmap": [
           {
            "colorbar": {
             "outlinewidth": 0,
             "ticks": ""
            },
            "colorscale": [
             [
              0,
              "#0d0887"
             ],
             [
              0.1111111111111111,
              "#46039f"
             ],
             [
              0.2222222222222222,
              "#7201a8"
             ],
             [
              0.3333333333333333,
              "#9c179e"
             ],
             [
              0.4444444444444444,
              "#bd3786"
             ],
             [
              0.5555555555555556,
              "#d8576b"
             ],
             [
              0.6666666666666666,
              "#ed7953"
             ],
             [
              0.7777777777777778,
              "#fb9f3a"
             ],
             [
              0.8888888888888888,
              "#fdca26"
             ],
             [
              1,
              "#f0f921"
             ]
            ],
            "type": "heatmap"
           }
          ],
          "heatmapgl": [
           {
            "colorbar": {
             "outlinewidth": 0,
             "ticks": ""
            },
            "colorscale": [
             [
              0,
              "#0d0887"
             ],
             [
              0.1111111111111111,
              "#46039f"
             ],
             [
              0.2222222222222222,
              "#7201a8"
             ],
             [
              0.3333333333333333,
              "#9c179e"
             ],
             [
              0.4444444444444444,
              "#bd3786"
             ],
             [
              0.5555555555555556,
              "#d8576b"
             ],
             [
              0.6666666666666666,
              "#ed7953"
             ],
             [
              0.7777777777777778,
              "#fb9f3a"
             ],
             [
              0.8888888888888888,
              "#fdca26"
             ],
             [
              1,
              "#f0f921"
             ]
            ],
            "type": "heatmapgl"
           }
          ],
          "histogram": [
           {
            "marker": {
             "pattern": {
              "fillmode": "overlay",
              "size": 10,
              "solidity": 0.2
             }
            },
            "type": "histogram"
           }
          ],
          "histogram2d": [
           {
            "colorbar": {
             "outlinewidth": 0,
             "ticks": ""
            },
            "colorscale": [
             [
              0,
              "#0d0887"
             ],
             [
              0.1111111111111111,
              "#46039f"
             ],
             [
              0.2222222222222222,
              "#7201a8"
             ],
             [
              0.3333333333333333,
              "#9c179e"
             ],
             [
              0.4444444444444444,
              "#bd3786"
             ],
             [
              0.5555555555555556,
              "#d8576b"
             ],
             [
              0.6666666666666666,
              "#ed7953"
             ],
             [
              0.7777777777777778,
              "#fb9f3a"
             ],
             [
              0.8888888888888888,
              "#fdca26"
             ],
             [
              1,
              "#f0f921"
             ]
            ],
            "type": "histogram2d"
           }
          ],
          "histogram2dcontour": [
           {
            "colorbar": {
             "outlinewidth": 0,
             "ticks": ""
            },
            "colorscale": [
             [
              0,
              "#0d0887"
             ],
             [
              0.1111111111111111,
              "#46039f"
             ],
             [
              0.2222222222222222,
              "#7201a8"
             ],
             [
              0.3333333333333333,
              "#9c179e"
             ],
             [
              0.4444444444444444,
              "#bd3786"
             ],
             [
              0.5555555555555556,
              "#d8576b"
             ],
             [
              0.6666666666666666,
              "#ed7953"
             ],
             [
              0.7777777777777778,
              "#fb9f3a"
             ],
             [
              0.8888888888888888,
              "#fdca26"
             ],
             [
              1,
              "#f0f921"
             ]
            ],
            "type": "histogram2dcontour"
           }
          ],
          "mesh3d": [
           {
            "colorbar": {
             "outlinewidth": 0,
             "ticks": ""
            },
            "type": "mesh3d"
           }
          ],
          "parcoords": [
           {
            "line": {
             "colorbar": {
              "outlinewidth": 0,
              "ticks": ""
             }
            },
            "type": "parcoords"
           }
          ],
          "pie": [
           {
            "automargin": true,
            "type": "pie"
           }
          ],
          "scatter": [
           {
            "fillpattern": {
             "fillmode": "overlay",
             "size": 10,
             "solidity": 0.2
            },
            "type": "scatter"
           }
          ],
          "scatter3d": [
           {
            "line": {
             "colorbar": {
              "outlinewidth": 0,
              "ticks": ""
             }
            },
            "marker": {
             "colorbar": {
              "outlinewidth": 0,
              "ticks": ""
             }
            },
            "type": "scatter3d"
           }
          ],
          "scattercarpet": [
           {
            "marker": {
             "colorbar": {
              "outlinewidth": 0,
              "ticks": ""
             }
            },
            "type": "scattercarpet"
           }
          ],
          "scattergeo": [
           {
            "marker": {
             "colorbar": {
              "outlinewidth": 0,
              "ticks": ""
             }
            },
            "type": "scattergeo"
           }
          ],
          "scattergl": [
           {
            "marker": {
             "colorbar": {
              "outlinewidth": 0,
              "ticks": ""
             }
            },
            "type": "scattergl"
           }
          ],
          "scattermapbox": [
           {
            "marker": {
             "colorbar": {
              "outlinewidth": 0,
              "ticks": ""
             }
            },
            "type": "scattermapbox"
           }
          ],
          "scatterpolar": [
           {
            "marker": {
             "colorbar": {
              "outlinewidth": 0,
              "ticks": ""
             }
            },
            "type": "scatterpolar"
           }
          ],
          "scatterpolargl": [
           {
            "marker": {
             "colorbar": {
              "outlinewidth": 0,
              "ticks": ""
             }
            },
            "type": "scatterpolargl"
           }
          ],
          "scatterternary": [
           {
            "marker": {
             "colorbar": {
              "outlinewidth": 0,
              "ticks": ""
             }
            },
            "type": "scatterternary"
           }
          ],
          "surface": [
           {
            "colorbar": {
             "outlinewidth": 0,
             "ticks": ""
            },
            "colorscale": [
             [
              0,
              "#0d0887"
             ],
             [
              0.1111111111111111,
              "#46039f"
             ],
             [
              0.2222222222222222,
              "#7201a8"
             ],
             [
              0.3333333333333333,
              "#9c179e"
             ],
             [
              0.4444444444444444,
              "#bd3786"
             ],
             [
              0.5555555555555556,
              "#d8576b"
             ],
             [
              0.6666666666666666,
              "#ed7953"
             ],
             [
              0.7777777777777778,
              "#fb9f3a"
             ],
             [
              0.8888888888888888,
              "#fdca26"
             ],
             [
              1,
              "#f0f921"
             ]
            ],
            "type": "surface"
           }
          ],
          "table": [
           {
            "cells": {
             "fill": {
              "color": "#EBF0F8"
             },
             "line": {
              "color": "white"
             }
            },
            "header": {
             "fill": {
              "color": "#C8D4E3"
             },
             "line": {
              "color": "white"
             }
            },
            "type": "table"
           }
          ]
         },
         "layout": {
          "annotationdefaults": {
           "arrowcolor": "#2a3f5f",
           "arrowhead": 0,
           "arrowwidth": 1
          },
          "autotypenumbers": "strict",
          "coloraxis": {
           "colorbar": {
            "outlinewidth": 0,
            "ticks": ""
           }
          },
          "colorscale": {
           "diverging": [
            [
             0,
             "#8e0152"
            ],
            [
             0.1,
             "#c51b7d"
            ],
            [
             0.2,
             "#de77ae"
            ],
            [
             0.3,
             "#f1b6da"
            ],
            [
             0.4,
             "#fde0ef"
            ],
            [
             0.5,
             "#f7f7f7"
            ],
            [
             0.6,
             "#e6f5d0"
            ],
            [
             0.7,
             "#b8e186"
            ],
            [
             0.8,
             "#7fbc41"
            ],
            [
             0.9,
             "#4d9221"
            ],
            [
             1,
             "#276419"
            ]
           ],
           "sequential": [
            [
             0,
             "#0d0887"
            ],
            [
             0.1111111111111111,
             "#46039f"
            ],
            [
             0.2222222222222222,
             "#7201a8"
            ],
            [
             0.3333333333333333,
             "#9c179e"
            ],
            [
             0.4444444444444444,
             "#bd3786"
            ],
            [
             0.5555555555555556,
             "#d8576b"
            ],
            [
             0.6666666666666666,
             "#ed7953"
            ],
            [
             0.7777777777777778,
             "#fb9f3a"
            ],
            [
             0.8888888888888888,
             "#fdca26"
            ],
            [
             1,
             "#f0f921"
            ]
           ],
           "sequentialminus": [
            [
             0,
             "#0d0887"
            ],
            [
             0.1111111111111111,
             "#46039f"
            ],
            [
             0.2222222222222222,
             "#7201a8"
            ],
            [
             0.3333333333333333,
             "#9c179e"
            ],
            [
             0.4444444444444444,
             "#bd3786"
            ],
            [
             0.5555555555555556,
             "#d8576b"
            ],
            [
             0.6666666666666666,
             "#ed7953"
            ],
            [
             0.7777777777777778,
             "#fb9f3a"
            ],
            [
             0.8888888888888888,
             "#fdca26"
            ],
            [
             1,
             "#f0f921"
            ]
           ]
          },
          "colorway": [
           "#636efa",
           "#EF553B",
           "#00cc96",
           "#ab63fa",
           "#FFA15A",
           "#19d3f3",
           "#FF6692",
           "#B6E880",
           "#FF97FF",
           "#FECB52"
          ],
          "font": {
           "color": "#2a3f5f"
          },
          "geo": {
           "bgcolor": "white",
           "lakecolor": "white",
           "landcolor": "#E5ECF6",
           "showlakes": true,
           "showland": true,
           "subunitcolor": "white"
          },
          "hoverlabel": {
           "align": "left"
          },
          "hovermode": "closest",
          "mapbox": {
           "style": "light"
          },
          "paper_bgcolor": "white",
          "plot_bgcolor": "#E5ECF6",
          "polar": {
           "angularaxis": {
            "gridcolor": "white",
            "linecolor": "white",
            "ticks": ""
           },
           "bgcolor": "#E5ECF6",
           "radialaxis": {
            "gridcolor": "white",
            "linecolor": "white",
            "ticks": ""
           }
          },
          "scene": {
           "xaxis": {
            "backgroundcolor": "#E5ECF6",
            "gridcolor": "white",
            "gridwidth": 2,
            "linecolor": "white",
            "showbackground": true,
            "ticks": "",
            "zerolinecolor": "white"
           },
           "yaxis": {
            "backgroundcolor": "#E5ECF6",
            "gridcolor": "white",
            "gridwidth": 2,
            "linecolor": "white",
            "showbackground": true,
            "ticks": "",
            "zerolinecolor": "white"
           },
           "zaxis": {
            "backgroundcolor": "#E5ECF6",
            "gridcolor": "white",
            "gridwidth": 2,
            "linecolor": "white",
            "showbackground": true,
            "ticks": "",
            "zerolinecolor": "white"
           }
          },
          "shapedefaults": {
           "line": {
            "color": "#2a3f5f"
           }
          },
          "ternary": {
           "aaxis": {
            "gridcolor": "white",
            "linecolor": "white",
            "ticks": ""
           },
           "baxis": {
            "gridcolor": "white",
            "linecolor": "white",
            "ticks": ""
           },
           "bgcolor": "#E5ECF6",
           "caxis": {
            "gridcolor": "white",
            "linecolor": "white",
            "ticks": ""
           }
          },
          "title": {
           "x": 0.05
          },
          "xaxis": {
           "automargin": true,
           "gridcolor": "white",
           "linecolor": "white",
           "ticks": "",
           "title": {
            "standoff": 15
           },
           "zerolinecolor": "white",
           "zerolinewidth": 2
          },
          "yaxis": {
           "automargin": true,
           "gridcolor": "white",
           "linecolor": "white",
           "ticks": "",
           "title": {
            "standoff": 15
           },
           "zerolinecolor": "white",
           "zerolinewidth": 2
          }
         }
        },
        "title": {
         "text": "Incidents, control"
        },
        "xaxis": {
         "anchor": "y",
         "domain": [
          0,
          1
         ],
         "title": {
          "text": "weekly"
         }
        },
        "yaxis": {
         "anchor": "x",
         "domain": [
          0,
          1
         ],
         "title": {
          "text": "redmine_id"
         }
        }
       }
      }
     },
     "metadata": {},
     "output_type": "display_data"
    },
    {
     "data": {
      "application/vnd.plotly.v1+json": {
       "config": {
        "plotlyServerURL": "https://plot.ly"
       },
       "data": [
        {
         "alignmentgroup": "True",
         "hovertemplate": "incident_level=Green<br>weekly=%{x}<br>redmine_id=%{y}<extra></extra>",
         "legendgroup": "Green",
         "marker": {
          "color": "#636efa",
          "pattern": {
           "shape": ""
          }
         },
         "name": "Green",
         "offsetgroup": "Green",
         "orientation": "v",
         "showlegend": true,
         "textposition": "auto",
         "texttemplate": "%{y}",
         "type": "bar",
         "x": [
          "2025-04-06T00:00:00",
          "2025-04-13T00:00:00",
          "2025-04-20T00:00:00",
          "2025-04-27T00:00:00",
          "2025-05-04T00:00:00",
          "2025-05-11T00:00:00",
          "2025-05-18T00:00:00",
          "2025-05-25T00:00:00",
          "2025-06-01T00:00:00",
          "2025-06-08T00:00:00",
          "2025-06-15T00:00:00",
          "2025-06-22T00:00:00",
          "2025-06-29T00:00:00",
          "2025-07-06T00:00:00",
          "2025-07-13T00:00:00"
         ],
         "xaxis": "x",
         "y": [
          174,
          176,
          213,
          223,
          203,
          156,
          167,
          165,
          165,
          165,
          150,
          218,
          226,
          170,
          10
         ],
         "yaxis": "y"
        },
        {
         "alignmentgroup": "True",
         "hovertemplate": "incident_level=Red<br>weekly=%{x}<br>redmine_id=%{y}<extra></extra>",
         "legendgroup": "Red",
         "marker": {
          "color": "#EF553B",
          "pattern": {
           "shape": ""
          }
         },
         "name": "Red",
         "offsetgroup": "Red",
         "orientation": "v",
         "showlegend": true,
         "textposition": "auto",
         "texttemplate": "%{y}",
         "type": "bar",
         "x": [
          "2025-04-06T00:00:00",
          "2025-04-13T00:00:00",
          "2025-04-20T00:00:00",
          "2025-04-27T00:00:00",
          "2025-05-04T00:00:00",
          "2025-05-11T00:00:00",
          "2025-05-18T00:00:00",
          "2025-05-25T00:00:00",
          "2025-06-01T00:00:00",
          "2025-06-08T00:00:00",
          "2025-06-15T00:00:00",
          "2025-06-22T00:00:00",
          "2025-06-29T00:00:00",
          "2025-07-06T00:00:00"
         ],
         "xaxis": "x",
         "y": [
          43,
          35,
          30,
          31,
          33,
          34,
          28,
          34,
          18,
          27,
          30,
          28,
          34,
          16
         ],
         "yaxis": "y"
        },
        {
         "alignmentgroup": "True",
         "hovertemplate": "incident_level=Yellow<br>weekly=%{x}<br>redmine_id=%{y}<extra></extra>",
         "legendgroup": "Yellow",
         "marker": {
          "color": "#00cc96",
          "pattern": {
           "shape": ""
          }
         },
         "name": "Yellow",
         "offsetgroup": "Yellow",
         "orientation": "v",
         "showlegend": true,
         "textposition": "auto",
         "texttemplate": "%{y}",
         "type": "bar",
         "x": [
          "2025-04-06T00:00:00",
          "2025-04-13T00:00:00",
          "2025-04-20T00:00:00",
          "2025-04-27T00:00:00",
          "2025-05-04T00:00:00",
          "2025-05-11T00:00:00",
          "2025-05-18T00:00:00",
          "2025-05-25T00:00:00",
          "2025-06-01T00:00:00",
          "2025-06-08T00:00:00",
          "2025-06-15T00:00:00",
          "2025-06-22T00:00:00",
          "2025-06-29T00:00:00",
          "2025-07-06T00:00:00",
          "2025-07-13T00:00:00"
         ],
         "xaxis": "x",
         "y": [
          278,
          267,
          278,
          304,
          237,
          291,
          267,
          247,
          284,
          302,
          280,
          291,
          298,
          214,
          21
         ],
         "yaxis": "y"
        }
       ],
       "layout": {
        "barmode": "relative",
        "legend": {
         "title": {
          "text": "incident_level"
         },
         "tracegroupgap": 0
        },
        "template": {
         "data": {
          "bar": [
           {
            "error_x": {
             "color": "#2a3f5f"
            },
            "error_y": {
             "color": "#2a3f5f"
            },
            "marker": {
             "line": {
              "color": "#E5ECF6",
              "width": 0.5
             },
             "pattern": {
              "fillmode": "overlay",
              "size": 10,
              "solidity": 0.2
             }
            },
            "type": "bar"
           }
          ],
          "barpolar": [
           {
            "marker": {
             "line": {
              "color": "#E5ECF6",
              "width": 0.5
             },
             "pattern": {
              "fillmode": "overlay",
              "size": 10,
              "solidity": 0.2
             }
            },
            "type": "barpolar"
           }
          ],
          "carpet": [
           {
            "aaxis": {
             "endlinecolor": "#2a3f5f",
             "gridcolor": "white",
             "linecolor": "white",
             "minorgridcolor": "white",
             "startlinecolor": "#2a3f5f"
            },
            "baxis": {
             "endlinecolor": "#2a3f5f",
             "gridcolor": "white",
             "linecolor": "white",
             "minorgridcolor": "white",
             "startlinecolor": "#2a3f5f"
            },
            "type": "carpet"
           }
          ],
          "choropleth": [
           {
            "colorbar": {
             "outlinewidth": 0,
             "ticks": ""
            },
            "type": "choropleth"
           }
          ],
          "contour": [
           {
            "colorbar": {
             "outlinewidth": 0,
             "ticks": ""
            },
            "colorscale": [
             [
              0,
              "#0d0887"
             ],
             [
              0.1111111111111111,
              "#46039f"
             ],
             [
              0.2222222222222222,
              "#7201a8"
             ],
             [
              0.3333333333333333,
              "#9c179e"
             ],
             [
              0.4444444444444444,
              "#bd3786"
             ],
             [
              0.5555555555555556,
              "#d8576b"
             ],
             [
              0.6666666666666666,
              "#ed7953"
             ],
             [
              0.7777777777777778,
              "#fb9f3a"
             ],
             [
              0.8888888888888888,
              "#fdca26"
             ],
             [
              1,
              "#f0f921"
             ]
            ],
            "type": "contour"
           }
          ],
          "contourcarpet": [
           {
            "colorbar": {
             "outlinewidth": 0,
             "ticks": ""
            },
            "type": "contourcarpet"
           }
          ],
          "heatmap": [
           {
            "colorbar": {
             "outlinewidth": 0,
             "ticks": ""
            },
            "colorscale": [
             [
              0,
              "#0d0887"
             ],
             [
              0.1111111111111111,
              "#46039f"
             ],
             [
              0.2222222222222222,
              "#7201a8"
             ],
             [
              0.3333333333333333,
              "#9c179e"
             ],
             [
              0.4444444444444444,
              "#bd3786"
             ],
             [
              0.5555555555555556,
              "#d8576b"
             ],
             [
              0.6666666666666666,
              "#ed7953"
             ],
             [
              0.7777777777777778,
              "#fb9f3a"
             ],
             [
              0.8888888888888888,
              "#fdca26"
             ],
             [
              1,
              "#f0f921"
             ]
            ],
            "type": "heatmap"
           }
          ],
          "heatmapgl": [
           {
            "colorbar": {
             "outlinewidth": 0,
             "ticks": ""
            },
            "colorscale": [
             [
              0,
              "#0d0887"
             ],
             [
              0.1111111111111111,
              "#46039f"
             ],
             [
              0.2222222222222222,
              "#7201a8"
             ],
             [
              0.3333333333333333,
              "#9c179e"
             ],
             [
              0.4444444444444444,
              "#bd3786"
             ],
             [
              0.5555555555555556,
              "#d8576b"
             ],
             [
              0.6666666666666666,
              "#ed7953"
             ],
             [
              0.7777777777777778,
              "#fb9f3a"
             ],
             [
              0.8888888888888888,
              "#fdca26"
             ],
             [
              1,
              "#f0f921"
             ]
            ],
            "type": "heatmapgl"
           }
          ],
          "histogram": [
           {
            "marker": {
             "pattern": {
              "fillmode": "overlay",
              "size": 10,
              "solidity": 0.2
             }
            },
            "type": "histogram"
           }
          ],
          "histogram2d": [
           {
            "colorbar": {
             "outlinewidth": 0,
             "ticks": ""
            },
            "colorscale": [
             [
              0,
              "#0d0887"
             ],
             [
              0.1111111111111111,
              "#46039f"
             ],
             [
              0.2222222222222222,
              "#7201a8"
             ],
             [
              0.3333333333333333,
              "#9c179e"
             ],
             [
              0.4444444444444444,
              "#bd3786"
             ],
             [
              0.5555555555555556,
              "#d8576b"
             ],
             [
              0.6666666666666666,
              "#ed7953"
             ],
             [
              0.7777777777777778,
              "#fb9f3a"
             ],
             [
              0.8888888888888888,
              "#fdca26"
             ],
             [
              1,
              "#f0f921"
             ]
            ],
            "type": "histogram2d"
           }
          ],
          "histogram2dcontour": [
           {
            "colorbar": {
             "outlinewidth": 0,
             "ticks": ""
            },
            "colorscale": [
             [
              0,
              "#0d0887"
             ],
             [
              0.1111111111111111,
              "#46039f"
             ],
             [
              0.2222222222222222,
              "#7201a8"
             ],
             [
              0.3333333333333333,
              "#9c179e"
             ],
             [
              0.4444444444444444,
              "#bd3786"
             ],
             [
              0.5555555555555556,
              "#d8576b"
             ],
             [
              0.6666666666666666,
              "#ed7953"
             ],
             [
              0.7777777777777778,
              "#fb9f3a"
             ],
             [
              0.8888888888888888,
              "#fdca26"
             ],
             [
              1,
              "#f0f921"
             ]
            ],
            "type": "histogram2dcontour"
           }
          ],
          "mesh3d": [
           {
            "colorbar": {
             "outlinewidth": 0,
             "ticks": ""
            },
            "type": "mesh3d"
           }
          ],
          "parcoords": [
           {
            "line": {
             "colorbar": {
              "outlinewidth": 0,
              "ticks": ""
             }
            },
            "type": "parcoords"
           }
          ],
          "pie": [
           {
            "automargin": true,
            "type": "pie"
           }
          ],
          "scatter": [
           {
            "fillpattern": {
             "fillmode": "overlay",
             "size": 10,
             "solidity": 0.2
            },
            "type": "scatter"
           }
          ],
          "scatter3d": [
           {
            "line": {
             "colorbar": {
              "outlinewidth": 0,
              "ticks": ""
             }
            },
            "marker": {
             "colorbar": {
              "outlinewidth": 0,
              "ticks": ""
             }
            },
            "type": "scatter3d"
           }
          ],
          "scattercarpet": [
           {
            "marker": {
             "colorbar": {
              "outlinewidth": 0,
              "ticks": ""
             }
            },
            "type": "scattercarpet"
           }
          ],
          "scattergeo": [
           {
            "marker": {
             "colorbar": {
              "outlinewidth": 0,
              "ticks": ""
             }
            },
            "type": "scattergeo"
           }
          ],
          "scattergl": [
           {
            "marker": {
             "colorbar": {
              "outlinewidth": 0,
              "ticks": ""
             }
            },
            "type": "scattergl"
           }
          ],
          "scattermapbox": [
           {
            "marker": {
             "colorbar": {
              "outlinewidth": 0,
              "ticks": ""
             }
            },
            "type": "scattermapbox"
           }
          ],
          "scatterpolar": [
           {
            "marker": {
             "colorbar": {
              "outlinewidth": 0,
              "ticks": ""
             }
            },
            "type": "scatterpolar"
           }
          ],
          "scatterpolargl": [
           {
            "marker": {
             "colorbar": {
              "outlinewidth": 0,
              "ticks": ""
             }
            },
            "type": "scatterpolargl"
           }
          ],
          "scatterternary": [
           {
            "marker": {
             "colorbar": {
              "outlinewidth": 0,
              "ticks": ""
             }
            },
            "type": "scatterternary"
           }
          ],
          "surface": [
           {
            "colorbar": {
             "outlinewidth": 0,
             "ticks": ""
            },
            "colorscale": [
             [
              0,
              "#0d0887"
             ],
             [
              0.1111111111111111,
              "#46039f"
             ],
             [
              0.2222222222222222,
              "#7201a8"
             ],
             [
              0.3333333333333333,
              "#9c179e"
             ],
             [
              0.4444444444444444,
              "#bd3786"
             ],
             [
              0.5555555555555556,
              "#d8576b"
             ],
             [
              0.6666666666666666,
              "#ed7953"
             ],
             [
              0.7777777777777778,
              "#fb9f3a"
             ],
             [
              0.8888888888888888,
              "#fdca26"
             ],
             [
              1,
              "#f0f921"
             ]
            ],
            "type": "surface"
           }
          ],
          "table": [
           {
            "cells": {
             "fill": {
              "color": "#EBF0F8"
             },
             "line": {
              "color": "white"
             }
            },
            "header": {
             "fill": {
              "color": "#C8D4E3"
             },
             "line": {
              "color": "white"
             }
            },
            "type": "table"
           }
          ]
         },
         "layout": {
          "annotationdefaults": {
           "arrowcolor": "#2a3f5f",
           "arrowhead": 0,
           "arrowwidth": 1
          },
          "autotypenumbers": "strict",
          "coloraxis": {
           "colorbar": {
            "outlinewidth": 0,
            "ticks": ""
           }
          },
          "colorscale": {
           "diverging": [
            [
             0,
             "#8e0152"
            ],
            [
             0.1,
             "#c51b7d"
            ],
            [
             0.2,
             "#de77ae"
            ],
            [
             0.3,
             "#f1b6da"
            ],
            [
             0.4,
             "#fde0ef"
            ],
            [
             0.5,
             "#f7f7f7"
            ],
            [
             0.6,
             "#e6f5d0"
            ],
            [
             0.7,
             "#b8e186"
            ],
            [
             0.8,
             "#7fbc41"
            ],
            [
             0.9,
             "#4d9221"
            ],
            [
             1,
             "#276419"
            ]
           ],
           "sequential": [
            [
             0,
             "#0d0887"
            ],
            [
             0.1111111111111111,
             "#46039f"
            ],
            [
             0.2222222222222222,
             "#7201a8"
            ],
            [
             0.3333333333333333,
             "#9c179e"
            ],
            [
             0.4444444444444444,
             "#bd3786"
            ],
            [
             0.5555555555555556,
             "#d8576b"
            ],
            [
             0.6666666666666666,
             "#ed7953"
            ],
            [
             0.7777777777777778,
             "#fb9f3a"
            ],
            [
             0.8888888888888888,
             "#fdca26"
            ],
            [
             1,
             "#f0f921"
            ]
           ],
           "sequentialminus": [
            [
             0,
             "#0d0887"
            ],
            [
             0.1111111111111111,
             "#46039f"
            ],
            [
             0.2222222222222222,
             "#7201a8"
            ],
            [
             0.3333333333333333,
             "#9c179e"
            ],
            [
             0.4444444444444444,
             "#bd3786"
            ],
            [
             0.5555555555555556,
             "#d8576b"
            ],
            [
             0.6666666666666666,
             "#ed7953"
            ],
            [
             0.7777777777777778,
             "#fb9f3a"
            ],
            [
             0.8888888888888888,
             "#fdca26"
            ],
            [
             1,
             "#f0f921"
            ]
           ]
          },
          "colorway": [
           "#636efa",
           "#EF553B",
           "#00cc96",
           "#ab63fa",
           "#FFA15A",
           "#19d3f3",
           "#FF6692",
           "#B6E880",
           "#FF97FF",
           "#FECB52"
          ],
          "font": {
           "color": "#2a3f5f"
          },
          "geo": {
           "bgcolor": "white",
           "lakecolor": "white",
           "landcolor": "#E5ECF6",
           "showlakes": true,
           "showland": true,
           "subunitcolor": "white"
          },
          "hoverlabel": {
           "align": "left"
          },
          "hovermode": "closest",
          "mapbox": {
           "style": "light"
          },
          "paper_bgcolor": "white",
          "plot_bgcolor": "#E5ECF6",
          "polar": {
           "angularaxis": {
            "gridcolor": "white",
            "linecolor": "white",
            "ticks": ""
           },
           "bgcolor": "#E5ECF6",
           "radialaxis": {
            "gridcolor": "white",
            "linecolor": "white",
            "ticks": ""
           }
          },
          "scene": {
           "xaxis": {
            "backgroundcolor": "#E5ECF6",
            "gridcolor": "white",
            "gridwidth": 2,
            "linecolor": "white",
            "showbackground": true,
            "ticks": "",
            "zerolinecolor": "white"
           },
           "yaxis": {
            "backgroundcolor": "#E5ECF6",
            "gridcolor": "white",
            "gridwidth": 2,
            "linecolor": "white",
            "showbackground": true,
            "ticks": "",
            "zerolinecolor": "white"
           },
           "zaxis": {
            "backgroundcolor": "#E5ECF6",
            "gridcolor": "white",
            "gridwidth": 2,
            "linecolor": "white",
            "showbackground": true,
            "ticks": "",
            "zerolinecolor": "white"
           }
          },
          "shapedefaults": {
           "line": {
            "color": "#2a3f5f"
           }
          },
          "ternary": {
           "aaxis": {
            "gridcolor": "white",
            "linecolor": "white",
            "ticks": ""
           },
           "baxis": {
            "gridcolor": "white",
            "linecolor": "white",
            "ticks": ""
           },
           "bgcolor": "#E5ECF6",
           "caxis": {
            "gridcolor": "white",
            "linecolor": "white",
            "ticks": ""
           }
          },
          "title": {
           "x": 0.05
          },
          "xaxis": {
           "automargin": true,
           "gridcolor": "white",
           "linecolor": "white",
           "ticks": "",
           "title": {
            "standoff": 15
           },
           "zerolinecolor": "white",
           "zerolinewidth": 2
          },
          "yaxis": {
           "automargin": true,
           "gridcolor": "white",
           "linecolor": "white",
           "ticks": "",
           "title": {
            "standoff": 15
           },
           "zerolinecolor": "white",
           "zerolinewidth": 2
          }
         }
        },
        "title": {
         "text": "Incidents, treatment"
        },
        "xaxis": {
         "anchor": "y",
         "domain": [
          0,
          1
         ],
         "title": {
          "text": "weekly"
         }
        },
        "yaxis": {
         "anchor": "x",
         "domain": [
          0,
          1
         ],
         "title": {
          "text": "redmine_id"
         }
        }
       }
      }
     },
     "metadata": {},
     "output_type": "display_data"
    }
   ],
   "source": [
    "    \n",
    "groups = ['control', 'treatment']\n",
    "\n",
    "for segment in groups:\n",
    "\n",
    "    agg_data = df_distr[(df_distr['weekly']>='2025-04-01')&(df_distr['information_status']=='Confirmed')&(df_distr['segment']==segment)].groupby(['weekly', 'incident_level'], as_index=False)['redmine_id'].count()\n",
    "\n",
    "    agg_data['weekly_total'] = agg_data.groupby('weekly')['redmine_id'].transform('sum')\n",
    "\n",
    "    agg_data['share'] = agg_data['redmine_id'] / agg_data['weekly_total'] *100 \n",
    "\n",
    "    fig = px.bar(\n",
    "        agg_data.round(2),        \n",
    "        x=\"weekly\", \n",
    "        y=\"redmine_id\", \n",
    "        color=\"incident_level\",\n",
    "        text_auto=True,\n",
    "        title=f\"Incidents, {segment}\"\n",
    "        )\n",
    "    fig.show()"
   ]
  },
  {
   "cell_type": "code",
   "execution_count": 118,
   "id": "a9250d8f",
   "metadata": {},
   "outputs": [
    {
     "data": {
      "application/vnd.plotly.v1+json": {
       "config": {
        "plotlyServerURL": "https://plot.ly"
       },
       "data": [
        {
         "alignmentgroup": "True",
         "hovertemplate": "incident_level=Green<br>weekly=%{x}<br>share=%{y}<extra></extra>",
         "legendgroup": "Green",
         "marker": {
          "color": "rgb(102,194,165)",
          "pattern": {
           "shape": ""
          }
         },
         "name": "Green",
         "offsetgroup": "Green",
         "orientation": "v",
         "showlegend": true,
         "textposition": "auto",
         "texttemplate": "%{y}",
         "type": "bar",
         "x": [
          "2025-04-06T00:00:00",
          "2025-04-13T00:00:00",
          "2025-04-20T00:00:00",
          "2025-04-27T00:00:00",
          "2025-05-04T00:00:00",
          "2025-05-11T00:00:00",
          "2025-05-18T00:00:00",
          "2025-05-25T00:00:00",
          "2025-06-01T00:00:00",
          "2025-06-08T00:00:00",
          "2025-06-15T00:00:00",
          "2025-06-22T00:00:00",
          "2025-06-29T00:00:00",
          "2025-07-06T00:00:00",
          "2025-07-13T00:00:00"
         ],
         "xaxis": "x",
         "y": [
          39.5,
          43.51,
          26.19,
          42,
          40.18,
          36.75,
          32.99,
          39.83,
          37.3,
          43.48,
          33.61,
          36.76,
          50,
          42.37,
          20
         ],
         "yaxis": "y"
        },
        {
         "alignmentgroup": "True",
         "hovertemplate": "incident_level=Red<br>weekly=%{x}<br>share=%{y}<extra></extra>",
         "legendgroup": "Red",
         "marker": {
          "color": "rgb(252,141,98)",
          "pattern": {
           "shape": ""
          }
         },
         "name": "Red",
         "offsetgroup": "Red",
         "orientation": "v",
         "showlegend": true,
         "textposition": "auto",
         "texttemplate": "%{y}",
         "type": "bar",
         "x": [
          "2025-04-06T00:00:00",
          "2025-04-13T00:00:00",
          "2025-04-20T00:00:00",
          "2025-04-27T00:00:00",
          "2025-05-04T00:00:00",
          "2025-05-11T00:00:00",
          "2025-05-18T00:00:00",
          "2025-05-25T00:00:00",
          "2025-06-01T00:00:00",
          "2025-06-08T00:00:00",
          "2025-06-15T00:00:00",
          "2025-06-22T00:00:00",
          "2025-06-29T00:00:00",
          "2025-07-06T00:00:00",
          "2025-07-13T00:00:00"
         ],
         "xaxis": "x",
         "y": [
          4.2,
          3.82,
          5.56,
          2,
          7.14,
          5.13,
          4.12,
          3.39,
          2.38,
          5.8,
          4.1,
          2.94,
          1.75,
          2.54,
          20
         ],
         "yaxis": "y"
        },
        {
         "alignmentgroup": "True",
         "hovertemplate": "incident_level=Yellow<br>weekly=%{x}<br>share=%{y}<extra></extra>",
         "legendgroup": "Yellow",
         "marker": {
          "color": "rgb(141,160,203)",
          "pattern": {
           "shape": ""
          }
         },
         "name": "Yellow",
         "offsetgroup": "Yellow",
         "orientation": "v",
         "showlegend": true,
         "textposition": "auto",
         "texttemplate": "%{y}",
         "type": "bar",
         "x": [
          "2025-04-06T00:00:00",
          "2025-04-13T00:00:00",
          "2025-04-20T00:00:00",
          "2025-04-27T00:00:00",
          "2025-05-04T00:00:00",
          "2025-05-11T00:00:00",
          "2025-05-18T00:00:00",
          "2025-05-25T00:00:00",
          "2025-06-01T00:00:00",
          "2025-06-08T00:00:00",
          "2025-06-15T00:00:00",
          "2025-06-22T00:00:00",
          "2025-06-29T00:00:00",
          "2025-07-06T00:00:00",
          "2025-07-13T00:00:00"
         ],
         "xaxis": "x",
         "y": [
          56.3,
          52.67,
          68.25,
          56,
          52.68,
          58.12,
          62.89,
          56.78,
          60.32,
          50.72,
          62.3,
          60.29,
          48.25,
          55.08,
          60
         ],
         "yaxis": "y"
        },
        {
         "alignmentgroup": "True",
         "hovertemplate": "incident_level=Green<br>weekly=%{x}<br>share=%{y}<extra></extra>",
         "legendgroup": "Green",
         "marker": {
          "color": "rgb(102,194,165)",
          "pattern": {
           "shape": ""
          }
         },
         "name": "Green",
         "offsetgroup": "Green",
         "orientation": "v",
         "showlegend": true,
         "textposition": "auto",
         "texttemplate": "%{y}",
         "type": "bar",
         "x": [
          "2025-04-06T00:00:00",
          "2025-04-13T00:00:00",
          "2025-04-20T00:00:00",
          "2025-04-27T00:00:00",
          "2025-05-04T00:00:00",
          "2025-05-11T00:00:00",
          "2025-05-18T00:00:00",
          "2025-05-25T00:00:00",
          "2025-06-01T00:00:00",
          "2025-06-08T00:00:00",
          "2025-06-15T00:00:00",
          "2025-06-22T00:00:00",
          "2025-06-29T00:00:00",
          "2025-07-06T00:00:00",
          "2025-07-13T00:00:00"
         ],
         "xaxis": "x2",
         "y": [
          35.15,
          36.82,
          40.88,
          39.96,
          42.92,
          32.43,
          36.15,
          37,
          35.33,
          33.4,
          32.61,
          40.6,
          40.5,
          42.5,
          32.26
         ],
         "yaxis": "y2"
        },
        {
         "alignmentgroup": "True",
         "hovertemplate": "incident_level=Red<br>weekly=%{x}<br>share=%{y}<extra></extra>",
         "legendgroup": "Red",
         "marker": {
          "color": "rgb(252,141,98)",
          "pattern": {
           "shape": ""
          }
         },
         "name": "Red",
         "offsetgroup": "Red",
         "orientation": "v",
         "showlegend": true,
         "textposition": "auto",
         "texttemplate": "%{y}",
         "type": "bar",
         "x": [
          "2025-04-06T00:00:00",
          "2025-04-13T00:00:00",
          "2025-04-20T00:00:00",
          "2025-04-27T00:00:00",
          "2025-05-04T00:00:00",
          "2025-05-11T00:00:00",
          "2025-05-18T00:00:00",
          "2025-05-25T00:00:00",
          "2025-06-01T00:00:00",
          "2025-06-08T00:00:00",
          "2025-06-15T00:00:00",
          "2025-06-22T00:00:00",
          "2025-06-29T00:00:00",
          "2025-07-06T00:00:00"
         ],
         "xaxis": "x2",
         "y": [
          8.69,
          7.32,
          5.76,
          5.56,
          6.98,
          7.07,
          6.06,
          7.62,
          3.85,
          5.47,
          6.52,
          5.21,
          6.09,
          4
         ],
         "yaxis": "y2"
        },
        {
         "alignmentgroup": "True",
         "hovertemplate": "incident_level=Yellow<br>weekly=%{x}<br>share=%{y}<extra></extra>",
         "legendgroup": "Yellow",
         "marker": {
          "color": "rgb(141,160,203)",
          "pattern": {
           "shape": ""
          }
         },
         "name": "Yellow",
         "offsetgroup": "Yellow",
         "orientation": "v",
         "showlegend": true,
         "textposition": "auto",
         "texttemplate": "%{y}",
         "type": "bar",
         "x": [
          "2025-04-06T00:00:00",
          "2025-04-13T00:00:00",
          "2025-04-20T00:00:00",
          "2025-04-27T00:00:00",
          "2025-05-04T00:00:00",
          "2025-05-11T00:00:00",
          "2025-05-18T00:00:00",
          "2025-05-25T00:00:00",
          "2025-06-01T00:00:00",
          "2025-06-08T00:00:00",
          "2025-06-15T00:00:00",
          "2025-06-22T00:00:00",
          "2025-06-29T00:00:00",
          "2025-07-06T00:00:00",
          "2025-07-13T00:00:00"
         ],
         "xaxis": "x2",
         "y": [
          56.16,
          55.86,
          53.36,
          54.48,
          50.11,
          60.5,
          57.79,
          55.38,
          60.81,
          61.13,
          60.87,
          54.19,
          53.41,
          53.5,
          67.74
         ],
         "yaxis": "y2"
        }
       ],
       "layout": {
        "annotations": [
         {
          "font": {
           "size": 16
          },
          "showarrow": false,
          "text": "Incidents, control",
          "x": 0.5,
          "xanchor": "center",
          "xref": "paper",
          "y": 1,
          "yanchor": "bottom",
          "yref": "paper"
         },
         {
          "font": {
           "size": 16
          },
          "showarrow": false,
          "text": "Incidents, treatment",
          "x": 0.5,
          "xanchor": "center",
          "xref": "paper",
          "y": 0.375,
          "yanchor": "bottom",
          "yref": "paper"
         }
        ],
        "barmode": "stack",
        "height": 800,
        "showlegend": true,
        "template": {
         "data": {
          "bar": [
           {
            "error_x": {
             "color": "#2a3f5f"
            },
            "error_y": {
             "color": "#2a3f5f"
            },
            "marker": {
             "line": {
              "color": "#E5ECF6",
              "width": 0.5
             },
             "pattern": {
              "fillmode": "overlay",
              "size": 10,
              "solidity": 0.2
             }
            },
            "type": "bar"
           }
          ],
          "barpolar": [
           {
            "marker": {
             "line": {
              "color": "#E5ECF6",
              "width": 0.5
             },
             "pattern": {
              "fillmode": "overlay",
              "size": 10,
              "solidity": 0.2
             }
            },
            "type": "barpolar"
           }
          ],
          "carpet": [
           {
            "aaxis": {
             "endlinecolor": "#2a3f5f",
             "gridcolor": "white",
             "linecolor": "white",
             "minorgridcolor": "white",
             "startlinecolor": "#2a3f5f"
            },
            "baxis": {
             "endlinecolor": "#2a3f5f",
             "gridcolor": "white",
             "linecolor": "white",
             "minorgridcolor": "white",
             "startlinecolor": "#2a3f5f"
            },
            "type": "carpet"
           }
          ],
          "choropleth": [
           {
            "colorbar": {
             "outlinewidth": 0,
             "ticks": ""
            },
            "type": "choropleth"
           }
          ],
          "contour": [
           {
            "colorbar": {
             "outlinewidth": 0,
             "ticks": ""
            },
            "colorscale": [
             [
              0,
              "#0d0887"
             ],
             [
              0.1111111111111111,
              "#46039f"
             ],
             [
              0.2222222222222222,
              "#7201a8"
             ],
             [
              0.3333333333333333,
              "#9c179e"
             ],
             [
              0.4444444444444444,
              "#bd3786"
             ],
             [
              0.5555555555555556,
              "#d8576b"
             ],
             [
              0.6666666666666666,
              "#ed7953"
             ],
             [
              0.7777777777777778,
              "#fb9f3a"
             ],
             [
              0.8888888888888888,
              "#fdca26"
             ],
             [
              1,
              "#f0f921"
             ]
            ],
            "type": "contour"
           }
          ],
          "contourcarpet": [
           {
            "colorbar": {
             "outlinewidth": 0,
             "ticks": ""
            },
            "type": "contourcarpet"
           }
          ],
          "heatmap": [
           {
            "colorbar": {
             "outlinewidth": 0,
             "ticks": ""
            },
            "colorscale": [
             [
              0,
              "#0d0887"
             ],
             [
              0.1111111111111111,
              "#46039f"
             ],
             [
              0.2222222222222222,
              "#7201a8"
             ],
             [
              0.3333333333333333,
              "#9c179e"
             ],
             [
              0.4444444444444444,
              "#bd3786"
             ],
             [
              0.5555555555555556,
              "#d8576b"
             ],
             [
              0.6666666666666666,
              "#ed7953"
             ],
             [
              0.7777777777777778,
              "#fb9f3a"
             ],
             [
              0.8888888888888888,
              "#fdca26"
             ],
             [
              1,
              "#f0f921"
             ]
            ],
            "type": "heatmap"
           }
          ],
          "heatmapgl": [
           {
            "colorbar": {
             "outlinewidth": 0,
             "ticks": ""
            },
            "colorscale": [
             [
              0,
              "#0d0887"
             ],
             [
              0.1111111111111111,
              "#46039f"
             ],
             [
              0.2222222222222222,
              "#7201a8"
             ],
             [
              0.3333333333333333,
              "#9c179e"
             ],
             [
              0.4444444444444444,
              "#bd3786"
             ],
             [
              0.5555555555555556,
              "#d8576b"
             ],
             [
              0.6666666666666666,
              "#ed7953"
             ],
             [
              0.7777777777777778,
              "#fb9f3a"
             ],
             [
              0.8888888888888888,
              "#fdca26"
             ],
             [
              1,
              "#f0f921"
             ]
            ],
            "type": "heatmapgl"
           }
          ],
          "histogram": [
           {
            "marker": {
             "pattern": {
              "fillmode": "overlay",
              "size": 10,
              "solidity": 0.2
             }
            },
            "type": "histogram"
           }
          ],
          "histogram2d": [
           {
            "colorbar": {
             "outlinewidth": 0,
             "ticks": ""
            },
            "colorscale": [
             [
              0,
              "#0d0887"
             ],
             [
              0.1111111111111111,
              "#46039f"
             ],
             [
              0.2222222222222222,
              "#7201a8"
             ],
             [
              0.3333333333333333,
              "#9c179e"
             ],
             [
              0.4444444444444444,
              "#bd3786"
             ],
             [
              0.5555555555555556,
              "#d8576b"
             ],
             [
              0.6666666666666666,
              "#ed7953"
             ],
             [
              0.7777777777777778,
              "#fb9f3a"
             ],
             [
              0.8888888888888888,
              "#fdca26"
             ],
             [
              1,
              "#f0f921"
             ]
            ],
            "type": "histogram2d"
           }
          ],
          "histogram2dcontour": [
           {
            "colorbar": {
             "outlinewidth": 0,
             "ticks": ""
            },
            "colorscale": [
             [
              0,
              "#0d0887"
             ],
             [
              0.1111111111111111,
              "#46039f"
             ],
             [
              0.2222222222222222,
              "#7201a8"
             ],
             [
              0.3333333333333333,
              "#9c179e"
             ],
             [
              0.4444444444444444,
              "#bd3786"
             ],
             [
              0.5555555555555556,
              "#d8576b"
             ],
             [
              0.6666666666666666,
              "#ed7953"
             ],
             [
              0.7777777777777778,
              "#fb9f3a"
             ],
             [
              0.8888888888888888,
              "#fdca26"
             ],
             [
              1,
              "#f0f921"
             ]
            ],
            "type": "histogram2dcontour"
           }
          ],
          "mesh3d": [
           {
            "colorbar": {
             "outlinewidth": 0,
             "ticks": ""
            },
            "type": "mesh3d"
           }
          ],
          "parcoords": [
           {
            "line": {
             "colorbar": {
              "outlinewidth": 0,
              "ticks": ""
             }
            },
            "type": "parcoords"
           }
          ],
          "pie": [
           {
            "automargin": true,
            "type": "pie"
           }
          ],
          "scatter": [
           {
            "fillpattern": {
             "fillmode": "overlay",
             "size": 10,
             "solidity": 0.2
            },
            "type": "scatter"
           }
          ],
          "scatter3d": [
           {
            "line": {
             "colorbar": {
              "outlinewidth": 0,
              "ticks": ""
             }
            },
            "marker": {
             "colorbar": {
              "outlinewidth": 0,
              "ticks": ""
             }
            },
            "type": "scatter3d"
           }
          ],
          "scattercarpet": [
           {
            "marker": {
             "colorbar": {
              "outlinewidth": 0,
              "ticks": ""
             }
            },
            "type": "scattercarpet"
           }
          ],
          "scattergeo": [
           {
            "marker": {
             "colorbar": {
              "outlinewidth": 0,
              "ticks": ""
             }
            },
            "type": "scattergeo"
           }
          ],
          "scattergl": [
           {
            "marker": {
             "colorbar": {
              "outlinewidth": 0,
              "ticks": ""
             }
            },
            "type": "scattergl"
           }
          ],
          "scattermapbox": [
           {
            "marker": {
             "colorbar": {
              "outlinewidth": 0,
              "ticks": ""
             }
            },
            "type": "scattermapbox"
           }
          ],
          "scatterpolar": [
           {
            "marker": {
             "colorbar": {
              "outlinewidth": 0,
              "ticks": ""
             }
            },
            "type": "scatterpolar"
           }
          ],
          "scatterpolargl": [
           {
            "marker": {
             "colorbar": {
              "outlinewidth": 0,
              "ticks": ""
             }
            },
            "type": "scatterpolargl"
           }
          ],
          "scatterternary": [
           {
            "marker": {
             "colorbar": {
              "outlinewidth": 0,
              "ticks": ""
             }
            },
            "type": "scatterternary"
           }
          ],
          "surface": [
           {
            "colorbar": {
             "outlinewidth": 0,
             "ticks": ""
            },
            "colorscale": [
             [
              0,
              "#0d0887"
             ],
             [
              0.1111111111111111,
              "#46039f"
             ],
             [
              0.2222222222222222,
              "#7201a8"
             ],
             [
              0.3333333333333333,
              "#9c179e"
             ],
             [
              0.4444444444444444,
              "#bd3786"
             ],
             [
              0.5555555555555556,
              "#d8576b"
             ],
             [
              0.6666666666666666,
              "#ed7953"
             ],
             [
              0.7777777777777778,
              "#fb9f3a"
             ],
             [
              0.8888888888888888,
              "#fdca26"
             ],
             [
              1,
              "#f0f921"
             ]
            ],
            "type": "surface"
           }
          ],
          "table": [
           {
            "cells": {
             "fill": {
              "color": "#EBF0F8"
             },
             "line": {
              "color": "white"
             }
            },
            "header": {
             "fill": {
              "color": "#C8D4E3"
             },
             "line": {
              "color": "white"
             }
            },
            "type": "table"
           }
          ]
         },
         "layout": {
          "annotationdefaults": {
           "arrowcolor": "#2a3f5f",
           "arrowhead": 0,
           "arrowwidth": 1
          },
          "autotypenumbers": "strict",
          "coloraxis": {
           "colorbar": {
            "outlinewidth": 0,
            "ticks": ""
           }
          },
          "colorscale": {
           "diverging": [
            [
             0,
             "#8e0152"
            ],
            [
             0.1,
             "#c51b7d"
            ],
            [
             0.2,
             "#de77ae"
            ],
            [
             0.3,
             "#f1b6da"
            ],
            [
             0.4,
             "#fde0ef"
            ],
            [
             0.5,
             "#f7f7f7"
            ],
            [
             0.6,
             "#e6f5d0"
            ],
            [
             0.7,
             "#b8e186"
            ],
            [
             0.8,
             "#7fbc41"
            ],
            [
             0.9,
             "#4d9221"
            ],
            [
             1,
             "#276419"
            ]
           ],
           "sequential": [
            [
             0,
             "#0d0887"
            ],
            [
             0.1111111111111111,
             "#46039f"
            ],
            [
             0.2222222222222222,
             "#7201a8"
            ],
            [
             0.3333333333333333,
             "#9c179e"
            ],
            [
             0.4444444444444444,
             "#bd3786"
            ],
            [
             0.5555555555555556,
             "#d8576b"
            ],
            [
             0.6666666666666666,
             "#ed7953"
            ],
            [
             0.7777777777777778,
             "#fb9f3a"
            ],
            [
             0.8888888888888888,
             "#fdca26"
            ],
            [
             1,
             "#f0f921"
            ]
           ],
           "sequentialminus": [
            [
             0,
             "#0d0887"
            ],
            [
             0.1111111111111111,
             "#46039f"
            ],
            [
             0.2222222222222222,
             "#7201a8"
            ],
            [
             0.3333333333333333,
             "#9c179e"
            ],
            [
             0.4444444444444444,
             "#bd3786"
            ],
            [
             0.5555555555555556,
             "#d8576b"
            ],
            [
             0.6666666666666666,
             "#ed7953"
            ],
            [
             0.7777777777777778,
             "#fb9f3a"
            ],
            [
             0.8888888888888888,
             "#fdca26"
            ],
            [
             1,
             "#f0f921"
            ]
           ]
          },
          "colorway": [
           "#636efa",
           "#EF553B",
           "#00cc96",
           "#ab63fa",
           "#FFA15A",
           "#19d3f3",
           "#FF6692",
           "#B6E880",
           "#FF97FF",
           "#FECB52"
          ],
          "font": {
           "color": "#2a3f5f"
          },
          "geo": {
           "bgcolor": "white",
           "lakecolor": "white",
           "landcolor": "#E5ECF6",
           "showlakes": true,
           "showland": true,
           "subunitcolor": "white"
          },
          "hoverlabel": {
           "align": "left"
          },
          "hovermode": "closest",
          "mapbox": {
           "style": "light"
          },
          "paper_bgcolor": "white",
          "plot_bgcolor": "#E5ECF6",
          "polar": {
           "angularaxis": {
            "gridcolor": "white",
            "linecolor": "white",
            "ticks": ""
           },
           "bgcolor": "#E5ECF6",
           "radialaxis": {
            "gridcolor": "white",
            "linecolor": "white",
            "ticks": ""
           }
          },
          "scene": {
           "xaxis": {
            "backgroundcolor": "#E5ECF6",
            "gridcolor": "white",
            "gridwidth": 2,
            "linecolor": "white",
            "showbackground": true,
            "ticks": "",
            "zerolinecolor": "white"
           },
           "yaxis": {
            "backgroundcolor": "#E5ECF6",
            "gridcolor": "white",
            "gridwidth": 2,
            "linecolor": "white",
            "showbackground": true,
            "ticks": "",
            "zerolinecolor": "white"
           },
           "zaxis": {
            "backgroundcolor": "#E5ECF6",
            "gridcolor": "white",
            "gridwidth": 2,
            "linecolor": "white",
            "showbackground": true,
            "ticks": "",
            "zerolinecolor": "white"
           }
          },
          "shapedefaults": {
           "line": {
            "color": "#2a3f5f"
           }
          },
          "ternary": {
           "aaxis": {
            "gridcolor": "white",
            "linecolor": "white",
            "ticks": ""
           },
           "baxis": {
            "gridcolor": "white",
            "linecolor": "white",
            "ticks": ""
           },
           "bgcolor": "#E5ECF6",
           "caxis": {
            "gridcolor": "white",
            "linecolor": "white",
            "ticks": ""
           }
          },
          "title": {
           "x": 0.05
          },
          "xaxis": {
           "automargin": true,
           "gridcolor": "white",
           "linecolor": "white",
           "ticks": "",
           "title": {
            "standoff": 15
           },
           "zerolinecolor": "white",
           "zerolinewidth": 2
          },
          "yaxis": {
           "automargin": true,
           "gridcolor": "white",
           "linecolor": "white",
           "ticks": "",
           "title": {
            "standoff": 15
           },
           "zerolinecolor": "white",
           "zerolinewidth": 2
          }
         }
        },
        "title": {
         "text": "Incidents: Control vs Treatment"
        },
        "xaxis": {
         "anchor": "y",
         "domain": [
          0,
          1
         ],
         "matches": "x2",
         "showticklabels": false
        },
        "xaxis2": {
         "anchor": "y2",
         "domain": [
          0,
          1
         ]
        },
        "yaxis": {
         "anchor": "x",
         "domain": [
          0.625,
          1
         ]
        },
        "yaxis2": {
         "anchor": "x2",
         "domain": [
          0,
          0.375
         ]
        }
       }
      }
     },
     "metadata": {},
     "output_type": "display_data"
    }
   ],
   "source": [
    "import pandas as pd\n",
    "import plotly.express as px\n",
    "from plotly.subplots import make_subplots\n",
    "import plotly.graph_objects as go\n",
    "\n",
    "# Создаем subplot: 2 строки, 1 колонка\n",
    "fig = make_subplots(\n",
    "    rows=2, cols=1,\n",
    "    shared_xaxes=True,\n",
    "    subplot_titles=(\"Incidents, control\", \"Incidents, treatment\")\n",
    ")\n",
    "\n",
    "groups = ['control', 'treatment']\n",
    "\n",
    "for i, segment in enumerate(groups):\n",
    "\n",
    "    # Фильтруем и агрегируем данные\n",
    "    agg_data = df_distr[\n",
    "        (df_distr['weekly'] >= '2025-04-01') &\n",
    "        (df_distr['information_status'] == 'Confirmed') &\n",
    "        (df_distr['segment'] == segment)\n",
    "    ].groupby(['weekly', 'incident_level'], as_index=False)['redmine_id'].count()\n",
    "\n",
    "    # Оконная сумма по неделе\n",
    "    agg_data['weekly_total'] = agg_data.groupby('weekly')['redmine_id'].transform('sum')\n",
    "    agg_data['share'] = agg_data['redmine_id'] / agg_data['weekly_total'] * 100\n",
    "\n",
    "    # Создаем временный график\n",
    "    temp_fig = px.bar(\n",
    "        agg_data.round(2),\n",
    "        x=\"weekly\",\n",
    "        y=\"share\",\n",
    "        color=\"incident_level\",\n",
    "        text_auto=True,\n",
    "        color_discrete_sequence=px.colors.qualitative.Set2\n",
    "    )\n",
    "\n",
    "    # Добавляем трейсы на subplot\n",
    "    for trace in temp_fig.data:\n",
    "        fig.add_trace(trace, row=i+1, col=1)\n",
    "\n",
    "# Финальные настройки\n",
    "fig.update_layout(\n",
    "    height=800,\n",
    "    barmode='stack',\n",
    "    title_text='Incidents: Control vs Treatment',\n",
    "    showlegend=True\n",
    ")\n",
    "\n",
    "fig.show()"
   ]
  },
  {
   "cell_type": "code",
   "execution_count": 132,
   "id": "c1dd0d77",
   "metadata": {},
   "outputs": [
    {
     "data": {
      "application/vnd.plotly.v1+json": {
       "config": {
        "plotlyServerURL": "https://plot.ly"
       },
       "data": [
        {
         "alignmentgroup": "True",
         "hovertemplate": "incident_level=Green<br>weekly=%{x}<br>share=%{y}<extra></extra>",
         "legendgroup": "Green",
         "marker": {
          "color": "#248f24",
          "pattern": {
           "shape": ""
          }
         },
         "name": "Green",
         "offsetgroup": "Green",
         "orientation": "v",
         "showlegend": true,
         "textposition": "auto",
         "texttemplate": "%{y}",
         "type": "bar",
         "x": [
          "2025-04-06T00:00:00",
          "2025-04-13T00:00:00",
          "2025-04-20T00:00:00",
          "2025-04-27T00:00:00",
          "2025-05-04T00:00:00",
          "2025-05-11T00:00:00",
          "2025-05-18T00:00:00",
          "2025-05-25T00:00:00",
          "2025-06-01T00:00:00",
          "2025-06-08T00:00:00",
          "2025-06-15T00:00:00",
          "2025-06-22T00:00:00",
          "2025-06-29T00:00:00",
          "2025-07-06T00:00:00",
          "2025-07-13T00:00:00"
         ],
         "xaxis": "x",
         "y": [
          39.5,
          43.51,
          26.19,
          42,
          40.18,
          36.75,
          32.99,
          39.83,
          37.3,
          43.48,
          33.61,
          36.76,
          50,
          42.37,
          20
         ],
         "yaxis": "y"
        },
        {
         "alignmentgroup": "True",
         "hovertemplate": "incident_level=Red<br>weekly=%{x}<br>share=%{y}<extra></extra>",
         "legendgroup": "Red",
         "marker": {
          "color": "#cc2900",
          "pattern": {
           "shape": ""
          }
         },
         "name": "Red",
         "offsetgroup": "Red",
         "orientation": "v",
         "showlegend": true,
         "textposition": "auto",
         "texttemplate": "%{y}",
         "type": "bar",
         "x": [
          "2025-04-06T00:00:00",
          "2025-04-13T00:00:00",
          "2025-04-20T00:00:00",
          "2025-04-27T00:00:00",
          "2025-05-04T00:00:00",
          "2025-05-11T00:00:00",
          "2025-05-18T00:00:00",
          "2025-05-25T00:00:00",
          "2025-06-01T00:00:00",
          "2025-06-08T00:00:00",
          "2025-06-15T00:00:00",
          "2025-06-22T00:00:00",
          "2025-06-29T00:00:00",
          "2025-07-06T00:00:00",
          "2025-07-13T00:00:00"
         ],
         "xaxis": "x",
         "y": [
          4.2,
          3.82,
          5.56,
          2,
          7.14,
          5.13,
          4.12,
          3.39,
          2.38,
          5.8,
          4.1,
          2.94,
          1.75,
          2.54,
          20
         ],
         "yaxis": "y"
        },
        {
         "alignmentgroup": "True",
         "hovertemplate": "incident_level=Yellow<br>weekly=%{x}<br>share=%{y}<extra></extra>",
         "legendgroup": "Yellow",
         "marker": {
          "color": "#ffff00",
          "pattern": {
           "shape": ""
          }
         },
         "name": "Yellow",
         "offsetgroup": "Yellow",
         "orientation": "v",
         "showlegend": true,
         "textposition": "auto",
         "texttemplate": "%{y}",
         "type": "bar",
         "x": [
          "2025-04-06T00:00:00",
          "2025-04-13T00:00:00",
          "2025-04-20T00:00:00",
          "2025-04-27T00:00:00",
          "2025-05-04T00:00:00",
          "2025-05-11T00:00:00",
          "2025-05-18T00:00:00",
          "2025-05-25T00:00:00",
          "2025-06-01T00:00:00",
          "2025-06-08T00:00:00",
          "2025-06-15T00:00:00",
          "2025-06-22T00:00:00",
          "2025-06-29T00:00:00",
          "2025-07-06T00:00:00",
          "2025-07-13T00:00:00"
         ],
         "xaxis": "x",
         "y": [
          56.3,
          52.67,
          68.25,
          56,
          52.68,
          58.12,
          62.89,
          56.78,
          60.32,
          50.72,
          62.3,
          60.29,
          48.25,
          55.08,
          60
         ],
         "yaxis": "y"
        },
        {
         "alignmentgroup": "True",
         "hovertemplate": "incident_level=Green<br>weekly=%{x}<br>share=%{y}<extra></extra>",
         "legendgroup": "Green",
         "marker": {
          "color": "#248f24",
          "pattern": {
           "shape": ""
          }
         },
         "name": "Green",
         "offsetgroup": "Green",
         "orientation": "v",
         "showlegend": false,
         "textposition": "auto",
         "texttemplate": "%{y}",
         "type": "bar",
         "x": [
          "2025-04-06T00:00:00",
          "2025-04-13T00:00:00",
          "2025-04-20T00:00:00",
          "2025-04-27T00:00:00",
          "2025-05-04T00:00:00",
          "2025-05-11T00:00:00",
          "2025-05-18T00:00:00",
          "2025-05-25T00:00:00",
          "2025-06-01T00:00:00",
          "2025-06-08T00:00:00",
          "2025-06-15T00:00:00",
          "2025-06-22T00:00:00",
          "2025-06-29T00:00:00",
          "2025-07-06T00:00:00",
          "2025-07-13T00:00:00"
         ],
         "xaxis": "x2",
         "y": [
          35.15,
          36.82,
          40.88,
          39.96,
          42.92,
          32.43,
          36.15,
          37,
          35.33,
          33.4,
          32.61,
          40.6,
          40.5,
          42.5,
          32.26
         ],
         "yaxis": "y2"
        },
        {
         "alignmentgroup": "True",
         "hovertemplate": "incident_level=Red<br>weekly=%{x}<br>share=%{y}<extra></extra>",
         "legendgroup": "Red",
         "marker": {
          "color": "#cc2900",
          "pattern": {
           "shape": ""
          }
         },
         "name": "Red",
         "offsetgroup": "Red",
         "orientation": "v",
         "showlegend": false,
         "textposition": "auto",
         "texttemplate": "%{y}",
         "type": "bar",
         "x": [
          "2025-04-06T00:00:00",
          "2025-04-13T00:00:00",
          "2025-04-20T00:00:00",
          "2025-04-27T00:00:00",
          "2025-05-04T00:00:00",
          "2025-05-11T00:00:00",
          "2025-05-18T00:00:00",
          "2025-05-25T00:00:00",
          "2025-06-01T00:00:00",
          "2025-06-08T00:00:00",
          "2025-06-15T00:00:00",
          "2025-06-22T00:00:00",
          "2025-06-29T00:00:00",
          "2025-07-06T00:00:00"
         ],
         "xaxis": "x2",
         "y": [
          8.69,
          7.32,
          5.76,
          5.56,
          6.98,
          7.07,
          6.06,
          7.62,
          3.85,
          5.47,
          6.52,
          5.21,
          6.09,
          4
         ],
         "yaxis": "y2"
        },
        {
         "alignmentgroup": "True",
         "hovertemplate": "incident_level=Yellow<br>weekly=%{x}<br>share=%{y}<extra></extra>",
         "legendgroup": "Yellow",
         "marker": {
          "color": "#ffff00",
          "pattern": {
           "shape": ""
          }
         },
         "name": "Yellow",
         "offsetgroup": "Yellow",
         "orientation": "v",
         "showlegend": false,
         "textposition": "auto",
         "texttemplate": "%{y}",
         "type": "bar",
         "x": [
          "2025-04-06T00:00:00",
          "2025-04-13T00:00:00",
          "2025-04-20T00:00:00",
          "2025-04-27T00:00:00",
          "2025-05-04T00:00:00",
          "2025-05-11T00:00:00",
          "2025-05-18T00:00:00",
          "2025-05-25T00:00:00",
          "2025-06-01T00:00:00",
          "2025-06-08T00:00:00",
          "2025-06-15T00:00:00",
          "2025-06-22T00:00:00",
          "2025-06-29T00:00:00",
          "2025-07-06T00:00:00",
          "2025-07-13T00:00:00"
         ],
         "xaxis": "x2",
         "y": [
          56.16,
          55.86,
          53.36,
          54.48,
          50.11,
          60.5,
          57.79,
          55.38,
          60.81,
          61.13,
          60.87,
          54.19,
          53.41,
          53.5,
          67.74
         ],
         "yaxis": "y2"
        }
       ],
       "layout": {
        "annotations": [
         {
          "font": {
           "size": 16
          },
          "showarrow": false,
          "text": "Control group",
          "x": 0.5,
          "xanchor": "center",
          "xref": "paper",
          "y": 1,
          "yanchor": "bottom",
          "yref": "paper"
         },
         {
          "font": {
           "size": 16
          },
          "showarrow": false,
          "text": "Treatment group",
          "x": 0.5,
          "xanchor": "center",
          "xref": "paper",
          "y": 0.45,
          "yanchor": "bottom",
          "yref": "paper"
         }
        ],
        "barmode": "stack",
        "height": 1000,
        "showlegend": true,
        "template": {
         "data": {
          "bar": [
           {
            "error_x": {
             "color": "#2a3f5f"
            },
            "error_y": {
             "color": "#2a3f5f"
            },
            "marker": {
             "line": {
              "color": "#E5ECF6",
              "width": 0.5
             },
             "pattern": {
              "fillmode": "overlay",
              "size": 10,
              "solidity": 0.2
             }
            },
            "type": "bar"
           }
          ],
          "barpolar": [
           {
            "marker": {
             "line": {
              "color": "#E5ECF6",
              "width": 0.5
             },
             "pattern": {
              "fillmode": "overlay",
              "size": 10,
              "solidity": 0.2
             }
            },
            "type": "barpolar"
           }
          ],
          "carpet": [
           {
            "aaxis": {
             "endlinecolor": "#2a3f5f",
             "gridcolor": "white",
             "linecolor": "white",
             "minorgridcolor": "white",
             "startlinecolor": "#2a3f5f"
            },
            "baxis": {
             "endlinecolor": "#2a3f5f",
             "gridcolor": "white",
             "linecolor": "white",
             "minorgridcolor": "white",
             "startlinecolor": "#2a3f5f"
            },
            "type": "carpet"
           }
          ],
          "choropleth": [
           {
            "colorbar": {
             "outlinewidth": 0,
             "ticks": ""
            },
            "type": "choropleth"
           }
          ],
          "contour": [
           {
            "colorbar": {
             "outlinewidth": 0,
             "ticks": ""
            },
            "colorscale": [
             [
              0,
              "#0d0887"
             ],
             [
              0.1111111111111111,
              "#46039f"
             ],
             [
              0.2222222222222222,
              "#7201a8"
             ],
             [
              0.3333333333333333,
              "#9c179e"
             ],
             [
              0.4444444444444444,
              "#bd3786"
             ],
             [
              0.5555555555555556,
              "#d8576b"
             ],
             [
              0.6666666666666666,
              "#ed7953"
             ],
             [
              0.7777777777777778,
              "#fb9f3a"
             ],
             [
              0.8888888888888888,
              "#fdca26"
             ],
             [
              1,
              "#f0f921"
             ]
            ],
            "type": "contour"
           }
          ],
          "contourcarpet": [
           {
            "colorbar": {
             "outlinewidth": 0,
             "ticks": ""
            },
            "type": "contourcarpet"
           }
          ],
          "heatmap": [
           {
            "colorbar": {
             "outlinewidth": 0,
             "ticks": ""
            },
            "colorscale": [
             [
              0,
              "#0d0887"
             ],
             [
              0.1111111111111111,
              "#46039f"
             ],
             [
              0.2222222222222222,
              "#7201a8"
             ],
             [
              0.3333333333333333,
              "#9c179e"
             ],
             [
              0.4444444444444444,
              "#bd3786"
             ],
             [
              0.5555555555555556,
              "#d8576b"
             ],
             [
              0.6666666666666666,
              "#ed7953"
             ],
             [
              0.7777777777777778,
              "#fb9f3a"
             ],
             [
              0.8888888888888888,
              "#fdca26"
             ],
             [
              1,
              "#f0f921"
             ]
            ],
            "type": "heatmap"
           }
          ],
          "heatmapgl": [
           {
            "colorbar": {
             "outlinewidth": 0,
             "ticks": ""
            },
            "colorscale": [
             [
              0,
              "#0d0887"
             ],
             [
              0.1111111111111111,
              "#46039f"
             ],
             [
              0.2222222222222222,
              "#7201a8"
             ],
             [
              0.3333333333333333,
              "#9c179e"
             ],
             [
              0.4444444444444444,
              "#bd3786"
             ],
             [
              0.5555555555555556,
              "#d8576b"
             ],
             [
              0.6666666666666666,
              "#ed7953"
             ],
             [
              0.7777777777777778,
              "#fb9f3a"
             ],
             [
              0.8888888888888888,
              "#fdca26"
             ],
             [
              1,
              "#f0f921"
             ]
            ],
            "type": "heatmapgl"
           }
          ],
          "histogram": [
           {
            "marker": {
             "pattern": {
              "fillmode": "overlay",
              "size": 10,
              "solidity": 0.2
             }
            },
            "type": "histogram"
           }
          ],
          "histogram2d": [
           {
            "colorbar": {
             "outlinewidth": 0,
             "ticks": ""
            },
            "colorscale": [
             [
              0,
              "#0d0887"
             ],
             [
              0.1111111111111111,
              "#46039f"
             ],
             [
              0.2222222222222222,
              "#7201a8"
             ],
             [
              0.3333333333333333,
              "#9c179e"
             ],
             [
              0.4444444444444444,
              "#bd3786"
             ],
             [
              0.5555555555555556,
              "#d8576b"
             ],
             [
              0.6666666666666666,
              "#ed7953"
             ],
             [
              0.7777777777777778,
              "#fb9f3a"
             ],
             [
              0.8888888888888888,
              "#fdca26"
             ],
             [
              1,
              "#f0f921"
             ]
            ],
            "type": "histogram2d"
           }
          ],
          "histogram2dcontour": [
           {
            "colorbar": {
             "outlinewidth": 0,
             "ticks": ""
            },
            "colorscale": [
             [
              0,
              "#0d0887"
             ],
             [
              0.1111111111111111,
              "#46039f"
             ],
             [
              0.2222222222222222,
              "#7201a8"
             ],
             [
              0.3333333333333333,
              "#9c179e"
             ],
             [
              0.4444444444444444,
              "#bd3786"
             ],
             [
              0.5555555555555556,
              "#d8576b"
             ],
             [
              0.6666666666666666,
              "#ed7953"
             ],
             [
              0.7777777777777778,
              "#fb9f3a"
             ],
             [
              0.8888888888888888,
              "#fdca26"
             ],
             [
              1,
              "#f0f921"
             ]
            ],
            "type": "histogram2dcontour"
           }
          ],
          "mesh3d": [
           {
            "colorbar": {
             "outlinewidth": 0,
             "ticks": ""
            },
            "type": "mesh3d"
           }
          ],
          "parcoords": [
           {
            "line": {
             "colorbar": {
              "outlinewidth": 0,
              "ticks": ""
             }
            },
            "type": "parcoords"
           }
          ],
          "pie": [
           {
            "automargin": true,
            "type": "pie"
           }
          ],
          "scatter": [
           {
            "fillpattern": {
             "fillmode": "overlay",
             "size": 10,
             "solidity": 0.2
            },
            "type": "scatter"
           }
          ],
          "scatter3d": [
           {
            "line": {
             "colorbar": {
              "outlinewidth": 0,
              "ticks": ""
             }
            },
            "marker": {
             "colorbar": {
              "outlinewidth": 0,
              "ticks": ""
             }
            },
            "type": "scatter3d"
           }
          ],
          "scattercarpet": [
           {
            "marker": {
             "colorbar": {
              "outlinewidth": 0,
              "ticks": ""
             }
            },
            "type": "scattercarpet"
           }
          ],
          "scattergeo": [
           {
            "marker": {
             "colorbar": {
              "outlinewidth": 0,
              "ticks": ""
             }
            },
            "type": "scattergeo"
           }
          ],
          "scattergl": [
           {
            "marker": {
             "colorbar": {
              "outlinewidth": 0,
              "ticks": ""
             }
            },
            "type": "scattergl"
           }
          ],
          "scattermapbox": [
           {
            "marker": {
             "colorbar": {
              "outlinewidth": 0,
              "ticks": ""
             }
            },
            "type": "scattermapbox"
           }
          ],
          "scatterpolar": [
           {
            "marker": {
             "colorbar": {
              "outlinewidth": 0,
              "ticks": ""
             }
            },
            "type": "scatterpolar"
           }
          ],
          "scatterpolargl": [
           {
            "marker": {
             "colorbar": {
              "outlinewidth": 0,
              "ticks": ""
             }
            },
            "type": "scatterpolargl"
           }
          ],
          "scatterternary": [
           {
            "marker": {
             "colorbar": {
              "outlinewidth": 0,
              "ticks": ""
             }
            },
            "type": "scatterternary"
           }
          ],
          "surface": [
           {
            "colorbar": {
             "outlinewidth": 0,
             "ticks": ""
            },
            "colorscale": [
             [
              0,
              "#0d0887"
             ],
             [
              0.1111111111111111,
              "#46039f"
             ],
             [
              0.2222222222222222,
              "#7201a8"
             ],
             [
              0.3333333333333333,
              "#9c179e"
             ],
             [
              0.4444444444444444,
              "#bd3786"
             ],
             [
              0.5555555555555556,
              "#d8576b"
             ],
             [
              0.6666666666666666,
              "#ed7953"
             ],
             [
              0.7777777777777778,
              "#fb9f3a"
             ],
             [
              0.8888888888888888,
              "#fdca26"
             ],
             [
              1,
              "#f0f921"
             ]
            ],
            "type": "surface"
           }
          ],
          "table": [
           {
            "cells": {
             "fill": {
              "color": "#EBF0F8"
             },
             "line": {
              "color": "white"
             }
            },
            "header": {
             "fill": {
              "color": "#C8D4E3"
             },
             "line": {
              "color": "white"
             }
            },
            "type": "table"
           }
          ]
         },
         "layout": {
          "annotationdefaults": {
           "arrowcolor": "#2a3f5f",
           "arrowhead": 0,
           "arrowwidth": 1
          },
          "autotypenumbers": "strict",
          "coloraxis": {
           "colorbar": {
            "outlinewidth": 0,
            "ticks": ""
           }
          },
          "colorscale": {
           "diverging": [
            [
             0,
             "#8e0152"
            ],
            [
             0.1,
             "#c51b7d"
            ],
            [
             0.2,
             "#de77ae"
            ],
            [
             0.3,
             "#f1b6da"
            ],
            [
             0.4,
             "#fde0ef"
            ],
            [
             0.5,
             "#f7f7f7"
            ],
            [
             0.6,
             "#e6f5d0"
            ],
            [
             0.7,
             "#b8e186"
            ],
            [
             0.8,
             "#7fbc41"
            ],
            [
             0.9,
             "#4d9221"
            ],
            [
             1,
             "#276419"
            ]
           ],
           "sequential": [
            [
             0,
             "#0d0887"
            ],
            [
             0.1111111111111111,
             "#46039f"
            ],
            [
             0.2222222222222222,
             "#7201a8"
            ],
            [
             0.3333333333333333,
             "#9c179e"
            ],
            [
             0.4444444444444444,
             "#bd3786"
            ],
            [
             0.5555555555555556,
             "#d8576b"
            ],
            [
             0.6666666666666666,
             "#ed7953"
            ],
            [
             0.7777777777777778,
             "#fb9f3a"
            ],
            [
             0.8888888888888888,
             "#fdca26"
            ],
            [
             1,
             "#f0f921"
            ]
           ],
           "sequentialminus": [
            [
             0,
             "#0d0887"
            ],
            [
             0.1111111111111111,
             "#46039f"
            ],
            [
             0.2222222222222222,
             "#7201a8"
            ],
            [
             0.3333333333333333,
             "#9c179e"
            ],
            [
             0.4444444444444444,
             "#bd3786"
            ],
            [
             0.5555555555555556,
             "#d8576b"
            ],
            [
             0.6666666666666666,
             "#ed7953"
            ],
            [
             0.7777777777777778,
             "#fb9f3a"
            ],
            [
             0.8888888888888888,
             "#fdca26"
            ],
            [
             1,
             "#f0f921"
            ]
           ]
          },
          "colorway": [
           "#636efa",
           "#EF553B",
           "#00cc96",
           "#ab63fa",
           "#FFA15A",
           "#19d3f3",
           "#FF6692",
           "#B6E880",
           "#FF97FF",
           "#FECB52"
          ],
          "font": {
           "color": "#2a3f5f"
          },
          "geo": {
           "bgcolor": "white",
           "lakecolor": "white",
           "landcolor": "#E5ECF6",
           "showlakes": true,
           "showland": true,
           "subunitcolor": "white"
          },
          "hoverlabel": {
           "align": "left"
          },
          "hovermode": "closest",
          "mapbox": {
           "style": "light"
          },
          "paper_bgcolor": "white",
          "plot_bgcolor": "#E5ECF6",
          "polar": {
           "angularaxis": {
            "gridcolor": "white",
            "linecolor": "white",
            "ticks": ""
           },
           "bgcolor": "#E5ECF6",
           "radialaxis": {
            "gridcolor": "white",
            "linecolor": "white",
            "ticks": ""
           }
          },
          "scene": {
           "xaxis": {
            "backgroundcolor": "#E5ECF6",
            "gridcolor": "white",
            "gridwidth": 2,
            "linecolor": "white",
            "showbackground": true,
            "ticks": "",
            "zerolinecolor": "white"
           },
           "yaxis": {
            "backgroundcolor": "#E5ECF6",
            "gridcolor": "white",
            "gridwidth": 2,
            "linecolor": "white",
            "showbackground": true,
            "ticks": "",
            "zerolinecolor": "white"
           },
           "zaxis": {
            "backgroundcolor": "#E5ECF6",
            "gridcolor": "white",
            "gridwidth": 2,
            "linecolor": "white",
            "showbackground": true,
            "ticks": "",
            "zerolinecolor": "white"
           }
          },
          "shapedefaults": {
           "line": {
            "color": "#2a3f5f"
           }
          },
          "ternary": {
           "aaxis": {
            "gridcolor": "white",
            "linecolor": "white",
            "ticks": ""
           },
           "baxis": {
            "gridcolor": "white",
            "linecolor": "white",
            "ticks": ""
           },
           "bgcolor": "#E5ECF6",
           "caxis": {
            "gridcolor": "white",
            "linecolor": "white",
            "ticks": ""
           }
          },
          "title": {
           "x": 0.05
          },
          "xaxis": {
           "automargin": true,
           "gridcolor": "white",
           "linecolor": "white",
           "ticks": "",
           "title": {
            "standoff": 15
           },
           "zerolinecolor": "white",
           "zerolinewidth": 2
          },
          "yaxis": {
           "automargin": true,
           "gridcolor": "white",
           "linecolor": "white",
           "ticks": "",
           "title": {
            "standoff": 15
           },
           "zerolinecolor": "white",
           "zerolinewidth": 2
          }
         }
        },
        "title": {
         "text": "Incidents by levels. Control cities vs Treatment, %"
        },
        "xaxis": {
         "anchor": "y",
         "domain": [
          0,
          1
         ],
         "matches": "x2",
         "showticklabels": false
        },
        "xaxis2": {
         "anchor": "y2",
         "domain": [
          0,
          1
         ]
        },
        "yaxis": {
         "anchor": "x",
         "domain": [
          0.55,
          1
         ]
        },
        "yaxis2": {
         "anchor": "x2",
         "domain": [
          0,
          0.45
         ]
        }
       }
      }
     },
     "metadata": {},
     "output_type": "display_data"
    }
   ],
   "source": [
    "import pandas as pd\n",
    "import plotly.express as px\n",
    "from plotly.subplots import make_subplots\n",
    "import plotly.graph_objects as go\n",
    "\n",
    "my_custom_colors = {\n",
    "    \"Red\": \"#cc2900\",\n",
    "    \"Yellow\": \"#ffff00\",\n",
    "    \"Green\": \"#248f24\"\n",
    "}\n",
    "\n",
    "# Создаем subplot: 2 строки, 1 колонка\n",
    "fig = make_subplots(\n",
    "    rows=2, cols=1,\n",
    "    shared_xaxes=True,\n",
    "    subplot_titles=(\"Control group\", \"Treatment group\"),\n",
    "    vertical_spacing=0.1\n",
    ")\n",
    "\n",
    "groups = ['control', 'treatment']\n",
    "\n",
    "for i, segment in enumerate(groups):\n",
    "\n",
    "    # Фильтруем и агрегируем данные\n",
    "    agg_data = df_distr[\n",
    "        (df_distr['weekly'] >= '2025-04-01') &\n",
    "        (df_distr['information_status'] == 'Confirmed') &\n",
    "        (df_distr['segment'] == segment)\n",
    "    ].groupby(['weekly', 'incident_level'], as_index=False)['redmine_id'].count()\n",
    "\n",
    "    # Оконная сумма по неделе\n",
    "    agg_data['weekly_total'] = agg_data.groupby('weekly')['redmine_id'].transform('sum')\n",
    "    agg_data['share'] = agg_data['redmine_id'] / agg_data['weekly_total'] * 100\n",
    "\n",
    "    # Создаем временный график\n",
    "    temp_fig = px.bar(\n",
    "        agg_data.round(2),\n",
    "        x=\"weekly\",\n",
    "        y=\"share\",\n",
    "        color=\"incident_level\",\n",
    "        text_auto=True,\n",
    "        color_discrete_map=my_custom_colors\n",
    "    )\n",
    "\n",
    "    for trace in temp_fig.data:\n",
    "        # Показываем легенду только для первого сегмента\n",
    "        trace.showlegend = (i == 0)\n",
    "        fig.add_trace(trace, row=i+1, col=1)\n",
    "\n",
    "# Финальные настройки\n",
    "fig.update_layout(\n",
    "    height=1000,\n",
    "    barmode='stack',\n",
    "    title_text='Incidents by levels. Control cities vs Treatment, %',\n",
    "    showlegend=True\n",
    ")\n",
    "\n",
    "fig.show()"
   ]
  },
  {
   "cell_type": "markdown",
   "id": "c27c7ec3",
   "metadata": {},
   "source": [
    "# Preparing for impact meeting 2025 on safety packages"
   ]
  },
  {
   "cell_type": "code",
   "execution_count": 464,
   "id": "90a0923f",
   "metadata": {},
   "outputs": [
    {
     "data": {
      "text/html": [
       "<div>\n",
       "<style scoped>\n",
       "    .dataframe tbody tr th:only-of-type {\n",
       "        vertical-align: middle;\n",
       "    }\n",
       "\n",
       "    .dataframe tbody tr th {\n",
       "        vertical-align: top;\n",
       "    }\n",
       "\n",
       "    .dataframe thead th {\n",
       "        text-align: right;\n",
       "    }\n",
       "</style>\n",
       "<table border=\"1\" class=\"dataframe\">\n",
       "  <thead>\n",
       "    <tr style=\"text-align: right;\">\n",
       "      <th></th>\n",
       "      <th>user_id</th>\n",
       "      <th>ride</th>\n",
       "    </tr>\n",
       "  </thead>\n",
       "  <tbody>\n",
       "    <tr>\n",
       "      <th>0</th>\n",
       "      <td>281537261</td>\n",
       "      <td>5</td>\n",
       "    </tr>\n",
       "    <tr>\n",
       "      <th>1</th>\n",
       "      <td>284279435</td>\n",
       "      <td>1</td>\n",
       "    </tr>\n",
       "    <tr>\n",
       "      <th>2</th>\n",
       "      <td>285304742</td>\n",
       "      <td>1</td>\n",
       "    </tr>\n",
       "    <tr>\n",
       "      <th>3</th>\n",
       "      <td>275905676</td>\n",
       "      <td>4</td>\n",
       "    </tr>\n",
       "    <tr>\n",
       "      <th>4</th>\n",
       "      <td>272870368</td>\n",
       "      <td>0</td>\n",
       "    </tr>\n",
       "  </tbody>\n",
       "</table>\n",
       "</div>"
      ],
      "text/plain": [
       "     user_id  ride\n",
       "0  281537261     5\n",
       "1  284279435     1\n",
       "2  285304742     1\n",
       "3  275905676     4\n",
       "4  272870368     0"
      ]
     },
     "execution_count": 464,
     "metadata": {},
     "output_type": "execute_result"
    }
   ],
   "source": [
    "df = read_bq(\"\"\"\n",
    "WITH users AS (SELECT t1.user_id,\n",
    "                      t1.created_dt_part,\n",
    "                      CASE\n",
    "                          WHEN t1.group_id = 4535352 THEN 0\n",
    "                          WHEN t1.group_id = 4535353 THEN 1\n",
    "                          ELSE NULL\n",
    "                          END                         group_name,\n",
    "                      t1.city_id,\n",
    "                      t2.city_name,\n",
    "                      IF(t3.user_id IS NULL, 1, 0) AS user_with_rides_before\n",
    "               FROM indriver-e6e40.ss_ab_platform_mart.markup_users t1\n",
    "                        JOIN indriver-e6e40.heap.vw_macroregion_mapping t2\n",
    "                             ON\n",
    "                                 t1.city_id = t2.city_id\n",
    "                        LEFT JOIN (SELECT user_id, metric_date_utc\n",
    "                                   FROM indriver-bi.incity.tbl_incity_growth_metrics_detail\n",
    "                                   WHERE user_type = 'pass'\n",
    "                                     AND rides_count > 0\n",
    "                                     AND metric_date_utc >= '2023-01-01') t3\n",
    "                                  ON t1.user_id = t3.user_id AND t3.metric_date_utc < t1.created_dt_part\n",
    "               WHERE test_id = 2699),\n",
    "     metric AS (SELECT user_id,\n",
    "                       metric_date_utc,\n",
    "                       SUM(rides_count)   AS rides,\n",
    "                       SUM(orders_count)  AS orders,\n",
    "                       SUM(gmv_clean_usd) AS gmv\n",
    "                FROM indriver-bi.incity.tbl_incity_growth_metrics_detail\n",
    "                WHERE user_type = 'pass'\n",
    "                  AND metric_date_utc BETWEEN '2025-03-07' AND '2025-06-30'\n",
    "                GROUP BY 1, 2)\n",
    "SELECT user_id, COALESCE(SUM(rides), 0) AS ride\n",
    "FROM (SELECT t1.user_id,\n",
    "             t1.created_dt_part,\n",
    "             t1.group_name,\n",
    "             t1.user_with_rides_before,\n",
    "             t2.user_id AS user_id_rides,\n",
    "             t2.metric_date_utc,\n",
    "             t2.rides\n",
    "      FROM users t1\n",
    "               LEFT JOIN metric t2 ON t1.user_id = t2.user_id AND\n",
    "                                      t2.metric_date_utc BETWEEN t1.created_dt_part AND DATE_ADD(t1.created_dt_part, INTERVAL + 30 DAY))\n",
    "WHERE group_name = 0\n",
    "  AND user_with_rides_before = 1\n",
    "GROUP BY 1\n",
    "\"\"\")\n",
    "\n",
    "df.head()"
   ]
  },
  {
   "cell_type": "code",
   "execution_count": 465,
   "id": "2df5b973",
   "metadata": {},
   "outputs": [
    {
     "data": {
      "text/html": [
       "<div>\n",
       "<style scoped>\n",
       "    .dataframe tbody tr th:only-of-type {\n",
       "        vertical-align: middle;\n",
       "    }\n",
       "\n",
       "    .dataframe tbody tr th {\n",
       "        vertical-align: top;\n",
       "    }\n",
       "\n",
       "    .dataframe thead th {\n",
       "        text-align: right;\n",
       "    }\n",
       "</style>\n",
       "<table border=\"1\" class=\"dataframe\">\n",
       "  <thead>\n",
       "    <tr style=\"text-align: right;\">\n",
       "      <th></th>\n",
       "      <th>user_id</th>\n",
       "      <th>monthly</th>\n",
       "      <th>rides</th>\n",
       "    </tr>\n",
       "  </thead>\n",
       "  <tbody>\n",
       "    <tr>\n",
       "      <th>0</th>\n",
       "      <td>285062531</td>\n",
       "      <td>NaT</td>\n",
       "      <td>&lt;NA&gt;</td>\n",
       "    </tr>\n",
       "    <tr>\n",
       "      <th>1</th>\n",
       "      <td>284946789</td>\n",
       "      <td>NaT</td>\n",
       "      <td>&lt;NA&gt;</td>\n",
       "    </tr>\n",
       "    <tr>\n",
       "      <th>2</th>\n",
       "      <td>179521730</td>\n",
       "      <td>2025-04-01</td>\n",
       "      <td>1</td>\n",
       "    </tr>\n",
       "    <tr>\n",
       "      <th>3</th>\n",
       "      <td>286832938</td>\n",
       "      <td>2025-03-01</td>\n",
       "      <td>6</td>\n",
       "    </tr>\n",
       "    <tr>\n",
       "      <th>4</th>\n",
       "      <td>251997414</td>\n",
       "      <td>2025-05-01</td>\n",
       "      <td>1</td>\n",
       "    </tr>\n",
       "  </tbody>\n",
       "</table>\n",
       "</div>"
      ],
      "text/plain": [
       "     user_id    monthly  rides\n",
       "0  285062531        NaT   <NA>\n",
       "1  284946789        NaT   <NA>\n",
       "2  179521730 2025-04-01      1\n",
       "3  286832938 2025-03-01      6\n",
       "4  251997414 2025-05-01      1"
      ]
     },
     "execution_count": 465,
     "metadata": {},
     "output_type": "execute_result"
    }
   ],
   "source": [
    "df_monthly = read_bq(\"\"\"\n",
    "WITH users AS (SELECT t1.user_id,\n",
    "                      t1.created_dt_part,\n",
    "                      CASE\n",
    "                          WHEN t1.group_id = 4535352 THEN 0\n",
    "                          WHEN t1.group_id = 4535353 THEN 1\n",
    "                          ELSE NULL\n",
    "                          END                         group_name,\n",
    "                      t1.city_id,\n",
    "                      t2.city_name,\n",
    "                      IF(t3.user_id IS NULL, 1, 0) AS user_with_rides_before\n",
    "               FROM indriver-e6e40.ss_ab_platform_mart.markup_users t1\n",
    "                        JOIN indriver-e6e40.heap.vw_macroregion_mapping t2\n",
    "                             ON\n",
    "                                 t1.city_id = t2.city_id\n",
    "                        LEFT JOIN (SELECT user_id, metric_date_utc\n",
    "                                   FROM indriver-bi.incity.tbl_incity_growth_metrics_detail\n",
    "                                   WHERE user_type = 'pass'\n",
    "                                     AND rides_count > 0\n",
    "                                     AND metric_date_utc >= '2023-01-01') t3\n",
    "                                  ON t1.user_id = t3.user_id AND t3.metric_date_utc < t1.created_dt_part\n",
    "               WHERE test_id = 2699),\n",
    "     metric AS (SELECT user_id,\n",
    "                       metric_date_utc,\n",
    "                       SUM(rides_count)   AS rides,\n",
    "                       SUM(orders_count)  AS orders,\n",
    "                       SUM(gmv_clean_usd) AS gmv\n",
    "                FROM indriver-bi.incity.tbl_incity_growth_metrics_detail\n",
    "                WHERE user_type = 'pass'\n",
    "                  AND metric_date_utc BETWEEN '2025-03-07' AND '2025-06-30'\n",
    "                GROUP BY 1, 2)\n",
    "SELECT user_id,\n",
    "       DATE_TRUNC(metric_date_utc, MONTH) AS monthly,\n",
    "       SUM(rides)                         AS rides\n",
    "FROM (SELECT t1.user_id,\n",
    "             t1.created_dt_part,\n",
    "             t1.group_name,\n",
    "             t1.user_with_rides_before,\n",
    "             t2.user_id AS user_id_rides,\n",
    "             t2.metric_date_utc,\n",
    "             t2.rides\n",
    "      FROM users t1\n",
    "               LEFT JOIN metric t2 ON t1.user_id = t2.user_id AND\n",
    "                                      t2.metric_date_utc >= t1.created_dt_part)\n",
    "WHERE group_name = 0\n",
    "  AND user_with_rides_before = 1\n",
    "GROUP BY 1, 2\n",
    "\"\"\")\n",
    "\n",
    "df_monthly['monthly'] = pd.to_datetime(df_monthly['monthly'])\n",
    "df_monthly.head()"
   ]
  },
  {
   "cell_type": "code",
   "execution_count": null,
   "id": "23446241",
   "metadata": {},
   "outputs": [
    {
     "data": {
      "text/html": [
       "<div>\n",
       "<style scoped>\n",
       "    .dataframe tbody tr th:only-of-type {\n",
       "        vertical-align: middle;\n",
       "    }\n",
       "\n",
       "    .dataframe tbody tr th {\n",
       "        vertical-align: top;\n",
       "    }\n",
       "\n",
       "    .dataframe thead th {\n",
       "        text-align: right;\n",
       "    }\n",
       "</style>\n",
       "<table border=\"1\" class=\"dataframe\">\n",
       "  <thead>\n",
       "    <tr style=\"text-align: right;\">\n",
       "      <th></th>\n",
       "      <th>type</th>\n",
       "      <th>monthly</th>\n",
       "      <th>cut_users</th>\n",
       "      <th>rides</th>\n",
       "    </tr>\n",
       "  </thead>\n",
       "  <tbody>\n",
       "    <tr>\n",
       "      <th>0</th>\n",
       "      <td>liveness</td>\n",
       "      <td>2025-04-01</td>\n",
       "      <td>34074</td>\n",
       "      <td>155881885</td>\n",
       "    </tr>\n",
       "    <tr>\n",
       "      <th>1</th>\n",
       "      <td>liveness</td>\n",
       "      <td>2025-05-01</td>\n",
       "      <td>51592</td>\n",
       "      <td>167409178</td>\n",
       "    </tr>\n",
       "    <tr>\n",
       "      <th>2</th>\n",
       "      <td>liveness</td>\n",
       "      <td>2025-02-01</td>\n",
       "      <td>8748</td>\n",
       "      <td>142850511</td>\n",
       "    </tr>\n",
       "    <tr>\n",
       "      <th>3</th>\n",
       "      <td>liveness</td>\n",
       "      <td>2025-01-01</td>\n",
       "      <td>1</td>\n",
       "      <td>143265585</td>\n",
       "    </tr>\n",
       "    <tr>\n",
       "      <th>4</th>\n",
       "      <td>liveness</td>\n",
       "      <td>2025-03-01</td>\n",
       "      <td>25048</td>\n",
       "      <td>155907445</td>\n",
       "    </tr>\n",
       "  </tbody>\n",
       "</table>\n",
       "</div>"
      ],
      "text/plain": [
       "       type    monthly  cut_users      rides\n",
       "0  liveness 2025-04-01      34074  155881885\n",
       "1  liveness 2025-05-01      51592  167409178\n",
       "2  liveness 2025-02-01       8748  142850511\n",
       "3  liveness 2025-01-01          1  143265585\n",
       "4  liveness 2025-03-01      25048  155907445"
      ]
     },
     "execution_count": 466,
     "metadata": {},
     "output_type": "execute_result"
    }
   ],
   "source": [
    "# df_month = read_bq(\"\"\"\n",
    "# SELECT 'liveness' as type, t1.monthly, t1.cut_users, t2.rides\n",
    "# FROM (SELECT DATE_TRUNC(DATE(show), MONTH)    AS monthly,\n",
    "#              COUNT(DISTINCT user_id)          AS users,\n",
    "#              SUM(IF(show IS NULL, 1, 0))      AS show_users,\n",
    "#              SUM(IF(confirmed IS NULL, 1, 0)) AS cut_users\n",
    "#       FROM (SELECT user_id,\n",
    "#                    MAX(IF(name = 'client.verification_start.click', client_time_ts, NULL)) AS show,\n",
    "#                    MAX(IF(name = 'client.verification_flow_result_status.show' AND\n",
    "#                           LOWER(JSON_EXTRACT_SCALAR(payload, '$.status')) = 'approve', client_time_ts,\n",
    "#                           NULL))                                                           AS confirmed\n",
    "#             FROM indriver-e6e40.emart.product_event t1\n",
    "#                      JOIN indriver-e6e40.heap.vw_macroregion_mapping t2\n",
    "#                           ON\n",
    "#                               t1.city_id = t2.city_id\n",
    "#             WHERE 1 = 1\n",
    "#               AND t2.macroregion_name IN ('Latin America', 'Brazil', 'Africa')\n",
    "#               AND name IN (\n",
    "#                            'client.verification_start.click', 'client.verification_flow_result_status.show'\n",
    "#                 )\n",
    "#               AND event_dt_part BETWEEN '2025-01-01' AND '2025-06-30'\n",
    "#             GROUP BY 1)\n",
    "#       GROUP BY 1) t1\n",
    "#          LEFT JOIN (SELECT DATE_TRUNC(created_date_order_part, MONTH) AS monthly,\n",
    "#                            COUNT(DISTINCT order_uuid)                 AS rides\n",
    "#                     FROM indriver-e6e40.emart.incity_detail\n",
    "#                     WHERE 1 = 1\n",
    "#                       AND created_date_order_part BETWEEN '2025-01-01' AND '2025-06-30'\n",
    "#                       AND driveraccept_timestamp IS NOT NULL\n",
    "#                       AND status_order = 'done'\n",
    "#                     GROUP BY 1) t2 ON t1.monthly = t2.monthly\n",
    "# WHERE t1.monthly BETWEEN '2025-01-01' AND '2025-06-01'\n",
    "# UNION ALL\n",
    "# SELECT 'CPF' as type, t1.monthly, t1.cut_users, t2.rides\n",
    "# FROM (SELECT monthly,\n",
    "#              COUNT(DISTINCT user_id)          AS users,\n",
    "#              SUM(IF(show IS NULL, 1, 0))      AS show_users,\n",
    "#              SUM(IF(confirmed IS NULL, 1, 0)) AS cut_users\n",
    "#       FROM (SELECT user_id,\n",
    "#                    DATE_TRUNC(event_dt_part, MONTH)                                      AS monthly,\n",
    "#                    MAX(IF(name = 'city.client.id_doc_check.show', client_time_ts, NULL)) AS show,\n",
    "#                    MAX(IF(name = 'registration.cpf_confirmed', client_time_ts, NULL))    AS confirmed\n",
    "#             FROM indriver-e6e40.emart.product_event t1\n",
    "#             WHERE 1 = 1\n",
    "#               AND name IN (\n",
    "#                            'city.client.id_doc_check.show', 'registration.cpf_confirmed'\n",
    "#                 )\n",
    "#               AND event_dt_part BETWEEN '2025-01-01' AND '2025-06-30'\n",
    "#             GROUP BY 1, 2)\n",
    "#       GROUP BY 1) t1\n",
    "#          LEFT JOIN (SELECT DATE_TRUNC(created_date_order_part, MONTH) AS monthly,\n",
    "#                            COUNT(DISTINCT order_uuid)                 AS rides\n",
    "#                     FROM indriver-e6e40.emart.incity_detail\n",
    "#                     WHERE 1 = 1\n",
    "#                       AND created_date_order_part BETWEEN '2025-01-01' AND '2025-06-30'\n",
    "#                       AND driveraccept_timestamp IS NOT NULL\n",
    "#                       AND status_order = 'done'\n",
    "#                     GROUP BY 1) t2 ON t1.monthly = t2.monthly\n",
    "# \"\"\")\n",
    "\n",
    "df_month = read_bq(\"\"\"\n",
    "SELECT 'liveness' AS type, t1.monthly, t1.cut_users, t2.rides\n",
    "FROM (SELECT DATE_TRUNC(DATE(show), MONTH)    AS monthly,\n",
    "             COUNT(DISTINCT user_id)          AS users,\n",
    "             SUM(IF(show IS NULL, 1, 0))      AS show_users,\n",
    "             SUM(IF(confirmed IS NULL, 1, 0)) AS cut_users\n",
    "      FROM (SELECT user_id,\n",
    "                   MAX(IF(name = 'client.verification_start.click', client_time_ts, NULL)) AS show,\n",
    "                   MAX(IF(name = 'client.verification_flow_result_status.show' AND\n",
    "                          LOWER(JSON_EXTRACT_SCALAR(payload, '$.status')) = 'approve', client_time_ts,\n",
    "                          NULL))                                                           AS confirmed\n",
    "            FROM indriver-e6e40.emart.product_event t1\n",
    "                     JOIN indriver-e6e40.heap.vw_macroregion_mapping t2\n",
    "                          ON\n",
    "                              t1.city_id = t2.city_id\n",
    "            WHERE 1 = 1\n",
    "              -- AND t2.macroregion_name IN ('Latin America', 'Brazil', 'Africa')\n",
    "              AND t1.city_id IN\n",
    "                  (6587, 4230, 5495, 4272, 4396, 4155, 4825, 5291, 4234, 4404, 5548, 4143, 4198, 4225, 4227, 4255, 4197,\n",
    "                 4243, 5483, 4518, 4377, 4532, 4521, 4537, 4758, 4163, 4534, 4519, 4375)\n",
    "              AND name IN (\n",
    "                           'client.verification_start.click', 'client.verification_flow_result_status.show'\n",
    "                )\n",
    "              AND event_dt_part BETWEEN '2025-01-01' AND '2025-06-30'\n",
    "            GROUP BY 1)\n",
    "      GROUP BY 1) t1\n",
    "         LEFT JOIN (SELECT DATE_TRUNC(created_date_order_part, MONTH) AS monthly,\n",
    "                           COUNT(DISTINCT order_uuid)                 AS rides\n",
    "                    FROM indriver-e6e40.emart.incity_detail\n",
    "                    WHERE 1 = 1\n",
    "                      AND created_date_order_part BETWEEN '2025-01-01' AND '2025-06-30'\n",
    "                      AND driveraccept_timestamp IS NOT NULL\n",
    "                      AND status_order = 'done'\n",
    "                    GROUP BY 1) t2 ON t1.monthly = t2.monthly\n",
    "WHERE t1.monthly BETWEEN '2025-01-01' AND '2025-08-01'\n",
    "\"\"\")\n",
    "df_month['monthly'] = pd.to_datetime(df_month['monthly'])\n",
    "df_month.head()"
   ]
  },
  {
   "cell_type": "code",
   "execution_count": 469,
   "id": "327d1023",
   "metadata": {},
   "outputs": [
    {
     "data": {
      "text/html": [
       "<div>\n",
       "<style scoped>\n",
       "    .dataframe tbody tr th:only-of-type {\n",
       "        vertical-align: middle;\n",
       "    }\n",
       "\n",
       "    .dataframe tbody tr th {\n",
       "        vertical-align: top;\n",
       "    }\n",
       "\n",
       "    .dataframe thead th {\n",
       "        text-align: right;\n",
       "    }\n",
       "</style>\n",
       "<table border=\"1\" class=\"dataframe\">\n",
       "  <thead>\n",
       "    <tr style=\"text-align: right;\">\n",
       "      <th></th>\n",
       "      <th>month</th>\n",
       "      <th>cut_users</th>\n",
       "      <th>lost_rides</th>\n",
       "      <th>total_rides</th>\n",
       "      <th>monthly_impact_%</th>\n",
       "    </tr>\n",
       "  </thead>\n",
       "  <tbody>\n",
       "    <tr>\n",
       "      <th>0</th>\n",
       "      <td>2025-01-01</td>\n",
       "      <td>1</td>\n",
       "      <td>4459</td>\n",
       "      <td>143265585</td>\n",
       "      <td>0.003</td>\n",
       "    </tr>\n",
       "    <tr>\n",
       "      <th>1</th>\n",
       "      <td>2025-02-01</td>\n",
       "      <td>8748</td>\n",
       "      <td>36263</td>\n",
       "      <td>142850511</td>\n",
       "      <td>0.025</td>\n",
       "    </tr>\n",
       "    <tr>\n",
       "      <th>2</th>\n",
       "      <td>2025-03-01</td>\n",
       "      <td>33229</td>\n",
       "      <td>74057</td>\n",
       "      <td>155907445</td>\n",
       "      <td>0.048</td>\n",
       "    </tr>\n",
       "    <tr>\n",
       "      <th>3</th>\n",
       "      <td>2025-04-01</td>\n",
       "      <td>65461</td>\n",
       "      <td>245887</td>\n",
       "      <td>155881885</td>\n",
       "      <td>0.158</td>\n",
       "    </tr>\n",
       "    <tr>\n",
       "      <th>4</th>\n",
       "      <td>2025-05-01</td>\n",
       "      <td>113609</td>\n",
       "      <td>458941</td>\n",
       "      <td>167409178</td>\n",
       "      <td>0.274</td>\n",
       "    </tr>\n",
       "    <tr>\n",
       "      <th>5</th>\n",
       "      <td>2025-06-01</td>\n",
       "      <td>171881</td>\n",
       "      <td>659614</td>\n",
       "      <td>162857930</td>\n",
       "      <td>0.405</td>\n",
       "    </tr>\n",
       "  </tbody>\n",
       "</table>\n",
       "</div>"
      ],
      "text/plain": [
       "       month  cut_users  lost_rides  total_rides  monthly_impact_%\n",
       "0 2025-01-01          1        4459    143265585             0.003\n",
       "1 2025-02-01       8748       36263    142850511             0.025\n",
       "2 2025-03-01      33229       74057    155907445             0.048\n",
       "3 2025-04-01      65461      245887    155881885             0.158\n",
       "4 2025-05-01     113609      458941    167409178             0.274\n",
       "5 2025-06-01     171881      659614    162857930             0.405"
      ]
     },
     "execution_count": 469,
     "metadata": {},
     "output_type": "execute_result"
    }
   ],
   "source": [
    "res_table = pd.DataFrame()\n",
    "\n",
    "\n",
    "months = ['2025-01-01', '2025-02-01', '2025-03-01', '2025-04-01', '2025-05-01', '2025-06-01']\n",
    "users = [0]\n",
    "coeff = [(4000/6490), (3706/4000), (3466/3706), (3466/3706)*1.01, (3466/3706)*1.013, (3466/3706)*1.0106]\n",
    "\n",
    "\n",
    "for month, coeff in zip(months, coeff):\n",
    "\n",
    "    res = pd.DataFrame()\n",
    "\n",
    "    cut_users_by_mon = int(df_month[df_month['monthly']==month]['cut_users'].sum()+users[-1]*coeff)\n",
    "    users.append(cut_users_by_mon)\n",
    "    if month == '2025-01-01':\n",
    "        df_agg = df_monthly.query(f\"monthly == '2025-03-01'\")[~df_monthly['monthly'].isna()].groupby(['rides'], as_index=False)['user_id'].count()\n",
    "        # df_agg = df.groupby(['ride'], as_index=False)['user_id'].count()\n",
    "        df_agg['total'] = df_agg['user_id'].sum()\n",
    "        df_agg['share'] = df_agg['user_id'] / df_agg['total']\n",
    "        df_agg['cut_users'] = cut_users_by_mon\n",
    "        df_agg['cut_users_share'] = (df_agg['cut_users'] * df_agg['share']).astype(int)\n",
    "        df_agg['lost_rides'] = (df_agg['cut_users_share'] * (df_agg['rides'])).astype(int)\n",
    "        res['month'] = [month]\n",
    "        res['cut_users'] = [cut_users_by_mon]\n",
    "        res['lost_rides'] = [df_agg['lost_rides'].sum()+int((36890+5428+11201)/12)]\n",
    "    elif month == '2025-02-01':\n",
    "        df_agg = df_monthly.query(f\"monthly == '2025-04-01'\")[~df_monthly['monthly'].isna()].groupby(['rides'], as_index=False)['user_id'].count()\n",
    "        # df_agg = df.groupby(['ride'], as_index=False)['user_id'].count()\n",
    "        df_agg['total'] = df_agg['user_id'].sum()\n",
    "        df_agg['share'] = df_agg['user_id'] / df_agg['total']\n",
    "        df_agg['cut_users'] = cut_users_by_mon\n",
    "        df_agg['cut_users_share'] = (df_agg['cut_users'] * df_agg['share']).astype(int)\n",
    "        df_agg['lost_rides'] = (df_agg['cut_users_share'] * (df_agg['rides'])).astype(int)\n",
    "        res['month'] = [month]\n",
    "        res['cut_users'] = [cut_users_by_mon]\n",
    "        res['lost_rides'] = [df_agg['lost_rides'].sum()+int((36890+5428+11201)/12)]\n",
    "    else:\n",
    "        df_agg = df_monthly.query(f\"monthly == '{month}'\")[~df_monthly['monthly'].isna()].groupby(['rides'], as_index=False)['user_id'].count()\n",
    "        # df_agg = df.groupby(['ride'], as_index=False)['user_id'].count()\n",
    "        df_agg['total'] = df_agg['user_id'].sum()\n",
    "        df_agg['share'] = df_agg['user_id'] / df_agg['total']\n",
    "        df_agg['cut_users'] = cut_users_by_mon\n",
    "        df_agg['cut_users_share'] = (df_agg['cut_users'] * df_agg['share']).astype(int)\n",
    "        df_agg['lost_rides'] = (df_agg['cut_users_share'] * (df_agg['rides'])).astype(int)\n",
    "        res['month'] = [month]\n",
    "        res['cut_users'] = [cut_users_by_mon]\n",
    "        res['lost_rides'] = [df_agg['lost_rides'].sum()+int((36890+5428+11201)/12)]\n",
    "        \n",
    "\n",
    "    res_table = pd.concat([res_table, res])\n",
    "    res_table['month'] = pd.to_datetime(res_table['month'])\n",
    "\n",
    "res_table = res_table.merge(df_month.groupby('monthly', as_index=False)['rides'].max().rename(columns={'rides':'total_rides'}), left_on='month', right_on='monthly', how='inner')\n",
    "\n",
    "res_table['monthly_impact_%'] = res_table['lost_rides'] / res_table['total_rides'] *100\n",
    "\n",
    "res_table[['month', 'cut_users', 'lost_rides', 'total_rides', 'monthly_impact_%']]"
   ]
  },
  {
   "cell_type": "code",
   "execution_count": 418,
   "id": "75ddc5a9",
   "metadata": {},
   "outputs": [
    {
     "name": "stdout",
     "output_type": "stream",
     "text": [
      "Polynomial Regression (Degree 2) Coefficients for total_rides:\n",
      "  Coefficients (c_0, c_1, ..., c_n): [ 1.40842206e+08  7.29601196e+06 -4.78561500e+05]\n",
      "------------------------------\n"
     ]
    },
    {
     "data": {
      "application/vnd.plotly.v1+json": {
       "config": {
        "plotlyServerURL": "https://plot.ly"
       },
       "data": [
        {
         "line": {
          "color": "blue",
          "width": 2
         },
         "marker": {
          "color": "blue",
          "size": 7
         },
         "mode": "lines+markers+text",
         "name": "Original Total Rides",
         "text": [
          "143,265,585",
          "142,850,511",
          "155,907,445",
          "155,881,885",
          "167,409,178",
          "162,857,928"
         ],
         "textfont": {
          "size": 10
         },
         "textposition": "top center",
         "type": "scatter",
         "x": [
          "2025-01-01T00:00:00",
          "2025-02-01T00:00:00",
          "2025-03-01T00:00:00",
          "2025-04-01T00:00:00",
          "2025-05-01T00:00:00",
          "2025-06-01T00:00:00"
         ],
         "y": [
          143265585,
          142850511,
          155907445,
          155881885,
          167409178,
          162857928
         ]
        },
        {
         "line": {
          "color": "orange",
          "dash": "dot",
          "width": 2
         },
         "marker": {
          "color": "orange",
          "size": 7
         },
         "mode": "lines+markers+text",
         "name": "Extrapolated Total Rides",
         "text": [
          "",
          "167,390,063",
          "168,464,776",
          "168,582,365",
          "167,742,831",
          "165,946,175",
          "163,192,395"
         ],
         "textfont": {
          "size": 10
         },
         "textposition": "top center",
         "type": "scatter",
         "x": [
          "2025-06-01T00:00:00",
          "2025-07-01T00:00:00",
          "2025-08-01T00:00:00",
          "2025-09-01T00:00:00",
          "2025-10-01T00:00:00",
          "2025-11-01T00:00:00",
          "2025-12-01T00:00:00"
         ],
         "y": [
          165358228.14285713,
          167390063.6,
          168464776.05714288,
          168582365.51428574,
          167742831.97142863,
          165946175.42857155,
          163192395.88571444
         ]
        }
       ],
       "layout": {
        "height": 600,
        "legend": {
         "bgcolor": "rgba(255,255,255,0.7)",
         "bordercolor": "LightSteelBlue",
         "borderwidth": 1,
         "font": {
          "size": 12
         },
         "traceorder": "normal",
         "x": 0.85,
         "xanchor": "right",
         "y": 0.99,
         "yanchor": "top"
        },
        "showlegend": true,
        "template": {
         "data": {
          "bar": [
           {
            "error_x": {
             "color": "#2a3f5f"
            },
            "error_y": {
             "color": "#2a3f5f"
            },
            "marker": {
             "line": {
              "color": "#E5ECF6",
              "width": 0.5
             },
             "pattern": {
              "fillmode": "overlay",
              "size": 10,
              "solidity": 0.2
             }
            },
            "type": "bar"
           }
          ],
          "barpolar": [
           {
            "marker": {
             "line": {
              "color": "#E5ECF6",
              "width": 0.5
             },
             "pattern": {
              "fillmode": "overlay",
              "size": 10,
              "solidity": 0.2
             }
            },
            "type": "barpolar"
           }
          ],
          "carpet": [
           {
            "aaxis": {
             "endlinecolor": "#2a3f5f",
             "gridcolor": "white",
             "linecolor": "white",
             "minorgridcolor": "white",
             "startlinecolor": "#2a3f5f"
            },
            "baxis": {
             "endlinecolor": "#2a3f5f",
             "gridcolor": "white",
             "linecolor": "white",
             "minorgridcolor": "white",
             "startlinecolor": "#2a3f5f"
            },
            "type": "carpet"
           }
          ],
          "choropleth": [
           {
            "colorbar": {
             "outlinewidth": 0,
             "ticks": ""
            },
            "type": "choropleth"
           }
          ],
          "contour": [
           {
            "colorbar": {
             "outlinewidth": 0,
             "ticks": ""
            },
            "colorscale": [
             [
              0,
              "#0d0887"
             ],
             [
              0.1111111111111111,
              "#46039f"
             ],
             [
              0.2222222222222222,
              "#7201a8"
             ],
             [
              0.3333333333333333,
              "#9c179e"
             ],
             [
              0.4444444444444444,
              "#bd3786"
             ],
             [
              0.5555555555555556,
              "#d8576b"
             ],
             [
              0.6666666666666666,
              "#ed7953"
             ],
             [
              0.7777777777777778,
              "#fb9f3a"
             ],
             [
              0.8888888888888888,
              "#fdca26"
             ],
             [
              1,
              "#f0f921"
             ]
            ],
            "type": "contour"
           }
          ],
          "contourcarpet": [
           {
            "colorbar": {
             "outlinewidth": 0,
             "ticks": ""
            },
            "type": "contourcarpet"
           }
          ],
          "heatmap": [
           {
            "colorbar": {
             "outlinewidth": 0,
             "ticks": ""
            },
            "colorscale": [
             [
              0,
              "#0d0887"
             ],
             [
              0.1111111111111111,
              "#46039f"
             ],
             [
              0.2222222222222222,
              "#7201a8"
             ],
             [
              0.3333333333333333,
              "#9c179e"
             ],
             [
              0.4444444444444444,
              "#bd3786"
             ],
             [
              0.5555555555555556,
              "#d8576b"
             ],
             [
              0.6666666666666666,
              "#ed7953"
             ],
             [
              0.7777777777777778,
              "#fb9f3a"
             ],
             [
              0.8888888888888888,
              "#fdca26"
             ],
             [
              1,
              "#f0f921"
             ]
            ],
            "type": "heatmap"
           }
          ],
          "heatmapgl": [
           {
            "colorbar": {
             "outlinewidth": 0,
             "ticks": ""
            },
            "colorscale": [
             [
              0,
              "#0d0887"
             ],
             [
              0.1111111111111111,
              "#46039f"
             ],
             [
              0.2222222222222222,
              "#7201a8"
             ],
             [
              0.3333333333333333,
              "#9c179e"
             ],
             [
              0.4444444444444444,
              "#bd3786"
             ],
             [
              0.5555555555555556,
              "#d8576b"
             ],
             [
              0.6666666666666666,
              "#ed7953"
             ],
             [
              0.7777777777777778,
              "#fb9f3a"
             ],
             [
              0.8888888888888888,
              "#fdca26"
             ],
             [
              1,
              "#f0f921"
             ]
            ],
            "type": "heatmapgl"
           }
          ],
          "histogram": [
           {
            "marker": {
             "pattern": {
              "fillmode": "overlay",
              "size": 10,
              "solidity": 0.2
             }
            },
            "type": "histogram"
           }
          ],
          "histogram2d": [
           {
            "colorbar": {
             "outlinewidth": 0,
             "ticks": ""
            },
            "colorscale": [
             [
              0,
              "#0d0887"
             ],
             [
              0.1111111111111111,
              "#46039f"
             ],
             [
              0.2222222222222222,
              "#7201a8"
             ],
             [
              0.3333333333333333,
              "#9c179e"
             ],
             [
              0.4444444444444444,
              "#bd3786"
             ],
             [
              0.5555555555555556,
              "#d8576b"
             ],
             [
              0.6666666666666666,
              "#ed7953"
             ],
             [
              0.7777777777777778,
              "#fb9f3a"
             ],
             [
              0.8888888888888888,
              "#fdca26"
             ],
             [
              1,
              "#f0f921"
             ]
            ],
            "type": "histogram2d"
           }
          ],
          "histogram2dcontour": [
           {
            "colorbar": {
             "outlinewidth": 0,
             "ticks": ""
            },
            "colorscale": [
             [
              0,
              "#0d0887"
             ],
             [
              0.1111111111111111,
              "#46039f"
             ],
             [
              0.2222222222222222,
              "#7201a8"
             ],
             [
              0.3333333333333333,
              "#9c179e"
             ],
             [
              0.4444444444444444,
              "#bd3786"
             ],
             [
              0.5555555555555556,
              "#d8576b"
             ],
             [
              0.6666666666666666,
              "#ed7953"
             ],
             [
              0.7777777777777778,
              "#fb9f3a"
             ],
             [
              0.8888888888888888,
              "#fdca26"
             ],
             [
              1,
              "#f0f921"
             ]
            ],
            "type": "histogram2dcontour"
           }
          ],
          "mesh3d": [
           {
            "colorbar": {
             "outlinewidth": 0,
             "ticks": ""
            },
            "type": "mesh3d"
           }
          ],
          "parcoords": [
           {
            "line": {
             "colorbar": {
              "outlinewidth": 0,
              "ticks": ""
             }
            },
            "type": "parcoords"
           }
          ],
          "pie": [
           {
            "automargin": true,
            "type": "pie"
           }
          ],
          "scatter": [
           {
            "fillpattern": {
             "fillmode": "overlay",
             "size": 10,
             "solidity": 0.2
            },
            "type": "scatter"
           }
          ],
          "scatter3d": [
           {
            "line": {
             "colorbar": {
              "outlinewidth": 0,
              "ticks": ""
             }
            },
            "marker": {
             "colorbar": {
              "outlinewidth": 0,
              "ticks": ""
             }
            },
            "type": "scatter3d"
           }
          ],
          "scattercarpet": [
           {
            "marker": {
             "colorbar": {
              "outlinewidth": 0,
              "ticks": ""
             }
            },
            "type": "scattercarpet"
           }
          ],
          "scattergeo": [
           {
            "marker": {
             "colorbar": {
              "outlinewidth": 0,
              "ticks": ""
             }
            },
            "type": "scattergeo"
           }
          ],
          "scattergl": [
           {
            "marker": {
             "colorbar": {
              "outlinewidth": 0,
              "ticks": ""
             }
            },
            "type": "scattergl"
           }
          ],
          "scattermapbox": [
           {
            "marker": {
             "colorbar": {
              "outlinewidth": 0,
              "ticks": ""
             }
            },
            "type": "scattermapbox"
           }
          ],
          "scatterpolar": [
           {
            "marker": {
             "colorbar": {
              "outlinewidth": 0,
              "ticks": ""
             }
            },
            "type": "scatterpolar"
           }
          ],
          "scatterpolargl": [
           {
            "marker": {
             "colorbar": {
              "outlinewidth": 0,
              "ticks": ""
             }
            },
            "type": "scatterpolargl"
           }
          ],
          "scatterternary": [
           {
            "marker": {
             "colorbar": {
              "outlinewidth": 0,
              "ticks": ""
             }
            },
            "type": "scatterternary"
           }
          ],
          "surface": [
           {
            "colorbar": {
             "outlinewidth": 0,
             "ticks": ""
            },
            "colorscale": [
             [
              0,
              "#0d0887"
             ],
             [
              0.1111111111111111,
              "#46039f"
             ],
             [
              0.2222222222222222,
              "#7201a8"
             ],
             [
              0.3333333333333333,
              "#9c179e"
             ],
             [
              0.4444444444444444,
              "#bd3786"
             ],
             [
              0.5555555555555556,
              "#d8576b"
             ],
             [
              0.6666666666666666,
              "#ed7953"
             ],
             [
              0.7777777777777778,
              "#fb9f3a"
             ],
             [
              0.8888888888888888,
              "#fdca26"
             ],
             [
              1,
              "#f0f921"
             ]
            ],
            "type": "surface"
           }
          ],
          "table": [
           {
            "cells": {
             "fill": {
              "color": "#EBF0F8"
             },
             "line": {
              "color": "white"
             }
            },
            "header": {
             "fill": {
              "color": "#C8D4E3"
             },
             "line": {
              "color": "white"
             }
            },
            "type": "table"
           }
          ]
         },
         "layout": {
          "annotationdefaults": {
           "arrowcolor": "#2a3f5f",
           "arrowhead": 0,
           "arrowwidth": 1
          },
          "autotypenumbers": "strict",
          "coloraxis": {
           "colorbar": {
            "outlinewidth": 0,
            "ticks": ""
           }
          },
          "colorscale": {
           "diverging": [
            [
             0,
             "#8e0152"
            ],
            [
             0.1,
             "#c51b7d"
            ],
            [
             0.2,
             "#de77ae"
            ],
            [
             0.3,
             "#f1b6da"
            ],
            [
             0.4,
             "#fde0ef"
            ],
            [
             0.5,
             "#f7f7f7"
            ],
            [
             0.6,
             "#e6f5d0"
            ],
            [
             0.7,
             "#b8e186"
            ],
            [
             0.8,
             "#7fbc41"
            ],
            [
             0.9,
             "#4d9221"
            ],
            [
             1,
             "#276419"
            ]
           ],
           "sequential": [
            [
             0,
             "#0d0887"
            ],
            [
             0.1111111111111111,
             "#46039f"
            ],
            [
             0.2222222222222222,
             "#7201a8"
            ],
            [
             0.3333333333333333,
             "#9c179e"
            ],
            [
             0.4444444444444444,
             "#bd3786"
            ],
            [
             0.5555555555555556,
             "#d8576b"
            ],
            [
             0.6666666666666666,
             "#ed7953"
            ],
            [
             0.7777777777777778,
             "#fb9f3a"
            ],
            [
             0.8888888888888888,
             "#fdca26"
            ],
            [
             1,
             "#f0f921"
            ]
           ],
           "sequentialminus": [
            [
             0,
             "#0d0887"
            ],
            [
             0.1111111111111111,
             "#46039f"
            ],
            [
             0.2222222222222222,
             "#7201a8"
            ],
            [
             0.3333333333333333,
             "#9c179e"
            ],
            [
             0.4444444444444444,
             "#bd3786"
            ],
            [
             0.5555555555555556,
             "#d8576b"
            ],
            [
             0.6666666666666666,
             "#ed7953"
            ],
            [
             0.7777777777777778,
             "#fb9f3a"
            ],
            [
             0.8888888888888888,
             "#fdca26"
            ],
            [
             1,
             "#f0f921"
            ]
           ]
          },
          "colorway": [
           "#636efa",
           "#EF553B",
           "#00cc96",
           "#ab63fa",
           "#FFA15A",
           "#19d3f3",
           "#FF6692",
           "#B6E880",
           "#FF97FF",
           "#FECB52"
          ],
          "font": {
           "color": "#2a3f5f"
          },
          "geo": {
           "bgcolor": "white",
           "lakecolor": "white",
           "landcolor": "#E5ECF6",
           "showlakes": true,
           "showland": true,
           "subunitcolor": "white"
          },
          "hoverlabel": {
           "align": "left"
          },
          "hovermode": "closest",
          "mapbox": {
           "style": "light"
          },
          "paper_bgcolor": "white",
          "plot_bgcolor": "#E5ECF6",
          "polar": {
           "angularaxis": {
            "gridcolor": "white",
            "linecolor": "white",
            "ticks": ""
           },
           "bgcolor": "#E5ECF6",
           "radialaxis": {
            "gridcolor": "white",
            "linecolor": "white",
            "ticks": ""
           }
          },
          "scene": {
           "xaxis": {
            "backgroundcolor": "#E5ECF6",
            "gridcolor": "white",
            "gridwidth": 2,
            "linecolor": "white",
            "showbackground": true,
            "ticks": "",
            "zerolinecolor": "white"
           },
           "yaxis": {
            "backgroundcolor": "#E5ECF6",
            "gridcolor": "white",
            "gridwidth": 2,
            "linecolor": "white",
            "showbackground": true,
            "ticks": "",
            "zerolinecolor": "white"
           },
           "zaxis": {
            "backgroundcolor": "#E5ECF6",
            "gridcolor": "white",
            "gridwidth": 2,
            "linecolor": "white",
            "showbackground": true,
            "ticks": "",
            "zerolinecolor": "white"
           }
          },
          "shapedefaults": {
           "line": {
            "color": "#2a3f5f"
           }
          },
          "ternary": {
           "aaxis": {
            "gridcolor": "white",
            "linecolor": "white",
            "ticks": ""
           },
           "baxis": {
            "gridcolor": "white",
            "linecolor": "white",
            "ticks": ""
           },
           "bgcolor": "#E5ECF6",
           "caxis": {
            "gridcolor": "white",
            "linecolor": "white",
            "ticks": ""
           }
          },
          "title": {
           "x": 0.05
          },
          "xaxis": {
           "automargin": true,
           "gridcolor": "white",
           "linecolor": "white",
           "ticks": "",
           "title": {
            "standoff": 15
           },
           "zerolinecolor": "white",
           "zerolinewidth": 2
          },
          "yaxis": {
           "automargin": true,
           "gridcolor": "white",
           "linecolor": "white",
           "ticks": "",
           "title": {
            "standoff": 15
           },
           "zerolinecolor": "white",
           "zerolinewidth": 2
          }
         }
        },
        "title": {
         "text": "Total Rides in 2025 (Extended with Polynomial Approximation)"
        },
        "width": 1000,
        "xaxis": {
         "dtick": "M1",
         "tickformat": "%b %Y",
         "ticklabelmode": "period",
         "title": {
          "text": "Month"
         }
        },
        "yaxis": {
         "range": [
          0,
          185440602.06571433
         ],
         "title": {
          "text": "Total Rides"
         }
        }
       }
      }
     },
     "metadata": {},
     "output_type": "display_data"
    },
    {
     "name": "stdout",
     "output_type": "stream",
     "text": [
      "\n",
      "Original Data for Total Rides:\n",
      "       month  total_rides\n",
      "0 2025-01-01    143265585\n",
      "1 2025-02-01    142850511\n",
      "2 2025-03-01    155907445\n",
      "3 2025-04-01    155881885\n",
      "4 2025-05-01    167409178\n",
      "5 2025-06-01    162857928\n",
      "\n",
      "Extrapolated Data for Total Rides (including June for continuity):\n",
      "       month  total_rides_extrapolated\n",
      "0 2025-06-01           165,358,228.143\n",
      "1 2025-07-01           167,390,063.600\n",
      "2 2025-08-01           168,464,776.057\n",
      "3 2025-09-01           168,582,365.514\n",
      "4 2025-10-01           167,742,831.971\n",
      "5 2025-11-01           165,946,175.429\n",
      "6 2025-12-01           163,192,395.886\n"
     ]
    }
   ],
   "source": [
    "import pandas as pd\n",
    "import numpy as np\n",
    "import plotly.graph_objects as go\n",
    "from scipy.optimize import curve_fit # For more complex non-linear fits\n",
    "from numpy.polynomial.polynomial import polyfit # For polynomial fit\n",
    "\n",
    "# --- 1. Load the provided data ---\n",
    "# Data from your image_e14ee9.png\n",
    "data = {\n",
    "    'month': ['2025-01-01', '2025-02-01', '2025-03-01', '2025-04-01', '2025-05-01', '2025-06-01'],\n",
    "    'lost_rides': [118378, 793412, 818982, 2147740, 3142556, 3924421],\n",
    "    'total_rides': [143265585, 142850511, 155907445, 155881885, 167409178, 162857926],\n",
    "    'monthly_impact_%': [0.083, 0.555, 0.525, 1.378, 1.877, 2.410]\n",
    "}\n",
    "df = res_table[['month',  'lost_rides', 'total_rides', 'monthly_impact_%']]\n",
    "\n",
    "# Convert 'month' column to datetime objects\n",
    "df['month'] = pd.to_datetime(df['month'])\n",
    "\n",
    "# --- 2. Prepare data for non-linear regression (Polynomial Regression) ---\n",
    "# We need numerical representation for months.\n",
    "# Using the number of months since the start of 2025.\n",
    "df['month_numeric'] = (df['month'].dt.year - 2025) * 12 + df['month'].dt.month - 1\n",
    "\n",
    "# Define X (independent variable) and Y (dependent variable) for total_rides\n",
    "X_train_total_rides = df['month_numeric']\n",
    "y_train_total_rides = df['total_rides']\n",
    "\n",
    "# Choose the degree of the polynomial. Let's start with degree 2 (quadratic).\n",
    "# polyfit returns coefficients in increasing power: c_0, c_1, c_2 for c_0 + c_1*x + c_2*x^2\n",
    "degree = 2\n",
    "coeffs = polyfit(X_train_total_rides, y_train_total_rides, degree)\n",
    "\n",
    "print(f\"Polynomial Regression (Degree {degree}) Coefficients for total_rides:\")\n",
    "print(f\"  Coefficients (c_0, c_1, ..., c_n): {coeffs}\")\n",
    "print(\"-\" * 30)\n",
    "\n",
    "# Define the polynomial function to use for prediction\n",
    "def polynomial_function(x, *coeffs):\n",
    "    return sum(c * (x**i) for i, c in enumerate(coeffs))\n",
    "\n",
    "# --- 3. Generate Future Dates and Numeric Months ---\n",
    "last_known_month_dt = df['month'].max() # This is '2025-06-01'\n",
    "\n",
    "# Generate dates from the last known month up to December\n",
    "future_months = pd.date_range(start=last_known_month_dt, end='2025-12-01', freq='MS')\n",
    "\n",
    "df_future_total_rides = pd.DataFrame({\n",
    "    'month': future_months\n",
    "})\n",
    "df_future_total_rides['month_numeric'] = (df_future_total_rides['month'].dt.year - 2025) * 12 + df_future_total_rides['month'].dt.month - 1\n",
    "\n",
    "# --- 4. Extrapolate Values for total_rides ---\n",
    "df_future_total_rides['total_rides_extrapolated'] = polynomial_function(df_future_total_rides['month_numeric'], *coeffs)\n",
    "\n",
    "# Ensure extrapolated values are non-negative (total_rides shouldn't decrease below 0)\n",
    "df_future_total_rides['total_rides_extrapolated'] = df_future_total_rides['total_rides_extrapolated'].apply(lambda x: max(0, x))\n",
    "\n",
    "# --- 5. Prepare data for plotting ---\n",
    "# Original data for plotting\n",
    "df_original_plot = df.copy()\n",
    "\n",
    "# Extrapolated data for plotting\n",
    "df_extrapolated_plot = df_future_total_rides.copy()\n",
    "\n",
    "# Round the values for display consistency (optional, but good for large numbers)\n",
    "df_original_plot['total_rides_display'] = df_original_plot['total_rides'].apply(lambda x: f\"{int(x):,}\")\n",
    "df_extrapolated_plot['total_rides_display'] = df_extrapolated_plot['total_rides_extrapolated'].apply(lambda x: f\"{int(x):,}\")\n",
    "\n",
    "\n",
    "# --- 6. Plot the Extended Data for total_rides ---\n",
    "fig = go.Figure()\n",
    "\n",
    "# Add Original data trace\n",
    "fig.add_trace(go.Scatter(\n",
    "    x=df_original_plot['month'],\n",
    "    y=df_original_plot['total_rides'],\n",
    "    mode='lines+markers+text',\n",
    "    name='Original Total Rides',\n",
    "    line=dict(color='blue', width=2),\n",
    "    marker=dict(color='blue', size=7),\n",
    "    text=df_original_plot['total_rides_display'],\n",
    "    textposition='top center',\n",
    "    textfont_size=10\n",
    "))\n",
    "\n",
    "# Add Extrapolated data trace\n",
    "fig.add_trace(go.Scatter(\n",
    "    x=df_extrapolated_plot['month'],\n",
    "    y=df_extrapolated_plot['total_rides_extrapolated'],\n",
    "    mode='lines+markers+text',\n",
    "    name='Extrapolated Total Rides',\n",
    "    line=dict(color='orange', dash='dot', width=2), # Dotted line for extrapolated\n",
    "    marker=dict(color='orange', size=7),\n",
    "    # Only show text labels for the *new* extrapolated points (July onwards)\n",
    "    text=[val if date > last_known_month_dt else '' for val, date in zip(df_extrapolated_plot['total_rides_display'], df_extrapolated_plot['month'])],\n",
    "    textposition='top center',\n",
    "    textfont_size=10\n",
    "))\n",
    "\n",
    "fig.update_layout(\n",
    "    title='Total Rides in 2025 (Extended with Polynomial Approximation)',\n",
    "    xaxis_title='Month',\n",
    "    yaxis_title='Total Rides',\n",
    "    showlegend=True,\n",
    "    legend=dict(\n",
    "        x=0.85,\n",
    "        y=0.99,\n",
    "        xanchor='right',\n",
    "        yanchor='top',\n",
    "        traceorder=\"normal\",\n",
    "        font=dict(size=12),\n",
    "        bgcolor=\"rgba(255,255,255,0.7)\",\n",
    "        bordercolor=\"LightSteelBlue\",\n",
    "        borderwidth=1\n",
    "    ),\n",
    "    height=600, # Adjust chart height\n",
    "    width=1000  # Adjust chart width\n",
    ")\n",
    "\n",
    "# Force Y-axis to start from 0 and ensure it covers the new range\n",
    "max_y_value = max(df_original_plot['total_rides'].max(), df_extrapolated_plot['total_rides_extrapolated'].max())\n",
    "fig.update_yaxes(range=[0, max_y_value * 1.1]) # Add some padding to the top\n",
    "\n",
    "# Customize x-axis ticks to show month and year, and ensure continuity\n",
    "fig.update_xaxes(\n",
    "    tickformat=\"%b %Y\", # Format as \"Jan 2025\"\n",
    "    dtick=\"M1\",        # Show a tick for every month\n",
    "    ticklabelmode=\"period\" # Centers tick labels for months\n",
    ")\n",
    "\n",
    "fig.show()\n",
    "\n",
    "print(\"\\nOriginal Data for Total Rides:\")\n",
    "print(df_original_plot[['month', 'total_rides']].to_string())\n",
    "print(\"\\nExtrapolated Data for Total Rides (including June for continuity):\")\n",
    "print(df_extrapolated_plot[['month', 'total_rides_extrapolated']].to_string())"
   ]
  },
  {
   "cell_type": "code",
   "execution_count": 437,
   "id": "2d4b8e02",
   "metadata": {},
   "outputs": [],
   "source": [
    "df_total = df_extrapolated_plot[['month', 'total_rides_extrapolated_new']].merge(\n",
    "    df_future.query(\"month > '2025-06-01'\")[['month', 'monthly_impact_%']],\n",
    "    left_on='month',\n",
    "    right_on='month',\n",
    "    how='inner'\n",
    "    )\n",
    "\n",
    "df_total.rename(columns={'total_rides_extrapolated_new':'total_rides', 'monthly_impact_%':'lost_rides'}, inplace=True)"
   ]
  },
  {
   "cell_type": "code",
   "execution_count": 462,
   "id": "97b66229",
   "metadata": {},
   "outputs": [
    {
     "data": {
      "text/html": [
       "<div>\n",
       "<style scoped>\n",
       "    .dataframe tbody tr th:only-of-type {\n",
       "        vertical-align: middle;\n",
       "    }\n",
       "\n",
       "    .dataframe tbody tr th {\n",
       "        vertical-align: top;\n",
       "    }\n",
       "\n",
       "    .dataframe thead th {\n",
       "        text-align: right;\n",
       "    }\n",
       "</style>\n",
       "<table border=\"1\" class=\"dataframe\">\n",
       "  <thead>\n",
       "    <tr style=\"text-align: right;\">\n",
       "      <th></th>\n",
       "      <th>month</th>\n",
       "      <th>total_rides</th>\n",
       "      <th>lost_rides</th>\n",
       "      <th>impact_%</th>\n",
       "      <th>total_rides_cumsum</th>\n",
       "      <th>lost_rides_cumsum</th>\n",
       "      <th>cumsum_impact_%</th>\n",
       "    </tr>\n",
       "  </thead>\n",
       "  <tbody>\n",
       "    <tr>\n",
       "      <th>0</th>\n",
       "      <td>2025-01-01</td>\n",
       "      <td>143265585</td>\n",
       "      <td>15852</td>\n",
       "      <td>0.011</td>\n",
       "      <td>15852</td>\n",
       "      <td>143265585</td>\n",
       "      <td>0.011</td>\n",
       "    </tr>\n",
       "    <tr>\n",
       "      <th>1</th>\n",
       "      <td>2025-02-01</td>\n",
       "      <td>142850511</td>\n",
       "      <td>96866</td>\n",
       "      <td>0.068</td>\n",
       "      <td>112718</td>\n",
       "      <td>286116096</td>\n",
       "      <td>0.039</td>\n",
       "    </tr>\n",
       "    <tr>\n",
       "      <th>2</th>\n",
       "      <td>2025-03-01</td>\n",
       "      <td>155907445</td>\n",
       "      <td>106012</td>\n",
       "      <td>0.068</td>\n",
       "      <td>218730</td>\n",
       "      <td>442023541</td>\n",
       "      <td>0.049</td>\n",
       "    </tr>\n",
       "    <tr>\n",
       "      <th>3</th>\n",
       "      <td>2025-04-01</td>\n",
       "      <td>155881885</td>\n",
       "      <td>298558</td>\n",
       "      <td>0.192</td>\n",
       "      <td>517288</td>\n",
       "      <td>597905426</td>\n",
       "      <td>0.087</td>\n",
       "    </tr>\n",
       "    <tr>\n",
       "      <th>4</th>\n",
       "      <td>2025-05-01</td>\n",
       "      <td>167409178</td>\n",
       "      <td>512372</td>\n",
       "      <td>0.306</td>\n",
       "      <td>1029660</td>\n",
       "      <td>765314604</td>\n",
       "      <td>0.135</td>\n",
       "    </tr>\n",
       "    <tr>\n",
       "      <th>5</th>\n",
       "      <td>2025-06-01</td>\n",
       "      <td>162857930</td>\n",
       "      <td>706128</td>\n",
       "      <td>0.434</td>\n",
       "      <td>1735788</td>\n",
       "      <td>928172534</td>\n",
       "      <td>0.187</td>\n",
       "    </tr>\n",
       "    <tr>\n",
       "      <th>0</th>\n",
       "      <td>2025-07-01</td>\n",
       "      <td>172411765</td>\n",
       "      <td>705319</td>\n",
       "      <td>0.409</td>\n",
       "      <td>2441107</td>\n",
       "      <td>1100584299</td>\n",
       "      <td>0.222</td>\n",
       "    </tr>\n",
       "    <tr>\n",
       "      <th>1</th>\n",
       "      <td>2025-08-01</td>\n",
       "      <td>173518719</td>\n",
       "      <td>830056</td>\n",
       "      <td>0.478</td>\n",
       "      <td>3271163</td>\n",
       "      <td>1274103018</td>\n",
       "      <td>0.257</td>\n",
       "    </tr>\n",
       "    <tr>\n",
       "      <th>2</th>\n",
       "      <td>2025-09-01</td>\n",
       "      <td>173639836</td>\n",
       "      <td>954792</td>\n",
       "      <td>0.550</td>\n",
       "      <td>4225955</td>\n",
       "      <td>1447742854</td>\n",
       "      <td>0.292</td>\n",
       "    </tr>\n",
       "    <tr>\n",
       "      <th>3</th>\n",
       "      <td>2025-10-01</td>\n",
       "      <td>172775116</td>\n",
       "      <td>1079529</td>\n",
       "      <td>0.625</td>\n",
       "      <td>5305484</td>\n",
       "      <td>1620517970</td>\n",
       "      <td>0.327</td>\n",
       "    </tr>\n",
       "    <tr>\n",
       "      <th>4</th>\n",
       "      <td>2025-11-01</td>\n",
       "      <td>170924560</td>\n",
       "      <td>1204265</td>\n",
       "      <td>0.705</td>\n",
       "      <td>6509749</td>\n",
       "      <td>1791442530</td>\n",
       "      <td>0.363</td>\n",
       "    </tr>\n",
       "    <tr>\n",
       "      <th>5</th>\n",
       "      <td>2025-12-01</td>\n",
       "      <td>168088167</td>\n",
       "      <td>1329002</td>\n",
       "      <td>0.791</td>\n",
       "      <td>7838751</td>\n",
       "      <td>1959530697</td>\n",
       "      <td>0.400</td>\n",
       "    </tr>\n",
       "  </tbody>\n",
       "</table>\n",
       "</div>"
      ],
      "text/plain": [
       "       month  total_rides  lost_rides  impact_%  total_rides_cumsum  lost_rides_cumsum  cumsum_impact_%\n",
       "0 2025-01-01    143265585       15852     0.011               15852          143265585            0.011\n",
       "1 2025-02-01    142850511       96866     0.068              112718          286116096            0.039\n",
       "2 2025-03-01    155907445      106012     0.068              218730          442023541            0.049\n",
       "3 2025-04-01    155881885      298558     0.192              517288          597905426            0.087\n",
       "4 2025-05-01    167409178      512372     0.306             1029660          765314604            0.135\n",
       "5 2025-06-01    162857930      706128     0.434             1735788          928172534            0.187\n",
       "0 2025-07-01    172411765      705319     0.409             2441107         1100584299            0.222\n",
       "1 2025-08-01    173518719      830056     0.478             3271163         1274103018            0.257\n",
       "2 2025-09-01    173639836      954792     0.550             4225955         1447742854            0.292\n",
       "3 2025-10-01    172775116     1079529     0.625             5305484         1620517970            0.327\n",
       "4 2025-11-01    170924560     1204265     0.705             6509749         1791442530            0.363\n",
       "5 2025-12-01    168088167     1329002     0.791             7838751         1959530697            0.400"
      ]
     },
     "execution_count": 462,
     "metadata": {},
     "output_type": "execute_result"
    }
   ],
   "source": [
    "df_future['monthly_impact_%'] = df_future['monthly_impact_%'].astype(int)\n",
    "\n",
    "df_res_25 = pd.concat(\n",
    "    [\n",
    "        df_total,\n",
    "        res_table[['month',  'lost_rides', 'total_rides']]\n",
    "        ]\n",
    "    ).sort_values('month', ascending=True)\n",
    "\n",
    "\n",
    "df_res_25['impact_%'] = df_res_25['lost_rides'] / df_res_25['total_rides'] *100\n",
    "df_res_25['total_rides_cumsum'] = df_res_25['lost_rides'].cumsum()\n",
    "df_res_25['lost_rides_cumsum'] = df_res_25['total_rides'].cumsum()\n",
    "df_res_25['cumsum_impact_%'] = df_res_25['total_rides_cumsum'] / df_res_25['lost_rides_cumsum'] *100\n",
    "\n",
    "\n",
    "df_res_25\n",
    "\n",
    "# df_res_25['lost_rides'].sum(), df_res_25['total_rides'].sum()*100\n"
   ]
  },
  {
   "cell_type": "code",
   "execution_count": 457,
   "id": "4eb86b93",
   "metadata": {},
   "outputs": [
    {
     "data": {
      "text/plain": [
       "[143265585,\n",
       " 142850511,\n",
       " 155907445,\n",
       " 155881885,\n",
       " 167409178,\n",
       " 162857930,\n",
       " 172411765,\n",
       " 173518719,\n",
       " 173639836,\n",
       " 172775116,\n",
       " 170924560,\n",
       " 168088167]"
      ]
     },
     "execution_count": 457,
     "metadata": {},
     "output_type": "execute_result"
    }
   ],
   "source": [
    "df_res_25['total_rides'].to_list()"
   ]
  },
  {
   "cell_type": "code",
   "execution_count": 422,
   "id": "cc74ab57",
   "metadata": {},
   "outputs": [
    {
     "name": "stdout",
     "output_type": "stream",
     "text": [
      "Linear Regression Results:\n",
      "  Slope (m): 124736.5429\n",
      "  Intercept (c): -43099.5238\n",
      "  R-squared: 0.9225\n",
      "------------------------------\n"
     ]
    },
    {
     "data": {
      "application/vnd.plotly.v1+json": {
       "config": {
        "plotlyServerURL": "https://plot.ly"
       },
       "data": [
        {
         "line": {
          "color": "blue",
          "width": 2
         },
         "marker": {
          "color": "blue",
          "size": 7
         },
         "mode": "lines+markers+text",
         "name": "Original",
         "text": [
          0.02,
          0.07,
          0.07,
          0.18,
          0.28,
          0.4
         ],
         "textfont": {
          "size": 10
         },
         "textposition": "top center",
         "type": "scatter",
         "x": [
          "2025-01-01T00:00:00",
          "2025-02-01T00:00:00",
          "2025-03-01T00:00:00",
          "2025-04-01T00:00:00",
          "2025-05-01T00:00:00",
          "2025-06-01T00:00:00"
         ],
         "y": [
          0.016455452298610306,
          0.07122970669667397,
          0.06526372104937002,
          0.17721173951675012,
          0.27813289902182065,
          0.395137042391943
         ]
        },
        {
         "line": {
          "color": "red",
          "dash": "dot",
          "width": 2
         },
         "marker": {
          "color": "red",
          "size": 7
         },
         "mode": "lines+markers+text",
         "name": "Extrapolated",
         "text": [
          "",
          "705319.73",
          "830056.28",
          "954792.82",
          "1079529.36",
          "1204265.9",
          "1329002.45"
         ],
         "textfont": {
          "size": 10
         },
         "textposition": "top center",
         "type": "scatter",
         "x": [
          "2025-06-01T00:00:00",
          "2025-07-01T00:00:00",
          "2025-08-01T00:00:00",
          "2025-09-01T00:00:00",
          "2025-10-01T00:00:00",
          "2025-11-01T00:00:00",
          "2025-12-01T00:00:00"
         ],
         "y": [
          580583.1904761904,
          705319.7333333333,
          830056.2761904761,
          954792.819047619,
          1079529.3619047618,
          1204265.9047619046,
          1329002.4476190475
         ]
        }
       ],
       "layout": {
        "height": 600,
        "legend": {
         "bgcolor": "rgba(255,255,255,0.7)",
         "bordercolor": "LightSteelBlue",
         "borderwidth": 1,
         "font": {
          "size": 12
         },
         "traceorder": "normal",
         "x": 0.85,
         "xanchor": "right",
         "y": 0.99,
         "yanchor": "top"
        },
        "showlegend": true,
        "template": {
         "data": {
          "bar": [
           {
            "error_x": {
             "color": "#2a3f5f"
            },
            "error_y": {
             "color": "#2a3f5f"
            },
            "marker": {
             "line": {
              "color": "#E5ECF6",
              "width": 0.5
             },
             "pattern": {
              "fillmode": "overlay",
              "size": 10,
              "solidity": 0.2
             }
            },
            "type": "bar"
           }
          ],
          "barpolar": [
           {
            "marker": {
             "line": {
              "color": "#E5ECF6",
              "width": 0.5
             },
             "pattern": {
              "fillmode": "overlay",
              "size": 10,
              "solidity": 0.2
             }
            },
            "type": "barpolar"
           }
          ],
          "carpet": [
           {
            "aaxis": {
             "endlinecolor": "#2a3f5f",
             "gridcolor": "white",
             "linecolor": "white",
             "minorgridcolor": "white",
             "startlinecolor": "#2a3f5f"
            },
            "baxis": {
             "endlinecolor": "#2a3f5f",
             "gridcolor": "white",
             "linecolor": "white",
             "minorgridcolor": "white",
             "startlinecolor": "#2a3f5f"
            },
            "type": "carpet"
           }
          ],
          "choropleth": [
           {
            "colorbar": {
             "outlinewidth": 0,
             "ticks": ""
            },
            "type": "choropleth"
           }
          ],
          "contour": [
           {
            "colorbar": {
             "outlinewidth": 0,
             "ticks": ""
            },
            "colorscale": [
             [
              0,
              "#0d0887"
             ],
             [
              0.1111111111111111,
              "#46039f"
             ],
             [
              0.2222222222222222,
              "#7201a8"
             ],
             [
              0.3333333333333333,
              "#9c179e"
             ],
             [
              0.4444444444444444,
              "#bd3786"
             ],
             [
              0.5555555555555556,
              "#d8576b"
             ],
             [
              0.6666666666666666,
              "#ed7953"
             ],
             [
              0.7777777777777778,
              "#fb9f3a"
             ],
             [
              0.8888888888888888,
              "#fdca26"
             ],
             [
              1,
              "#f0f921"
             ]
            ],
            "type": "contour"
           }
          ],
          "contourcarpet": [
           {
            "colorbar": {
             "outlinewidth": 0,
             "ticks": ""
            },
            "type": "contourcarpet"
           }
          ],
          "heatmap": [
           {
            "colorbar": {
             "outlinewidth": 0,
             "ticks": ""
            },
            "colorscale": [
             [
              0,
              "#0d0887"
             ],
             [
              0.1111111111111111,
              "#46039f"
             ],
             [
              0.2222222222222222,
              "#7201a8"
             ],
             [
              0.3333333333333333,
              "#9c179e"
             ],
             [
              0.4444444444444444,
              "#bd3786"
             ],
             [
              0.5555555555555556,
              "#d8576b"
             ],
             [
              0.6666666666666666,
              "#ed7953"
             ],
             [
              0.7777777777777778,
              "#fb9f3a"
             ],
             [
              0.8888888888888888,
              "#fdca26"
             ],
             [
              1,
              "#f0f921"
             ]
            ],
            "type": "heatmap"
           }
          ],
          "heatmapgl": [
           {
            "colorbar": {
             "outlinewidth": 0,
             "ticks": ""
            },
            "colorscale": [
             [
              0,
              "#0d0887"
             ],
             [
              0.1111111111111111,
              "#46039f"
             ],
             [
              0.2222222222222222,
              "#7201a8"
             ],
             [
              0.3333333333333333,
              "#9c179e"
             ],
             [
              0.4444444444444444,
              "#bd3786"
             ],
             [
              0.5555555555555556,
              "#d8576b"
             ],
             [
              0.6666666666666666,
              "#ed7953"
             ],
             [
              0.7777777777777778,
              "#fb9f3a"
             ],
             [
              0.8888888888888888,
              "#fdca26"
             ],
             [
              1,
              "#f0f921"
             ]
            ],
            "type": "heatmapgl"
           }
          ],
          "histogram": [
           {
            "marker": {
             "pattern": {
              "fillmode": "overlay",
              "size": 10,
              "solidity": 0.2
             }
            },
            "type": "histogram"
           }
          ],
          "histogram2d": [
           {
            "colorbar": {
             "outlinewidth": 0,
             "ticks": ""
            },
            "colorscale": [
             [
              0,
              "#0d0887"
             ],
             [
              0.1111111111111111,
              "#46039f"
             ],
             [
              0.2222222222222222,
              "#7201a8"
             ],
             [
              0.3333333333333333,
              "#9c179e"
             ],
             [
              0.4444444444444444,
              "#bd3786"
             ],
             [
              0.5555555555555556,
              "#d8576b"
             ],
             [
              0.6666666666666666,
              "#ed7953"
             ],
             [
              0.7777777777777778,
              "#fb9f3a"
             ],
             [
              0.8888888888888888,
              "#fdca26"
             ],
             [
              1,
              "#f0f921"
             ]
            ],
            "type": "histogram2d"
           }
          ],
          "histogram2dcontour": [
           {
            "colorbar": {
             "outlinewidth": 0,
             "ticks": ""
            },
            "colorscale": [
             [
              0,
              "#0d0887"
             ],
             [
              0.1111111111111111,
              "#46039f"
             ],
             [
              0.2222222222222222,
              "#7201a8"
             ],
             [
              0.3333333333333333,
              "#9c179e"
             ],
             [
              0.4444444444444444,
              "#bd3786"
             ],
             [
              0.5555555555555556,
              "#d8576b"
             ],
             [
              0.6666666666666666,
              "#ed7953"
             ],
             [
              0.7777777777777778,
              "#fb9f3a"
             ],
             [
              0.8888888888888888,
              "#fdca26"
             ],
             [
              1,
              "#f0f921"
             ]
            ],
            "type": "histogram2dcontour"
           }
          ],
          "mesh3d": [
           {
            "colorbar": {
             "outlinewidth": 0,
             "ticks": ""
            },
            "type": "mesh3d"
           }
          ],
          "parcoords": [
           {
            "line": {
             "colorbar": {
              "outlinewidth": 0,
              "ticks": ""
             }
            },
            "type": "parcoords"
           }
          ],
          "pie": [
           {
            "automargin": true,
            "type": "pie"
           }
          ],
          "scatter": [
           {
            "fillpattern": {
             "fillmode": "overlay",
             "size": 10,
             "solidity": 0.2
            },
            "type": "scatter"
           }
          ],
          "scatter3d": [
           {
            "line": {
             "colorbar": {
              "outlinewidth": 0,
              "ticks": ""
             }
            },
            "marker": {
             "colorbar": {
              "outlinewidth": 0,
              "ticks": ""
             }
            },
            "type": "scatter3d"
           }
          ],
          "scattercarpet": [
           {
            "marker": {
             "colorbar": {
              "outlinewidth": 0,
              "ticks": ""
             }
            },
            "type": "scattercarpet"
           }
          ],
          "scattergeo": [
           {
            "marker": {
             "colorbar": {
              "outlinewidth": 0,
              "ticks": ""
             }
            },
            "type": "scattergeo"
           }
          ],
          "scattergl": [
           {
            "marker": {
             "colorbar": {
              "outlinewidth": 0,
              "ticks": ""
             }
            },
            "type": "scattergl"
           }
          ],
          "scattermapbox": [
           {
            "marker": {
             "colorbar": {
              "outlinewidth": 0,
              "ticks": ""
             }
            },
            "type": "scattermapbox"
           }
          ],
          "scatterpolar": [
           {
            "marker": {
             "colorbar": {
              "outlinewidth": 0,
              "ticks": ""
             }
            },
            "type": "scatterpolar"
           }
          ],
          "scatterpolargl": [
           {
            "marker": {
             "colorbar": {
              "outlinewidth": 0,
              "ticks": ""
             }
            },
            "type": "scatterpolargl"
           }
          ],
          "scatterternary": [
           {
            "marker": {
             "colorbar": {
              "outlinewidth": 0,
              "ticks": ""
             }
            },
            "type": "scatterternary"
           }
          ],
          "surface": [
           {
            "colorbar": {
             "outlinewidth": 0,
             "ticks": ""
            },
            "colorscale": [
             [
              0,
              "#0d0887"
             ],
             [
              0.1111111111111111,
              "#46039f"
             ],
             [
              0.2222222222222222,
              "#7201a8"
             ],
             [
              0.3333333333333333,
              "#9c179e"
             ],
             [
              0.4444444444444444,
              "#bd3786"
             ],
             [
              0.5555555555555556,
              "#d8576b"
             ],
             [
              0.6666666666666666,
              "#ed7953"
             ],
             [
              0.7777777777777778,
              "#fb9f3a"
             ],
             [
              0.8888888888888888,
              "#fdca26"
             ],
             [
              1,
              "#f0f921"
             ]
            ],
            "type": "surface"
           }
          ],
          "table": [
           {
            "cells": {
             "fill": {
              "color": "#EBF0F8"
             },
             "line": {
              "color": "white"
             }
            },
            "header": {
             "fill": {
              "color": "#C8D4E3"
             },
             "line": {
              "color": "white"
             }
            },
            "type": "table"
           }
          ]
         },
         "layout": {
          "annotationdefaults": {
           "arrowcolor": "#2a3f5f",
           "arrowhead": 0,
           "arrowwidth": 1
          },
          "autotypenumbers": "strict",
          "coloraxis": {
           "colorbar": {
            "outlinewidth": 0,
            "ticks": ""
           }
          },
          "colorscale": {
           "diverging": [
            [
             0,
             "#8e0152"
            ],
            [
             0.1,
             "#c51b7d"
            ],
            [
             0.2,
             "#de77ae"
            ],
            [
             0.3,
             "#f1b6da"
            ],
            [
             0.4,
             "#fde0ef"
            ],
            [
             0.5,
             "#f7f7f7"
            ],
            [
             0.6,
             "#e6f5d0"
            ],
            [
             0.7,
             "#b8e186"
            ],
            [
             0.8,
             "#7fbc41"
            ],
            [
             0.9,
             "#4d9221"
            ],
            [
             1,
             "#276419"
            ]
           ],
           "sequential": [
            [
             0,
             "#0d0887"
            ],
            [
             0.1111111111111111,
             "#46039f"
            ],
            [
             0.2222222222222222,
             "#7201a8"
            ],
            [
             0.3333333333333333,
             "#9c179e"
            ],
            [
             0.4444444444444444,
             "#bd3786"
            ],
            [
             0.5555555555555556,
             "#d8576b"
            ],
            [
             0.6666666666666666,
             "#ed7953"
            ],
            [
             0.7777777777777778,
             "#fb9f3a"
            ],
            [
             0.8888888888888888,
             "#fdca26"
            ],
            [
             1,
             "#f0f921"
            ]
           ],
           "sequentialminus": [
            [
             0,
             "#0d0887"
            ],
            [
             0.1111111111111111,
             "#46039f"
            ],
            [
             0.2222222222222222,
             "#7201a8"
            ],
            [
             0.3333333333333333,
             "#9c179e"
            ],
            [
             0.4444444444444444,
             "#bd3786"
            ],
            [
             0.5555555555555556,
             "#d8576b"
            ],
            [
             0.6666666666666666,
             "#ed7953"
            ],
            [
             0.7777777777777778,
             "#fb9f3a"
            ],
            [
             0.8888888888888888,
             "#fdca26"
            ],
            [
             1,
             "#f0f921"
            ]
           ]
          },
          "colorway": [
           "#636efa",
           "#EF553B",
           "#00cc96",
           "#ab63fa",
           "#FFA15A",
           "#19d3f3",
           "#FF6692",
           "#B6E880",
           "#FF97FF",
           "#FECB52"
          ],
          "font": {
           "color": "#2a3f5f"
          },
          "geo": {
           "bgcolor": "white",
           "lakecolor": "white",
           "landcolor": "#E5ECF6",
           "showlakes": true,
           "showland": true,
           "subunitcolor": "white"
          },
          "hoverlabel": {
           "align": "left"
          },
          "hovermode": "closest",
          "mapbox": {
           "style": "light"
          },
          "paper_bgcolor": "white",
          "plot_bgcolor": "#E5ECF6",
          "polar": {
           "angularaxis": {
            "gridcolor": "white",
            "linecolor": "white",
            "ticks": ""
           },
           "bgcolor": "#E5ECF6",
           "radialaxis": {
            "gridcolor": "white",
            "linecolor": "white",
            "ticks": ""
           }
          },
          "scene": {
           "xaxis": {
            "backgroundcolor": "#E5ECF6",
            "gridcolor": "white",
            "gridwidth": 2,
            "linecolor": "white",
            "showbackground": true,
            "ticks": "",
            "zerolinecolor": "white"
           },
           "yaxis": {
            "backgroundcolor": "#E5ECF6",
            "gridcolor": "white",
            "gridwidth": 2,
            "linecolor": "white",
            "showbackground": true,
            "ticks": "",
            "zerolinecolor": "white"
           },
           "zaxis": {
            "backgroundcolor": "#E5ECF6",
            "gridcolor": "white",
            "gridwidth": 2,
            "linecolor": "white",
            "showbackground": true,
            "ticks": "",
            "zerolinecolor": "white"
           }
          },
          "shapedefaults": {
           "line": {
            "color": "#2a3f5f"
           }
          },
          "ternary": {
           "aaxis": {
            "gridcolor": "white",
            "linecolor": "white",
            "ticks": ""
           },
           "baxis": {
            "gridcolor": "white",
            "linecolor": "white",
            "ticks": ""
           },
           "bgcolor": "#E5ECF6",
           "caxis": {
            "gridcolor": "white",
            "linecolor": "white",
            "ticks": ""
           }
          },
          "title": {
           "x": 0.05
          },
          "xaxis": {
           "automargin": true,
           "gridcolor": "white",
           "linecolor": "white",
           "ticks": "",
           "title": {
            "standoff": 15
           },
           "zerolinecolor": "white",
           "zerolinewidth": 2
          },
          "yaxis": {
           "automargin": true,
           "gridcolor": "white",
           "linecolor": "white",
           "ticks": "",
           "title": {
            "standoff": 15
           },
           "zerolinecolor": "white",
           "zerolinewidth": 2
          }
         }
        },
        "title": {
         "text": "Incident rate in 2025, % (Extended with Linear Approximation)"
        },
        "width": 1400,
        "xaxis": {
         "dtick": "M1",
         "tickformat": "%b %Y",
         "ticklabelmode": "period",
         "title": {
          "text": "Month"
         }
        },
        "yaxis": {
         "range": [
          0,
          1461902.6923809524
         ],
         "title": {
          "text": "Monthly Impact (%)"
         }
        }
       }
      }
     },
     "metadata": {},
     "output_type": "display_data"
    },
    {
     "name": "stdout",
     "output_type": "stream",
     "text": [
      "\n",
      "Original Data for Plotting:\n",
      "       month  monthly_impact_%  monthly_impact_%_display\n",
      "0 2025-01-01             0.016                     0.020\n",
      "1 2025-02-01             0.071                     0.070\n",
      "2 2025-03-01             0.065                     0.070\n",
      "3 2025-04-01             0.177                     0.180\n",
      "4 2025-05-01             0.278                     0.280\n",
      "5 2025-06-01             0.395                     0.400\n",
      "\n",
      "Extrapolated Data for Plotting (including June for continuity):\n",
      "       month  monthly_impact_%  monthly_impact_%_display\n",
      "0 2025-06-01       580,583.190               580,583.190\n",
      "1 2025-07-01       705,319.733               705,319.730\n",
      "2 2025-08-01       830,056.276               830,056.280\n",
      "3 2025-09-01       954,792.819               954,792.820\n",
      "4 2025-10-01     1,079,529.362             1,079,529.360\n",
      "5 2025-11-01     1,204,265.905             1,204,265.900\n",
      "6 2025-12-01     1,329,002.448             1,329,002.450\n"
     ]
    }
   ],
   "source": [
    "import pandas as pd\n",
    "import numpy as np\n",
    "import plotly.express as px\n",
    "import plotly.graph_objects as go # Explicitly import go\n",
    "from scipy.stats import linregress\n",
    "\n",
    "df = res_table[['month',  'lost_rides', 'total_rides', 'monthly_impact_%']]\n",
    "\n",
    "# Convert 'month' column to datetime objects\n",
    "df['month'] = pd.to_datetime(df['month'])\n",
    "\n",
    "# --- 2. Prepare data for linear regression ---\n",
    "df['month_numeric'] = (df['month'].dt.year - 2025) * 12 + df['month'].dt.month - 1\n",
    "\n",
    "X_train = df['month_numeric']\n",
    "y_train = df['lost_rides']\n",
    "\n",
    "slope, intercept, r_value, p_value, std_err = linregress(X_train, y_train)\n",
    "\n",
    "print(f\"Linear Regression Results:\")\n",
    "print(f\"  Slope (m): {slope:.4f}\")\n",
    "print(f\"  Intercept (c): {intercept:.4f}\")\n",
    "print(f\"  R-squared: {r_value**2:.4f}\")\n",
    "print(\"-\" * 30)\n",
    "\n",
    "# --- 3. Generate Future Dates including the last known month (June) ---\n",
    "last_known_month_dt = df['month'].max() # This is '2025-06-01'\n",
    "\n",
    "# Generate dates from the last known month up to December\n",
    "future_months = pd.date_range(start=last_known_month_dt, end='2025-12-01', freq='MS')\n",
    "\n",
    "df_future = pd.DataFrame({\n",
    "    'month': future_months\n",
    "})\n",
    "df_future['month_numeric'] = (df_future['month'].dt.year - 2025) * 12 + df_future['month'].dt.month - 1\n",
    "\n",
    "# --- 4. Extrapolate Values ---\n",
    "df_future['monthly_impact_%'] = slope * df_future['month_numeric'] + intercept\n",
    "\n",
    "# Round the values for display consistently\n",
    "df['monthly_impact_%_display'] = df['monthly_impact_%'].round(2)\n",
    "df_future['monthly_impact_%_display'] = df_future['monthly_impact_%'].round(2)\n",
    "\n",
    "\n",
    "\n",
    "# --- 5. Plot the Extended Data ---\n",
    "fig = go.Figure()\n",
    "\n",
    "# Add Original data trace (all original points)\n",
    "fig.add_trace(go.Scatter(\n",
    "    x=df['month'],\n",
    "    y=df['monthly_impact_%'],\n",
    "    mode='lines+markers+text',\n",
    "    name='Original',\n",
    "    line=dict(color='blue', width=2),\n",
    "    marker=dict(color='blue', size=7),\n",
    "    text=df['monthly_impact_%_display'],\n",
    "    textposition='top center',\n",
    "    textfont_size=10\n",
    "))\n",
    "\n",
    "# Add Extrapolated data trace\n",
    "# This trace will start from the last original point (June),\n",
    "# but visually its line will only appear from July onwards,\n",
    "# creating a seamless transition.\n",
    "fig.add_trace(go.Scatter(\n",
    "    x=df_future['month'],\n",
    "    y=df_future['monthly_impact_%'],\n",
    "    # Only show lines and markers for the extrapolated part\n",
    "    # We still include the last original point (June) in this trace's data\n",
    "    # so the line segment can start from it.\n",
    "    mode='lines+markers+text',\n",
    "    name='Extrapolated',\n",
    "    line=dict(color='red', dash='dot', width=2), # Dotted line for extrapolated\n",
    "    marker=dict(color='red', size=7),\n",
    "    # Crucially, we want text labels ONLY for the *new* extrapolated points (July onwards)\n",
    "    # and not for the common June point in the extrapolated series.\n",
    "    # We'll use a mask for the text.\n",
    "    text=[val if date > last_known_month_dt else '' for val, date in zip(df_future['monthly_impact_%_display'], df_future['month'])],\n",
    "    textposition='top center',\n",
    "    textfont_size=10\n",
    "))\n",
    "\n",
    "fig.update_layout(\n",
    "    title='Incident rate in 2025, % (Extended with Linear Approximation)',\n",
    "    xaxis_title='Month',\n",
    "    yaxis_title='Monthly Impact (%)',\n",
    "    showlegend=True, # Ensure legend is visible\n",
    "    width=1400,  # New width\n",
    "    height=600,\n",
    "    legend=dict(\n",
    "        x=0.85, # Adjusted x to move it slightly left\n",
    "        y=0.99, # Adjusted y to move it slightly down\n",
    "        xanchor='right', # Anchor from right for x positioning\n",
    "        yanchor='top', # Anchor from top for y positioning\n",
    "        traceorder=\"normal\",\n",
    "        font=dict(size=12),\n",
    "        bgcolor=\"rgba(255,255,255,0.7)\", # Slightly transparent background\n",
    "        bordercolor=\"LightSteelBlue\",\n",
    "        borderwidth=1\n",
    "    )\n",
    ")\n",
    "\n",
    "# Force Y-axis to start from 0 and ensure it covers the new range\n",
    "max_y_value = max(df['monthly_impact_%'].max(), df_future['monthly_impact_%'].max())\n",
    "fig.update_yaxes(range=[0, max_y_value * 1.1]) # Add some padding to the top\n",
    "\n",
    "# Customize x-axis ticks to show month and year, and ensure continuity\n",
    "fig.update_xaxes(\n",
    "    tickformat=\"%b %Y\", # Format as \"Jan 2025\"\n",
    "    dtick=\"M1\",        # Show a tick for every month\n",
    "    ticklabelmode=\"period\" # Centers tick labels for months\n",
    ")\n",
    "\n",
    "fig.show()\n",
    "\n",
    "print(\"\\nOriginal Data for Plotting:\")\n",
    "print(df[['month', 'monthly_impact_%', 'monthly_impact_%_display']].to_string())\n",
    "print(\"\\nExtrapolated Data for Plotting (including June for continuity):\")\n",
    "print(df_future[['month', 'monthly_impact_%', 'monthly_impact_%_display']].to_string())"
   ]
  },
  {
   "cell_type": "code",
   "execution_count": 191,
   "id": "4a322f03",
   "metadata": {},
   "outputs": [
    {
     "name": "stdout",
     "output_type": "stream",
     "text": [
      "Total result: 0.4862%\n",
      "Share of Liveness: 0.344%\n",
      "Share of CPF: 0.1363%\n",
      "Share of rides by ID Graph: 0.0058%\n"
     ]
    }
   ],
   "source": [
    "liveness_standard = int(794709)\n",
    "cpf = int(315573)\n",
    "total_rides = liveness_standard + cpf\n",
    "\n",
    "df_agg = df.groupby(['ride'], as_index=False)['user_id'].count()\n",
    "df_agg['total'] = df_agg['user_id'].sum()\n",
    "df_agg['share'] = df_agg['user_id'] / df_agg['total']\n",
    "df_agg['cut_users'] = total_rides\n",
    "df_agg['cut_users_share'] = (df_agg['cut_users'] * df_agg['share']).astype(int)\n",
    "df_agg['avg_rides'] = df_agg['cut_users_share'] * df_agg['ride']\n",
    "\n",
    "result = np.round(df_agg['avg_rides'].sum()/920_000_000*100, 4)\n",
    "result_liv = np.round(3165230/920_000_000*100, 4)\n",
    "result_cpf = np.round(1253803/920_000_000*100, 4)\n",
    "result_idg = np.round((36890+5428+11201)/920_000_000*100, 4)\n",
    "\n",
    "\n",
    "print(f'Total result: {np.round(result+result_idg,4)}%')\n",
    "print(f'Share of Liveness: {result_liv}%')\n",
    "print(f'Share of CPF: {result_cpf}%')\n",
    "print(f'Share of rides by ID Graph: {result_idg}%')\n"
   ]
  },
  {
   "cell_type": "code",
   "execution_count": 194,
   "id": "5b2340fa",
   "metadata": {},
   "outputs": [
    {
     "data": {
      "text/html": [
       "<div>\n",
       "<style scoped>\n",
       "    .dataframe tbody tr th:only-of-type {\n",
       "        vertical-align: middle;\n",
       "    }\n",
       "\n",
       "    .dataframe tbody tr th {\n",
       "        vertical-align: top;\n",
       "    }\n",
       "\n",
       "    .dataframe thead th {\n",
       "        text-align: right;\n",
       "    }\n",
       "</style>\n",
       "<table border=\"1\" class=\"dataframe\">\n",
       "  <thead>\n",
       "    <tr style=\"text-align: right;\">\n",
       "      <th></th>\n",
       "      <th>monthly</th>\n",
       "      <th>incidents</th>\n",
       "      <th>conf_incidents</th>\n",
       "      <th>rides</th>\n",
       "      <th>share_of_confirmed</th>\n",
       "      <th>incident_rate</th>\n",
       "      <th>conf_incident_rate</th>\n",
       "    </tr>\n",
       "  </thead>\n",
       "  <tbody>\n",
       "    <tr>\n",
       "      <th>0</th>\n",
       "      <td>2025-05-04</td>\n",
       "      <td>7631</td>\n",
       "      <td>1714</td>\n",
       "      <td>22202051</td>\n",
       "      <td>22.46</td>\n",
       "      <td>34.37</td>\n",
       "      <td>7.72</td>\n",
       "    </tr>\n",
       "    <tr>\n",
       "      <th>1</th>\n",
       "      <td>2025-01-05</td>\n",
       "      <td>7328</td>\n",
       "      <td>1695</td>\n",
       "      <td>17750075</td>\n",
       "      <td>23.13</td>\n",
       "      <td>41.28</td>\n",
       "      <td>9.55</td>\n",
       "    </tr>\n",
       "    <tr>\n",
       "      <th>2</th>\n",
       "      <td>2024-12-29</td>\n",
       "      <td>4198</td>\n",
       "      <td>886</td>\n",
       "      <td>9452521</td>\n",
       "      <td>21.11</td>\n",
       "      <td>44.41</td>\n",
       "      <td>9.37</td>\n",
       "    </tr>\n",
       "    <tr>\n",
       "      <th>3</th>\n",
       "      <td>2025-02-02</td>\n",
       "      <td>6248</td>\n",
       "      <td>1587</td>\n",
       "      <td>20452551</td>\n",
       "      <td>25.40</td>\n",
       "      <td>30.55</td>\n",
       "      <td>7.76</td>\n",
       "    </tr>\n",
       "    <tr>\n",
       "      <th>4</th>\n",
       "      <td>2025-04-27</td>\n",
       "      <td>7558</td>\n",
       "      <td>1712</td>\n",
       "      <td>21768050</td>\n",
       "      <td>22.65</td>\n",
       "      <td>34.72</td>\n",
       "      <td>7.86</td>\n",
       "    </tr>\n",
       "  </tbody>\n",
       "</table>\n",
       "</div>"
      ],
      "text/plain": [
       "      monthly  incidents  conf_incidents     rides  share_of_confirmed  incident_rate  conf_incident_rate\n",
       "0  2025-05-04       7631            1714  22202051               22.46          34.37                7.72\n",
       "1  2025-01-05       7328            1695  17750075               23.13          41.28                9.55\n",
       "2  2024-12-29       4198             886   9452521               21.11          44.41                9.37\n",
       "3  2025-02-02       6248            1587  20452551               25.40          30.55                7.76\n",
       "4  2025-04-27       7558            1712  21768050               22.65          34.72                7.86"
      ]
     },
     "execution_count": 194,
     "metadata": {},
     "output_type": "execute_result"
    }
   ],
   "source": [
    "df_incidents = read_bq(\"\"\"\n",
    "SELECT t1.monthly,\n",
    "       t1.incidents,\n",
    "       t1.conf_incidents,\n",
    "       t2.rides,\n",
    "       (t1.conf_incidents / t1.incidents) * 100 AS share_of_confirmed,\n",
    "       (t1.incidents / t2.rides) * 100000       AS incident_rate,\n",
    "       (t1.conf_incidents / t2.rides) * 100000  AS conf_incident_rate\n",
    "FROM (SELECT DATE_TRUNC(incident_date, WEEK)                               AS monthly,\n",
    "             COUNT(redmine_id)                                             AS incidents,\n",
    "             COUNT(IF(information_status = 'Confirmed', redmine_id, NULL)) AS conf_incidents\n",
    "      FROM indriver-bi.safety.vw_safety_incidents_detail t1\n",
    "               JOIN indriver-e6e40.heap.vw_macroregion_mapping geo\n",
    "                    ON\n",
    "                        t1.city_id = geo.city_id\n",
    "      WHERE incident_date BETWEEN '2025-01-01' AND '2025-06-30'\n",
    "        AND geo.macroregion_name IN ('Latin America', 'Brazil', 'Africa')\n",
    "      GROUP BY 1) t1\n",
    "         LEFT JOIN (SELECT DATE_TRUNC(created_date_order_part, WEEK) AS monthly,\n",
    "                           COUNT(DISTINCT order_uuid)                AS rides\n",
    "                    FROM indriver-e6e40.emart.incity_detail t1\n",
    "                             JOIN indriver-e6e40.heap.vw_macroregion_mapping geo\n",
    "                                  ON\n",
    "                                      t1.city_id = geo.city_id\n",
    "                    WHERE 1 = 1\n",
    "                      AND created_date_order_part BETWEEN '2025-01-01' AND '2025-06-30'\n",
    "                      AND driverdone_timestamp IS NOT NULL\n",
    "                      AND status_order = 'done'\n",
    "                      AND geo.macroregion_name IN ('Latin America', 'Brazil', 'Africa')\n",
    "                    GROUP BY 1) t2 ON t1.monthly = t2.monthly\n",
    "\"\"\")\n",
    "\n",
    "df_incidents.head()"
   ]
  },
  {
   "cell_type": "code",
   "execution_count": 216,
   "id": "d925a893",
   "metadata": {},
   "outputs": [
    {
     "data": {
      "application/vnd.plotly.v1+json": {
       "config": {
        "plotlyServerURL": "https://plot.ly"
       },
       "data": [
        {
         "hovertemplate": "monthly=%{x}<br>incidents=%{text}<extra></extra>",
         "legendgroup": "",
         "line": {
          "color": "#636efa",
          "dash": "solid"
         },
         "marker": {
          "symbol": "circle"
         },
         "mode": "lines+markers+text",
         "name": "",
         "orientation": "v",
         "showlegend": false,
         "text": [
          4198,
          7328,
          6918,
          6398,
          6408,
          6248,
          6118,
          6225,
          6474,
          6536,
          7559,
          7913,
          7404,
          7334,
          7465,
          7202,
          6986,
          7558,
          7631,
          7442,
          7346,
          7383,
          7582,
          7933,
          8430,
          8659,
          2700
         ],
         "textposition": "top center",
         "type": "scatter",
         "x": [
          "2024-12-29",
          "2025-01-05",
          "2025-01-12",
          "2025-01-19",
          "2025-01-26",
          "2025-02-02",
          "2025-02-09",
          "2025-02-16",
          "2025-02-23",
          "2025-03-02",
          "2025-03-09",
          "2025-03-16",
          "2025-03-23",
          "2025-03-30",
          "2025-04-06",
          "2025-04-13",
          "2025-04-20",
          "2025-04-27",
          "2025-05-04",
          "2025-05-11",
          "2025-05-18",
          "2025-05-25",
          "2025-06-01",
          "2025-06-08",
          "2025-06-15",
          "2025-06-22",
          "2025-06-29"
         ],
         "xaxis": "x",
         "y": [
          4198,
          7328,
          6918,
          6398,
          6408,
          6248,
          6118,
          6225,
          6474,
          6536,
          7559,
          7913,
          7404,
          7334,
          7465,
          7202,
          6986,
          7558,
          7631,
          7442,
          7346,
          7383,
          7582,
          7933,
          8430,
          8659,
          2700
         ],
         "yaxis": "y"
        }
       ],
       "layout": {
        "legend": {
         "tracegroupgap": 0
        },
        "template": {
         "data": {
          "bar": [
           {
            "error_x": {
             "color": "#2a3f5f"
            },
            "error_y": {
             "color": "#2a3f5f"
            },
            "marker": {
             "line": {
              "color": "#E5ECF6",
              "width": 0.5
             },
             "pattern": {
              "fillmode": "overlay",
              "size": 10,
              "solidity": 0.2
             }
            },
            "type": "bar"
           }
          ],
          "barpolar": [
           {
            "marker": {
             "line": {
              "color": "#E5ECF6",
              "width": 0.5
             },
             "pattern": {
              "fillmode": "overlay",
              "size": 10,
              "solidity": 0.2
             }
            },
            "type": "barpolar"
           }
          ],
          "carpet": [
           {
            "aaxis": {
             "endlinecolor": "#2a3f5f",
             "gridcolor": "white",
             "linecolor": "white",
             "minorgridcolor": "white",
             "startlinecolor": "#2a3f5f"
            },
            "baxis": {
             "endlinecolor": "#2a3f5f",
             "gridcolor": "white",
             "linecolor": "white",
             "minorgridcolor": "white",
             "startlinecolor": "#2a3f5f"
            },
            "type": "carpet"
           }
          ],
          "choropleth": [
           {
            "colorbar": {
             "outlinewidth": 0,
             "ticks": ""
            },
            "type": "choropleth"
           }
          ],
          "contour": [
           {
            "colorbar": {
             "outlinewidth": 0,
             "ticks": ""
            },
            "colorscale": [
             [
              0,
              "#0d0887"
             ],
             [
              0.1111111111111111,
              "#46039f"
             ],
             [
              0.2222222222222222,
              "#7201a8"
             ],
             [
              0.3333333333333333,
              "#9c179e"
             ],
             [
              0.4444444444444444,
              "#bd3786"
             ],
             [
              0.5555555555555556,
              "#d8576b"
             ],
             [
              0.6666666666666666,
              "#ed7953"
             ],
             [
              0.7777777777777778,
              "#fb9f3a"
             ],
             [
              0.8888888888888888,
              "#fdca26"
             ],
             [
              1,
              "#f0f921"
             ]
            ],
            "type": "contour"
           }
          ],
          "contourcarpet": [
           {
            "colorbar": {
             "outlinewidth": 0,
             "ticks": ""
            },
            "type": "contourcarpet"
           }
          ],
          "heatmap": [
           {
            "colorbar": {
             "outlinewidth": 0,
             "ticks": ""
            },
            "colorscale": [
             [
              0,
              "#0d0887"
             ],
             [
              0.1111111111111111,
              "#46039f"
             ],
             [
              0.2222222222222222,
              "#7201a8"
             ],
             [
              0.3333333333333333,
              "#9c179e"
             ],
             [
              0.4444444444444444,
              "#bd3786"
             ],
             [
              0.5555555555555556,
              "#d8576b"
             ],
             [
              0.6666666666666666,
              "#ed7953"
             ],
             [
              0.7777777777777778,
              "#fb9f3a"
             ],
             [
              0.8888888888888888,
              "#fdca26"
             ],
             [
              1,
              "#f0f921"
             ]
            ],
            "type": "heatmap"
           }
          ],
          "heatmapgl": [
           {
            "colorbar": {
             "outlinewidth": 0,
             "ticks": ""
            },
            "colorscale": [
             [
              0,
              "#0d0887"
             ],
             [
              0.1111111111111111,
              "#46039f"
             ],
             [
              0.2222222222222222,
              "#7201a8"
             ],
             [
              0.3333333333333333,
              "#9c179e"
             ],
             [
              0.4444444444444444,
              "#bd3786"
             ],
             [
              0.5555555555555556,
              "#d8576b"
             ],
             [
              0.6666666666666666,
              "#ed7953"
             ],
             [
              0.7777777777777778,
              "#fb9f3a"
             ],
             [
              0.8888888888888888,
              "#fdca26"
             ],
             [
              1,
              "#f0f921"
             ]
            ],
            "type": "heatmapgl"
           }
          ],
          "histogram": [
           {
            "marker": {
             "pattern": {
              "fillmode": "overlay",
              "size": 10,
              "solidity": 0.2
             }
            },
            "type": "histogram"
           }
          ],
          "histogram2d": [
           {
            "colorbar": {
             "outlinewidth": 0,
             "ticks": ""
            },
            "colorscale": [
             [
              0,
              "#0d0887"
             ],
             [
              0.1111111111111111,
              "#46039f"
             ],
             [
              0.2222222222222222,
              "#7201a8"
             ],
             [
              0.3333333333333333,
              "#9c179e"
             ],
             [
              0.4444444444444444,
              "#bd3786"
             ],
             [
              0.5555555555555556,
              "#d8576b"
             ],
             [
              0.6666666666666666,
              "#ed7953"
             ],
             [
              0.7777777777777778,
              "#fb9f3a"
             ],
             [
              0.8888888888888888,
              "#fdca26"
             ],
             [
              1,
              "#f0f921"
             ]
            ],
            "type": "histogram2d"
           }
          ],
          "histogram2dcontour": [
           {
            "colorbar": {
             "outlinewidth": 0,
             "ticks": ""
            },
            "colorscale": [
             [
              0,
              "#0d0887"
             ],
             [
              0.1111111111111111,
              "#46039f"
             ],
             [
              0.2222222222222222,
              "#7201a8"
             ],
             [
              0.3333333333333333,
              "#9c179e"
             ],
             [
              0.4444444444444444,
              "#bd3786"
             ],
             [
              0.5555555555555556,
              "#d8576b"
             ],
             [
              0.6666666666666666,
              "#ed7953"
             ],
             [
              0.7777777777777778,
              "#fb9f3a"
             ],
             [
              0.8888888888888888,
              "#fdca26"
             ],
             [
              1,
              "#f0f921"
             ]
            ],
            "type": "histogram2dcontour"
           }
          ],
          "mesh3d": [
           {
            "colorbar": {
             "outlinewidth": 0,
             "ticks": ""
            },
            "type": "mesh3d"
           }
          ],
          "parcoords": [
           {
            "line": {
             "colorbar": {
              "outlinewidth": 0,
              "ticks": ""
             }
            },
            "type": "parcoords"
           }
          ],
          "pie": [
           {
            "automargin": true,
            "type": "pie"
           }
          ],
          "scatter": [
           {
            "fillpattern": {
             "fillmode": "overlay",
             "size": 10,
             "solidity": 0.2
            },
            "type": "scatter"
           }
          ],
          "scatter3d": [
           {
            "line": {
             "colorbar": {
              "outlinewidth": 0,
              "ticks": ""
             }
            },
            "marker": {
             "colorbar": {
              "outlinewidth": 0,
              "ticks": ""
             }
            },
            "type": "scatter3d"
           }
          ],
          "scattercarpet": [
           {
            "marker": {
             "colorbar": {
              "outlinewidth": 0,
              "ticks": ""
             }
            },
            "type": "scattercarpet"
           }
          ],
          "scattergeo": [
           {
            "marker": {
             "colorbar": {
              "outlinewidth": 0,
              "ticks": ""
             }
            },
            "type": "scattergeo"
           }
          ],
          "scattergl": [
           {
            "marker": {
             "colorbar": {
              "outlinewidth": 0,
              "ticks": ""
             }
            },
            "type": "scattergl"
           }
          ],
          "scattermapbox": [
           {
            "marker": {
             "colorbar": {
              "outlinewidth": 0,
              "ticks": ""
             }
            },
            "type": "scattermapbox"
           }
          ],
          "scatterpolar": [
           {
            "marker": {
             "colorbar": {
              "outlinewidth": 0,
              "ticks": ""
             }
            },
            "type": "scatterpolar"
           }
          ],
          "scatterpolargl": [
           {
            "marker": {
             "colorbar": {
              "outlinewidth": 0,
              "ticks": ""
             }
            },
            "type": "scatterpolargl"
           }
          ],
          "scatterternary": [
           {
            "marker": {
             "colorbar": {
              "outlinewidth": 0,
              "ticks": ""
             }
            },
            "type": "scatterternary"
           }
          ],
          "surface": [
           {
            "colorbar": {
             "outlinewidth": 0,
             "ticks": ""
            },
            "colorscale": [
             [
              0,
              "#0d0887"
             ],
             [
              0.1111111111111111,
              "#46039f"
             ],
             [
              0.2222222222222222,
              "#7201a8"
             ],
             [
              0.3333333333333333,
              "#9c179e"
             ],
             [
              0.4444444444444444,
              "#bd3786"
             ],
             [
              0.5555555555555556,
              "#d8576b"
             ],
             [
              0.6666666666666666,
              "#ed7953"
             ],
             [
              0.7777777777777778,
              "#fb9f3a"
             ],
             [
              0.8888888888888888,
              "#fdca26"
             ],
             [
              1,
              "#f0f921"
             ]
            ],
            "type": "surface"
           }
          ],
          "table": [
           {
            "cells": {
             "fill": {
              "color": "#EBF0F8"
             },
             "line": {
              "color": "white"
             }
            },
            "header": {
             "fill": {
              "color": "#C8D4E3"
             },
             "line": {
              "color": "white"
             }
            },
            "type": "table"
           }
          ]
         },
         "layout": {
          "annotationdefaults": {
           "arrowcolor": "#2a3f5f",
           "arrowhead": 0,
           "arrowwidth": 1
          },
          "autotypenumbers": "strict",
          "coloraxis": {
           "colorbar": {
            "outlinewidth": 0,
            "ticks": ""
           }
          },
          "colorscale": {
           "diverging": [
            [
             0,
             "#8e0152"
            ],
            [
             0.1,
             "#c51b7d"
            ],
            [
             0.2,
             "#de77ae"
            ],
            [
             0.3,
             "#f1b6da"
            ],
            [
             0.4,
             "#fde0ef"
            ],
            [
             0.5,
             "#f7f7f7"
            ],
            [
             0.6,
             "#e6f5d0"
            ],
            [
             0.7,
             "#b8e186"
            ],
            [
             0.8,
             "#7fbc41"
            ],
            [
             0.9,
             "#4d9221"
            ],
            [
             1,
             "#276419"
            ]
           ],
           "sequential": [
            [
             0,
             "#0d0887"
            ],
            [
             0.1111111111111111,
             "#46039f"
            ],
            [
             0.2222222222222222,
             "#7201a8"
            ],
            [
             0.3333333333333333,
             "#9c179e"
            ],
            [
             0.4444444444444444,
             "#bd3786"
            ],
            [
             0.5555555555555556,
             "#d8576b"
            ],
            [
             0.6666666666666666,
             "#ed7953"
            ],
            [
             0.7777777777777778,
             "#fb9f3a"
            ],
            [
             0.8888888888888888,
             "#fdca26"
            ],
            [
             1,
             "#f0f921"
            ]
           ],
           "sequentialminus": [
            [
             0,
             "#0d0887"
            ],
            [
             0.1111111111111111,
             "#46039f"
            ],
            [
             0.2222222222222222,
             "#7201a8"
            ],
            [
             0.3333333333333333,
             "#9c179e"
            ],
            [
             0.4444444444444444,
             "#bd3786"
            ],
            [
             0.5555555555555556,
             "#d8576b"
            ],
            [
             0.6666666666666666,
             "#ed7953"
            ],
            [
             0.7777777777777778,
             "#fb9f3a"
            ],
            [
             0.8888888888888888,
             "#fdca26"
            ],
            [
             1,
             "#f0f921"
            ]
           ]
          },
          "colorway": [
           "#636efa",
           "#EF553B",
           "#00cc96",
           "#ab63fa",
           "#FFA15A",
           "#19d3f3",
           "#FF6692",
           "#B6E880",
           "#FF97FF",
           "#FECB52"
          ],
          "font": {
           "color": "#2a3f5f"
          },
          "geo": {
           "bgcolor": "white",
           "lakecolor": "white",
           "landcolor": "#E5ECF6",
           "showlakes": true,
           "showland": true,
           "subunitcolor": "white"
          },
          "hoverlabel": {
           "align": "left"
          },
          "hovermode": "closest",
          "mapbox": {
           "style": "light"
          },
          "paper_bgcolor": "white",
          "plot_bgcolor": "#E5ECF6",
          "polar": {
           "angularaxis": {
            "gridcolor": "white",
            "linecolor": "white",
            "ticks": ""
           },
           "bgcolor": "#E5ECF6",
           "radialaxis": {
            "gridcolor": "white",
            "linecolor": "white",
            "ticks": ""
           }
          },
          "scene": {
           "xaxis": {
            "backgroundcolor": "#E5ECF6",
            "gridcolor": "white",
            "gridwidth": 2,
            "linecolor": "white",
            "showbackground": true,
            "ticks": "",
            "zerolinecolor": "white"
           },
           "yaxis": {
            "backgroundcolor": "#E5ECF6",
            "gridcolor": "white",
            "gridwidth": 2,
            "linecolor": "white",
            "showbackground": true,
            "ticks": "",
            "zerolinecolor": "white"
           },
           "zaxis": {
            "backgroundcolor": "#E5ECF6",
            "gridcolor": "white",
            "gridwidth": 2,
            "linecolor": "white",
            "showbackground": true,
            "ticks": "",
            "zerolinecolor": "white"
           }
          },
          "shapedefaults": {
           "line": {
            "color": "#2a3f5f"
           }
          },
          "ternary": {
           "aaxis": {
            "gridcolor": "white",
            "linecolor": "white",
            "ticks": ""
           },
           "baxis": {
            "gridcolor": "white",
            "linecolor": "white",
            "ticks": ""
           },
           "bgcolor": "#E5ECF6",
           "caxis": {
            "gridcolor": "white",
            "linecolor": "white",
            "ticks": ""
           }
          },
          "title": {
           "x": 0.05
          },
          "xaxis": {
           "automargin": true,
           "gridcolor": "white",
           "linecolor": "white",
           "ticks": "",
           "title": {
            "standoff": 15
           },
           "zerolinecolor": "white",
           "zerolinewidth": 2
          },
          "yaxis": {
           "automargin": true,
           "gridcolor": "white",
           "linecolor": "white",
           "ticks": "",
           "title": {
            "standoff": 15
           },
           "zerolinecolor": "white",
           "zerolinewidth": 2
          }
         }
        },
        "title": {
         "text": "Incident rate in 2025, %"
        },
        "xaxis": {
         "anchor": "y",
         "domain": [
          0,
          1
         ],
         "title": {
          "text": "monthly"
         }
        },
        "yaxis": {
         "anchor": "x",
         "domain": [
          0,
          1
         ],
         "rangemode": "tozero",
         "title": {
          "text": "incidents"
         }
        }
       }
      }
     },
     "metadata": {},
     "output_type": "display_data"
    }
   ],
   "source": [
    "fig = px.line(\n",
    "    df_incidents.groupby(['monthly'], as_index=False)[['incident_rate', 'conf_incident_rate', 'conf_incidents', 'incidents', 'share_of_confirmed']].max().round(2), \n",
    "    x=\"monthly\", \n",
    "    y='incidents', \n",
    "    title='Incident rate in 2025, %',\n",
    "    text='incidents'\n",
    "    )\n",
    "\n",
    "fig.update_traces(mode='lines+markers+text', # Add 'text' to mode to show labels\n",
    "                  textposition='top center'  # Position the text above the marker\n",
    "                 )\n",
    "\n",
    "fig.update_yaxes(rangemode=\"tozero\")\n",
    "\n",
    "fig.show()"
   ]
  },
  {
   "cell_type": "code",
   "execution_count": 316,
   "id": "14e42b87",
   "metadata": {},
   "outputs": [
    {
     "data": {
      "text/html": [
       "<div>\n",
       "<style scoped>\n",
       "    .dataframe tbody tr th:only-of-type {\n",
       "        vertical-align: middle;\n",
       "    }\n",
       "\n",
       "    .dataframe tbody tr th {\n",
       "        vertical-align: top;\n",
       "    }\n",
       "\n",
       "    .dataframe thead th {\n",
       "        text-align: right;\n",
       "    }\n",
       "</style>\n",
       "<table border=\"1\" class=\"dataframe\">\n",
       "  <thead>\n",
       "    <tr style=\"text-align: right;\">\n",
       "      <th></th>\n",
       "      <th>monthly</th>\n",
       "      <th>user_id</th>\n",
       "    </tr>\n",
       "  </thead>\n",
       "  <tbody>\n",
       "    <tr>\n",
       "      <th>0</th>\n",
       "      <td>2025-03-01</td>\n",
       "      <td>6490</td>\n",
       "    </tr>\n",
       "    <tr>\n",
       "      <th>1</th>\n",
       "      <td>2025-04-01</td>\n",
       "      <td>4000</td>\n",
       "    </tr>\n",
       "    <tr>\n",
       "      <th>2</th>\n",
       "      <td>2025-05-01</td>\n",
       "      <td>3706</td>\n",
       "    </tr>\n",
       "    <tr>\n",
       "      <th>3</th>\n",
       "      <td>2025-06-01</td>\n",
       "      <td>3466</td>\n",
       "    </tr>\n",
       "  </tbody>\n",
       "</table>\n",
       "</div>"
      ],
      "text/plain": [
       "      monthly  user_id\n",
       "0  2025-03-01     6490\n",
       "1  2025-04-01     4000\n",
       "2  2025-05-01     3706\n",
       "3  2025-06-01     3466"
      ]
     },
     "execution_count": 316,
     "metadata": {},
     "output_type": "execute_result"
    }
   ],
   "source": [
    "df_monthly.groupby(['monthly'], as_index=False)['user_id'].count()"
   ]
  },
  {
   "cell_type": "code",
   "execution_count": 336,
   "id": "ee1cb61c",
   "metadata": {},
   "outputs": [
    {
     "data": {
      "text/plain": [
       "[0.6163328197226502,\n",
       " 0.9265,\n",
       " 0.9352401511063141,\n",
       " 0.9445925526173773,\n",
       " 0.9473982730706961,\n",
       " 0.945153696708041]"
      ]
     },
     "execution_count": 336,
     "metadata": {},
     "output_type": "execute_result"
    }
   ],
   "source": [
    "coeff = [(4000/6490), (3706/4000), (3466/3706), (3466/3706)*1.01, (3466/3706)*1.013, (3466/3706)*1.0106]\n",
    "coeff"
   ]
  },
  {
   "cell_type": "code",
   "execution_count": 458,
   "id": "38b6ca5e",
   "metadata": {},
   "outputs": [
    {
     "ename": "KeyboardInterrupt",
     "evalue": "",
     "output_type": "error",
     "traceback": [
      "\u001b[0;31m---------------------------------------------------------------------------\u001b[0m",
      "\u001b[0;31mKeyboardInterrupt\u001b[0m                         Traceback (most recent call last)",
      "Cell \u001b[0;32mIn[458], line 1\u001b[0m\n\u001b[0;32m----> 1\u001b[0m df_liveness \u001b[38;5;241m=\u001b[39m \u001b[43mread_bq\u001b[49m\u001b[43m(\u001b[49m\u001b[38;5;124;43m\"\"\"\u001b[39;49m\n\u001b[1;32m      2\u001b[0m \u001b[38;5;124;43mSELECT t1.user_id,\u001b[39;49m\n\u001b[1;32m      3\u001b[0m \u001b[38;5;124;43m       t1.event_dt_part,\u001b[39;49m\n\u001b[1;32m      4\u001b[0m \u001b[38;5;124;43m       t1.name,\u001b[39;49m\n\u001b[1;32m      5\u001b[0m \u001b[38;5;124;43m       t1.city_id,\u001b[39;49m\n\u001b[1;32m      6\u001b[0m \u001b[38;5;124;43m       t2.city_name,\u001b[39;49m\n\u001b[1;32m      7\u001b[0m \u001b[38;5;124;43m       CASE\u001b[39;49m\n\u001b[1;32m      8\u001b[0m \u001b[38;5;124;43m           WHEN t1.city_id IN\u001b[39;49m\n\u001b[1;32m      9\u001b[0m \u001b[38;5;124;43m                (23089, 4143, 5495, 4234, 4197, 6587, 4243, 4825, 5483, 4404, 4225, 4272, 4155, 4227, 23130, 5291,\u001b[39;49m\n\u001b[1;32m     10\u001b[0m \u001b[38;5;124;43m                 4198, 22354, 22737, 4396, 4230, 4255, 8365, 5548) THEN \u001b[39;49m\u001b[38;5;124;43m'\u001b[39;49m\u001b[38;5;124;43mSP 2025\u001b[39;49m\u001b[38;5;124;43m'\u001b[39;49m\n\u001b[1;32m     11\u001b[0m \u001b[38;5;124;43m           ELSE \u001b[39;49m\u001b[38;5;124;43m'\u001b[39;49m\u001b[38;5;124;43mall time SP\u001b[39;49m\u001b[38;5;124;43m'\u001b[39;49m\n\u001b[1;32m     12\u001b[0m \u001b[38;5;124;43m           END segment,\u001b[39;49m\n\u001b[1;32m     13\u001b[0m \u001b[38;5;124;43m       t2.country_name\u001b[39;49m\n\u001b[1;32m     14\u001b[0m \u001b[38;5;124;43mFROM indriver-e6e40.emart.product_event t1\u001b[39;49m\n\u001b[1;32m     15\u001b[0m \u001b[38;5;124;43m         JOIN indriver-e6e40.heap.vw_macroregion_mapping t2\u001b[39;49m\n\u001b[1;32m     16\u001b[0m \u001b[38;5;124;43m              ON\u001b[39;49m\n\u001b[1;32m     17\u001b[0m \u001b[38;5;124;43m                  t1.city_id = t2.city_id\u001b[39;49m\n\u001b[1;32m     18\u001b[0m \u001b[38;5;124;43mWHERE 1 = 1\u001b[39;49m\n\u001b[1;32m     19\u001b[0m \u001b[38;5;124;43m  AND name IN (\u001b[39;49m\n\u001b[1;32m     20\u001b[0m \u001b[38;5;124;43m    \u001b[39;49m\u001b[38;5;124;43m'\u001b[39;49m\u001b[38;5;124;43mclient.verification_start.click\u001b[39;49m\u001b[38;5;124;43m'\u001b[39;49m\n\u001b[1;32m     21\u001b[0m \u001b[38;5;124;43m    )\u001b[39;49m\n\u001b[1;32m     22\u001b[0m \u001b[38;5;124;43m  AND t1.event_dt_part BETWEEN \u001b[39;49m\u001b[38;5;124;43m'\u001b[39;49m\u001b[38;5;124;43m2024-09-01\u001b[39;49m\u001b[38;5;124;43m'\u001b[39;49m\u001b[38;5;124;43m AND CURRENT_DATE()\u001b[39;49m\n\u001b[1;32m     23\u001b[0m \u001b[38;5;124;43m  AND t2.macroregion_name IN (\u001b[39;49m\u001b[38;5;124;43m'\u001b[39;49m\u001b[38;5;124;43mLatin America\u001b[39;49m\u001b[38;5;124;43m'\u001b[39;49m\u001b[38;5;124;43m, \u001b[39;49m\u001b[38;5;124;43m'\u001b[39;49m\u001b[38;5;124;43mBrazil\u001b[39;49m\u001b[38;5;124;43m'\u001b[39;49m\u001b[38;5;124;43m, \u001b[39;49m\u001b[38;5;124;43m'\u001b[39;49m\u001b[38;5;124;43mAfrica\u001b[39;49m\u001b[38;5;124;43m'\u001b[39;49m\u001b[38;5;124;43m)\u001b[39;49m\n\u001b[1;32m     24\u001b[0m \u001b[38;5;124;43mQUALIFY ROW_NUMBER() OVER (PARTITION BY user_id ORDER BY client_time) =\u001b[39;49m\n\u001b[1;32m     25\u001b[0m \u001b[38;5;124;43m        1\u001b[39;49m\n\u001b[1;32m     26\u001b[0m \u001b[38;5;124;43m\"\"\"\u001b[39;49m\u001b[43m)\u001b[49m\n\u001b[1;32m     28\u001b[0m df_liveness\u001b[38;5;241m.\u001b[39mhead()\n",
      "Cell \u001b[0;32mIn[261], line 60\u001b[0m, in \u001b[0;36mread_bq\u001b[0;34m(query, project)\u001b[0m\n\u001b[1;32m     58\u001b[0m client \u001b[38;5;241m=\u001b[39m bigquery\u001b[38;5;241m.\u001b[39mClient(project\u001b[38;5;241m=\u001b[39mproject)\n\u001b[1;32m     59\u001b[0m query_job \u001b[38;5;241m=\u001b[39m client\u001b[38;5;241m.\u001b[39mquery(query)\n\u001b[0;32m---> 60\u001b[0m result_df \u001b[38;5;241m=\u001b[39m \u001b[43mquery_job\u001b[49m\u001b[38;5;241;43m.\u001b[39;49m\u001b[43mto_dataframe\u001b[49m\u001b[43m(\u001b[49m\u001b[43m)\u001b[49m\n\u001b[1;32m     61\u001b[0m \u001b[38;5;28;01mreturn\u001b[39;00m result_df\n",
      "File \u001b[0;32m~/Library/Python/3.9/lib/python/site-packages/google/cloud/bigquery/job/query.py:2058\u001b[0m, in \u001b[0;36mQueryJob.to_dataframe\u001b[0;34m(self, bqstorage_client, dtypes, progress_bar_type, create_bqstorage_client, max_results, geography_as_object, bool_dtype, int_dtype, float_dtype, string_dtype, date_dtype, datetime_dtype, time_dtype, timestamp_dtype, range_date_dtype, range_datetime_dtype, range_timestamp_dtype)\u001b[0m\n\u001b[1;32m   1851\u001b[0m \u001b[38;5;250m\u001b[39m\u001b[38;5;124;03m\"\"\"Return a pandas DataFrame from a QueryJob\u001b[39;00m\n\u001b[1;32m   1852\u001b[0m \n\u001b[1;32m   1853\u001b[0m \u001b[38;5;124;03mArgs:\u001b[39;00m\n\u001b[0;32m   (...)\u001b[0m\n\u001b[1;32m   2055\u001b[0m \u001b[38;5;124;03m        :mod:`shapely` library cannot be imported.\u001b[39;00m\n\u001b[1;32m   2056\u001b[0m \u001b[38;5;124;03m\"\"\"\u001b[39;00m\n\u001b[1;32m   2057\u001b[0m query_result \u001b[38;5;241m=\u001b[39m wait_for_query(\u001b[38;5;28mself\u001b[39m, progress_bar_type, max_results\u001b[38;5;241m=\u001b[39mmax_results)\n\u001b[0;32m-> 2058\u001b[0m \u001b[38;5;28;01mreturn\u001b[39;00m \u001b[43mquery_result\u001b[49m\u001b[38;5;241;43m.\u001b[39;49m\u001b[43mto_dataframe\u001b[49m\u001b[43m(\u001b[49m\n\u001b[1;32m   2059\u001b[0m \u001b[43m    \u001b[49m\u001b[43mbqstorage_client\u001b[49m\u001b[38;5;241;43m=\u001b[39;49m\u001b[43mbqstorage_client\u001b[49m\u001b[43m,\u001b[49m\n\u001b[1;32m   2060\u001b[0m \u001b[43m    \u001b[49m\u001b[43mdtypes\u001b[49m\u001b[38;5;241;43m=\u001b[39;49m\u001b[43mdtypes\u001b[49m\u001b[43m,\u001b[49m\n\u001b[1;32m   2061\u001b[0m \u001b[43m    \u001b[49m\u001b[43mprogress_bar_type\u001b[49m\u001b[38;5;241;43m=\u001b[39;49m\u001b[43mprogress_bar_type\u001b[49m\u001b[43m,\u001b[49m\n\u001b[1;32m   2062\u001b[0m \u001b[43m    \u001b[49m\u001b[43mcreate_bqstorage_client\u001b[49m\u001b[38;5;241;43m=\u001b[39;49m\u001b[43mcreate_bqstorage_client\u001b[49m\u001b[43m,\u001b[49m\n\u001b[1;32m   2063\u001b[0m \u001b[43m    \u001b[49m\u001b[43mgeography_as_object\u001b[49m\u001b[38;5;241;43m=\u001b[39;49m\u001b[43mgeography_as_object\u001b[49m\u001b[43m,\u001b[49m\n\u001b[1;32m   2064\u001b[0m \u001b[43m    \u001b[49m\u001b[43mbool_dtype\u001b[49m\u001b[38;5;241;43m=\u001b[39;49m\u001b[43mbool_dtype\u001b[49m\u001b[43m,\u001b[49m\n\u001b[1;32m   2065\u001b[0m \u001b[43m    \u001b[49m\u001b[43mint_dtype\u001b[49m\u001b[38;5;241;43m=\u001b[39;49m\u001b[43mint_dtype\u001b[49m\u001b[43m,\u001b[49m\n\u001b[1;32m   2066\u001b[0m \u001b[43m    \u001b[49m\u001b[43mfloat_dtype\u001b[49m\u001b[38;5;241;43m=\u001b[39;49m\u001b[43mfloat_dtype\u001b[49m\u001b[43m,\u001b[49m\n\u001b[1;32m   2067\u001b[0m \u001b[43m    \u001b[49m\u001b[43mstring_dtype\u001b[49m\u001b[38;5;241;43m=\u001b[39;49m\u001b[43mstring_dtype\u001b[49m\u001b[43m,\u001b[49m\n\u001b[1;32m   2068\u001b[0m \u001b[43m    \u001b[49m\u001b[43mdate_dtype\u001b[49m\u001b[38;5;241;43m=\u001b[39;49m\u001b[43mdate_dtype\u001b[49m\u001b[43m,\u001b[49m\n\u001b[1;32m   2069\u001b[0m \u001b[43m    \u001b[49m\u001b[43mdatetime_dtype\u001b[49m\u001b[38;5;241;43m=\u001b[39;49m\u001b[43mdatetime_dtype\u001b[49m\u001b[43m,\u001b[49m\n\u001b[1;32m   2070\u001b[0m \u001b[43m    \u001b[49m\u001b[43mtime_dtype\u001b[49m\u001b[38;5;241;43m=\u001b[39;49m\u001b[43mtime_dtype\u001b[49m\u001b[43m,\u001b[49m\n\u001b[1;32m   2071\u001b[0m \u001b[43m    \u001b[49m\u001b[43mtimestamp_dtype\u001b[49m\u001b[38;5;241;43m=\u001b[39;49m\u001b[43mtimestamp_dtype\u001b[49m\u001b[43m,\u001b[49m\n\u001b[1;32m   2072\u001b[0m \u001b[43m    \u001b[49m\u001b[43mrange_date_dtype\u001b[49m\u001b[38;5;241;43m=\u001b[39;49m\u001b[43mrange_date_dtype\u001b[49m\u001b[43m,\u001b[49m\n\u001b[1;32m   2073\u001b[0m \u001b[43m    \u001b[49m\u001b[43mrange_datetime_dtype\u001b[49m\u001b[38;5;241;43m=\u001b[39;49m\u001b[43mrange_datetime_dtype\u001b[49m\u001b[43m,\u001b[49m\n\u001b[1;32m   2074\u001b[0m \u001b[43m    \u001b[49m\u001b[43mrange_timestamp_dtype\u001b[49m\u001b[38;5;241;43m=\u001b[39;49m\u001b[43mrange_timestamp_dtype\u001b[49m\u001b[43m,\u001b[49m\n\u001b[1;32m   2075\u001b[0m \u001b[43m\u001b[49m\u001b[43m)\u001b[49m\n",
      "File \u001b[0;32m~/Library/Python/3.9/lib/python/site-packages/google/cloud/bigquery/table.py:2379\u001b[0m, in \u001b[0;36mRowIterator.to_dataframe\u001b[0;34m(self, bqstorage_client, dtypes, progress_bar_type, create_bqstorage_client, geography_as_object, bool_dtype, int_dtype, float_dtype, string_dtype, date_dtype, datetime_dtype, time_dtype, timestamp_dtype, range_date_dtype, range_datetime_dtype, range_timestamp_dtype)\u001b[0m\n\u001b[1;32m   2376\u001b[0m     create_bqstorage_client \u001b[38;5;241m=\u001b[39m \u001b[38;5;28;01mFalse\u001b[39;00m\n\u001b[1;32m   2377\u001b[0m     bqstorage_client \u001b[38;5;241m=\u001b[39m \u001b[38;5;28;01mNone\u001b[39;00m\n\u001b[0;32m-> 2379\u001b[0m record_batch \u001b[38;5;241m=\u001b[39m \u001b[38;5;28;43mself\u001b[39;49m\u001b[38;5;241;43m.\u001b[39;49m\u001b[43mto_arrow\u001b[49m\u001b[43m(\u001b[49m\n\u001b[1;32m   2380\u001b[0m \u001b[43m    \u001b[49m\u001b[43mprogress_bar_type\u001b[49m\u001b[38;5;241;43m=\u001b[39;49m\u001b[43mprogress_bar_type\u001b[49m\u001b[43m,\u001b[49m\n\u001b[1;32m   2381\u001b[0m \u001b[43m    \u001b[49m\u001b[43mbqstorage_client\u001b[49m\u001b[38;5;241;43m=\u001b[39;49m\u001b[43mbqstorage_client\u001b[49m\u001b[43m,\u001b[49m\n\u001b[1;32m   2382\u001b[0m \u001b[43m    \u001b[49m\u001b[43mcreate_bqstorage_client\u001b[49m\u001b[38;5;241;43m=\u001b[39;49m\u001b[43mcreate_bqstorage_client\u001b[49m\u001b[43m,\u001b[49m\n\u001b[1;32m   2383\u001b[0m \u001b[43m\u001b[49m\u001b[43m)\u001b[49m\n\u001b[1;32m   2385\u001b[0m \u001b[38;5;66;03m# Default date dtype is `db_dtypes.DateDtype()` that could cause out of bounds error,\u001b[39;00m\n\u001b[1;32m   2386\u001b[0m \u001b[38;5;66;03m# when pyarrow converts date values to nanosecond precision. To avoid the error, we\u001b[39;00m\n\u001b[1;32m   2387\u001b[0m \u001b[38;5;66;03m# set the date_as_object parameter to True, if necessary.\u001b[39;00m\n\u001b[1;32m   2388\u001b[0m date_as_object \u001b[38;5;241m=\u001b[39m \u001b[38;5;28;01mFalse\u001b[39;00m\n",
      "File \u001b[0;32m~/Library/Python/3.9/lib/python/site-packages/google/cloud/bigquery/table.py:1946\u001b[0m, in \u001b[0;36mRowIterator.to_arrow\u001b[0;34m(self, progress_bar_type, bqstorage_client, create_bqstorage_client)\u001b[0m\n\u001b[1;32m   1941\u001b[0m progress_bar \u001b[38;5;241m=\u001b[39m get_progress_bar(\n\u001b[1;32m   1942\u001b[0m     progress_bar_type, \u001b[38;5;124m\"\u001b[39m\u001b[38;5;124mDownloading\u001b[39m\u001b[38;5;124m\"\u001b[39m, \u001b[38;5;28mself\u001b[39m\u001b[38;5;241m.\u001b[39mtotal_rows, \u001b[38;5;124m\"\u001b[39m\u001b[38;5;124mrows\u001b[39m\u001b[38;5;124m\"\u001b[39m\n\u001b[1;32m   1943\u001b[0m )\n\u001b[1;32m   1945\u001b[0m record_batches \u001b[38;5;241m=\u001b[39m []\n\u001b[0;32m-> 1946\u001b[0m \u001b[38;5;28;01mfor\u001b[39;00m record_batch \u001b[38;5;129;01min\u001b[39;00m \u001b[38;5;28mself\u001b[39m\u001b[38;5;241m.\u001b[39mto_arrow_iterable(\n\u001b[1;32m   1947\u001b[0m     bqstorage_client\u001b[38;5;241m=\u001b[39mbqstorage_client\n\u001b[1;32m   1948\u001b[0m ):\n\u001b[1;32m   1949\u001b[0m     record_batches\u001b[38;5;241m.\u001b[39mappend(record_batch)\n\u001b[1;32m   1951\u001b[0m     \u001b[38;5;28;01mif\u001b[39;00m progress_bar \u001b[38;5;129;01mis\u001b[39;00m \u001b[38;5;129;01mnot\u001b[39;00m \u001b[38;5;28;01mNone\u001b[39;00m:\n\u001b[1;32m   1952\u001b[0m         \u001b[38;5;66;03m# In some cases, the number of total rows is not populated\u001b[39;00m\n\u001b[1;32m   1953\u001b[0m         \u001b[38;5;66;03m# until the first page of rows is fetched. Update the\u001b[39;00m\n\u001b[1;32m   1954\u001b[0m         \u001b[38;5;66;03m# progress bar's total to keep an accurate count.\u001b[39;00m\n",
      "File \u001b[0;32m~/Library/Python/3.9/lib/python/site-packages/google/cloud/bigquery/table.py:1809\u001b[0m, in \u001b[0;36mRowIterator._to_page_iterable\u001b[0;34m(self, bqstorage_download, tabledata_list_download, bqstorage_client)\u001b[0m\n\u001b[1;32m   1802\u001b[0m     bqstorage_client \u001b[38;5;241m=\u001b[39m \u001b[38;5;28;01mNone\u001b[39;00m\n\u001b[1;32m   1804\u001b[0m result_pages \u001b[38;5;241m=\u001b[39m (\n\u001b[1;32m   1805\u001b[0m     bqstorage_download()\n\u001b[1;32m   1806\u001b[0m     \u001b[38;5;28;01mif\u001b[39;00m bqstorage_client \u001b[38;5;129;01mis\u001b[39;00m \u001b[38;5;129;01mnot\u001b[39;00m \u001b[38;5;28;01mNone\u001b[39;00m\n\u001b[1;32m   1807\u001b[0m     \u001b[38;5;28;01melse\u001b[39;00m tabledata_list_download()\n\u001b[1;32m   1808\u001b[0m )\n\u001b[0;32m-> 1809\u001b[0m \u001b[38;5;28;01myield from\u001b[39;00m result_pages\n",
      "File \u001b[0;32m~/Library/Python/3.9/lib/python/site-packages/google/cloud/bigquery/_pandas_helpers.py:732\u001b[0m, in \u001b[0;36mdownload_arrow_row_iterator\u001b[0;34m(pages, bq_schema)\u001b[0m\n\u001b[1;32m    729\u001b[0m column_names \u001b[38;5;241m=\u001b[39m bq_to_arrow_schema(bq_schema) \u001b[38;5;129;01mor\u001b[39;00m [field\u001b[38;5;241m.\u001b[39mname \u001b[38;5;28;01mfor\u001b[39;00m field \u001b[38;5;129;01min\u001b[39;00m bq_schema]\n\u001b[1;32m    730\u001b[0m arrow_types \u001b[38;5;241m=\u001b[39m [bq_to_arrow_data_type(field) \u001b[38;5;28;01mfor\u001b[39;00m field \u001b[38;5;129;01min\u001b[39;00m bq_schema]\n\u001b[0;32m--> 732\u001b[0m \u001b[38;5;28;01mfor\u001b[39;00m page \u001b[38;5;129;01min\u001b[39;00m pages:\n\u001b[1;32m    733\u001b[0m     \u001b[38;5;28;01myield\u001b[39;00m _row_iterator_page_to_arrow(page, column_names, arrow_types)\n",
      "File \u001b[0;32m~/Library/Python/3.9/lib/python/site-packages/google/api_core/page_iterator.py:250\u001b[0m, in \u001b[0;36mIterator._page_iter\u001b[0;34m(self, increment)\u001b[0m\n\u001b[1;32m    248\u001b[0m     \u001b[38;5;28mself\u001b[39m\u001b[38;5;241m.\u001b[39mnum_results \u001b[38;5;241m+\u001b[39m\u001b[38;5;241m=\u001b[39m page\u001b[38;5;241m.\u001b[39mnum_items\n\u001b[1;32m    249\u001b[0m \u001b[38;5;28;01myield\u001b[39;00m page\n\u001b[0;32m--> 250\u001b[0m page \u001b[38;5;241m=\u001b[39m \u001b[38;5;28;43mself\u001b[39;49m\u001b[38;5;241;43m.\u001b[39;49m\u001b[43m_next_page\u001b[49m\u001b[43m(\u001b[49m\u001b[43m)\u001b[49m\n",
      "File \u001b[0;32m~/Library/Python/3.9/lib/python/site-packages/google/api_core/page_iterator.py:373\u001b[0m, in \u001b[0;36mHTTPIterator._next_page\u001b[0;34m(self)\u001b[0m\n\u001b[1;32m    366\u001b[0m \u001b[38;5;250m\u001b[39m\u001b[38;5;124;03m\"\"\"Get the next page in the iterator.\u001b[39;00m\n\u001b[1;32m    367\u001b[0m \n\u001b[1;32m    368\u001b[0m \u001b[38;5;124;03mReturns:\u001b[39;00m\n\u001b[1;32m    369\u001b[0m \u001b[38;5;124;03m    Optional[Page]: The next page in the iterator or :data:`None` if\u001b[39;00m\n\u001b[1;32m    370\u001b[0m \u001b[38;5;124;03m        there are no pages left.\u001b[39;00m\n\u001b[1;32m    371\u001b[0m \u001b[38;5;124;03m\"\"\"\u001b[39;00m\n\u001b[1;32m    372\u001b[0m \u001b[38;5;28;01mif\u001b[39;00m \u001b[38;5;28mself\u001b[39m\u001b[38;5;241m.\u001b[39m_has_next_page():\n\u001b[0;32m--> 373\u001b[0m     response \u001b[38;5;241m=\u001b[39m \u001b[38;5;28;43mself\u001b[39;49m\u001b[38;5;241;43m.\u001b[39;49m\u001b[43m_get_next_page_response\u001b[49m\u001b[43m(\u001b[49m\u001b[43m)\u001b[49m\n\u001b[1;32m    374\u001b[0m     items \u001b[38;5;241m=\u001b[39m response\u001b[38;5;241m.\u001b[39mget(\u001b[38;5;28mself\u001b[39m\u001b[38;5;241m.\u001b[39m_items_key, ())\n\u001b[1;32m    375\u001b[0m     page \u001b[38;5;241m=\u001b[39m Page(\u001b[38;5;28mself\u001b[39m, items, \u001b[38;5;28mself\u001b[39m\u001b[38;5;241m.\u001b[39mitem_to_value, raw_page\u001b[38;5;241m=\u001b[39mresponse)\n",
      "File \u001b[0;32m~/Library/Python/3.9/lib/python/site-packages/google/cloud/bigquery/table.py:1763\u001b[0m, in \u001b[0;36mRowIterator._get_next_page_response\u001b[0;34m(self)\u001b[0m\n\u001b[1;32m   1760\u001b[0m     \u001b[38;5;28;01mif\u001b[39;00m \u001b[38;5;28mself\u001b[39m\u001b[38;5;241m.\u001b[39mpage_number \u001b[38;5;129;01mand\u001b[39;00m \u001b[38;5;124m\"\u001b[39m\u001b[38;5;124mstartIndex\u001b[39m\u001b[38;5;124m\"\u001b[39m \u001b[38;5;129;01min\u001b[39;00m params:\n\u001b[1;32m   1761\u001b[0m         \u001b[38;5;28;01mdel\u001b[39;00m params[\u001b[38;5;124m\"\u001b[39m\u001b[38;5;124mstartIndex\u001b[39m\u001b[38;5;124m\"\u001b[39m]\n\u001b[0;32m-> 1763\u001b[0m \u001b[38;5;28;01mreturn\u001b[39;00m \u001b[38;5;28;43mself\u001b[39;49m\u001b[38;5;241;43m.\u001b[39;49m\u001b[43mapi_request\u001b[49m\u001b[43m(\u001b[49m\n\u001b[1;32m   1764\u001b[0m \u001b[43m    \u001b[49m\u001b[43mmethod\u001b[49m\u001b[38;5;241;43m=\u001b[39;49m\u001b[38;5;28;43mself\u001b[39;49m\u001b[38;5;241;43m.\u001b[39;49m\u001b[43m_HTTP_METHOD\u001b[49m\u001b[43m,\u001b[49m\u001b[43m \u001b[49m\u001b[43mpath\u001b[49m\u001b[38;5;241;43m=\u001b[39;49m\u001b[38;5;28;43mself\u001b[39;49m\u001b[38;5;241;43m.\u001b[39;49m\u001b[43mpath\u001b[49m\u001b[43m,\u001b[49m\u001b[43m \u001b[49m\u001b[43mquery_params\u001b[49m\u001b[38;5;241;43m=\u001b[39;49m\u001b[43mparams\u001b[49m\n\u001b[1;32m   1765\u001b[0m \u001b[43m\u001b[49m\u001b[43m)\u001b[49m\n",
      "File \u001b[0;32m~/Library/Python/3.9/lib/python/site-packages/google/cloud/bigquery/client.py:835\u001b[0m, in \u001b[0;36mClient._call_api\u001b[0;34m(self, retry, span_name, span_attributes, job_ref, headers, **kwargs)\u001b[0m\n\u001b[1;32m    830\u001b[0m     \u001b[38;5;28;01mwith\u001b[39;00m create_span(\n\u001b[1;32m    831\u001b[0m         name\u001b[38;5;241m=\u001b[39mspan_name, attributes\u001b[38;5;241m=\u001b[39mspan_attributes, client\u001b[38;5;241m=\u001b[39m\u001b[38;5;28mself\u001b[39m, job_ref\u001b[38;5;241m=\u001b[39mjob_ref\n\u001b[1;32m    832\u001b[0m     ):\n\u001b[1;32m    833\u001b[0m         \u001b[38;5;28;01mreturn\u001b[39;00m call()\n\u001b[0;32m--> 835\u001b[0m \u001b[38;5;28;01mreturn\u001b[39;00m \u001b[43mcall\u001b[49m\u001b[43m(\u001b[49m\u001b[43m)\u001b[49m\n",
      "File \u001b[0;32m~/Library/Python/3.9/lib/python/site-packages/google/api_core/retry/retry_unary.py:293\u001b[0m, in \u001b[0;36mRetry.__call__.<locals>.retry_wrapped_func\u001b[0;34m(*args, **kwargs)\u001b[0m\n\u001b[1;32m    289\u001b[0m target \u001b[38;5;241m=\u001b[39m functools\u001b[38;5;241m.\u001b[39mpartial(func, \u001b[38;5;241m*\u001b[39margs, \u001b[38;5;241m*\u001b[39m\u001b[38;5;241m*\u001b[39mkwargs)\n\u001b[1;32m    290\u001b[0m sleep_generator \u001b[38;5;241m=\u001b[39m exponential_sleep_generator(\n\u001b[1;32m    291\u001b[0m     \u001b[38;5;28mself\u001b[39m\u001b[38;5;241m.\u001b[39m_initial, \u001b[38;5;28mself\u001b[39m\u001b[38;5;241m.\u001b[39m_maximum, multiplier\u001b[38;5;241m=\u001b[39m\u001b[38;5;28mself\u001b[39m\u001b[38;5;241m.\u001b[39m_multiplier\n\u001b[1;32m    292\u001b[0m )\n\u001b[0;32m--> 293\u001b[0m \u001b[38;5;28;01mreturn\u001b[39;00m \u001b[43mretry_target\u001b[49m\u001b[43m(\u001b[49m\n\u001b[1;32m    294\u001b[0m \u001b[43m    \u001b[49m\u001b[43mtarget\u001b[49m\u001b[43m,\u001b[49m\n\u001b[1;32m    295\u001b[0m \u001b[43m    \u001b[49m\u001b[38;5;28;43mself\u001b[39;49m\u001b[38;5;241;43m.\u001b[39;49m\u001b[43m_predicate\u001b[49m\u001b[43m,\u001b[49m\n\u001b[1;32m    296\u001b[0m \u001b[43m    \u001b[49m\u001b[43msleep_generator\u001b[49m\u001b[43m,\u001b[49m\n\u001b[1;32m    297\u001b[0m \u001b[43m    \u001b[49m\u001b[43mtimeout\u001b[49m\u001b[38;5;241;43m=\u001b[39;49m\u001b[38;5;28;43mself\u001b[39;49m\u001b[38;5;241;43m.\u001b[39;49m\u001b[43m_timeout\u001b[49m\u001b[43m,\u001b[49m\n\u001b[1;32m    298\u001b[0m \u001b[43m    \u001b[49m\u001b[43mon_error\u001b[49m\u001b[38;5;241;43m=\u001b[39;49m\u001b[43mon_error\u001b[49m\u001b[43m,\u001b[49m\n\u001b[1;32m    299\u001b[0m \u001b[43m\u001b[49m\u001b[43m)\u001b[49m\n",
      "File \u001b[0;32m~/Library/Python/3.9/lib/python/site-packages/google/api_core/retry/retry_unary.py:144\u001b[0m, in \u001b[0;36mretry_target\u001b[0;34m(target, predicate, sleep_generator, timeout, on_error, exception_factory, **kwargs)\u001b[0m\n\u001b[1;32m    142\u001b[0m \u001b[38;5;28;01mfor\u001b[39;00m sleep \u001b[38;5;129;01min\u001b[39;00m sleep_generator:\n\u001b[1;32m    143\u001b[0m     \u001b[38;5;28;01mtry\u001b[39;00m:\n\u001b[0;32m--> 144\u001b[0m         result \u001b[38;5;241m=\u001b[39m \u001b[43mtarget\u001b[49m\u001b[43m(\u001b[49m\u001b[43m)\u001b[49m\n\u001b[1;32m    145\u001b[0m         \u001b[38;5;28;01mif\u001b[39;00m inspect\u001b[38;5;241m.\u001b[39misawaitable(result):\n\u001b[1;32m    146\u001b[0m             warnings\u001b[38;5;241m.\u001b[39mwarn(_ASYNC_RETRY_WARNING)\n",
      "File \u001b[0;32m~/Library/Python/3.9/lib/python/site-packages/google/cloud/_http/__init__.py:482\u001b[0m, in \u001b[0;36mJSONConnection.api_request\u001b[0;34m(self, method, path, query_params, data, content_type, headers, api_base_url, api_version, expect_json, _target_object, timeout, extra_api_info)\u001b[0m\n\u001b[1;32m    479\u001b[0m     data \u001b[38;5;241m=\u001b[39m json\u001b[38;5;241m.\u001b[39mdumps(data)\n\u001b[1;32m    480\u001b[0m     content_type \u001b[38;5;241m=\u001b[39m \u001b[38;5;124m\"\u001b[39m\u001b[38;5;124mapplication/json\u001b[39m\u001b[38;5;124m\"\u001b[39m\n\u001b[0;32m--> 482\u001b[0m response \u001b[38;5;241m=\u001b[39m \u001b[38;5;28;43mself\u001b[39;49m\u001b[38;5;241;43m.\u001b[39;49m\u001b[43m_make_request\u001b[49m\u001b[43m(\u001b[49m\n\u001b[1;32m    483\u001b[0m \u001b[43m    \u001b[49m\u001b[43mmethod\u001b[49m\u001b[38;5;241;43m=\u001b[39;49m\u001b[43mmethod\u001b[49m\u001b[43m,\u001b[49m\n\u001b[1;32m    484\u001b[0m \u001b[43m    \u001b[49m\u001b[43murl\u001b[49m\u001b[38;5;241;43m=\u001b[39;49m\u001b[43murl\u001b[49m\u001b[43m,\u001b[49m\n\u001b[1;32m    485\u001b[0m \u001b[43m    \u001b[49m\u001b[43mdata\u001b[49m\u001b[38;5;241;43m=\u001b[39;49m\u001b[43mdata\u001b[49m\u001b[43m,\u001b[49m\n\u001b[1;32m    486\u001b[0m \u001b[43m    \u001b[49m\u001b[43mcontent_type\u001b[49m\u001b[38;5;241;43m=\u001b[39;49m\u001b[43mcontent_type\u001b[49m\u001b[43m,\u001b[49m\n\u001b[1;32m    487\u001b[0m \u001b[43m    \u001b[49m\u001b[43mheaders\u001b[49m\u001b[38;5;241;43m=\u001b[39;49m\u001b[43mheaders\u001b[49m\u001b[43m,\u001b[49m\n\u001b[1;32m    488\u001b[0m \u001b[43m    \u001b[49m\u001b[43mtarget_object\u001b[49m\u001b[38;5;241;43m=\u001b[39;49m\u001b[43m_target_object\u001b[49m\u001b[43m,\u001b[49m\n\u001b[1;32m    489\u001b[0m \u001b[43m    \u001b[49m\u001b[43mtimeout\u001b[49m\u001b[38;5;241;43m=\u001b[39;49m\u001b[43mtimeout\u001b[49m\u001b[43m,\u001b[49m\n\u001b[1;32m    490\u001b[0m \u001b[43m    \u001b[49m\u001b[43mextra_api_info\u001b[49m\u001b[38;5;241;43m=\u001b[39;49m\u001b[43mextra_api_info\u001b[49m\u001b[43m,\u001b[49m\n\u001b[1;32m    491\u001b[0m \u001b[43m\u001b[49m\u001b[43m)\u001b[49m\n\u001b[1;32m    493\u001b[0m \u001b[38;5;28;01mif\u001b[39;00m \u001b[38;5;129;01mnot\u001b[39;00m \u001b[38;5;241m200\u001b[39m \u001b[38;5;241m<\u001b[39m\u001b[38;5;241m=\u001b[39m response\u001b[38;5;241m.\u001b[39mstatus_code \u001b[38;5;241m<\u001b[39m \u001b[38;5;241m300\u001b[39m:\n\u001b[1;32m    494\u001b[0m     \u001b[38;5;28;01mraise\u001b[39;00m exceptions\u001b[38;5;241m.\u001b[39mfrom_http_response(response)\n",
      "File \u001b[0;32m~/Library/Python/3.9/lib/python/site-packages/google/cloud/_http/__init__.py:341\u001b[0m, in \u001b[0;36mJSONConnection._make_request\u001b[0;34m(self, method, url, data, content_type, headers, target_object, timeout, extra_api_info)\u001b[0m\n\u001b[1;32m    338\u001b[0m     headers[CLIENT_INFO_HEADER] \u001b[38;5;241m=\u001b[39m \u001b[38;5;28mself\u001b[39m\u001b[38;5;241m.\u001b[39muser_agent\n\u001b[1;32m    339\u001b[0m headers[\u001b[38;5;124m\"\u001b[39m\u001b[38;5;124mUser-Agent\u001b[39m\u001b[38;5;124m\"\u001b[39m] \u001b[38;5;241m=\u001b[39m \u001b[38;5;28mself\u001b[39m\u001b[38;5;241m.\u001b[39muser_agent\n\u001b[0;32m--> 341\u001b[0m \u001b[38;5;28;01mreturn\u001b[39;00m \u001b[38;5;28;43mself\u001b[39;49m\u001b[38;5;241;43m.\u001b[39;49m\u001b[43m_do_request\u001b[49m\u001b[43m(\u001b[49m\n\u001b[1;32m    342\u001b[0m \u001b[43m    \u001b[49m\u001b[43mmethod\u001b[49m\u001b[43m,\u001b[49m\u001b[43m \u001b[49m\u001b[43murl\u001b[49m\u001b[43m,\u001b[49m\u001b[43m \u001b[49m\u001b[43mheaders\u001b[49m\u001b[43m,\u001b[49m\u001b[43m \u001b[49m\u001b[43mdata\u001b[49m\u001b[43m,\u001b[49m\u001b[43m \u001b[49m\u001b[43mtarget_object\u001b[49m\u001b[43m,\u001b[49m\u001b[43m \u001b[49m\u001b[43mtimeout\u001b[49m\u001b[38;5;241;43m=\u001b[39;49m\u001b[43mtimeout\u001b[49m\n\u001b[1;32m    343\u001b[0m \u001b[43m\u001b[49m\u001b[43m)\u001b[49m\n",
      "File \u001b[0;32m~/Library/Python/3.9/lib/python/site-packages/google/cloud/_http/__init__.py:379\u001b[0m, in \u001b[0;36mJSONConnection._do_request\u001b[0;34m(self, method, url, headers, data, target_object, timeout)\u001b[0m\n\u001b[1;32m    345\u001b[0m \u001b[38;5;28;01mdef\u001b[39;00m \u001b[38;5;21m_do_request\u001b[39m(\n\u001b[1;32m    346\u001b[0m     \u001b[38;5;28mself\u001b[39m, method, url, headers, data, target_object, timeout\u001b[38;5;241m=\u001b[39m_DEFAULT_TIMEOUT\n\u001b[1;32m    347\u001b[0m ):  \u001b[38;5;66;03m# pylint: disable=unused-argument\u001b[39;00m\n\u001b[1;32m    348\u001b[0m \u001b[38;5;250m    \u001b[39m\u001b[38;5;124;03m\"\"\"Low-level helper:  perform the actual API request over HTTP.\u001b[39;00m\n\u001b[1;32m    349\u001b[0m \n\u001b[1;32m    350\u001b[0m \u001b[38;5;124;03m    Allows batch context managers to override and defer a request.\u001b[39;00m\n\u001b[0;32m   (...)\u001b[0m\n\u001b[1;32m    377\u001b[0m \u001b[38;5;124;03m    :returns: The HTTP response.\u001b[39;00m\n\u001b[1;32m    378\u001b[0m \u001b[38;5;124;03m    \"\"\"\u001b[39;00m\n\u001b[0;32m--> 379\u001b[0m     \u001b[38;5;28;01mreturn\u001b[39;00m \u001b[38;5;28;43mself\u001b[39;49m\u001b[38;5;241;43m.\u001b[39;49m\u001b[43mhttp\u001b[49m\u001b[38;5;241;43m.\u001b[39;49m\u001b[43mrequest\u001b[49m\u001b[43m(\u001b[49m\n\u001b[1;32m    380\u001b[0m \u001b[43m        \u001b[49m\u001b[43murl\u001b[49m\u001b[38;5;241;43m=\u001b[39;49m\u001b[43murl\u001b[49m\u001b[43m,\u001b[49m\u001b[43m \u001b[49m\u001b[43mmethod\u001b[49m\u001b[38;5;241;43m=\u001b[39;49m\u001b[43mmethod\u001b[49m\u001b[43m,\u001b[49m\u001b[43m \u001b[49m\u001b[43mheaders\u001b[49m\u001b[38;5;241;43m=\u001b[39;49m\u001b[43mheaders\u001b[49m\u001b[43m,\u001b[49m\u001b[43m \u001b[49m\u001b[43mdata\u001b[49m\u001b[38;5;241;43m=\u001b[39;49m\u001b[43mdata\u001b[49m\u001b[43m,\u001b[49m\u001b[43m \u001b[49m\u001b[43mtimeout\u001b[49m\u001b[38;5;241;43m=\u001b[39;49m\u001b[43mtimeout\u001b[49m\n\u001b[1;32m    381\u001b[0m \u001b[43m    \u001b[49m\u001b[43m)\u001b[49m\n",
      "File \u001b[0;32m~/Library/Python/3.9/lib/python/site-packages/google/auth/transport/requests.py:538\u001b[0m, in \u001b[0;36mAuthorizedSession.request\u001b[0;34m(self, method, url, data, headers, max_allowed_time, timeout, **kwargs)\u001b[0m\n\u001b[1;32m    535\u001b[0m remaining_time \u001b[38;5;241m=\u001b[39m guard\u001b[38;5;241m.\u001b[39mremaining_timeout\n\u001b[1;32m    537\u001b[0m \u001b[38;5;28;01mwith\u001b[39;00m TimeoutGuard(remaining_time) \u001b[38;5;28;01mas\u001b[39;00m guard:\n\u001b[0;32m--> 538\u001b[0m     response \u001b[38;5;241m=\u001b[39m \u001b[38;5;28;43msuper\u001b[39;49m\u001b[43m(\u001b[49m\u001b[43mAuthorizedSession\u001b[49m\u001b[43m,\u001b[49m\u001b[43m \u001b[49m\u001b[38;5;28;43mself\u001b[39;49m\u001b[43m)\u001b[49m\u001b[38;5;241;43m.\u001b[39;49m\u001b[43mrequest\u001b[49m\u001b[43m(\u001b[49m\n\u001b[1;32m    539\u001b[0m \u001b[43m        \u001b[49m\u001b[43mmethod\u001b[49m\u001b[43m,\u001b[49m\n\u001b[1;32m    540\u001b[0m \u001b[43m        \u001b[49m\u001b[43murl\u001b[49m\u001b[43m,\u001b[49m\n\u001b[1;32m    541\u001b[0m \u001b[43m        \u001b[49m\u001b[43mdata\u001b[49m\u001b[38;5;241;43m=\u001b[39;49m\u001b[43mdata\u001b[49m\u001b[43m,\u001b[49m\n\u001b[1;32m    542\u001b[0m \u001b[43m        \u001b[49m\u001b[43mheaders\u001b[49m\u001b[38;5;241;43m=\u001b[39;49m\u001b[43mrequest_headers\u001b[49m\u001b[43m,\u001b[49m\n\u001b[1;32m    543\u001b[0m \u001b[43m        \u001b[49m\u001b[43mtimeout\u001b[49m\u001b[38;5;241;43m=\u001b[39;49m\u001b[43mtimeout\u001b[49m\u001b[43m,\u001b[49m\n\u001b[1;32m    544\u001b[0m \u001b[43m        \u001b[49m\u001b[38;5;241;43m*\u001b[39;49m\u001b[38;5;241;43m*\u001b[39;49m\u001b[43mkwargs\u001b[49m\n\u001b[1;32m    545\u001b[0m \u001b[43m    \u001b[49m\u001b[43m)\u001b[49m\n\u001b[1;32m    546\u001b[0m remaining_time \u001b[38;5;241m=\u001b[39m guard\u001b[38;5;241m.\u001b[39mremaining_timeout\n\u001b[1;32m    548\u001b[0m \u001b[38;5;66;03m# If the response indicated that the credentials needed to be\u001b[39;00m\n\u001b[1;32m    549\u001b[0m \u001b[38;5;66;03m# refreshed, then refresh the credentials and re-attempt the\u001b[39;00m\n\u001b[1;32m    550\u001b[0m \u001b[38;5;66;03m# request.\u001b[39;00m\n\u001b[1;32m    551\u001b[0m \u001b[38;5;66;03m# A stored token may expire between the time it is retrieved and\u001b[39;00m\n\u001b[1;32m    552\u001b[0m \u001b[38;5;66;03m# the time the request is made, so we may need to try twice.\u001b[39;00m\n",
      "File \u001b[0;32m~/Library/Python/3.9/lib/python/site-packages/requests/sessions.py:589\u001b[0m, in \u001b[0;36mSession.request\u001b[0;34m(self, method, url, params, data, headers, cookies, files, auth, timeout, allow_redirects, proxies, hooks, stream, verify, cert, json)\u001b[0m\n\u001b[1;32m    584\u001b[0m send_kwargs \u001b[38;5;241m=\u001b[39m {\n\u001b[1;32m    585\u001b[0m     \u001b[38;5;124m\"\u001b[39m\u001b[38;5;124mtimeout\u001b[39m\u001b[38;5;124m\"\u001b[39m: timeout,\n\u001b[1;32m    586\u001b[0m     \u001b[38;5;124m\"\u001b[39m\u001b[38;5;124mallow_redirects\u001b[39m\u001b[38;5;124m\"\u001b[39m: allow_redirects,\n\u001b[1;32m    587\u001b[0m }\n\u001b[1;32m    588\u001b[0m send_kwargs\u001b[38;5;241m.\u001b[39mupdate(settings)\n\u001b[0;32m--> 589\u001b[0m resp \u001b[38;5;241m=\u001b[39m \u001b[38;5;28;43mself\u001b[39;49m\u001b[38;5;241;43m.\u001b[39;49m\u001b[43msend\u001b[49m\u001b[43m(\u001b[49m\u001b[43mprep\u001b[49m\u001b[43m,\u001b[49m\u001b[43m \u001b[49m\u001b[38;5;241;43m*\u001b[39;49m\u001b[38;5;241;43m*\u001b[39;49m\u001b[43msend_kwargs\u001b[49m\u001b[43m)\u001b[49m\n\u001b[1;32m    591\u001b[0m \u001b[38;5;28;01mreturn\u001b[39;00m resp\n",
      "File \u001b[0;32m~/Library/Python/3.9/lib/python/site-packages/requests/sessions.py:746\u001b[0m, in \u001b[0;36mSession.send\u001b[0;34m(self, request, **kwargs)\u001b[0m\n\u001b[1;32m    743\u001b[0m         \u001b[38;5;28;01mpass\u001b[39;00m\n\u001b[1;32m    745\u001b[0m \u001b[38;5;28;01mif\u001b[39;00m \u001b[38;5;129;01mnot\u001b[39;00m stream:\n\u001b[0;32m--> 746\u001b[0m     \u001b[43mr\u001b[49m\u001b[38;5;241;43m.\u001b[39;49m\u001b[43mcontent\u001b[49m\n\u001b[1;32m    748\u001b[0m \u001b[38;5;28;01mreturn\u001b[39;00m r\n",
      "File \u001b[0;32m~/Library/Python/3.9/lib/python/site-packages/requests/models.py:902\u001b[0m, in \u001b[0;36mResponse.content\u001b[0;34m(self)\u001b[0m\n\u001b[1;32m    900\u001b[0m         \u001b[38;5;28mself\u001b[39m\u001b[38;5;241m.\u001b[39m_content \u001b[38;5;241m=\u001b[39m \u001b[38;5;28;01mNone\u001b[39;00m\n\u001b[1;32m    901\u001b[0m     \u001b[38;5;28;01melse\u001b[39;00m:\n\u001b[0;32m--> 902\u001b[0m         \u001b[38;5;28mself\u001b[39m\u001b[38;5;241m.\u001b[39m_content \u001b[38;5;241m=\u001b[39m \u001b[38;5;124;43mb\u001b[39;49m\u001b[38;5;124;43m\"\u001b[39;49m\u001b[38;5;124;43m\"\u001b[39;49m\u001b[38;5;241;43m.\u001b[39;49m\u001b[43mjoin\u001b[49m\u001b[43m(\u001b[49m\u001b[38;5;28;43mself\u001b[39;49m\u001b[38;5;241;43m.\u001b[39;49m\u001b[43miter_content\u001b[49m\u001b[43m(\u001b[49m\u001b[43mCONTENT_CHUNK_SIZE\u001b[49m\u001b[43m)\u001b[49m\u001b[43m)\u001b[49m \u001b[38;5;129;01mor\u001b[39;00m \u001b[38;5;124mb\u001b[39m\u001b[38;5;124m\"\u001b[39m\u001b[38;5;124m\"\u001b[39m\n\u001b[1;32m    904\u001b[0m \u001b[38;5;28mself\u001b[39m\u001b[38;5;241m.\u001b[39m_content_consumed \u001b[38;5;241m=\u001b[39m \u001b[38;5;28;01mTrue\u001b[39;00m\n\u001b[1;32m    905\u001b[0m \u001b[38;5;66;03m# don't need to release the connection; that's been handled by urllib3\u001b[39;00m\n\u001b[1;32m    906\u001b[0m \u001b[38;5;66;03m# since we exhausted the data.\u001b[39;00m\n",
      "File \u001b[0;32m~/Library/Python/3.9/lib/python/site-packages/requests/models.py:820\u001b[0m, in \u001b[0;36mResponse.iter_content.<locals>.generate\u001b[0;34m()\u001b[0m\n\u001b[1;32m    818\u001b[0m \u001b[38;5;28;01mif\u001b[39;00m \u001b[38;5;28mhasattr\u001b[39m(\u001b[38;5;28mself\u001b[39m\u001b[38;5;241m.\u001b[39mraw, \u001b[38;5;124m\"\u001b[39m\u001b[38;5;124mstream\u001b[39m\u001b[38;5;124m\"\u001b[39m):\n\u001b[1;32m    819\u001b[0m     \u001b[38;5;28;01mtry\u001b[39;00m:\n\u001b[0;32m--> 820\u001b[0m         \u001b[38;5;28;01myield from\u001b[39;00m \u001b[38;5;28mself\u001b[39m\u001b[38;5;241m.\u001b[39mraw\u001b[38;5;241m.\u001b[39mstream(chunk_size, decode_content\u001b[38;5;241m=\u001b[39m\u001b[38;5;28;01mTrue\u001b[39;00m)\n\u001b[1;32m    821\u001b[0m     \u001b[38;5;28;01mexcept\u001b[39;00m ProtocolError \u001b[38;5;28;01mas\u001b[39;00m e:\n\u001b[1;32m    822\u001b[0m         \u001b[38;5;28;01mraise\u001b[39;00m ChunkedEncodingError(e)\n",
      "File \u001b[0;32m~/Library/Python/3.9/lib/python/site-packages/urllib3/response.py:624\u001b[0m, in \u001b[0;36mHTTPResponse.stream\u001b[0;34m(self, amt, decode_content)\u001b[0m\n\u001b[1;32m    608\u001b[0m \u001b[38;5;250m\u001b[39m\u001b[38;5;124;03m\"\"\"\u001b[39;00m\n\u001b[1;32m    609\u001b[0m \u001b[38;5;124;03mA generator wrapper for the read() method. A call will block until\u001b[39;00m\n\u001b[1;32m    610\u001b[0m \u001b[38;5;124;03m``amt`` bytes have been read from the connection or until the\u001b[39;00m\n\u001b[0;32m   (...)\u001b[0m\n\u001b[1;32m    621\u001b[0m \u001b[38;5;124;03m    'content-encoding' header.\u001b[39;00m\n\u001b[1;32m    622\u001b[0m \u001b[38;5;124;03m\"\"\"\u001b[39;00m\n\u001b[1;32m    623\u001b[0m \u001b[38;5;28;01mif\u001b[39;00m \u001b[38;5;28mself\u001b[39m\u001b[38;5;241m.\u001b[39mchunked \u001b[38;5;129;01mand\u001b[39;00m \u001b[38;5;28mself\u001b[39m\u001b[38;5;241m.\u001b[39msupports_chunked_reads():\n\u001b[0;32m--> 624\u001b[0m     \u001b[38;5;28;01mfor\u001b[39;00m line \u001b[38;5;129;01min\u001b[39;00m \u001b[38;5;28mself\u001b[39m\u001b[38;5;241m.\u001b[39mread_chunked(amt, decode_content\u001b[38;5;241m=\u001b[39mdecode_content):\n\u001b[1;32m    625\u001b[0m         \u001b[38;5;28;01myield\u001b[39;00m line\n\u001b[1;32m    626\u001b[0m \u001b[38;5;28;01melse\u001b[39;00m:\n",
      "File \u001b[0;32m~/Library/Python/3.9/lib/python/site-packages/urllib3/response.py:832\u001b[0m, in \u001b[0;36mHTTPResponse.read_chunked\u001b[0;34m(self, amt, decode_content)\u001b[0m\n\u001b[1;32m    830\u001b[0m     \u001b[38;5;28;01mbreak\u001b[39;00m\n\u001b[1;32m    831\u001b[0m chunk \u001b[38;5;241m=\u001b[39m \u001b[38;5;28mself\u001b[39m\u001b[38;5;241m.\u001b[39m_handle_chunk(amt)\n\u001b[0;32m--> 832\u001b[0m decoded \u001b[38;5;241m=\u001b[39m \u001b[38;5;28;43mself\u001b[39;49m\u001b[38;5;241;43m.\u001b[39;49m\u001b[43m_decode\u001b[49m\u001b[43m(\u001b[49m\n\u001b[1;32m    833\u001b[0m \u001b[43m    \u001b[49m\u001b[43mchunk\u001b[49m\u001b[43m,\u001b[49m\u001b[43m \u001b[49m\u001b[43mdecode_content\u001b[49m\u001b[38;5;241;43m=\u001b[39;49m\u001b[43mdecode_content\u001b[49m\u001b[43m,\u001b[49m\u001b[43m \u001b[49m\u001b[43mflush_decoder\u001b[49m\u001b[38;5;241;43m=\u001b[39;49m\u001b[38;5;28;43;01mFalse\u001b[39;49;00m\n\u001b[1;32m    834\u001b[0m \u001b[43m\u001b[49m\u001b[43m)\u001b[49m\n\u001b[1;32m    835\u001b[0m \u001b[38;5;28;01mif\u001b[39;00m decoded:\n\u001b[1;32m    836\u001b[0m     \u001b[38;5;28;01myield\u001b[39;00m decoded\n",
      "File \u001b[0;32m~/Library/Python/3.9/lib/python/site-packages/urllib3/response.py:407\u001b[0m, in \u001b[0;36mHTTPResponse._decode\u001b[0;34m(self, data, decode_content, flush_decoder)\u001b[0m\n\u001b[1;32m    405\u001b[0m \u001b[38;5;28;01mtry\u001b[39;00m:\n\u001b[1;32m    406\u001b[0m     \u001b[38;5;28;01mif\u001b[39;00m \u001b[38;5;28mself\u001b[39m\u001b[38;5;241m.\u001b[39m_decoder:\n\u001b[0;32m--> 407\u001b[0m         data \u001b[38;5;241m=\u001b[39m \u001b[38;5;28;43mself\u001b[39;49m\u001b[38;5;241;43m.\u001b[39;49m\u001b[43m_decoder\u001b[49m\u001b[38;5;241;43m.\u001b[39;49m\u001b[43mdecompress\u001b[49m\u001b[43m(\u001b[49m\u001b[43mdata\u001b[49m\u001b[43m)\u001b[49m\n\u001b[1;32m    408\u001b[0m \u001b[38;5;28;01mexcept\u001b[39;00m \u001b[38;5;28mself\u001b[39m\u001b[38;5;241m.\u001b[39mDECODER_ERROR_CLASSES \u001b[38;5;28;01mas\u001b[39;00m e:\n\u001b[1;32m    409\u001b[0m     content_encoding \u001b[38;5;241m=\u001b[39m \u001b[38;5;28mself\u001b[39m\u001b[38;5;241m.\u001b[39mheaders\u001b[38;5;241m.\u001b[39mget(\u001b[38;5;124m\"\u001b[39m\u001b[38;5;124mcontent-encoding\u001b[39m\u001b[38;5;124m\"\u001b[39m, \u001b[38;5;124m\"\u001b[39m\u001b[38;5;124m\"\u001b[39m)\u001b[38;5;241m.\u001b[39mlower()\n",
      "File \u001b[0;32m~/Library/Python/3.9/lib/python/site-packages/urllib3/response.py:94\u001b[0m, in \u001b[0;36mGzipDecoder.decompress\u001b[0;34m(self, data)\u001b[0m\n\u001b[1;32m     92\u001b[0m \u001b[38;5;28;01mwhile\u001b[39;00m \u001b[38;5;28;01mTrue\u001b[39;00m:\n\u001b[1;32m     93\u001b[0m     \u001b[38;5;28;01mtry\u001b[39;00m:\n\u001b[0;32m---> 94\u001b[0m         ret \u001b[38;5;241m+\u001b[39m\u001b[38;5;241m=\u001b[39m \u001b[38;5;28;43mself\u001b[39;49m\u001b[38;5;241;43m.\u001b[39;49m\u001b[43m_obj\u001b[49m\u001b[38;5;241;43m.\u001b[39;49m\u001b[43mdecompress\u001b[49m\u001b[43m(\u001b[49m\u001b[43mdata\u001b[49m\u001b[43m)\u001b[49m\n\u001b[1;32m     95\u001b[0m     \u001b[38;5;28;01mexcept\u001b[39;00m zlib\u001b[38;5;241m.\u001b[39merror:\n\u001b[1;32m     96\u001b[0m         previous_state \u001b[38;5;241m=\u001b[39m \u001b[38;5;28mself\u001b[39m\u001b[38;5;241m.\u001b[39m_state\n",
      "\u001b[0;31mKeyboardInterrupt\u001b[0m: "
     ]
    }
   ],
   "source": [
    "df_liveness = read_bq(\"\"\"\n",
    "WITH grouped AS (SELECT segment,\n",
    "                        DATE_TRUNC(event_dt_part, MONTH) AS monthly,\n",
    "                        COUNT(DISTINCT user_id)          AS users\n",
    "                 FROM (SELECT t1.user_id,\n",
    "                              t1.event_dt_part,\n",
    "                              t1.name,\n",
    "                              t1.city_id,\n",
    "                              t2.city_name,\n",
    "                              CASE\n",
    "                                  WHEN t1.city_id IN\n",
    "                                       (6587, 4230, 5495, 4272, 4396, 4155, 4825, 5291, 4234, 4404, 5548, 4143, 4198,\n",
    "                                        4225, 4227, 4255,\n",
    "                                        4197,\n",
    "                                        4243, 5483, 4518, 4377, 4532, 4521, 4537, 4758, 4163, 4534, 4519, 4375)\n",
    "                                      THEN 'SP 2025'\n",
    "                                  ELSE 'all time SP'\n",
    "                                  END segment,\n",
    "                              t2.country_name\n",
    "                       FROM indriver-e6e40.emart.product_event t1\n",
    "                                JOIN indriver-e6e40.heap.vw_macroregion_mapping t2\n",
    "                                     ON\n",
    "                                         t1.city_id = t2.city_id\n",
    "                       WHERE 1 = 1\n",
    "                         AND name IN (\n",
    "                           'client.verification_start.click'\n",
    "                           )\n",
    "                         AND t1.event_dt_part BETWEEN '2024-09-01' AND CURRENT_DATE()\n",
    "                         AND t2.macroregion_name IN ('Latin America', 'Brazil', 'Africa')\n",
    "                       QUALIFY ROW_NUMBER() OVER (PARTITION BY user_id ORDER BY client_time) =\n",
    "                               1)\n",
    "                 GROUP BY 1, 2)\n",
    "SELECT *,\n",
    "       SUM(users) OVER (PARTITION BY monthly)                         AS total_users,\n",
    "       ROUND(users / SUM(users) OVER (PARTITION BY monthly) * 100, 2) AS share_of_checks\n",
    "FROM grouped\n",
    "ORDER BY monthly, segment\n",
    "\"\"\")\n",
    "\n",
    "df_liveness.head()"
   ]
  }
 ],
 "metadata": {
  "kernelspec": {
   "display_name": "Python 3",
   "language": "python",
   "name": "python3"
  },
  "language_info": {
   "codemirror_mode": {
    "name": "ipython",
    "version": 3
   },
   "file_extension": ".py",
   "mimetype": "text/x-python",
   "name": "python",
   "nbconvert_exporter": "python",
   "pygments_lexer": "ipython3",
   "version": "3.9.6"
  }
 },
 "nbformat": 4,
 "nbformat_minor": 5
}
