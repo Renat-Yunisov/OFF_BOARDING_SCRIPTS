{
 "cells": [
  {
   "cell_type": "markdown",
   "id": "44da4587",
   "metadata": {},
   "source": [
    "# Packages"
   ]
  },
  {
   "cell_type": "code",
   "execution_count": 6,
   "id": "a151bc38",
   "metadata": {},
   "outputs": [
    {
     "data": {
      "text/html": [
       "<style>.container { width:80% !important; }</style>"
      ],
      "text/plain": [
       "<IPython.core.display.HTML object>"
      ]
     },
     "metadata": {},
     "output_type": "display_data"
    }
   ],
   "source": [
    "# Visualisation\n",
    "import plotly.express as px\n",
    "import plotly.graph_objects as go\n",
    "from plotly.subplots import make_subplots\n",
    "import matplotlib.pyplot as plt\n",
    "import seaborn as sns\n",
    "from pyvis.network import Network\n",
    "\n",
    "# Data analysis / Data processing\n",
    "import pandas as pd\n",
    "pd.set_option('display.max_rows', 500)\n",
    "pd.set_option('display.max_columns', 500)\n",
    "pd.set_option('display.width', 1000)\n",
    "pd.set_option('max_colwidth', None)\n",
    "pd.options.display.float_format = \"{:,.2f}\".format\n",
    "from datetime import time, timedelta, datetime\n",
    "import numpy as np\n",
    "import networkx as nx\n",
    "from collections import defaultdict\n",
    "import ast\n",
    "\n",
    "# Maths & Stats\n",
    "import math \n",
    "import scipy.stats as st\n",
    "from scipy import stats\n",
    "from scipy.stats import norm\n",
    "import statsmodels.stats.weightstats as ws\n",
    "from statsmodels.stats.proportion import test_proportions_2indep\n",
    "import AB_library\n",
    "# from ambrosia.designer import Designer\n",
    "# from ambrosia.tester import Tester\n",
    "import expab\n",
    "from statsmodels.stats.power import NormalIndPower\n",
    "from statsmodels.stats.proportion import proportion_effectsize\n",
    "from math import ceil\n",
    "\n",
    "# System library\n",
    "import os\n",
    "import ipywidgets\n",
    "import warnings\n",
    "warnings.filterwarnings('ignore')\n",
    "from tqdm.notebook import tqdm\n",
    "tqdm.pandas()\n",
    "from IPython.display import display, HTML\n",
    "display(HTML(\"<style>.container { width:80% !important; }</style>\"))\n",
    "%config InlineBackend.figure_format='retina'\n",
    "# from itables import init_notebook_mode\n",
    "# init_notebook_mode(all_interactive=True)\n",
    "import openpyxl\n",
    "\n",
    "# Data connection\n",
    "from google.cloud import bigquery\n",
    "bigquery_client = bigquery.Client(project='analytics-dev-333113')\n",
    "\n",
    "\n",
    "# Useful functions\n",
    "def read_bq(query, project='analytics-dev-333113'):\n",
    "    client = bigquery.Client(project=project)\n",
    "    query_job = client.query(query)\n",
    "    result_df = query_job.to_dataframe()\n",
    "    return result_df\n",
    "\n",
    "def display_side_by_side(*args):\n",
    "\n",
    "    html_str = ''\n",
    "    for df in args:\n",
    "        html_str += df.to_html()\n",
    "    display_html(\n",
    "        html_str.replace('table','table style=\"display:inline\"'), \n",
    "        raw=True\n",
    "    )\n",
    "\n",
    "def cycle_sql(start, end, query, weeks=False):\n",
    "    \"\"\"\n",
    "    You have to use {date} in your script to add cycle date into this backets\n",
    "    \"\"\"\n",
    "    date_start = datetime.strptime(start, '%Y-%m-%d')\n",
    "    date_end = datetime.strptime(end, '%Y-%m-%d')\n",
    "\n",
    "    if weeks == False:\n",
    "        daterange = [(date_start + timedelta(days=x)).strftime('%Y-%m-%d') for x in range(((date_end-date_start).days)+1)]\n",
    "    else:\n",
    "        daterange = [(date_start + timedelta(weeks=x)).strftime('%Y-%m-%d') for x in range(((date_end-date_start).days//7)+1)] # weeks dividing days by 7\n",
    "\n",
    "    total_df = pd.DataFrame()\n",
    "\n",
    "    counter = 0\n",
    "\n",
    "    for date in daterange:\n",
    "        counter+=1\n",
    "        print(f\"{counter}) Uploading - {date}:\", datetime.today().strftime('%Y-%m-%d %H:%M:%S'))\n",
    "        script = query.format(date = date)\n",
    "        df_cycle = bigquery_client.query(script).to_dataframe()\n",
    "        if df_cycle.empty == True:\n",
    "            print('Dataframe is empty')\n",
    "        total_df = pd.concat([df_cycle, total_df])\n",
    "    return total_df  \n",
    "\n",
    "def writing_excel(name:str, dataset1=None, dataset2=None, dataset3=None, dataset4=None):\n",
    "    with pd.ExcelWriter(f\"{name}.xlsx\") as writer:\n",
    "\n",
    "    # use to_excel function and specify the sheet_name and index \n",
    "    # to store the dataframe in specified sheet\n",
    "\n",
    "        if dataset1 is not None:\n",
    "            if dataset2 is not None:\n",
    "                if dataset3 is not None:\n",
    "                    if dataset4 is not None:\n",
    "                        dataset1.to_excel(writer, sheet_name=f\"1-{name}\", \n",
    "                                        #   index=False\n",
    "                                            )\n",
    "                        dataset2.to_excel(writer, sheet_name=f\"2-{name}\", \n",
    "                                        #   index=False\n",
    "                                            )\n",
    "                        dataset3.to_excel(writer, sheet_name=f\"3-{name}\", \n",
    "                                        #   index=False\n",
    "                                            )\n",
    "                        dataset4.to_excel(writer, sheet_name=f\"4-{name}\", \n",
    "                                        #   index=False\n",
    "                                            )\n",
    "                    else:\n",
    "                        dataset1.to_excel(writer, sheet_name=f\"1-{name}\", \n",
    "                                        #   index=False\n",
    "                                            )\n",
    "                        dataset2.to_excel(writer, sheet_name=f\"2-{name}\", \n",
    "                                        #   index=False\n",
    "                                            )\n",
    "                        dataset3.to_excel(writer, sheet_name=f\"3-{name}\", \n",
    "                                        #   index=False\n",
    "                                            )\n",
    "                else:\n",
    "                    dataset1.to_excel(writer, sheet_name=f\"1-{name}\", \n",
    "                                    #   index=False\n",
    "                                        )\n",
    "                    dataset2.to_excel(writer, sheet_name=f\"2-{name}\", \n",
    "                                    #   index=False\n",
    "                                        )\n",
    "            else:\n",
    "                dataset1.to_excel(writer, sheet_name=f\"1-{name}\", \n",
    "                                #   index=False\n",
    "                                    )\n",
    "\n",
    "        print('DataFrame is written to Excel File successfully.') "
   ]
  },
  {
   "cell_type": "markdown",
   "id": "021a9e2e",
   "metadata": {},
   "source": [
    "# Research"
   ]
  },
  {
   "cell_type": "code",
   "execution_count": null,
   "id": "d165d423",
   "metadata": {},
   "outputs": [],
   "source": [
    "df_events = read_bq(\"\"\"\n",
    "WITH events AS (SELECT t1.name || COALESCE(('.' || JSON_EXTRACT_SCALAR(payload, '$.button')), '') AS event_name,\n",
    "                       user_id,\n",
    "                       os_name,\n",
    "                       city_id,\n",
    "                       tz.name                                                                    AS city_name,\n",
    "                       IF(EXTRACT(HOUR FROM DATETIME(client_time_ts, tz.timezone)) IN\n",
    "                          (21, 22, 23, 0, 1, 2, 3, 4, 5, 6), 1,\n",
    "                          0)                                                                      AS night_time_flg,\n",
    "                       event_dt_part\n",
    "                FROM indriver-e6e40.emart.product_event t1\n",
    "                         JOIN indriver-e6e40.ods_monolith.tbl_city tz\n",
    "                              ON t1.city_id = tz.id\n",
    "                WHERE 1 = 1\n",
    "                  AND t1.country_id = 2\n",
    "                  AND t1.name IN (\n",
    "                                  'client.intrip_entry.show', 'client.intrip_entry.click', 'client.intrip_report.show',\n",
    "                                  'client.intrip_report.click', 'client.intrip_report_result.show',\n",
    "                                  'client.intrip_report_result.click', 'client.intrip_ok_button.show',\n",
    "                                  'client.intrip_ok_button.click'\n",
    "                    )\n",
    "                  AND event_dt_part BETWEEN '2025-06-01'\n",
    "                    AND '2025-07-03')\n",
    "SELECT DISTINCT *\n",
    "FROM events\n",
    "\"\"\")"
   ]
  },
  {
   "cell_type": "code",
   "execution_count": 204,
   "id": "e10a975f",
   "metadata": {},
   "outputs": [
    {
     "data": {
      "text/html": [
       "<div>\n",
       "<style scoped>\n",
       "    .dataframe tbody tr th:only-of-type {\n",
       "        vertical-align: middle;\n",
       "    }\n",
       "\n",
       "    .dataframe tbody tr th {\n",
       "        vertical-align: top;\n",
       "    }\n",
       "\n",
       "    .dataframe thead th {\n",
       "        text-align: right;\n",
       "    }\n",
       "</style>\n",
       "<table border=\"1\" class=\"dataframe\">\n",
       "  <thead>\n",
       "    <tr style=\"text-align: right;\">\n",
       "      <th></th>\n",
       "      <th>event_name</th>\n",
       "      <th>user_id</th>\n",
       "    </tr>\n",
       "  </thead>\n",
       "  <tbody>\n",
       "    <tr>\n",
       "      <th>3</th>\n",
       "      <td>client.intrip_entry.show</td>\n",
       "      <td>891</td>\n",
       "    </tr>\n",
       "    <tr>\n",
       "      <th>1</th>\n",
       "      <td>client.intrip_entry.click.ok</td>\n",
       "      <td>392</td>\n",
       "    </tr>\n",
       "    <tr>\n",
       "      <th>5</th>\n",
       "      <td>client.intrip_ok_button.show</td>\n",
       "      <td>387</td>\n",
       "    </tr>\n",
       "    <tr>\n",
       "      <th>4</th>\n",
       "      <td>client.intrip_ok_button.click</td>\n",
       "      <td>329</td>\n",
       "    </tr>\n",
       "    <tr>\n",
       "      <th>2</th>\n",
       "      <td>client.intrip_entry.click.report</td>\n",
       "      <td>19</td>\n",
       "    </tr>\n",
       "    <tr>\n",
       "      <th>7</th>\n",
       "      <td>client.intrip_report.show</td>\n",
       "      <td>19</td>\n",
       "    </tr>\n",
       "    <tr>\n",
       "      <th>0</th>\n",
       "      <td>client.intrip_entry.click.call</td>\n",
       "      <td>3</td>\n",
       "    </tr>\n",
       "    <tr>\n",
       "      <th>6</th>\n",
       "      <td>client.intrip_report.click</td>\n",
       "      <td>2</td>\n",
       "    </tr>\n",
       "    <tr>\n",
       "      <th>8</th>\n",
       "      <td>client.intrip_report_result.show</td>\n",
       "      <td>1</td>\n",
       "    </tr>\n",
       "  </tbody>\n",
       "</table>\n",
       "</div>"
      ],
      "text/plain": [
       "                         event_name  user_id\n",
       "3          client.intrip_entry.show      891\n",
       "1      client.intrip_entry.click.ok      392\n",
       "5      client.intrip_ok_button.show      387\n",
       "4     client.intrip_ok_button.click      329\n",
       "2  client.intrip_entry.click.report       19\n",
       "7         client.intrip_report.show       19\n",
       "0    client.intrip_entry.click.call        3\n",
       "6        client.intrip_report.click        2\n",
       "8  client.intrip_report_result.show        1"
      ]
     },
     "execution_count": 204,
     "metadata": {},
     "output_type": "execute_result"
    }
   ],
   "source": [
    "df_events.groupby(['event_name'], as_index=False)['user_id'].nunique().sort_values('user_id', ascending=False)"
   ]
  },
  {
   "cell_type": "markdown",
   "id": "478a7948",
   "metadata": {},
   "source": [
    "## Events"
   ]
  },
  {
   "cell_type": "code",
   "execution_count": 82,
   "id": "c88a7f5f",
   "metadata": {},
   "outputs": [
    {
     "data": {
      "application/vnd.plotly.v1+json": {
       "config": {
        "plotlyServerURL": "https://plot.ly"
       },
       "data": [
        {
         "hoverinfo": "text",
         "line": {
          "color": "rgba(128, 0, 128, 0.3)",
          "width": 4
         },
         "mode": "lines",
         "showlegend": false,
         "text": "From: Click OK<br>To: OK Button\n(OK Path)<br>Users: 121",
         "type": "scatter",
         "x": [
          0.431,
          0.528
         ],
         "y": [
          0.2,
          0.2
         ]
        },
        {
         "hoverinfo": "text",
         "line": {
          "color": "rgba(0, 128, 0, 0.3)",
          "width": 4
         },
         "mode": "lines",
         "showlegend": false,
         "text": "From: Click Report<br>To: Report Show<br>Users: 9",
         "type": "scatter",
         "x": [
          0.431,
          0.528
         ],
         "y": [
          0.5,
          0.5
         ]
        },
        {
         "hoverinfo": "text",
         "line": {
          "color": "rgba(255, 165, 0, 0.3)",
          "width": 4
         },
         "mode": "lines",
         "showlegend": false,
         "text": "From: Entry Show<br>To: Click Call<br>Users: 1",
         "type": "scatter",
         "x": [
          0.19,
          0.26899999999999996
         ],
         "y": [
          0.5,
          0.8
         ]
        },
        {
         "hoverinfo": "text",
         "line": {
          "color": "rgba(128, 0, 128, 0.3)",
          "width": 4
         },
         "mode": "lines",
         "showlegend": false,
         "text": "From: Entry Show<br>To: Click OK<br>Users: 92",
         "type": "scatter",
         "x": [
          0.19,
          0.26899999999999996
         ],
         "y": [
          0.5,
          0.2
         ]
        },
        {
         "hoverinfo": "text",
         "line": {
          "color": "rgba(0, 128, 0, 0.3)",
          "width": 4
         },
         "mode": "lines",
         "showlegend": false,
         "text": "From: Entry Show<br>To: Click Report<br>Users: 3",
         "type": "scatter",
         "x": [
          0.19,
          0.26899999999999996
         ],
         "y": [
          0.5,
          0.5
         ]
        },
        {
         "hoverinfo": "text",
         "line": {
          "color": "rgba(128, 0, 128, 0.3)",
          "width": 4
         },
         "mode": "lines",
         "showlegend": false,
         "text": "From: OK Button\n(OK Path)<br>To: OK Button\nClick (OK)<br>Users: 28",
         "type": "scatter",
         "x": [
          0.6719999999999999,
          0.7370000000000001
         ],
         "y": [
          0.2,
          0.2
         ]
        }
       ],
       "layout": {
        "annotations": [
         {
          "font": {
           "color": "black",
           "family": "Arial",
           "size": 15
          },
          "showarrow": false,
          "text": "<b>Entry Show</b><br>(891, 100%)",
          "x": 0.1,
          "xanchor": "center",
          "y": 0.5800000000000001,
          "yanchor": "bottom"
         },
         {
          "font": {
           "color": "black",
           "family": "Arial",
           "size": 15
          },
          "showarrow": false,
          "text": "<b>Click Call</b><br>(3, 0%)",
          "x": 0.35,
          "xanchor": "center",
          "y": 0.8350000000000001,
          "yanchor": "bottom"
         },
         {
          "font": {
           "color": "black",
           "family": "Arial",
           "size": 15
          },
          "showarrow": false,
          "text": "<b>Click Report</b><br>(19, 2%)",
          "x": 0.35,
          "xanchor": "center",
          "y": 0.535,
          "yanchor": "bottom"
         },
         {
          "font": {
           "color": "black",
           "family": "Arial",
           "size": 15
          },
          "showarrow": false,
          "text": "<b>Click OK</b><br>(392, 44%)",
          "x": 0.35,
          "xanchor": "center",
          "y": 0.2463973063973064,
          "yanchor": "bottom"
         },
         {
          "font": {
           "color": "black",
           "family": "Arial",
           "size": 15
          },
          "showarrow": false,
          "text": "<b>Report Show</b><br>(19, 2%)",
          "x": 0.6,
          "xanchor": "center",
          "y": 0.535,
          "yanchor": "bottom"
         },
         {
          "font": {
           "color": "black",
           "family": "Arial",
           "size": 15
          },
          "showarrow": false,
          "text": "<b>OK Button\n(OK Path)</b><br>(387, 43%)",
          "x": 0.6,
          "xanchor": "center",
          "y": 0.24606060606060606,
          "yanchor": "bottom"
         },
         {
          "font": {
           "color": "black",
           "family": "Arial",
           "size": 15
          },
          "showarrow": false,
          "text": "<b>Report Click</b><br>(2, 0%)",
          "x": 0.8,
          "xanchor": "center",
          "y": 0.535,
          "yanchor": "bottom"
         },
         {
          "font": {
           "color": "black",
           "family": "Arial",
           "size": 15
          },
          "showarrow": false,
          "text": "<b>OK Button\nClick (OK)</b><br>(329, 37%)",
          "x": 0.8,
          "xanchor": "center",
          "y": 0.24215488215488215,
          "yanchor": "bottom"
         },
         {
          "font": {
           "color": "black",
           "family": "Arial",
           "size": 15
          },
          "showarrow": false,
          "text": "<b>Report Result Show</b><br>(1, 0%)",
          "x": 0.95,
          "xanchor": "center",
          "y": 0.385,
          "yanchor": "bottom"
         }
        ],
        "font": {
         "color": "darkblue",
         "family": "Verdana",
         "size": 14
        },
        "height": 800,
        "margin": {
         "b": 20,
         "l": 20,
         "r": 20,
         "t": 80
        },
        "plot_bgcolor": "white",
        "shapes": [
         {
          "fillcolor": "rgba(173, 216, 230, 0.9)",
          "layer": "below",
          "line": {
           "color": "black",
           "width": 1.5
          },
          "type": "rect",
          "x0": 0.010000000000000009,
          "x1": 0.19,
          "y0": 0.44,
          "y1": 0.56
         },
         {
          "fillcolor": "rgba(255, 165, 0, 0.9)",
          "layer": "below",
          "line": {
           "color": "black",
           "width": 1.5
          },
          "type": "rect",
          "x0": 0.26899999999999996,
          "x1": 0.431,
          "y0": 0.785,
          "y1": 0.8150000000000001
         },
         {
          "fillcolor": "rgba(0, 128, 0, 0.9)",
          "layer": "below",
          "line": {
           "color": "black",
           "width": 1.5
          },
          "type": "rect",
          "x0": 0.26899999999999996,
          "x1": 0.431,
          "y0": 0.485,
          "y1": 0.515
         },
         {
          "fillcolor": "rgba(128, 0, 128, 0.9)",
          "layer": "below",
          "line": {
           "color": "black",
           "width": 1.5
          },
          "type": "rect",
          "x0": 0.26899999999999996,
          "x1": 0.431,
          "y0": 0.17360269360269362,
          "y1": 0.2263973063973064
         },
         {
          "fillcolor": "rgba(0, 128, 0, 0.9)",
          "layer": "below",
          "line": {
           "color": "black",
           "width": 1.5
          },
          "type": "rect",
          "x0": 0.528,
          "x1": 0.6719999999999999,
          "y0": 0.485,
          "y1": 0.515
         },
         {
          "fillcolor": "rgba(128, 0, 128, 0.9)",
          "layer": "below",
          "line": {
           "color": "black",
           "width": 1.5
          },
          "type": "rect",
          "x0": 0.528,
          "x1": 0.6719999999999999,
          "y0": 0.17393939393939395,
          "y1": 0.22606060606060607
         },
         {
          "fillcolor": "rgba(0, 128, 0, 0.9)",
          "layer": "below",
          "line": {
           "color": "black",
           "width": 1.5
          },
          "type": "rect",
          "x0": 0.7370000000000001,
          "x1": 0.863,
          "y0": 0.485,
          "y1": 0.515
         },
         {
          "fillcolor": "rgba(128, 0, 128, 0.9)",
          "layer": "below",
          "line": {
           "color": "black",
           "width": 1.5
          },
          "type": "rect",
          "x0": 0.7370000000000001,
          "x1": 0.863,
          "y0": 0.17784511784511786,
          "y1": 0.22215488215488216
         },
         {
          "fillcolor": "rgba(0, 128, 0, 0.9)",
          "layer": "below",
          "line": {
           "color": "black",
           "width": 1.5
          },
          "type": "rect",
          "x0": 0.8959999999999999,
          "x1": 1.004,
          "y0": 0.33499999999999996,
          "y1": 0.365
         }
        ],
        "showlegend": false,
        "template": {
         "data": {
          "bar": [
           {
            "error_x": {
             "color": "#2a3f5f"
            },
            "error_y": {
             "color": "#2a3f5f"
            },
            "marker": {
             "line": {
              "color": "#E5ECF6",
              "width": 0.5
             },
             "pattern": {
              "fillmode": "overlay",
              "size": 10,
              "solidity": 0.2
             }
            },
            "type": "bar"
           }
          ],
          "barpolar": [
           {
            "marker": {
             "line": {
              "color": "#E5ECF6",
              "width": 0.5
             },
             "pattern": {
              "fillmode": "overlay",
              "size": 10,
              "solidity": 0.2
             }
            },
            "type": "barpolar"
           }
          ],
          "carpet": [
           {
            "aaxis": {
             "endlinecolor": "#2a3f5f",
             "gridcolor": "white",
             "linecolor": "white",
             "minorgridcolor": "white",
             "startlinecolor": "#2a3f5f"
            },
            "baxis": {
             "endlinecolor": "#2a3f5f",
             "gridcolor": "white",
             "linecolor": "white",
             "minorgridcolor": "white",
             "startlinecolor": "#2a3f5f"
            },
            "type": "carpet"
           }
          ],
          "choropleth": [
           {
            "colorbar": {
             "outlinewidth": 0,
             "ticks": ""
            },
            "type": "choropleth"
           }
          ],
          "contour": [
           {
            "colorbar": {
             "outlinewidth": 0,
             "ticks": ""
            },
            "colorscale": [
             [
              0,
              "#0d0887"
             ],
             [
              0.1111111111111111,
              "#46039f"
             ],
             [
              0.2222222222222222,
              "#7201a8"
             ],
             [
              0.3333333333333333,
              "#9c179e"
             ],
             [
              0.4444444444444444,
              "#bd3786"
             ],
             [
              0.5555555555555556,
              "#d8576b"
             ],
             [
              0.6666666666666666,
              "#ed7953"
             ],
             [
              0.7777777777777778,
              "#fb9f3a"
             ],
             [
              0.8888888888888888,
              "#fdca26"
             ],
             [
              1,
              "#f0f921"
             ]
            ],
            "type": "contour"
           }
          ],
          "contourcarpet": [
           {
            "colorbar": {
             "outlinewidth": 0,
             "ticks": ""
            },
            "type": "contourcarpet"
           }
          ],
          "heatmap": [
           {
            "colorbar": {
             "outlinewidth": 0,
             "ticks": ""
            },
            "colorscale": [
             [
              0,
              "#0d0887"
             ],
             [
              0.1111111111111111,
              "#46039f"
             ],
             [
              0.2222222222222222,
              "#7201a8"
             ],
             [
              0.3333333333333333,
              "#9c179e"
             ],
             [
              0.4444444444444444,
              "#bd3786"
             ],
             [
              0.5555555555555556,
              "#d8576b"
             ],
             [
              0.6666666666666666,
              "#ed7953"
             ],
             [
              0.7777777777777778,
              "#fb9f3a"
             ],
             [
              0.8888888888888888,
              "#fdca26"
             ],
             [
              1,
              "#f0f921"
             ]
            ],
            "type": "heatmap"
           }
          ],
          "heatmapgl": [
           {
            "colorbar": {
             "outlinewidth": 0,
             "ticks": ""
            },
            "colorscale": [
             [
              0,
              "#0d0887"
             ],
             [
              0.1111111111111111,
              "#46039f"
             ],
             [
              0.2222222222222222,
              "#7201a8"
             ],
             [
              0.3333333333333333,
              "#9c179e"
             ],
             [
              0.4444444444444444,
              "#bd3786"
             ],
             [
              0.5555555555555556,
              "#d8576b"
             ],
             [
              0.6666666666666666,
              "#ed7953"
             ],
             [
              0.7777777777777778,
              "#fb9f3a"
             ],
             [
              0.8888888888888888,
              "#fdca26"
             ],
             [
              1,
              "#f0f921"
             ]
            ],
            "type": "heatmapgl"
           }
          ],
          "histogram": [
           {
            "marker": {
             "pattern": {
              "fillmode": "overlay",
              "size": 10,
              "solidity": 0.2
             }
            },
            "type": "histogram"
           }
          ],
          "histogram2d": [
           {
            "colorbar": {
             "outlinewidth": 0,
             "ticks": ""
            },
            "colorscale": [
             [
              0,
              "#0d0887"
             ],
             [
              0.1111111111111111,
              "#46039f"
             ],
             [
              0.2222222222222222,
              "#7201a8"
             ],
             [
              0.3333333333333333,
              "#9c179e"
             ],
             [
              0.4444444444444444,
              "#bd3786"
             ],
             [
              0.5555555555555556,
              "#d8576b"
             ],
             [
              0.6666666666666666,
              "#ed7953"
             ],
             [
              0.7777777777777778,
              "#fb9f3a"
             ],
             [
              0.8888888888888888,
              "#fdca26"
             ],
             [
              1,
              "#f0f921"
             ]
            ],
            "type": "histogram2d"
           }
          ],
          "histogram2dcontour": [
           {
            "colorbar": {
             "outlinewidth": 0,
             "ticks": ""
            },
            "colorscale": [
             [
              0,
              "#0d0887"
             ],
             [
              0.1111111111111111,
              "#46039f"
             ],
             [
              0.2222222222222222,
              "#7201a8"
             ],
             [
              0.3333333333333333,
              "#9c179e"
             ],
             [
              0.4444444444444444,
              "#bd3786"
             ],
             [
              0.5555555555555556,
              "#d8576b"
             ],
             [
              0.6666666666666666,
              "#ed7953"
             ],
             [
              0.7777777777777778,
              "#fb9f3a"
             ],
             [
              0.8888888888888888,
              "#fdca26"
             ],
             [
              1,
              "#f0f921"
             ]
            ],
            "type": "histogram2dcontour"
           }
          ],
          "mesh3d": [
           {
            "colorbar": {
             "outlinewidth": 0,
             "ticks": ""
            },
            "type": "mesh3d"
           }
          ],
          "parcoords": [
           {
            "line": {
             "colorbar": {
              "outlinewidth": 0,
              "ticks": ""
             }
            },
            "type": "parcoords"
           }
          ],
          "pie": [
           {
            "automargin": true,
            "type": "pie"
           }
          ],
          "scatter": [
           {
            "fillpattern": {
             "fillmode": "overlay",
             "size": 10,
             "solidity": 0.2
            },
            "type": "scatter"
           }
          ],
          "scatter3d": [
           {
            "line": {
             "colorbar": {
              "outlinewidth": 0,
              "ticks": ""
             }
            },
            "marker": {
             "colorbar": {
              "outlinewidth": 0,
              "ticks": ""
             }
            },
            "type": "scatter3d"
           }
          ],
          "scattercarpet": [
           {
            "marker": {
             "colorbar": {
              "outlinewidth": 0,
              "ticks": ""
             }
            },
            "type": "scattercarpet"
           }
          ],
          "scattergeo": [
           {
            "marker": {
             "colorbar": {
              "outlinewidth": 0,
              "ticks": ""
             }
            },
            "type": "scattergeo"
           }
          ],
          "scattergl": [
           {
            "marker": {
             "colorbar": {
              "outlinewidth": 0,
              "ticks": ""
             }
            },
            "type": "scattergl"
           }
          ],
          "scattermapbox": [
           {
            "marker": {
             "colorbar": {
              "outlinewidth": 0,
              "ticks": ""
             }
            },
            "type": "scattermapbox"
           }
          ],
          "scatterpolar": [
           {
            "marker": {
             "colorbar": {
              "outlinewidth": 0,
              "ticks": ""
             }
            },
            "type": "scatterpolar"
           }
          ],
          "scatterpolargl": [
           {
            "marker": {
             "colorbar": {
              "outlinewidth": 0,
              "ticks": ""
             }
            },
            "type": "scatterpolargl"
           }
          ],
          "scatterternary": [
           {
            "marker": {
             "colorbar": {
              "outlinewidth": 0,
              "ticks": ""
             }
            },
            "type": "scatterternary"
           }
          ],
          "surface": [
           {
            "colorbar": {
             "outlinewidth": 0,
             "ticks": ""
            },
            "colorscale": [
             [
              0,
              "#0d0887"
             ],
             [
              0.1111111111111111,
              "#46039f"
             ],
             [
              0.2222222222222222,
              "#7201a8"
             ],
             [
              0.3333333333333333,
              "#9c179e"
             ],
             [
              0.4444444444444444,
              "#bd3786"
             ],
             [
              0.5555555555555556,
              "#d8576b"
             ],
             [
              0.6666666666666666,
              "#ed7953"
             ],
             [
              0.7777777777777778,
              "#fb9f3a"
             ],
             [
              0.8888888888888888,
              "#fdca26"
             ],
             [
              1,
              "#f0f921"
             ]
            ],
            "type": "surface"
           }
          ],
          "table": [
           {
            "cells": {
             "fill": {
              "color": "#EBF0F8"
             },
             "line": {
              "color": "white"
             }
            },
            "header": {
             "fill": {
              "color": "#C8D4E3"
             },
             "line": {
              "color": "white"
             }
            },
            "type": "table"
           }
          ]
         },
         "layout": {
          "annotationdefaults": {
           "arrowcolor": "#2a3f5f",
           "arrowhead": 0,
           "arrowwidth": 1
          },
          "autotypenumbers": "strict",
          "coloraxis": {
           "colorbar": {
            "outlinewidth": 0,
            "ticks": ""
           }
          },
          "colorscale": {
           "diverging": [
            [
             0,
             "#8e0152"
            ],
            [
             0.1,
             "#c51b7d"
            ],
            [
             0.2,
             "#de77ae"
            ],
            [
             0.3,
             "#f1b6da"
            ],
            [
             0.4,
             "#fde0ef"
            ],
            [
             0.5,
             "#f7f7f7"
            ],
            [
             0.6,
             "#e6f5d0"
            ],
            [
             0.7,
             "#b8e186"
            ],
            [
             0.8,
             "#7fbc41"
            ],
            [
             0.9,
             "#4d9221"
            ],
            [
             1,
             "#276419"
            ]
           ],
           "sequential": [
            [
             0,
             "#0d0887"
            ],
            [
             0.1111111111111111,
             "#46039f"
            ],
            [
             0.2222222222222222,
             "#7201a8"
            ],
            [
             0.3333333333333333,
             "#9c179e"
            ],
            [
             0.4444444444444444,
             "#bd3786"
            ],
            [
             0.5555555555555556,
             "#d8576b"
            ],
            [
             0.6666666666666666,
             "#ed7953"
            ],
            [
             0.7777777777777778,
             "#fb9f3a"
            ],
            [
             0.8888888888888888,
             "#fdca26"
            ],
            [
             1,
             "#f0f921"
            ]
           ],
           "sequentialminus": [
            [
             0,
             "#0d0887"
            ],
            [
             0.1111111111111111,
             "#46039f"
            ],
            [
             0.2222222222222222,
             "#7201a8"
            ],
            [
             0.3333333333333333,
             "#9c179e"
            ],
            [
             0.4444444444444444,
             "#bd3786"
            ],
            [
             0.5555555555555556,
             "#d8576b"
            ],
            [
             0.6666666666666666,
             "#ed7953"
            ],
            [
             0.7777777777777778,
             "#fb9f3a"
            ],
            [
             0.8888888888888888,
             "#fdca26"
            ],
            [
             1,
             "#f0f921"
            ]
           ]
          },
          "colorway": [
           "#636efa",
           "#EF553B",
           "#00cc96",
           "#ab63fa",
           "#FFA15A",
           "#19d3f3",
           "#FF6692",
           "#B6E880",
           "#FF97FF",
           "#FECB52"
          ],
          "font": {
           "color": "#2a3f5f"
          },
          "geo": {
           "bgcolor": "white",
           "lakecolor": "white",
           "landcolor": "#E5ECF6",
           "showlakes": true,
           "showland": true,
           "subunitcolor": "white"
          },
          "hoverlabel": {
           "align": "left"
          },
          "hovermode": "closest",
          "mapbox": {
           "style": "light"
          },
          "paper_bgcolor": "white",
          "plot_bgcolor": "#E5ECF6",
          "polar": {
           "angularaxis": {
            "gridcolor": "white",
            "linecolor": "white",
            "ticks": ""
           },
           "bgcolor": "#E5ECF6",
           "radialaxis": {
            "gridcolor": "white",
            "linecolor": "white",
            "ticks": ""
           }
          },
          "scene": {
           "xaxis": {
            "backgroundcolor": "#E5ECF6",
            "gridcolor": "white",
            "gridwidth": 2,
            "linecolor": "white",
            "showbackground": true,
            "ticks": "",
            "zerolinecolor": "white"
           },
           "yaxis": {
            "backgroundcolor": "#E5ECF6",
            "gridcolor": "white",
            "gridwidth": 2,
            "linecolor": "white",
            "showbackground": true,
            "ticks": "",
            "zerolinecolor": "white"
           },
           "zaxis": {
            "backgroundcolor": "#E5ECF6",
            "gridcolor": "white",
            "gridwidth": 2,
            "linecolor": "white",
            "showbackground": true,
            "ticks": "",
            "zerolinecolor": "white"
           }
          },
          "shapedefaults": {
           "line": {
            "color": "#2a3f5f"
           }
          },
          "ternary": {
           "aaxis": {
            "gridcolor": "white",
            "linecolor": "white",
            "ticks": ""
           },
           "baxis": {
            "gridcolor": "white",
            "linecolor": "white",
            "ticks": ""
           },
           "bgcolor": "#E5ECF6",
           "caxis": {
            "gridcolor": "white",
            "linecolor": "white",
            "ticks": ""
           }
          },
          "title": {
           "x": 0.05
          },
          "xaxis": {
           "automargin": true,
           "gridcolor": "white",
           "linecolor": "white",
           "ticks": "",
           "title": {
            "standoff": 15
           },
           "zerolinecolor": "white",
           "zerolinewidth": 2
          },
          "yaxis": {
           "automargin": true,
           "gridcolor": "white",
           "linecolor": "white",
           "ticks": "",
           "title": {
            "standoff": 15
           },
           "zerolinecolor": "white",
           "zerolinewidth": 2
          }
         }
        },
        "title": {
         "text": "<b>In-trip monitoring funnel</b><br><sub>Number of users in each step)</sub>"
        },
        "width": 1300,
        "xaxis": {
         "range": [
          0,
          1.05
         ],
         "visible": false
        },
        "yaxis": {
         "range": [
          0,
          1.06
         ],
         "visible": false
        }
       }
      }
     },
     "metadata": {},
     "output_type": "display_data"
    }
   ],
   "source": [
    "import pandas as pd\n",
    "import plotly.graph_objects as go\n",
    "import numpy as np\n",
    "import os \n",
    "\n",
    "\n",
    "df = df_events # Используем ваш DataFrame df_events\n",
    "\n",
    "df['event_dt_part'] = pd.to_datetime(df['event_dt_part'])\n",
    "\n",
    "# Полный список событий, определяющий возможные узлы\n",
    "event_order = [\n",
    "    'client.intrip_entry.show',\n",
    "    'client.intrip_entry.click.call',\n",
    "    'client.intrip_entry.click.report',\n",
    "    'client.intrip_entry.click.ok',\n",
    "    'client.intrip_report.show',\n",
    "    'client.intrip_ok_button.show', \n",
    "    'client.intrip_report.click',\n",
    "    'client.intrip_report_result.show',\n",
    "    'client.intrip_ok_button.click' \n",
    "]\n",
    "\n",
    "# --- 2. Обработка данных для переходов и подсчетов (СНОВА С разделением общих узлов в названиях) ---\n",
    "\n",
    "df_sorted = df.sort_values(by=['user_id', 'event_dt_part'])\n",
    "df_filtered = df_sorted[df_sorted['event_name'].isin(event_order)].copy()\n",
    "\n",
    "transitions_raw = []\n",
    "\n",
    "for user_id in df_filtered['user_id'].unique():\n",
    "    user_events = df_filtered[df_filtered['user_id'] == user_id].copy() \n",
    "    \n",
    "    current_modified_sequence = [] # Последовательность модифицированных событий для этого пользователя\n",
    "\n",
    "    if not user_events.empty:\n",
    "        first_original_event = user_events.iloc[0]['event_name']\n",
    "        current_modified_sequence.append(first_original_event) \n",
    "        \n",
    "        for i in range(1, len(user_events)):\n",
    "            current_original_event = user_events.iloc[i]['event_name']\n",
    "            previous_original_event = user_events.iloc[i-1]['event_name'] \n",
    "\n",
    "            if current_original_event == previous_original_event:\n",
    "                continue\n",
    "            \n",
    "            modified_current_event_name = current_original_event \n",
    "\n",
    "            if current_original_event == 'client.intrip_ok_button.show':\n",
    "                if previous_original_event == 'client.intrip_entry.click.call':\n",
    "                    modified_current_event_name = 'client.intrip_ok_button.show_from_call'\n",
    "                elif previous_original_event == 'client.intrip_entry.click.ok':\n",
    "                    modified_current_event_name = 'client.intrip_ok_button.show_from_ok'\n",
    "            elif current_original_event == 'client.intrip_ok_button.click':\n",
    "                if len(current_modified_sequence) > 0 and \\\n",
    "                   (current_modified_sequence[-1] == 'client.intrip_ok_button.show_from_call'):\n",
    "                    modified_current_event_name = 'client.intrip_ok_button.click_from_call'\n",
    "                elif len(current_modified_sequence) > 0 and \\\n",
    "                     (current_modified_sequence[-1] == 'client.intrip_ok_button.show_from_ok'):\n",
    "                    modified_current_event_name = 'client.intrip_ok_button.click_from_ok'\n",
    "            \n",
    "            current_modified_sequence.append(modified_current_event_name)\n",
    "\n",
    "    for i in range(len(current_modified_sequence) - 1):\n",
    "        source_modified = current_modified_sequence[i]\n",
    "        target_modified = current_modified_sequence[i+1]\n",
    "        \n",
    "        source_original = source_modified.replace('_from_call', '').replace('_from_ok', '').replace('_click_from_call', '').replace('_click_from_ok', '')\n",
    "        target_original = target_modified.replace('_from_call', '').replace('_from_ok', '').replace('_click_from_call', '').replace('_click_from_ok', '')\n",
    "\n",
    "        is_valid_transition = False\n",
    "        if source_original == 'client.intrip_entry.show' and target_original in ['client.intrip_entry.click.call', 'client.intrip_entry.click.report', 'client.intrip_entry.click.ok']:\n",
    "            is_valid_transition = True\n",
    "        elif source_original == 'client.intrip_entry.click.call' and target_original == 'client.intrip_ok_button.show': \n",
    "            is_valid_transition = True\n",
    "        elif source_original == 'client.intrip_report.show' and target_original == 'client.intrip_report.click':\n",
    "            is_valid_transition = True\n",
    "        elif source_original == 'client.intrip_report.click' and target_original == 'client.intrip_report_result.show':\n",
    "            is_valid_transition = True\n",
    "        elif source_original == 'client.intrip_entry.click.ok' and target_original == 'client.intrip_ok_button.show': \n",
    "            is_valid_transition = True\n",
    "        elif source_original == 'client.intrip_ok_button.show' and target_original == 'client.intrip_ok_button.click': \n",
    "            is_valid_transition = True\n",
    "        elif source_original == 'client.intrip_entry.click.report' and target_original == 'client.intrip_report.show': # Этот переход был пропущен в предыдущем коде\n",
    "            is_valid_transition = True\n",
    "        \n",
    "        if is_valid_transition:\n",
    "            transitions_raw.append({'source': source_modified, 'target': target_modified, 'user_id': user_id})\n",
    "\n",
    "transitions_df = pd.DataFrame(transitions_raw)\n",
    "sankey_data = transitions_df.groupby(['source', 'target']).agg(value=('user_id', 'nunique')).reset_index()\n",
    "\n",
    "if sankey_data.empty:\n",
    "    print(\"Недостаточно данных для построения диаграммы после фильтрации логических переходов.\")\n",
    "    exit()\n",
    "\n",
    "# --- Исправлена логика подсчета количества уникальных пользователей для каждого узла ---\n",
    "node_counts_dict = {}\n",
    "df_original_event_counts = df_filtered.groupby('event_name')['user_id'].nunique().to_dict()\n",
    "\n",
    "# Для всех возможных отображаемых узлов\n",
    "all_possible_display_nodes_for_count = [\n",
    "    'client.intrip_entry.show',\n",
    "    'client.intrip_entry.click.call',\n",
    "    'client.intrip_entry.click.report',\n",
    "    'client.intrip_entry.click.ok',\n",
    "    'client.intrip_report.show',\n",
    "    'client.intrip_ok_button.show_from_call', \n",
    "    'client.intrip_ok_button.show_from_ok',   \n",
    "    'client.intrip_report.click',\n",
    "    'client.intrip_ok_button.click_from_call', \n",
    "    'client.intrip_ok_button.click_from_ok',    \n",
    "    'client.intrip_report_result.show',\n",
    "]\n",
    "\n",
    "for node_name in all_possible_display_nodes_for_count:\n",
    "    original_name = node_name.replace('_from_call', '').replace('_from_ok', '').replace('_click_from_call', '').replace('_click_from_ok', '')\n",
    "    \n",
    "    # Берем количество из df_original_event_counts (т.е. из вашей \"таблицы\")\n",
    "    # Это обеспечит корректность чисел, как в вашей таблице.\n",
    "    node_counts_dict[node_name] = df_original_event_counts.get(original_name, 0)\n",
    "\n",
    "# Убедимся, что Entry Show имеет корректное начальное количество\n",
    "if 'client.intrip_entry.show' not in node_counts_dict:\n",
    "    node_counts_dict['client.intrip_entry.show'] = df_original_event_counts.get('client.intrip_entry.show', 0)\n",
    "\n",
    "# --- НОВАЯ ЧАСТЬ: Рассчитываем общее начальное количество для процентов ---\n",
    "total_initial_users = node_counts_dict.get('client.intrip_entry.show', 0)\n",
    "if total_initial_users == 0:\n",
    "    # Fallback, если Entry Show имеет 0 пользователей, но есть другие\n",
    "    total_initial_users = max(node_counts_dict.values()) if node_counts_dict else 1\n",
    "\n",
    "\n",
    "# --- 3. Настройка пользовательской визуализации ---\n",
    "\n",
    "# Обновленный список всех возможных узлов (включая контекстные дубликаты)\n",
    "# Порядок здесь важен для позиционирования\n",
    "all_display_nodes = [\n",
    "    'client.intrip_entry.show',\n",
    "    'client.intrip_entry.click.call',\n",
    "    'client.intrip_entry.click.report',\n",
    "    'client.intrip_entry.click.ok',\n",
    "    'client.intrip_report.show',\n",
    "    'client.intrip_ok_button.show_from_call', \n",
    "    'client.intrip_ok_button.show_from_ok',   \n",
    "    'client.intrip_report.click',\n",
    "    'client.intrip_ok_button.click_from_call', \n",
    "    'client.intrip_ok_button.click_from_ok',    \n",
    "    'client.intrip_report_result.show', \n",
    "]\n",
    "\n",
    "# Константы для масштабирования высоты узлов\n",
    "MAX_NODE_HEIGHT = 0.12 \n",
    "MIN_NODE_HEIGHT = 0.03 \n",
    "\n",
    "# Найдем максимальное количество пользователей для масштабирования высоты прямоугольников\n",
    "# Используем total_initial_users для этой цели, чтобы масштабирование было последовательным\n",
    "max_users_for_height_scaling = total_initial_users\n",
    "if max_users_for_height_scaling == 0:\n",
    "    max_users_for_height_scaling = max(node_counts_dict.values()) if node_counts_dict else 1\n",
    "\n",
    "\n",
    "# Определим базовые свойства каждого узла (x-положение, y-положение в своей \"полосе\", относительная ширина)\n",
    "base_node_definitions = {\n",
    "    'client.intrip_entry.show':         {'x': 0.1,  'y_lane': 0.5, 'width_factor': 1.0}, \n",
    "    # Колонка 2\n",
    "    'client.intrip_entry.click.call':   {'x': 0.35, 'y_lane': 0.8, 'width_factor': 0.9},\n",
    "    'client.intrip_entry.click.report': {'x': 0.35, 'y_lane': 0.5, 'width_factor': 0.9},\n",
    "    'client.intrip_entry.click.ok':     {'x': 0.35, 'y_lane': 0.2, 'width_factor': 0.9},\n",
    "    # Колонка 3\n",
    "    'client.intrip_report.show':        {'x': 0.6, 'y_lane': 0.5, 'width_factor': 0.8},\n",
    "    'client.intrip_ok_button.show_from_ok':   {'x': 0.6, 'y_lane': 0.2, 'width_factor': 0.8}, \n",
    "    # Колонка 4 (все конечные клики, кроме report_result_show)\n",
    "    'client.intrip_report.click':       {'x': 0.8, 'y_lane': 0.5, 'width_factor': 0.7}, \n",
    "    'client.intrip_ok_button.click_from_ok':   {'x': 0.8, 'y_lane': 0.2, 'width_factor': 0.7},\n",
    "    # НОВАЯ КОЛОНКА 5 для report_result_show\n",
    "    'client.intrip_report_result.show': {'x': 0.95, 'y_lane': 0.35, 'width_factor': 0.6}, \n",
    "}\n",
    "\n",
    "# Рассчитываем конечные свойства узлов (x, y, width, height)\n",
    "node_props = {}\n",
    "for node_name, base_props in base_node_definitions.items():\n",
    "    count = node_counts_dict.get(node_name, 0)\n",
    "    \n",
    "    if count <= 2 and count > 0: \n",
    "        height = MIN_NODE_HEIGHT\n",
    "    elif count == 0: \n",
    "        height = 0.001 \n",
    "    else:\n",
    "        scaled_height = (count / max_users_for_height_scaling) * MAX_NODE_HEIGHT \n",
    "        height = max(MIN_NODE_HEIGHT, scaled_height)\n",
    "    \n",
    "    width = base_props['width_factor'] * 0.18 \n",
    "\n",
    "    node_props[node_name] = {\n",
    "        'x': base_props['x'],\n",
    "        'y': base_props['y_lane'], \n",
    "        'width': width,\n",
    "        'height': height\n",
    "    }\n",
    "\n",
    "short_names_map = {\n",
    "    'client.intrip_entry.show': 'Entry Show',\n",
    "    'client.intrip_entry.click.call': 'Click Call',\n",
    "    'client.intrip_entry.click.report': 'Click Report',\n",
    "    'client.intrip_entry.click.ok': 'Click OK',\n",
    "    'client.intrip_report.show': 'Report Show',\n",
    "    'client.intrip_report.click': 'Report Click',\n",
    "    'client.intrip_report_result.show': 'Report Result Show',\n",
    "    'client.intrip_ok_button.show_from_ok': 'OK Button\\n(OK Path)',\n",
    "    'client.intrip_ok_button.click_from_ok': 'OK Button\\nClick (OK)',\n",
    "}\n",
    "\n",
    "color_scheme = {\n",
    "    'start': 'rgba(173, 216, 230, 0.9)', \n",
    "    'call_path': 'rgba(255, 165, 0, 0.9)', \n",
    "    'report_path': 'rgba(0, 128, 0, 0.9)', \n",
    "    'ok_path': 'rgba(128, 0, 128, 0.9)', \n",
    "    'border_color': 'black' \n",
    "}\n",
    "\n",
    "image_paths = {\n",
    "    'client.intrip_entry.show': 'images/entry_show.png',\n",
    "    'client.intrip_entry.click.call': 'images/click_call.png',\n",
    "    'client.intrip_entry.click.report': 'images/click_report.png',\n",
    "    'client.intrip_entry.click.ok': 'images/click_ok.png',\n",
    "    'client.intrip_report.show': 'images/report_show.png',\n",
    "    'client.intrip_ok_button.show_from_call': 'images/ok_button_show_call.png', \n",
    "    'client.intrip_ok_button.show_from_ok': 'images/ok_button_show_ok.png',     \n",
    "    'client.intrip_report.click': 'images/report_click.png',\n",
    "    'client.intrip_report_result.show': 'images/report_result_show.png',\n",
    "    'client.intrip_ok_button.click_from_call': 'images/ok_button_click_call.png', \n",
    "    'client.intrip_ok_button.click_from_ok': 'images/ok_button_click_ok.png'      \n",
    "}\n",
    "\n",
    "\n",
    "# --- 4. Построение пользовательской диаграммы ---\n",
    "\n",
    "fig = go.Figure()\n",
    "\n",
    "for node_name in all_display_nodes: \n",
    "    current_count = node_counts_dict.get(node_name, 0)\n",
    "    # Показываем узел, если он определен в node_props И его количество > 0\n",
    "    # ИЛИ если вы хотите показывать ВСЕ узлы, даже с 0, измените `and current_count > 0` на `or True`\n",
    "    if node_name in node_props and current_count > 0: \n",
    "        props = node_props[node_name]\n",
    "        \n",
    "        draw_rect = props['height'] > 0.005 \n",
    "\n",
    "        x0 = props['x'] - props['width']/2\n",
    "        x1 = props['x'] + props['width']/2\n",
    "        y0 = props['y'] - props['height']/2\n",
    "        y1 = props['y'] + props['height']/2\n",
    "\n",
    "        node_color = 'lightgrey' \n",
    "        if node_name == 'client.intrip_entry.show':\n",
    "            node_color = color_scheme['start']\n",
    "        elif node_name == 'client.intrip_entry.click.call': \n",
    "            node_color = color_scheme['call_path']\n",
    "        elif node_name == 'client.intrip_entry.click.report' or node_name == 'client.intrip_report.show' or node_name == 'client.intrip_report.click' or node_name == 'client.intrip_report_result.show':\n",
    "            node_color = color_scheme['report_path']\n",
    "        elif node_name == 'client.intrip_entry.click.ok': \n",
    "            node_color = color_scheme['ok_path']\n",
    "        elif '_from_call' in node_name: \n",
    "            node_color = color_scheme['call_path']\n",
    "        elif '_from_ok' in node_name: \n",
    "            node_color = color_scheme['ok_path']\n",
    "            \n",
    "        if draw_rect: \n",
    "            fig.add_shape(\n",
    "                type=\"rect\",\n",
    "                x0=x0, y0=y0, x1=x1, y1=y1,\n",
    "                fillcolor=node_color,\n",
    "                line=dict(color=color_scheme['border_color'], width=1.5), \n",
    "                layer=\"below\"\n",
    "            )\n",
    "        \n",
    "        # --- ФОРМАТИРОВАНИЕ ТЕКСТА МЕТКИ С ПРОЦЕНТАМИ ---\n",
    "        display_name = short_names_map.get(node_name, node_name)\n",
    "        \n",
    "        # Рассчитываем процент для отображения\n",
    "        percentage = (current_count / total_initial_users) * 100 if total_initial_users > 0 else 0\n",
    "        \n",
    "        fig.add_annotation(\n",
    "            x=props['x'],\n",
    "            y=props['y'] + props['height']/2 + 0.02, \n",
    "            text=f\"<b>{display_name}</b><br>({current_count}, {percentage:.0f}%)\", # Формат (321, 13%)\n",
    "            showarrow=False,\n",
    "            font=dict(\n",
    "                size=15,        \n",
    "                color=\"black\",\n",
    "                family=\"Arial\"  \n",
    "            ), \n",
    "            xanchor=\"center\",\n",
    "            yanchor=\"bottom\" \n",
    "        )\n",
    "\n",
    "        if node_name in image_paths and os.path.exists(image_paths[node_name]):\n",
    "            img_x_center = props['x']\n",
    "            img_area_height = 0.1 \n",
    "            \n",
    "            img_y_center = props['y'] - props['height']/2 - img_area_height/2 - 0.02 \n",
    "            \n",
    "            img_width_actual = props['width'] * 0.9 \n",
    "            img_height_actual = img_width_actual \n",
    "\n",
    "            fig.add_layout_image(\n",
    "                dict(\n",
    "                    source=image_paths[node_name],\n",
    "                    xref=\"x\", yref=\"y\",\n",
    "                    x=img_x_center - img_width_actual/2, \n",
    "                    y=img_y_center + img_height_actual/2, \n",
    "                    sizex=img_width_actual,\n",
    "                    sizey=img_height_actual,\n",
    "                    sizing=\"contain\", \n",
    "                    opacity=1,\n",
    "                    layer=\"below\"\n",
    "                )\n",
    "            )\n",
    "\n",
    "fixed_arrow_size = 0.015 \n",
    "min_line_width = 1.0 \n",
    "max_line_scaling_value = max(sankey_data['value']) if not sankey_data.empty else 100 \n",
    "max_target_line_width_pixels = 10 \n",
    "\n",
    "for _, row in sankey_data.iterrows():\n",
    "    source_name = row['source']\n",
    "    target_name = row['target']\n",
    "    value = row['value']\n",
    "\n",
    "    if source_name in node_props and node_counts_dict.get(source_name, 0) > 0 and \\\n",
    "       target_name in node_props and node_counts_dict.get(target_name, 0) > 0: \n",
    "        \n",
    "        source_props = node_props[source_name]\n",
    "        target_props = node_props[target_name]\n",
    "\n",
    "        x_start = source_props['x'] + source_props['width']/2\n",
    "        y_start = source_props['y']\n",
    "\n",
    "        x_end = target_props['x'] - target_props['width']/2\n",
    "        y_end = target_props['y']\n",
    "        \n",
    "        link_color_rgba = 'rgba(173, 216, 230, 0.3)' \n",
    "        if 'call' in source_name or 'call' in target_name: \n",
    "            link_color_rgba = color_scheme['call_path'].replace('0.9', '0.3')\n",
    "        elif 'report' in source_name or 'report' in target_name: \n",
    "            link_color_rgba = color_scheme['report_path'].replace('0.9', '0.3')\n",
    "        elif 'ok' in source_name or 'ok' in target_name: \n",
    "            link_color_rgba = color_scheme['ok_path'].replace('0.9', '0.3')\n",
    "\n",
    "\n",
    "        line_width=4\n",
    "\n",
    "\n",
    "        fig.add_trace(go.Scatter(\n",
    "            x=[x_start, x_end],\n",
    "            y=[y_start, y_end],\n",
    "            mode='lines',\n",
    "            line=dict(\n",
    "                width=line_width, \n",
    "                color=link_color_rgba\n",
    "            ),\n",
    "            hoverinfo='text',\n",
    "            text=f\"From: {short_names_map.get(source_name, source_name)}<br>To: {short_names_map.get(target_name, target_name)}<br>Users: {value}\",\n",
    "            showlegend=False\n",
    "        ))\n",
    "        \n",
    "\n",
    "\n",
    "fig.update_layout(\n",
    "    title_text=\"<b>In-trip monitoring funnel</b><br><sub>Number of users in each step)</sub>\",\n",
    "    font=dict(\n",
    "        size=14,        \n",
    "        color=\"darkblue\", \n",
    "        family=\"Verdana\" \n",
    "    ),\n",
    "    xaxis=dict(\n",
    "        visible=False, \n",
    "        range=[0, 1.05] \n",
    "    ),\n",
    "    yaxis=dict(\n",
    "        visible=False, \n",
    "        range=[0, 1.0 + MAX_NODE_HEIGHT/2] \n",
    "    ),\n",
    "    plot_bgcolor='white', \n",
    "    showlegend=False,\n",
    "    width=1300, \n",
    "    height=800, \n",
    "    margin=dict(l=20, r=20, t=80, b=20) \n",
    ")\n",
    "\n",
    "fig.show()"
   ]
  },
  {
   "cell_type": "code",
   "execution_count": 90,
   "id": "c0d9ff55",
   "metadata": {},
   "outputs": [
    {
     "data": {
      "application/vnd.plotly.v1+json": {
       "config": {
        "plotlyServerURL": "https://plot.ly"
       },
       "data": [
        {
         "hoverinfo": "text",
         "line": {
          "color": "rgba(128, 0, 128, 0.3)",
          "width": 4
         },
         "mode": "lines",
         "showlegend": false,
         "text": "From: Click OK<br>To: OK Button\n(OK Path)<br>Users: 121",
         "type": "scatter",
         "x": [
          0.431,
          0.528
         ],
         "y": [
          0.2,
          0.2
         ]
        },
        {
         "hoverinfo": "text",
         "line": {
          "color": "rgba(0, 128, 0, 0.3)",
          "width": 4
         },
         "mode": "lines",
         "showlegend": false,
         "text": "From: Click Report<br>To: Report Show<br>Users: 9",
         "type": "scatter",
         "x": [
          0.431,
          0.528
         ],
         "y": [
          0.5,
          0.5
         ]
        },
        {
         "hoverinfo": "text",
         "line": {
          "color": "rgba(255, 165, 0, 0.3)",
          "width": 4
         },
         "mode": "lines",
         "showlegend": false,
         "text": "From: Entry Show<br>To: Click Call<br>Users: 1",
         "type": "scatter",
         "x": [
          0.19,
          0.26899999999999996
         ],
         "y": [
          0.5,
          0.8
         ]
        },
        {
         "hoverinfo": "text",
         "line": {
          "color": "rgba(128, 0, 128, 0.3)",
          "width": 4
         },
         "mode": "lines",
         "showlegend": false,
         "text": "From: Entry Show<br>To: Click OK<br>Users: 92",
         "type": "scatter",
         "x": [
          0.19,
          0.26899999999999996
         ],
         "y": [
          0.5,
          0.2
         ]
        },
        {
         "hoverinfo": "text",
         "line": {
          "color": "rgba(0, 128, 0, 0.3)",
          "width": 4
         },
         "mode": "lines",
         "showlegend": false,
         "text": "From: Entry Show<br>To: Click Report<br>Users: 3",
         "type": "scatter",
         "x": [
          0.19,
          0.26899999999999996
         ],
         "y": [
          0.5,
          0.5
         ]
        },
        {
         "hoverinfo": "text",
         "line": {
          "color": "rgba(128, 0, 128, 0.3)",
          "width": 4
         },
         "mode": "lines",
         "showlegend": false,
         "text": "From: OK Button\n(OK Path)<br>To: OK Button\nClick (OK)<br>Users: 28",
         "type": "scatter",
         "x": [
          0.6719999999999999,
          0.7370000000000001
         ],
         "y": [
          0.2,
          0.2
         ]
        }
       ],
       "layout": {
        "annotations": [
         {
          "font": {
           "color": "black",
           "family": "Arial",
           "size": 15
          },
          "showarrow": false,
          "text": "<b>Entry Show</b><br>(891, 100%)",
          "x": 0.1,
          "xanchor": "center",
          "y": 0.5800000000000001,
          "yanchor": "bottom"
         },
         {
          "font": {
           "color": "black",
           "family": "Arial",
           "size": 15
          },
          "showarrow": false,
          "text": "<b>Click Call</b><br>(3, 0%)",
          "x": 0.35,
          "xanchor": "center",
          "y": 0.8350000000000001,
          "yanchor": "bottom"
         },
         {
          "font": {
           "color": "black",
           "family": "Arial",
           "size": 15
          },
          "showarrow": false,
          "text": "<b>Click Report</b><br>(19, 2%)",
          "x": 0.35,
          "xanchor": "center",
          "y": 0.535,
          "yanchor": "bottom"
         },
         {
          "font": {
           "color": "black",
           "family": "Arial",
           "size": 15
          },
          "showarrow": false,
          "text": "<b>Click OK</b><br>(392, 44%)",
          "x": 0.35,
          "xanchor": "center",
          "y": 0.2463973063973064,
          "yanchor": "bottom"
         },
         {
          "font": {
           "color": "black",
           "family": "Arial",
           "size": 15
          },
          "showarrow": false,
          "text": "<b>Report Show</b><br>(19, 100%)",
          "x": 0.6,
          "xanchor": "center",
          "y": 0.535,
          "yanchor": "bottom"
         },
         {
          "font": {
           "color": "black",
           "family": "Arial",
           "size": 15
          },
          "showarrow": false,
          "text": "<b>OK Button\n(OK Path)</b><br>(387, 99%)",
          "x": 0.6,
          "xanchor": "center",
          "y": 0.24606060606060606,
          "yanchor": "bottom"
         },
         {
          "font": {
           "color": "black",
           "family": "Arial",
           "size": 15
          },
          "showarrow": false,
          "text": "<b>Report Click</b><br>(2, 11%)",
          "x": 0.8,
          "xanchor": "center",
          "y": 0.535,
          "yanchor": "bottom"
         },
         {
          "font": {
           "color": "black",
           "family": "Arial",
           "size": 15
          },
          "showarrow": false,
          "text": "<b>OK Button\nClick (OK)</b><br>(329, 85%)",
          "x": 0.8,
          "xanchor": "center",
          "y": 0.24215488215488215,
          "yanchor": "bottom"
         },
         {
          "font": {
           "color": "black",
           "family": "Arial",
           "size": 15
          },
          "showarrow": false,
          "text": "<b>Report Result Show</b><br>(1, 50%)",
          "x": 0.95,
          "xanchor": "center",
          "y": 0.385,
          "yanchor": "bottom"
         }
        ],
        "font": {
         "color": "darkblue",
         "family": "Verdana",
         "size": 17
        },
        "height": 800,
        "margin": {
         "b": 20,
         "l": 20,
         "r": 20,
         "t": 80
        },
        "plot_bgcolor": "white",
        "shapes": [
         {
          "fillcolor": "rgba(173, 216, 230, 0.9)",
          "layer": "below",
          "line": {
           "color": "black",
           "width": 1.5
          },
          "type": "rect",
          "x0": 0.010000000000000009,
          "x1": 0.19,
          "y0": 0.44,
          "y1": 0.56
         },
         {
          "fillcolor": "rgba(255, 165, 0, 0.9)",
          "layer": "below",
          "line": {
           "color": "black",
           "width": 1.5
          },
          "type": "rect",
          "x0": 0.26899999999999996,
          "x1": 0.431,
          "y0": 0.785,
          "y1": 0.8150000000000001
         },
         {
          "fillcolor": "rgba(0, 128, 0, 0.9)",
          "layer": "below",
          "line": {
           "color": "black",
           "width": 1.5
          },
          "type": "rect",
          "x0": 0.26899999999999996,
          "x1": 0.431,
          "y0": 0.485,
          "y1": 0.515
         },
         {
          "fillcolor": "rgba(128, 0, 128, 0.9)",
          "layer": "below",
          "line": {
           "color": "black",
           "width": 1.5
          },
          "type": "rect",
          "x0": 0.26899999999999996,
          "x1": 0.431,
          "y0": 0.17360269360269362,
          "y1": 0.2263973063973064
         },
         {
          "fillcolor": "rgba(0, 128, 0, 0.9)",
          "layer": "below",
          "line": {
           "color": "black",
           "width": 1.5
          },
          "type": "rect",
          "x0": 0.528,
          "x1": 0.6719999999999999,
          "y0": 0.485,
          "y1": 0.515
         },
         {
          "fillcolor": "rgba(128, 0, 128, 0.9)",
          "layer": "below",
          "line": {
           "color": "black",
           "width": 1.5
          },
          "type": "rect",
          "x0": 0.528,
          "x1": 0.6719999999999999,
          "y0": 0.17393939393939395,
          "y1": 0.22606060606060607
         },
         {
          "fillcolor": "rgba(0, 128, 0, 0.9)",
          "layer": "below",
          "line": {
           "color": "black",
           "width": 1.5
          },
          "type": "rect",
          "x0": 0.7370000000000001,
          "x1": 0.863,
          "y0": 0.485,
          "y1": 0.515
         },
         {
          "fillcolor": "rgba(128, 0, 128, 0.9)",
          "layer": "below",
          "line": {
           "color": "black",
           "width": 1.5
          },
          "type": "rect",
          "x0": 0.7370000000000001,
          "x1": 0.863,
          "y0": 0.17784511784511786,
          "y1": 0.22215488215488216
         },
         {
          "fillcolor": "rgba(0, 128, 0, 0.9)",
          "layer": "below",
          "line": {
           "color": "black",
           "width": 1.5
          },
          "type": "rect",
          "x0": 0.8959999999999999,
          "x1": 1.004,
          "y0": 0.33499999999999996,
          "y1": 0.365
         }
        ],
        "showlegend": false,
        "template": {
         "data": {
          "bar": [
           {
            "error_x": {
             "color": "#2a3f5f"
            },
            "error_y": {
             "color": "#2a3f5f"
            },
            "marker": {
             "line": {
              "color": "#E5ECF6",
              "width": 0.5
             },
             "pattern": {
              "fillmode": "overlay",
              "size": 10,
              "solidity": 0.2
             }
            },
            "type": "bar"
           }
          ],
          "barpolar": [
           {
            "marker": {
             "line": {
              "color": "#E5ECF6",
              "width": 0.5
             },
             "pattern": {
              "fillmode": "overlay",
              "size": 10,
              "solidity": 0.2
             }
            },
            "type": "barpolar"
           }
          ],
          "carpet": [
           {
            "aaxis": {
             "endlinecolor": "#2a3f5f",
             "gridcolor": "white",
             "linecolor": "white",
             "minorgridcolor": "white",
             "startlinecolor": "#2a3f5f"
            },
            "baxis": {
             "endlinecolor": "#2a3f5f",
             "gridcolor": "white",
             "linecolor": "white",
             "minorgridcolor": "white",
             "startlinecolor": "#2a3f5f"
            },
            "type": "carpet"
           }
          ],
          "choropleth": [
           {
            "colorbar": {
             "outlinewidth": 0,
             "ticks": ""
            },
            "type": "choropleth"
           }
          ],
          "contour": [
           {
            "colorbar": {
             "outlinewidth": 0,
             "ticks": ""
            },
            "colorscale": [
             [
              0,
              "#0d0887"
             ],
             [
              0.1111111111111111,
              "#46039f"
             ],
             [
              0.2222222222222222,
              "#7201a8"
             ],
             [
              0.3333333333333333,
              "#9c179e"
             ],
             [
              0.4444444444444444,
              "#bd3786"
             ],
             [
              0.5555555555555556,
              "#d8576b"
             ],
             [
              0.6666666666666666,
              "#ed7953"
             ],
             [
              0.7777777777777778,
              "#fb9f3a"
             ],
             [
              0.8888888888888888,
              "#fdca26"
             ],
             [
              1,
              "#f0f921"
             ]
            ],
            "type": "contour"
           }
          ],
          "contourcarpet": [
           {
            "colorbar": {
             "outlinewidth": 0,
             "ticks": ""
            },
            "type": "contourcarpet"
           }
          ],
          "heatmap": [
           {
            "colorbar": {
             "outlinewidth": 0,
             "ticks": ""
            },
            "colorscale": [
             [
              0,
              "#0d0887"
             ],
             [
              0.1111111111111111,
              "#46039f"
             ],
             [
              0.2222222222222222,
              "#7201a8"
             ],
             [
              0.3333333333333333,
              "#9c179e"
             ],
             [
              0.4444444444444444,
              "#bd3786"
             ],
             [
              0.5555555555555556,
              "#d8576b"
             ],
             [
              0.6666666666666666,
              "#ed7953"
             ],
             [
              0.7777777777777778,
              "#fb9f3a"
             ],
             [
              0.8888888888888888,
              "#fdca26"
             ],
             [
              1,
              "#f0f921"
             ]
            ],
            "type": "heatmap"
           }
          ],
          "heatmapgl": [
           {
            "colorbar": {
             "outlinewidth": 0,
             "ticks": ""
            },
            "colorscale": [
             [
              0,
              "#0d0887"
             ],
             [
              0.1111111111111111,
              "#46039f"
             ],
             [
              0.2222222222222222,
              "#7201a8"
             ],
             [
              0.3333333333333333,
              "#9c179e"
             ],
             [
              0.4444444444444444,
              "#bd3786"
             ],
             [
              0.5555555555555556,
              "#d8576b"
             ],
             [
              0.6666666666666666,
              "#ed7953"
             ],
             [
              0.7777777777777778,
              "#fb9f3a"
             ],
             [
              0.8888888888888888,
              "#fdca26"
             ],
             [
              1,
              "#f0f921"
             ]
            ],
            "type": "heatmapgl"
           }
          ],
          "histogram": [
           {
            "marker": {
             "pattern": {
              "fillmode": "overlay",
              "size": 10,
              "solidity": 0.2
             }
            },
            "type": "histogram"
           }
          ],
          "histogram2d": [
           {
            "colorbar": {
             "outlinewidth": 0,
             "ticks": ""
            },
            "colorscale": [
             [
              0,
              "#0d0887"
             ],
             [
              0.1111111111111111,
              "#46039f"
             ],
             [
              0.2222222222222222,
              "#7201a8"
             ],
             [
              0.3333333333333333,
              "#9c179e"
             ],
             [
              0.4444444444444444,
              "#bd3786"
             ],
             [
              0.5555555555555556,
              "#d8576b"
             ],
             [
              0.6666666666666666,
              "#ed7953"
             ],
             [
              0.7777777777777778,
              "#fb9f3a"
             ],
             [
              0.8888888888888888,
              "#fdca26"
             ],
             [
              1,
              "#f0f921"
             ]
            ],
            "type": "histogram2d"
           }
          ],
          "histogram2dcontour": [
           {
            "colorbar": {
             "outlinewidth": 0,
             "ticks": ""
            },
            "colorscale": [
             [
              0,
              "#0d0887"
             ],
             [
              0.1111111111111111,
              "#46039f"
             ],
             [
              0.2222222222222222,
              "#7201a8"
             ],
             [
              0.3333333333333333,
              "#9c179e"
             ],
             [
              0.4444444444444444,
              "#bd3786"
             ],
             [
              0.5555555555555556,
              "#d8576b"
             ],
             [
              0.6666666666666666,
              "#ed7953"
             ],
             [
              0.7777777777777778,
              "#fb9f3a"
             ],
             [
              0.8888888888888888,
              "#fdca26"
             ],
             [
              1,
              "#f0f921"
             ]
            ],
            "type": "histogram2dcontour"
           }
          ],
          "mesh3d": [
           {
            "colorbar": {
             "outlinewidth": 0,
             "ticks": ""
            },
            "type": "mesh3d"
           }
          ],
          "parcoords": [
           {
            "line": {
             "colorbar": {
              "outlinewidth": 0,
              "ticks": ""
             }
            },
            "type": "parcoords"
           }
          ],
          "pie": [
           {
            "automargin": true,
            "type": "pie"
           }
          ],
          "scatter": [
           {
            "fillpattern": {
             "fillmode": "overlay",
             "size": 10,
             "solidity": 0.2
            },
            "type": "scatter"
           }
          ],
          "scatter3d": [
           {
            "line": {
             "colorbar": {
              "outlinewidth": 0,
              "ticks": ""
             }
            },
            "marker": {
             "colorbar": {
              "outlinewidth": 0,
              "ticks": ""
             }
            },
            "type": "scatter3d"
           }
          ],
          "scattercarpet": [
           {
            "marker": {
             "colorbar": {
              "outlinewidth": 0,
              "ticks": ""
             }
            },
            "type": "scattercarpet"
           }
          ],
          "scattergeo": [
           {
            "marker": {
             "colorbar": {
              "outlinewidth": 0,
              "ticks": ""
             }
            },
            "type": "scattergeo"
           }
          ],
          "scattergl": [
           {
            "marker": {
             "colorbar": {
              "outlinewidth": 0,
              "ticks": ""
             }
            },
            "type": "scattergl"
           }
          ],
          "scattermapbox": [
           {
            "marker": {
             "colorbar": {
              "outlinewidth": 0,
              "ticks": ""
             }
            },
            "type": "scattermapbox"
           }
          ],
          "scatterpolar": [
           {
            "marker": {
             "colorbar": {
              "outlinewidth": 0,
              "ticks": ""
             }
            },
            "type": "scatterpolar"
           }
          ],
          "scatterpolargl": [
           {
            "marker": {
             "colorbar": {
              "outlinewidth": 0,
              "ticks": ""
             }
            },
            "type": "scatterpolargl"
           }
          ],
          "scatterternary": [
           {
            "marker": {
             "colorbar": {
              "outlinewidth": 0,
              "ticks": ""
             }
            },
            "type": "scatterternary"
           }
          ],
          "surface": [
           {
            "colorbar": {
             "outlinewidth": 0,
             "ticks": ""
            },
            "colorscale": [
             [
              0,
              "#0d0887"
             ],
             [
              0.1111111111111111,
              "#46039f"
             ],
             [
              0.2222222222222222,
              "#7201a8"
             ],
             [
              0.3333333333333333,
              "#9c179e"
             ],
             [
              0.4444444444444444,
              "#bd3786"
             ],
             [
              0.5555555555555556,
              "#d8576b"
             ],
             [
              0.6666666666666666,
              "#ed7953"
             ],
             [
              0.7777777777777778,
              "#fb9f3a"
             ],
             [
              0.8888888888888888,
              "#fdca26"
             ],
             [
              1,
              "#f0f921"
             ]
            ],
            "type": "surface"
           }
          ],
          "table": [
           {
            "cells": {
             "fill": {
              "color": "#EBF0F8"
             },
             "line": {
              "color": "white"
             }
            },
            "header": {
             "fill": {
              "color": "#C8D4E3"
             },
             "line": {
              "color": "white"
             }
            },
            "type": "table"
           }
          ]
         },
         "layout": {
          "annotationdefaults": {
           "arrowcolor": "#2a3f5f",
           "arrowhead": 0,
           "arrowwidth": 1
          },
          "autotypenumbers": "strict",
          "coloraxis": {
           "colorbar": {
            "outlinewidth": 0,
            "ticks": ""
           }
          },
          "colorscale": {
           "diverging": [
            [
             0,
             "#8e0152"
            ],
            [
             0.1,
             "#c51b7d"
            ],
            [
             0.2,
             "#de77ae"
            ],
            [
             0.3,
             "#f1b6da"
            ],
            [
             0.4,
             "#fde0ef"
            ],
            [
             0.5,
             "#f7f7f7"
            ],
            [
             0.6,
             "#e6f5d0"
            ],
            [
             0.7,
             "#b8e186"
            ],
            [
             0.8,
             "#7fbc41"
            ],
            [
             0.9,
             "#4d9221"
            ],
            [
             1,
             "#276419"
            ]
           ],
           "sequential": [
            [
             0,
             "#0d0887"
            ],
            [
             0.1111111111111111,
             "#46039f"
            ],
            [
             0.2222222222222222,
             "#7201a8"
            ],
            [
             0.3333333333333333,
             "#9c179e"
            ],
            [
             0.4444444444444444,
             "#bd3786"
            ],
            [
             0.5555555555555556,
             "#d8576b"
            ],
            [
             0.6666666666666666,
             "#ed7953"
            ],
            [
             0.7777777777777778,
             "#fb9f3a"
            ],
            [
             0.8888888888888888,
             "#fdca26"
            ],
            [
             1,
             "#f0f921"
            ]
           ],
           "sequentialminus": [
            [
             0,
             "#0d0887"
            ],
            [
             0.1111111111111111,
             "#46039f"
            ],
            [
             0.2222222222222222,
             "#7201a8"
            ],
            [
             0.3333333333333333,
             "#9c179e"
            ],
            [
             0.4444444444444444,
             "#bd3786"
            ],
            [
             0.5555555555555556,
             "#d8576b"
            ],
            [
             0.6666666666666666,
             "#ed7953"
            ],
            [
             0.7777777777777778,
             "#fb9f3a"
            ],
            [
             0.8888888888888888,
             "#fdca26"
            ],
            [
             1,
             "#f0f921"
            ]
           ]
          },
          "colorway": [
           "#636efa",
           "#EF553B",
           "#00cc96",
           "#ab63fa",
           "#FFA15A",
           "#19d3f3",
           "#FF6692",
           "#B6E880",
           "#FF97FF",
           "#FECB52"
          ],
          "font": {
           "color": "#2a3f5f"
          },
          "geo": {
           "bgcolor": "white",
           "lakecolor": "white",
           "landcolor": "#E5ECF6",
           "showlakes": true,
           "showland": true,
           "subunitcolor": "white"
          },
          "hoverlabel": {
           "align": "left"
          },
          "hovermode": "closest",
          "mapbox": {
           "style": "light"
          },
          "paper_bgcolor": "white",
          "plot_bgcolor": "#E5ECF6",
          "polar": {
           "angularaxis": {
            "gridcolor": "white",
            "linecolor": "white",
            "ticks": ""
           },
           "bgcolor": "#E5ECF6",
           "radialaxis": {
            "gridcolor": "white",
            "linecolor": "white",
            "ticks": ""
           }
          },
          "scene": {
           "xaxis": {
            "backgroundcolor": "#E5ECF6",
            "gridcolor": "white",
            "gridwidth": 2,
            "linecolor": "white",
            "showbackground": true,
            "ticks": "",
            "zerolinecolor": "white"
           },
           "yaxis": {
            "backgroundcolor": "#E5ECF6",
            "gridcolor": "white",
            "gridwidth": 2,
            "linecolor": "white",
            "showbackground": true,
            "ticks": "",
            "zerolinecolor": "white"
           },
           "zaxis": {
            "backgroundcolor": "#E5ECF6",
            "gridcolor": "white",
            "gridwidth": 2,
            "linecolor": "white",
            "showbackground": true,
            "ticks": "",
            "zerolinecolor": "white"
           }
          },
          "shapedefaults": {
           "line": {
            "color": "#2a3f5f"
           }
          },
          "ternary": {
           "aaxis": {
            "gridcolor": "white",
            "linecolor": "white",
            "ticks": ""
           },
           "baxis": {
            "gridcolor": "white",
            "linecolor": "white",
            "ticks": ""
           },
           "bgcolor": "#E5ECF6",
           "caxis": {
            "gridcolor": "white",
            "linecolor": "white",
            "ticks": ""
           }
          },
          "title": {
           "x": 0.05
          },
          "xaxis": {
           "automargin": true,
           "gridcolor": "white",
           "linecolor": "white",
           "ticks": "",
           "title": {
            "standoff": 15
           },
           "zerolinecolor": "white",
           "zerolinewidth": 2
          },
          "yaxis": {
           "automargin": true,
           "gridcolor": "white",
           "linecolor": "white",
           "ticks": "",
           "title": {
            "standoff": 15
           },
           "zerolinecolor": "white",
           "zerolinewidth": 2
          }
         }
        },
        "title": {
         "text": "<b>In-trip Monitoring flow funnel</b><br><sub>Number of users in each step)</sub>"
        },
        "width": 1300,
        "xaxis": {
         "range": [
          0,
          1.05
         ],
         "visible": false
        },
        "yaxis": {
         "range": [
          0,
          1.06
         ],
         "visible": false
        }
       }
      }
     },
     "metadata": {},
     "output_type": "display_data"
    }
   ],
   "source": [
    "import pandas as pd\n",
    "import plotly.graph_objects as go\n",
    "import numpy as np\n",
    "import os \n",
    "\n",
    "\n",
    "df = df_events # Используем ваш DataFrame df_events\n",
    "\n",
    "df['event_dt_part'] = pd.to_datetime(df['event_dt_part'])\n",
    "\n",
    "# Полный список событий, определяющий возможные узлы\n",
    "event_order = [\n",
    "    'client.intrip_entry.show',\n",
    "    'client.intrip_entry.click.call',\n",
    "    'client.intrip_entry.click.report',\n",
    "    'client.intrip_entry.click.ok',\n",
    "    'client.intrip_report.show',\n",
    "    'client.intrip_ok_button.show', \n",
    "    'client.intrip_report.click',\n",
    "    'client.intrip_report_result.show',\n",
    "    'client.intrip_ok_button.click' \n",
    "]\n",
    "\n",
    "# --- 2. Обработка данных для переходов и подсчетов (СНОВА С разделением общих узлов в названиях) ---\n",
    "\n",
    "df_sorted = df.sort_values(by=['user_id', 'event_dt_part'])\n",
    "df_filtered = df_sorted[df_sorted['event_name'].isin(event_order)].copy()\n",
    "\n",
    "transitions_raw = []\n",
    "\n",
    "for user_id in df_filtered['user_id'].unique():\n",
    "    user_events = df_filtered[df_filtered['user_id'] == user_id].copy() \n",
    "    \n",
    "    current_modified_sequence = [] # Последовательность модифицированных событий для этого пользователя\n",
    "\n",
    "    if not user_events.empty:\n",
    "        first_original_event = user_events.iloc[0]['event_name']\n",
    "        current_modified_sequence.append(first_original_event) \n",
    "        \n",
    "        for i in range(1, len(user_events)):\n",
    "            current_original_event = user_events.iloc[i]['event_name']\n",
    "            previous_original_event = user_events.iloc[i-1]['event_name'] \n",
    "\n",
    "            if current_original_event == previous_original_event:\n",
    "                continue\n",
    "            \n",
    "            modified_current_event_name = current_original_event \n",
    "\n",
    "            if current_original_event == 'client.intrip_ok_button.show':\n",
    "                if previous_original_event == 'client.intrip_entry.click.call':\n",
    "                    modified_current_event_name = 'client.intrip_ok_button.show_from_call'\n",
    "                elif previous_original_event == 'client.intrip_entry.click.ok':\n",
    "                    modified_current_event_name = 'client.intrip_ok_button.show_from_ok'\n",
    "            elif current_original_event == 'client.intrip_ok_button.click':\n",
    "                if len(current_modified_sequence) > 0 and \\\n",
    "                   (current_modified_sequence[-1] == 'client.intrip_ok_button.show_from_call'):\n",
    "                    modified_current_event_name = 'client.intrip_ok_button.click_from_call'\n",
    "                elif len(current_modified_sequence) > 0 and \\\n",
    "                     (current_modified_sequence[-1] == 'client.intrip_ok_button.show_from_ok'):\n",
    "                    modified_current_event_name = 'client.intrip_ok_button.click_from_ok'\n",
    "            \n",
    "            current_modified_sequence.append(modified_current_event_name)\n",
    "\n",
    "    for i in range(len(current_modified_sequence) - 1):\n",
    "        source_modified = current_modified_sequence[i]\n",
    "        target_modified = current_modified_sequence[i+1]\n",
    "        \n",
    "        source_original = source_modified.replace('_from_call', '').replace('_from_ok', '').replace('_click_from_call', '').replace('_click_from_ok', '')\n",
    "        target_original = target_modified.replace('_from_call', '').replace('_from_ok', '').replace('_click_from_call', '').replace('_click_from_ok', '')\n",
    "\n",
    "        is_valid_transition = False\n",
    "        if source_original == 'client.intrip_entry.show' and target_original in ['client.intrip_entry.click.call', 'client.intrip_entry.click.report', 'client.intrip_entry.click.ok']:\n",
    "            is_valid_transition = True\n",
    "        elif source_original == 'client.intrip_entry.click.call' and target_original == 'client.intrip_ok_button.show': \n",
    "            is_valid_transition = True\n",
    "        elif source_original == 'client.intrip_report.show' and target_original == 'client.intrip_report.click':\n",
    "            is_valid_transition = True\n",
    "        elif source_original == 'client.intrip_report.click' and target_original == 'client.intrip_report_result.show':\n",
    "            is_valid_transition = True\n",
    "        elif source_original == 'client.intrip_entry.click.ok' and target_original == 'client.intrip_ok_button.show': \n",
    "            is_valid_transition = True\n",
    "        elif source_original == 'client.intrip_ok_button.show' and target_original == 'client.intrip_ok_button.click': \n",
    "            is_valid_transition = True\n",
    "        elif source_original == 'client.intrip_entry.click.report' and target_original == 'client.intrip_report.show': \n",
    "            is_valid_transition = True\n",
    "        \n",
    "        if is_valid_transition:\n",
    "            transitions_raw.append({'source': source_modified, 'target': target_modified, 'user_id': user_id})\n",
    "\n",
    "transitions_df = pd.DataFrame(transitions_raw)\n",
    "sankey_data = transitions_df.groupby(['source', 'target']).agg(value=('user_id', 'nunique')).reset_index()\n",
    "\n",
    "if sankey_data.empty:\n",
    "    print(\"Недостаточно данных для построения диаграммы после фильтрации логических переходов.\")\n",
    "    exit()\n",
    "\n",
    "# --- Исправлена логика подсчета количества уникальных пользователей для каждого узла ---\n",
    "node_counts_dict = {}\n",
    "df_original_event_counts = df_filtered.groupby('event_name')['user_id'].nunique().to_dict()\n",
    "\n",
    "# Словарь для хранения процентов от предыдущего шага\n",
    "node_percentages_from_prev_step = {}\n",
    "\n",
    "# Для всех возможных отображаемых узлов\n",
    "all_possible_display_nodes = [\n",
    "    'client.intrip_entry.show',\n",
    "    'client.intrip_entry.click.call',\n",
    "    'client.intrip_entry.click.report',\n",
    "    'client.intrip_entry.click.ok',\n",
    "    'client.intrip_report.show',\n",
    "    'client.intrip_ok_button.show_from_call', \n",
    "    'client.intrip_ok_button.show_from_ok',   \n",
    "    'client.intrip_report.click',\n",
    "    'client.intrip_ok_button.click_from_call', \n",
    "    'client.intrip_ok_button.click_from_ok',    \n",
    "    'client.intrip_report_result.show',\n",
    "]\n",
    "\n",
    "for node_name in all_possible_display_nodes:\n",
    "    original_name = node_name.replace('_from_call', '').replace('_from_ok', '').replace('_click_from_call', '').replace('_click_from_ok', '')\n",
    "    node_counts_dict[node_name] = df_original_event_counts.get(original_name, 0)\n",
    "\n",
    "# Теперь рассчитаем проценты от предыдущего шага\n",
    "# client.intrip_entry.show всегда 100%\n",
    "node_percentages_from_prev_step['client.intrip_entry.show'] = 100.0\n",
    "\n",
    "# Определяем предшественников для каждого узла\n",
    "predecessors = {\n",
    "    'client.intrip_entry.click.call': 'client.intrip_entry.show',\n",
    "    'client.intrip_entry.click.report': 'client.intrip_entry.show',\n",
    "    'client.intrip_entry.click.ok': 'client.intrip_entry.show',\n",
    "    'client.intrip_report.show': 'client.intrip_entry.click.report',\n",
    "    'client.intrip_ok_button.show_from_call': 'client.intrip_entry.click.call',\n",
    "    'client.intrip_ok_button.show_from_ok': 'client.intrip_entry.click.ok',\n",
    "    'client.intrip_report.click': 'client.intrip_report.show',\n",
    "    'client.intrip_ok_button.click_from_call': 'client.intrip_ok_button.show_from_call',\n",
    "    'client.intrip_ok_button.click_from_ok': 'client.intrip_ok_button.show_from_ok',\n",
    "    'client.intrip_report_result.show': 'client.intrip_report.click',\n",
    "}\n",
    "\n",
    "for node_name in all_display_nodes: # Итерируем по отображаемым узлам в порядке, чтобы предшественники были уже посчитаны\n",
    "    if node_name == 'client.intrip_entry.show':\n",
    "        continue # Уже посчитано как 100%\n",
    "\n",
    "    prev_node = predecessors.get(node_name)\n",
    "    if prev_node and node_counts_dict.get(prev_node, 0) > 0:\n",
    "        conversion = (node_counts_dict.get(node_name, 0) / node_counts_dict[prev_node]) * 100\n",
    "        node_percentages_from_prev_step[node_name] = conversion\n",
    "    else:\n",
    "        node_percentages_from_prev_step[node_name] = 0.0 # Если предшественника нет или 0 пользователей\n",
    "\n",
    "\n",
    "# --- 3. Настройка пользовательской визуализации ---\n",
    "\n",
    "# Обновленный список всех возможных узлов (включая контекстные дубликаты)\n",
    "# Порядок здесь важен для позиционирования\n",
    "all_display_nodes = [\n",
    "    'client.intrip_entry.show',\n",
    "    'client.intrip_entry.click.call',\n",
    "    'client.intrip_entry.click.report',\n",
    "    'client.intrip_entry.click.ok',\n",
    "    'client.intrip_report.show',\n",
    "    'client.intrip_ok_button.show_from_call', \n",
    "    'client.intrip_ok_button.show_from_ok',   \n",
    "    'client.intrip_report.click',\n",
    "    'client.intrip_ok_button.click_from_call', \n",
    "    'client.intrip_ok_button.click_from_ok',    \n",
    "    'client.intrip_report_result.show', \n",
    "]\n",
    "\n",
    "# Константы для масштабирования высоты узлов\n",
    "MAX_NODE_HEIGHT = 0.12 \n",
    "MIN_NODE_HEIGHT = 0.03 \n",
    "\n",
    "# Найдем максимальное количество пользователей для масштабирования высоты прямоугольников\n",
    "# Используем общее количество из df_original_event_counts для Entry Show\n",
    "max_users_for_height_scaling = node_counts_dict.get('client.intrip_entry.show', 1) \n",
    "if max_users_for_height_scaling == 0:\n",
    "    max_users_for_height_scaling = max(node_counts_dict.values()) if node_counts_dict else 1\n",
    "\n",
    "\n",
    "# Определим базовые свойства каждого узла (x-положение, y-положение в своей \"полосе\", относительная ширина)\n",
    "base_node_definitions = {\n",
    "    'client.intrip_entry.show':         {'x': 0.1,  'y_lane': 0.5, 'width_factor': 1.0}, \n",
    "    'client.intrip_entry.click.call':   {'x': 0.35, 'y_lane': 0.8, 'width_factor': 0.9},\n",
    "    'client.intrip_entry.click.report': {'x': 0.35, 'y_lane': 0.5, 'width_factor': 0.9},\n",
    "    'client.intrip_entry.click.ok':     {'x': 0.35, 'y_lane': 0.2, 'width_factor': 0.9},\n",
    "    'client.intrip_report.show':        {'x': 0.6, 'y_lane': 0.5, 'width_factor': 0.8},\n",
    "    'client.intrip_ok_button.show_from_ok':   {'x': 0.6, 'y_lane': 0.2, 'width_factor': 0.8}, \n",
    "    'client.intrip_report.click':       {'x': 0.8, 'y_lane': 0.5, 'width_factor': 0.7}, \n",
    "    'client.intrip_ok_button.click_from_ok':   {'x': 0.8, 'y_lane': 0.2, 'width_factor': 0.7},\n",
    "    'client.intrip_report_result.show': {'x': 0.95, 'y_lane': 0.35, 'width_factor': 0.6}, \n",
    "}\n",
    "\n",
    "# Рассчитываем конечные свойства узлов (x, y, width, height)\n",
    "node_props = {}\n",
    "for node_name, base_props in base_node_definitions.items():\n",
    "    count = node_counts_dict.get(node_name, 0)\n",
    "    \n",
    "    if count <= 2 and count > 0: \n",
    "        height = MIN_NODE_HEIGHT\n",
    "    elif count == 0: \n",
    "        height = 0.001 \n",
    "    else:\n",
    "        scaled_height = (count / max_users_for_height_scaling) * MAX_NODE_HEIGHT \n",
    "        height = max(MIN_NODE_HEIGHT, scaled_height)\n",
    "    \n",
    "    width = base_props['width_factor'] * 0.18 \n",
    "\n",
    "    node_props[node_name] = {\n",
    "        'x': base_props['x'],\n",
    "        'y': base_props['y_lane'], \n",
    "        'width': width,\n",
    "        'height': height\n",
    "    }\n",
    "\n",
    "short_names_map = {\n",
    "    'client.intrip_entry.show': 'Entry Show',\n",
    "    'client.intrip_entry.click.call': 'Click Call',\n",
    "    'client.intrip_entry.click.report': 'Click Report',\n",
    "    'client.intrip_entry.click.ok': 'Click OK',\n",
    "    'client.intrip_report.show': 'Report Show',\n",
    "    'client.intrip_report.click': 'Report Click',\n",
    "    'client.intrip_report_result.show': 'Report Result Show',\n",
    "    'client.intrip_ok_button.show_from_ok': 'OK Button\\n(OK Path)',\n",
    "    'client.intrip_ok_button.click_from_ok': 'OK Button\\nClick (OK)',\n",
    "}\n",
    "\n",
    "color_scheme = {\n",
    "    'start': 'rgba(173, 216, 230, 0.9)', \n",
    "    'call_path': 'rgba(255, 165, 0, 0.9)', \n",
    "    'report_path': 'rgba(0, 128, 0, 0.9)', \n",
    "    'ok_path': 'rgba(128, 0, 128, 0.9)', \n",
    "    'border_color': 'black' \n",
    "}\n",
    "\n",
    "image_paths = {\n",
    "    'client.intrip_entry.show': 'images/entry_show.png',\n",
    "    'client.intrip_entry.click.call': 'images/click_call.png',\n",
    "    'client.intrip_entry.click.report': 'images/click_report.png',\n",
    "    'client.intrip_entry.click.ok': 'images/click_ok.png',\n",
    "    'client.intrip_report.show': 'images/report_show.png',\n",
    "    'client.intrip_ok_button.show_from_call': 'images/ok_button_show_call.png', \n",
    "    'client.intrip_ok_button.show_from_ok': 'images/ok_button_show_ok.png',     \n",
    "    'client.intrip_report.click': 'images/report_click.png',\n",
    "    'client.intrip_report_result.show': 'images/report_result_show.png',\n",
    "    'client.intrip_ok_button.click_from_ok': 'images/ok_button_click_ok.png'      \n",
    "}\n",
    "\n",
    "\n",
    "# --- 4. Построение пользовательской диаграммы ---\n",
    "\n",
    "fig = go.Figure()\n",
    "\n",
    "for node_name in all_display_nodes: \n",
    "    current_count = node_counts_dict.get(node_name, 0)\n",
    "    if node_name in node_props and current_count > 0: \n",
    "        props = node_props[node_name]\n",
    "        \n",
    "        draw_rect = props['height'] > 0.005 \n",
    "\n",
    "        x0 = props['x'] - props['width']/2\n",
    "        x1 = props['x'] + props['width']/2\n",
    "        y0 = props['y'] - props['height']/2\n",
    "        y1 = props['y'] + props['height']/2\n",
    "\n",
    "        node_color = 'lightgrey' \n",
    "        if node_name == 'client.intrip_entry.show':\n",
    "            node_color = color_scheme['start']\n",
    "        elif node_name == 'client.intrip_entry.click.call': \n",
    "            node_color = color_scheme['call_path']\n",
    "        elif node_name == 'client.intrip_entry.click.report' or node_name == 'client.intrip_report.show' or node_name == 'client.intrip_report.click' or node_name == 'client.intrip_report_result.show':\n",
    "            node_color = color_scheme['report_path']\n",
    "        elif node_name == 'client.intrip_entry.click.ok': \n",
    "            node_color = color_scheme['ok_path']\n",
    "        elif '_from_call' in node_name: \n",
    "            node_color = color_scheme['call_path']\n",
    "        elif '_from_ok' in node_name: \n",
    "            node_color = color_scheme['ok_path']\n",
    "            \n",
    "        if draw_rect: \n",
    "            fig.add_shape(\n",
    "                type=\"rect\",\n",
    "                x0=x0, y0=y0, x1=x1, y1=y1,\n",
    "                fillcolor=node_color,\n",
    "                line=dict(color=color_scheme['border_color'], width=1.5), \n",
    "                layer=\"below\"\n",
    "            )\n",
    "        \n",
    "        # --- ФОРМАТИРОВАНИЕ ТЕКСТА МЕТКИ С ПРОЦЕНТАМИ ОТ ПРЕДЫДУЩЕГО ШАГА ---\n",
    "        display_name = short_names_map.get(node_name, node_name)\n",
    "        \n",
    "        # Получаем количество предыдущего шага для расчета процента\n",
    "        previous_step_count = node_counts_dict.get(predecessors.get(node_name), 0)\n",
    "        \n",
    "        if node_name == 'client.intrip_entry.show':\n",
    "            percentage = 100.0\n",
    "        elif previous_step_count > 0:\n",
    "            percentage = (current_count / previous_step_count) * 100\n",
    "        else:\n",
    "            percentage = 0.0\n",
    "        \n",
    "        fig.add_annotation(\n",
    "            x=props['x'],\n",
    "            y=props['y'] + props['height']/2 + 0.02, \n",
    "            text=f\"<b>{display_name}</b><br>({current_count}, {percentage:.0f}%)\", \n",
    "            showarrow=False,\n",
    "            font=dict(\n",
    "                size=15,        \n",
    "                color=\"black\",\n",
    "                family=\"Arial\"  \n",
    "            ), \n",
    "            xanchor=\"center\",\n",
    "            yanchor=\"bottom\" \n",
    "        )\n",
    "\n",
    "        if node_name in image_paths and os.path.exists(image_paths[node_name]):\n",
    "            img_x_center = props['x']\n",
    "            img_area_height = 0.1 \n",
    "            \n",
    "            img_y_center = props['y'] - props['height']/2 - img_area_height/2 - 0.02 \n",
    "            \n",
    "            img_width_actual = props['width'] * 0.9 \n",
    "            img_height_actual = img_width_actual \n",
    "\n",
    "            fig.add_layout_image(\n",
    "                dict(\n",
    "                    source=image_paths[node_name],\n",
    "                    xref=\"x\", yref=\"y\",\n",
    "                    x=img_x_center - img_width_actual/2, \n",
    "                    y=img_y_center + img_height_actual/2, \n",
    "                    sizex=img_width_actual,\n",
    "                    sizey=img_height_actual,\n",
    "                    sizing=\"contain\", \n",
    "                    opacity=1,\n",
    "                    layer=\"below\"\n",
    "                )\n",
    "            )\n",
    "\n",
    "fixed_arrow_size = 0.015 \n",
    "min_line_width = 1.0 \n",
    "max_line_scaling_value = max(sankey_data['value']) if not sankey_data.empty else 100 \n",
    "max_target_line_width_pixels = 10 \n",
    "\n",
    "for _, row in sankey_data.iterrows():\n",
    "    source_name = row['source']\n",
    "    target_name = row['target']\n",
    "    value = row['value']\n",
    "\n",
    "    if source_name in node_props and node_counts_dict.get(source_name, 0) > 0 and \\\n",
    "       target_name in node_props and node_counts_dict.get(target_name, 0) > 0: \n",
    "        \n",
    "        source_props = node_props[source_name]\n",
    "        target_props = node_props[target_name]\n",
    "\n",
    "        x_start = source_props['x'] + source_props['width']/2\n",
    "        y_start = source_props['y']\n",
    "\n",
    "        x_end = target_props['x'] - target_props['width']/2\n",
    "        y_end = target_props['y']\n",
    "        \n",
    "        link_color_rgba = 'rgba(173, 216, 230, 0.3)' \n",
    "        if 'call' in source_name or 'call' in target_name: \n",
    "            link_color_rgba = color_scheme['call_path'].replace('0.9', '0.3')\n",
    "        elif 'report' in source_name or 'report' in target_name: \n",
    "            link_color_rgba = color_scheme['report_path'].replace('0.9', '0.3')\n",
    "        elif 'ok' in source_name or 'ok' in target_name: \n",
    "            link_color_rgba = color_scheme['ok_path'].replace('0.9', '0.3')\n",
    "\n",
    "\n",
    "        line_width=4\n",
    "\n",
    "\n",
    "        fig.add_trace(go.Scatter(\n",
    "            x=[x_start, x_end],\n",
    "            y=[y_start, y_end],\n",
    "            mode='lines',\n",
    "            line=dict(\n",
    "                width=line_width, \n",
    "                color=link_color_rgba\n",
    "            ),\n",
    "            hoverinfo='text',\n",
    "            text=f\"From: {short_names_map.get(source_name, source_name)}<br>To: {short_names_map.get(target_name, target_name)}<br>Users: {value}\",\n",
    "            showlegend=False\n",
    "        ))\n",
    "        \n",
    "\n",
    "\n",
    "fig.update_layout(\n",
    "    title_text=\"<b>In-trip Monitoring flow funnel</b><br><sub>Number of users in each step)</sub>\",\n",
    "    font=dict(\n",
    "        size=17,        \n",
    "        color=\"darkblue\", \n",
    "        family=\"Verdana\" \n",
    "    ),\n",
    "    xaxis=dict(\n",
    "        visible=False, \n",
    "        range=[0, 1.05] \n",
    "    ),\n",
    "    yaxis=dict(\n",
    "        visible=False, \n",
    "        range=[0, 1.0 + MAX_NODE_HEIGHT/2] \n",
    "    ),\n",
    "    plot_bgcolor='white', \n",
    "    showlegend=False,\n",
    "    width=1300, \n",
    "    height=800, \n",
    "    margin=dict(l=20, r=20, t=80, b=20) \n",
    ")\n",
    "\n",
    "fig.show()"
   ]
  },
  {
   "cell_type": "markdown",
   "id": "be001ebb",
   "metadata": {},
   "source": [
    "## Pushes"
   ]
  },
  {
   "cell_type": "code",
   "execution_count": 119,
   "id": "a0d3113d",
   "metadata": {},
   "outputs": [],
   "source": [
    "df_push_funnel = read_bq(\"\"\"\n",
    "SELECT *\n",
    "FROM (SELECT t2.os,\n",
    "             t2.city_id,\n",
    "             t3.name                                                          AS city_name,\n",
    "             event,\n",
    "             DATE_TRUNC(DATE(DATETIME(created_dttm_part, t3.timezone)), WEEK) AS date,\n",
    "             IF(EXTRACT(HOUR FROM DATETIME(created_dttm_part, t3.timezone)) IN\n",
    "                (21, 22, 23, 0, 1, 2, 3, 4, 5), 1,\n",
    "                0)                                                            AS night_time_flg,\n",
    "             COUNT(DISTINCT user_id)                                          AS users\n",
    "      FROM indriver-e6e40.ods_smartnotif_cdc.push_stats_global t1\n",
    "               LEFT JOIN (SELECT id,\n",
    "                                 city_id,\n",
    "                                 CASE\n",
    "                                     WHEN LOWER(osversion) LIKE '%android%' THEN 'android'\n",
    "                                     WHEN LOWER(osversion) LIKE '%ios%' THEN 'ios'\n",
    "                                     ELSE 'android'\n",
    "                                     END os\n",
    "                          FROM dwh-storage-327422.personal_data.tbl_user_act) t2 ON t1.user_id = t2.id\n",
    "               JOIN indriver-e6e40.ods_monolith.tbl_city t3 ON t2.city_id = t3.id\n",
    "      WHERE source_name = 'in-trip-monitoring'\n",
    "        AND country_id = 2\n",
    "      GROUP BY 1, 2, 3, 4, 5, 6)\n",
    "    PIVOT\n",
    "    (\n",
    "    SUM(users) AS users\n",
    "    FOR event IN ('push_deliver', 'push_open')\n",
    "    )\n",
    "\"\"\")\n",
    "\n",
    "df_pushes = read_bq(\"\"\"\n",
    "WITH rides AS (SELECT order_uuid,\n",
    "                      user_id,\n",
    "                      driver_id,\n",
    "                      city_id,\n",
    "                      country_id,\n",
    "                      status_order,\n",
    "                      order_timestamp,\n",
    "                      driveraccept_timestamp,\n",
    "                      DATETIME(order_timestamp, timezone) AS created_date_order_part,\n",
    "--                       IF(EXTRACT(HOUR FROM DATETIME(order_timestamp, timezone)) IN\n",
    "--                          (21, 22, 23, 0, 1, 2, 3, 4, 5), 1,\n",
    "--                          0)                               AS night_time_flag,\n",
    "                      IF(EXTRACT(HOUR FROM order_timestamp) IN\n",
    "                         (23, 0, 1, 2, 3, 4, 5), 1,\n",
    "                         0)                               AS night_time_flag,\n",
    "                      driverdone_timestamp,\n",
    "                      duration_in_seconds\n",
    "               FROM indriver-e6e40.emart.incity_detail\n",
    "               WHERE 1 = 1\n",
    "                 AND created_date_order_part BETWEEN '2025-06-15' AND '2025-07-08'\n",
    "                 AND driveraccept_timestamp IS NOT NULL\n",
    "                 AND status_order = 'done'\n",
    "                 AND country_id = 2),\n",
    "     push AS (SELECT user_id,\n",
    "                     t2.os,\n",
    "                     t2.city_id,\n",
    "                     event,\n",
    "                     DATETIME(created_dttm_part, t3.timezone) AS created_dttm_part,\n",
    "                     IF(EXTRACT(HOUR FROM DATETIME(created_dttm_part, t3.timezone)) IN\n",
    "                        (23, 0, 1, 2, 3, 4, 5), 1,\n",
    "                        0)                                    AS night_time_flag\n",
    "              FROM indriver-e6e40.ods_smartnotif_cdc.push_stats_global t1\n",
    "                       LEFT JOIN (SELECT id,\n",
    "                                         city_id,\n",
    "                                         CASE\n",
    "                                             WHEN LOWER(osversion) LIKE '%android%' THEN 'android'\n",
    "                                             WHEN LOWER(osversion) LIKE '%ios%' THEN 'ios'\n",
    "                                             ELSE 'android'\n",
    "                                             END os\n",
    "                                  FROM dwh-storage-327422.personal_data.tbl_user_act) t2 ON t1.user_id = t2.id\n",
    "                       JOIN indriver-e6e40.ods_monolith.tbl_city t3 ON t2.city_id = t3.id\n",
    "              WHERE source_name = 'in-trip-monitoring'\n",
    "                AND DATE(created_dttm_part) BETWEEN '2025-06-15' AND '2025-07-08'\n",
    "                AND event = 'push_deliver'),\n",
    "     agg AS (SELECT 'rides'                                   AS segment,\n",
    "                    city_id,\n",
    "                    t2.name                                   AS city_name,\n",
    "                    DATE_TRUNC(created_date_order_part, WEEK) AS date,\n",
    "                    night_time_flag,\n",
    "                    COUNT(DISTINCT user_id)                   AS cnt\n",
    "             FROM rides t1\n",
    "                      JOIN indriver-e6e40.ods_monolith.tbl_city t2 ON t1.city_id = t2.id\n",
    "             GROUP BY 1, 2, 3, 4, 5\n",
    "             UNION ALL\n",
    "             SELECT 'pushes'                                  AS segment,\n",
    "                    city_id,\n",
    "                    t2.name                                   AS city_name,\n",
    "                    DATE_TRUNC(DATE(created_dttm_part), WEEK) AS date,\n",
    "                    night_time_flag,\n",
    "                    COUNT(DISTINCT user_id)                   AS cnt\n",
    "             FROM push t1\n",
    "                      JOIN indriver-e6e40.ods_monolith.tbl_city t2 ON t1.city_id = t2.id\n",
    "             GROUP BY 1, 2, 3, 4, 5)\n",
    "SELECT *\n",
    "FROM agg\n",
    "    PIVOT\n",
    "    (\n",
    "    SUM(cnt) AS users\n",
    "    FOR segment IN ('rides', 'pushes')\n",
    "    )\n",
    "\"\"\")\n"
   ]
  },
  {
   "cell_type": "code",
   "execution_count": 151,
   "id": "143f6920",
   "metadata": {},
   "outputs": [
    {
     "data": {
      "text/html": [
       "<div>\n",
       "<style scoped>\n",
       "    .dataframe tbody tr th:only-of-type {\n",
       "        vertical-align: middle;\n",
       "    }\n",
       "\n",
       "    .dataframe tbody tr th {\n",
       "        vertical-align: top;\n",
       "    }\n",
       "\n",
       "    .dataframe thead th {\n",
       "        text-align: right;\n",
       "    }\n",
       "</style>\n",
       "<table border=\"1\" class=\"dataframe\">\n",
       "  <thead>\n",
       "    <tr style=\"text-align: right;\">\n",
       "      <th></th>\n",
       "      <th>city_name</th>\n",
       "      <th>city_id</th>\n",
       "      <th>night_time_flag</th>\n",
       "      <th>users_rides</th>\n",
       "      <th>users_pushes</th>\n",
       "    </tr>\n",
       "  </thead>\n",
       "  <tbody>\n",
       "    <tr>\n",
       "      <th>152</th>\n",
       "      <td>Астана (Нур-Султан)</td>\n",
       "      <td>150</td>\n",
       "      <td>0</td>\n",
       "      <td>502010</td>\n",
       "      <td>2620</td>\n",
       "    </tr>\n",
       "    <tr>\n",
       "      <th>565</th>\n",
       "      <td>Караганда</td>\n",
       "      <td>242</td>\n",
       "      <td>0</td>\n",
       "      <td>217359</td>\n",
       "      <td>1704</td>\n",
       "    </tr>\n",
       "    <tr>\n",
       "      <th>82</th>\n",
       "      <td>Актобе</td>\n",
       "      <td>213</td>\n",
       "      <td>0</td>\n",
       "      <td>243868</td>\n",
       "      <td>1008</td>\n",
       "    </tr>\n",
       "    <tr>\n",
       "      <th>119</th>\n",
       "      <td>Алматы</td>\n",
       "      <td>169</td>\n",
       "      <td>0</td>\n",
       "      <td>489379</td>\n",
       "      <td>868</td>\n",
       "    </tr>\n",
       "    <tr>\n",
       "      <th>169</th>\n",
       "      <td>Атырау</td>\n",
       "      <td>221</td>\n",
       "      <td>0</td>\n",
       "      <td>197435</td>\n",
       "      <td>759</td>\n",
       "    </tr>\n",
       "  </tbody>\n",
       "</table>\n",
       "</div>"
      ],
      "text/plain": [
       "               city_name  city_id  night_time_flag  users_rides  users_pushes\n",
       "152  Астана (Нур-Султан)      150                0       502010          2620\n",
       "565            Караганда      242                0       217359          1704\n",
       "82                Актобе      213                0       243868          1008\n",
       "119               Алматы      169                0       489379           868\n",
       "169               Атырау      221                0       197435           759"
      ]
     },
     "execution_count": 151,
     "metadata": {},
     "output_type": "execute_result"
    }
   ],
   "source": [
    "df_pushes.groupby(['city_name', 'city_id', 'night_time_flag'], as_index=False)[['users_rides', 'users_pushes']].sum().sort_values('users_pushes', ascending=False).head(5)"
   ]
  },
  {
   "cell_type": "code",
   "execution_count": 157,
   "id": "c2868f3d",
   "metadata": {},
   "outputs": [
    {
     "data": {
      "text/html": [
       "<div>\n",
       "<style scoped>\n",
       "    .dataframe tbody tr th:only-of-type {\n",
       "        vertical-align: middle;\n",
       "    }\n",
       "\n",
       "    .dataframe tbody tr th {\n",
       "        vertical-align: top;\n",
       "    }\n",
       "\n",
       "    .dataframe thead th {\n",
       "        text-align: right;\n",
       "    }\n",
       "</style>\n",
       "<table border=\"1\" class=\"dataframe\">\n",
       "  <thead>\n",
       "    <tr style=\"text-align: right;\">\n",
       "      <th></th>\n",
       "      <th>city_name</th>\n",
       "      <th>night_time_flag</th>\n",
       "      <th>users_rides</th>\n",
       "      <th>users_pushes</th>\n",
       "      <th>share</th>\n",
       "    </tr>\n",
       "  </thead>\n",
       "  <tbody>\n",
       "    <tr>\n",
       "      <th>9</th>\n",
       "      <td>Караганда</td>\n",
       "      <td>1</td>\n",
       "      <td>49711</td>\n",
       "      <td>450</td>\n",
       "      <td>0.91</td>\n",
       "    </tr>\n",
       "    <tr>\n",
       "      <th>8</th>\n",
       "      <td>Караганда</td>\n",
       "      <td>0</td>\n",
       "      <td>217359</td>\n",
       "      <td>1704</td>\n",
       "      <td>0.78</td>\n",
       "    </tr>\n",
       "    <tr>\n",
       "      <th>7</th>\n",
       "      <td>Атырау</td>\n",
       "      <td>1</td>\n",
       "      <td>50284</td>\n",
       "      <td>227</td>\n",
       "      <td>0.45</td>\n",
       "    </tr>\n",
       "    <tr>\n",
       "      <th>6</th>\n",
       "      <td>Атырау</td>\n",
       "      <td>0</td>\n",
       "      <td>197435</td>\n",
       "      <td>759</td>\n",
       "      <td>0.38</td>\n",
       "    </tr>\n",
       "    <tr>\n",
       "      <th>5</th>\n",
       "      <td>Астана (Нур-Султан)</td>\n",
       "      <td>1</td>\n",
       "      <td>129063</td>\n",
       "      <td>472</td>\n",
       "      <td>0.37</td>\n",
       "    </tr>\n",
       "    <tr>\n",
       "      <th>4</th>\n",
       "      <td>Астана (Нур-Султан)</td>\n",
       "      <td>0</td>\n",
       "      <td>502010</td>\n",
       "      <td>2620</td>\n",
       "      <td>0.52</td>\n",
       "    </tr>\n",
       "    <tr>\n",
       "      <th>3</th>\n",
       "      <td>Алматы</td>\n",
       "      <td>1</td>\n",
       "      <td>123935</td>\n",
       "      <td>134</td>\n",
       "      <td>0.11</td>\n",
       "    </tr>\n",
       "    <tr>\n",
       "      <th>2</th>\n",
       "      <td>Алматы</td>\n",
       "      <td>0</td>\n",
       "      <td>489379</td>\n",
       "      <td>868</td>\n",
       "      <td>0.18</td>\n",
       "    </tr>\n",
       "    <tr>\n",
       "      <th>1</th>\n",
       "      <td>Актобе</td>\n",
       "      <td>1</td>\n",
       "      <td>64849</td>\n",
       "      <td>327</td>\n",
       "      <td>0.50</td>\n",
       "    </tr>\n",
       "    <tr>\n",
       "      <th>0</th>\n",
       "      <td>Актобе</td>\n",
       "      <td>0</td>\n",
       "      <td>243868</td>\n",
       "      <td>1008</td>\n",
       "      <td>0.41</td>\n",
       "    </tr>\n",
       "  </tbody>\n",
       "</table>\n",
       "</div>"
      ],
      "text/plain": [
       "             city_name  night_time_flag  users_rides  users_pushes  share\n",
       "9            Караганда                1        49711           450   0.91\n",
       "8            Караганда                0       217359          1704   0.78\n",
       "7               Атырау                1        50284           227   0.45\n",
       "6               Атырау                0       197435           759   0.38\n",
       "5  Астана (Нур-Султан)                1       129063           472   0.37\n",
       "4  Астана (Нур-Султан)                0       502010          2620   0.52\n",
       "3               Алматы                1       123935           134   0.11\n",
       "2               Алматы                0       489379           868   0.18\n",
       "1               Актобе                1        64849           327   0.50\n",
       "0               Актобе                0       243868          1008   0.41"
      ]
     },
     "execution_count": 157,
     "metadata": {},
     "output_type": "execute_result"
    }
   ],
   "source": [
    "df_push_city = df_pushes[df_pushes['city_id'].isin([150, 242, 213, 169, 221])].groupby(['city_name', 'night_time_flag'], as_index=False)[['users_rides', 'users_pushes']].sum().sort_values(['city_name', 'night_time_flag'], ascending=False)\n",
    "\n",
    "df_push_city['share'] = df_push_city['users_pushes']/df_push_city['users_rides']*100\n",
    "\n",
    "df_push_city"
   ]
  },
  {
   "cell_type": "code",
   "execution_count": 113,
   "id": "1a2db75b",
   "metadata": {},
   "outputs": [
    {
     "data": {
      "text/html": [
       "<div>\n",
       "<style scoped>\n",
       "    .dataframe tbody tr th:only-of-type {\n",
       "        vertical-align: middle;\n",
       "    }\n",
       "\n",
       "    .dataframe tbody tr th {\n",
       "        vertical-align: top;\n",
       "    }\n",
       "\n",
       "    .dataframe thead th {\n",
       "        text-align: right;\n",
       "    }\n",
       "</style>\n",
       "<table border=\"1\" class=\"dataframe\">\n",
       "  <thead>\n",
       "    <tr style=\"text-align: right;\">\n",
       "      <th></th>\n",
       "      <th>date</th>\n",
       "      <th>night_time_flag</th>\n",
       "      <th>users_rides</th>\n",
       "      <th>users_pushes</th>\n",
       "      <th>share</th>\n",
       "    </tr>\n",
       "  </thead>\n",
       "  <tbody>\n",
       "    <tr>\n",
       "      <th>0</th>\n",
       "      <td>2025-06-15</td>\n",
       "      <td>0</td>\n",
       "      <td>1084312</td>\n",
       "      <td>262</td>\n",
       "      <td>0.02</td>\n",
       "    </tr>\n",
       "    <tr>\n",
       "      <th>2</th>\n",
       "      <td>2025-06-22</td>\n",
       "      <td>0</td>\n",
       "      <td>1082051</td>\n",
       "      <td>4068</td>\n",
       "      <td>0.38</td>\n",
       "    </tr>\n",
       "    <tr>\n",
       "      <th>4</th>\n",
       "      <td>2025-06-29</td>\n",
       "      <td>0</td>\n",
       "      <td>1068833</td>\n",
       "      <td>5824</td>\n",
       "      <td>0.54</td>\n",
       "    </tr>\n",
       "    <tr>\n",
       "      <th>6</th>\n",
       "      <td>2025-07-06</td>\n",
       "      <td>0</td>\n",
       "      <td>624452</td>\n",
       "      <td>2296</td>\n",
       "      <td>0.37</td>\n",
       "    </tr>\n",
       "    <tr>\n",
       "      <th>1</th>\n",
       "      <td>2025-06-15</td>\n",
       "      <td>1</td>\n",
       "      <td>262946</td>\n",
       "      <td>51</td>\n",
       "      <td>0.02</td>\n",
       "    </tr>\n",
       "    <tr>\n",
       "      <th>3</th>\n",
       "      <td>2025-06-22</td>\n",
       "      <td>1</td>\n",
       "      <td>272300</td>\n",
       "      <td>918</td>\n",
       "      <td>0.34</td>\n",
       "    </tr>\n",
       "    <tr>\n",
       "      <th>5</th>\n",
       "      <td>2025-06-29</td>\n",
       "      <td>1</td>\n",
       "      <td>269616</td>\n",
       "      <td>1419</td>\n",
       "      <td>0.53</td>\n",
       "    </tr>\n",
       "    <tr>\n",
       "      <th>7</th>\n",
       "      <td>2025-07-06</td>\n",
       "      <td>1</td>\n",
       "      <td>160527</td>\n",
       "      <td>879</td>\n",
       "      <td>0.55</td>\n",
       "    </tr>\n",
       "  </tbody>\n",
       "</table>\n",
       "</div>"
      ],
      "text/plain": [
       "        date  night_time_flag  users_rides  users_pushes  share\n",
       "0 2025-06-15                0      1084312           262   0.02\n",
       "2 2025-06-22                0      1082051          4068   0.38\n",
       "4 2025-06-29                0      1068833          5824   0.54\n",
       "6 2025-07-06                0       624452          2296   0.37\n",
       "1 2025-06-15                1       262946            51   0.02\n",
       "3 2025-06-22                1       272300           918   0.34\n",
       "5 2025-06-29                1       269616          1419   0.53\n",
       "7 2025-07-06                1       160527           879   0.55"
      ]
     },
     "execution_count": 113,
     "metadata": {},
     "output_type": "execute_result"
    }
   ],
   "source": [
    "df_push_stats = df_pushes.groupby(['date', 'night_time_flag'], as_index=False)[['users_rides', 'users_pushes']].sum().sort_values(['night_time_flag', 'date'], ascending=True)\n",
    "\n",
    "df_push_stats['share'] = df_push_stats['users_pushes'] / df_push_stats['users_rides'] * 100\n",
    "\n",
    "df_push_stats"
   ]
  },
  {
   "cell_type": "code",
   "execution_count": 201,
   "id": "551a69c5",
   "metadata": {},
   "outputs": [
    {
     "data": {
      "text/plain": [
       "15717"
      ]
     },
     "execution_count": 201,
     "metadata": {},
     "output_type": "execute_result"
    }
   ],
   "source": [
    "df_push_stats['users_pushes'].sum()"
   ]
  },
  {
   "cell_type": "code",
   "execution_count": 165,
   "id": "c91eb093",
   "metadata": {},
   "outputs": [
    {
     "data": {
      "text/html": [
       "<div>\n",
       "<style scoped>\n",
       "    .dataframe tbody tr th:only-of-type {\n",
       "        vertical-align: middle;\n",
       "    }\n",
       "\n",
       "    .dataframe tbody tr th {\n",
       "        vertical-align: top;\n",
       "    }\n",
       "\n",
       "    .dataframe thead th {\n",
       "        text-align: right;\n",
       "    }\n",
       "</style>\n",
       "<table border=\"1\" class=\"dataframe\">\n",
       "  <thead>\n",
       "    <tr style=\"text-align: right;\">\n",
       "      <th></th>\n",
       "      <th>city_name</th>\n",
       "      <th>night_time_flg</th>\n",
       "      <th>users_push_deliver</th>\n",
       "      <th>users_push_open</th>\n",
       "      <th>share</th>\n",
       "    </tr>\n",
       "  </thead>\n",
       "  <tbody>\n",
       "    <tr>\n",
       "      <th>9</th>\n",
       "      <td>Караганда</td>\n",
       "      <td>1</td>\n",
       "      <td>740</td>\n",
       "      <td>88</td>\n",
       "      <td>11.89</td>\n",
       "    </tr>\n",
       "    <tr>\n",
       "      <th>8</th>\n",
       "      <td>Караганда</td>\n",
       "      <td>0</td>\n",
       "      <td>1634</td>\n",
       "      <td>129</td>\n",
       "      <td>7.89</td>\n",
       "    </tr>\n",
       "    <tr>\n",
       "      <th>7</th>\n",
       "      <td>Атырау</td>\n",
       "      <td>1</td>\n",
       "      <td>349</td>\n",
       "      <td>37</td>\n",
       "      <td>10.60</td>\n",
       "    </tr>\n",
       "    <tr>\n",
       "      <th>6</th>\n",
       "      <td>Атырау</td>\n",
       "      <td>0</td>\n",
       "      <td>762</td>\n",
       "      <td>53</td>\n",
       "      <td>6.96</td>\n",
       "    </tr>\n",
       "    <tr>\n",
       "      <th>5</th>\n",
       "      <td>Астана (Нур-Султан)</td>\n",
       "      <td>1</td>\n",
       "      <td>867</td>\n",
       "      <td>109</td>\n",
       "      <td>12.57</td>\n",
       "    </tr>\n",
       "    <tr>\n",
       "      <th>4</th>\n",
       "      <td>Астана (Нур-Султан)</td>\n",
       "      <td>0</td>\n",
       "      <td>2895</td>\n",
       "      <td>373</td>\n",
       "      <td>12.88</td>\n",
       "    </tr>\n",
       "    <tr>\n",
       "      <th>3</th>\n",
       "      <td>Алматы</td>\n",
       "      <td>1</td>\n",
       "      <td>260</td>\n",
       "      <td>33</td>\n",
       "      <td>12.69</td>\n",
       "    </tr>\n",
       "    <tr>\n",
       "      <th>2</th>\n",
       "      <td>Алматы</td>\n",
       "      <td>0</td>\n",
       "      <td>895</td>\n",
       "      <td>102</td>\n",
       "      <td>11.40</td>\n",
       "    </tr>\n",
       "    <tr>\n",
       "      <th>1</th>\n",
       "      <td>Актобе</td>\n",
       "      <td>1</td>\n",
       "      <td>505</td>\n",
       "      <td>57</td>\n",
       "      <td>11.29</td>\n",
       "    </tr>\n",
       "    <tr>\n",
       "      <th>0</th>\n",
       "      <td>Актобе</td>\n",
       "      <td>0</td>\n",
       "      <td>1005</td>\n",
       "      <td>69</td>\n",
       "      <td>6.87</td>\n",
       "    </tr>\n",
       "  </tbody>\n",
       "</table>\n",
       "</div>"
      ],
      "text/plain": [
       "             city_name  night_time_flg  users_push_deliver  users_push_open  share\n",
       "9            Караганда               1                 740               88  11.89\n",
       "8            Караганда               0                1634              129   7.89\n",
       "7               Атырау               1                 349               37  10.60\n",
       "6               Атырау               0                 762               53   6.96\n",
       "5  Астана (Нур-Султан)               1                 867              109  12.57\n",
       "4  Астана (Нур-Султан)               0                2895              373  12.88\n",
       "3               Алматы               1                 260               33  12.69\n",
       "2               Алматы               0                 895              102  11.40\n",
       "1               Актобе               1                 505               57  11.29\n",
       "0               Актобе               0                1005               69   6.87"
      ]
     },
     "execution_count": 165,
     "metadata": {},
     "output_type": "execute_result"
    }
   ],
   "source": [
    "df_push_funnel_stat = df_push_funnel[df_push_funnel['city_id'].isin([150, 242, 213, 169, 221])].groupby(['city_name', 'night_time_flg'], as_index=False)[['users_push_deliver', 'users_push_open']].sum().sort_values(['city_name', 'night_time_flg'], ascending=False)\n",
    "\n",
    "df_push_funnel_stat['share'] = df_push_funnel_stat['users_push_open']/df_push_funnel_stat['users_push_deliver']*100\n",
    "\n",
    "df_push_funnel_stat"
   ]
  },
  {
   "cell_type": "code",
   "execution_count": 131,
   "id": "16ded075",
   "metadata": {},
   "outputs": [
    {
     "name": "stdout",
     "output_type": "stream",
     "text": [
      "(0.8682971561041525, 0.9235889386900835)\n"
     ]
    },
    {
     "data": {
      "text/html": [
       "<div>\n",
       "<style scoped>\n",
       "    .dataframe tbody tr th:only-of-type {\n",
       "        vertical-align: middle;\n",
       "    }\n",
       "\n",
       "    .dataframe tbody tr th {\n",
       "        vertical-align: top;\n",
       "    }\n",
       "\n",
       "    .dataframe thead th {\n",
       "        text-align: right;\n",
       "    }\n",
       "</style>\n",
       "<table border=\"1\" class=\"dataframe\">\n",
       "  <thead>\n",
       "    <tr style=\"text-align: right;\">\n",
       "      <th></th>\n",
       "      <th>date</th>\n",
       "      <th>night_time_flg</th>\n",
       "      <th>users_push_deliver</th>\n",
       "      <th>users_push_open</th>\n",
       "      <th>share_of_open</th>\n",
       "    </tr>\n",
       "  </thead>\n",
       "  <tbody>\n",
       "    <tr>\n",
       "      <th>0</th>\n",
       "      <td>2025-06-15</td>\n",
       "      <td>0</td>\n",
       "      <td>224</td>\n",
       "      <td>17</td>\n",
       "      <td>7.59</td>\n",
       "    </tr>\n",
       "    <tr>\n",
       "      <th>2</th>\n",
       "      <td>2025-06-22</td>\n",
       "      <td>0</td>\n",
       "      <td>3507</td>\n",
       "      <td>302</td>\n",
       "      <td>8.61</td>\n",
       "    </tr>\n",
       "    <tr>\n",
       "      <th>4</th>\n",
       "      <td>2025-06-29</td>\n",
       "      <td>0</td>\n",
       "      <td>5137</td>\n",
       "      <td>445</td>\n",
       "      <td>8.66</td>\n",
       "    </tr>\n",
       "    <tr>\n",
       "      <th>6</th>\n",
       "      <td>2025-07-06</td>\n",
       "      <td>0</td>\n",
       "      <td>3686</td>\n",
       "      <td>363</td>\n",
       "      <td>9.85</td>\n",
       "    </tr>\n",
       "    <tr>\n",
       "      <th>1</th>\n",
       "      <td>2025-06-15</td>\n",
       "      <td>1</td>\n",
       "      <td>90</td>\n",
       "      <td>8</td>\n",
       "      <td>8.89</td>\n",
       "    </tr>\n",
       "    <tr>\n",
       "      <th>3</th>\n",
       "      <td>2025-06-22</td>\n",
       "      <td>1</td>\n",
       "      <td>1509</td>\n",
       "      <td>164</td>\n",
       "      <td>10.87</td>\n",
       "    </tr>\n",
       "    <tr>\n",
       "      <th>5</th>\n",
       "      <td>2025-06-29</td>\n",
       "      <td>1</td>\n",
       "      <td>2145</td>\n",
       "      <td>222</td>\n",
       "      <td>10.35</td>\n",
       "    </tr>\n",
       "    <tr>\n",
       "      <th>7</th>\n",
       "      <td>2025-07-06</td>\n",
       "      <td>1</td>\n",
       "      <td>1611</td>\n",
       "      <td>169</td>\n",
       "      <td>10.49</td>\n",
       "    </tr>\n",
       "  </tbody>\n",
       "</table>\n",
       "</div>"
      ],
      "text/plain": [
       "         date  night_time_flg  users_push_deliver  users_push_open  share_of_open\n",
       "0  2025-06-15               0                 224               17           7.59\n",
       "2  2025-06-22               0                3507              302           8.61\n",
       "4  2025-06-29               0                5137              445           8.66\n",
       "6  2025-07-06               0                3686              363           9.85\n",
       "1  2025-06-15               1                  90                8           8.89\n",
       "3  2025-06-22               1                1509              164          10.87\n",
       "5  2025-06-29               1                2145              222          10.35\n",
       "7  2025-07-06               1                1611              169          10.49"
      ]
     },
     "execution_count": 131,
     "metadata": {},
     "output_type": "execute_result"
    }
   ],
   "source": [
    "df_push_funnel_stat = df_push_funnel.groupby(['date', 'night_time_flg'], as_index=False)[['users_push_deliver', 'users_push_open']].sum().sort_values(['night_time_flg', 'date'], ascending=True)\n",
    "\n",
    "df_push_funnel_stat['share_of_open'] = df_push_funnel_stat['users_push_open'] / df_push_funnel_stat['users_push_deliver'] * 100\n",
    "\n",
    "print((df_push_funnel_stat[df_push_funnel_stat['night_time_flg']==1]['share_of_open'].std(), df_push_funnel_stat[df_push_funnel_stat['night_time_flg']==0]['share_of_open'].std()))\n",
    "\n",
    "df_push_funnel_stat"
   ]
  },
  {
   "cell_type": "code",
   "execution_count": 184,
   "id": "ac760f67",
   "metadata": {},
   "outputs": [
    {
     "data": {
      "text/html": [
       "<div>\n",
       "<style scoped>\n",
       "    .dataframe tbody tr th:only-of-type {\n",
       "        vertical-align: middle;\n",
       "    }\n",
       "\n",
       "    .dataframe tbody tr th {\n",
       "        vertical-align: top;\n",
       "    }\n",
       "\n",
       "    .dataframe thead th {\n",
       "        text-align: right;\n",
       "    }\n",
       "</style>\n",
       "<table border=\"1\" class=\"dataframe\">\n",
       "  <thead>\n",
       "    <tr style=\"text-align: right;\">\n",
       "      <th></th>\n",
       "      <th>city_name</th>\n",
       "      <th>night_time_flag</th>\n",
       "      <th>users_rides</th>\n",
       "      <th>users_pushes</th>\n",
       "      <th>share_x</th>\n",
       "      <th>night_time_flg</th>\n",
       "      <th>users_push_deliver</th>\n",
       "      <th>users_push_open</th>\n",
       "      <th>share_y</th>\n",
       "    </tr>\n",
       "  </thead>\n",
       "  <tbody>\n",
       "    <tr>\n",
       "      <th>0</th>\n",
       "      <td>Караганда</td>\n",
       "      <td>True</td>\n",
       "      <td>49711</td>\n",
       "      <td>450</td>\n",
       "      <td>0.91</td>\n",
       "      <td>1</td>\n",
       "      <td>740</td>\n",
       "      <td>88</td>\n",
       "      <td>11.89</td>\n",
       "    </tr>\n",
       "    <tr>\n",
       "      <th>1</th>\n",
       "      <td>Караганда</td>\n",
       "      <td>False</td>\n",
       "      <td>217359</td>\n",
       "      <td>1704</td>\n",
       "      <td>0.78</td>\n",
       "      <td>0</td>\n",
       "      <td>1634</td>\n",
       "      <td>129</td>\n",
       "      <td>7.89</td>\n",
       "    </tr>\n",
       "    <tr>\n",
       "      <th>2</th>\n",
       "      <td>Атырау</td>\n",
       "      <td>True</td>\n",
       "      <td>50284</td>\n",
       "      <td>227</td>\n",
       "      <td>0.45</td>\n",
       "      <td>1</td>\n",
       "      <td>349</td>\n",
       "      <td>37</td>\n",
       "      <td>10.60</td>\n",
       "    </tr>\n",
       "    <tr>\n",
       "      <th>3</th>\n",
       "      <td>Атырау</td>\n",
       "      <td>False</td>\n",
       "      <td>197435</td>\n",
       "      <td>759</td>\n",
       "      <td>0.38</td>\n",
       "      <td>0</td>\n",
       "      <td>762</td>\n",
       "      <td>53</td>\n",
       "      <td>6.96</td>\n",
       "    </tr>\n",
       "    <tr>\n",
       "      <th>4</th>\n",
       "      <td>Астана (Нур-Султан)</td>\n",
       "      <td>True</td>\n",
       "      <td>129063</td>\n",
       "      <td>472</td>\n",
       "      <td>0.37</td>\n",
       "      <td>1</td>\n",
       "      <td>867</td>\n",
       "      <td>109</td>\n",
       "      <td>12.57</td>\n",
       "    </tr>\n",
       "    <tr>\n",
       "      <th>5</th>\n",
       "      <td>Астана (Нур-Султан)</td>\n",
       "      <td>False</td>\n",
       "      <td>502010</td>\n",
       "      <td>2620</td>\n",
       "      <td>0.52</td>\n",
       "      <td>0</td>\n",
       "      <td>2895</td>\n",
       "      <td>373</td>\n",
       "      <td>12.88</td>\n",
       "    </tr>\n",
       "    <tr>\n",
       "      <th>6</th>\n",
       "      <td>Алматы</td>\n",
       "      <td>True</td>\n",
       "      <td>123935</td>\n",
       "      <td>134</td>\n",
       "      <td>0.11</td>\n",
       "      <td>1</td>\n",
       "      <td>260</td>\n",
       "      <td>33</td>\n",
       "      <td>12.69</td>\n",
       "    </tr>\n",
       "    <tr>\n",
       "      <th>7</th>\n",
       "      <td>Алматы</td>\n",
       "      <td>False</td>\n",
       "      <td>489379</td>\n",
       "      <td>868</td>\n",
       "      <td>0.18</td>\n",
       "      <td>0</td>\n",
       "      <td>895</td>\n",
       "      <td>102</td>\n",
       "      <td>11.40</td>\n",
       "    </tr>\n",
       "    <tr>\n",
       "      <th>8</th>\n",
       "      <td>Актобе</td>\n",
       "      <td>True</td>\n",
       "      <td>64849</td>\n",
       "      <td>327</td>\n",
       "      <td>0.50</td>\n",
       "      <td>1</td>\n",
       "      <td>505</td>\n",
       "      <td>57</td>\n",
       "      <td>11.29</td>\n",
       "    </tr>\n",
       "    <tr>\n",
       "      <th>9</th>\n",
       "      <td>Актобе</td>\n",
       "      <td>False</td>\n",
       "      <td>243868</td>\n",
       "      <td>1008</td>\n",
       "      <td>0.41</td>\n",
       "      <td>0</td>\n",
       "      <td>1005</td>\n",
       "      <td>69</td>\n",
       "      <td>6.87</td>\n",
       "    </tr>\n",
       "  </tbody>\n",
       "</table>\n",
       "</div>"
      ],
      "text/plain": [
       "             city_name night_time_flag  users_rides  users_pushes  share_x  night_time_flg  users_push_deliver  users_push_open  share_y\n",
       "0            Караганда            True        49711           450     0.91               1                 740               88    11.89\n",
       "1            Караганда           False       217359          1704     0.78               0                1634              129     7.89\n",
       "2               Атырау            True        50284           227     0.45               1                 349               37    10.60\n",
       "3               Атырау           False       197435           759     0.38               0                 762               53     6.96\n",
       "4  Астана (Нур-Султан)            True       129063           472     0.37               1                 867              109    12.57\n",
       "5  Астана (Нур-Султан)           False       502010          2620     0.52               0                2895              373    12.88\n",
       "6               Алматы            True       123935           134     0.11               1                 260               33    12.69\n",
       "7               Алматы           False       489379           868     0.18               0                 895              102    11.40\n",
       "8               Актобе            True        64849           327     0.50               1                 505               57    11.29\n",
       "9               Актобе           False       243868          1008     0.41               0                1005               69     6.87"
      ]
     },
     "execution_count": 184,
     "metadata": {},
     "output_type": "execute_result"
    }
   ],
   "source": [
    "df_total_push = df_push_city.merge(df_push_funnel_stat, left_on=['city_name', 'night_time_flag'], right_on=['city_name', 'night_time_flg'], how='inner')\n",
    "\n",
    "df_total_push['night_time_flag'] = df_total_push['night_time_flag'].astype(str)\n",
    "\n",
    "df_total_push['night_time_flag'] = df_total_push['night_time_flag'].replace({'1':'True', '0':'False'})\n",
    "df_total_push"
   ]
  },
  {
   "cell_type": "code",
   "execution_count": 195,
   "id": "f28cbddb",
   "metadata": {},
   "outputs": [
    {
     "data": {
      "application/vnd.plotly.v1+json": {
       "config": {
        "plotlyServerURL": "https://plot.ly"
       },
       "data": [
        {
         "alignmentgroup": "True",
         "hovertemplate": "Night time=True<br>City name=%{x}<br>CR to Open=%{y}<extra></extra>",
         "legendgroup": "True",
         "marker": {
          "color": "#636efa",
          "pattern": {
           "shape": ""
          }
         },
         "name": "True",
         "offsetgroup": "True",
         "orientation": "v",
         "showlegend": true,
         "textposition": "auto",
         "texttemplate": "%{y}",
         "type": "bar",
         "x": [
          "Караганда",
          "Атырау",
          "Астана (Нур-Султан)",
          "Алматы",
          "Актобе"
         ],
         "xaxis": "x",
         "y": [
          11.89,
          10.6,
          12.57,
          12.69,
          11.29
         ],
         "yaxis": "y"
        },
        {
         "alignmentgroup": "True",
         "hovertemplate": "Night time=False<br>City name=%{x}<br>CR to Open=%{y}<extra></extra>",
         "legendgroup": "False",
         "marker": {
          "color": "#EF553B",
          "pattern": {
           "shape": ""
          }
         },
         "name": "False",
         "offsetgroup": "False",
         "orientation": "v",
         "showlegend": true,
         "textposition": "auto",
         "texttemplate": "%{y}",
         "type": "bar",
         "x": [
          "Караганда",
          "Атырау",
          "Астана (Нур-Султан)",
          "Алматы",
          "Актобе"
         ],
         "xaxis": "x",
         "y": [
          7.89,
          6.96,
          12.88,
          11.4,
          6.87
         ],
         "yaxis": "y"
        }
       ],
       "layout": {
        "barmode": "relative",
        "legend": {
         "title": {
          "text": "Night time"
         },
         "tracegroupgap": 0
        },
        "template": {
         "data": {
          "bar": [
           {
            "error_x": {
             "color": "#2a3f5f"
            },
            "error_y": {
             "color": "#2a3f5f"
            },
            "marker": {
             "line": {
              "color": "#E5ECF6",
              "width": 0.5
             },
             "pattern": {
              "fillmode": "overlay",
              "size": 10,
              "solidity": 0.2
             }
            },
            "type": "bar"
           }
          ],
          "barpolar": [
           {
            "marker": {
             "line": {
              "color": "#E5ECF6",
              "width": 0.5
             },
             "pattern": {
              "fillmode": "overlay",
              "size": 10,
              "solidity": 0.2
             }
            },
            "type": "barpolar"
           }
          ],
          "carpet": [
           {
            "aaxis": {
             "endlinecolor": "#2a3f5f",
             "gridcolor": "white",
             "linecolor": "white",
             "minorgridcolor": "white",
             "startlinecolor": "#2a3f5f"
            },
            "baxis": {
             "endlinecolor": "#2a3f5f",
             "gridcolor": "white",
             "linecolor": "white",
             "minorgridcolor": "white",
             "startlinecolor": "#2a3f5f"
            },
            "type": "carpet"
           }
          ],
          "choropleth": [
           {
            "colorbar": {
             "outlinewidth": 0,
             "ticks": ""
            },
            "type": "choropleth"
           }
          ],
          "contour": [
           {
            "colorbar": {
             "outlinewidth": 0,
             "ticks": ""
            },
            "colorscale": [
             [
              0,
              "#0d0887"
             ],
             [
              0.1111111111111111,
              "#46039f"
             ],
             [
              0.2222222222222222,
              "#7201a8"
             ],
             [
              0.3333333333333333,
              "#9c179e"
             ],
             [
              0.4444444444444444,
              "#bd3786"
             ],
             [
              0.5555555555555556,
              "#d8576b"
             ],
             [
              0.6666666666666666,
              "#ed7953"
             ],
             [
              0.7777777777777778,
              "#fb9f3a"
             ],
             [
              0.8888888888888888,
              "#fdca26"
             ],
             [
              1,
              "#f0f921"
             ]
            ],
            "type": "contour"
           }
          ],
          "contourcarpet": [
           {
            "colorbar": {
             "outlinewidth": 0,
             "ticks": ""
            },
            "type": "contourcarpet"
           }
          ],
          "heatmap": [
           {
            "colorbar": {
             "outlinewidth": 0,
             "ticks": ""
            },
            "colorscale": [
             [
              0,
              "#0d0887"
             ],
             [
              0.1111111111111111,
              "#46039f"
             ],
             [
              0.2222222222222222,
              "#7201a8"
             ],
             [
              0.3333333333333333,
              "#9c179e"
             ],
             [
              0.4444444444444444,
              "#bd3786"
             ],
             [
              0.5555555555555556,
              "#d8576b"
             ],
             [
              0.6666666666666666,
              "#ed7953"
             ],
             [
              0.7777777777777778,
              "#fb9f3a"
             ],
             [
              0.8888888888888888,
              "#fdca26"
             ],
             [
              1,
              "#f0f921"
             ]
            ],
            "type": "heatmap"
           }
          ],
          "heatmapgl": [
           {
            "colorbar": {
             "outlinewidth": 0,
             "ticks": ""
            },
            "colorscale": [
             [
              0,
              "#0d0887"
             ],
             [
              0.1111111111111111,
              "#46039f"
             ],
             [
              0.2222222222222222,
              "#7201a8"
             ],
             [
              0.3333333333333333,
              "#9c179e"
             ],
             [
              0.4444444444444444,
              "#bd3786"
             ],
             [
              0.5555555555555556,
              "#d8576b"
             ],
             [
              0.6666666666666666,
              "#ed7953"
             ],
             [
              0.7777777777777778,
              "#fb9f3a"
             ],
             [
              0.8888888888888888,
              "#fdca26"
             ],
             [
              1,
              "#f0f921"
             ]
            ],
            "type": "heatmapgl"
           }
          ],
          "histogram": [
           {
            "marker": {
             "pattern": {
              "fillmode": "overlay",
              "size": 10,
              "solidity": 0.2
             }
            },
            "type": "histogram"
           }
          ],
          "histogram2d": [
           {
            "colorbar": {
             "outlinewidth": 0,
             "ticks": ""
            },
            "colorscale": [
             [
              0,
              "#0d0887"
             ],
             [
              0.1111111111111111,
              "#46039f"
             ],
             [
              0.2222222222222222,
              "#7201a8"
             ],
             [
              0.3333333333333333,
              "#9c179e"
             ],
             [
              0.4444444444444444,
              "#bd3786"
             ],
             [
              0.5555555555555556,
              "#d8576b"
             ],
             [
              0.6666666666666666,
              "#ed7953"
             ],
             [
              0.7777777777777778,
              "#fb9f3a"
             ],
             [
              0.8888888888888888,
              "#fdca26"
             ],
             [
              1,
              "#f0f921"
             ]
            ],
            "type": "histogram2d"
           }
          ],
          "histogram2dcontour": [
           {
            "colorbar": {
             "outlinewidth": 0,
             "ticks": ""
            },
            "colorscale": [
             [
              0,
              "#0d0887"
             ],
             [
              0.1111111111111111,
              "#46039f"
             ],
             [
              0.2222222222222222,
              "#7201a8"
             ],
             [
              0.3333333333333333,
              "#9c179e"
             ],
             [
              0.4444444444444444,
              "#bd3786"
             ],
             [
              0.5555555555555556,
              "#d8576b"
             ],
             [
              0.6666666666666666,
              "#ed7953"
             ],
             [
              0.7777777777777778,
              "#fb9f3a"
             ],
             [
              0.8888888888888888,
              "#fdca26"
             ],
             [
              1,
              "#f0f921"
             ]
            ],
            "type": "histogram2dcontour"
           }
          ],
          "mesh3d": [
           {
            "colorbar": {
             "outlinewidth": 0,
             "ticks": ""
            },
            "type": "mesh3d"
           }
          ],
          "parcoords": [
           {
            "line": {
             "colorbar": {
              "outlinewidth": 0,
              "ticks": ""
             }
            },
            "type": "parcoords"
           }
          ],
          "pie": [
           {
            "automargin": true,
            "type": "pie"
           }
          ],
          "scatter": [
           {
            "fillpattern": {
             "fillmode": "overlay",
             "size": 10,
             "solidity": 0.2
            },
            "type": "scatter"
           }
          ],
          "scatter3d": [
           {
            "line": {
             "colorbar": {
              "outlinewidth": 0,
              "ticks": ""
             }
            },
            "marker": {
             "colorbar": {
              "outlinewidth": 0,
              "ticks": ""
             }
            },
            "type": "scatter3d"
           }
          ],
          "scattercarpet": [
           {
            "marker": {
             "colorbar": {
              "outlinewidth": 0,
              "ticks": ""
             }
            },
            "type": "scattercarpet"
           }
          ],
          "scattergeo": [
           {
            "marker": {
             "colorbar": {
              "outlinewidth": 0,
              "ticks": ""
             }
            },
            "type": "scattergeo"
           }
          ],
          "scattergl": [
           {
            "marker": {
             "colorbar": {
              "outlinewidth": 0,
              "ticks": ""
             }
            },
            "type": "scattergl"
           }
          ],
          "scattermapbox": [
           {
            "marker": {
             "colorbar": {
              "outlinewidth": 0,
              "ticks": ""
             }
            },
            "type": "scattermapbox"
           }
          ],
          "scatterpolar": [
           {
            "marker": {
             "colorbar": {
              "outlinewidth": 0,
              "ticks": ""
             }
            },
            "type": "scatterpolar"
           }
          ],
          "scatterpolargl": [
           {
            "marker": {
             "colorbar": {
              "outlinewidth": 0,
              "ticks": ""
             }
            },
            "type": "scatterpolargl"
           }
          ],
          "scatterternary": [
           {
            "marker": {
             "colorbar": {
              "outlinewidth": 0,
              "ticks": ""
             }
            },
            "type": "scatterternary"
           }
          ],
          "surface": [
           {
            "colorbar": {
             "outlinewidth": 0,
             "ticks": ""
            },
            "colorscale": [
             [
              0,
              "#0d0887"
             ],
             [
              0.1111111111111111,
              "#46039f"
             ],
             [
              0.2222222222222222,
              "#7201a8"
             ],
             [
              0.3333333333333333,
              "#9c179e"
             ],
             [
              0.4444444444444444,
              "#bd3786"
             ],
             [
              0.5555555555555556,
              "#d8576b"
             ],
             [
              0.6666666666666666,
              "#ed7953"
             ],
             [
              0.7777777777777778,
              "#fb9f3a"
             ],
             [
              0.8888888888888888,
              "#fdca26"
             ],
             [
              1,
              "#f0f921"
             ]
            ],
            "type": "surface"
           }
          ],
          "table": [
           {
            "cells": {
             "fill": {
              "color": "#EBF0F8"
             },
             "line": {
              "color": "white"
             }
            },
            "header": {
             "fill": {
              "color": "#C8D4E3"
             },
             "line": {
              "color": "white"
             }
            },
            "type": "table"
           }
          ]
         },
         "layout": {
          "annotationdefaults": {
           "arrowcolor": "#2a3f5f",
           "arrowhead": 0,
           "arrowwidth": 1
          },
          "autotypenumbers": "strict",
          "coloraxis": {
           "colorbar": {
            "outlinewidth": 0,
            "ticks": ""
           }
          },
          "colorscale": {
           "diverging": [
            [
             0,
             "#8e0152"
            ],
            [
             0.1,
             "#c51b7d"
            ],
            [
             0.2,
             "#de77ae"
            ],
            [
             0.3,
             "#f1b6da"
            ],
            [
             0.4,
             "#fde0ef"
            ],
            [
             0.5,
             "#f7f7f7"
            ],
            [
             0.6,
             "#e6f5d0"
            ],
            [
             0.7,
             "#b8e186"
            ],
            [
             0.8,
             "#7fbc41"
            ],
            [
             0.9,
             "#4d9221"
            ],
            [
             1,
             "#276419"
            ]
           ],
           "sequential": [
            [
             0,
             "#0d0887"
            ],
            [
             0.1111111111111111,
             "#46039f"
            ],
            [
             0.2222222222222222,
             "#7201a8"
            ],
            [
             0.3333333333333333,
             "#9c179e"
            ],
            [
             0.4444444444444444,
             "#bd3786"
            ],
            [
             0.5555555555555556,
             "#d8576b"
            ],
            [
             0.6666666666666666,
             "#ed7953"
            ],
            [
             0.7777777777777778,
             "#fb9f3a"
            ],
            [
             0.8888888888888888,
             "#fdca26"
            ],
            [
             1,
             "#f0f921"
            ]
           ],
           "sequentialminus": [
            [
             0,
             "#0d0887"
            ],
            [
             0.1111111111111111,
             "#46039f"
            ],
            [
             0.2222222222222222,
             "#7201a8"
            ],
            [
             0.3333333333333333,
             "#9c179e"
            ],
            [
             0.4444444444444444,
             "#bd3786"
            ],
            [
             0.5555555555555556,
             "#d8576b"
            ],
            [
             0.6666666666666666,
             "#ed7953"
            ],
            [
             0.7777777777777778,
             "#fb9f3a"
            ],
            [
             0.8888888888888888,
             "#fdca26"
            ],
            [
             1,
             "#f0f921"
            ]
           ]
          },
          "colorway": [
           "#636efa",
           "#EF553B",
           "#00cc96",
           "#ab63fa",
           "#FFA15A",
           "#19d3f3",
           "#FF6692",
           "#B6E880",
           "#FF97FF",
           "#FECB52"
          ],
          "font": {
           "color": "#2a3f5f"
          },
          "geo": {
           "bgcolor": "white",
           "lakecolor": "white",
           "landcolor": "#E5ECF6",
           "showlakes": true,
           "showland": true,
           "subunitcolor": "white"
          },
          "hoverlabel": {
           "align": "left"
          },
          "hovermode": "closest",
          "mapbox": {
           "style": "light"
          },
          "paper_bgcolor": "white",
          "plot_bgcolor": "#E5ECF6",
          "polar": {
           "angularaxis": {
            "gridcolor": "white",
            "linecolor": "white",
            "ticks": ""
           },
           "bgcolor": "#E5ECF6",
           "radialaxis": {
            "gridcolor": "white",
            "linecolor": "white",
            "ticks": ""
           }
          },
          "scene": {
           "xaxis": {
            "backgroundcolor": "#E5ECF6",
            "gridcolor": "white",
            "gridwidth": 2,
            "linecolor": "white",
            "showbackground": true,
            "ticks": "",
            "zerolinecolor": "white"
           },
           "yaxis": {
            "backgroundcolor": "#E5ECF6",
            "gridcolor": "white",
            "gridwidth": 2,
            "linecolor": "white",
            "showbackground": true,
            "ticks": "",
            "zerolinecolor": "white"
           },
           "zaxis": {
            "backgroundcolor": "#E5ECF6",
            "gridcolor": "white",
            "gridwidth": 2,
            "linecolor": "white",
            "showbackground": true,
            "ticks": "",
            "zerolinecolor": "white"
           }
          },
          "shapedefaults": {
           "line": {
            "color": "#2a3f5f"
           }
          },
          "ternary": {
           "aaxis": {
            "gridcolor": "white",
            "linecolor": "white",
            "ticks": ""
           },
           "baxis": {
            "gridcolor": "white",
            "linecolor": "white",
            "ticks": ""
           },
           "bgcolor": "#E5ECF6",
           "caxis": {
            "gridcolor": "white",
            "linecolor": "white",
            "ticks": ""
           }
          },
          "title": {
           "x": 0.05
          },
          "xaxis": {
           "automargin": true,
           "gridcolor": "white",
           "linecolor": "white",
           "ticks": "",
           "title": {
            "standoff": 15
           },
           "zerolinecolor": "white",
           "zerolinewidth": 2
          },
          "yaxis": {
           "automargin": true,
           "gridcolor": "white",
           "linecolor": "white",
           "ticks": "",
           "title": {
            "standoff": 15
           },
           "zerolinecolor": "white",
           "zerolinewidth": 2
          }
         }
        },
        "title": {
         "text": "Conversion to open the push, %. Top 5 cities"
        },
        "xaxis": {
         "anchor": "y",
         "domain": [
          0,
          1
         ],
         "title": {
          "text": "City name"
         }
        },
        "yaxis": {
         "anchor": "x",
         "domain": [
          0,
          1
         ],
         "title": {
          "text": "CR to Open"
         }
        }
       }
      }
     },
     "metadata": {},
     "output_type": "display_data"
    }
   ],
   "source": [
    "fig = px.bar(df_total_push.round(2), x='city_name', color='night_time_flag', y='share_y',\n",
    "             title='Conversion to open the push, %. Top 5 cities',\n",
    "             labels={'night_time_flag': 'Night time', 'city_name': 'City name', 'share_y': 'CR to Open'},\n",
    "             text_auto=True)\n",
    "fig.show()"
   ]
  },
  {
   "cell_type": "code",
   "execution_count": 194,
   "id": "ea61186a",
   "metadata": {},
   "outputs": [
    {
     "data": {
      "application/vnd.plotly.v1+json": {
       "config": {
        "plotlyServerURL": "https://plot.ly"
       },
       "data": [
        {
         "alignmentgroup": "True",
         "hovertemplate": "Night time=True<br>City name=%{x}<br>Share of affected users=%{y}<extra></extra>",
         "legendgroup": "True",
         "marker": {
          "color": "#636efa",
          "pattern": {
           "shape": ""
          }
         },
         "name": "True",
         "offsetgroup": "True",
         "orientation": "v",
         "showlegend": true,
         "textposition": "auto",
         "texttemplate": "%{y}",
         "type": "bar",
         "x": [
          "Караганда",
          "Атырау",
          "Астана (Нур-Султан)",
          "Алматы",
          "Актобе"
         ],
         "xaxis": "x",
         "y": [
          0.91,
          0.45,
          0.37,
          0.11,
          0.5
         ],
         "yaxis": "y"
        },
        {
         "alignmentgroup": "True",
         "hovertemplate": "Night time=False<br>City name=%{x}<br>Share of affected users=%{y}<extra></extra>",
         "legendgroup": "False",
         "marker": {
          "color": "#EF553B",
          "pattern": {
           "shape": ""
          }
         },
         "name": "False",
         "offsetgroup": "False",
         "orientation": "v",
         "showlegend": true,
         "textposition": "auto",
         "texttemplate": "%{y}",
         "type": "bar",
         "x": [
          "Караганда",
          "Атырау",
          "Астана (Нур-Султан)",
          "Алматы",
          "Актобе"
         ],
         "xaxis": "x",
         "y": [
          0.78,
          0.38,
          0.52,
          0.18,
          0.41
         ],
         "yaxis": "y"
        }
       ],
       "layout": {
        "barmode": "relative",
        "legend": {
         "title": {
          "text": "Night time"
         },
         "tracegroupgap": 0
        },
        "template": {
         "data": {
          "bar": [
           {
            "error_x": {
             "color": "#2a3f5f"
            },
            "error_y": {
             "color": "#2a3f5f"
            },
            "marker": {
             "line": {
              "color": "#E5ECF6",
              "width": 0.5
             },
             "pattern": {
              "fillmode": "overlay",
              "size": 10,
              "solidity": 0.2
             }
            },
            "type": "bar"
           }
          ],
          "barpolar": [
           {
            "marker": {
             "line": {
              "color": "#E5ECF6",
              "width": 0.5
             },
             "pattern": {
              "fillmode": "overlay",
              "size": 10,
              "solidity": 0.2
             }
            },
            "type": "barpolar"
           }
          ],
          "carpet": [
           {
            "aaxis": {
             "endlinecolor": "#2a3f5f",
             "gridcolor": "white",
             "linecolor": "white",
             "minorgridcolor": "white",
             "startlinecolor": "#2a3f5f"
            },
            "baxis": {
             "endlinecolor": "#2a3f5f",
             "gridcolor": "white",
             "linecolor": "white",
             "minorgridcolor": "white",
             "startlinecolor": "#2a3f5f"
            },
            "type": "carpet"
           }
          ],
          "choropleth": [
           {
            "colorbar": {
             "outlinewidth": 0,
             "ticks": ""
            },
            "type": "choropleth"
           }
          ],
          "contour": [
           {
            "colorbar": {
             "outlinewidth": 0,
             "ticks": ""
            },
            "colorscale": [
             [
              0,
              "#0d0887"
             ],
             [
              0.1111111111111111,
              "#46039f"
             ],
             [
              0.2222222222222222,
              "#7201a8"
             ],
             [
              0.3333333333333333,
              "#9c179e"
             ],
             [
              0.4444444444444444,
              "#bd3786"
             ],
             [
              0.5555555555555556,
              "#d8576b"
             ],
             [
              0.6666666666666666,
              "#ed7953"
             ],
             [
              0.7777777777777778,
              "#fb9f3a"
             ],
             [
              0.8888888888888888,
              "#fdca26"
             ],
             [
              1,
              "#f0f921"
             ]
            ],
            "type": "contour"
           }
          ],
          "contourcarpet": [
           {
            "colorbar": {
             "outlinewidth": 0,
             "ticks": ""
            },
            "type": "contourcarpet"
           }
          ],
          "heatmap": [
           {
            "colorbar": {
             "outlinewidth": 0,
             "ticks": ""
            },
            "colorscale": [
             [
              0,
              "#0d0887"
             ],
             [
              0.1111111111111111,
              "#46039f"
             ],
             [
              0.2222222222222222,
              "#7201a8"
             ],
             [
              0.3333333333333333,
              "#9c179e"
             ],
             [
              0.4444444444444444,
              "#bd3786"
             ],
             [
              0.5555555555555556,
              "#d8576b"
             ],
             [
              0.6666666666666666,
              "#ed7953"
             ],
             [
              0.7777777777777778,
              "#fb9f3a"
             ],
             [
              0.8888888888888888,
              "#fdca26"
             ],
             [
              1,
              "#f0f921"
             ]
            ],
            "type": "heatmap"
           }
          ],
          "heatmapgl": [
           {
            "colorbar": {
             "outlinewidth": 0,
             "ticks": ""
            },
            "colorscale": [
             [
              0,
              "#0d0887"
             ],
             [
              0.1111111111111111,
              "#46039f"
             ],
             [
              0.2222222222222222,
              "#7201a8"
             ],
             [
              0.3333333333333333,
              "#9c179e"
             ],
             [
              0.4444444444444444,
              "#bd3786"
             ],
             [
              0.5555555555555556,
              "#d8576b"
             ],
             [
              0.6666666666666666,
              "#ed7953"
             ],
             [
              0.7777777777777778,
              "#fb9f3a"
             ],
             [
              0.8888888888888888,
              "#fdca26"
             ],
             [
              1,
              "#f0f921"
             ]
            ],
            "type": "heatmapgl"
           }
          ],
          "histogram": [
           {
            "marker": {
             "pattern": {
              "fillmode": "overlay",
              "size": 10,
              "solidity": 0.2
             }
            },
            "type": "histogram"
           }
          ],
          "histogram2d": [
           {
            "colorbar": {
             "outlinewidth": 0,
             "ticks": ""
            },
            "colorscale": [
             [
              0,
              "#0d0887"
             ],
             [
              0.1111111111111111,
              "#46039f"
             ],
             [
              0.2222222222222222,
              "#7201a8"
             ],
             [
              0.3333333333333333,
              "#9c179e"
             ],
             [
              0.4444444444444444,
              "#bd3786"
             ],
             [
              0.5555555555555556,
              "#d8576b"
             ],
             [
              0.6666666666666666,
              "#ed7953"
             ],
             [
              0.7777777777777778,
              "#fb9f3a"
             ],
             [
              0.8888888888888888,
              "#fdca26"
             ],
             [
              1,
              "#f0f921"
             ]
            ],
            "type": "histogram2d"
           }
          ],
          "histogram2dcontour": [
           {
            "colorbar": {
             "outlinewidth": 0,
             "ticks": ""
            },
            "colorscale": [
             [
              0,
              "#0d0887"
             ],
             [
              0.1111111111111111,
              "#46039f"
             ],
             [
              0.2222222222222222,
              "#7201a8"
             ],
             [
              0.3333333333333333,
              "#9c179e"
             ],
             [
              0.4444444444444444,
              "#bd3786"
             ],
             [
              0.5555555555555556,
              "#d8576b"
             ],
             [
              0.6666666666666666,
              "#ed7953"
             ],
             [
              0.7777777777777778,
              "#fb9f3a"
             ],
             [
              0.8888888888888888,
              "#fdca26"
             ],
             [
              1,
              "#f0f921"
             ]
            ],
            "type": "histogram2dcontour"
           }
          ],
          "mesh3d": [
           {
            "colorbar": {
             "outlinewidth": 0,
             "ticks": ""
            },
            "type": "mesh3d"
           }
          ],
          "parcoords": [
           {
            "line": {
             "colorbar": {
              "outlinewidth": 0,
              "ticks": ""
             }
            },
            "type": "parcoords"
           }
          ],
          "pie": [
           {
            "automargin": true,
            "type": "pie"
           }
          ],
          "scatter": [
           {
            "fillpattern": {
             "fillmode": "overlay",
             "size": 10,
             "solidity": 0.2
            },
            "type": "scatter"
           }
          ],
          "scatter3d": [
           {
            "line": {
             "colorbar": {
              "outlinewidth": 0,
              "ticks": ""
             }
            },
            "marker": {
             "colorbar": {
              "outlinewidth": 0,
              "ticks": ""
             }
            },
            "type": "scatter3d"
           }
          ],
          "scattercarpet": [
           {
            "marker": {
             "colorbar": {
              "outlinewidth": 0,
              "ticks": ""
             }
            },
            "type": "scattercarpet"
           }
          ],
          "scattergeo": [
           {
            "marker": {
             "colorbar": {
              "outlinewidth": 0,
              "ticks": ""
             }
            },
            "type": "scattergeo"
           }
          ],
          "scattergl": [
           {
            "marker": {
             "colorbar": {
              "outlinewidth": 0,
              "ticks": ""
             }
            },
            "type": "scattergl"
           }
          ],
          "scattermapbox": [
           {
            "marker": {
             "colorbar": {
              "outlinewidth": 0,
              "ticks": ""
             }
            },
            "type": "scattermapbox"
           }
          ],
          "scatterpolar": [
           {
            "marker": {
             "colorbar": {
              "outlinewidth": 0,
              "ticks": ""
             }
            },
            "type": "scatterpolar"
           }
          ],
          "scatterpolargl": [
           {
            "marker": {
             "colorbar": {
              "outlinewidth": 0,
              "ticks": ""
             }
            },
            "type": "scatterpolargl"
           }
          ],
          "scatterternary": [
           {
            "marker": {
             "colorbar": {
              "outlinewidth": 0,
              "ticks": ""
             }
            },
            "type": "scatterternary"
           }
          ],
          "surface": [
           {
            "colorbar": {
             "outlinewidth": 0,
             "ticks": ""
            },
            "colorscale": [
             [
              0,
              "#0d0887"
             ],
             [
              0.1111111111111111,
              "#46039f"
             ],
             [
              0.2222222222222222,
              "#7201a8"
             ],
             [
              0.3333333333333333,
              "#9c179e"
             ],
             [
              0.4444444444444444,
              "#bd3786"
             ],
             [
              0.5555555555555556,
              "#d8576b"
             ],
             [
              0.6666666666666666,
              "#ed7953"
             ],
             [
              0.7777777777777778,
              "#fb9f3a"
             ],
             [
              0.8888888888888888,
              "#fdca26"
             ],
             [
              1,
              "#f0f921"
             ]
            ],
            "type": "surface"
           }
          ],
          "table": [
           {
            "cells": {
             "fill": {
              "color": "#EBF0F8"
             },
             "line": {
              "color": "white"
             }
            },
            "header": {
             "fill": {
              "color": "#C8D4E3"
             },
             "line": {
              "color": "white"
             }
            },
            "type": "table"
           }
          ]
         },
         "layout": {
          "annotationdefaults": {
           "arrowcolor": "#2a3f5f",
           "arrowhead": 0,
           "arrowwidth": 1
          },
          "autotypenumbers": "strict",
          "coloraxis": {
           "colorbar": {
            "outlinewidth": 0,
            "ticks": ""
           }
          },
          "colorscale": {
           "diverging": [
            [
             0,
             "#8e0152"
            ],
            [
             0.1,
             "#c51b7d"
            ],
            [
             0.2,
             "#de77ae"
            ],
            [
             0.3,
             "#f1b6da"
            ],
            [
             0.4,
             "#fde0ef"
            ],
            [
             0.5,
             "#f7f7f7"
            ],
            [
             0.6,
             "#e6f5d0"
            ],
            [
             0.7,
             "#b8e186"
            ],
            [
             0.8,
             "#7fbc41"
            ],
            [
             0.9,
             "#4d9221"
            ],
            [
             1,
             "#276419"
            ]
           ],
           "sequential": [
            [
             0,
             "#0d0887"
            ],
            [
             0.1111111111111111,
             "#46039f"
            ],
            [
             0.2222222222222222,
             "#7201a8"
            ],
            [
             0.3333333333333333,
             "#9c179e"
            ],
            [
             0.4444444444444444,
             "#bd3786"
            ],
            [
             0.5555555555555556,
             "#d8576b"
            ],
            [
             0.6666666666666666,
             "#ed7953"
            ],
            [
             0.7777777777777778,
             "#fb9f3a"
            ],
            [
             0.8888888888888888,
             "#fdca26"
            ],
            [
             1,
             "#f0f921"
            ]
           ],
           "sequentialminus": [
            [
             0,
             "#0d0887"
            ],
            [
             0.1111111111111111,
             "#46039f"
            ],
            [
             0.2222222222222222,
             "#7201a8"
            ],
            [
             0.3333333333333333,
             "#9c179e"
            ],
            [
             0.4444444444444444,
             "#bd3786"
            ],
            [
             0.5555555555555556,
             "#d8576b"
            ],
            [
             0.6666666666666666,
             "#ed7953"
            ],
            [
             0.7777777777777778,
             "#fb9f3a"
            ],
            [
             0.8888888888888888,
             "#fdca26"
            ],
            [
             1,
             "#f0f921"
            ]
           ]
          },
          "colorway": [
           "#636efa",
           "#EF553B",
           "#00cc96",
           "#ab63fa",
           "#FFA15A",
           "#19d3f3",
           "#FF6692",
           "#B6E880",
           "#FF97FF",
           "#FECB52"
          ],
          "font": {
           "color": "#2a3f5f"
          },
          "geo": {
           "bgcolor": "white",
           "lakecolor": "white",
           "landcolor": "#E5ECF6",
           "showlakes": true,
           "showland": true,
           "subunitcolor": "white"
          },
          "hoverlabel": {
           "align": "left"
          },
          "hovermode": "closest",
          "mapbox": {
           "style": "light"
          },
          "paper_bgcolor": "white",
          "plot_bgcolor": "#E5ECF6",
          "polar": {
           "angularaxis": {
            "gridcolor": "white",
            "linecolor": "white",
            "ticks": ""
           },
           "bgcolor": "#E5ECF6",
           "radialaxis": {
            "gridcolor": "white",
            "linecolor": "white",
            "ticks": ""
           }
          },
          "scene": {
           "xaxis": {
            "backgroundcolor": "#E5ECF6",
            "gridcolor": "white",
            "gridwidth": 2,
            "linecolor": "white",
            "showbackground": true,
            "ticks": "",
            "zerolinecolor": "white"
           },
           "yaxis": {
            "backgroundcolor": "#E5ECF6",
            "gridcolor": "white",
            "gridwidth": 2,
            "linecolor": "white",
            "showbackground": true,
            "ticks": "",
            "zerolinecolor": "white"
           },
           "zaxis": {
            "backgroundcolor": "#E5ECF6",
            "gridcolor": "white",
            "gridwidth": 2,
            "linecolor": "white",
            "showbackground": true,
            "ticks": "",
            "zerolinecolor": "white"
           }
          },
          "shapedefaults": {
           "line": {
            "color": "#2a3f5f"
           }
          },
          "ternary": {
           "aaxis": {
            "gridcolor": "white",
            "linecolor": "white",
            "ticks": ""
           },
           "baxis": {
            "gridcolor": "white",
            "linecolor": "white",
            "ticks": ""
           },
           "bgcolor": "#E5ECF6",
           "caxis": {
            "gridcolor": "white",
            "linecolor": "white",
            "ticks": ""
           }
          },
          "title": {
           "x": 0.05
          },
          "xaxis": {
           "automargin": true,
           "gridcolor": "white",
           "linecolor": "white",
           "ticks": "",
           "title": {
            "standoff": 15
           },
           "zerolinecolor": "white",
           "zerolinewidth": 2
          },
          "yaxis": {
           "automargin": true,
           "gridcolor": "white",
           "linecolor": "white",
           "ticks": "",
           "title": {
            "standoff": 15
           },
           "zerolinecolor": "white",
           "zerolinewidth": 2
          }
         }
        },
        "title": {
         "text": "Share of impact, %. Top 5 cities"
        },
        "xaxis": {
         "anchor": "y",
         "domain": [
          0,
          1
         ],
         "title": {
          "text": "City name"
         }
        },
        "yaxis": {
         "anchor": "x",
         "domain": [
          0,
          1
         ],
         "title": {
          "text": "Share of affected users"
         }
        }
       }
      }
     },
     "metadata": {},
     "output_type": "display_data"
    }
   ],
   "source": [
    "fig = px.bar(df_total_push.round(2), x='city_name', color='night_time_flag', y='share_x',\n",
    "             title='Share of impact, %. Top 5 cities',\n",
    "             labels={'night_time_flag': 'Night time', 'city_name': 'City name', 'share_x': 'Share of affected users'},\n",
    "             text_auto=True)\n",
    "fig.show()"
   ]
  },
  {
   "cell_type": "markdown",
   "id": "c8ab1bec",
   "metadata": {},
   "source": [
    "## Incidents"
   ]
  },
  {
   "cell_type": "code",
   "execution_count": 145,
   "id": "dd07aa23",
   "metadata": {},
   "outputs": [
    {
     "data": {
      "text/html": [
       "<div>\n",
       "<style scoped>\n",
       "    .dataframe tbody tr th:only-of-type {\n",
       "        vertical-align: middle;\n",
       "    }\n",
       "\n",
       "    .dataframe tbody tr th {\n",
       "        vertical-align: top;\n",
       "    }\n",
       "\n",
       "    .dataframe thead th {\n",
       "        text-align: right;\n",
       "    }\n",
       "</style>\n",
       "<table border=\"1\" class=\"dataframe\">\n",
       "  <thead>\n",
       "    <tr style=\"text-align: right;\">\n",
       "      <th></th>\n",
       "      <th>user_id</th>\n",
       "      <th>event</th>\n",
       "      <th>date</th>\n",
       "      <th>night_time_flg</th>\n",
       "      <th>redmine_id</th>\n",
       "      <th>aggressor_mode</th>\n",
       "      <th>aggressor_id</th>\n",
       "      <th>pass_id</th>\n",
       "      <th>driver_id</th>\n",
       "      <th>city_id</th>\n",
       "      <th>city_name</th>\n",
       "      <th>incident_date</th>\n",
       "      <th>incident_type</th>\n",
       "      <th>incident_level</th>\n",
       "      <th>information_status</th>\n",
       "      <th>incident_level_digit</th>\n",
       "    </tr>\n",
       "  </thead>\n",
       "  <tbody>\n",
       "    <tr>\n",
       "      <th>0</th>\n",
       "      <td>119230569</td>\n",
       "      <td>push_deliver</td>\n",
       "      <td>2025-06-22</td>\n",
       "      <td>1</td>\n",
       "      <td>None</td>\n",
       "      <td>None</td>\n",
       "      <td>&lt;NA&gt;</td>\n",
       "      <td>&lt;NA&gt;</td>\n",
       "      <td>&lt;NA&gt;</td>\n",
       "      <td>&lt;NA&gt;</td>\n",
       "      <td>None</td>\n",
       "      <td>NaT</td>\n",
       "      <td>None</td>\n",
       "      <td>None</td>\n",
       "      <td>None</td>\n",
       "      <td>&lt;NA&gt;</td>\n",
       "    </tr>\n",
       "    <tr>\n",
       "      <th>1</th>\n",
       "      <td>238184160</td>\n",
       "      <td>push_deliver</td>\n",
       "      <td>2025-07-06</td>\n",
       "      <td>1</td>\n",
       "      <td>None</td>\n",
       "      <td>None</td>\n",
       "      <td>&lt;NA&gt;</td>\n",
       "      <td>&lt;NA&gt;</td>\n",
       "      <td>&lt;NA&gt;</td>\n",
       "      <td>&lt;NA&gt;</td>\n",
       "      <td>None</td>\n",
       "      <td>NaT</td>\n",
       "      <td>None</td>\n",
       "      <td>None</td>\n",
       "      <td>None</td>\n",
       "      <td>&lt;NA&gt;</td>\n",
       "    </tr>\n",
       "    <tr>\n",
       "      <th>2</th>\n",
       "      <td>61520203</td>\n",
       "      <td>push_deliver</td>\n",
       "      <td>2025-06-29</td>\n",
       "      <td>0</td>\n",
       "      <td>None</td>\n",
       "      <td>None</td>\n",
       "      <td>&lt;NA&gt;</td>\n",
       "      <td>&lt;NA&gt;</td>\n",
       "      <td>&lt;NA&gt;</td>\n",
       "      <td>&lt;NA&gt;</td>\n",
       "      <td>None</td>\n",
       "      <td>NaT</td>\n",
       "      <td>None</td>\n",
       "      <td>None</td>\n",
       "      <td>None</td>\n",
       "      <td>&lt;NA&gt;</td>\n",
       "    </tr>\n",
       "    <tr>\n",
       "      <th>3</th>\n",
       "      <td>7234557</td>\n",
       "      <td>push_deliver</td>\n",
       "      <td>2025-06-22</td>\n",
       "      <td>0</td>\n",
       "      <td>None</td>\n",
       "      <td>None</td>\n",
       "      <td>&lt;NA&gt;</td>\n",
       "      <td>&lt;NA&gt;</td>\n",
       "      <td>&lt;NA&gt;</td>\n",
       "      <td>&lt;NA&gt;</td>\n",
       "      <td>None</td>\n",
       "      <td>NaT</td>\n",
       "      <td>None</td>\n",
       "      <td>None</td>\n",
       "      <td>None</td>\n",
       "      <td>&lt;NA&gt;</td>\n",
       "    </tr>\n",
       "    <tr>\n",
       "      <th>4</th>\n",
       "      <td>7209195</td>\n",
       "      <td>push_deliver</td>\n",
       "      <td>2025-07-06</td>\n",
       "      <td>1</td>\n",
       "      <td>None</td>\n",
       "      <td>None</td>\n",
       "      <td>&lt;NA&gt;</td>\n",
       "      <td>&lt;NA&gt;</td>\n",
       "      <td>&lt;NA&gt;</td>\n",
       "      <td>&lt;NA&gt;</td>\n",
       "      <td>None</td>\n",
       "      <td>NaT</td>\n",
       "      <td>None</td>\n",
       "      <td>None</td>\n",
       "      <td>None</td>\n",
       "      <td>&lt;NA&gt;</td>\n",
       "    </tr>\n",
       "  </tbody>\n",
       "</table>\n",
       "</div>"
      ],
      "text/plain": [
       "     user_id         event        date  night_time_flg redmine_id aggressor_mode  aggressor_id  pass_id  driver_id  city_id city_name incident_date incident_type incident_level information_status  incident_level_digit\n",
       "0  119230569  push_deliver  2025-06-22               1       None           None          <NA>     <NA>       <NA>     <NA>      None           NaT          None           None               None                  <NA>\n",
       "1  238184160  push_deliver  2025-07-06               1       None           None          <NA>     <NA>       <NA>     <NA>      None           NaT          None           None               None                  <NA>\n",
       "2   61520203  push_deliver  2025-06-29               0       None           None          <NA>     <NA>       <NA>     <NA>      None           NaT          None           None               None                  <NA>\n",
       "3    7234557  push_deliver  2025-06-22               0       None           None          <NA>     <NA>       <NA>     <NA>      None           NaT          None           None               None                  <NA>\n",
       "4    7209195  push_deliver  2025-07-06               1       None           None          <NA>     <NA>       <NA>     <NA>      None           NaT          None           None               None                  <NA>"
      ]
     },
     "execution_count": 145,
     "metadata": {},
     "output_type": "execute_result"
    }
   ],
   "source": [
    "df_inc = read_bq(\"\"\"\n",
    "WITH incidents AS (SELECT redmine_id,\n",
    "                          'driver'  AS aggressor_mode,\n",
    "                          driver_id AS aggressor_id,\n",
    "                          pass_id,\n",
    "                          driver_id,\n",
    "                          city_id,\n",
    "                          city_name,\n",
    "                          incident_date,\n",
    "                          incident_type,\n",
    "                          incident_level,\n",
    "                          information_status,\n",
    "                          CASE\n",
    "                              WHEN incident_level = 'Green' THEN 1\n",
    "                              WHEN incident_level = 'Yellow' THEN 2\n",
    "                              WHEN incident_level = 'Red' THEN 3\n",
    "                              ELSE 0\n",
    "                              END      incident_level_digit\n",
    "                   FROM indriver-bi.safety.vw_safety_incidents_detail\n",
    "                   WHERE aggressor = 'Driver'\n",
    "                     AND incident_date >= '2025-05-01'\n",
    "                   UNION\n",
    "                   DISTINCT\n",
    "                   SELECT redmine_id,\n",
    "                          'pax'   AS aggressor_mode,\n",
    "                          pass_id AS aggressor_id,\n",
    "                          pass_id,\n",
    "                          driver_id,\n",
    "                          city_id,\n",
    "                          city_name,\n",
    "                          incident_date,\n",
    "                          incident_type,\n",
    "                          incident_level,\n",
    "                          information_status,\n",
    "                          CASE\n",
    "                              WHEN incident_level = 'Green' THEN 1\n",
    "                              WHEN incident_level = 'Yellow' THEN 2\n",
    "                              WHEN incident_level = 'Red' THEN 3\n",
    "                              ELSE 0\n",
    "                              END    incident_level_digit\n",
    "                   FROM indriver-bi.safety.vw_safety_incidents_detail\n",
    "                   WHERE aggressor = 'Passenger'\n",
    "                     AND incident_date >= '2025-05-01'),\n",
    "     push AS (SELECT DISTINCT user_id,\n",
    "                              event,\n",
    "                              DATE_TRUNC(DATE(DATETIME(created_dttm_part, t3.timezone)), WEEK) AS date,\n",
    "                              IF(EXTRACT(HOUR FROM DATETIME(created_dttm_part, t3.timezone)) IN\n",
    "                                 (21, 22, 23, 0, 1, 2, 3, 4, 5), 1,\n",
    "                                 0)                                                            AS night_time_flg,\n",
    "              FROM indriver-e6e40.ods_smartnotif_cdc.push_stats_global t1\n",
    "                       LEFT JOIN (SELECT id,\n",
    "                                         city_id,\n",
    "                                         CASE\n",
    "                                             WHEN LOWER(osversion) LIKE '%android%' THEN 'android'\n",
    "                                             WHEN LOWER(osversion) LIKE '%ios%' THEN 'ios'\n",
    "                                             ELSE 'android'\n",
    "                                             END os\n",
    "                                  FROM dwh-storage-327422.personal_data.tbl_user_act) t2 ON t1.user_id = t2.id\n",
    "                       JOIN indriver-e6e40.ods_monolith.tbl_city t3 ON t2.city_id = t3.id\n",
    "              WHERE source_name = 'in-trip-monitoring'\n",
    "                AND event = 'push_deliver'\n",
    "                AND country_id = 2)\n",
    "SELECT *\n",
    "FROM push t1\n",
    "         LEFT JOIN incidents t2 ON t1.user_id = t2.pass_id AND t2.incident_date >= t1.date\n",
    "\n",
    "\n",
    "-- Not confirmed\n",
    "-- Confirmed\n",
    "-- False\n",
    "-- Under the investigation\n",
    "-- FALSE\n",
    "-- Automated ML decision\n",
    "\n",
    "\"\"\")\n",
    "\n",
    "df_inc.head()"
   ]
  },
  {
   "cell_type": "code",
   "execution_count": 146,
   "id": "eeb3bfdf",
   "metadata": {},
   "outputs": [
    {
     "data": {
      "text/html": [
       "<div>\n",
       "<style scoped>\n",
       "    .dataframe tbody tr th:only-of-type {\n",
       "        vertical-align: middle;\n",
       "    }\n",
       "\n",
       "    .dataframe tbody tr th {\n",
       "        vertical-align: top;\n",
       "    }\n",
       "\n",
       "    .dataframe thead th {\n",
       "        text-align: right;\n",
       "    }\n",
       "</style>\n",
       "<table border=\"1\" class=\"dataframe\">\n",
       "  <thead>\n",
       "    <tr style=\"text-align: right;\">\n",
       "      <th></th>\n",
       "      <th>date</th>\n",
       "      <th>night_time_flg</th>\n",
       "      <th>user_id</th>\n",
       "      <th>redmine_id</th>\n",
       "      <th>ir</th>\n",
       "      <th>ir_usual</th>\n",
       "    </tr>\n",
       "  </thead>\n",
       "  <tbody>\n",
       "    <tr>\n",
       "      <th>0</th>\n",
       "      <td>2025-06-15</td>\n",
       "      <td>0</td>\n",
       "      <td>224</td>\n",
       "      <td>0</td>\n",
       "      <td>0.00</td>\n",
       "      <td>0.00</td>\n",
       "    </tr>\n",
       "    <tr>\n",
       "      <th>2</th>\n",
       "      <td>2025-06-22</td>\n",
       "      <td>0</td>\n",
       "      <td>3507</td>\n",
       "      <td>4</td>\n",
       "      <td>0.11</td>\n",
       "      <td>114.06</td>\n",
       "    </tr>\n",
       "    <tr>\n",
       "      <th>4</th>\n",
       "      <td>2025-06-29</td>\n",
       "      <td>0</td>\n",
       "      <td>5137</td>\n",
       "      <td>5</td>\n",
       "      <td>0.10</td>\n",
       "      <td>97.33</td>\n",
       "    </tr>\n",
       "    <tr>\n",
       "      <th>6</th>\n",
       "      <td>2025-07-06</td>\n",
       "      <td>0</td>\n",
       "      <td>3686</td>\n",
       "      <td>2</td>\n",
       "      <td>0.05</td>\n",
       "      <td>54.26</td>\n",
       "    </tr>\n",
       "    <tr>\n",
       "      <th>1</th>\n",
       "      <td>2025-06-15</td>\n",
       "      <td>1</td>\n",
       "      <td>90</td>\n",
       "      <td>0</td>\n",
       "      <td>0.00</td>\n",
       "      <td>0.00</td>\n",
       "    </tr>\n",
       "    <tr>\n",
       "      <th>3</th>\n",
       "      <td>2025-06-22</td>\n",
       "      <td>1</td>\n",
       "      <td>1509</td>\n",
       "      <td>0</td>\n",
       "      <td>0.00</td>\n",
       "      <td>0.00</td>\n",
       "    </tr>\n",
       "    <tr>\n",
       "      <th>5</th>\n",
       "      <td>2025-06-29</td>\n",
       "      <td>1</td>\n",
       "      <td>2145</td>\n",
       "      <td>3</td>\n",
       "      <td>0.14</td>\n",
       "      <td>139.86</td>\n",
       "    </tr>\n",
       "    <tr>\n",
       "      <th>7</th>\n",
       "      <td>2025-07-06</td>\n",
       "      <td>1</td>\n",
       "      <td>1611</td>\n",
       "      <td>0</td>\n",
       "      <td>0.00</td>\n",
       "      <td>0.00</td>\n",
       "    </tr>\n",
       "  </tbody>\n",
       "</table>\n",
       "</div>"
      ],
      "text/plain": [
       "         date  night_time_flg  user_id  redmine_id   ir  ir_usual\n",
       "0  2025-06-15               0      224           0 0.00      0.00\n",
       "2  2025-06-22               0     3507           4 0.11    114.06\n",
       "4  2025-06-29               0     5137           5 0.10     97.33\n",
       "6  2025-07-06               0     3686           2 0.05     54.26\n",
       "1  2025-06-15               1       90           0 0.00      0.00\n",
       "3  2025-06-22               1     1509           0 0.00      0.00\n",
       "5  2025-06-29               1     2145           3 0.14    139.86\n",
       "7  2025-07-06               1     1611           0 0.00      0.00"
      ]
     },
     "execution_count": 146,
     "metadata": {},
     "output_type": "execute_result"
    }
   ],
   "source": [
    "df_inc_stat = df_inc.groupby(['date', 'night_time_flg'], as_index=False)[['user_id', 'redmine_id']].count().sort_values(['night_time_flg', 'date'], ascending=True)\n",
    "\n",
    "df_inc_stat['ir'] = df_inc_stat['redmine_id']/df_inc_stat['user_id']*100\n",
    "df_inc_stat['ir_usual'] = df_inc_stat['redmine_id']/df_inc_stat['user_id']*100000\n",
    "\n",
    "df_inc_stat"
   ]
  },
  {
   "cell_type": "code",
   "execution_count": 198,
   "id": "e5ab6f20",
   "metadata": {},
   "outputs": [
    {
     "data": {
      "text/html": [
       "<div>\n",
       "<style scoped>\n",
       "    .dataframe tbody tr th:only-of-type {\n",
       "        vertical-align: middle;\n",
       "    }\n",
       "\n",
       "    .dataframe tbody tr th {\n",
       "        vertical-align: top;\n",
       "    }\n",
       "\n",
       "    .dataframe thead th {\n",
       "        text-align: right;\n",
       "    }\n",
       "</style>\n",
       "<table border=\"1\" class=\"dataframe\">\n",
       "  <thead>\n",
       "    <tr style=\"text-align: right;\">\n",
       "      <th></th>\n",
       "      <th>incident_type</th>\n",
       "      <th>incident_level</th>\n",
       "      <th>information_status</th>\n",
       "    </tr>\n",
       "  </thead>\n",
       "  <tbody>\n",
       "    <tr>\n",
       "      <th>0</th>\n",
       "      <td>Accidents without victims</td>\n",
       "      <td>Green</td>\n",
       "      <td>1</td>\n",
       "    </tr>\n",
       "    <tr>\n",
       "      <th>1</th>\n",
       "      <td>Acquaintance</td>\n",
       "      <td>Yellow</td>\n",
       "      <td>1</td>\n",
       "    </tr>\n",
       "    <tr>\n",
       "      <th>2</th>\n",
       "      <td>Bothering before/after a trip SMS, call, messengers</td>\n",
       "      <td>Yellow</td>\n",
       "      <td>1</td>\n",
       "    </tr>\n",
       "    <tr>\n",
       "      <th>3</th>\n",
       "      <td>Bothering before/after a trip for the purpose of dating SMS, call, messengers</td>\n",
       "      <td>Yellow</td>\n",
       "      <td>3</td>\n",
       "    </tr>\n",
       "    <tr>\n",
       "      <th>4</th>\n",
       "      <td>Fight/bodily harm</td>\n",
       "      <td>Yellow</td>\n",
       "      <td>1</td>\n",
       "    </tr>\n",
       "  </tbody>\n",
       "</table>\n",
       "</div>"
      ],
      "text/plain": [
       "                                                                   incident_type incident_level  information_status\n",
       "0                                                      Accidents without victims          Green                   1\n",
       "1                                                                   Acquaintance         Yellow                   1\n",
       "2                            Bothering before/after a trip SMS, call, messengers         Yellow                   1\n",
       "3  Bothering before/after a trip for the purpose of dating SMS, call, messengers         Yellow                   3\n",
       "4                                                              Fight/bodily harm         Yellow                   1"
      ]
     },
     "execution_count": 198,
     "metadata": {},
     "output_type": "execute_result"
    }
   ],
   "source": [
    "df_inc[(~df_inc['redmine_id'].isna())&(df_inc['information_status']=='Confirmed')][[\n",
    "    'incident_type', \n",
    "    'incident_level', \n",
    "    'information_status'\n",
    "    ]].groupby(['incident_type', 'incident_level'],as_index=False).count()"
   ]
  },
  {
   "cell_type": "markdown",
   "id": "e7c32ff3",
   "metadata": {},
   "source": [
    "# Funnel creating"
   ]
  },
  {
   "cell_type": "code",
   "execution_count": null,
   "id": "4fcc8374",
   "metadata": {},
   "outputs": [
    {
     "data": {
      "image/png": "[encoded data removed]",
      "text/plain": [
       "<Figure size 1800x1200 with 1 Axes>"
      ]
     },
     "metadata": {
      "image/png": {
       "height": 965,
       "width": 1415
      }
     },
     "output_type": "display_data"
    },
    {
     "name": "stdout",
     "output_type": "stream",
     "text": [
      "Calculated Funnel Values:\n",
      "Total rides: Absolute = 8,500,073, Relative = 100.00%\n",
      "Rides with pushes: Absolute = 89,247, Relative = 1.05%\n",
      "Opened pushes / Entry screen: Absolute = 12,126, Relative = 13.59%\n",
      "Incidents via other channels: Absolute = 44, Relative = 0.36%\n",
      "Report: Absolute = 300, Relative = 2.47%\n",
      "Submit a report: Absolute = 100, Relative = 33.33%\n",
      "Everything is OK: Absolute = 5,434, Relative = 44.81%\n",
      "Ok button click: Absolute = 4,558, Relative = 83.88%\n",
      "Call emergency: Absolute = 55, Relative = 0.45%\n",
      "Emergency button click: Absolute = 18, Relative = 32.73%\n"
     ]
    }
   ],
   "source": [
    "\n",
    "data = {\n",
    "    \"rides\": 8500073,\n",
    "    \"push_deliver\": 89247,\n",
    "    \"client.intrip_entry.show\": 12126,\n",
    "    \"push_open\": 10981,\n",
    "    \"client.intrip_ok_button.click\": 4558,\n",
    "    \"client.intrip_ok_button.show\": 5400,\n",
    "    \"client.intrip_entry.click.ok\": 5434,\n",
    "    \"client.intrip_entry.click.report\": 300,\n",
    "    \"client.intrip_report.show\": 299,\n",
    "    \"client.intrip_report.click\": 100,\n",
    "    \"client.intrip_entry.click.call\": 55,\n",
    "    \"offsite_incidents\": 44,\n",
    "    \"safety_center.call_emergency_details.click\": 18,\n",
    "    \"client.intrip_report_result.click\": 6,\n",
    "    \"client.intrip_report_result.show\": 6\n",
    "}\n",
    "\n",
    "\n",
    "funnel_steps = [\n",
    "    (\"Total rides\", \"rides\", None),\n",
    "    (\"Rides with pushes\", \"push_deliver\", \"Total rides\"),\n",
    "    (\"Opened pushes / Entry screen\", \"client.intrip_entry.show\", \"Rides with pushes\"),\n",
    "    (\"Incidents via other channels\", \"offsite_incidents\", \"Opened pushes / Entry screen\"),\n",
    "    (\"Report\", \"client.intrip_entry.click.report\", \"Opened pushes / Entry screen\"),\n",
    "    (\"Submit a report\", \"client.intrip_report.click\", \"Report\"),\n",
    "    (\"Everything is OK\", \"client.intrip_entry.click.ok\", \"Opened pushes / Entry screen\"),\n",
    "    (\"Ok button click\", \"client.intrip_ok_button.click\", \"Everything is OK\"),\n",
    "    (\"Call emergency\", \"client.intrip_entry.click.call\", \"Opened pushes / Entry screen\"), \n",
    "    (\"Emergency button click\", \"safety_center.call_emergency_details.click\", \"Call emergency\")\n",
    "]\n",
    "\n",
    "calculated_values = {}\n",
    "\n",
    "for step_name, data_key, parent_name in funnel_steps:\n",
    "    absolute_value = data.get(data_key, 0)\n",
    "\n",
    "    relative_value = 0.0\n",
    "    if parent_name:\n",
    "        parent_absolute_value = calculated_values[parent_name][\"absolute\"]\n",
    "        if parent_absolute_value > 0:\n",
    "            relative_value = (absolute_value / parent_absolute_value) * 100\n",
    "        else:\n",
    "            relative_value = 0.0\n",
    "    else: \n",
    "        total_rides = data.get(\"rides\", 0)\n",
    "        if total_rides > 0:\n",
    "            relative_value = (absolute_value / total_rides) * 100\n",
    "        else:\n",
    "            relative_value = 0.0\n",
    "\n",
    "    calculated_values[step_name] = {\n",
    "        \"absolute\": absolute_value,\n",
    "        \"relative\": relative_value\n",
    "    }\n",
    "\n",
    "G = nx.DiGraph()\n",
    "\n",
    "for step_name, values in calculated_values.items():\n",
    "    label = f\"{step_name}\\n{values['absolute']:,}; {values['relative']:.1f}%\"\n",
    "    G.add_node(step_name, label=label)\n",
    "\n",
    "edges = [\n",
    "    (\"Total rides\", \"Rides with pushes\"),\n",
    "    (\"Rides with pushes\", \"Opened pushes / Entry screen\"),\n",
    "    (\"Opened pushes / Entry screen\", \"Incidents via other channels\"),\n",
    "    (\"Opened pushes / Entry screen\", \"Report\"),\n",
    "    (\"Opened pushes / Entry screen\", \"Everything is OK\"),\n",
    "    (\"Opened pushes / Entry screen\", \"Call emergency\"), \n",
    "    (\"Report\", \"Submit a report\"),\n",
    "    (\"Everything is OK\", \"Ok button click\"),\n",
    "    (\"Call emergency\", \"Emergency button click\")\n",
    "]\n",
    "\n",
    "for u, v in edges:\n",
    "    G.add_edge(u, v)\n",
    "\n",
    "plt.figure(figsize=(18, 12)) \n",
    "\n",
    "pos = {\n",
    "    \"Total rides\": (0, 0.5),\n",
    "    \"Rides with pushes\": (0.2, 0.5),\n",
    "    \"Opened pushes / Entry screen\": (0.4, 0.5),\n",
    "\n",
    "    \"Incidents via other channels\": (0.4, 0.15), \n",
    "\n",
    "    \"Report\": (0.6, 0.5), \n",
    "    \"Submit a report\": (0.8, 0.5),\n",
    "\n",
    "    \"Everything is OK\": (0.6, 0.25), \n",
    "    \"Ok button click\": (0.8, 0.25),\n",
    "\n",
    "    \"Call emergency\": (0.6, 0.75), \n",
    "    \"Emergency button click\": (0.8, 0.75)\n",
    "}\n",
    "\n",
    "nx.draw_networkx_nodes(G, pos, node_color='lightsteelblue', node_shape='s', node_size=15500, alpha=1)\n",
    "\n",
    "nx.draw_networkx_edges(G, pos, arrowstyle='-', arrowsize=10, edge_color='gray')\n",
    "\n",
    "node_labels = nx.get_node_attributes(G, 'label')\n",
    "nx.draw_networkx_labels(G, pos, labels=node_labels, font_size=9, font_weight='bold',\n",
    "                        verticalalignment='center')\n",
    "\n",
    "plt.title(\"Automated Funnel Visualization\")\n",
    "plt.axis('off') \n",
    "plt.show()\n",
    "\n",
    "print(\"Calculated Funnel Values:\")\n",
    "for step_name, values in calculated_values.items():\n",
    "    print(f\"{step_name}: Absolute = {values['absolute']:,}, Relative = {values['relative']:.2f}%\")"
   ]
  },
  {
   "cell_type": "code",
   "execution_count": null,
   "id": "55db1d77",
   "metadata": {},
   "outputs": [],
   "source": []
  }
 ],
 "metadata": {
  "kernelspec": {
   "display_name": "Python 3",
   "language": "python",
   "name": "python3"
  },
  "language_info": {
   "codemirror_mode": {
    "name": "ipython",
    "version": 3
   },
   "file_extension": ".py",
   "mimetype": "text/x-python",
   "name": "python",
   "nbconvert_exporter": "python",
   "pygments_lexer": "ipython3",
   "version": "3.9.6"
  }
 },
 "nbformat": 4,
 "nbformat_minor": 5
}
