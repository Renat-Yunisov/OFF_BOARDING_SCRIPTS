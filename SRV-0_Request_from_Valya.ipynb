{
 "cells": [
  {
   "cell_type": "code",
   "execution_count": 1,
   "metadata": {},
   "outputs": [
    {
     "data": {
      "text/html": [
       "<style>.container { width:80% !important; }</style>"
      ],
      "text/plain": [
       "<IPython.core.display.HTML object>"
      ]
     },
     "metadata": {},
     "output_type": "display_data"
    }
   ],
   "source": [
    "import plotly.express as px\n",
    "import pandas as pd\n",
    "from google.cloud import bigquery\n",
    "import numpy as np\n",
    "from datetime import time, timedelta, datetime\n",
    "import math \n",
    "import plotly.graph_objects as go\n",
    "import warnings\n",
    "warnings.filterwarnings('ignore')\n",
    "import scipy.stats as st\n",
    "from tqdm.notebook import tqdm\n",
    "import matplotlib.pyplot as plt\n",
    "import seaborn as sns\n",
    "import os\n",
    "import ipywidgets\n",
    "import statsmodels.stats.weightstats as sw\n",
    "from statsmodels.stats.proportion import test_proportions_2indep\n",
    "from IPython.display import display, HTML\n",
    "display(HTML(\"<style>.container { width:80% !important; }</style>\"))\n",
    "%config InlineBackend.figure_format='retina'\n",
    "from google.cloud import bigquery\n",
    "from scipy.stats import norm\n",
    "from scipy import stats\n",
    "pd.options.display.float_format = \"{:,.2f}\".format\n",
    "from scipy.stats import norm\n",
    "from scipy import stats\n",
    "import statsmodels.stats.weightstats as ws\n",
    "import openpyxl\n",
    "import plotly.graph_objects as go\n",
    "from plotly.subplots import make_subplots\n",
    "import AB_library\n",
    "# from itables import init_notebook_mode\n",
    "# init_notebook_mode(all_interactive=True)\n",
    "# df[\"Week\"] = df[\"Date\"].dt.to_period(\"W\").dt.to_timestamp()\n",
    "\n",
    "bigquery_client = bigquery.Client(project='analytics-dev-333113')\n",
    "\n",
    "def cycle_sql(start, end, query, weeks=False):\n",
    "    \"\"\"\n",
    "    You have to use {date} in your script to add cycle date into this backets\n",
    "    \"\"\"\n",
    "    date_start = datetime.strptime(start, '%Y-%m-%d')\n",
    "    date_end = datetime.strptime(end, '%Y-%m-%d')\n",
    "\n",
    "    if weeks == False:\n",
    "        daterange = [(date_start + timedelta(days=x)).strftime('%Y-%m-%d') for x in range(((date_end-date_start).days)+1)]\n",
    "    else:\n",
    "        daterange = [(date_start + timedelta(weeks=x)).strftime('%Y-%m-%d') for x in range(((date_end-date_start).days//7)+1)] # weeks dividing days by 7\n",
    "\n",
    "    total_df = pd.DataFrame()\n",
    "\n",
    "    counter = 0\n",
    "\n",
    "    for date in daterange:\n",
    "        counter+=1\n",
    "        print(f\"{counter}) Uploading - {date}:\", datetime.today().strftime('%Y-%m-%d %H:%M:%S'))\n",
    "        script = query.format(date = date)\n",
    "        df_cycle = bigquery_client.query(script).to_dataframe()\n",
    "        if df_cycle.empty == True:\n",
    "            print('Dataframe is empty')\n",
    "        total_df = pd.concat([df_cycle, total_df])\n",
    "    return total_df\n",
    "\n",
    "def read_bq(query, project='analytics-dev-333113'):\n",
    "    client = bigquery.Client(project=project)\n",
    "    query_job = client.query(query)\n",
    "    result_df = query_job.to_dataframe()\n",
    "    return result_df\n",
    "\n",
    "def display_side_by_side(*args):\n",
    "    html_str = ''\n",
    "    for df in args:\n",
    "        html_str += df.to_html()\n",
    "    display_html(\n",
    "        html_str.replace('table','table style=\"display:inline\"'), \n",
    "        raw=True\n",
    "    )\n",
    "\n",
    "def writing_excel(name:str, dataset1=None, dataset2=None, dataset3=None, dataset4=None):\n",
    "    with pd.ExcelWriter(f\"{name}.xlsx\") as writer:\n",
    "   \n",
    "    # use to_excel function and specify the sheet_name and index \n",
    "    # to store the dataframe in specified sheet\n",
    "\n",
    "        if dataset1 is not None:\n",
    "            if dataset2 is not None:\n",
    "                if dataset3 is not None:\n",
    "                    if dataset4 is not None:\n",
    "                        dataset1.to_excel(writer, sheet_name=f\"1-{name}\", \n",
    "                                        #   index=False\n",
    "                                          )\n",
    "                        dataset2.to_excel(writer, sheet_name=f\"2-{name}\", \n",
    "                                        #   index=False\n",
    "                                          )\n",
    "                        dataset3.to_excel(writer, sheet_name=f\"3-{name}\", \n",
    "                                        #   index=False\n",
    "                                          )\n",
    "                        dataset4.to_excel(writer, sheet_name=f\"4-{name}\", \n",
    "                                        #   index=False\n",
    "                                          )\n",
    "                    else:\n",
    "                        dataset1.to_excel(writer, sheet_name=f\"1-{name}\", \n",
    "                                        #   index=False\n",
    "                                          )\n",
    "                        dataset2.to_excel(writer, sheet_name=f\"2-{name}\", \n",
    "                                        #   index=False\n",
    "                                          )\n",
    "                        dataset3.to_excel(writer, sheet_name=f\"3-{name}\", \n",
    "                                        #   index=False\n",
    "                                          )\n",
    "                else:\n",
    "                    dataset1.to_excel(writer, sheet_name=f\"1-{name}\", \n",
    "                                    #   index=False\n",
    "                                      )\n",
    "                    dataset2.to_excel(writer, sheet_name=f\"2-{name}\", \n",
    "                                    #   index=False\n",
    "                                      )\n",
    "            else:\n",
    "                dataset1.to_excel(writer, sheet_name=f\"1-{name}\", \n",
    "                                #   index=False\n",
    "                                  )\n",
    "\n",
    "        print('DataFrame is written to Excel File successfully.')"
   ]
  },
  {
   "cell_type": "code",
   "execution_count": 4,
   "metadata": {},
   "outputs": [
    {
     "data": {
      "text/html": [
       "<div>\n",
       "<style scoped>\n",
       "    .dataframe tbody tr th:only-of-type {\n",
       "        vertical-align: middle;\n",
       "    }\n",
       "\n",
       "    .dataframe tbody tr th {\n",
       "        vertical-align: top;\n",
       "    }\n",
       "\n",
       "    .dataframe thead th {\n",
       "        text-align: right;\n",
       "    }\n",
       "</style>\n",
       "<table border=\"1\" class=\"dataframe\">\n",
       "  <thead>\n",
       "    <tr style=\"text-align: right;\">\n",
       "      <th></th>\n",
       "      <th>event_dt_part</th>\n",
       "      <th>mode</th>\n",
       "      <th>city_name</th>\n",
       "      <th>city_id</th>\n",
       "      <th>country_name</th>\n",
       "      <th>country_id</th>\n",
       "      <th>clicks</th>\n",
       "      <th>uniq_clicks</th>\n",
       "      <th>weekly</th>\n",
       "      <th>monthly</th>\n",
       "      <th>rides</th>\n",
       "    </tr>\n",
       "  </thead>\n",
       "  <tbody>\n",
       "    <tr>\n",
       "      <th>0</th>\n",
       "      <td>2024-10-01</td>\n",
       "      <td>pass</td>\n",
       "      <td>Sheikhupura</td>\n",
       "      <td>5384</td>\n",
       "      <td>Pakistan</td>\n",
       "      <td>60</td>\n",
       "      <td>5</td>\n",
       "      <td>4</td>\n",
       "      <td>2024-09-29</td>\n",
       "      <td>2024-10-01</td>\n",
       "      <td>75</td>\n",
       "    </tr>\n",
       "    <tr>\n",
       "      <th>1</th>\n",
       "      <td>2024-10-01</td>\n",
       "      <td>pass</td>\n",
       "      <td>Passo Fundo</td>\n",
       "      <td>7165</td>\n",
       "      <td>Brazil</td>\n",
       "      <td>11</td>\n",
       "      <td>8</td>\n",
       "      <td>6</td>\n",
       "      <td>2024-09-29</td>\n",
       "      <td>2024-10-01</td>\n",
       "      <td>287</td>\n",
       "    </tr>\n",
       "    <tr>\n",
       "      <th>2</th>\n",
       "      <td>2024-10-01</td>\n",
       "      <td>driver</td>\n",
       "      <td>Chetumal</td>\n",
       "      <td>5261</td>\n",
       "      <td>Mexico</td>\n",
       "      <td>12</td>\n",
       "      <td>8</td>\n",
       "      <td>5</td>\n",
       "      <td>2024-09-29</td>\n",
       "      <td>2024-10-01</td>\n",
       "      <td>155</td>\n",
       "    </tr>\n",
       "    <tr>\n",
       "      <th>3</th>\n",
       "      <td>2024-10-01</td>\n",
       "      <td>driver</td>\n",
       "      <td>Rio do Sul</td>\n",
       "      <td>22331</td>\n",
       "      <td>Brazil</td>\n",
       "      <td>11</td>\n",
       "      <td>1</td>\n",
       "      <td>1</td>\n",
       "      <td>2024-09-29</td>\n",
       "      <td>2024-10-01</td>\n",
       "      <td>137</td>\n",
       "    </tr>\n",
       "    <tr>\n",
       "      <th>4</th>\n",
       "      <td>2024-10-01</td>\n",
       "      <td>driver</td>\n",
       "      <td>Mogi das Cruzes</td>\n",
       "      <td>25961</td>\n",
       "      <td>Brazil</td>\n",
       "      <td>11</td>\n",
       "      <td>6</td>\n",
       "      <td>5</td>\n",
       "      <td>2024-09-29</td>\n",
       "      <td>2024-10-01</td>\n",
       "      <td>20</td>\n",
       "    </tr>\n",
       "  </tbody>\n",
       "</table>\n",
       "</div>"
      ],
      "text/plain": [
       "  event_dt_part    mode        city_name  city_id country_name  country_id  \\\n",
       "0    2024-10-01    pass      Sheikhupura     5384     Pakistan          60   \n",
       "1    2024-10-01    pass      Passo Fundo     7165       Brazil          11   \n",
       "2    2024-10-01  driver         Chetumal     5261       Mexico          12   \n",
       "3    2024-10-01  driver       Rio do Sul    22331       Brazil          11   \n",
       "4    2024-10-01  driver  Mogi das Cruzes    25961       Brazil          11   \n",
       "\n",
       "   clicks  uniq_clicks      weekly     monthly  rides  \n",
       "0       5            4  2024-09-29  2024-10-01     75  \n",
       "1       8            6  2024-09-29  2024-10-01    287  \n",
       "2       8            5  2024-09-29  2024-10-01    155  \n",
       "3       1            1  2024-09-29  2024-10-01    137  \n",
       "4       6            5  2024-09-29  2024-10-01     20  "
      ]
     },
     "execution_count": 4,
     "metadata": {},
     "output_type": "execute_result"
    }
   ],
   "source": [
    "df = read_bq(\"\"\"\n",
    "WITH sharing AS (SELECT t1.event_dt_part,\n",
    "                        IF((t3.mode = 'client'), 'pass', t3.mode) AS mode,\n",
    "                        t2.city_name,\n",
    "                        t2.city_id,\n",
    "                        t2.country_name,\n",
    "                        t2.country_id,\n",
    "                        COUNT(t1.user_id)                         AS clicks,\n",
    "                        COUNT(DISTINCT t1.user_id)                AS uniq_clicks\n",
    "                 FROM indriver-e6e40.emart.swrve_event t1\n",
    "                          JOIN indriver-e6e40.heap.vw_macroregion_mapping t2\n",
    "                               ON\n",
    "                                   t1.city_id = t2.city_id\n",
    "                          JOIN dwh-storage-327422.personal_data.tbl_user_act t3\n",
    "                               ON t1.user_id = t3.id\n",
    "                 WHERE 1 = 1\n",
    "                   AND t1.name IN (\n",
    "                     'safety_center.share_ride_info.click'\n",
    "                     )\n",
    "                   AND t1.event_dt_part >= '2024-10-01'\n",
    "                   AND t2.country_id IN (25, 11, 22, 10, 24, 60, 12)\n",
    "                 GROUP BY 1, 2, 3, 4, 5, 6),\n",
    "     rides AS (SELECT metric_date_utc, user_type, city_id, country_id, SUM(rides_count) AS rides\n",
    "               FROM indriver-bi.incity.tbl_incity_growth_metrics_detail\n",
    "               WHERE 1 = 1\n",
    "               GROUP BY 1, 2, 3, 4)\n",
    "SELECT t1.*,\n",
    "       DATE_TRUNC(event_dt_part, WEEK)  AS weekly,\n",
    "       DATE_TRUNC(event_dt_part, MONTH) AS monthly,\n",
    "       t2.rides\n",
    "FROM sharing t1\n",
    "         JOIN rides t2\n",
    "              ON t1.city_id = t2.city_id\n",
    "                  AND t1.event_dt_part = t2.metric_date_utc\n",
    "                  AND t1.mode = t2.user_type\n",
    "\"\"\")\n",
    "\n",
    "df.head()"
   ]
  },
  {
   "cell_type": "code",
   "execution_count": 18,
   "metadata": {},
   "outputs": [],
   "source": [
    "df_agg_month = df.groupby(['mode', 'monthly', 'country_name'], as_index=False)[['clicks', 'uniq_clicks', 'rides']].sum()\n",
    "df_agg_month['CTR_by_uniq_clicks'] = df_agg_month['uniq_clicks'] / df_agg_month['rides'] * 100\n",
    "df_agg_month.pivot_table(columns='mode', index=['monthly', 'country_name'], values='CTR_by_uniq_clicks', aggfunc='max')\n",
    "\n",
    "df_agg_week = df.groupby(['mode', 'weekly', 'country_name'], as_index=False)[['clicks', 'uniq_clicks', 'rides']].sum()\n",
    "df_agg_week['CTR_by_uniq_clicks'] = df_agg_week['uniq_clicks'] / df_agg_week['rides'] * 100\n",
    "df_agg_week['segment'] = df_agg_week['mode'] + ' - ' + df_agg_week['country_name']\n"
   ]
  },
  {
   "cell_type": "code",
   "execution_count": 42,
   "metadata": {},
   "outputs": [
    {
     "data": {
      "text/html": [
       "<div>\n",
       "<style scoped>\n",
       "    .dataframe tbody tr th:only-of-type {\n",
       "        vertical-align: middle;\n",
       "    }\n",
       "\n",
       "    .dataframe tbody tr th {\n",
       "        vertical-align: top;\n",
       "    }\n",
       "\n",
       "    .dataframe thead th {\n",
       "        text-align: right;\n",
       "    }\n",
       "</style>\n",
       "<table border=\"1\" class=\"dataframe\">\n",
       "  <thead>\n",
       "    <tr style=\"text-align: right;\">\n",
       "      <th></th>\n",
       "      <th>country_name</th>\n",
       "      <th>clicks</th>\n",
       "      <th>uniq_clicks</th>\n",
       "      <th>rides</th>\n",
       "    </tr>\n",
       "  </thead>\n",
       "  <tbody>\n",
       "    <tr>\n",
       "      <th>0</th>\n",
       "      <td>Pakistan</td>\n",
       "      <td>66,037.00</td>\n",
       "      <td>53,177.00</td>\n",
       "      <td>2,717,646.00</td>\n",
       "    </tr>\n",
       "    <tr>\n",
       "      <th>1</th>\n",
       "      <td>South Africa</td>\n",
       "      <td>18,362.00</td>\n",
       "      <td>14,201.00</td>\n",
       "      <td>554,324.00</td>\n",
       "    </tr>\n",
       "  </tbody>\n",
       "</table>\n",
       "</div>"
      ],
      "text/plain": [
       "   country_name    clicks  uniq_clicks        rides\n",
       "0      Pakistan 66,037.00    53,177.00 2,717,646.00\n",
       "1  South Africa 18,362.00    14,201.00   554,324.00"
      ]
     },
     "execution_count": 42,
     "metadata": {},
     "output_type": "execute_result"
    }
   ],
   "source": [
    "df_agg_week[df_agg_week['country_name'].isin(['Pakistan', 'South Africa'])].groupby(['country_name'], as_index=False)[['clicks', 'uniq_clicks', 'rides']].mean().round(0)"
   ]
  },
  {
   "cell_type": "code",
   "execution_count": 36,
   "metadata": {},
   "outputs": [
    {
     "data": {
      "application/vnd.plotly.v1+json": {
       "config": {
        "plotlyServerURL": "https://plot.ly"
       },
       "data": [
        {
         "hovertemplate": "segment=driver - Brazil<br>weekly=%{x}<br>CTR_by_uniq_clicks=%{y}<extra></extra>",
         "legendgroup": "driver - Brazil",
         "line": {
          "color": "#636efa",
          "dash": "solid"
         },
         "marker": {
          "symbol": "circle"
         },
         "mode": "lines+markers",
         "name": "driver - Brazil",
         "orientation": "v",
         "showlegend": true,
         "type": "scatter",
         "x": [
          "2024-09-29",
          "2024-10-06",
          "2024-10-13",
          "2024-10-20",
          "2024-10-27",
          "2024-11-03",
          "2024-11-10",
          "2024-11-17",
          "2024-11-24",
          "2024-12-01",
          "2024-12-08",
          "2024-12-15",
          "2024-12-22",
          "2024-12-29",
          "2025-01-05",
          "2025-01-12",
          "2025-01-19",
          "2025-01-26"
         ],
         "xaxis": "x",
         "y": [
          0.8211988160867332,
          0.8039876817849358,
          0.9592065422120497,
          0.970866829687965,
          0.9474921002097921,
          0.9142112095559677,
          0.8985732080224497,
          0.9962772407384323,
          0.9104622298328664,
          0.8422341395072445,
          0.8440400834770474,
          0.8691709855505764,
          0.9610412180108922,
          1.1213673533552506,
          1.0778211636673922,
          1.0992214956088513,
          0.9045957473974855,
          1.1102751454030009
         ],
         "yaxis": "y"
        },
        {
         "hovertemplate": "segment=driver - Chile<br>weekly=%{x}<br>CTR_by_uniq_clicks=%{y}<extra></extra>",
         "legendgroup": "driver - Chile",
         "line": {
          "color": "#EF553B",
          "dash": "solid"
         },
         "marker": {
          "symbol": "diamond"
         },
         "mode": "lines+markers",
         "name": "driver - Chile",
         "orientation": "v",
         "showlegend": true,
         "type": "scatter",
         "x": [
          "2024-09-29",
          "2024-10-06",
          "2024-10-13",
          "2024-10-20",
          "2024-10-27",
          "2024-11-03",
          "2024-11-10",
          "2024-11-17",
          "2024-11-24",
          "2024-12-01",
          "2024-12-08",
          "2024-12-15",
          "2024-12-22",
          "2024-12-29",
          "2025-01-05",
          "2025-01-12",
          "2025-01-19",
          "2025-01-26"
         ],
         "xaxis": "x",
         "y": [
          0.44366673897759323,
          0.44115855292976647,
          0.44580136973434825,
          0.46330290731791246,
          0.4367005142463438,
          0.4394633782087559,
          0.4532882090417959,
          0.4707073189283437,
          0.47070188476568875,
          0.4559776957380436,
          0.4720108239144925,
          0.47362849819349306,
          0.4643160242824481,
          0.4466476099521456,
          0.45977972371418424,
          0.484759304972049,
          0.4189221839064393,
          0.5049319731766282
         ],
         "yaxis": "y"
        },
        {
         "hovertemplate": "segment=driver - Colombia<br>weekly=%{x}<br>CTR_by_uniq_clicks=%{y}<extra></extra>",
         "legendgroup": "driver - Colombia",
         "line": {
          "color": "#00cc96",
          "dash": "solid"
         },
         "marker": {
          "symbol": "square"
         },
         "mode": "lines+markers",
         "name": "driver - Colombia",
         "orientation": "v",
         "showlegend": true,
         "type": "scatter",
         "x": [
          "2024-09-29",
          "2024-10-06",
          "2024-10-13",
          "2024-10-20",
          "2024-10-27",
          "2024-11-03",
          "2024-11-10",
          "2024-11-17",
          "2024-11-24",
          "2024-12-01",
          "2024-12-08",
          "2024-12-15",
          "2024-12-22",
          "2024-12-29",
          "2025-01-05",
          "2025-01-12",
          "2025-01-19",
          "2025-01-26"
         ],
         "xaxis": "x",
         "y": [
          0.6728119342634555,
          0.6829205162310817,
          0.6971683471195802,
          0.7001349482325141,
          0.671658649445254,
          0.6732265789511421,
          0.6725901143655725,
          0.6829048375465001,
          0.6824548945395512,
          0.683952889611436,
          0.6958766312377717,
          0.6979978595371754,
          0.7225933641156282,
          0.7152241416137546,
          0.748200433338952,
          0.7423457055722962,
          0.6318998547978272,
          0.7579623552648055
         ],
         "yaxis": "y"
        },
        {
         "hovertemplate": "segment=driver - Mexico<br>weekly=%{x}<br>CTR_by_uniq_clicks=%{y}<extra></extra>",
         "legendgroup": "driver - Mexico",
         "line": {
          "color": "#ab63fa",
          "dash": "solid"
         },
         "marker": {
          "symbol": "x"
         },
         "mode": "lines+markers",
         "name": "driver - Mexico",
         "orientation": "v",
         "showlegend": true,
         "type": "scatter",
         "x": [
          "2024-09-29",
          "2024-10-06",
          "2024-10-13",
          "2024-10-20",
          "2024-10-27",
          "2024-11-03",
          "2024-11-10",
          "2024-11-17",
          "2024-11-24",
          "2024-12-01",
          "2024-12-08",
          "2024-12-15",
          "2024-12-22",
          "2024-12-29",
          "2025-01-05",
          "2025-01-12",
          "2025-01-19",
          "2025-01-26"
         ],
         "xaxis": "x",
         "y": [
          0.5205462191491708,
          0.53755333250573,
          0.5216174716038285,
          0.514167491615552,
          0.5038380825587764,
          0.49478544407251324,
          0.4987914202633556,
          0.5088734440431059,
          0.5083636009132312,
          0.4980439230299032,
          0.49925039443650704,
          0.4818628490764275,
          0.5076809749619261,
          0.5113054628344509,
          0.5123479435622404,
          0.5255769021317065,
          0.46766603387559164,
          0.5411711827477345
         ],
         "yaxis": "y"
        },
        {
         "hovertemplate": "segment=driver - Pakistan<br>weekly=%{x}<br>CTR_by_uniq_clicks=%{y}<extra></extra>",
         "legendgroup": "driver - Pakistan",
         "line": {
          "color": "#FFA15A",
          "dash": "solid"
         },
         "marker": {
          "symbol": "cross"
         },
         "mode": "lines+markers",
         "name": "driver - Pakistan",
         "orientation": "v",
         "showlegend": true,
         "type": "scatter",
         "x": [
          "2024-09-29",
          "2024-10-06",
          "2024-10-13",
          "2024-10-20",
          "2024-10-27",
          "2024-11-03",
          "2024-11-10",
          "2024-11-17",
          "2024-11-24",
          "2024-12-01",
          "2024-12-08",
          "2024-12-15",
          "2024-12-22",
          "2024-12-29",
          "2025-01-05",
          "2025-01-12",
          "2025-01-19",
          "2025-01-26"
         ],
         "xaxis": "x",
         "y": [
          1.3937513010237874,
          1.3304418925560064,
          1.3670983220865196,
          1.3469041044733894,
          1.3516340919081595,
          1.3029187829847173,
          1.3341151364637822,
          1.3642756270564382,
          1.4225582289319456,
          1.3019919435680356,
          1.2583906799299196,
          1.2843092486682013,
          1.2968188710043298,
          1.276386055472953,
          1.2842340648749997,
          1.287559846619343,
          1.133205575626419,
          1.3654588971835535
         ],
         "yaxis": "y"
        },
        {
         "hovertemplate": "segment=driver - Peru<br>weekly=%{x}<br>CTR_by_uniq_clicks=%{y}<extra></extra>",
         "legendgroup": "driver - Peru",
         "line": {
          "color": "#19d3f3",
          "dash": "solid"
         },
         "marker": {
          "symbol": "circle"
         },
         "mode": "lines+markers",
         "name": "driver - Peru",
         "orientation": "v",
         "showlegend": true,
         "type": "scatter",
         "x": [
          "2024-09-29",
          "2024-10-06",
          "2024-10-13",
          "2024-10-20",
          "2024-10-27",
          "2024-11-03",
          "2024-11-10",
          "2024-11-17",
          "2024-11-24",
          "2024-12-01",
          "2024-12-08",
          "2024-12-15",
          "2024-12-22",
          "2024-12-29",
          "2025-01-05",
          "2025-01-12",
          "2025-01-19",
          "2025-01-26"
         ],
         "xaxis": "x",
         "y": [
          0.4891938774396963,
          0.48909998974302327,
          0.544477653622681,
          0.49906678672769056,
          0.5290328044609294,
          0.48917924166293314,
          0.4950143105857418,
          0.5245723936518998,
          0.5110464736659903,
          0.516020430583974,
          0.5117912259615675,
          0.5090532400949459,
          0.5336396764940402,
          0.5202524552619148,
          0.5179140001582733,
          0.5296110318601944,
          0.45178421708366306,
          0.5388584455806473
         ],
         "yaxis": "y"
        },
        {
         "hovertemplate": "segment=driver - South Africa<br>weekly=%{x}<br>CTR_by_uniq_clicks=%{y}<extra></extra>",
         "legendgroup": "driver - South Africa",
         "line": {
          "color": "#FF6692",
          "dash": "solid"
         },
         "marker": {
          "symbol": "diamond"
         },
         "mode": "lines+markers",
         "name": "driver - South Africa",
         "orientation": "v",
         "showlegend": true,
         "type": "scatter",
         "x": [
          "2024-09-29",
          "2024-10-06",
          "2024-10-13",
          "2024-10-20",
          "2024-10-27",
          "2024-11-03",
          "2024-11-10",
          "2024-11-17",
          "2024-11-24",
          "2024-12-01",
          "2024-12-08",
          "2024-12-15",
          "2024-12-22",
          "2024-12-29",
          "2025-01-05",
          "2025-01-12",
          "2025-01-19",
          "2025-01-26"
         ],
         "xaxis": "x",
         "y": [
          0.8774447848160921,
          0.9358821542624008,
          0.9640889515094784,
          0.9249556333285006,
          0.8494553033624077,
          0.9052452199083917,
          0.9527692984393612,
          0.999042786658158,
          0.925982560438003,
          0.9233912710173754,
          0.9591781579877409,
          0.9508783001998528,
          0.9415896563606868,
          0.9877902412171856,
          1.0253314798104203,
          1.0331948003925866,
          0.9683166188011609,
          1.00984441842828
         ],
         "yaxis": "y"
        },
        {
         "hovertemplate": "segment=pass - Brazil<br>weekly=%{x}<br>CTR_by_uniq_clicks=%{y}<extra></extra>",
         "legendgroup": "pass - Brazil",
         "line": {
          "color": "#B6E880",
          "dash": "solid"
         },
         "marker": {
          "symbol": "square"
         },
         "mode": "lines+markers",
         "name": "pass - Brazil",
         "orientation": "v",
         "showlegend": true,
         "type": "scatter",
         "x": [
          "2024-09-29",
          "2024-10-06",
          "2024-10-13",
          "2024-10-20",
          "2024-10-27",
          "2024-11-03",
          "2024-11-10",
          "2024-11-17",
          "2024-11-24",
          "2024-12-01",
          "2024-12-08",
          "2024-12-15",
          "2024-12-22",
          "2024-12-29",
          "2025-01-05",
          "2025-01-12",
          "2025-01-19",
          "2025-01-26"
         ],
         "xaxis": "x",
         "y": [
          2.370045028900604,
          2.4523337547648945,
          2.4918771617230897,
          2.515525415184617,
          2.5323070159539394,
          2.5418357605848074,
          2.5347290984906294,
          2.5097590472830325,
          2.512843987749398,
          2.546797349300972,
          2.573304992827991,
          2.613932221601827,
          2.772218853019113,
          2.8197674094567797,
          2.5305974354504586,
          2.544978863531615,
          2.2302322698028343,
          2.658154668902204
         ],
         "yaxis": "y"
        },
        {
         "hovertemplate": "segment=pass - Chile<br>weekly=%{x}<br>CTR_by_uniq_clicks=%{y}<extra></extra>",
         "legendgroup": "pass - Chile",
         "line": {
          "color": "#FF97FF",
          "dash": "solid"
         },
         "marker": {
          "symbol": "x"
         },
         "mode": "lines+markers",
         "name": "pass - Chile",
         "orientation": "v",
         "showlegend": true,
         "type": "scatter",
         "x": [
          "2024-09-29",
          "2024-10-06",
          "2024-10-13",
          "2024-10-20",
          "2024-10-27",
          "2024-11-03",
          "2024-11-10",
          "2024-11-17",
          "2024-11-24",
          "2024-12-01",
          "2024-12-08",
          "2024-12-15",
          "2024-12-22",
          "2024-12-29",
          "2025-01-05",
          "2025-01-12",
          "2025-01-19",
          "2025-01-26"
         ],
         "xaxis": "x",
         "y": [
          1.424263784461153,
          1.4511627906976745,
          1.4177514605969543,
          1.4321834374040332,
          1.4470241067439564,
          1.429394834357755,
          1.4598253571999698,
          1.4696833389803445,
          1.4407246191864989,
          1.4122198935998709,
          1.4501395561986588,
          1.4599210276892731,
          1.5102235430814597,
          1.509425827723949,
          1.4860519770100538,
          1.4815171332648382,
          1.2904152981577899,
          1.53687010492094
         ],
         "yaxis": "y"
        },
        {
         "hovertemplate": "segment=pass - Colombia<br>weekly=%{x}<br>CTR_by_uniq_clicks=%{y}<extra></extra>",
         "legendgroup": "pass - Colombia",
         "line": {
          "color": "#FECB52",
          "dash": "solid"
         },
         "marker": {
          "symbol": "cross"
         },
         "mode": "lines+markers",
         "name": "pass - Colombia",
         "orientation": "v",
         "showlegend": true,
         "type": "scatter",
         "x": [
          "2024-09-29",
          "2024-10-06",
          "2024-10-13",
          "2024-10-20",
          "2024-10-27",
          "2024-11-03",
          "2024-11-10",
          "2024-11-17",
          "2024-11-24",
          "2024-12-01",
          "2024-12-08",
          "2024-12-15",
          "2024-12-22",
          "2024-12-29",
          "2025-01-05",
          "2025-01-12",
          "2025-01-19",
          "2025-01-26"
         ],
         "xaxis": "x",
         "y": [
          1.6553640202676108,
          1.6633737637951729,
          1.6697048901737042,
          1.6957366647059269,
          1.6801288601985684,
          1.682820177737799,
          1.6520181049618263,
          1.6122737120876,
          1.5990577186501456,
          1.5943484402089918,
          1.6064600356707315,
          1.6370433759696674,
          1.6718286110964435,
          1.6344240959665985,
          1.5732030211556631,
          1.552562344664179,
          1.3448169640029068,
          1.560327094466782
         ],
         "yaxis": "y"
        },
        {
         "hovertemplate": "segment=pass - Mexico<br>weekly=%{x}<br>CTR_by_uniq_clicks=%{y}<extra></extra>",
         "legendgroup": "pass - Mexico",
         "line": {
          "color": "#636efa",
          "dash": "solid"
         },
         "marker": {
          "symbol": "circle"
         },
         "mode": "lines+markers",
         "name": "pass - Mexico",
         "orientation": "v",
         "showlegend": true,
         "type": "scatter",
         "x": [
          "2024-09-29",
          "2024-10-06",
          "2024-10-13",
          "2024-10-20",
          "2024-10-27",
          "2024-11-03",
          "2024-11-10",
          "2024-11-17",
          "2024-11-24",
          "2024-12-01",
          "2024-12-08",
          "2024-12-15",
          "2024-12-22",
          "2024-12-29",
          "2025-01-05",
          "2025-01-12",
          "2025-01-19",
          "2025-01-26"
         ],
         "xaxis": "x",
         "y": [
          1.9406554943767802,
          1.9490531604110721,
          1.9233110294607498,
          1.9119442429350633,
          1.9517551900104428,
          1.9388427765014857,
          1.9142440870189563,
          1.9240500934858227,
          1.932615637860082,
          1.957181979162377,
          1.9750810146385072,
          1.9843629807364556,
          1.9684610655154102,
          1.960364813451971,
          1.9516049928907917,
          1.947213205324319,
          1.7449083280522717,
          1.9986633323543175
         ],
         "yaxis": "y"
        },
        {
         "hovertemplate": "segment=pass - Pakistan<br>weekly=%{x}<br>CTR_by_uniq_clicks=%{y}<extra></extra>",
         "legendgroup": "pass - Pakistan",
         "line": {
          "color": "#EF553B",
          "dash": "solid"
         },
         "marker": {
          "symbol": "diamond"
         },
         "mode": "lines+markers",
         "name": "pass - Pakistan",
         "orientation": "v",
         "showlegend": true,
         "type": "scatter",
         "x": [
          "2024-09-29",
          "2024-10-06",
          "2024-10-13",
          "2024-10-20",
          "2024-10-27",
          "2024-11-03",
          "2024-11-10",
          "2024-11-17",
          "2024-11-24",
          "2024-12-01",
          "2024-12-08",
          "2024-12-15",
          "2024-12-22",
          "2024-12-29",
          "2025-01-05",
          "2025-01-12",
          "2025-01-19",
          "2025-01-26"
         ],
         "xaxis": "x",
         "y": [
          2.716043472282607,
          2.7278915969305495,
          2.7416759475947052,
          2.695897511895486,
          2.6841443351992305,
          2.687903527610405,
          2.73360356119504,
          2.6728141172645157,
          2.5825546396531713,
          2.5152566758767025,
          2.5070751128467816,
          2.574565922054426,
          2.701016711331524,
          2.637782731178661,
          2.6041692320877785,
          2.487887024344127,
          2.149219393684717,
          2.4366744320137244
         ],
         "yaxis": "y"
        },
        {
         "hovertemplate": "segment=pass - Peru<br>weekly=%{x}<br>CTR_by_uniq_clicks=%{y}<extra></extra>",
         "legendgroup": "pass - Peru",
         "line": {
          "color": "#00cc96",
          "dash": "solid"
         },
         "marker": {
          "symbol": "square"
         },
         "mode": "lines+markers",
         "name": "pass - Peru",
         "orientation": "v",
         "showlegend": true,
         "type": "scatter",
         "x": [
          "2024-09-29",
          "2024-10-06",
          "2024-10-13",
          "2024-10-20",
          "2024-10-27",
          "2024-11-03",
          "2024-11-10",
          "2024-11-17",
          "2024-11-24",
          "2024-12-01",
          "2024-12-08",
          "2024-12-15",
          "2024-12-22",
          "2024-12-29",
          "2025-01-05",
          "2025-01-12",
          "2025-01-19",
          "2025-01-26"
         ],
         "xaxis": "x",
         "y": [
          2.1377395802195998,
          2.2097592375030373,
          2.22112575032308,
          2.2097311703943747,
          2.2278605619917737,
          2.1771217156227354,
          2.1194991776383083,
          2.255338908183386,
          2.284045165497683,
          2.262930457719494,
          2.3132262007875815,
          2.362219668776118,
          2.34724175028891,
          2.2736206883696823,
          2.205245403475399,
          2.2133434568164576,
          1.9484379299572943,
          2.2553992992667116
         ],
         "yaxis": "y"
        },
        {
         "hovertemplate": "segment=pass - South Africa<br>weekly=%{x}<br>CTR_by_uniq_clicks=%{y}<extra></extra>",
         "legendgroup": "pass - South Africa",
         "line": {
          "color": "#ab63fa",
          "dash": "solid"
         },
         "marker": {
          "symbol": "x"
         },
         "mode": "lines+markers",
         "name": "pass - South Africa",
         "orientation": "v",
         "showlegend": true,
         "type": "scatter",
         "x": [
          "2024-09-29",
          "2024-10-06",
          "2024-10-13",
          "2024-10-20",
          "2024-10-27",
          "2024-11-03",
          "2024-11-10",
          "2024-11-17",
          "2024-11-24",
          "2024-12-01",
          "2024-12-08",
          "2024-12-15",
          "2024-12-22",
          "2024-12-29",
          "2025-01-05",
          "2025-01-12",
          "2025-01-19",
          "2025-01-26"
         ],
         "xaxis": "x",
         "y": [
          4.04716154586019,
          4.086795270779664,
          4.0126169714601305,
          4.088352160626944,
          4.083847686890456,
          4.16379112031286,
          4.063621247095728,
          4.133228041375071,
          4.2849386502152385,
          4.3433019711572545,
          4.298979965375412,
          4.355193933075136,
          4.380489569326822,
          4.443538450714643,
          4.190996727116207,
          4.090523071116284,
          3.711373843614449,
          4.177797402215108
         ],
         "yaxis": "y"
        }
       ],
       "layout": {
        "height": 700,
        "legend": {
         "title": {
          "text": "segment"
         },
         "tracegroupgap": 0
        },
        "template": {
         "data": {
          "bar": [
           {
            "error_x": {
             "color": "#2a3f5f"
            },
            "error_y": {
             "color": "#2a3f5f"
            },
            "marker": {
             "line": {
              "color": "#E5ECF6",
              "width": 0.5
             },
             "pattern": {
              "fillmode": "overlay",
              "size": 10,
              "solidity": 0.2
             }
            },
            "type": "bar"
           }
          ],
          "barpolar": [
           {
            "marker": {
             "line": {
              "color": "#E5ECF6",
              "width": 0.5
             },
             "pattern": {
              "fillmode": "overlay",
              "size": 10,
              "solidity": 0.2
             }
            },
            "type": "barpolar"
           }
          ],
          "carpet": [
           {
            "aaxis": {
             "endlinecolor": "#2a3f5f",
             "gridcolor": "white",
             "linecolor": "white",
             "minorgridcolor": "white",
             "startlinecolor": "#2a3f5f"
            },
            "baxis": {
             "endlinecolor": "#2a3f5f",
             "gridcolor": "white",
             "linecolor": "white",
             "minorgridcolor": "white",
             "startlinecolor": "#2a3f5f"
            },
            "type": "carpet"
           }
          ],
          "choropleth": [
           {
            "colorbar": {
             "outlinewidth": 0,
             "ticks": ""
            },
            "type": "choropleth"
           }
          ],
          "contour": [
           {
            "colorbar": {
             "outlinewidth": 0,
             "ticks": ""
            },
            "colorscale": [
             [
              0,
              "#0d0887"
             ],
             [
              0.1111111111111111,
              "#46039f"
             ],
             [
              0.2222222222222222,
              "#7201a8"
             ],
             [
              0.3333333333333333,
              "#9c179e"
             ],
             [
              0.4444444444444444,
              "#bd3786"
             ],
             [
              0.5555555555555556,
              "#d8576b"
             ],
             [
              0.6666666666666666,
              "#ed7953"
             ],
             [
              0.7777777777777778,
              "#fb9f3a"
             ],
             [
              0.8888888888888888,
              "#fdca26"
             ],
             [
              1,
              "#f0f921"
             ]
            ],
            "type": "contour"
           }
          ],
          "contourcarpet": [
           {
            "colorbar": {
             "outlinewidth": 0,
             "ticks": ""
            },
            "type": "contourcarpet"
           }
          ],
          "heatmap": [
           {
            "colorbar": {
             "outlinewidth": 0,
             "ticks": ""
            },
            "colorscale": [
             [
              0,
              "#0d0887"
             ],
             [
              0.1111111111111111,
              "#46039f"
             ],
             [
              0.2222222222222222,
              "#7201a8"
             ],
             [
              0.3333333333333333,
              "#9c179e"
             ],
             [
              0.4444444444444444,
              "#bd3786"
             ],
             [
              0.5555555555555556,
              "#d8576b"
             ],
             [
              0.6666666666666666,
              "#ed7953"
             ],
             [
              0.7777777777777778,
              "#fb9f3a"
             ],
             [
              0.8888888888888888,
              "#fdca26"
             ],
             [
              1,
              "#f0f921"
             ]
            ],
            "type": "heatmap"
           }
          ],
          "heatmapgl": [
           {
            "colorbar": {
             "outlinewidth": 0,
             "ticks": ""
            },
            "colorscale": [
             [
              0,
              "#0d0887"
             ],
             [
              0.1111111111111111,
              "#46039f"
             ],
             [
              0.2222222222222222,
              "#7201a8"
             ],
             [
              0.3333333333333333,
              "#9c179e"
             ],
             [
              0.4444444444444444,
              "#bd3786"
             ],
             [
              0.5555555555555556,
              "#d8576b"
             ],
             [
              0.6666666666666666,
              "#ed7953"
             ],
             [
              0.7777777777777778,
              "#fb9f3a"
             ],
             [
              0.8888888888888888,
              "#fdca26"
             ],
             [
              1,
              "#f0f921"
             ]
            ],
            "type": "heatmapgl"
           }
          ],
          "histogram": [
           {
            "marker": {
             "pattern": {
              "fillmode": "overlay",
              "size": 10,
              "solidity": 0.2
             }
            },
            "type": "histogram"
           }
          ],
          "histogram2d": [
           {
            "colorbar": {
             "outlinewidth": 0,
             "ticks": ""
            },
            "colorscale": [
             [
              0,
              "#0d0887"
             ],
             [
              0.1111111111111111,
              "#46039f"
             ],
             [
              0.2222222222222222,
              "#7201a8"
             ],
             [
              0.3333333333333333,
              "#9c179e"
             ],
             [
              0.4444444444444444,
              "#bd3786"
             ],
             [
              0.5555555555555556,
              "#d8576b"
             ],
             [
              0.6666666666666666,
              "#ed7953"
             ],
             [
              0.7777777777777778,
              "#fb9f3a"
             ],
             [
              0.8888888888888888,
              "#fdca26"
             ],
             [
              1,
              "#f0f921"
             ]
            ],
            "type": "histogram2d"
           }
          ],
          "histogram2dcontour": [
           {
            "colorbar": {
             "outlinewidth": 0,
             "ticks": ""
            },
            "colorscale": [
             [
              0,
              "#0d0887"
             ],
             [
              0.1111111111111111,
              "#46039f"
             ],
             [
              0.2222222222222222,
              "#7201a8"
             ],
             [
              0.3333333333333333,
              "#9c179e"
             ],
             [
              0.4444444444444444,
              "#bd3786"
             ],
             [
              0.5555555555555556,
              "#d8576b"
             ],
             [
              0.6666666666666666,
              "#ed7953"
             ],
             [
              0.7777777777777778,
              "#fb9f3a"
             ],
             [
              0.8888888888888888,
              "#fdca26"
             ],
             [
              1,
              "#f0f921"
             ]
            ],
            "type": "histogram2dcontour"
           }
          ],
          "mesh3d": [
           {
            "colorbar": {
             "outlinewidth": 0,
             "ticks": ""
            },
            "type": "mesh3d"
           }
          ],
          "parcoords": [
           {
            "line": {
             "colorbar": {
              "outlinewidth": 0,
              "ticks": ""
             }
            },
            "type": "parcoords"
           }
          ],
          "pie": [
           {
            "automargin": true,
            "type": "pie"
           }
          ],
          "scatter": [
           {
            "fillpattern": {
             "fillmode": "overlay",
             "size": 10,
             "solidity": 0.2
            },
            "type": "scatter"
           }
          ],
          "scatter3d": [
           {
            "line": {
             "colorbar": {
              "outlinewidth": 0,
              "ticks": ""
             }
            },
            "marker": {
             "colorbar": {
              "outlinewidth": 0,
              "ticks": ""
             }
            },
            "type": "scatter3d"
           }
          ],
          "scattercarpet": [
           {
            "marker": {
             "colorbar": {
              "outlinewidth": 0,
              "ticks": ""
             }
            },
            "type": "scattercarpet"
           }
          ],
          "scattergeo": [
           {
            "marker": {
             "colorbar": {
              "outlinewidth": 0,
              "ticks": ""
             }
            },
            "type": "scattergeo"
           }
          ],
          "scattergl": [
           {
            "marker": {
             "colorbar": {
              "outlinewidth": 0,
              "ticks": ""
             }
            },
            "type": "scattergl"
           }
          ],
          "scattermapbox": [
           {
            "marker": {
             "colorbar": {
              "outlinewidth": 0,
              "ticks": ""
             }
            },
            "type": "scattermapbox"
           }
          ],
          "scatterpolar": [
           {
            "marker": {
             "colorbar": {
              "outlinewidth": 0,
              "ticks": ""
             }
            },
            "type": "scatterpolar"
           }
          ],
          "scatterpolargl": [
           {
            "marker": {
             "colorbar": {
              "outlinewidth": 0,
              "ticks": ""
             }
            },
            "type": "scatterpolargl"
           }
          ],
          "scatterternary": [
           {
            "marker": {
             "colorbar": {
              "outlinewidth": 0,
              "ticks": ""
             }
            },
            "type": "scatterternary"
           }
          ],
          "surface": [
           {
            "colorbar": {
             "outlinewidth": 0,
             "ticks": ""
            },
            "colorscale": [
             [
              0,
              "#0d0887"
             ],
             [
              0.1111111111111111,
              "#46039f"
             ],
             [
              0.2222222222222222,
              "#7201a8"
             ],
             [
              0.3333333333333333,
              "#9c179e"
             ],
             [
              0.4444444444444444,
              "#bd3786"
             ],
             [
              0.5555555555555556,
              "#d8576b"
             ],
             [
              0.6666666666666666,
              "#ed7953"
             ],
             [
              0.7777777777777778,
              "#fb9f3a"
             ],
             [
              0.8888888888888888,
              "#fdca26"
             ],
             [
              1,
              "#f0f921"
             ]
            ],
            "type": "surface"
           }
          ],
          "table": [
           {
            "cells": {
             "fill": {
              "color": "#EBF0F8"
             },
             "line": {
              "color": "white"
             }
            },
            "header": {
             "fill": {
              "color": "#C8D4E3"
             },
             "line": {
              "color": "white"
             }
            },
            "type": "table"
           }
          ]
         },
         "layout": {
          "annotationdefaults": {
           "arrowcolor": "#2a3f5f",
           "arrowhead": 0,
           "arrowwidth": 1
          },
          "autotypenumbers": "strict",
          "coloraxis": {
           "colorbar": {
            "outlinewidth": 0,
            "ticks": ""
           }
          },
          "colorscale": {
           "diverging": [
            [
             0,
             "#8e0152"
            ],
            [
             0.1,
             "#c51b7d"
            ],
            [
             0.2,
             "#de77ae"
            ],
            [
             0.3,
             "#f1b6da"
            ],
            [
             0.4,
             "#fde0ef"
            ],
            [
             0.5,
             "#f7f7f7"
            ],
            [
             0.6,
             "#e6f5d0"
            ],
            [
             0.7,
             "#b8e186"
            ],
            [
             0.8,
             "#7fbc41"
            ],
            [
             0.9,
             "#4d9221"
            ],
            [
             1,
             "#276419"
            ]
           ],
           "sequential": [
            [
             0,
             "#0d0887"
            ],
            [
             0.1111111111111111,
             "#46039f"
            ],
            [
             0.2222222222222222,
             "#7201a8"
            ],
            [
             0.3333333333333333,
             "#9c179e"
            ],
            [
             0.4444444444444444,
             "#bd3786"
            ],
            [
             0.5555555555555556,
             "#d8576b"
            ],
            [
             0.6666666666666666,
             "#ed7953"
            ],
            [
             0.7777777777777778,
             "#fb9f3a"
            ],
            [
             0.8888888888888888,
             "#fdca26"
            ],
            [
             1,
             "#f0f921"
            ]
           ],
           "sequentialminus": [
            [
             0,
             "#0d0887"
            ],
            [
             0.1111111111111111,
             "#46039f"
            ],
            [
             0.2222222222222222,
             "#7201a8"
            ],
            [
             0.3333333333333333,
             "#9c179e"
            ],
            [
             0.4444444444444444,
             "#bd3786"
            ],
            [
             0.5555555555555556,
             "#d8576b"
            ],
            [
             0.6666666666666666,
             "#ed7953"
            ],
            [
             0.7777777777777778,
             "#fb9f3a"
            ],
            [
             0.8888888888888888,
             "#fdca26"
            ],
            [
             1,
             "#f0f921"
            ]
           ]
          },
          "colorway": [
           "#636efa",
           "#EF553B",
           "#00cc96",
           "#ab63fa",
           "#FFA15A",
           "#19d3f3",
           "#FF6692",
           "#B6E880",
           "#FF97FF",
           "#FECB52"
          ],
          "font": {
           "color": "#2a3f5f"
          },
          "geo": {
           "bgcolor": "white",
           "lakecolor": "white",
           "landcolor": "#E5ECF6",
           "showlakes": true,
           "showland": true,
           "subunitcolor": "white"
          },
          "hoverlabel": {
           "align": "left"
          },
          "hovermode": "closest",
          "mapbox": {
           "style": "light"
          },
          "paper_bgcolor": "white",
          "plot_bgcolor": "#E5ECF6",
          "polar": {
           "angularaxis": {
            "gridcolor": "white",
            "linecolor": "white",
            "ticks": ""
           },
           "bgcolor": "#E5ECF6",
           "radialaxis": {
            "gridcolor": "white",
            "linecolor": "white",
            "ticks": ""
           }
          },
          "scene": {
           "xaxis": {
            "backgroundcolor": "#E5ECF6",
            "gridcolor": "white",
            "gridwidth": 2,
            "linecolor": "white",
            "showbackground": true,
            "ticks": "",
            "zerolinecolor": "white"
           },
           "yaxis": {
            "backgroundcolor": "#E5ECF6",
            "gridcolor": "white",
            "gridwidth": 2,
            "linecolor": "white",
            "showbackground": true,
            "ticks": "",
            "zerolinecolor": "white"
           },
           "zaxis": {
            "backgroundcolor": "#E5ECF6",
            "gridcolor": "white",
            "gridwidth": 2,
            "linecolor": "white",
            "showbackground": true,
            "ticks": "",
            "zerolinecolor": "white"
           }
          },
          "shapedefaults": {
           "line": {
            "color": "#2a3f5f"
           }
          },
          "ternary": {
           "aaxis": {
            "gridcolor": "white",
            "linecolor": "white",
            "ticks": ""
           },
           "baxis": {
            "gridcolor": "white",
            "linecolor": "white",
            "ticks": ""
           },
           "bgcolor": "#E5ECF6",
           "caxis": {
            "gridcolor": "white",
            "linecolor": "white",
            "ticks": ""
           }
          },
          "title": {
           "x": 0.05
          },
          "xaxis": {
           "automargin": true,
           "gridcolor": "white",
           "linecolor": "white",
           "ticks": "",
           "title": {
            "standoff": 15
           },
           "zerolinecolor": "white",
           "zerolinewidth": 2
          },
          "yaxis": {
           "automargin": true,
           "gridcolor": "white",
           "linecolor": "white",
           "ticks": "",
           "title": {
            "standoff": 15
           },
           "zerolinecolor": "white",
           "zerolinewidth": 2
          }
         }
        },
        "title": {
         "text": "CTR dynamics over the period. By Driver & Passenger types in most valuable countries"
        },
        "width": 1400,
        "xaxis": {
         "anchor": "y",
         "domain": [
          0,
          1
         ],
         "title": {
          "text": "weekly"
         }
        },
        "yaxis": {
         "anchor": "x",
         "domain": [
          0,
          1
         ],
         "title": {
          "text": "CTR_by_uniq_clicks"
         }
        }
       }
      }
     },
     "metadata": {},
     "output_type": "display_data"
    }
   ],
   "source": [
    "fig = px.line(\n",
    "    df_agg_week, x=\"weekly\", \n",
    "    y=\"CTR_by_uniq_clicks\", \n",
    "    color='segment', \n",
    "    symbol=\"segment\",\n",
    "    width=1400, \n",
    "    height=700,\n",
    "    title=\"CTR dynamics over the period. By Driver & Passenger types in most valuable countries\"\n",
    "    )\n",
    "\n",
    "fig.show()"
   ]
  },
  {
   "cell_type": "code",
   "execution_count": null,
   "metadata": {},
   "outputs": [],
   "source": []
  }
 ],
 "metadata": {
  "kernelspec": {
   "display_name": "Python 3",
   "language": "python",
   "name": "python3"
  },
  "language_info": {
   "codemirror_mode": {
    "name": "ipython",
    "version": 3
   },
   "file_extension": ".py",
   "mimetype": "text/x-python",
   "name": "python",
   "nbconvert_exporter": "python",
   "pygments_lexer": "ipython3",
   "version": "3.9.6"
  }
 },
 "nbformat": 4,
 "nbformat_minor": 2
}
