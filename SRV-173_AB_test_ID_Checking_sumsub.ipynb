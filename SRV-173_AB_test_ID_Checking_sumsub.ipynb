{
 "cells": [
  {
   "cell_type": "markdown",
   "id": "32f6980a",
   "metadata": {},
   "source": [
    "# Packages"
   ]
  },
  {
   "cell_type": "code",
   "execution_count": 130,
   "id": "69de3703",
   "metadata": {},
   "outputs": [
    {
     "data": {
      "text/html": [
       "<style>.container { width:80% !important; }</style>"
      ],
      "text/plain": [
       "<IPython.core.display.HTML object>"
      ]
     },
     "metadata": {},
     "output_type": "display_data"
    }
   ],
   "source": [
    "# Visualisation\n",
    "import plotly.express as px\n",
    "import plotly.graph_objects as go\n",
    "from plotly.subplots import make_subplots\n",
    "import matplotlib.pyplot as plt\n",
    "import seaborn as sns\n",
    "from pyvis.network import Network\n",
    "\n",
    "# Data analysis / Data processing\n",
    "import pandas as pd\n",
    "pd.set_option('display.max_rows', 500)\n",
    "pd.set_option('display.max_columns', 500)\n",
    "pd.set_option('display.width', 1000)\n",
    "pd.set_option('max_colwidth', None)\n",
    "pd.options.display.float_format = \"{:,.3f}\".format\n",
    "from datetime import time, timedelta, datetime\n",
    "import numpy as np\n",
    "import networkx as nx\n",
    "from collections import defaultdict\n",
    "import ast\n",
    "\n",
    "# Maths & Stats\n",
    "import math \n",
    "import scipy.stats as st\n",
    "from scipy import stats\n",
    "from scipy.stats import norm\n",
    "import statsmodels.stats.weightstats as ws\n",
    "from statsmodels.stats.proportion import test_proportions_2indep\n",
    "import AB_library\n",
    "# from ambrosia.designer import Designer\n",
    "# from ambrosia.tester import Tester\n",
    "import expab\n",
    "from statsmodels.stats.power import NormalIndPower\n",
    "from statsmodels.stats.proportion import proportion_effectsize\n",
    "from math import ceil\n",
    "\n",
    "# System library\n",
    "import os\n",
    "import ipywidgets\n",
    "import warnings\n",
    "warnings.filterwarnings('ignore')\n",
    "from tqdm.notebook import tqdm\n",
    "tqdm.pandas()\n",
    "from IPython.display import display, HTML\n",
    "display(HTML(\"<style>.container { width:80% !important; }</style>\"))\n",
    "%config InlineBackend.figure_format='retina'\n",
    "# from itables import init_notebook_mode\n",
    "# init_notebook_mode(all_interactive=True)\n",
    "import openpyxl\n",
    "\n",
    "# Data connection\n",
    "from google.cloud import bigquery\n",
    "bigquery_client = bigquery.Client(project='analytics-dev-333113')\n",
    "\n",
    "\n",
    "# Useful functions\n",
    "def read_bq(query, project='analytics-dev-333113'):\n",
    "    client = bigquery.Client(project=project)\n",
    "    query_job = client.query(query)\n",
    "    result_df = query_job.to_dataframe()\n",
    "    return result_df\n",
    "\n",
    "def display_side_by_side(*args):\n",
    "\n",
    "    html_str = ''\n",
    "    for df in args:\n",
    "        html_str += df.to_html()\n",
    "    display_html(\n",
    "        html_str.replace('table','table style=\"display:inline\"'), \n",
    "        raw=True\n",
    "    )\n",
    "\n",
    "def cycle_sql(start, end, query, weeks=False):\n",
    "    \"\"\"\n",
    "    You have to use {date} in your script to add cycle date into this backets\n",
    "    \"\"\"\n",
    "    date_start = datetime.strptime(start, '%Y-%m-%d')\n",
    "    date_end = datetime.strptime(end, '%Y-%m-%d')\n",
    "\n",
    "    if weeks == False:\n",
    "        daterange = [(date_start + timedelta(days=x)).strftime('%Y-%m-%d') for x in range(((date_end-date_start).days)+1)]\n",
    "    else:\n",
    "        daterange = [(date_start + timedelta(weeks=x)).strftime('%Y-%m-%d') for x in range(((date_end-date_start).days//7)+1)] # weeks dividing days by 7\n",
    "\n",
    "    total_df = pd.DataFrame()\n",
    "\n",
    "    counter = 0\n",
    "\n",
    "    for date in daterange:\n",
    "        counter+=1\n",
    "        print(f\"{counter}) Uploading - {date}:\", datetime.today().strftime('%Y-%m-%d %H:%M:%S'))\n",
    "        script = query.format(date = date)\n",
    "        df_cycle = bigquery_client.query(script).to_dataframe()\n",
    "        if df_cycle.empty == True:\n",
    "            print('Dataframe is empty')\n",
    "        total_df = pd.concat([df_cycle, total_df])\n",
    "    return total_df  \n",
    "\n",
    "def writing_excel(name:str, dataset1=None, dataset2=None, dataset3=None, dataset4=None):\n",
    "    with pd.ExcelWriter(f\"{name}.xlsx\") as writer:\n",
    "\n",
    "    # use to_excel function and specify the sheet_name and index \n",
    "    # to store the dataframe in specified sheet\n",
    "\n",
    "        if dataset1 is not None:\n",
    "            if dataset2 is not None:\n",
    "                if dataset3 is not None:\n",
    "                    if dataset4 is not None:\n",
    "                        dataset1.to_excel(writer, sheet_name=f\"1-{name}\", \n",
    "                                        #   index=False\n",
    "                                            )\n",
    "                        dataset2.to_excel(writer, sheet_name=f\"2-{name}\", \n",
    "                                        #   index=False\n",
    "                                            )\n",
    "                        dataset3.to_excel(writer, sheet_name=f\"3-{name}\", \n",
    "                                        #   index=False\n",
    "                                            )\n",
    "                        dataset4.to_excel(writer, sheet_name=f\"4-{name}\", \n",
    "                                        #   index=False\n",
    "                                            )\n",
    "                    else:\n",
    "                        dataset1.to_excel(writer, sheet_name=f\"1-{name}\", \n",
    "                                        #   index=False\n",
    "                                            )\n",
    "                        dataset2.to_excel(writer, sheet_name=f\"2-{name}\", \n",
    "                                        #   index=False\n",
    "                                            )\n",
    "                        dataset3.to_excel(writer, sheet_name=f\"3-{name}\", \n",
    "                                        #   index=False\n",
    "                                            )\n",
    "                else:\n",
    "                    dataset1.to_excel(writer, sheet_name=f\"1-{name}\", \n",
    "                                    #   index=False\n",
    "                                        )\n",
    "                    dataset2.to_excel(writer, sheet_name=f\"2-{name}\", \n",
    "                                    #   index=False\n",
    "                                        )\n",
    "            else:\n",
    "                dataset1.to_excel(writer, sheet_name=f\"1-{name}\", \n",
    "                                #   index=False\n",
    "                                    )\n",
    "\n",
    "        print('DataFrame is written to Excel File successfully.') "
   ]
  },
  {
   "cell_type": "markdown",
   "id": "0ebab066",
   "metadata": {},
   "source": [
    "## Functions"
   ]
  },
  {
   "cell_type": "code",
   "execution_count": 21,
   "id": "00cfaa77",
   "metadata": {},
   "outputs": [],
   "source": [
    "def method_benjamini_hochberg(\n",
    "    pvalues: np.ndarray,\n",
    "    alpha: float = 0.05\n",
    "    ) -> np.ndarray:\n",
    "    \"\"\"Apply the Benjamini-Hochberg procedure for multiple hypothesis testing.\"\"\"\n",
    "    m = len(pvalues)\n",
    "    array_alpha = np.arange(1, m + 1) * alpha / m\n",
    "    sorted_pvalue_indexes = np.argsort(pvalues)\n",
    "    res = np.zeros(m)\n",
    "    for idx, pvalue_index in enumerate(sorted_pvalue_indexes):\n",
    "        pvalue = pvalues[pvalue_index]\n",
    "        alpha_ = array_alpha[idx]\n",
    "        if pvalue <= alpha_:\n",
    "            res[pvalue_index] = 1\n",
    "        else:\n",
    "            break\n",
    "    return res.astype(int)\n",
    "\n",
    "# Shapiro-Wilk test & Distributions\n",
    "def check_normality(df, group_column, value_column):\n",
    "    groups = df[group_column].unique()\n",
    "\n",
    "    for group in groups:\n",
    "        group_data = df[df[group_column] == group][value_column].dropna() \n",
    "        stat, p = stats.shapiro(group_data)\n",
    "        print(f'Group {group}: W={stat:.4f}, p-value={p:.4f}')\n",
    "        if p > 0.05:\n",
    "            print(f'Group {group}, Metric: {value_column}: Data is normal distributed')\n",
    "        else:\n",
    "            print(f'Group {group}, Metric: {value_column}: Data is not normal distributed')\n",
    "\n",
    "def plot_distribution(df, group_column, value_column):\n",
    "\n",
    "    groups = df[group_column].unique()\n",
    "    fig, axes = plt.subplots(2, 2, figsize=(14, 10), gridspec_kw={'height_ratios': [1, 1.5]})\n",
    "\n",
    "    sns.histplot(data=df, x=value_column, hue=group_column, kde=True, bins=30, alpha=0.4, ax=axes[0, 0])\n",
    "    axes[0, 0].set_title(\"Graph + KDE\")\n",
    "    axes[0, 0].set_xlabel(value_column)\n",
    "    axes[0, 0].set_ylabel(\"Frequence\")\n",
    "\n",
    "    sns.boxplot(data=df, x=group_column, y=value_column, ax=axes[0, 1])\n",
    "    axes[0, 1].set_title(\"Boxplot grouped\")\n",
    "    axes[0, 1].set_xlabel(group_column)\n",
    "    axes[0, 1].set_ylabel(value_column)\n",
    "\n",
    "    sns.histplot(df[df[group_column] == groups[0]][value_column], bins=30, kde=True, color='blue', alpha=0.5, ax=axes[1, 0])\n",
    "    axes[1, 0].set_title(f'Hist for the {groups[0]}')\n",
    "    axes[1, 0].set_xlabel(value_column)\n",
    "    axes[1, 0].set_ylabel(\"frequence\")\n",
    "\n",
    "    sns.histplot(df[df[group_column] == groups[1]][value_column], bins=30, kde=True, color='orange', alpha=0.5, ax=axes[1, 1])\n",
    "    axes[1, 1].set_title(f'Hist for the {groups[1]}')\n",
    "    axes[1, 1].set_xlabel(value_column)\n",
    "    axes[1, 1].set_ylabel(\"Frequence\")\n",
    "\n",
    "    plt.tight_layout()\n",
    "    plt.show()\n",
    "\n",
    "# Levene's & Bartlet's test\n",
    "def levene(df, indicator, metric):\n",
    "    w_stats, p_value = st.levene(\n",
    "        df[df['group_name'] == 0][indicator], \n",
    "        df[df['group_name'] == 1][indicator],\n",
    "                            center=metric)\n",
    "    \n",
    "    alpha = 0.05\n",
    "    \n",
    "    if p_value > alpha:\n",
    "        print(f\"Variance are from the same population on {metric}\")\n",
    "    else:\n",
    "        print(f\"Variance are from the different population on {metric}\")\n",
    "    \n",
    "# Cohen's D\n",
    "def cohens_d(df, metric):\n",
    "    group1 = df[df['group_name']==1][metric]\n",
    "    group2 = df[df['group_name']==0][metric]\n",
    "    mean1, mean2 = np.mean(group1), np.mean(group2)\n",
    "     \n",
    "    std1, std2 = np.std(group1, ddof=1), np.std(group2, ddof=1)\n",
    "    n1, n2 = len(group1), len(group2)\n",
    "    pooled_std = np.sqrt(((n1 - 1) * std1 ** 2 + (n2 - 1) * std2 ** 2) / (n1 + n2 - 2))\n",
    "     \n",
    "    d = (mean1 - mean2) / pooled_std\n",
    "     \n",
    "    # if d <= 0.3:\n",
    "    #     print(f'Small effect: d ≈ 0-0.3 ({d:.3f})')\n",
    "    # elif 0.31 <= d <= 0.8:\n",
    "    #     print(f'Medium effect: d ≈ 0.3-0.8 ({d:.3f})')\n",
    "    # elif 0.81 <= d <= 1:\n",
    "    #     print(f'Large effect: d ≈ 0.8-1 ({d:.3f})')\n",
    "\n",
    "    return d\n",
    "\n",
    "# SRM\n",
    "def srm(df):\n",
    "    srm_df = pd.DataFrame()\n",
    "\n",
    "    for city in df['city_name'].unique():\n",
    "        \n",
    "        observed = [\n",
    "            (df.query(f'group_name == 0 and city_name == \"{city}\"')['user_id'].count()), \n",
    "            (df.query(f'group_name == 1 and city_name == \"{city}\"')['user_id'].count())\n",
    "            ]\n",
    "\n",
    "        total_traffic = sum(observed)\n",
    "\n",
    "        expected = [total_traffic/2, total_traffic/2]\n",
    "\n",
    "        chi = st.chisquare(observed, f_exp = expected)\n",
    "\n",
    "        if chi[1] < 0.01:\n",
    "            conclusion = \"Sample ratio mismatch (SRM) may be present\"\n",
    "        else:\n",
    "            conclusion = \"Sample ratio mismatch (SRM) probably not present\"\n",
    "            print(f\"{city}, {chi[1]}\")\n",
    "\n",
    "        \n",
    "        new_srm_df = pd.DataFrame(\n",
    "            [[city, observed, total_traffic, expected, round(chi[1], 3), conclusion]], \n",
    "            columns=['city_name',  'sample_sizes', 'total_size', 'expected_sizes', 'chi_value', 'conclusion']\n",
    "            )\n",
    "\n",
    "        srm_df = pd.concat([srm_df, new_srm_df]).sort_values(['city_name', 'total_size'], ascending=False).reset_index(drop=True)\n",
    "\n",
    "    return srm_df\n",
    "\n",
    "# Calcualting the significance by cities\n",
    "def calcualate_result(df_cr, df_abs):\n",
    "    df_results = pd.DataFrame()\n",
    "\n",
    "    for city in df_cr['city_name'].unique():\n",
    "\n",
    "        absolute_values_keys_result = df_abs[df_abs['city_name']==f'{city}'].copy()\n",
    "\n",
    "        cr_df = ztest_proportion(df_cr[df_cr['city_name']==f'{city}'], 'has_ride', 'group_name')\n",
    "        cr_df['metric'] = 'Conversion'\n",
    "        cr_df['cohen_d'] = cohens_d(df_cr[df_cr['city_name']==f'{city}'], 'has_ride')\n",
    "\n",
    "        rides_df = ttest(absolute_values_keys_result, 'rides', 'group_name')\n",
    "        rides_df['metric'] = 'Quantitive'\n",
    "        rides_df['cohen_d'] = cohens_d(absolute_values_keys_result, 'rides')\n",
    "\n",
    "        gmv_df = ttest(absolute_values_keys_result, 'gmv', 'group_name')\n",
    "        gmv_df['metric'] = 'Quantitive'\n",
    "        gmv_df['cohen_d'] = cohens_d(absolute_values_keys_result, 'gmv')\n",
    "\n",
    "        orders_df = ttest(absolute_values_keys_result, 'orders', 'group_name')\n",
    "        orders_df['metric'] = 'Quantitive'\n",
    "        orders_df['cohen_d'] = cohens_d(absolute_values_keys_result, 'orders')\n",
    "\n",
    "        df_total = pd.concat([cr_df, rides_df, gmv_df, orders_df])\n",
    "\n",
    "        df_total['region'] = city\n",
    "        df_total['segment'] = 'By city'\n",
    "        df_total['significance'] = (df_total['pvalue']<0.05)*1\n",
    "        df_total['corrected_pvalue'] = method_benjamini_hochberg(df_total['pvalue'].values)\n",
    "\n",
    "        df_results = pd.concat([df_results, df_total])\n",
    "\n",
    "    total_cr_df = ztest_proportion(df_cr, 'has_ride', 'group_name')\n",
    "    total_cr_df['metric'] = 'Conversion'\n",
    "    total_cr_df['cohen_d'] = cohens_d(df_cr, 'has_ride')\n",
    "\n",
    "    total_rides_df = ttest(df_abs, 'rides', 'group_name')\n",
    "    total_rides_df['metric'] = 'Quantitive'\n",
    "    total_rides_df['cohen_d'] = cohens_d(df_abs, 'rides')\n",
    "\n",
    "    total_gmv_df = ttest(df_abs, 'gmv', 'group_name')\n",
    "    total_gmv_df['metric'] = 'Quantitive'\n",
    "    total_gmv_df['cohen_d'] = cohens_d(df_abs, 'gmv')\n",
    "\n",
    "    total_orders_df = ttest(df_abs, 'orders', 'group_name')\n",
    "    total_orders_df['metric'] = 'Quantitive'\n",
    "    total_orders_df['cohen_d'] = cohens_d(df_abs, 'orders')\n",
    "\n",
    "\n",
    "    total_total_df = pd.concat([total_cr_df, total_rides_df, total_gmv_df, total_orders_df])\n",
    "    total_total_df['region'] = 'All'\n",
    "    total_total_df['segment'] = 'Total'\n",
    "    total_total_df['significance'] = (df_total['pvalue']<0.05)*1\n",
    "    total_total_df['corrected_pvalue'] = method_benjamini_hochberg(df_total['pvalue'].values)\n",
    "\n",
    "    df_results = pd.concat([df_results, total_total_df])\n",
    "\n",
    "    df_results\n",
    "\n",
    "    return df_results\n",
    "\n",
    "def sequential_wald_test(df, date_col, metric_col, group_col, user_col, alpha=0.05, beta=0.2):\n",
    "    \n",
    "    A = np.round(np.log(beta / (1 - alpha)), 2)   \n",
    "    B = np.round(np.log((1 - beta) / alpha), 2) \n",
    "    \n",
    "    df_grouped = df.groupby([date_col, group_col]).agg(\n",
    "        users=(user_col, 'nunique'), \n",
    "        conversions=(metric_col, 'sum') \n",
    "    ).reset_index()\n",
    "\n",
    "    df_grouped[\"cum_users\"] = df_grouped.groupby(group_col)[\"users\"].cumsum()\n",
    "    df_grouped[\"cum_conversions\"] = df_grouped.groupby(group_col)[\"conversions\"].cumsum()\n",
    "\n",
    "    df_A = df_grouped[df_grouped[group_col] == 0].drop(columns=[group_col]).rename(\n",
    "        columns={\"users\": \"users_A\", \"conversions\": \"conv_A\", \"cum_users\": \"cum_users_A\", \"cum_conversions\": \"cum_conv_A\"}\n",
    "    )\n",
    "    df_B = df_grouped[df_grouped[group_col] == 1].drop(columns=[group_col]).rename(\n",
    "        columns={\"users\": \"users_B\", \"conversions\": \"conv_B\", \"cum_users\": \"cum_users_B\", \"cum_conversions\": \"cum_conv_B\"}\n",
    "    )\n",
    "\n",
    "    df_merged = pd.merge(df_A, df_B, on=date_col, how=\"outer\").fillna(0)\n",
    "\n",
    "    print(\"Колонки в df_merged:\", df_merged.columns)\n",
    "\n",
    "    p_values, llr_values = [], []\n",
    "    stop_day = None\n",
    "\n",
    "    for i in range(len(df_merged)):\n",
    "        try:\n",
    "            users_A, conv_A = df_merged.loc[i, [\"cum_users_A\", \"cum_conv_A\"]]\n",
    "            users_B, conv_B = df_merged.loc[i, [\"cum_users_B\", \"cum_conv_B\"]]\n",
    "\n",
    "            p_A = conv_A / users_A if users_A > 0 else 0\n",
    "            p_B = conv_B / users_B if users_B > 0 else 0\n",
    "\n",
    "            r = test_proportions_2indep(\n",
    "                conv_A, users_A,\n",
    "                conv_B, users_B,\n",
    "                value=0,\n",
    "                method='wald',\n",
    "                compare='diff',\n",
    "                alternative='two-sided',\n",
    "                return_results=True\n",
    "            )\n",
    "\n",
    "            p_value = r.pvalue\n",
    "            p_values.append(p_value)\n",
    "\n",
    "            llr = np.log(p_B / p_A) if p_B > 0 and p_A > 0 else 0\n",
    "            llr_values.append(llr)\n",
    "\n",
    "            if llr <= A:\n",
    "                stop_day = df_merged.loc[i, date_col]\n",
    "                print(f\"On {stop_day} might be stopped: LLR={llr:.3f} <= {A:.3f} (Accept H0)\")\n",
    "                break\n",
    "            elif llr >= B:\n",
    "                stop_day = df_merged.loc[i, date_col]\n",
    "                print(f\"On {stop_day} might be stopped: LLR={llr:.3f} >= {B:.3f} (Accept H1)\")\n",
    "                break\n",
    "\n",
    "        except Exception as e:\n",
    "            print(f\"⚠️ Ошибка на дне {df_merged.loc[i, date_col]}: {e}\")\n",
    "            p_values.append(np.nan)\n",
    "            llr_values.append(np.nan)\n",
    "\n",
    "    # Создаем DataFrame с результатами\n",
    "    df_results = df_merged.iloc[:len(p_values)].copy()\n",
    "    df_results[\"p_value\"] = p_values\n",
    "    df_results[\"LLR\"] = llr_values\n",
    "    df_results[\"A/B\"] = str([A, B])\n",
    "    df_results[\"alpha_threshold\"] = np.linspace(alpha, alpha / np.sqrt(len(df_results)), len(p_values))  # Коррекция alpha\n",
    "\n",
    "    # Визуализация результатов\n",
    "    plt.figure(figsize=(12, 6))\n",
    "    plt.plot(df_results[date_col], df_results[\"p_value\"], label=\"P-value\", marker=\"o\")\n",
    "    plt.plot(df_results[date_col], df_results[\"alpha_threshold\"], label=\"Corrected Alpha\", linestyle=\"dashed\")\n",
    "    plt.axhline(y=alpha, color=\"red\", linestyle=\"--\", label=\"Standard Alpha (0.05)\")\n",
    "    plt.xticks(rotation=45)\n",
    "    plt.xlabel(\"Date\")\n",
    "    plt.ylabel(\"P-Value\")\n",
    "    plt.title(\"P-value daily vs. Corrected Alpha\")\n",
    "    plt.legend()\n",
    "    plt.grid()\n",
    "    plt.show()\n",
    "\n",
    "    return df_results\n",
    "\n",
    "def calculate_criteria(df):\n",
    "    df_res_1 = pd.DataFrame()\n",
    "    indicators = ['has_ride', 'rides', 'gmv']\n",
    "\n",
    "    total_res_z = expab.ztest_proportion(df, 'has_ride', 'group_name')\n",
    "    total_res_z['city_name'] = 'all the cities together'\n",
    "    total_res_t = expab.ttest(df, 'gmv', 'group_name')\n",
    "    total_res_t['city_name'] = 'all the cities together'\n",
    "    total_res_t2 = expab.ttest(df, 'rides', 'group_name')\n",
    "    total_res_t2['city_name'] = 'all the cities together'\n",
    "\n",
    "    df_res_1 = pd.concat([df_res_1, total_res_z, total_res_t, total_res_t2])\n",
    "\n",
    "    for city in df['city_name'].unique():\n",
    "        \n",
    "        for metric in indicators:\n",
    "            if metric == 'has_ride':\n",
    "                city_df_z = expab.ztest_proportion(df.query(f\"city_name == '{city}'\"), metric, 'group_name')\n",
    "                city_df_z['city_name'] = city\n",
    "\n",
    "                df_res_1 = pd.concat([df_res_1, city_df_z])\n",
    "\n",
    "            else:\n",
    "                city_df_t = expab.ttest(df.query(f\"city_name == '{city}'\"), metric, 'group_name')\n",
    "                city_df_t['city_name'] = city\n",
    "\n",
    "                df_res_1 = pd.concat([df_res_1, city_df_t])\n",
    "\n",
    "    df_res_1['corrected_pvalue'] = expab.method_benjamini_hochberg(df_res_1['pvalue'].values)\n",
    "    df_res_1['significance'] = (df_res_1['pvalue']<0.05)*1\n",
    "\n",
    "\n",
    "    return df_res_1\n",
    "\n",
    "def calculate_numbers(df):\n",
    "\n",
    "    df_agg = df.groupby(['group_name', 'city_name'], as_index=False)[['user_id', 'has_ride', 'rides', 'orders', 'gmv']].agg(\n",
    "        {'user_id':'count', \n",
    "        'has_ride':'sum', \n",
    "        'rides':'sum', \n",
    "        'gmv':'sum'}\n",
    "        ).sort_values(['city_name', 'group_name', 'user_id'], ascending=True)\n",
    "\n",
    "    df_agg['group_name'] = df_agg['group_name'].astype(str)\n",
    "\n",
    "    df_agg['group_name'] = df_agg['group_name'].replace({'0':'Control', '1':'Treatment'})\n",
    "\n",
    "    df_agg['cr_ride_%'] = np.round(df_agg['has_ride'] / df_agg['user_id'] * 100,2)\n",
    "    df_agg['cr_ride'] = np.round(df_agg['has_ride'] / df_agg['user_id'],5)\n",
    "    df_agg['cr_ride_%'] = df_agg['cr_ride_%'].astype(str)\n",
    "    df_agg['cr_ride_%'] = df_agg['cr_ride_%'] + '%'\n",
    "\n",
    "    return df_agg"
   ]
  },
  {
   "cell_type": "markdown",
   "id": "18301dd7",
   "metadata": {},
   "source": [
    "# Monitoring system"
   ]
  },
  {
   "cell_type": "code",
   "execution_count": 121,
   "id": "c5fde8b3",
   "metadata": {},
   "outputs": [
    {
     "data": {
      "text/html": [
       "<div>\n",
       "<style scoped>\n",
       "    .dataframe tbody tr th:only-of-type {\n",
       "        vertical-align: middle;\n",
       "    }\n",
       "\n",
       "    .dataframe tbody tr th {\n",
       "        vertical-align: top;\n",
       "    }\n",
       "\n",
       "    .dataframe thead th {\n",
       "        text-align: right;\n",
       "    }\n",
       "</style>\n",
       "<table border=\"1\" class=\"dataframe\">\n",
       "  <thead>\n",
       "    <tr style=\"text-align: right;\">\n",
       "      <th></th>\n",
       "      <th>user_id</th>\n",
       "      <th>group_id</th>\n",
       "      <th>created_dt_part</th>\n",
       "      <th>os_name</th>\n",
       "      <th>city_id</th>\n",
       "      <th>city_name</th>\n",
       "      <th>country_id</th>\n",
       "      <th>country_name</th>\n",
       "      <th>newbie_flag</th>\n",
       "      <th>filled_flow</th>\n",
       "      <th>show_dt</th>\n",
       "      <th>click_dt</th>\n",
       "      <th>approve_dt</th>\n",
       "      <th>approve_flag</th>\n",
       "      <th>not_approve_dt</th>\n",
       "      <th>not_approve_flag</th>\n",
       "      <th>order_timestamp</th>\n",
       "      <th>order_flag</th>\n",
       "      <th>gmv</th>\n",
       "      <th>rides</th>\n",
       "      <th>orders</th>\n",
       "    </tr>\n",
       "  </thead>\n",
       "  <tbody>\n",
       "    <tr>\n",
       "      <th>0</th>\n",
       "      <td>12051735</td>\n",
       "      <td>0</td>\n",
       "      <td>2025-05-25</td>\n",
       "      <td>None</td>\n",
       "      <td>4267</td>\n",
       "      <td>Arica</td>\n",
       "      <td>25</td>\n",
       "      <td>Chile</td>\n",
       "      <td>0</td>\n",
       "      <td>None</td>\n",
       "      <td>NaT</td>\n",
       "      <td>NaT</td>\n",
       "      <td>NaT</td>\n",
       "      <td>0</td>\n",
       "      <td>NaT</td>\n",
       "      <td>0</td>\n",
       "      <td>2025-05-27 14:03:43+00:00</td>\n",
       "      <td>1</td>\n",
       "      <td>97.80</td>\n",
       "      <td>40</td>\n",
       "      <td>68</td>\n",
       "    </tr>\n",
       "    <tr>\n",
       "      <th>1</th>\n",
       "      <td>12257163</td>\n",
       "      <td>0</td>\n",
       "      <td>2025-05-22</td>\n",
       "      <td>None</td>\n",
       "      <td>5596</td>\n",
       "      <td>Punta Arenas</td>\n",
       "      <td>25</td>\n",
       "      <td>Chile</td>\n",
       "      <td>0</td>\n",
       "      <td>None</td>\n",
       "      <td>NaT</td>\n",
       "      <td>NaT</td>\n",
       "      <td>NaT</td>\n",
       "      <td>0</td>\n",
       "      <td>NaT</td>\n",
       "      <td>0</td>\n",
       "      <td>2025-05-22 09:47:24+00:00</td>\n",
       "      <td>1</td>\n",
       "      <td>12.74</td>\n",
       "      <td>4</td>\n",
       "      <td>8</td>\n",
       "    </tr>\n",
       "    <tr>\n",
       "      <th>2</th>\n",
       "      <td>13624693</td>\n",
       "      <td>0</td>\n",
       "      <td>2025-05-22</td>\n",
       "      <td>None</td>\n",
       "      <td>4200</td>\n",
       "      <td>Santiago</td>\n",
       "      <td>25</td>\n",
       "      <td>Chile</td>\n",
       "      <td>0</td>\n",
       "      <td>None</td>\n",
       "      <td>NaT</td>\n",
       "      <td>NaT</td>\n",
       "      <td>NaT</td>\n",
       "      <td>0</td>\n",
       "      <td>NaT</td>\n",
       "      <td>0</td>\n",
       "      <td>2025-05-22 03:09:20+00:00</td>\n",
       "      <td>1</td>\n",
       "      <td>23.35</td>\n",
       "      <td>3</td>\n",
       "      <td>8</td>\n",
       "    </tr>\n",
       "    <tr>\n",
       "      <th>3</th>\n",
       "      <td>13649714</td>\n",
       "      <td>0</td>\n",
       "      <td>2025-06-01</td>\n",
       "      <td>None</td>\n",
       "      <td>4200</td>\n",
       "      <td>Santiago</td>\n",
       "      <td>25</td>\n",
       "      <td>Chile</td>\n",
       "      <td>0</td>\n",
       "      <td>None</td>\n",
       "      <td>NaT</td>\n",
       "      <td>NaT</td>\n",
       "      <td>NaT</td>\n",
       "      <td>0</td>\n",
       "      <td>NaT</td>\n",
       "      <td>0</td>\n",
       "      <td>NaT</td>\n",
       "      <td>0</td>\n",
       "      <td>6.88</td>\n",
       "      <td>1</td>\n",
       "      <td>6</td>\n",
       "    </tr>\n",
       "    <tr>\n",
       "      <th>4</th>\n",
       "      <td>14362557</td>\n",
       "      <td>0</td>\n",
       "      <td>2025-05-22</td>\n",
       "      <td>None</td>\n",
       "      <td>4267</td>\n",
       "      <td>Arica</td>\n",
       "      <td>25</td>\n",
       "      <td>Chile</td>\n",
       "      <td>0</td>\n",
       "      <td>None</td>\n",
       "      <td>NaT</td>\n",
       "      <td>NaT</td>\n",
       "      <td>NaT</td>\n",
       "      <td>0</td>\n",
       "      <td>NaT</td>\n",
       "      <td>0</td>\n",
       "      <td>NaT</td>\n",
       "      <td>0</td>\n",
       "      <td>2.58</td>\n",
       "      <td>1</td>\n",
       "      <td>2</td>\n",
       "    </tr>\n",
       "  </tbody>\n",
       "</table>\n",
       "</div>"
      ],
      "text/plain": [
       "    user_id  group_id created_dt_part os_name  city_id     city_name  country_id country_name  newbie_flag filled_flow show_dt click_dt approve_dt  approve_flag not_approve_dt  not_approve_flag           order_timestamp  order_flag   gmv  rides  orders\n",
       "0  12051735         0      2025-05-25    None     4267         Arica          25        Chile            0        None     NaT      NaT        NaT             0            NaT                 0 2025-05-27 14:03:43+00:00           1 97.80     40      68\n",
       "1  12257163         0      2025-05-22    None     5596  Punta Arenas          25        Chile            0        None     NaT      NaT        NaT             0            NaT                 0 2025-05-22 09:47:24+00:00           1 12.74      4       8\n",
       "2  13624693         0      2025-05-22    None     4200      Santiago          25        Chile            0        None     NaT      NaT        NaT             0            NaT                 0 2025-05-22 03:09:20+00:00           1 23.35      3       8\n",
       "3  13649714         0      2025-06-01    None     4200      Santiago          25        Chile            0        None     NaT      NaT        NaT             0            NaT                 0                       NaT           0  6.88      1       6\n",
       "4  14362557         0      2025-05-22    None     4267         Arica          25        Chile            0        None     NaT      NaT        NaT             0            NaT                 0                       NaT           0  2.58      1       2"
      ]
     },
     "execution_count": 121,
     "metadata": {},
     "output_type": "execute_result"
    }
   ],
   "source": [
    "script = read_bq(\"\"\"\n",
    "WITH newbies AS (SELECT user_id,\n",
    "                        metric_date\n",
    "                 FROM indriver-bi.incity.tbl_incity_growth_metrics_detail\n",
    "                 WHERE user_type = 'pass'\n",
    "                   AND rides_count > 0\n",
    "                   AND metric_date >= DATE_ADD(CURRENT_DATE(), INTERVAL -1 YEAR)\n",
    "                   AND country_id = 25),\n",
    "     gmv AS (SELECT user_id,\n",
    "                    SUM(gmv_clean_usd) AS gmv,\n",
    "                    SUM(rides_count)   AS rides,\n",
    "                    SUM(orders_count)  AS orders\n",
    "             FROM indriver-bi.incity.tbl_incity_growth_metrics_detail\n",
    "             WHERE user_type = 'pass'\n",
    "               AND metric_date BETWEEN '2025-04-01' AND DATE_ADD(CURRENT_DATE(), INTERVAL -0 DAY)\n",
    "               AND country_id = 25\n",
    "             GROUP BY 1),\n",
    "     total AS (SELECT t1.user_id,\n",
    "                      t1.city_id,\n",
    "                      geo.city_name,\n",
    "                      geo.country_id,\n",
    "                      geo.country_name,\n",
    "                      IF(group_id = 4541078, 0, 1) AS group_id,\n",
    "                      created_dt_part,\n",
    "                      t2.metric_date,\n",
    "                      CASE\n",
    "                          WHEN t2.metric_date IS NULL THEN 1\n",
    "                          ELSE 0\n",
    "                          END                         newbie_flag\n",
    "               FROM indriver-e6e40.ss_ab_platform_mart.markup_users t1\n",
    "                        JOIN indriver-e6e40.heap.vw_macroregion_mapping geo\n",
    "                             ON\n",
    "                                 t1.city_id = geo.city_id\n",
    "                        LEFT JOIN newbies t2 ON t1.user_id = t2.user_id AND t2.metric_date < t1.created_dt_part\n",
    "               WHERE test_id = 3182\n",
    "               QUALIFY ROW_NUMBER() OVER (PARTITION BY t1.user_id ORDER BY metric_date DESC) = 1),\n",
    "     liveness AS (SELECT user_id,\n",
    "                         os_name,\n",
    "                         city_id,\n",
    "                         city_name,\n",
    "                         country_id,\n",
    "                         country_name,\n",
    "                         COALESCE(filled_flow, 'liveness')                                  AS filled_flow,\n",
    "                         COALESCE(MAX(IF(name = 'client.verification_start.show', client_time, NULL)),\n",
    "                                  MAX(IF((name = 'client.verification_flow_result_status.show' AND\n",
    "                                          LOWER(status) = 'approve'), client_time, NULL)),\n",
    "                                  MAX(IF((name = 'client.verification_flow_result_status.show' AND\n",
    "                                          LOWER(status) != 'approve'), client_time, NULL))) AS show_dt,\n",
    "                         COALESCE(MAX(IF(name = 'client.verification_start.click', client_time, NULL)),\n",
    "                                  MAX(IF((name = 'client.verification_flow_result_status.show' AND\n",
    "                                          LOWER(status) = 'approve'), client_time, NULL)),\n",
    "                                  MAX(IF((name = 'client.verification_flow_result_status.show' AND\n",
    "                                          LOWER(status) != 'approve'), client_time, NULL))) AS click_dt,\n",
    "                         MAX(IF((name = 'client.verification_flow_result_status.show' AND\n",
    "                                 LOWER(status) = 'approve'), client_time, NULL))            AS approve_dt,\n",
    "                         MAX(IF((name = 'client.verification_flow_result_status.show' AND\n",
    "                                 LOWER(status) != 'approve'), client_time, NULL))           AS not_approve_dt\n",
    "                  FROM (SELECT t1.user_id,\n",
    "                               t1.name,\n",
    "                               t1.os_name,\n",
    "                               DATE(TIMESTAMP_MILLIS(t1.client_time))                  AS event_dt_part,\n",
    "                               TIMESTAMP_MILLIS(t1.client_time)                        AS client_time,\n",
    "                               t1.city_id,\n",
    "                               t2.city_name,\n",
    "                               t2.country_id,\n",
    "                               t2.country_name,\n",
    "                               JSON_EXTRACT_SCALAR(payload, '$.verification_flow')     AS verification_flow,\n",
    "                               IF(JSON_EXTRACT_SCALAR(payload, '$.verification_flow') IS NULL,\n",
    "                                  LAG(JSON_EXTRACT_SCALAR(payload, '$.verification_flow'))\n",
    "                                      OVER (PARTITION BY t1.user_id ORDER BY client_time),\n",
    "                                  JSON_EXTRACT_SCALAR(payload, '$.verification_flow')) AS filled_flow,\n",
    "                               JSON_EXTRACT_SCALAR(payload, '$.status')                AS status\n",
    "                        FROM (SELECT *\n",
    "                              FROM indriver-e6e40.emart.product_event t1\n",
    "                              WHERE 1 = 1\n",
    "                                AND name IN (\n",
    "                                             'client.verification_start.show',\n",
    "                                             'client.verification_start.click',\n",
    "                                             'client.verification_flow_result_status.show'\n",
    "                                  )\n",
    "                                AND event_dt_part BETWEEN '2025-04-01' AND DATE_ADD(CURRENT_DATE(), INTERVAL -0 DAY)\n",
    "                                AND country_id IN (25)\n",
    "                              QUALIFY\n",
    "                                  ROW_NUMBER() OVER (PARTITION BY user_id, name, os_name, event_dt_part, JSON_EXTRACT_SCALAR(payload, '$.verification_flow') ORDER BY client_time DESC) =\n",
    "                                  1) t1\n",
    "                                 JOIN indriver-e6e40.heap.vw_macroregion_mapping t2\n",
    "                                      ON\n",
    "                                          t1.city_id = t2.city_id\n",
    "                        WHERE 1 = 1\n",
    "                          AND name IN (\n",
    "                                       'client.verification_start.show', 'client.verification_start.click',\n",
    "                                       'client.verification_flow_result_status.show'\n",
    "                            ))\n",
    "                  GROUP BY 1, 2, 3, 4, 5, 6, 7),\n",
    "     total_liv AS (SELECT t1.user_id,\n",
    "                          t1.city_id,\n",
    "                          t1.city_name,\n",
    "                          t1.country_id,\n",
    "                          t1.country_name,\n",
    "                          t1.group_id,\n",
    "                          t1.created_dt_part,\n",
    "                          t1.newbie_flag,\n",
    "                          t2.user_id AS user_with_svf,\n",
    "                          t2.os_name,\n",
    "                          t2.filled_flow,\n",
    "                          t2.show_dt,\n",
    "                          t2.click_dt,\n",
    "                          t2.approve_dt,\n",
    "                          t2.not_approve_dt\n",
    "                   FROM total t1\n",
    "                            LEFT JOIN liveness t2\n",
    "                                      ON t1.user_id = t2.user_id AND DATE(t2.show_dt) >= t1.created_dt_part),\n",
    "     rides AS (SELECT order_uuid,\n",
    "                      user_id    AS pass_id,\n",
    "                      driver_id,\n",
    "                      city_id    AS order_city_id,\n",
    "                      country_id AS order_country_id,\n",
    "                      status_order,\n",
    "                      order_timestamp,\n",
    "                      at_pickup_dttm,\n",
    "                      departed_pickup_dttm,\n",
    "                      at_destination_dttm,\n",
    "                      departed_destination_dttm,\n",
    "                      driveraccept_timestamp,\n",
    "                      driverarrived_timestamp,\n",
    "                      driverstarttheride_timestamp,\n",
    "                      driverdone_timestamp,\n",
    "                      clientdone_timestamp,\n",
    "                      clientcancel_timestamp,\n",
    "                      drivercancel_timestamp,\n",
    "                      user_reg_date,\n",
    "                      driver_reg_date,\n",
    "                      stage,\n",
    "                      created_date_order_part,\n",
    "                      duration_in_seconds\n",
    "               FROM indriver-e6e40.imart.incity_detail_new_order\n",
    "               WHERE created_date_order_part BETWEEN '2025-04-01'\n",
    "                   AND DATE_ADD(CURRENT_DATE(), INTERVAL -0 DAY)\n",
    "                 AND status_order = 'RIDE_STATUS_DONE'\n",
    "                 AND driveraccept_timestamp IS NOT NULL\n",
    "                 AND (clientcancel_timestamp IS NULL\n",
    "                   AND drivercancel_timestamp IS NULL))\n",
    "SELECT t1.user_id,\n",
    "       t1.group_id,\n",
    "       t1.created_dt_part,\n",
    "       t1.os_name,\n",
    "       t1.city_id,\n",
    "       t1.city_name,\n",
    "       t1.country_id,\n",
    "       t1.country_name,\n",
    "       t1.newbie_flag,\n",
    "       filled_flow,\n",
    "       show_dt,\n",
    "       click_dt,\n",
    "       approve_dt                                                  AS approve_dt,\n",
    "       IF(approve_dt IS NOT NULL, 1, 0)                            AS approve_flag,\n",
    "       not_approve_dt,\n",
    "       IF(not_approve_dt IS NOT NULL AND approve_dt IS NULL, 1, 0) AS not_approve_flag,\n",
    "       t2.order_timestamp,\n",
    "       IF(t2.order_timestamp IS NOT NULL, 1, 0)                    AS order_flag,\n",
    "       t3.gmv,\n",
    "       t3.rides,\n",
    "       t3.orders\n",
    "FROM total_liv t1\n",
    "         LEFT JOIN rides t2\n",
    "                   ON t1.user_id = t2.pass_id AND\n",
    "                      t2.created_date_order_part >= created_dt_part\n",
    "         LEFT JOIN gmv t3 ON t1.user_id = t3.user_id\n",
    "QUALIFY ROW_NUMBER() OVER (PARTITION BY t1.user_id ORDER BY t2.order_timestamp) = 1\n",
    "\"\"\")\n",
    "\n",
    "script.head()"
   ]
  },
  {
   "cell_type": "code",
   "execution_count": 122,
   "id": "178bf405",
   "metadata": {},
   "outputs": [],
   "source": [
    "script['created_dt_part'] = pd.to_datetime(script['created_dt_part'])"
   ]
  },
  {
   "cell_type": "code",
   "execution_count": 149,
   "id": "7333ac3c",
   "metadata": {},
   "outputs": [
    {
     "data": {
      "text/html": [
       "<div>\n",
       "<style scoped>\n",
       "    .dataframe tbody tr th:only-of-type {\n",
       "        vertical-align: middle;\n",
       "    }\n",
       "\n",
       "    .dataframe tbody tr th {\n",
       "        vertical-align: top;\n",
       "    }\n",
       "\n",
       "    .dataframe thead th {\n",
       "        text-align: right;\n",
       "    }\n",
       "</style>\n",
       "<table border=\"1\" class=\"dataframe\">\n",
       "  <thead>\n",
       "    <tr style=\"text-align: right;\">\n",
       "      <th></th>\n",
       "      <th>group_id</th>\n",
       "      <th>newbie_flag</th>\n",
       "      <th>show_dt</th>\n",
       "      <th>click_dt</th>\n",
       "      <th>approve_dt</th>\n",
       "      <th>not_approve_dt</th>\n",
       "      <th>order_flag</th>\n",
       "      <th>cr_to_approve</th>\n",
       "      <th>cr_to_ride</th>\n",
       "      <th>cr_to_not_approve</th>\n",
       "    </tr>\n",
       "  </thead>\n",
       "  <tbody>\n",
       "    <tr>\n",
       "      <th>0</th>\n",
       "      <td>0</td>\n",
       "      <td>0</td>\n",
       "      <td>13842</td>\n",
       "      <td>13605</td>\n",
       "      <td>10818</td>\n",
       "      <td>838</td>\n",
       "      <td>7883</td>\n",
       "      <td>79.515</td>\n",
       "      <td>72.869</td>\n",
       "      <td>6.160</td>\n",
       "    </tr>\n",
       "    <tr>\n",
       "      <th>1</th>\n",
       "      <td>0</td>\n",
       "      <td>1</td>\n",
       "      <td>7254</td>\n",
       "      <td>7022</td>\n",
       "      <td>5895</td>\n",
       "      <td>188</td>\n",
       "      <td>3480</td>\n",
       "      <td>83.950</td>\n",
       "      <td>59.033</td>\n",
       "      <td>2.677</td>\n",
       "    </tr>\n",
       "    <tr>\n",
       "      <th>2</th>\n",
       "      <td>1</td>\n",
       "      <td>0</td>\n",
       "      <td>5815</td>\n",
       "      <td>5710</td>\n",
       "      <td>4487</td>\n",
       "      <td>551</td>\n",
       "      <td>3175</td>\n",
       "      <td>78.581</td>\n",
       "      <td>70.760</td>\n",
       "      <td>9.650</td>\n",
       "    </tr>\n",
       "    <tr>\n",
       "      <th>3</th>\n",
       "      <td>1</td>\n",
       "      <td>1</td>\n",
       "      <td>3872</td>\n",
       "      <td>3724</td>\n",
       "      <td>2419</td>\n",
       "      <td>271</td>\n",
       "      <td>1386</td>\n",
       "      <td>64.957</td>\n",
       "      <td>57.296</td>\n",
       "      <td>7.277</td>\n",
       "    </tr>\n",
       "  </tbody>\n",
       "</table>\n",
       "</div>"
      ],
      "text/plain": [
       "   group_id  newbie_flag  show_dt  click_dt  approve_dt  not_approve_dt  order_flag  cr_to_approve  cr_to_ride  cr_to_not_approve\n",
       "0         0            0    13842     13605       10818             838        7883         79.515      72.869              6.160\n",
       "1         0            1     7254      7022        5895             188        3480         83.950      59.033              2.677\n",
       "2         1            0     5815      5710        4487             551        3175         78.581      70.760              9.650\n",
       "3         1            1     3872      3724        2419             271        1386         64.957      57.296              7.277"
      ]
     },
     "execution_count": 149,
     "metadata": {},
     "output_type": "execute_result"
    }
   ],
   "source": [
    "df_grouped = script[~script['show_dt'].isna()].query(\"created_dt_part >= '2025-05-01'\").groupby(['group_id', 'newbie_flag'], as_index=False)[['show_dt', 'click_dt', 'approve_dt', 'not_approve_dt', 'order_flag']].agg({'show_dt':'count', 'click_dt':'count', 'approve_dt':'count', 'not_approve_dt':'count', 'order_flag':'sum'})\n",
    "\n",
    "df_grouped['cr_to_approve'] = df_grouped['approve_dt'] / df_grouped['click_dt'] * 100\n",
    "df_grouped['cr_to_ride'] = df_grouped['order_flag'] / df_grouped['approve_dt'] * 100\n",
    "df_grouped['cr_to_not_approve'] = df_grouped['not_approve_dt'] / df_grouped['click_dt'] * 100\n",
    "\n",
    "\n",
    "\n",
    "\n",
    "df_grouped"
   ]
  },
  {
   "cell_type": "code",
   "execution_count": 148,
   "id": "c1d97b7c",
   "metadata": {},
   "outputs": [
    {
     "data": {
      "text/plain": [
       "-1.0699999999999998"
      ]
     },
     "execution_count": 148,
     "metadata": {},
     "output_type": "execute_result"
    }
   ],
   "source": [
    "2.10-3.17"
   ]
  },
  {
   "cell_type": "code",
   "execution_count": 76,
   "id": "38222964",
   "metadata": {},
   "outputs": [
    {
     "name": "stdout",
     "output_type": "stream",
     "text": [
      "0.5478260869565217\n",
      "0.5761772853185596\n",
      "0.26994899817850637\n"
     ]
    }
   ],
   "source": [
    "print(378/690)\n",
    "print(1040/1805)\n",
    "print((1805/2196)-(690/1250))"
   ]
  },
  {
   "cell_type": "code",
   "execution_count": 43,
   "id": "f7882d7b",
   "metadata": {},
   "outputs": [
    {
     "data": {
      "text/html": [
       "<div>\n",
       "<style scoped>\n",
       "    .dataframe tbody tr th:only-of-type {\n",
       "        vertical-align: middle;\n",
       "    }\n",
       "\n",
       "    .dataframe tbody tr th {\n",
       "        vertical-align: top;\n",
       "    }\n",
       "\n",
       "    .dataframe thead th {\n",
       "        text-align: right;\n",
       "    }\n",
       "</style>\n",
       "<table border=\"1\" class=\"dataframe\">\n",
       "  <thead>\n",
       "    <tr style=\"text-align: right;\">\n",
       "      <th></th>\n",
       "      <th>user_id</th>\n",
       "      <th>os_name</th>\n",
       "      <th>city_id</th>\n",
       "      <th>city_name</th>\n",
       "      <th>country_id</th>\n",
       "      <th>country_name</th>\n",
       "      <th>filled_flow</th>\n",
       "      <th>show_dt</th>\n",
       "      <th>click_dt</th>\n",
       "      <th>approve_dt</th>\n",
       "      <th>not_approve_dt</th>\n",
       "    </tr>\n",
       "  </thead>\n",
       "  <tbody>\n",
       "    <tr>\n",
       "      <th>0</th>\n",
       "      <td>160342200</td>\n",
       "      <td>android</td>\n",
       "      <td>4517</td>\n",
       "      <td>Natal</td>\n",
       "      <td>11</td>\n",
       "      <td>Brazil</td>\n",
       "      <td>liveness</td>\n",
       "      <td>2025-05-22 23:00:00+00:00</td>\n",
       "      <td>2025-05-22 23:00:37.967000+00:00</td>\n",
       "      <td>2025-05-22 23:01:12.681000+00:00</td>\n",
       "      <td>NaT</td>\n",
       "    </tr>\n",
       "    <tr>\n",
       "      <th>1</th>\n",
       "      <td>290797744</td>\n",
       "      <td>android</td>\n",
       "      <td>4515</td>\n",
       "      <td>Puerto Vallarta</td>\n",
       "      <td>12</td>\n",
       "      <td>Mexico</td>\n",
       "      <td>liveness</td>\n",
       "      <td>2025-05-21 00:00:00+00:00</td>\n",
       "      <td>2025-05-21 00:20:57.759000+00:00</td>\n",
       "      <td>2025-05-21 00:21:57.324000+00:00</td>\n",
       "      <td>NaT</td>\n",
       "    </tr>\n",
       "    <tr>\n",
       "      <th>2</th>\n",
       "      <td>294757751</td>\n",
       "      <td>android</td>\n",
       "      <td>5528</td>\n",
       "      <td>Santiago de los Caballeros</td>\n",
       "      <td>46</td>\n",
       "      <td>Dominican Republic</td>\n",
       "      <td>liveness</td>\n",
       "      <td>2025-05-22 04:00:00+00:00</td>\n",
       "      <td>2025-05-22 04:02:11.829000+00:00</td>\n",
       "      <td>2025-05-22 04:02:11.829000+00:00</td>\n",
       "      <td>NaT</td>\n",
       "    </tr>\n",
       "    <tr>\n",
       "      <th>3</th>\n",
       "      <td>294347330</td>\n",
       "      <td>android</td>\n",
       "      <td>4264</td>\n",
       "      <td>Temuco</td>\n",
       "      <td>25</td>\n",
       "      <td>Chile</td>\n",
       "      <td>liveness</td>\n",
       "      <td>2025-05-20 07:30:00+00:00</td>\n",
       "      <td>2025-05-20 07:33:14.167000+00:00</td>\n",
       "      <td>2025-05-20 07:33:39.728000+00:00</td>\n",
       "      <td>NaT</td>\n",
       "    </tr>\n",
       "    <tr>\n",
       "      <th>4</th>\n",
       "      <td>26306916</td>\n",
       "      <td>android</td>\n",
       "      <td>4246</td>\n",
       "      <td>Popayan</td>\n",
       "      <td>22</td>\n",
       "      <td>Colombia</td>\n",
       "      <td>liveness</td>\n",
       "      <td>2025-05-22 17:00:00+00:00</td>\n",
       "      <td>2025-05-22 17:08:30.412000+00:00</td>\n",
       "      <td>2025-05-22 17:08:52.313000+00:00</td>\n",
       "      <td>NaT</td>\n",
       "    </tr>\n",
       "  </tbody>\n",
       "</table>\n",
       "</div>"
      ],
      "text/plain": [
       "     user_id  os_name  city_id                   city_name  country_id        country_name filled_flow                   show_dt                         click_dt                       approve_dt not_approve_dt\n",
       "0  160342200  android     4517                       Natal          11              Brazil    liveness 2025-05-22 23:00:00+00:00 2025-05-22 23:00:37.967000+00:00 2025-05-22 23:01:12.681000+00:00            NaT\n",
       "1  290797744  android     4515             Puerto Vallarta          12              Mexico    liveness 2025-05-21 00:00:00+00:00 2025-05-21 00:20:57.759000+00:00 2025-05-21 00:21:57.324000+00:00            NaT\n",
       "2  294757751  android     5528  Santiago de los Caballeros          46  Dominican Republic    liveness 2025-05-22 04:00:00+00:00 2025-05-22 04:02:11.829000+00:00 2025-05-22 04:02:11.829000+00:00            NaT\n",
       "3  294347330  android     4264                      Temuco          25               Chile    liveness 2025-05-20 07:30:00+00:00 2025-05-20 07:33:14.167000+00:00 2025-05-20 07:33:39.728000+00:00            NaT\n",
       "4   26306916  android     4246                     Popayan          22            Colombia    liveness 2025-05-22 17:00:00+00:00 2025-05-22 17:08:30.412000+00:00 2025-05-22 17:08:52.313000+00:00            NaT"
      ]
     },
     "execution_count": 43,
     "metadata": {},
     "output_type": "execute_result"
    }
   ],
   "source": [
    "df_check_errors = read_bq(\"\"\"\n",
    "SELECT user_id,\n",
    "       os_name,\n",
    "       city_id,\n",
    "       city_name,\n",
    "       country_id,\n",
    "       country_name,\n",
    "       COALESCE(filled_flow, 'liveness')                                  AS filled_flow,\n",
    "       COALESCE(MAX(IF(name = 'client.verification_start.show', TIMESTAMP_ADD(\n",
    "               TIMESTAMP_TRUNC(client_time, HOUR),\n",
    "               INTERVAL\n",
    "               CAST(FLOOR(EXTRACT(MINUTE FROM client_time) /\n",
    "                          30) *\n",
    "                    30 AS INT64) MINUTE\n",
    "                                                                ), NULL)),\n",
    "                MAX(IF((name = 'client.verification_flow_result_status.show' AND\n",
    "                        LOWER(status) = 'approve'), TIMESTAMP_ADD(\n",
    "                               TIMESTAMP_TRUNC(client_time, HOUR),\n",
    "                               INTERVAL\n",
    "                               CAST(FLOOR(EXTRACT(MINUTE FROM client_time) /\n",
    "                                          30) *\n",
    "                                    30 AS INT64) MINUTE\n",
    "                                                    ), NULL)),\n",
    "                MAX(IF((name = 'client.verification_flow_result_status.show' AND\n",
    "                        LOWER(status) != 'approve'), TIMESTAMP_ADD(\n",
    "                               TIMESTAMP_TRUNC(client_time, HOUR),\n",
    "                               INTERVAL\n",
    "                               CAST(FLOOR(EXTRACT(MINUTE FROM client_time) /\n",
    "                                          30) *\n",
    "                                    30 AS INT64) MINUTE\n",
    "                                                     ), NULL)))           AS show_dt,\n",
    "       COALESCE(MAX(IF(name = 'client.verification_start.click', client_time, NULL)),\n",
    "                MAX(IF((name = 'client.verification_flow_result_status.show' AND\n",
    "                        LOWER(status) = 'approve'), client_time, NULL)),\n",
    "                MAX(IF((name = 'client.verification_flow_result_status.show' AND\n",
    "                        LOWER(status) != 'approve'), client_time, NULL))) AS click_dt,\n",
    "       MAX(IF((name = 'client.verification_flow_result_status.show' AND\n",
    "               LOWER(status) = 'approve'), client_time, NULL))            AS approve_dt,\n",
    "       MAX(IF((name = 'client.verification_flow_result_status.show' AND\n",
    "               LOWER(status) != 'approve'), client_time, NULL))           AS not_approve_dt\n",
    "FROM (SELECT t1.user_id,\n",
    "             t1.name,\n",
    "             t1.os_name,\n",
    "             DATE(TIMESTAMP_MILLIS(t1.client_time))                  AS event_dt_part,\n",
    "             TIMESTAMP_MILLIS(t1.client_time)                        AS client_time,\n",
    "             t1.city_id,\n",
    "             t2.city_name,\n",
    "             t2.country_id,\n",
    "             t2.country_name,\n",
    "             JSON_EXTRACT_SCALAR(payload, '$.verification_flow')     AS verification_flow,\n",
    "             IF(JSON_EXTRACT_SCALAR(payload, '$.verification_flow') IS NULL,\n",
    "                LAG(JSON_EXTRACT_SCALAR(payload, '$.verification_flow'))\n",
    "                    OVER (PARTITION BY t1.user_id ORDER BY client_time),\n",
    "                JSON_EXTRACT_SCALAR(payload, '$.verification_flow')) AS filled_flow,\n",
    "             JSON_EXTRACT_SCALAR(payload, '$.status')                AS status\n",
    "      FROM (SELECT *\n",
    "            FROM indriver-e6e40.emart.product_event t1\n",
    "            WHERE 1 = 1\n",
    "              AND name IN (\n",
    "                           'client.verification_start.show',\n",
    "                           'client.verification_start.click',\n",
    "                           'client.verification_flow_result_status.show'\n",
    "                )\n",
    "              AND event_dt_part BETWEEN '2025-05-20' AND '2025-05-22'\n",
    "            QUALIFY\n",
    "                ROW_NUMBER() OVER (PARTITION BY user_id, name, os_name, event_dt_part, JSON_EXTRACT_SCALAR(payload, '$.verification_flow') ORDER BY client_time DESC) =\n",
    "                1) t1\n",
    "               JOIN indriver-e6e40.heap.vw_macroregion_mapping t2\n",
    "                    ON\n",
    "                        t1.city_id = t2.city_id\n",
    "      WHERE 1 = 1\n",
    "        AND name IN (\n",
    "                     'client.verification_start.show', 'client.verification_start.click',\n",
    "                     'client.verification_flow_result_status.show'\n",
    "          )\n",
    "        AND t2.macroregion_name IN ('Latin America', 'Brazil'))\n",
    "GROUP BY 1, 2, 3, 4, 5, 6, 7\n",
    "\"\"\")\n",
    "\n",
    "df_check_errors.head()"
   ]
  },
  {
   "cell_type": "code",
   "execution_count": 47,
   "id": "57415bcc",
   "metadata": {},
   "outputs": [
    {
     "data": {
      "text/plain": [
       "array(['Brazil', 'Mexico', 'Dominican Republic', 'Chile', 'Colombia',\n",
       "       'Honduras', 'Jamaica', 'Argentina', 'Ecuador', 'Guatemala',\n",
       "       'Panama', 'Peru', 'Bolivia', 'El Salvador', 'Costa Rica'],\n",
       "      dtype=object)"
      ]
     },
     "execution_count": 47,
     "metadata": {},
     "output_type": "execute_result"
    }
   ],
   "source": [
    "df_check_errors['country_name'].unique()"
   ]
  },
  {
   "cell_type": "code",
   "execution_count": 44,
   "id": "312505e4",
   "metadata": {},
   "outputs": [],
   "source": [
    "df_check_errors['approve_flag'] = df_check_errors['approve_dt'].apply(lambda x: 0 if pd.isna(x) else 1)\n",
    "df_check_errors['not_approve_flag'] = df_check_errors['not_approve_dt'].apply(lambda x: 0 if pd.isna(x) else 1)"
   ]
  },
  {
   "cell_type": "code",
   "execution_count": 49,
   "id": "8bfdde4b",
   "metadata": {},
   "outputs": [
    {
     "data": {
      "application/vnd.plotly.v1+json": {
       "config": {
        "plotlyServerURL": "https://plot.ly"
       },
       "data": [
        {
         "hovertemplate": "os_name=ios<br>show_dt=%{x}<br>approve_flag=%{y}<extra></extra>",
         "legendgroup": "ios",
         "line": {
          "color": "#636efa",
          "dash": "solid"
         },
         "marker": {
          "symbol": "circle"
         },
         "mode": "lines",
         "name": "ios",
         "orientation": "v",
         "showlegend": true,
         "type": "scatter",
         "x": [
          "2024-12-25T18:30:00+00:00",
          "2025-03-18T18:00:00+00:00",
          "2025-04-11T03:30:00+00:00",
          "2025-04-17T18:00:00+00:00",
          "2025-04-17T20:30:00+00:00",
          "2025-04-20T15:30:00+00:00",
          "2025-04-21T21:00:00+00:00",
          "2025-04-23T15:00:00+00:00",
          "2025-04-25T11:30:00+00:00",
          "2025-04-26T20:30:00+00:00",
          "2025-04-28T16:00:00+00:00",
          "2025-04-29T01:30:00+00:00",
          "2025-04-30T21:00:00+00:00",
          "2025-05-01T02:30:00+00:00",
          "2025-05-04T21:30:00+00:00",
          "2025-05-05T08:30:00+00:00",
          "2025-05-05T20:00:00+00:00",
          "2025-05-05T20:30:00+00:00",
          "2025-05-08T05:00:00+00:00",
          "2025-05-08T16:30:00+00:00",
          "2025-05-10T11:00:00+00:00",
          "2025-05-10T18:30:00+00:00",
          "2025-05-10T20:00:00+00:00",
          "2025-05-10T21:30:00+00:00",
          "2025-05-11T03:00:00+00:00",
          "2025-05-11T06:00:00+00:00",
          "2025-05-11T10:00:00+00:00",
          "2025-05-12T11:00:00+00:00",
          "2025-05-13T14:30:00+00:00",
          "2025-05-13T20:30:00+00:00",
          "2025-05-14T00:30:00+00:00",
          "2025-05-14T02:30:00+00:00",
          "2025-05-14T05:00:00+00:00",
          "2025-05-14T07:30:00+00:00",
          "2025-05-14T09:30:00+00:00",
          "2025-05-14T18:00:00+00:00",
          "2025-05-14T20:30:00+00:00",
          "2025-05-15T00:30:00+00:00",
          "2025-05-15T17:30:00+00:00",
          "2025-05-15T21:00:00+00:00",
          "2025-05-15T21:30:00+00:00",
          "2025-05-16T00:30:00+00:00",
          "2025-05-16T09:30:00+00:00",
          "2025-05-16T11:00:00+00:00",
          "2025-05-16T11:30:00+00:00",
          "2025-05-16T16:00:00+00:00",
          "2025-05-16T16:30:00+00:00",
          "2025-05-16T18:30:00+00:00",
          "2025-05-16T21:00:00+00:00",
          "2025-05-16T23:00:00+00:00",
          "2025-05-17T00:00:00+00:00",
          "2025-05-17T05:30:00+00:00",
          "2025-05-17T12:30:00+00:00",
          "2025-05-17T21:00:00+00:00",
          "2025-05-17T22:00:00+00:00",
          "2025-05-17T22:30:00+00:00",
          "2025-05-18T01:30:00+00:00",
          "2025-05-18T03:30:00+00:00",
          "2025-05-18T04:00:00+00:00",
          "2025-05-18T06:00:00+00:00",
          "2025-05-18T10:30:00+00:00",
          "2025-05-18T11:00:00+00:00",
          "2025-05-18T11:30:00+00:00",
          "2025-05-18T14:00:00+00:00",
          "2025-05-18T16:30:00+00:00",
          "2025-05-18T20:00:00+00:00",
          "2025-05-18T22:00:00+00:00",
          "2025-05-18T23:00:00+00:00",
          "2025-05-19T00:00:00+00:00",
          "2025-05-19T00:30:00+00:00",
          "2025-05-19T02:30:00+00:00",
          "2025-05-19T07:30:00+00:00",
          "2025-05-19T10:00:00+00:00",
          "2025-05-19T11:30:00+00:00",
          "2025-05-19T15:30:00+00:00",
          "2025-05-19T18:30:00+00:00",
          "2025-05-19T20:00:00+00:00",
          "2025-05-19T20:30:00+00:00",
          "2025-05-19T21:00:00+00:00",
          "2025-05-20T00:00:00+00:00",
          "2025-05-20T00:30:00+00:00",
          "2025-05-20T01:00:00+00:00",
          "2025-05-20T01:30:00+00:00",
          "2025-05-20T02:00:00+00:00",
          "2025-05-20T02:30:00+00:00",
          "2025-05-20T03:00:00+00:00",
          "2025-05-20T03:30:00+00:00",
          "2025-05-20T04:00:00+00:00",
          "2025-05-20T04:30:00+00:00",
          "2025-05-20T05:00:00+00:00",
          "2025-05-20T05:30:00+00:00",
          "2025-05-20T06:00:00+00:00",
          "2025-05-20T06:30:00+00:00",
          "2025-05-20T07:00:00+00:00",
          "2025-05-20T07:30:00+00:00",
          "2025-05-20T08:00:00+00:00",
          "2025-05-20T08:30:00+00:00",
          "2025-05-20T09:00:00+00:00",
          "2025-05-20T09:30:00+00:00",
          "2025-05-20T10:00:00+00:00",
          "2025-05-20T10:30:00+00:00",
          "2025-05-20T11:00:00+00:00",
          "2025-05-20T11:30:00+00:00",
          "2025-05-20T12:00:00+00:00",
          "2025-05-20T12:30:00+00:00",
          "2025-05-20T13:00:00+00:00",
          "2025-05-20T13:30:00+00:00",
          "2025-05-20T14:00:00+00:00",
          "2025-05-20T14:30:00+00:00",
          "2025-05-20T15:00:00+00:00",
          "2025-05-20T15:30:00+00:00",
          "2025-05-20T16:00:00+00:00",
          "2025-05-20T16:30:00+00:00",
          "2025-05-20T17:00:00+00:00",
          "2025-05-20T17:30:00+00:00",
          "2025-05-20T18:00:00+00:00",
          "2025-05-20T18:30:00+00:00",
          "2025-05-20T19:00:00+00:00",
          "2025-05-20T19:30:00+00:00",
          "2025-05-20T20:00:00+00:00",
          "2025-05-20T20:30:00+00:00",
          "2025-05-20T21:00:00+00:00",
          "2025-05-20T21:30:00+00:00",
          "2025-05-20T22:00:00+00:00",
          "2025-05-20T22:30:00+00:00",
          "2025-05-20T23:00:00+00:00",
          "2025-05-20T23:30:00+00:00",
          "2025-05-21T00:00:00+00:00",
          "2025-05-21T00:30:00+00:00",
          "2025-05-21T01:00:00+00:00",
          "2025-05-21T01:30:00+00:00",
          "2025-05-21T02:00:00+00:00",
          "2025-05-21T02:30:00+00:00",
          "2025-05-21T03:00:00+00:00",
          "2025-05-21T03:30:00+00:00",
          "2025-05-21T04:00:00+00:00",
          "2025-05-21T04:30:00+00:00",
          "2025-05-21T05:00:00+00:00",
          "2025-05-21T05:30:00+00:00",
          "2025-05-21T06:00:00+00:00",
          "2025-05-21T06:30:00+00:00",
          "2025-05-21T07:00:00+00:00",
          "2025-05-21T07:30:00+00:00",
          "2025-05-21T08:00:00+00:00",
          "2025-05-21T08:30:00+00:00",
          "2025-05-21T09:00:00+00:00",
          "2025-05-21T09:30:00+00:00",
          "2025-05-21T10:00:00+00:00",
          "2025-05-21T10:30:00+00:00",
          "2025-05-21T11:00:00+00:00",
          "2025-05-21T11:30:00+00:00",
          "2025-05-21T12:00:00+00:00",
          "2025-05-21T12:30:00+00:00",
          "2025-05-21T13:00:00+00:00",
          "2025-05-21T13:30:00+00:00",
          "2025-05-21T14:00:00+00:00",
          "2025-05-21T14:30:00+00:00",
          "2025-05-21T15:00:00+00:00",
          "2025-05-21T15:30:00+00:00",
          "2025-05-21T16:00:00+00:00",
          "2025-05-21T16:30:00+00:00",
          "2025-05-21T17:00:00+00:00",
          "2025-05-21T17:30:00+00:00",
          "2025-05-21T18:00:00+00:00",
          "2025-05-21T18:30:00+00:00",
          "2025-05-21T19:00:00+00:00",
          "2025-05-21T19:30:00+00:00",
          "2025-05-21T20:00:00+00:00",
          "2025-05-21T20:30:00+00:00",
          "2025-05-21T21:00:00+00:00",
          "2025-05-21T21:30:00+00:00",
          "2025-05-21T22:00:00+00:00",
          "2025-05-21T22:30:00+00:00",
          "2025-05-21T23:00:00+00:00",
          "2025-05-21T23:30:00+00:00",
          "2025-05-22T00:00:00+00:00",
          "2025-05-22T00:30:00+00:00",
          "2025-05-22T01:00:00+00:00",
          "2025-05-22T01:30:00+00:00",
          "2025-05-22T02:00:00+00:00",
          "2025-05-22T02:30:00+00:00",
          "2025-05-22T03:00:00+00:00",
          "2025-05-22T03:30:00+00:00",
          "2025-05-22T04:00:00+00:00",
          "2025-05-22T04:30:00+00:00",
          "2025-05-22T05:00:00+00:00",
          "2025-05-22T05:30:00+00:00",
          "2025-05-22T06:00:00+00:00",
          "2025-05-22T06:30:00+00:00",
          "2025-05-22T07:00:00+00:00",
          "2025-05-22T07:30:00+00:00",
          "2025-05-22T08:00:00+00:00",
          "2025-05-22T08:30:00+00:00",
          "2025-05-22T09:00:00+00:00",
          "2025-05-22T09:30:00+00:00",
          "2025-05-22T10:00:00+00:00",
          "2025-05-22T10:30:00+00:00",
          "2025-05-22T11:00:00+00:00",
          "2025-05-22T11:30:00+00:00",
          "2025-05-22T12:00:00+00:00",
          "2025-05-22T12:30:00+00:00",
          "2025-05-22T13:00:00+00:00",
          "2025-05-22T13:30:00+00:00",
          "2025-05-22T14:00:00+00:00",
          "2025-05-22T14:30:00+00:00",
          "2025-05-22T15:00:00+00:00",
          "2025-05-22T15:30:00+00:00",
          "2025-05-22T16:00:00+00:00",
          "2025-05-22T16:30:00+00:00",
          "2025-05-22T17:00:00+00:00",
          "2025-05-22T17:30:00+00:00",
          "2025-05-22T18:00:00+00:00",
          "2025-05-22T18:30:00+00:00",
          "2025-05-22T19:00:00+00:00",
          "2025-05-22T19:30:00+00:00",
          "2025-05-22T20:00:00+00:00",
          "2025-05-22T20:30:00+00:00",
          "2025-05-22T21:00:00+00:00",
          "2025-05-22T21:30:00+00:00",
          "2025-05-22T22:00:00+00:00",
          "2025-05-22T22:30:00+00:00",
          "2025-05-22T23:00:00+00:00",
          "2025-05-22T23:30:00+00:00",
          "2025-05-23T00:00:00+00:00",
          "2025-05-23T02:00:00+00:00",
          "2025-05-23T03:30:00+00:00"
         ],
         "xaxis": "x",
         "y": [
          1,
          0,
          0,
          0,
          0,
          0,
          0,
          0,
          0,
          0,
          1,
          0,
          1,
          0,
          0,
          1,
          0,
          0,
          0,
          0,
          1,
          1,
          0,
          0,
          0,
          0,
          0,
          0,
          0,
          1,
          0,
          0,
          1,
          1,
          1,
          1,
          0,
          1,
          1,
          0,
          1,
          0,
          1,
          1,
          1,
          0,
          1,
          0,
          1,
          1,
          0,
          1,
          0,
          1,
          1,
          0,
          1,
          0,
          1,
          0,
          0,
          1,
          1,
          0,
          1,
          0,
          0,
          1,
          1,
          0,
          0,
          0,
          0,
          1,
          0,
          1,
          2,
          1,
          1,
          22,
          26,
          30,
          27,
          18,
          15,
          29,
          18,
          18,
          12,
          11,
          7,
          7,
          12,
          7,
          10,
          6,
          15,
          22,
          34,
          40,
          71,
          42,
          45,
          39,
          39,
          34,
          22,
          20,
          28,
          41,
          47,
          40,
          37,
          25,
          34,
          29,
          27,
          32,
          35,
          56,
          49,
          60,
          67,
          30,
          37,
          25,
          29,
          25,
          25,
          35,
          24,
          20,
          22,
          29,
          25,
          12,
          11,
          12,
          8,
          7,
          5,
          4,
          9,
          11,
          11,
          27,
          48,
          31,
          60,
          31,
          46,
          32,
          35,
          27,
          23,
          26,
          21,
          27,
          35,
          24,
          35,
          31,
          33,
          24,
          28,
          48,
          28,
          42,
          45,
          61,
          38,
          30,
          19,
          24,
          22,
          28,
          28,
          36,
          26,
          20,
          19,
          20,
          12,
          16,
          11,
          8,
          6,
          8,
          13,
          9,
          5,
          8,
          12,
          17,
          38,
          43,
          57,
          42,
          38,
          29,
          27,
          22,
          28,
          26,
          21,
          34,
          34,
          34,
          40,
          30,
          16,
          22,
          27,
          41,
          52,
          78,
          76,
          71,
          58,
          38,
          35,
          23,
          22,
          2,
          0,
          1
         ],
         "yaxis": "y"
        },
        {
         "hovertemplate": "os_name=android<br>show_dt=%{x}<br>approve_flag=%{y}<extra></extra>",
         "legendgroup": "android",
         "line": {
          "color": "#EF553B",
          "dash": "solid"
         },
         "marker": {
          "symbol": "circle"
         },
         "mode": "lines",
         "name": "android",
         "orientation": "v",
         "showlegend": true,
         "type": "scatter",
         "x": [
          "2025-02-16T10:30:00+00:00",
          "2025-04-29T22:30:00+00:00",
          "2025-05-13T21:00:00+00:00",
          "2025-05-15T15:30:00+00:00",
          "2025-05-16T15:30:00+00:00",
          "2025-05-16T21:00:00+00:00",
          "2025-05-16T22:00:00+00:00",
          "2025-05-17T19:00:00+00:00",
          "2025-05-18T00:00:00+00:00",
          "2025-05-18T18:30:00+00:00",
          "2025-05-18T23:30:00+00:00",
          "2025-05-19T00:30:00+00:00",
          "2025-05-19T02:30:00+00:00",
          "2025-05-19T09:30:00+00:00",
          "2025-05-19T10:00:00+00:00",
          "2025-05-19T11:30:00+00:00",
          "2025-05-19T12:00:00+00:00",
          "2025-05-19T12:30:00+00:00",
          "2025-05-19T15:30:00+00:00",
          "2025-05-19T16:00:00+00:00",
          "2025-05-19T17:00:00+00:00",
          "2025-05-19T17:30:00+00:00",
          "2025-05-19T19:00:00+00:00",
          "2025-05-19T20:00:00+00:00",
          "2025-05-19T20:30:00+00:00",
          "2025-05-19T21:00:00+00:00",
          "2025-05-19T22:00:00+00:00",
          "2025-05-20T00:00:00+00:00",
          "2025-05-20T00:30:00+00:00",
          "2025-05-20T01:00:00+00:00",
          "2025-05-20T01:30:00+00:00",
          "2025-05-20T02:00:00+00:00",
          "2025-05-20T02:30:00+00:00",
          "2025-05-20T03:00:00+00:00",
          "2025-05-20T03:30:00+00:00",
          "2025-05-20T04:00:00+00:00",
          "2025-05-20T04:30:00+00:00",
          "2025-05-20T05:00:00+00:00",
          "2025-05-20T05:30:00+00:00",
          "2025-05-20T06:00:00+00:00",
          "2025-05-20T06:30:00+00:00",
          "2025-05-20T07:00:00+00:00",
          "2025-05-20T07:30:00+00:00",
          "2025-05-20T08:00:00+00:00",
          "2025-05-20T08:30:00+00:00",
          "2025-05-20T09:00:00+00:00",
          "2025-05-20T09:30:00+00:00",
          "2025-05-20T10:00:00+00:00",
          "2025-05-20T10:30:00+00:00",
          "2025-05-20T11:00:00+00:00",
          "2025-05-20T11:30:00+00:00",
          "2025-05-20T12:00:00+00:00",
          "2025-05-20T12:30:00+00:00",
          "2025-05-20T13:00:00+00:00",
          "2025-05-20T13:30:00+00:00",
          "2025-05-20T14:00:00+00:00",
          "2025-05-20T14:30:00+00:00",
          "2025-05-20T15:00:00+00:00",
          "2025-05-20T15:30:00+00:00",
          "2025-05-20T16:00:00+00:00",
          "2025-05-20T16:30:00+00:00",
          "2025-05-20T17:00:00+00:00",
          "2025-05-20T17:30:00+00:00",
          "2025-05-20T18:00:00+00:00",
          "2025-05-20T18:30:00+00:00",
          "2025-05-20T19:00:00+00:00",
          "2025-05-20T19:30:00+00:00",
          "2025-05-20T20:00:00+00:00",
          "2025-05-20T20:30:00+00:00",
          "2025-05-20T21:00:00+00:00",
          "2025-05-20T21:30:00+00:00",
          "2025-05-20T22:00:00+00:00",
          "2025-05-20T22:30:00+00:00",
          "2025-05-20T23:00:00+00:00",
          "2025-05-20T23:30:00+00:00",
          "2025-05-21T00:00:00+00:00",
          "2025-05-21T00:30:00+00:00",
          "2025-05-21T01:00:00+00:00",
          "2025-05-21T01:30:00+00:00",
          "2025-05-21T02:00:00+00:00",
          "2025-05-21T02:30:00+00:00",
          "2025-05-21T03:00:00+00:00",
          "2025-05-21T03:30:00+00:00",
          "2025-05-21T04:00:00+00:00",
          "2025-05-21T04:30:00+00:00",
          "2025-05-21T05:00:00+00:00",
          "2025-05-21T05:30:00+00:00",
          "2025-05-21T06:00:00+00:00",
          "2025-05-21T06:30:00+00:00",
          "2025-05-21T07:00:00+00:00",
          "2025-05-21T07:30:00+00:00",
          "2025-05-21T08:00:00+00:00",
          "2025-05-21T08:30:00+00:00",
          "2025-05-21T09:00:00+00:00",
          "2025-05-21T09:30:00+00:00",
          "2025-05-21T10:00:00+00:00",
          "2025-05-21T10:30:00+00:00",
          "2025-05-21T11:00:00+00:00",
          "2025-05-21T11:30:00+00:00",
          "2025-05-21T12:00:00+00:00",
          "2025-05-21T12:30:00+00:00",
          "2025-05-21T13:00:00+00:00",
          "2025-05-21T13:30:00+00:00",
          "2025-05-21T14:00:00+00:00",
          "2025-05-21T14:30:00+00:00",
          "2025-05-21T15:00:00+00:00",
          "2025-05-21T15:30:00+00:00",
          "2025-05-21T16:00:00+00:00",
          "2025-05-21T16:30:00+00:00",
          "2025-05-21T17:00:00+00:00",
          "2025-05-21T17:30:00+00:00",
          "2025-05-21T18:00:00+00:00",
          "2025-05-21T18:30:00+00:00",
          "2025-05-21T19:00:00+00:00",
          "2025-05-21T19:30:00+00:00",
          "2025-05-21T20:00:00+00:00",
          "2025-05-21T20:30:00+00:00",
          "2025-05-21T21:00:00+00:00",
          "2025-05-21T21:30:00+00:00",
          "2025-05-21T22:00:00+00:00",
          "2025-05-21T22:30:00+00:00",
          "2025-05-21T23:00:00+00:00",
          "2025-05-21T23:30:00+00:00",
          "2025-05-22T00:00:00+00:00",
          "2025-05-22T00:30:00+00:00",
          "2025-05-22T01:00:00+00:00",
          "2025-05-22T01:30:00+00:00",
          "2025-05-22T02:00:00+00:00",
          "2025-05-22T02:30:00+00:00",
          "2025-05-22T03:00:00+00:00",
          "2025-05-22T03:30:00+00:00",
          "2025-05-22T04:00:00+00:00",
          "2025-05-22T04:30:00+00:00",
          "2025-05-22T05:00:00+00:00",
          "2025-05-22T05:30:00+00:00",
          "2025-05-22T06:00:00+00:00",
          "2025-05-22T06:30:00+00:00",
          "2025-05-22T07:00:00+00:00",
          "2025-05-22T07:30:00+00:00",
          "2025-05-22T08:00:00+00:00",
          "2025-05-22T08:30:00+00:00",
          "2025-05-22T09:00:00+00:00",
          "2025-05-22T09:30:00+00:00",
          "2025-05-22T10:00:00+00:00",
          "2025-05-22T10:30:00+00:00",
          "2025-05-22T11:00:00+00:00",
          "2025-05-22T11:30:00+00:00",
          "2025-05-22T12:00:00+00:00",
          "2025-05-22T12:30:00+00:00",
          "2025-05-22T13:00:00+00:00",
          "2025-05-22T13:30:00+00:00",
          "2025-05-22T14:00:00+00:00",
          "2025-05-22T14:30:00+00:00",
          "2025-05-22T15:00:00+00:00",
          "2025-05-22T15:30:00+00:00",
          "2025-05-22T16:00:00+00:00",
          "2025-05-22T16:30:00+00:00",
          "2025-05-22T17:00:00+00:00",
          "2025-05-22T17:30:00+00:00",
          "2025-05-22T18:00:00+00:00",
          "2025-05-22T18:30:00+00:00",
          "2025-05-22T19:00:00+00:00",
          "2025-05-22T19:30:00+00:00",
          "2025-05-22T20:00:00+00:00",
          "2025-05-22T20:30:00+00:00",
          "2025-05-22T21:00:00+00:00",
          "2025-05-22T21:30:00+00:00",
          "2025-05-22T22:00:00+00:00",
          "2025-05-22T22:30:00+00:00",
          "2025-05-22T23:00:00+00:00",
          "2025-05-22T23:30:00+00:00"
         ],
         "xaxis": "x",
         "y": [
          1,
          0,
          0,
          0,
          0,
          0,
          0,
          0,
          0,
          1,
          1,
          1,
          0,
          0,
          0,
          0,
          0,
          1,
          0,
          0,
          0,
          1,
          0,
          0,
          0,
          1,
          0,
          70,
          70,
          69,
          53,
          42,
          52,
          48,
          43,
          33,
          21,
          29,
          22,
          28,
          18,
          14,
          20,
          26,
          37,
          52,
          133,
          137,
          142,
          110,
          124,
          83,
          79,
          81,
          84,
          72,
          89,
          91,
          120,
          109,
          99,
          102,
          96,
          92,
          106,
          77,
          101,
          129,
          144,
          153,
          100,
          104,
          84,
          93,
          63,
          67,
          69,
          64,
          61,
          49,
          51,
          48,
          47,
          35,
          41,
          28,
          23,
          21,
          22,
          18,
          16,
          35,
          41,
          63,
          105,
          118,
          111,
          111,
          122,
          85,
          102,
          72,
          67,
          85,
          74,
          97,
          114,
          108,
          111,
          99,
          77,
          74,
          86,
          82,
          96,
          103,
          106,
          119,
          105,
          89,
          64,
          74,
          43,
          47,
          77,
          62,
          49,
          57,
          37,
          52,
          52,
          38,
          27,
          30,
          29,
          27,
          22,
          20,
          24,
          19,
          46,
          50,
          96,
          113,
          118,
          119,
          80,
          82,
          82,
          82,
          70,
          67,
          79,
          82,
          90,
          97,
          108,
          88,
          87,
          88,
          104,
          99,
          122,
          150,
          117,
          140,
          104,
          104,
          77,
          73,
          47
         ],
         "yaxis": "y"
        },
        {
         "hovertemplate": "os_name=ipados<br>show_dt=%{x}<br>approve_flag=%{y}<extra></extra>",
         "legendgroup": "ipados",
         "line": {
          "color": "#00cc96",
          "dash": "solid"
         },
         "marker": {
          "symbol": "circle"
         },
         "mode": "lines",
         "name": "ipados",
         "orientation": "v",
         "showlegend": true,
         "type": "scatter",
         "x": [
          "2025-05-22T15:00:00+00:00"
         ],
         "xaxis": "x",
         "y": [
          1
         ],
         "yaxis": "y"
        }
       ],
       "layout": {
        "legend": {
         "title": {
          "text": "os_name"
         },
         "tracegroupgap": 0
        },
        "shapes": [
         {
          "fillcolor": "lightgreen",
          "layer": "below",
          "line": {
           "width": 0
          },
          "opacity": 0.2,
          "type": "rect",
          "x0": "2025-05-22 00:00:00+00:00",
          "x1": "2025-05-23 00:00:00+00:00",
          "xref": "x",
          "y0": 0,
          "y1": 1,
          "yref": "y domain"
         }
        ],
        "template": {
         "data": {
          "bar": [
           {
            "error_x": {
             "color": "#2a3f5f"
            },
            "error_y": {
             "color": "#2a3f5f"
            },
            "marker": {
             "line": {
              "color": "#E5ECF6",
              "width": 0.5
             },
             "pattern": {
              "fillmode": "overlay",
              "size": 10,
              "solidity": 0.2
             }
            },
            "type": "bar"
           }
          ],
          "barpolar": [
           {
            "marker": {
             "line": {
              "color": "#E5ECF6",
              "width": 0.5
             },
             "pattern": {
              "fillmode": "overlay",
              "size": 10,
              "solidity": 0.2
             }
            },
            "type": "barpolar"
           }
          ],
          "carpet": [
           {
            "aaxis": {
             "endlinecolor": "#2a3f5f",
             "gridcolor": "white",
             "linecolor": "white",
             "minorgridcolor": "white",
             "startlinecolor": "#2a3f5f"
            },
            "baxis": {
             "endlinecolor": "#2a3f5f",
             "gridcolor": "white",
             "linecolor": "white",
             "minorgridcolor": "white",
             "startlinecolor": "#2a3f5f"
            },
            "type": "carpet"
           }
          ],
          "choropleth": [
           {
            "colorbar": {
             "outlinewidth": 0,
             "ticks": ""
            },
            "type": "choropleth"
           }
          ],
          "contour": [
           {
            "colorbar": {
             "outlinewidth": 0,
             "ticks": ""
            },
            "colorscale": [
             [
              0,
              "#0d0887"
             ],
             [
              0.1111111111111111,
              "#46039f"
             ],
             [
              0.2222222222222222,
              "#7201a8"
             ],
             [
              0.3333333333333333,
              "#9c179e"
             ],
             [
              0.4444444444444444,
              "#bd3786"
             ],
             [
              0.5555555555555556,
              "#d8576b"
             ],
             [
              0.6666666666666666,
              "#ed7953"
             ],
             [
              0.7777777777777778,
              "#fb9f3a"
             ],
             [
              0.8888888888888888,
              "#fdca26"
             ],
             [
              1,
              "#f0f921"
             ]
            ],
            "type": "contour"
           }
          ],
          "contourcarpet": [
           {
            "colorbar": {
             "outlinewidth": 0,
             "ticks": ""
            },
            "type": "contourcarpet"
           }
          ],
          "heatmap": [
           {
            "colorbar": {
             "outlinewidth": 0,
             "ticks": ""
            },
            "colorscale": [
             [
              0,
              "#0d0887"
             ],
             [
              0.1111111111111111,
              "#46039f"
             ],
             [
              0.2222222222222222,
              "#7201a8"
             ],
             [
              0.3333333333333333,
              "#9c179e"
             ],
             [
              0.4444444444444444,
              "#bd3786"
             ],
             [
              0.5555555555555556,
              "#d8576b"
             ],
             [
              0.6666666666666666,
              "#ed7953"
             ],
             [
              0.7777777777777778,
              "#fb9f3a"
             ],
             [
              0.8888888888888888,
              "#fdca26"
             ],
             [
              1,
              "#f0f921"
             ]
            ],
            "type": "heatmap"
           }
          ],
          "heatmapgl": [
           {
            "colorbar": {
             "outlinewidth": 0,
             "ticks": ""
            },
            "colorscale": [
             [
              0,
              "#0d0887"
             ],
             [
              0.1111111111111111,
              "#46039f"
             ],
             [
              0.2222222222222222,
              "#7201a8"
             ],
             [
              0.3333333333333333,
              "#9c179e"
             ],
             [
              0.4444444444444444,
              "#bd3786"
             ],
             [
              0.5555555555555556,
              "#d8576b"
             ],
             [
              0.6666666666666666,
              "#ed7953"
             ],
             [
              0.7777777777777778,
              "#fb9f3a"
             ],
             [
              0.8888888888888888,
              "#fdca26"
             ],
             [
              1,
              "#f0f921"
             ]
            ],
            "type": "heatmapgl"
           }
          ],
          "histogram": [
           {
            "marker": {
             "pattern": {
              "fillmode": "overlay",
              "size": 10,
              "solidity": 0.2
             }
            },
            "type": "histogram"
           }
          ],
          "histogram2d": [
           {
            "colorbar": {
             "outlinewidth": 0,
             "ticks": ""
            },
            "colorscale": [
             [
              0,
              "#0d0887"
             ],
             [
              0.1111111111111111,
              "#46039f"
             ],
             [
              0.2222222222222222,
              "#7201a8"
             ],
             [
              0.3333333333333333,
              "#9c179e"
             ],
             [
              0.4444444444444444,
              "#bd3786"
             ],
             [
              0.5555555555555556,
              "#d8576b"
             ],
             [
              0.6666666666666666,
              "#ed7953"
             ],
             [
              0.7777777777777778,
              "#fb9f3a"
             ],
             [
              0.8888888888888888,
              "#fdca26"
             ],
             [
              1,
              "#f0f921"
             ]
            ],
            "type": "histogram2d"
           }
          ],
          "histogram2dcontour": [
           {
            "colorbar": {
             "outlinewidth": 0,
             "ticks": ""
            },
            "colorscale": [
             [
              0,
              "#0d0887"
             ],
             [
              0.1111111111111111,
              "#46039f"
             ],
             [
              0.2222222222222222,
              "#7201a8"
             ],
             [
              0.3333333333333333,
              "#9c179e"
             ],
             [
              0.4444444444444444,
              "#bd3786"
             ],
             [
              0.5555555555555556,
              "#d8576b"
             ],
             [
              0.6666666666666666,
              "#ed7953"
             ],
             [
              0.7777777777777778,
              "#fb9f3a"
             ],
             [
              0.8888888888888888,
              "#fdca26"
             ],
             [
              1,
              "#f0f921"
             ]
            ],
            "type": "histogram2dcontour"
           }
          ],
          "mesh3d": [
           {
            "colorbar": {
             "outlinewidth": 0,
             "ticks": ""
            },
            "type": "mesh3d"
           }
          ],
          "parcoords": [
           {
            "line": {
             "colorbar": {
              "outlinewidth": 0,
              "ticks": ""
             }
            },
            "type": "parcoords"
           }
          ],
          "pie": [
           {
            "automargin": true,
            "type": "pie"
           }
          ],
          "scatter": [
           {
            "fillpattern": {
             "fillmode": "overlay",
             "size": 10,
             "solidity": 0.2
            },
            "type": "scatter"
           }
          ],
          "scatter3d": [
           {
            "line": {
             "colorbar": {
              "outlinewidth": 0,
              "ticks": ""
             }
            },
            "marker": {
             "colorbar": {
              "outlinewidth": 0,
              "ticks": ""
             }
            },
            "type": "scatter3d"
           }
          ],
          "scattercarpet": [
           {
            "marker": {
             "colorbar": {
              "outlinewidth": 0,
              "ticks": ""
             }
            },
            "type": "scattercarpet"
           }
          ],
          "scattergeo": [
           {
            "marker": {
             "colorbar": {
              "outlinewidth": 0,
              "ticks": ""
             }
            },
            "type": "scattergeo"
           }
          ],
          "scattergl": [
           {
            "marker": {
             "colorbar": {
              "outlinewidth": 0,
              "ticks": ""
             }
            },
            "type": "scattergl"
           }
          ],
          "scattermapbox": [
           {
            "marker": {
             "colorbar": {
              "outlinewidth": 0,
              "ticks": ""
             }
            },
            "type": "scattermapbox"
           }
          ],
          "scatterpolar": [
           {
            "marker": {
             "colorbar": {
              "outlinewidth": 0,
              "ticks": ""
             }
            },
            "type": "scatterpolar"
           }
          ],
          "scatterpolargl": [
           {
            "marker": {
             "colorbar": {
              "outlinewidth": 0,
              "ticks": ""
             }
            },
            "type": "scatterpolargl"
           }
          ],
          "scatterternary": [
           {
            "marker": {
             "colorbar": {
              "outlinewidth": 0,
              "ticks": ""
             }
            },
            "type": "scatterternary"
           }
          ],
          "surface": [
           {
            "colorbar": {
             "outlinewidth": 0,
             "ticks": ""
            },
            "colorscale": [
             [
              0,
              "#0d0887"
             ],
             [
              0.1111111111111111,
              "#46039f"
             ],
             [
              0.2222222222222222,
              "#7201a8"
             ],
             [
              0.3333333333333333,
              "#9c179e"
             ],
             [
              0.4444444444444444,
              "#bd3786"
             ],
             [
              0.5555555555555556,
              "#d8576b"
             ],
             [
              0.6666666666666666,
              "#ed7953"
             ],
             [
              0.7777777777777778,
              "#fb9f3a"
             ],
             [
              0.8888888888888888,
              "#fdca26"
             ],
             [
              1,
              "#f0f921"
             ]
            ],
            "type": "surface"
           }
          ],
          "table": [
           {
            "cells": {
             "fill": {
              "color": "#EBF0F8"
             },
             "line": {
              "color": "white"
             }
            },
            "header": {
             "fill": {
              "color": "#C8D4E3"
             },
             "line": {
              "color": "white"
             }
            },
            "type": "table"
           }
          ]
         },
         "layout": {
          "annotationdefaults": {
           "arrowcolor": "#2a3f5f",
           "arrowhead": 0,
           "arrowwidth": 1
          },
          "autotypenumbers": "strict",
          "coloraxis": {
           "colorbar": {
            "outlinewidth": 0,
            "ticks": ""
           }
          },
          "colorscale": {
           "diverging": [
            [
             0,
             "#8e0152"
            ],
            [
             0.1,
             "#c51b7d"
            ],
            [
             0.2,
             "#de77ae"
            ],
            [
             0.3,
             "#f1b6da"
            ],
            [
             0.4,
             "#fde0ef"
            ],
            [
             0.5,
             "#f7f7f7"
            ],
            [
             0.6,
             "#e6f5d0"
            ],
            [
             0.7,
             "#b8e186"
            ],
            [
             0.8,
             "#7fbc41"
            ],
            [
             0.9,
             "#4d9221"
            ],
            [
             1,
             "#276419"
            ]
           ],
           "sequential": [
            [
             0,
             "#0d0887"
            ],
            [
             0.1111111111111111,
             "#46039f"
            ],
            [
             0.2222222222222222,
             "#7201a8"
            ],
            [
             0.3333333333333333,
             "#9c179e"
            ],
            [
             0.4444444444444444,
             "#bd3786"
            ],
            [
             0.5555555555555556,
             "#d8576b"
            ],
            [
             0.6666666666666666,
             "#ed7953"
            ],
            [
             0.7777777777777778,
             "#fb9f3a"
            ],
            [
             0.8888888888888888,
             "#fdca26"
            ],
            [
             1,
             "#f0f921"
            ]
           ],
           "sequentialminus": [
            [
             0,
             "#0d0887"
            ],
            [
             0.1111111111111111,
             "#46039f"
            ],
            [
             0.2222222222222222,
             "#7201a8"
            ],
            [
             0.3333333333333333,
             "#9c179e"
            ],
            [
             0.4444444444444444,
             "#bd3786"
            ],
            [
             0.5555555555555556,
             "#d8576b"
            ],
            [
             0.6666666666666666,
             "#ed7953"
            ],
            [
             0.7777777777777778,
             "#fb9f3a"
            ],
            [
             0.8888888888888888,
             "#fdca26"
            ],
            [
             1,
             "#f0f921"
            ]
           ]
          },
          "colorway": [
           "#636efa",
           "#EF553B",
           "#00cc96",
           "#ab63fa",
           "#FFA15A",
           "#19d3f3",
           "#FF6692",
           "#B6E880",
           "#FF97FF",
           "#FECB52"
          ],
          "font": {
           "color": "#2a3f5f"
          },
          "geo": {
           "bgcolor": "white",
           "lakecolor": "white",
           "landcolor": "#E5ECF6",
           "showlakes": true,
           "showland": true,
           "subunitcolor": "white"
          },
          "hoverlabel": {
           "align": "left"
          },
          "hovermode": "closest",
          "mapbox": {
           "style": "light"
          },
          "paper_bgcolor": "white",
          "plot_bgcolor": "#E5ECF6",
          "polar": {
           "angularaxis": {
            "gridcolor": "white",
            "linecolor": "white",
            "ticks": ""
           },
           "bgcolor": "#E5ECF6",
           "radialaxis": {
            "gridcolor": "white",
            "linecolor": "white",
            "ticks": ""
           }
          },
          "scene": {
           "xaxis": {
            "backgroundcolor": "#E5ECF6",
            "gridcolor": "white",
            "gridwidth": 2,
            "linecolor": "white",
            "showbackground": true,
            "ticks": "",
            "zerolinecolor": "white"
           },
           "yaxis": {
            "backgroundcolor": "#E5ECF6",
            "gridcolor": "white",
            "gridwidth": 2,
            "linecolor": "white",
            "showbackground": true,
            "ticks": "",
            "zerolinecolor": "white"
           },
           "zaxis": {
            "backgroundcolor": "#E5ECF6",
            "gridcolor": "white",
            "gridwidth": 2,
            "linecolor": "white",
            "showbackground": true,
            "ticks": "",
            "zerolinecolor": "white"
           }
          },
          "shapedefaults": {
           "line": {
            "color": "#2a3f5f"
           }
          },
          "ternary": {
           "aaxis": {
            "gridcolor": "white",
            "linecolor": "white",
            "ticks": ""
           },
           "baxis": {
            "gridcolor": "white",
            "linecolor": "white",
            "ticks": ""
           },
           "bgcolor": "#E5ECF6",
           "caxis": {
            "gridcolor": "white",
            "linecolor": "white",
            "ticks": ""
           }
          },
          "title": {
           "x": 0.05
          },
          "xaxis": {
           "automargin": true,
           "gridcolor": "white",
           "linecolor": "white",
           "ticks": "",
           "title": {
            "standoff": 15
           },
           "zerolinecolor": "white",
           "zerolinewidth": 2
          },
          "yaxis": {
           "automargin": true,
           "gridcolor": "white",
           "linecolor": "white",
           "ticks": "",
           "title": {
            "standoff": 15
           },
           "zerolinecolor": "white",
           "zerolinewidth": 2
          }
         }
        },
        "title": {
         "text": "Brazil"
        },
        "xaxis": {
         "anchor": "y",
         "domain": [
          0,
          1
         ],
         "title": {
          "text": "show_dt"
         }
        },
        "yaxis": {
         "anchor": "x",
         "domain": [
          0,
          1
         ],
         "title": {
          "text": "approve_flag"
         }
        }
       }
      }
     },
     "metadata": {},
     "output_type": "display_data"
    },
    {
     "data": {
      "application/vnd.plotly.v1+json": {
       "config": {
        "plotlyServerURL": "https://plot.ly"
       },
       "data": [
        {
         "hovertemplate": "os_name=ios<br>show_dt=%{x}<br>approve_flag=%{y}<extra></extra>",
         "legendgroup": "ios",
         "line": {
          "color": "#636efa",
          "dash": "solid"
         },
         "marker": {
          "symbol": "circle"
         },
         "mode": "lines",
         "name": "ios",
         "orientation": "v",
         "showlegend": true,
         "type": "scatter",
         "x": [
          "2025-01-28T20:30:00+00:00",
          "2025-02-16T21:30:00+00:00",
          "2025-02-22T22:00:00+00:00",
          "2025-03-07T02:00:00+00:00",
          "2025-04-12T04:30:00+00:00",
          "2025-04-15T01:30:00+00:00",
          "2025-04-20T23:00:00+00:00",
          "2025-04-26T14:00:00+00:00",
          "2025-05-02T22:30:00+00:00",
          "2025-05-03T03:00:00+00:00",
          "2025-05-03T23:30:00+00:00",
          "2025-05-05T16:30:00+00:00",
          "2025-05-06T20:30:00+00:00",
          "2025-05-07T14:30:00+00:00",
          "2025-05-07T15:00:00+00:00",
          "2025-05-09T01:00:00+00:00",
          "2025-05-10T04:30:00+00:00",
          "2025-05-10T11:30:00+00:00",
          "2025-05-10T15:30:00+00:00",
          "2025-05-10T23:30:00+00:00",
          "2025-05-11T17:00:00+00:00",
          "2025-05-12T01:00:00+00:00",
          "2025-05-12T06:00:00+00:00",
          "2025-05-12T12:00:00+00:00",
          "2025-05-12T18:30:00+00:00",
          "2025-05-13T00:00:00+00:00",
          "2025-05-14T11:30:00+00:00",
          "2025-05-14T14:00:00+00:00",
          "2025-05-14T20:00:00+00:00",
          "2025-05-14T20:30:00+00:00",
          "2025-05-15T03:30:00+00:00",
          "2025-05-15T14:00:00+00:00",
          "2025-05-15T22:00:00+00:00",
          "2025-05-16T19:30:00+00:00",
          "2025-05-16T20:30:00+00:00",
          "2025-05-16T22:30:00+00:00",
          "2025-05-17T00:00:00+00:00",
          "2025-05-17T07:00:00+00:00",
          "2025-05-17T08:00:00+00:00",
          "2025-05-17T10:30:00+00:00",
          "2025-05-17T12:00:00+00:00",
          "2025-05-17T15:30:00+00:00",
          "2025-05-17T18:00:00+00:00",
          "2025-05-18T02:30:00+00:00",
          "2025-05-18T04:30:00+00:00",
          "2025-05-18T07:00:00+00:00",
          "2025-05-18T19:30:00+00:00",
          "2025-05-18T22:30:00+00:00",
          "2025-05-18T23:00:00+00:00",
          "2025-05-19T01:30:00+00:00",
          "2025-05-19T04:00:00+00:00",
          "2025-05-19T04:30:00+00:00",
          "2025-05-19T05:00:00+00:00",
          "2025-05-19T11:30:00+00:00",
          "2025-05-19T13:00:00+00:00",
          "2025-05-19T13:30:00+00:00",
          "2025-05-19T14:00:00+00:00",
          "2025-05-19T14:30:00+00:00",
          "2025-05-19T15:30:00+00:00",
          "2025-05-19T17:00:00+00:00",
          "2025-05-19T19:00:00+00:00",
          "2025-05-19T19:30:00+00:00",
          "2025-05-19T20:30:00+00:00",
          "2025-05-19T21:30:00+00:00",
          "2025-05-19T22:00:00+00:00",
          "2025-05-19T23:00:00+00:00",
          "2025-05-19T23:30:00+00:00",
          "2025-05-20T00:00:00+00:00",
          "2025-05-20T00:30:00+00:00",
          "2025-05-20T01:00:00+00:00",
          "2025-05-20T01:30:00+00:00",
          "2025-05-20T02:00:00+00:00",
          "2025-05-20T02:30:00+00:00",
          "2025-05-20T03:00:00+00:00",
          "2025-05-20T03:30:00+00:00",
          "2025-05-20T04:00:00+00:00",
          "2025-05-20T04:30:00+00:00",
          "2025-05-20T05:00:00+00:00",
          "2025-05-20T05:30:00+00:00",
          "2025-05-20T06:00:00+00:00",
          "2025-05-20T06:30:00+00:00",
          "2025-05-20T07:00:00+00:00",
          "2025-05-20T07:30:00+00:00",
          "2025-05-20T08:00:00+00:00",
          "2025-05-20T08:30:00+00:00",
          "2025-05-20T09:00:00+00:00",
          "2025-05-20T09:30:00+00:00",
          "2025-05-20T10:00:00+00:00",
          "2025-05-20T10:30:00+00:00",
          "2025-05-20T11:00:00+00:00",
          "2025-05-20T11:30:00+00:00",
          "2025-05-20T12:00:00+00:00",
          "2025-05-20T12:30:00+00:00",
          "2025-05-20T13:00:00+00:00",
          "2025-05-20T13:30:00+00:00",
          "2025-05-20T14:00:00+00:00",
          "2025-05-20T14:30:00+00:00",
          "2025-05-20T15:00:00+00:00",
          "2025-05-20T15:30:00+00:00",
          "2025-05-20T16:00:00+00:00",
          "2025-05-20T16:30:00+00:00",
          "2025-05-20T17:00:00+00:00",
          "2025-05-20T17:30:00+00:00",
          "2025-05-20T18:00:00+00:00",
          "2025-05-20T18:30:00+00:00",
          "2025-05-20T19:00:00+00:00",
          "2025-05-20T19:30:00+00:00",
          "2025-05-20T20:00:00+00:00",
          "2025-05-20T20:30:00+00:00",
          "2025-05-20T21:00:00+00:00",
          "2025-05-20T21:30:00+00:00",
          "2025-05-20T22:00:00+00:00",
          "2025-05-20T22:30:00+00:00",
          "2025-05-20T23:00:00+00:00",
          "2025-05-20T23:30:00+00:00",
          "2025-05-21T00:00:00+00:00",
          "2025-05-21T00:30:00+00:00",
          "2025-05-21T01:00:00+00:00",
          "2025-05-21T01:30:00+00:00",
          "2025-05-21T02:00:00+00:00",
          "2025-05-21T02:30:00+00:00",
          "2025-05-21T03:00:00+00:00",
          "2025-05-21T03:30:00+00:00",
          "2025-05-21T04:00:00+00:00",
          "2025-05-21T04:30:00+00:00",
          "2025-05-21T05:00:00+00:00",
          "2025-05-21T05:30:00+00:00",
          "2025-05-21T06:00:00+00:00",
          "2025-05-21T06:30:00+00:00",
          "2025-05-21T07:00:00+00:00",
          "2025-05-21T07:30:00+00:00",
          "2025-05-21T08:00:00+00:00",
          "2025-05-21T08:30:00+00:00",
          "2025-05-21T09:00:00+00:00",
          "2025-05-21T09:30:00+00:00",
          "2025-05-21T10:00:00+00:00",
          "2025-05-21T10:30:00+00:00",
          "2025-05-21T11:00:00+00:00",
          "2025-05-21T11:30:00+00:00",
          "2025-05-21T12:00:00+00:00",
          "2025-05-21T12:30:00+00:00",
          "2025-05-21T13:00:00+00:00",
          "2025-05-21T13:30:00+00:00",
          "2025-05-21T14:00:00+00:00",
          "2025-05-21T14:30:00+00:00",
          "2025-05-21T15:00:00+00:00",
          "2025-05-21T15:30:00+00:00",
          "2025-05-21T16:00:00+00:00",
          "2025-05-21T16:30:00+00:00",
          "2025-05-21T17:00:00+00:00",
          "2025-05-21T17:30:00+00:00",
          "2025-05-21T18:00:00+00:00",
          "2025-05-21T18:30:00+00:00",
          "2025-05-21T19:00:00+00:00",
          "2025-05-21T19:30:00+00:00",
          "2025-05-21T20:00:00+00:00",
          "2025-05-21T20:30:00+00:00",
          "2025-05-21T21:00:00+00:00",
          "2025-05-21T21:30:00+00:00",
          "2025-05-21T22:00:00+00:00",
          "2025-05-21T22:30:00+00:00",
          "2025-05-21T23:00:00+00:00",
          "2025-05-21T23:30:00+00:00",
          "2025-05-22T00:00:00+00:00",
          "2025-05-22T00:30:00+00:00",
          "2025-05-22T01:00:00+00:00",
          "2025-05-22T01:30:00+00:00",
          "2025-05-22T02:00:00+00:00",
          "2025-05-22T02:30:00+00:00",
          "2025-05-22T03:00:00+00:00",
          "2025-05-22T03:30:00+00:00",
          "2025-05-22T04:00:00+00:00",
          "2025-05-22T04:30:00+00:00",
          "2025-05-22T05:00:00+00:00",
          "2025-05-22T05:30:00+00:00",
          "2025-05-22T06:00:00+00:00",
          "2025-05-22T06:30:00+00:00",
          "2025-05-22T07:00:00+00:00",
          "2025-05-22T07:30:00+00:00",
          "2025-05-22T08:00:00+00:00",
          "2025-05-22T08:30:00+00:00",
          "2025-05-22T09:00:00+00:00",
          "2025-05-22T09:30:00+00:00",
          "2025-05-22T10:00:00+00:00",
          "2025-05-22T10:30:00+00:00",
          "2025-05-22T11:00:00+00:00",
          "2025-05-22T11:30:00+00:00",
          "2025-05-22T12:00:00+00:00",
          "2025-05-22T12:30:00+00:00",
          "2025-05-22T13:00:00+00:00",
          "2025-05-22T13:30:00+00:00",
          "2025-05-22T14:00:00+00:00",
          "2025-05-22T14:30:00+00:00",
          "2025-05-22T15:00:00+00:00",
          "2025-05-22T15:30:00+00:00",
          "2025-05-22T16:00:00+00:00",
          "2025-05-22T16:30:00+00:00",
          "2025-05-22T17:00:00+00:00",
          "2025-05-22T17:30:00+00:00",
          "2025-05-22T18:00:00+00:00",
          "2025-05-22T18:30:00+00:00",
          "2025-05-22T19:00:00+00:00",
          "2025-05-22T19:30:00+00:00",
          "2025-05-22T20:00:00+00:00",
          "2025-05-22T20:30:00+00:00",
          "2025-05-22T21:00:00+00:00",
          "2025-05-22T21:30:00+00:00",
          "2025-05-22T22:00:00+00:00",
          "2025-05-22T22:30:00+00:00",
          "2025-05-22T23:00:00+00:00",
          "2025-05-22T23:30:00+00:00"
         ],
         "xaxis": "x",
         "y": [
          0,
          0,
          0,
          0,
          0,
          0,
          0,
          0,
          1,
          0,
          0,
          0,
          1,
          1,
          0,
          1,
          0,
          0,
          0,
          0,
          1,
          0,
          0,
          1,
          0,
          0,
          1,
          1,
          0,
          0,
          1,
          0,
          1,
          0,
          0,
          1,
          1,
          0,
          1,
          0,
          0,
          0,
          0,
          0,
          1,
          0,
          1,
          0,
          0,
          1,
          0,
          1,
          0,
          1,
          0,
          1,
          1,
          1,
          1,
          1,
          1,
          1,
          1,
          1,
          0,
          1,
          3,
          40,
          58,
          46,
          42,
          29,
          27,
          37,
          29,
          27,
          26,
          26,
          19,
          20,
          14,
          12,
          10,
          7,
          9,
          3,
          2,
          4,
          8,
          6,
          9,
          22,
          40,
          33,
          44,
          33,
          47,
          32,
          35,
          31,
          23,
          36,
          31,
          33,
          40,
          47,
          51,
          52,
          45,
          42,
          32,
          37,
          34,
          44,
          40,
          40,
          31,
          45,
          36,
          29,
          21,
          32,
          32,
          32,
          30,
          23,
          14,
          25,
          17,
          11,
          8,
          5,
          4,
          8,
          11,
          10,
          8,
          12,
          13,
          20,
          49,
          30,
          39,
          23,
          45,
          30,
          28,
          27,
          29,
          18,
          23,
          25,
          35,
          57,
          57,
          41,
          45,
          41,
          32,
          37,
          33,
          51,
          40,
          65,
          63,
          38,
          33,
          36,
          23,
          34,
          25,
          29,
          30,
          24,
          22,
          20,
          13,
          7,
          14,
          14,
          10,
          6,
          6,
          10,
          11,
          16,
          7,
          27,
          49,
          30,
          44,
          31,
          46,
          31,
          40,
          35,
          38,
          26,
          22,
          25,
          45,
          57,
          40,
          49,
          55,
          55,
          50,
          47,
          41,
          63,
          47
         ],
         "yaxis": "y"
        },
        {
         "hovertemplate": "os_name=android<br>show_dt=%{x}<br>approve_flag=%{y}<extra></extra>",
         "legendgroup": "android",
         "line": {
          "color": "#EF553B",
          "dash": "solid"
         },
         "marker": {
          "symbol": "circle"
         },
         "mode": "lines",
         "name": "android",
         "orientation": "v",
         "showlegend": true,
         "type": "scatter",
         "x": [
          "2025-03-19T23:30:00+00:00",
          "2025-05-15T02:00:00+00:00",
          "2025-05-15T18:30:00+00:00",
          "2025-05-16T00:30:00+00:00",
          "2025-05-16T01:30:00+00:00",
          "2025-05-16T12:30:00+00:00",
          "2025-05-16T17:30:00+00:00",
          "2025-05-16T20:00:00+00:00",
          "2025-05-16T23:30:00+00:00",
          "2025-05-17T02:00:00+00:00",
          "2025-05-17T04:00:00+00:00",
          "2025-05-17T05:30:00+00:00",
          "2025-05-17T11:30:00+00:00",
          "2025-05-17T15:30:00+00:00",
          "2025-05-17T16:30:00+00:00",
          "2025-05-17T18:30:00+00:00",
          "2025-05-17T19:00:00+00:00",
          "2025-05-17T19:30:00+00:00",
          "2025-05-17T20:30:00+00:00",
          "2025-05-17T21:00:00+00:00",
          "2025-05-18T01:30:00+00:00",
          "2025-05-18T03:00:00+00:00",
          "2025-05-18T04:00:00+00:00",
          "2025-05-18T07:00:00+00:00",
          "2025-05-18T08:00:00+00:00",
          "2025-05-18T16:00:00+00:00",
          "2025-05-18T17:30:00+00:00",
          "2025-05-18T21:30:00+00:00",
          "2025-05-19T00:30:00+00:00",
          "2025-05-19T01:30:00+00:00",
          "2025-05-19T02:00:00+00:00",
          "2025-05-19T03:30:00+00:00",
          "2025-05-19T04:00:00+00:00",
          "2025-05-19T05:00:00+00:00",
          "2025-05-19T06:30:00+00:00",
          "2025-05-19T08:30:00+00:00",
          "2025-05-19T10:00:00+00:00",
          "2025-05-19T13:30:00+00:00",
          "2025-05-19T14:30:00+00:00",
          "2025-05-19T16:00:00+00:00",
          "2025-05-19T17:00:00+00:00",
          "2025-05-19T17:30:00+00:00",
          "2025-05-19T18:00:00+00:00",
          "2025-05-19T18:30:00+00:00",
          "2025-05-19T19:30:00+00:00",
          "2025-05-19T20:00:00+00:00",
          "2025-05-19T20:30:00+00:00",
          "2025-05-19T21:00:00+00:00",
          "2025-05-19T21:30:00+00:00",
          "2025-05-19T22:00:00+00:00",
          "2025-05-19T22:30:00+00:00",
          "2025-05-19T23:00:00+00:00",
          "2025-05-19T23:30:00+00:00",
          "2025-05-20T00:00:00+00:00",
          "2025-05-20T00:30:00+00:00",
          "2025-05-20T01:00:00+00:00",
          "2025-05-20T01:30:00+00:00",
          "2025-05-20T02:00:00+00:00",
          "2025-05-20T02:30:00+00:00",
          "2025-05-20T03:00:00+00:00",
          "2025-05-20T03:30:00+00:00",
          "2025-05-20T04:00:00+00:00",
          "2025-05-20T04:30:00+00:00",
          "2025-05-20T05:00:00+00:00",
          "2025-05-20T05:30:00+00:00",
          "2025-05-20T06:00:00+00:00",
          "2025-05-20T06:30:00+00:00",
          "2025-05-20T07:00:00+00:00",
          "2025-05-20T07:30:00+00:00",
          "2025-05-20T08:00:00+00:00",
          "2025-05-20T08:30:00+00:00",
          "2025-05-20T09:00:00+00:00",
          "2025-05-20T09:30:00+00:00",
          "2025-05-20T10:00:00+00:00",
          "2025-05-20T10:30:00+00:00",
          "2025-05-20T11:00:00+00:00",
          "2025-05-20T11:30:00+00:00",
          "2025-05-20T12:00:00+00:00",
          "2025-05-20T12:30:00+00:00",
          "2025-05-20T13:00:00+00:00",
          "2025-05-20T13:30:00+00:00",
          "2025-05-20T14:00:00+00:00",
          "2025-05-20T14:30:00+00:00",
          "2025-05-20T15:00:00+00:00",
          "2025-05-20T15:30:00+00:00",
          "2025-05-20T16:00:00+00:00",
          "2025-05-20T16:30:00+00:00",
          "2025-05-20T17:00:00+00:00",
          "2025-05-20T17:30:00+00:00",
          "2025-05-20T18:00:00+00:00",
          "2025-05-20T18:30:00+00:00",
          "2025-05-20T19:00:00+00:00",
          "2025-05-20T19:30:00+00:00",
          "2025-05-20T20:00:00+00:00",
          "2025-05-20T20:30:00+00:00",
          "2025-05-20T21:00:00+00:00",
          "2025-05-20T21:30:00+00:00",
          "2025-05-20T22:00:00+00:00",
          "2025-05-20T22:30:00+00:00",
          "2025-05-20T23:00:00+00:00",
          "2025-05-20T23:30:00+00:00",
          "2025-05-21T00:00:00+00:00",
          "2025-05-21T00:30:00+00:00",
          "2025-05-21T01:00:00+00:00",
          "2025-05-21T01:30:00+00:00",
          "2025-05-21T02:00:00+00:00",
          "2025-05-21T02:30:00+00:00",
          "2025-05-21T03:00:00+00:00",
          "2025-05-21T03:30:00+00:00",
          "2025-05-21T04:00:00+00:00",
          "2025-05-21T04:30:00+00:00",
          "2025-05-21T05:00:00+00:00",
          "2025-05-21T05:30:00+00:00",
          "2025-05-21T06:00:00+00:00",
          "2025-05-21T06:30:00+00:00",
          "2025-05-21T07:00:00+00:00",
          "2025-05-21T07:30:00+00:00",
          "2025-05-21T08:00:00+00:00",
          "2025-05-21T08:30:00+00:00",
          "2025-05-21T09:00:00+00:00",
          "2025-05-21T09:30:00+00:00",
          "2025-05-21T10:00:00+00:00",
          "2025-05-21T10:30:00+00:00",
          "2025-05-21T11:00:00+00:00",
          "2025-05-21T11:30:00+00:00",
          "2025-05-21T12:00:00+00:00",
          "2025-05-21T12:30:00+00:00",
          "2025-05-21T13:00:00+00:00",
          "2025-05-21T13:30:00+00:00",
          "2025-05-21T14:00:00+00:00",
          "2025-05-21T14:30:00+00:00",
          "2025-05-21T15:00:00+00:00",
          "2025-05-21T15:30:00+00:00",
          "2025-05-21T16:00:00+00:00",
          "2025-05-21T16:30:00+00:00",
          "2025-05-21T17:00:00+00:00",
          "2025-05-21T17:30:00+00:00",
          "2025-05-21T18:00:00+00:00",
          "2025-05-21T18:30:00+00:00",
          "2025-05-21T19:00:00+00:00",
          "2025-05-21T19:30:00+00:00",
          "2025-05-21T20:00:00+00:00",
          "2025-05-21T20:30:00+00:00",
          "2025-05-21T21:00:00+00:00",
          "2025-05-21T21:30:00+00:00",
          "2025-05-21T22:00:00+00:00",
          "2025-05-21T22:30:00+00:00",
          "2025-05-21T23:00:00+00:00",
          "2025-05-21T23:30:00+00:00",
          "2025-05-22T00:00:00+00:00",
          "2025-05-22T00:30:00+00:00",
          "2025-05-22T01:00:00+00:00",
          "2025-05-22T01:30:00+00:00",
          "2025-05-22T02:00:00+00:00",
          "2025-05-22T02:30:00+00:00",
          "2025-05-22T03:00:00+00:00",
          "2025-05-22T03:30:00+00:00",
          "2025-05-22T04:00:00+00:00",
          "2025-05-22T04:30:00+00:00",
          "2025-05-22T05:00:00+00:00",
          "2025-05-22T05:30:00+00:00",
          "2025-05-22T06:00:00+00:00",
          "2025-05-22T06:30:00+00:00",
          "2025-05-22T07:00:00+00:00",
          "2025-05-22T07:30:00+00:00",
          "2025-05-22T08:00:00+00:00",
          "2025-05-22T08:30:00+00:00",
          "2025-05-22T09:00:00+00:00",
          "2025-05-22T09:30:00+00:00",
          "2025-05-22T10:00:00+00:00",
          "2025-05-22T10:30:00+00:00",
          "2025-05-22T11:00:00+00:00",
          "2025-05-22T11:30:00+00:00",
          "2025-05-22T12:00:00+00:00",
          "2025-05-22T12:30:00+00:00",
          "2025-05-22T13:00:00+00:00",
          "2025-05-22T13:30:00+00:00",
          "2025-05-22T14:00:00+00:00",
          "2025-05-22T14:30:00+00:00",
          "2025-05-22T15:00:00+00:00",
          "2025-05-22T15:30:00+00:00",
          "2025-05-22T16:00:00+00:00",
          "2025-05-22T16:30:00+00:00",
          "2025-05-22T17:00:00+00:00",
          "2025-05-22T17:30:00+00:00",
          "2025-05-22T18:00:00+00:00",
          "2025-05-22T18:30:00+00:00",
          "2025-05-22T19:00:00+00:00",
          "2025-05-22T19:30:00+00:00",
          "2025-05-22T20:00:00+00:00",
          "2025-05-22T20:30:00+00:00",
          "2025-05-22T21:00:00+00:00",
          "2025-05-22T21:30:00+00:00",
          "2025-05-22T22:00:00+00:00",
          "2025-05-22T22:30:00+00:00",
          "2025-05-22T23:00:00+00:00",
          "2025-05-22T23:30:00+00:00",
          "2025-05-23T01:30:00+00:00",
          "2025-05-23T03:30:00+00:00",
          "2025-05-23T05:00:00+00:00",
          "2025-05-23T07:00:00+00:00",
          "2025-05-23T12:00:00+00:00",
          "2025-05-23T21:00:00+00:00"
         ],
         "xaxis": "x",
         "y": [
          1,
          0,
          1,
          1,
          1,
          0,
          0,
          0,
          1,
          1,
          0,
          0,
          1,
          1,
          0,
          2,
          0,
          1,
          1,
          0,
          1,
          1,
          0,
          1,
          1,
          0,
          1,
          1,
          0,
          0,
          3,
          1,
          1,
          0,
          0,
          0,
          0,
          1,
          1,
          0,
          0,
          1,
          0,
          0,
          2,
          0,
          1,
          0,
          0,
          0,
          0,
          6,
          2,
          127,
          120,
          118,
          112,
          106,
          87,
          99,
          105,
          87,
          95,
          64,
          69,
          76,
          54,
          42,
          39,
          32,
          33,
          28,
          36,
          26,
          32,
          37,
          55,
          72,
          121,
          98,
          111,
          84,
          115,
          87,
          100,
          82,
          74,
          67,
          75,
          67,
          97,
          136,
          136,
          120,
          94,
          89,
          98,
          84,
          86,
          101,
          114,
          113,
          102,
          110,
          90,
          85,
          89,
          95,
          114,
          92,
          110,
          76,
          50,
          61,
          41,
          47,
          31,
          41,
          21,
          27,
          24,
          29,
          22,
          39,
          43,
          61,
          112,
          89,
          113,
          96,
          85,
          86,
          65,
          67,
          82,
          77,
          83,
          55,
          94,
          91,
          91,
          95,
          82,
          99,
          89,
          74,
          104,
          106,
          114,
          148,
          123,
          111,
          105,
          85,
          91,
          89,
          91,
          93,
          79,
          86,
          69,
          67,
          53,
          38,
          33,
          30,
          33,
          36,
          34,
          28,
          34,
          41,
          45,
          56,
          96,
          65,
          123,
          76,
          88,
          85,
          86,
          69,
          82,
          70,
          71,
          73,
          103,
          112,
          108,
          108,
          103,
          103,
          99,
          97,
          110,
          115,
          96,
          1,
          1,
          1,
          1,
          0,
          1
         ],
         "yaxis": "y"
        },
        {
         "hovertemplate": "os_name=ipados<br>show_dt=%{x}<br>approve_flag=%{y}<extra></extra>",
         "legendgroup": "ipados",
         "line": {
          "color": "#00cc96",
          "dash": "solid"
         },
         "marker": {
          "symbol": "circle"
         },
         "mode": "lines",
         "name": "ipados",
         "orientation": "v",
         "showlegend": true,
         "type": "scatter",
         "x": [
          "2025-05-20T00:00:00+00:00",
          "2025-05-21T03:00:00+00:00",
          "2025-05-21T21:30:00+00:00",
          "2025-05-21T22:00:00+00:00",
          "2025-05-22T03:30:00+00:00"
         ],
         "xaxis": "x",
         "y": [
          0,
          1,
          1,
          1,
          1
         ],
         "yaxis": "y"
        }
       ],
       "layout": {
        "legend": {
         "title": {
          "text": "os_name"
         },
         "tracegroupgap": 0
        },
        "shapes": [
         {
          "fillcolor": "lightgreen",
          "layer": "below",
          "line": {
           "width": 0
          },
          "opacity": 0.2,
          "type": "rect",
          "x0": "2025-05-22 00:00:00+00:00",
          "x1": "2025-05-23 00:00:00+00:00",
          "xref": "x",
          "y0": 0,
          "y1": 1,
          "yref": "y domain"
         }
        ],
        "template": {
         "data": {
          "bar": [
           {
            "error_x": {
             "color": "#2a3f5f"
            },
            "error_y": {
             "color": "#2a3f5f"
            },
            "marker": {
             "line": {
              "color": "#E5ECF6",
              "width": 0.5
             },
             "pattern": {
              "fillmode": "overlay",
              "size": 10,
              "solidity": 0.2
             }
            },
            "type": "bar"
           }
          ],
          "barpolar": [
           {
            "marker": {
             "line": {
              "color": "#E5ECF6",
              "width": 0.5
             },
             "pattern": {
              "fillmode": "overlay",
              "size": 10,
              "solidity": 0.2
             }
            },
            "type": "barpolar"
           }
          ],
          "carpet": [
           {
            "aaxis": {
             "endlinecolor": "#2a3f5f",
             "gridcolor": "white",
             "linecolor": "white",
             "minorgridcolor": "white",
             "startlinecolor": "#2a3f5f"
            },
            "baxis": {
             "endlinecolor": "#2a3f5f",
             "gridcolor": "white",
             "linecolor": "white",
             "minorgridcolor": "white",
             "startlinecolor": "#2a3f5f"
            },
            "type": "carpet"
           }
          ],
          "choropleth": [
           {
            "colorbar": {
             "outlinewidth": 0,
             "ticks": ""
            },
            "type": "choropleth"
           }
          ],
          "contour": [
           {
            "colorbar": {
             "outlinewidth": 0,
             "ticks": ""
            },
            "colorscale": [
             [
              0,
              "#0d0887"
             ],
             [
              0.1111111111111111,
              "#46039f"
             ],
             [
              0.2222222222222222,
              "#7201a8"
             ],
             [
              0.3333333333333333,
              "#9c179e"
             ],
             [
              0.4444444444444444,
              "#bd3786"
             ],
             [
              0.5555555555555556,
              "#d8576b"
             ],
             [
              0.6666666666666666,
              "#ed7953"
             ],
             [
              0.7777777777777778,
              "#fb9f3a"
             ],
             [
              0.8888888888888888,
              "#fdca26"
             ],
             [
              1,
              "#f0f921"
             ]
            ],
            "type": "contour"
           }
          ],
          "contourcarpet": [
           {
            "colorbar": {
             "outlinewidth": 0,
             "ticks": ""
            },
            "type": "contourcarpet"
           }
          ],
          "heatmap": [
           {
            "colorbar": {
             "outlinewidth": 0,
             "ticks": ""
            },
            "colorscale": [
             [
              0,
              "#0d0887"
             ],
             [
              0.1111111111111111,
              "#46039f"
             ],
             [
              0.2222222222222222,
              "#7201a8"
             ],
             [
              0.3333333333333333,
              "#9c179e"
             ],
             [
              0.4444444444444444,
              "#bd3786"
             ],
             [
              0.5555555555555556,
              "#d8576b"
             ],
             [
              0.6666666666666666,
              "#ed7953"
             ],
             [
              0.7777777777777778,
              "#fb9f3a"
             ],
             [
              0.8888888888888888,
              "#fdca26"
             ],
             [
              1,
              "#f0f921"
             ]
            ],
            "type": "heatmap"
           }
          ],
          "heatmapgl": [
           {
            "colorbar": {
             "outlinewidth": 0,
             "ticks": ""
            },
            "colorscale": [
             [
              0,
              "#0d0887"
             ],
             [
              0.1111111111111111,
              "#46039f"
             ],
             [
              0.2222222222222222,
              "#7201a8"
             ],
             [
              0.3333333333333333,
              "#9c179e"
             ],
             [
              0.4444444444444444,
              "#bd3786"
             ],
             [
              0.5555555555555556,
              "#d8576b"
             ],
             [
              0.6666666666666666,
              "#ed7953"
             ],
             [
              0.7777777777777778,
              "#fb9f3a"
             ],
             [
              0.8888888888888888,
              "#fdca26"
             ],
             [
              1,
              "#f0f921"
             ]
            ],
            "type": "heatmapgl"
           }
          ],
          "histogram": [
           {
            "marker": {
             "pattern": {
              "fillmode": "overlay",
              "size": 10,
              "solidity": 0.2
             }
            },
            "type": "histogram"
           }
          ],
          "histogram2d": [
           {
            "colorbar": {
             "outlinewidth": 0,
             "ticks": ""
            },
            "colorscale": [
             [
              0,
              "#0d0887"
             ],
             [
              0.1111111111111111,
              "#46039f"
             ],
             [
              0.2222222222222222,
              "#7201a8"
             ],
             [
              0.3333333333333333,
              "#9c179e"
             ],
             [
              0.4444444444444444,
              "#bd3786"
             ],
             [
              0.5555555555555556,
              "#d8576b"
             ],
             [
              0.6666666666666666,
              "#ed7953"
             ],
             [
              0.7777777777777778,
              "#fb9f3a"
             ],
             [
              0.8888888888888888,
              "#fdca26"
             ],
             [
              1,
              "#f0f921"
             ]
            ],
            "type": "histogram2d"
           }
          ],
          "histogram2dcontour": [
           {
            "colorbar": {
             "outlinewidth": 0,
             "ticks": ""
            },
            "colorscale": [
             [
              0,
              "#0d0887"
             ],
             [
              0.1111111111111111,
              "#46039f"
             ],
             [
              0.2222222222222222,
              "#7201a8"
             ],
             [
              0.3333333333333333,
              "#9c179e"
             ],
             [
              0.4444444444444444,
              "#bd3786"
             ],
             [
              0.5555555555555556,
              "#d8576b"
             ],
             [
              0.6666666666666666,
              "#ed7953"
             ],
             [
              0.7777777777777778,
              "#fb9f3a"
             ],
             [
              0.8888888888888888,
              "#fdca26"
             ],
             [
              1,
              "#f0f921"
             ]
            ],
            "type": "histogram2dcontour"
           }
          ],
          "mesh3d": [
           {
            "colorbar": {
             "outlinewidth": 0,
             "ticks": ""
            },
            "type": "mesh3d"
           }
          ],
          "parcoords": [
           {
            "line": {
             "colorbar": {
              "outlinewidth": 0,
              "ticks": ""
             }
            },
            "type": "parcoords"
           }
          ],
          "pie": [
           {
            "automargin": true,
            "type": "pie"
           }
          ],
          "scatter": [
           {
            "fillpattern": {
             "fillmode": "overlay",
             "size": 10,
             "solidity": 0.2
            },
            "type": "scatter"
           }
          ],
          "scatter3d": [
           {
            "line": {
             "colorbar": {
              "outlinewidth": 0,
              "ticks": ""
             }
            },
            "marker": {
             "colorbar": {
              "outlinewidth": 0,
              "ticks": ""
             }
            },
            "type": "scatter3d"
           }
          ],
          "scattercarpet": [
           {
            "marker": {
             "colorbar": {
              "outlinewidth": 0,
              "ticks": ""
             }
            },
            "type": "scattercarpet"
           }
          ],
          "scattergeo": [
           {
            "marker": {
             "colorbar": {
              "outlinewidth": 0,
              "ticks": ""
             }
            },
            "type": "scattergeo"
           }
          ],
          "scattergl": [
           {
            "marker": {
             "colorbar": {
              "outlinewidth": 0,
              "ticks": ""
             }
            },
            "type": "scattergl"
           }
          ],
          "scattermapbox": [
           {
            "marker": {
             "colorbar": {
              "outlinewidth": 0,
              "ticks": ""
             }
            },
            "type": "scattermapbox"
           }
          ],
          "scatterpolar": [
           {
            "marker": {
             "colorbar": {
              "outlinewidth": 0,
              "ticks": ""
             }
            },
            "type": "scatterpolar"
           }
          ],
          "scatterpolargl": [
           {
            "marker": {
             "colorbar": {
              "outlinewidth": 0,
              "ticks": ""
             }
            },
            "type": "scatterpolargl"
           }
          ],
          "scatterternary": [
           {
            "marker": {
             "colorbar": {
              "outlinewidth": 0,
              "ticks": ""
             }
            },
            "type": "scatterternary"
           }
          ],
          "surface": [
           {
            "colorbar": {
             "outlinewidth": 0,
             "ticks": ""
            },
            "colorscale": [
             [
              0,
              "#0d0887"
             ],
             [
              0.1111111111111111,
              "#46039f"
             ],
             [
              0.2222222222222222,
              "#7201a8"
             ],
             [
              0.3333333333333333,
              "#9c179e"
             ],
             [
              0.4444444444444444,
              "#bd3786"
             ],
             [
              0.5555555555555556,
              "#d8576b"
             ],
             [
              0.6666666666666666,
              "#ed7953"
             ],
             [
              0.7777777777777778,
              "#fb9f3a"
             ],
             [
              0.8888888888888888,
              "#fdca26"
             ],
             [
              1,
              "#f0f921"
             ]
            ],
            "type": "surface"
           }
          ],
          "table": [
           {
            "cells": {
             "fill": {
              "color": "#EBF0F8"
             },
             "line": {
              "color": "white"
             }
            },
            "header": {
             "fill": {
              "color": "#C8D4E3"
             },
             "line": {
              "color": "white"
             }
            },
            "type": "table"
           }
          ]
         },
         "layout": {
          "annotationdefaults": {
           "arrowcolor": "#2a3f5f",
           "arrowhead": 0,
           "arrowwidth": 1
          },
          "autotypenumbers": "strict",
          "coloraxis": {
           "colorbar": {
            "outlinewidth": 0,
            "ticks": ""
           }
          },
          "colorscale": {
           "diverging": [
            [
             0,
             "#8e0152"
            ],
            [
             0.1,
             "#c51b7d"
            ],
            [
             0.2,
             "#de77ae"
            ],
            [
             0.3,
             "#f1b6da"
            ],
            [
             0.4,
             "#fde0ef"
            ],
            [
             0.5,
             "#f7f7f7"
            ],
            [
             0.6,
             "#e6f5d0"
            ],
            [
             0.7,
             "#b8e186"
            ],
            [
             0.8,
             "#7fbc41"
            ],
            [
             0.9,
             "#4d9221"
            ],
            [
             1,
             "#276419"
            ]
           ],
           "sequential": [
            [
             0,
             "#0d0887"
            ],
            [
             0.1111111111111111,
             "#46039f"
            ],
            [
             0.2222222222222222,
             "#7201a8"
            ],
            [
             0.3333333333333333,
             "#9c179e"
            ],
            [
             0.4444444444444444,
             "#bd3786"
            ],
            [
             0.5555555555555556,
             "#d8576b"
            ],
            [
             0.6666666666666666,
             "#ed7953"
            ],
            [
             0.7777777777777778,
             "#fb9f3a"
            ],
            [
             0.8888888888888888,
             "#fdca26"
            ],
            [
             1,
             "#f0f921"
            ]
           ],
           "sequentialminus": [
            [
             0,
             "#0d0887"
            ],
            [
             0.1111111111111111,
             "#46039f"
            ],
            [
             0.2222222222222222,
             "#7201a8"
            ],
            [
             0.3333333333333333,
             "#9c179e"
            ],
            [
             0.4444444444444444,
             "#bd3786"
            ],
            [
             0.5555555555555556,
             "#d8576b"
            ],
            [
             0.6666666666666666,
             "#ed7953"
            ],
            [
             0.7777777777777778,
             "#fb9f3a"
            ],
            [
             0.8888888888888888,
             "#fdca26"
            ],
            [
             1,
             "#f0f921"
            ]
           ]
          },
          "colorway": [
           "#636efa",
           "#EF553B",
           "#00cc96",
           "#ab63fa",
           "#FFA15A",
           "#19d3f3",
           "#FF6692",
           "#B6E880",
           "#FF97FF",
           "#FECB52"
          ],
          "font": {
           "color": "#2a3f5f"
          },
          "geo": {
           "bgcolor": "white",
           "lakecolor": "white",
           "landcolor": "#E5ECF6",
           "showlakes": true,
           "showland": true,
           "subunitcolor": "white"
          },
          "hoverlabel": {
           "align": "left"
          },
          "hovermode": "closest",
          "mapbox": {
           "style": "light"
          },
          "paper_bgcolor": "white",
          "plot_bgcolor": "#E5ECF6",
          "polar": {
           "angularaxis": {
            "gridcolor": "white",
            "linecolor": "white",
            "ticks": ""
           },
           "bgcolor": "#E5ECF6",
           "radialaxis": {
            "gridcolor": "white",
            "linecolor": "white",
            "ticks": ""
           }
          },
          "scene": {
           "xaxis": {
            "backgroundcolor": "#E5ECF6",
            "gridcolor": "white",
            "gridwidth": 2,
            "linecolor": "white",
            "showbackground": true,
            "ticks": "",
            "zerolinecolor": "white"
           },
           "yaxis": {
            "backgroundcolor": "#E5ECF6",
            "gridcolor": "white",
            "gridwidth": 2,
            "linecolor": "white",
            "showbackground": true,
            "ticks": "",
            "zerolinecolor": "white"
           },
           "zaxis": {
            "backgroundcolor": "#E5ECF6",
            "gridcolor": "white",
            "gridwidth": 2,
            "linecolor": "white",
            "showbackground": true,
            "ticks": "",
            "zerolinecolor": "white"
           }
          },
          "shapedefaults": {
           "line": {
            "color": "#2a3f5f"
           }
          },
          "ternary": {
           "aaxis": {
            "gridcolor": "white",
            "linecolor": "white",
            "ticks": ""
           },
           "baxis": {
            "gridcolor": "white",
            "linecolor": "white",
            "ticks": ""
           },
           "bgcolor": "#E5ECF6",
           "caxis": {
            "gridcolor": "white",
            "linecolor": "white",
            "ticks": ""
           }
          },
          "title": {
           "x": 0.05
          },
          "xaxis": {
           "automargin": true,
           "gridcolor": "white",
           "linecolor": "white",
           "ticks": "",
           "title": {
            "standoff": 15
           },
           "zerolinecolor": "white",
           "zerolinewidth": 2
          },
          "yaxis": {
           "automargin": true,
           "gridcolor": "white",
           "linecolor": "white",
           "ticks": "",
           "title": {
            "standoff": 15
           },
           "zerolinecolor": "white",
           "zerolinewidth": 2
          }
         }
        },
        "title": {
         "text": "Mexico"
        },
        "xaxis": {
         "anchor": "y",
         "domain": [
          0,
          1
         ],
         "title": {
          "text": "show_dt"
         }
        },
        "yaxis": {
         "anchor": "x",
         "domain": [
          0,
          1
         ],
         "title": {
          "text": "approve_flag"
         }
        }
       }
      }
     },
     "metadata": {},
     "output_type": "display_data"
    },
    {
     "data": {
      "application/vnd.plotly.v1+json": {
       "config": {
        "plotlyServerURL": "https://plot.ly"
       },
       "data": [
        {
         "hovertemplate": "os_name=ios<br>show_dt=%{x}<br>approve_flag=%{y}<extra></extra>",
         "legendgroup": "ios",
         "line": {
          "color": "#636efa",
          "dash": "solid"
         },
         "marker": {
          "symbol": "circle"
         },
         "mode": "lines",
         "name": "ios",
         "orientation": "v",
         "showlegend": true,
         "type": "scatter",
         "x": [
          "2025-03-29T13:00:00+00:00",
          "2025-05-05T01:00:00+00:00",
          "2025-05-06T01:30:00+00:00",
          "2025-05-11T01:30:00+00:00",
          "2025-05-15T06:30:00+00:00",
          "2025-05-16T02:00:00+00:00",
          "2025-05-17T00:30:00+00:00",
          "2025-05-18T00:30:00+00:00",
          "2025-05-18T02:00:00+00:00",
          "2025-05-19T00:00:00+00:00",
          "2025-05-19T01:30:00+00:00",
          "2025-05-19T13:30:00+00:00",
          "2025-05-20T00:00:00+00:00",
          "2025-05-20T00:30:00+00:00",
          "2025-05-20T01:00:00+00:00",
          "2025-05-20T01:30:00+00:00",
          "2025-05-20T02:00:00+00:00",
          "2025-05-20T02:30:00+00:00",
          "2025-05-20T03:00:00+00:00",
          "2025-05-20T03:30:00+00:00",
          "2025-05-20T04:00:00+00:00",
          "2025-05-20T04:30:00+00:00",
          "2025-05-20T05:00:00+00:00",
          "2025-05-20T05:30:00+00:00",
          "2025-05-20T06:00:00+00:00",
          "2025-05-20T06:30:00+00:00",
          "2025-05-20T07:00:00+00:00",
          "2025-05-20T08:00:00+00:00",
          "2025-05-20T08:30:00+00:00",
          "2025-05-20T09:30:00+00:00",
          "2025-05-20T10:00:00+00:00",
          "2025-05-20T11:00:00+00:00",
          "2025-05-20T11:30:00+00:00",
          "2025-05-20T12:00:00+00:00",
          "2025-05-20T12:30:00+00:00",
          "2025-05-20T13:00:00+00:00",
          "2025-05-20T13:30:00+00:00",
          "2025-05-20T14:00:00+00:00",
          "2025-05-20T14:30:00+00:00",
          "2025-05-20T15:00:00+00:00",
          "2025-05-20T16:30:00+00:00",
          "2025-05-20T17:00:00+00:00",
          "2025-05-20T17:30:00+00:00",
          "2025-05-20T18:30:00+00:00",
          "2025-05-20T20:00:00+00:00",
          "2025-05-20T20:30:00+00:00",
          "2025-05-20T21:00:00+00:00",
          "2025-05-20T21:30:00+00:00",
          "2025-05-20T22:00:00+00:00",
          "2025-05-20T22:30:00+00:00",
          "2025-05-20T23:00:00+00:00",
          "2025-05-21T00:00:00+00:00",
          "2025-05-21T00:30:00+00:00",
          "2025-05-21T01:00:00+00:00",
          "2025-05-21T01:30:00+00:00",
          "2025-05-21T02:00:00+00:00",
          "2025-05-21T02:30:00+00:00",
          "2025-05-21T03:00:00+00:00",
          "2025-05-21T03:30:00+00:00",
          "2025-05-21T04:00:00+00:00",
          "2025-05-21T04:30:00+00:00",
          "2025-05-21T05:30:00+00:00",
          "2025-05-21T06:00:00+00:00",
          "2025-05-21T06:30:00+00:00",
          "2025-05-21T07:00:00+00:00",
          "2025-05-21T07:30:00+00:00",
          "2025-05-21T08:30:00+00:00",
          "2025-05-21T09:30:00+00:00",
          "2025-05-21T11:00:00+00:00",
          "2025-05-21T11:30:00+00:00",
          "2025-05-21T12:00:00+00:00",
          "2025-05-21T12:30:00+00:00",
          "2025-05-21T13:00:00+00:00",
          "2025-05-21T14:30:00+00:00",
          "2025-05-21T15:00:00+00:00",
          "2025-05-21T15:30:00+00:00",
          "2025-05-21T16:00:00+00:00",
          "2025-05-21T16:30:00+00:00",
          "2025-05-21T17:00:00+00:00",
          "2025-05-21T17:30:00+00:00",
          "2025-05-21T18:00:00+00:00",
          "2025-05-21T18:30:00+00:00",
          "2025-05-21T19:00:00+00:00",
          "2025-05-21T19:30:00+00:00",
          "2025-05-21T20:30:00+00:00",
          "2025-05-21T21:00:00+00:00",
          "2025-05-21T21:30:00+00:00",
          "2025-05-21T22:00:00+00:00",
          "2025-05-21T22:30:00+00:00",
          "2025-05-22T00:00:00+00:00",
          "2025-05-22T00:30:00+00:00",
          "2025-05-22T01:00:00+00:00",
          "2025-05-22T01:30:00+00:00",
          "2025-05-22T02:00:00+00:00",
          "2025-05-22T02:30:00+00:00",
          "2025-05-22T03:00:00+00:00",
          "2025-05-22T03:30:00+00:00",
          "2025-05-22T04:00:00+00:00",
          "2025-05-22T04:30:00+00:00",
          "2025-05-22T05:00:00+00:00",
          "2025-05-22T05:30:00+00:00",
          "2025-05-22T06:00:00+00:00",
          "2025-05-22T06:30:00+00:00",
          "2025-05-22T07:00:00+00:00",
          "2025-05-22T07:30:00+00:00",
          "2025-05-22T08:00:00+00:00",
          "2025-05-22T08:30:00+00:00",
          "2025-05-22T09:30:00+00:00",
          "2025-05-22T10:00:00+00:00",
          "2025-05-22T11:00:00+00:00",
          "2025-05-22T11:30:00+00:00",
          "2025-05-22T12:00:00+00:00",
          "2025-05-22T12:30:00+00:00",
          "2025-05-22T13:00:00+00:00",
          "2025-05-22T13:30:00+00:00",
          "2025-05-22T14:30:00+00:00",
          "2025-05-22T15:00:00+00:00",
          "2025-05-22T15:30:00+00:00",
          "2025-05-22T16:30:00+00:00",
          "2025-05-22T17:00:00+00:00",
          "2025-05-22T18:00:00+00:00",
          "2025-05-22T18:30:00+00:00",
          "2025-05-22T19:00:00+00:00",
          "2025-05-22T19:30:00+00:00",
          "2025-05-22T20:30:00+00:00",
          "2025-05-22T21:00:00+00:00",
          "2025-05-22T21:30:00+00:00",
          "2025-05-22T22:00:00+00:00",
          "2025-05-22T22:30:00+00:00",
          "2025-05-22T23:00:00+00:00",
          "2025-05-22T23:30:00+00:00"
         ],
         "xaxis": "x",
         "y": [
          0,
          1,
          1,
          0,
          1,
          0,
          0,
          1,
          0,
          0,
          0,
          0,
          16,
          19,
          18,
          13,
          18,
          10,
          13,
          4,
          2,
          4,
          3,
          1,
          5,
          2,
          3,
          6,
          0,
          1,
          1,
          1,
          1,
          1,
          2,
          0,
          2,
          1,
          2,
          4,
          1,
          3,
          3,
          1,
          1,
          7,
          1,
          1,
          2,
          6,
          1,
          14,
          11,
          10,
          9,
          9,
          10,
          7,
          8,
          4,
          3,
          5,
          1,
          0,
          2,
          0,
          2,
          1,
          2,
          2,
          2,
          1,
          3,
          1,
          2,
          2,
          3,
          3,
          2,
          2,
          1,
          2,
          1,
          2,
          2,
          1,
          2,
          1,
          1,
          19,
          16,
          7,
          10,
          8,
          5,
          4,
          6,
          6,
          3,
          3,
          2,
          4,
          3,
          1,
          1,
          2,
          1,
          1,
          0,
          1,
          1,
          3,
          1,
          1,
          1,
          3,
          2,
          0,
          3,
          1,
          2,
          3,
          3,
          5,
          4,
          0,
          4,
          3,
          1,
          0,
          3
         ],
         "yaxis": "y"
        },
        {
         "hovertemplate": "os_name=android<br>show_dt=%{x}<br>approve_flag=%{y}<extra></extra>",
         "legendgroup": "android",
         "line": {
          "color": "#EF553B",
          "dash": "solid"
         },
         "marker": {
          "symbol": "circle"
         },
         "mode": "lines",
         "name": "android",
         "orientation": "v",
         "showlegend": true,
         "type": "scatter",
         "x": [
          "2025-05-19T09:30:00+00:00",
          "2025-05-19T14:30:00+00:00",
          "2025-05-19T16:30:00+00:00",
          "2025-05-20T00:00:00+00:00",
          "2025-05-20T00:30:00+00:00",
          "2025-05-20T01:00:00+00:00",
          "2025-05-20T01:30:00+00:00",
          "2025-05-20T02:00:00+00:00",
          "2025-05-20T02:30:00+00:00",
          "2025-05-20T03:00:00+00:00",
          "2025-05-20T03:30:00+00:00",
          "2025-05-20T04:00:00+00:00",
          "2025-05-20T04:30:00+00:00",
          "2025-05-20T05:00:00+00:00",
          "2025-05-20T05:30:00+00:00",
          "2025-05-20T06:00:00+00:00",
          "2025-05-20T06:30:00+00:00",
          "2025-05-20T07:00:00+00:00",
          "2025-05-20T07:30:00+00:00",
          "2025-05-20T08:00:00+00:00",
          "2025-05-20T08:30:00+00:00",
          "2025-05-20T10:00:00+00:00",
          "2025-05-20T10:30:00+00:00",
          "2025-05-20T11:00:00+00:00",
          "2025-05-20T11:30:00+00:00",
          "2025-05-20T12:00:00+00:00",
          "2025-05-20T12:30:00+00:00",
          "2025-05-20T13:00:00+00:00",
          "2025-05-20T13:30:00+00:00",
          "2025-05-20T14:00:00+00:00",
          "2025-05-20T14:30:00+00:00",
          "2025-05-20T15:00:00+00:00",
          "2025-05-20T16:30:00+00:00",
          "2025-05-20T17:00:00+00:00",
          "2025-05-20T17:30:00+00:00",
          "2025-05-20T18:00:00+00:00",
          "2025-05-20T18:30:00+00:00",
          "2025-05-20T19:00:00+00:00",
          "2025-05-20T19:30:00+00:00",
          "2025-05-20T20:00:00+00:00",
          "2025-05-20T20:30:00+00:00",
          "2025-05-20T21:00:00+00:00",
          "2025-05-20T21:30:00+00:00",
          "2025-05-20T22:00:00+00:00",
          "2025-05-20T22:30:00+00:00",
          "2025-05-20T23:00:00+00:00",
          "2025-05-20T23:30:00+00:00",
          "2025-05-21T00:00:00+00:00",
          "2025-05-21T00:30:00+00:00",
          "2025-05-21T01:00:00+00:00",
          "2025-05-21T01:30:00+00:00",
          "2025-05-21T02:00:00+00:00",
          "2025-05-21T02:30:00+00:00",
          "2025-05-21T03:00:00+00:00",
          "2025-05-21T03:30:00+00:00",
          "2025-05-21T04:00:00+00:00",
          "2025-05-21T04:30:00+00:00",
          "2025-05-21T05:00:00+00:00",
          "2025-05-21T05:30:00+00:00",
          "2025-05-21T06:00:00+00:00",
          "2025-05-21T06:30:00+00:00",
          "2025-05-21T07:30:00+00:00",
          "2025-05-21T08:00:00+00:00",
          "2025-05-21T08:30:00+00:00",
          "2025-05-21T09:00:00+00:00",
          "2025-05-21T10:00:00+00:00",
          "2025-05-21T10:30:00+00:00",
          "2025-05-21T11:00:00+00:00",
          "2025-05-21T11:30:00+00:00",
          "2025-05-21T12:00:00+00:00",
          "2025-05-21T13:00:00+00:00",
          "2025-05-21T13:30:00+00:00",
          "2025-05-21T14:00:00+00:00",
          "2025-05-21T14:30:00+00:00",
          "2025-05-21T15:00:00+00:00",
          "2025-05-21T15:30:00+00:00",
          "2025-05-21T16:00:00+00:00",
          "2025-05-21T16:30:00+00:00",
          "2025-05-21T17:00:00+00:00",
          "2025-05-21T17:30:00+00:00",
          "2025-05-21T18:00:00+00:00",
          "2025-05-21T18:30:00+00:00",
          "2025-05-21T19:30:00+00:00",
          "2025-05-21T20:00:00+00:00",
          "2025-05-21T20:30:00+00:00",
          "2025-05-21T21:00:00+00:00",
          "2025-05-21T21:30:00+00:00",
          "2025-05-21T22:00:00+00:00",
          "2025-05-21T22:30:00+00:00",
          "2025-05-21T23:00:00+00:00",
          "2025-05-21T23:30:00+00:00",
          "2025-05-22T00:00:00+00:00",
          "2025-05-22T00:30:00+00:00",
          "2025-05-22T01:00:00+00:00",
          "2025-05-22T01:30:00+00:00",
          "2025-05-22T02:00:00+00:00",
          "2025-05-22T02:30:00+00:00",
          "2025-05-22T03:00:00+00:00",
          "2025-05-22T03:30:00+00:00",
          "2025-05-22T04:00:00+00:00",
          "2025-05-22T04:30:00+00:00",
          "2025-05-22T05:00:00+00:00",
          "2025-05-22T05:30:00+00:00",
          "2025-05-22T06:00:00+00:00",
          "2025-05-22T06:30:00+00:00",
          "2025-05-22T07:00:00+00:00",
          "2025-05-22T07:30:00+00:00",
          "2025-05-22T08:00:00+00:00",
          "2025-05-22T08:30:00+00:00",
          "2025-05-22T09:30:00+00:00",
          "2025-05-22T10:30:00+00:00",
          "2025-05-22T11:00:00+00:00",
          "2025-05-22T11:30:00+00:00",
          "2025-05-22T12:00:00+00:00",
          "2025-05-22T12:30:00+00:00",
          "2025-05-22T13:00:00+00:00",
          "2025-05-22T13:30:00+00:00",
          "2025-05-22T14:00:00+00:00",
          "2025-05-22T14:30:00+00:00",
          "2025-05-22T15:00:00+00:00",
          "2025-05-22T16:00:00+00:00",
          "2025-05-22T16:30:00+00:00",
          "2025-05-22T17:00:00+00:00",
          "2025-05-22T17:30:00+00:00",
          "2025-05-22T18:00:00+00:00",
          "2025-05-22T18:30:00+00:00",
          "2025-05-22T19:00:00+00:00",
          "2025-05-22T19:30:00+00:00",
          "2025-05-22T20:00:00+00:00",
          "2025-05-22T20:30:00+00:00",
          "2025-05-22T21:00:00+00:00",
          "2025-05-22T21:30:00+00:00",
          "2025-05-22T22:30:00+00:00",
          "2025-05-22T23:00:00+00:00",
          "2025-05-22T23:30:00+00:00"
         ],
         "xaxis": "x",
         "y": [
          0,
          1,
          1,
          36,
          20,
          36,
          25,
          28,
          19,
          15,
          16,
          11,
          8,
          7,
          4,
          2,
          0,
          1,
          1,
          3,
          8,
          1,
          1,
          1,
          3,
          2,
          0,
          0,
          1,
          0,
          4,
          3,
          2,
          2,
          1,
          1,
          3,
          2,
          1,
          1,
          1,
          1,
          5,
          2,
          1,
          1,
          2,
          24,
          23,
          16,
          30,
          19,
          9,
          13,
          7,
          6,
          11,
          7,
          4,
          1,
          2,
          4,
          2,
          7,
          1,
          1,
          1,
          3,
          2,
          0,
          0,
          1,
          2,
          5,
          2,
          1,
          4,
          1,
          1,
          2,
          1,
          2,
          1,
          1,
          3,
          5,
          1,
          2,
          3,
          4,
          1,
          22,
          24,
          21,
          18,
          24,
          11,
          16,
          10,
          7,
          5,
          5,
          2,
          2,
          2,
          1,
          3,
          1,
          7,
          1,
          1,
          3,
          1,
          0,
          2,
          1,
          2,
          3,
          2,
          1,
          1,
          1,
          1,
          1,
          0,
          3,
          4,
          3,
          3,
          5,
          6,
          3,
          1,
          3,
          3
         ],
         "yaxis": "y"
        },
        {
         "hovertemplate": "os_name=Android<br>show_dt=%{x}<br>approve_flag=%{y}<extra></extra>",
         "legendgroup": "Android",
         "line": {
          "color": "#00cc96",
          "dash": "solid"
         },
         "marker": {
          "symbol": "circle"
         },
         "mode": "lines",
         "name": "Android",
         "orientation": "v",
         "showlegend": true,
         "type": "scatter",
         "x": [
          "2025-05-20T01:00:00+00:00",
          "2025-05-20T01:30:00+00:00"
         ],
         "xaxis": "x",
         "y": [
          0,
          0
         ],
         "yaxis": "y"
        },
        {
         "hovertemplate": "os_name=ipados<br>show_dt=%{x}<br>approve_flag=%{y}<extra></extra>",
         "legendgroup": "ipados",
         "line": {
          "color": "#ab63fa",
          "dash": "solid"
         },
         "marker": {
          "symbol": "circle"
         },
         "mode": "lines",
         "name": "ipados",
         "orientation": "v",
         "showlegend": true,
         "type": "scatter",
         "x": [
          "2025-05-20T21:00:00+00:00"
         ],
         "xaxis": "x",
         "y": [
          1
         ],
         "yaxis": "y"
        }
       ],
       "layout": {
        "legend": {
         "title": {
          "text": "os_name"
         },
         "tracegroupgap": 0
        },
        "shapes": [
         {
          "fillcolor": "lightgreen",
          "layer": "below",
          "line": {
           "width": 0
          },
          "opacity": 0.2,
          "type": "rect",
          "x0": "2025-05-22 00:00:00+00:00",
          "x1": "2025-05-23 00:00:00+00:00",
          "xref": "x",
          "y0": 0,
          "y1": 1,
          "yref": "y domain"
         }
        ],
        "template": {
         "data": {
          "bar": [
           {
            "error_x": {
             "color": "#2a3f5f"
            },
            "error_y": {
             "color": "#2a3f5f"
            },
            "marker": {
             "line": {
              "color": "#E5ECF6",
              "width": 0.5
             },
             "pattern": {
              "fillmode": "overlay",
              "size": 10,
              "solidity": 0.2
             }
            },
            "type": "bar"
           }
          ],
          "barpolar": [
           {
            "marker": {
             "line": {
              "color": "#E5ECF6",
              "width": 0.5
             },
             "pattern": {
              "fillmode": "overlay",
              "size": 10,
              "solidity": 0.2
             }
            },
            "type": "barpolar"
           }
          ],
          "carpet": [
           {
            "aaxis": {
             "endlinecolor": "#2a3f5f",
             "gridcolor": "white",
             "linecolor": "white",
             "minorgridcolor": "white",
             "startlinecolor": "#2a3f5f"
            },
            "baxis": {
             "endlinecolor": "#2a3f5f",
             "gridcolor": "white",
             "linecolor": "white",
             "minorgridcolor": "white",
             "startlinecolor": "#2a3f5f"
            },
            "type": "carpet"
           }
          ],
          "choropleth": [
           {
            "colorbar": {
             "outlinewidth": 0,
             "ticks": ""
            },
            "type": "choropleth"
           }
          ],
          "contour": [
           {
            "colorbar": {
             "outlinewidth": 0,
             "ticks": ""
            },
            "colorscale": [
             [
              0,
              "#0d0887"
             ],
             [
              0.1111111111111111,
              "#46039f"
             ],
             [
              0.2222222222222222,
              "#7201a8"
             ],
             [
              0.3333333333333333,
              "#9c179e"
             ],
             [
              0.4444444444444444,
              "#bd3786"
             ],
             [
              0.5555555555555556,
              "#d8576b"
             ],
             [
              0.6666666666666666,
              "#ed7953"
             ],
             [
              0.7777777777777778,
              "#fb9f3a"
             ],
             [
              0.8888888888888888,
              "#fdca26"
             ],
             [
              1,
              "#f0f921"
             ]
            ],
            "type": "contour"
           }
          ],
          "contourcarpet": [
           {
            "colorbar": {
             "outlinewidth": 0,
             "ticks": ""
            },
            "type": "contourcarpet"
           }
          ],
          "heatmap": [
           {
            "colorbar": {
             "outlinewidth": 0,
             "ticks": ""
            },
            "colorscale": [
             [
              0,
              "#0d0887"
             ],
             [
              0.1111111111111111,
              "#46039f"
             ],
             [
              0.2222222222222222,
              "#7201a8"
             ],
             [
              0.3333333333333333,
              "#9c179e"
             ],
             [
              0.4444444444444444,
              "#bd3786"
             ],
             [
              0.5555555555555556,
              "#d8576b"
             ],
             [
              0.6666666666666666,
              "#ed7953"
             ],
             [
              0.7777777777777778,
              "#fb9f3a"
             ],
             [
              0.8888888888888888,
              "#fdca26"
             ],
             [
              1,
              "#f0f921"
             ]
            ],
            "type": "heatmap"
           }
          ],
          "heatmapgl": [
           {
            "colorbar": {
             "outlinewidth": 0,
             "ticks": ""
            },
            "colorscale": [
             [
              0,
              "#0d0887"
             ],
             [
              0.1111111111111111,
              "#46039f"
             ],
             [
              0.2222222222222222,
              "#7201a8"
             ],
             [
              0.3333333333333333,
              "#9c179e"
             ],
             [
              0.4444444444444444,
              "#bd3786"
             ],
             [
              0.5555555555555556,
              "#d8576b"
             ],
             [
              0.6666666666666666,
              "#ed7953"
             ],
             [
              0.7777777777777778,
              "#fb9f3a"
             ],
             [
              0.8888888888888888,
              "#fdca26"
             ],
             [
              1,
              "#f0f921"
             ]
            ],
            "type": "heatmapgl"
           }
          ],
          "histogram": [
           {
            "marker": {
             "pattern": {
              "fillmode": "overlay",
              "size": 10,
              "solidity": 0.2
             }
            },
            "type": "histogram"
           }
          ],
          "histogram2d": [
           {
            "colorbar": {
             "outlinewidth": 0,
             "ticks": ""
            },
            "colorscale": [
             [
              0,
              "#0d0887"
             ],
             [
              0.1111111111111111,
              "#46039f"
             ],
             [
              0.2222222222222222,
              "#7201a8"
             ],
             [
              0.3333333333333333,
              "#9c179e"
             ],
             [
              0.4444444444444444,
              "#bd3786"
             ],
             [
              0.5555555555555556,
              "#d8576b"
             ],
             [
              0.6666666666666666,
              "#ed7953"
             ],
             [
              0.7777777777777778,
              "#fb9f3a"
             ],
             [
              0.8888888888888888,
              "#fdca26"
             ],
             [
              1,
              "#f0f921"
             ]
            ],
            "type": "histogram2d"
           }
          ],
          "histogram2dcontour": [
           {
            "colorbar": {
             "outlinewidth": 0,
             "ticks": ""
            },
            "colorscale": [
             [
              0,
              "#0d0887"
             ],
             [
              0.1111111111111111,
              "#46039f"
             ],
             [
              0.2222222222222222,
              "#7201a8"
             ],
             [
              0.3333333333333333,
              "#9c179e"
             ],
             [
              0.4444444444444444,
              "#bd3786"
             ],
             [
              0.5555555555555556,
              "#d8576b"
             ],
             [
              0.6666666666666666,
              "#ed7953"
             ],
             [
              0.7777777777777778,
              "#fb9f3a"
             ],
             [
              0.8888888888888888,
              "#fdca26"
             ],
             [
              1,
              "#f0f921"
             ]
            ],
            "type": "histogram2dcontour"
           }
          ],
          "mesh3d": [
           {
            "colorbar": {
             "outlinewidth": 0,
             "ticks": ""
            },
            "type": "mesh3d"
           }
          ],
          "parcoords": [
           {
            "line": {
             "colorbar": {
              "outlinewidth": 0,
              "ticks": ""
             }
            },
            "type": "parcoords"
           }
          ],
          "pie": [
           {
            "automargin": true,
            "type": "pie"
           }
          ],
          "scatter": [
           {
            "fillpattern": {
             "fillmode": "overlay",
             "size": 10,
             "solidity": 0.2
            },
            "type": "scatter"
           }
          ],
          "scatter3d": [
           {
            "line": {
             "colorbar": {
              "outlinewidth": 0,
              "ticks": ""
             }
            },
            "marker": {
             "colorbar": {
              "outlinewidth": 0,
              "ticks": ""
             }
            },
            "type": "scatter3d"
           }
          ],
          "scattercarpet": [
           {
            "marker": {
             "colorbar": {
              "outlinewidth": 0,
              "ticks": ""
             }
            },
            "type": "scattercarpet"
           }
          ],
          "scattergeo": [
           {
            "marker": {
             "colorbar": {
              "outlinewidth": 0,
              "ticks": ""
             }
            },
            "type": "scattergeo"
           }
          ],
          "scattergl": [
           {
            "marker": {
             "colorbar": {
              "outlinewidth": 0,
              "ticks": ""
             }
            },
            "type": "scattergl"
           }
          ],
          "scattermapbox": [
           {
            "marker": {
             "colorbar": {
              "outlinewidth": 0,
              "ticks": ""
             }
            },
            "type": "scattermapbox"
           }
          ],
          "scatterpolar": [
           {
            "marker": {
             "colorbar": {
              "outlinewidth": 0,
              "ticks": ""
             }
            },
            "type": "scatterpolar"
           }
          ],
          "scatterpolargl": [
           {
            "marker": {
             "colorbar": {
              "outlinewidth": 0,
              "ticks": ""
             }
            },
            "type": "scatterpolargl"
           }
          ],
          "scatterternary": [
           {
            "marker": {
             "colorbar": {
              "outlinewidth": 0,
              "ticks": ""
             }
            },
            "type": "scatterternary"
           }
          ],
          "surface": [
           {
            "colorbar": {
             "outlinewidth": 0,
             "ticks": ""
            },
            "colorscale": [
             [
              0,
              "#0d0887"
             ],
             [
              0.1111111111111111,
              "#46039f"
             ],
             [
              0.2222222222222222,
              "#7201a8"
             ],
             [
              0.3333333333333333,
              "#9c179e"
             ],
             [
              0.4444444444444444,
              "#bd3786"
             ],
             [
              0.5555555555555556,
              "#d8576b"
             ],
             [
              0.6666666666666666,
              "#ed7953"
             ],
             [
              0.7777777777777778,
              "#fb9f3a"
             ],
             [
              0.8888888888888888,
              "#fdca26"
             ],
             [
              1,
              "#f0f921"
             ]
            ],
            "type": "surface"
           }
          ],
          "table": [
           {
            "cells": {
             "fill": {
              "color": "#EBF0F8"
             },
             "line": {
              "color": "white"
             }
            },
            "header": {
             "fill": {
              "color": "#C8D4E3"
             },
             "line": {
              "color": "white"
             }
            },
            "type": "table"
           }
          ]
         },
         "layout": {
          "annotationdefaults": {
           "arrowcolor": "#2a3f5f",
           "arrowhead": 0,
           "arrowwidth": 1
          },
          "autotypenumbers": "strict",
          "coloraxis": {
           "colorbar": {
            "outlinewidth": 0,
            "ticks": ""
           }
          },
          "colorscale": {
           "diverging": [
            [
             0,
             "#8e0152"
            ],
            [
             0.1,
             "#c51b7d"
            ],
            [
             0.2,
             "#de77ae"
            ],
            [
             0.3,
             "#f1b6da"
            ],
            [
             0.4,
             "#fde0ef"
            ],
            [
             0.5,
             "#f7f7f7"
            ],
            [
             0.6,
             "#e6f5d0"
            ],
            [
             0.7,
             "#b8e186"
            ],
            [
             0.8,
             "#7fbc41"
            ],
            [
             0.9,
             "#4d9221"
            ],
            [
             1,
             "#276419"
            ]
           ],
           "sequential": [
            [
             0,
             "#0d0887"
            ],
            [
             0.1111111111111111,
             "#46039f"
            ],
            [
             0.2222222222222222,
             "#7201a8"
            ],
            [
             0.3333333333333333,
             "#9c179e"
            ],
            [
             0.4444444444444444,
             "#bd3786"
            ],
            [
             0.5555555555555556,
             "#d8576b"
            ],
            [
             0.6666666666666666,
             "#ed7953"
            ],
            [
             0.7777777777777778,
             "#fb9f3a"
            ],
            [
             0.8888888888888888,
             "#fdca26"
            ],
            [
             1,
             "#f0f921"
            ]
           ],
           "sequentialminus": [
            [
             0,
             "#0d0887"
            ],
            [
             0.1111111111111111,
             "#46039f"
            ],
            [
             0.2222222222222222,
             "#7201a8"
            ],
            [
             0.3333333333333333,
             "#9c179e"
            ],
            [
             0.4444444444444444,
             "#bd3786"
            ],
            [
             0.5555555555555556,
             "#d8576b"
            ],
            [
             0.6666666666666666,
             "#ed7953"
            ],
            [
             0.7777777777777778,
             "#fb9f3a"
            ],
            [
             0.8888888888888888,
             "#fdca26"
            ],
            [
             1,
             "#f0f921"
            ]
           ]
          },
          "colorway": [
           "#636efa",
           "#EF553B",
           "#00cc96",
           "#ab63fa",
           "#FFA15A",
           "#19d3f3",
           "#FF6692",
           "#B6E880",
           "#FF97FF",
           "#FECB52"
          ],
          "font": {
           "color": "#2a3f5f"
          },
          "geo": {
           "bgcolor": "white",
           "lakecolor": "white",
           "landcolor": "#E5ECF6",
           "showlakes": true,
           "showland": true,
           "subunitcolor": "white"
          },
          "hoverlabel": {
           "align": "left"
          },
          "hovermode": "closest",
          "mapbox": {
           "style": "light"
          },
          "paper_bgcolor": "white",
          "plot_bgcolor": "#E5ECF6",
          "polar": {
           "angularaxis": {
            "gridcolor": "white",
            "linecolor": "white",
            "ticks": ""
           },
           "bgcolor": "#E5ECF6",
           "radialaxis": {
            "gridcolor": "white",
            "linecolor": "white",
            "ticks": ""
           }
          },
          "scene": {
           "xaxis": {
            "backgroundcolor": "#E5ECF6",
            "gridcolor": "white",
            "gridwidth": 2,
            "linecolor": "white",
            "showbackground": true,
            "ticks": "",
            "zerolinecolor": "white"
           },
           "yaxis": {
            "backgroundcolor": "#E5ECF6",
            "gridcolor": "white",
            "gridwidth": 2,
            "linecolor": "white",
            "showbackground": true,
            "ticks": "",
            "zerolinecolor": "white"
           },
           "zaxis": {
            "backgroundcolor": "#E5ECF6",
            "gridcolor": "white",
            "gridwidth": 2,
            "linecolor": "white",
            "showbackground": true,
            "ticks": "",
            "zerolinecolor": "white"
           }
          },
          "shapedefaults": {
           "line": {
            "color": "#2a3f5f"
           }
          },
          "ternary": {
           "aaxis": {
            "gridcolor": "white",
            "linecolor": "white",
            "ticks": ""
           },
           "baxis": {
            "gridcolor": "white",
            "linecolor": "white",
            "ticks": ""
           },
           "bgcolor": "#E5ECF6",
           "caxis": {
            "gridcolor": "white",
            "linecolor": "white",
            "ticks": ""
           }
          },
          "title": {
           "x": 0.05
          },
          "xaxis": {
           "automargin": true,
           "gridcolor": "white",
           "linecolor": "white",
           "ticks": "",
           "title": {
            "standoff": 15
           },
           "zerolinecolor": "white",
           "zerolinewidth": 2
          },
          "yaxis": {
           "automargin": true,
           "gridcolor": "white",
           "linecolor": "white",
           "ticks": "",
           "title": {
            "standoff": 15
           },
           "zerolinecolor": "white",
           "zerolinewidth": 2
          }
         }
        },
        "title": {
         "text": "Dominican Republic"
        },
        "xaxis": {
         "anchor": "y",
         "domain": [
          0,
          1
         ],
         "title": {
          "text": "show_dt"
         }
        },
        "yaxis": {
         "anchor": "x",
         "domain": [
          0,
          1
         ],
         "title": {
          "text": "approve_flag"
         }
        }
       }
      }
     },
     "metadata": {},
     "output_type": "display_data"
    },
    {
     "data": {
      "application/vnd.plotly.v1+json": {
       "config": {
        "plotlyServerURL": "https://plot.ly"
       },
       "data": [
        {
         "hovertemplate": "os_name=ios<br>show_dt=%{x}<br>approve_flag=%{y}<extra></extra>",
         "legendgroup": "ios",
         "line": {
          "color": "#636efa",
          "dash": "solid"
         },
         "marker": {
          "symbol": "circle"
         },
         "mode": "lines",
         "name": "ios",
         "orientation": "v",
         "showlegend": true,
         "type": "scatter",
         "x": [
          "2025-03-09T05:00:00+00:00",
          "2025-03-16T03:00:00+00:00",
          "2025-03-30T02:30:00+00:00",
          "2025-03-30T07:30:00+00:00",
          "2025-04-04T17:30:00+00:00",
          "2025-04-15T06:00:00+00:00",
          "2025-04-15T06:30:00+00:00",
          "2025-04-17T16:30:00+00:00",
          "2025-04-21T01:30:00+00:00",
          "2025-04-21T10:00:00+00:00",
          "2025-04-23T22:00:00+00:00",
          "2025-04-29T23:00:00+00:00",
          "2025-05-02T01:30:00+00:00",
          "2025-05-03T09:30:00+00:00",
          "2025-05-04T03:00:00+00:00",
          "2025-05-06T17:30:00+00:00",
          "2025-05-07T20:00:00+00:00",
          "2025-05-07T22:00:00+00:00",
          "2025-05-08T00:30:00+00:00",
          "2025-05-08T10:30:00+00:00",
          "2025-05-09T02:30:00+00:00",
          "2025-05-09T13:30:00+00:00",
          "2025-05-09T20:00:00+00:00",
          "2025-05-10T04:00:00+00:00",
          "2025-05-10T19:00:00+00:00",
          "2025-05-10T20:00:00+00:00",
          "2025-05-11T01:30:00+00:00",
          "2025-05-11T02:00:00+00:00",
          "2025-05-11T19:00:00+00:00",
          "2025-05-12T00:30:00+00:00",
          "2025-05-12T12:00:00+00:00",
          "2025-05-12T14:30:00+00:00",
          "2025-05-13T12:30:00+00:00",
          "2025-05-13T13:00:00+00:00",
          "2025-05-13T16:00:00+00:00",
          "2025-05-14T00:00:00+00:00",
          "2025-05-14T12:00:00+00:00",
          "2025-05-14T20:30:00+00:00",
          "2025-05-15T16:00:00+00:00",
          "2025-05-16T02:00:00+00:00",
          "2025-05-16T18:30:00+00:00",
          "2025-05-16T22:00:00+00:00",
          "2025-05-17T01:30:00+00:00",
          "2025-05-17T02:30:00+00:00",
          "2025-05-17T04:30:00+00:00",
          "2025-05-17T12:00:00+00:00",
          "2025-05-17T13:30:00+00:00",
          "2025-05-17T15:30:00+00:00",
          "2025-05-17T21:30:00+00:00",
          "2025-05-17T22:00:00+00:00",
          "2025-05-18T01:30:00+00:00",
          "2025-05-18T03:00:00+00:00",
          "2025-05-18T03:30:00+00:00",
          "2025-05-18T16:00:00+00:00",
          "2025-05-19T00:00:00+00:00",
          "2025-05-19T00:30:00+00:00",
          "2025-05-19T01:30:00+00:00",
          "2025-05-19T10:30:00+00:00",
          "2025-05-19T12:00:00+00:00",
          "2025-05-19T12:30:00+00:00",
          "2025-05-19T13:30:00+00:00",
          "2025-05-19T18:30:00+00:00",
          "2025-05-19T19:00:00+00:00",
          "2025-05-19T21:00:00+00:00",
          "2025-05-19T21:30:00+00:00",
          "2025-05-19T22:00:00+00:00",
          "2025-05-19T22:30:00+00:00",
          "2025-05-20T00:00:00+00:00",
          "2025-05-20T00:30:00+00:00",
          "2025-05-20T01:00:00+00:00",
          "2025-05-20T01:30:00+00:00",
          "2025-05-20T02:00:00+00:00",
          "2025-05-20T02:30:00+00:00",
          "2025-05-20T03:00:00+00:00",
          "2025-05-20T03:30:00+00:00",
          "2025-05-20T04:00:00+00:00",
          "2025-05-20T04:30:00+00:00",
          "2025-05-20T05:00:00+00:00",
          "2025-05-20T05:30:00+00:00",
          "2025-05-20T06:00:00+00:00",
          "2025-05-20T06:30:00+00:00",
          "2025-05-20T07:00:00+00:00",
          "2025-05-20T07:30:00+00:00",
          "2025-05-20T08:00:00+00:00",
          "2025-05-20T08:30:00+00:00",
          "2025-05-20T09:00:00+00:00",
          "2025-05-20T09:30:00+00:00",
          "2025-05-20T10:00:00+00:00",
          "2025-05-20T10:30:00+00:00",
          "2025-05-20T11:00:00+00:00",
          "2025-05-20T11:30:00+00:00",
          "2025-05-20T12:00:00+00:00",
          "2025-05-20T12:30:00+00:00",
          "2025-05-20T13:00:00+00:00",
          "2025-05-20T13:30:00+00:00",
          "2025-05-20T14:00:00+00:00",
          "2025-05-20T14:30:00+00:00",
          "2025-05-20T15:00:00+00:00",
          "2025-05-20T15:30:00+00:00",
          "2025-05-20T16:00:00+00:00",
          "2025-05-20T16:30:00+00:00",
          "2025-05-20T17:00:00+00:00",
          "2025-05-20T17:30:00+00:00",
          "2025-05-20T18:00:00+00:00",
          "2025-05-20T18:30:00+00:00",
          "2025-05-20T19:00:00+00:00",
          "2025-05-20T19:30:00+00:00",
          "2025-05-20T20:00:00+00:00",
          "2025-05-20T20:30:00+00:00",
          "2025-05-20T21:00:00+00:00",
          "2025-05-20T21:30:00+00:00",
          "2025-05-20T22:00:00+00:00",
          "2025-05-20T22:30:00+00:00",
          "2025-05-20T23:00:00+00:00",
          "2025-05-20T23:30:00+00:00",
          "2025-05-21T00:00:00+00:00",
          "2025-05-21T00:30:00+00:00",
          "2025-05-21T01:00:00+00:00",
          "2025-05-21T01:30:00+00:00",
          "2025-05-21T02:00:00+00:00",
          "2025-05-21T02:30:00+00:00",
          "2025-05-21T03:00:00+00:00",
          "2025-05-21T03:30:00+00:00",
          "2025-05-21T04:00:00+00:00",
          "2025-05-21T04:30:00+00:00",
          "2025-05-21T05:00:00+00:00",
          "2025-05-21T05:30:00+00:00",
          "2025-05-21T06:00:00+00:00",
          "2025-05-21T06:30:00+00:00",
          "2025-05-21T07:00:00+00:00",
          "2025-05-21T07:30:00+00:00",
          "2025-05-21T08:00:00+00:00",
          "2025-05-21T08:30:00+00:00",
          "2025-05-21T09:00:00+00:00",
          "2025-05-21T09:30:00+00:00",
          "2025-05-21T10:00:00+00:00",
          "2025-05-21T10:30:00+00:00",
          "2025-05-21T11:00:00+00:00",
          "2025-05-21T11:30:00+00:00",
          "2025-05-21T12:00:00+00:00",
          "2025-05-21T12:30:00+00:00",
          "2025-05-21T13:00:00+00:00",
          "2025-05-21T13:30:00+00:00",
          "2025-05-21T14:00:00+00:00",
          "2025-05-21T14:30:00+00:00",
          "2025-05-21T15:00:00+00:00",
          "2025-05-21T15:30:00+00:00",
          "2025-05-21T16:00:00+00:00",
          "2025-05-21T16:30:00+00:00",
          "2025-05-21T17:00:00+00:00",
          "2025-05-21T17:30:00+00:00",
          "2025-05-21T18:00:00+00:00",
          "2025-05-21T18:30:00+00:00",
          "2025-05-21T19:00:00+00:00",
          "2025-05-21T19:30:00+00:00",
          "2025-05-21T20:00:00+00:00",
          "2025-05-21T20:30:00+00:00",
          "2025-05-21T21:00:00+00:00",
          "2025-05-21T21:30:00+00:00",
          "2025-05-21T22:00:00+00:00",
          "2025-05-21T22:30:00+00:00",
          "2025-05-21T23:00:00+00:00",
          "2025-05-21T23:30:00+00:00",
          "2025-05-22T00:00:00+00:00",
          "2025-05-22T00:30:00+00:00",
          "2025-05-22T01:00:00+00:00",
          "2025-05-22T01:30:00+00:00",
          "2025-05-22T02:00:00+00:00",
          "2025-05-22T02:30:00+00:00",
          "2025-05-22T03:00:00+00:00",
          "2025-05-22T03:30:00+00:00",
          "2025-05-22T04:00:00+00:00",
          "2025-05-22T04:30:00+00:00",
          "2025-05-22T05:00:00+00:00",
          "2025-05-22T05:30:00+00:00",
          "2025-05-22T06:00:00+00:00",
          "2025-05-22T06:30:00+00:00",
          "2025-05-22T07:00:00+00:00",
          "2025-05-22T07:30:00+00:00",
          "2025-05-22T08:00:00+00:00",
          "2025-05-22T08:30:00+00:00",
          "2025-05-22T09:00:00+00:00",
          "2025-05-22T09:30:00+00:00",
          "2025-05-22T10:00:00+00:00",
          "2025-05-22T10:30:00+00:00",
          "2025-05-22T11:00:00+00:00",
          "2025-05-22T11:30:00+00:00",
          "2025-05-22T12:00:00+00:00",
          "2025-05-22T12:30:00+00:00",
          "2025-05-22T13:00:00+00:00",
          "2025-05-22T13:30:00+00:00",
          "2025-05-22T14:00:00+00:00",
          "2025-05-22T14:30:00+00:00",
          "2025-05-22T15:00:00+00:00",
          "2025-05-22T15:30:00+00:00",
          "2025-05-22T16:00:00+00:00",
          "2025-05-22T16:30:00+00:00",
          "2025-05-22T17:00:00+00:00",
          "2025-05-22T17:30:00+00:00",
          "2025-05-22T18:00:00+00:00",
          "2025-05-22T18:30:00+00:00",
          "2025-05-22T19:00:00+00:00",
          "2025-05-22T19:30:00+00:00",
          "2025-05-22T20:00:00+00:00",
          "2025-05-22T20:30:00+00:00",
          "2025-05-22T21:00:00+00:00",
          "2025-05-22T21:30:00+00:00",
          "2025-05-22T22:00:00+00:00",
          "2025-05-22T22:30:00+00:00",
          "2025-05-22T23:00:00+00:00",
          "2025-05-22T23:30:00+00:00"
         ],
         "xaxis": "x",
         "y": [
          0,
          1,
          0,
          1,
          0,
          1,
          0,
          0,
          0,
          0,
          0,
          1,
          1,
          0,
          0,
          0,
          0,
          1,
          1,
          1,
          0,
          0,
          0,
          1,
          0,
          0,
          1,
          0,
          1,
          1,
          1,
          1,
          1,
          0,
          0,
          1,
          1,
          0,
          1,
          0,
          1,
          0,
          0,
          0,
          1,
          0,
          1,
          1,
          0,
          1,
          0,
          1,
          0,
          0,
          0,
          1,
          1,
          0,
          1,
          1,
          0,
          0,
          0,
          1,
          0,
          0,
          0,
          27,
          32,
          30,
          18,
          25,
          16,
          27,
          22,
          11,
          7,
          18,
          12,
          12,
          7,
          8,
          5,
          3,
          6,
          7,
          6,
          5,
          11,
          19,
          32,
          33,
          30,
          21,
          25,
          25,
          22,
          22,
          24,
          31,
          29,
          35,
          31,
          33,
          36,
          37,
          46,
          36,
          34,
          35,
          36,
          53,
          69,
          58,
          50,
          43,
          36,
          62,
          42,
          36,
          33,
          62,
          47,
          50,
          32,
          29,
          32,
          28,
          31,
          42,
          45,
          45,
          43,
          27,
          11,
          18,
          10,
          17,
          10,
          15,
          11,
          13,
          21,
          13,
          19,
          25,
          22,
          19,
          18,
          24,
          40,
          36,
          26,
          37,
          32,
          30,
          28,
          18,
          46,
          35,
          45,
          43,
          31,
          44,
          38,
          31,
          42,
          32,
          32,
          22,
          31,
          15,
          16,
          7,
          11,
          9,
          7,
          10,
          8,
          6,
          1,
          7,
          4,
          5,
          12,
          19,
          44,
          39,
          24,
          25,
          30,
          16,
          23,
          27,
          20,
          22,
          29,
          31,
          29,
          29,
          25,
          27,
          26,
          36,
          39,
          29,
          41,
          49,
          33,
          40,
          22
         ],
         "yaxis": "y"
        },
        {
         "hovertemplate": "os_name=android<br>show_dt=%{x}<br>approve_flag=%{y}<extra></extra>",
         "legendgroup": "android",
         "line": {
          "color": "#EF553B",
          "dash": "solid"
         },
         "marker": {
          "symbol": "circle"
         },
         "mode": "lines",
         "name": "android",
         "orientation": "v",
         "showlegend": true,
         "type": "scatter",
         "x": [
          "2025-05-13T10:00:00+00:00",
          "2025-05-16T12:30:00+00:00",
          "2025-05-16T19:30:00+00:00",
          "2025-05-16T21:30:00+00:00",
          "2025-05-17T03:30:00+00:00",
          "2025-05-17T16:30:00+00:00",
          "2025-05-18T09:00:00+00:00",
          "2025-05-19T02:00:00+00:00",
          "2025-05-19T07:30:00+00:00",
          "2025-05-19T11:30:00+00:00",
          "2025-05-19T12:30:00+00:00",
          "2025-05-19T14:00:00+00:00",
          "2025-05-19T16:00:00+00:00",
          "2025-05-19T19:00:00+00:00",
          "2025-05-19T19:30:00+00:00",
          "2025-05-19T20:00:00+00:00",
          "2025-05-19T20:30:00+00:00",
          "2025-05-19T21:00:00+00:00",
          "2025-05-19T21:30:00+00:00",
          "2025-05-19T22:00:00+00:00",
          "2025-05-19T22:30:00+00:00",
          "2025-05-19T23:30:00+00:00",
          "2025-05-20T00:00:00+00:00",
          "2025-05-20T00:30:00+00:00",
          "2025-05-20T01:00:00+00:00",
          "2025-05-20T01:30:00+00:00",
          "2025-05-20T02:00:00+00:00",
          "2025-05-20T02:30:00+00:00",
          "2025-05-20T03:00:00+00:00",
          "2025-05-20T03:30:00+00:00",
          "2025-05-20T04:00:00+00:00",
          "2025-05-20T04:30:00+00:00",
          "2025-05-20T05:00:00+00:00",
          "2025-05-20T05:30:00+00:00",
          "2025-05-20T06:00:00+00:00",
          "2025-05-20T06:30:00+00:00",
          "2025-05-20T07:00:00+00:00",
          "2025-05-20T07:30:00+00:00",
          "2025-05-20T08:00:00+00:00",
          "2025-05-20T08:30:00+00:00",
          "2025-05-20T09:00:00+00:00",
          "2025-05-20T09:30:00+00:00",
          "2025-05-20T10:00:00+00:00",
          "2025-05-20T10:30:00+00:00",
          "2025-05-20T11:00:00+00:00",
          "2025-05-20T11:30:00+00:00",
          "2025-05-20T12:00:00+00:00",
          "2025-05-20T12:30:00+00:00",
          "2025-05-20T13:00:00+00:00",
          "2025-05-20T13:30:00+00:00",
          "2025-05-20T14:00:00+00:00",
          "2025-05-20T14:30:00+00:00",
          "2025-05-20T15:00:00+00:00",
          "2025-05-20T15:30:00+00:00",
          "2025-05-20T16:00:00+00:00",
          "2025-05-20T16:30:00+00:00",
          "2025-05-20T17:00:00+00:00",
          "2025-05-20T17:30:00+00:00",
          "2025-05-20T18:00:00+00:00",
          "2025-05-20T18:30:00+00:00",
          "2025-05-20T19:00:00+00:00",
          "2025-05-20T19:30:00+00:00",
          "2025-05-20T20:00:00+00:00",
          "2025-05-20T20:30:00+00:00",
          "2025-05-20T21:00:00+00:00",
          "2025-05-20T21:30:00+00:00",
          "2025-05-20T22:00:00+00:00",
          "2025-05-20T22:30:00+00:00",
          "2025-05-20T23:00:00+00:00",
          "2025-05-20T23:30:00+00:00",
          "2025-05-21T00:00:00+00:00",
          "2025-05-21T00:30:00+00:00",
          "2025-05-21T01:00:00+00:00",
          "2025-05-21T01:30:00+00:00",
          "2025-05-21T02:00:00+00:00",
          "2025-05-21T02:30:00+00:00",
          "2025-05-21T03:00:00+00:00",
          "2025-05-21T03:30:00+00:00",
          "2025-05-21T04:00:00+00:00",
          "2025-05-21T04:30:00+00:00",
          "2025-05-21T05:00:00+00:00",
          "2025-05-21T05:30:00+00:00",
          "2025-05-21T06:00:00+00:00",
          "2025-05-21T06:30:00+00:00",
          "2025-05-21T07:00:00+00:00",
          "2025-05-21T07:30:00+00:00",
          "2025-05-21T08:00:00+00:00",
          "2025-05-21T08:30:00+00:00",
          "2025-05-21T09:00:00+00:00",
          "2025-05-21T09:30:00+00:00",
          "2025-05-21T10:00:00+00:00",
          "2025-05-21T10:30:00+00:00",
          "2025-05-21T11:00:00+00:00",
          "2025-05-21T11:30:00+00:00",
          "2025-05-21T12:00:00+00:00",
          "2025-05-21T12:30:00+00:00",
          "2025-05-21T13:00:00+00:00",
          "2025-05-21T13:30:00+00:00",
          "2025-05-21T14:00:00+00:00",
          "2025-05-21T14:30:00+00:00",
          "2025-05-21T15:00:00+00:00",
          "2025-05-21T15:30:00+00:00",
          "2025-05-21T16:00:00+00:00",
          "2025-05-21T16:30:00+00:00",
          "2025-05-21T17:00:00+00:00",
          "2025-05-21T17:30:00+00:00",
          "2025-05-21T18:00:00+00:00",
          "2025-05-21T18:30:00+00:00",
          "2025-05-21T19:00:00+00:00",
          "2025-05-21T19:30:00+00:00",
          "2025-05-21T20:00:00+00:00",
          "2025-05-21T20:30:00+00:00",
          "2025-05-21T21:00:00+00:00",
          "2025-05-21T21:30:00+00:00",
          "2025-05-21T22:00:00+00:00",
          "2025-05-21T22:30:00+00:00",
          "2025-05-21T23:00:00+00:00",
          "2025-05-21T23:30:00+00:00",
          "2025-05-22T00:00:00+00:00",
          "2025-05-22T00:30:00+00:00",
          "2025-05-22T01:00:00+00:00",
          "2025-05-22T01:30:00+00:00",
          "2025-05-22T02:00:00+00:00",
          "2025-05-22T02:30:00+00:00",
          "2025-05-22T03:00:00+00:00",
          "2025-05-22T03:30:00+00:00",
          "2025-05-22T04:00:00+00:00",
          "2025-05-22T04:30:00+00:00",
          "2025-05-22T05:00:00+00:00",
          "2025-05-22T05:30:00+00:00",
          "2025-05-22T06:00:00+00:00",
          "2025-05-22T06:30:00+00:00",
          "2025-05-22T07:00:00+00:00",
          "2025-05-22T07:30:00+00:00",
          "2025-05-22T08:00:00+00:00",
          "2025-05-22T08:30:00+00:00",
          "2025-05-22T09:00:00+00:00",
          "2025-05-22T09:30:00+00:00",
          "2025-05-22T10:00:00+00:00",
          "2025-05-22T10:30:00+00:00",
          "2025-05-22T11:00:00+00:00",
          "2025-05-22T11:30:00+00:00",
          "2025-05-22T12:00:00+00:00",
          "2025-05-22T12:30:00+00:00",
          "2025-05-22T13:00:00+00:00",
          "2025-05-22T13:30:00+00:00",
          "2025-05-22T14:00:00+00:00",
          "2025-05-22T14:30:00+00:00",
          "2025-05-22T15:00:00+00:00",
          "2025-05-22T15:30:00+00:00",
          "2025-05-22T16:00:00+00:00",
          "2025-05-22T16:30:00+00:00",
          "2025-05-22T17:00:00+00:00",
          "2025-05-22T17:30:00+00:00",
          "2025-05-22T18:00:00+00:00",
          "2025-05-22T18:30:00+00:00",
          "2025-05-22T19:00:00+00:00",
          "2025-05-22T19:30:00+00:00",
          "2025-05-22T20:00:00+00:00",
          "2025-05-22T20:30:00+00:00",
          "2025-05-22T21:00:00+00:00",
          "2025-05-22T21:30:00+00:00",
          "2025-05-22T22:00:00+00:00",
          "2025-05-22T22:30:00+00:00",
          "2025-05-22T23:00:00+00:00",
          "2025-05-22T23:30:00+00:00",
          "2025-05-23T00:00:00+00:00",
          "2025-05-23T05:00:00+00:00",
          "2025-05-23T08:30:00+00:00",
          "2025-05-24T22:30:00+00:00"
         ],
         "xaxis": "x",
         "y": [
          0,
          0,
          0,
          0,
          0,
          0,
          0,
          0,
          0,
          0,
          0,
          0,
          0,
          0,
          1,
          0,
          0,
          0,
          0,
          0,
          0,
          1,
          86,
          76,
          68,
          60,
          62,
          60,
          57,
          42,
          44,
          38,
          25,
          25,
          24,
          19,
          18,
          17,
          18,
          19,
          17,
          20,
          26,
          30,
          62,
          85,
          73,
          63,
          77,
          70,
          60,
          49,
          57,
          70,
          73,
          75,
          79,
          68,
          65,
          83,
          72,
          89,
          73,
          91,
          112,
          111,
          130,
          111,
          109,
          99,
          105,
          100,
          98,
          81,
          100,
          93,
          88,
          88,
          88,
          61,
          48,
          62,
          58,
          46,
          47,
          58,
          51,
          42,
          37,
          37,
          31,
          50,
          51,
          39,
          46,
          43,
          45,
          42,
          42,
          57,
          59,
          51,
          48,
          62,
          59,
          65,
          65,
          90,
          84,
          96,
          71,
          68,
          86,
          82,
          77,
          95,
          110,
          89,
          100,
          110,
          90,
          105,
          105,
          69,
          61,
          62,
          54,
          34,
          34,
          22,
          22,
          20,
          17,
          16,
          22,
          19,
          11,
          23,
          23,
          48,
          59,
          84,
          86,
          69,
          66,
          72,
          56,
          65,
          63,
          67,
          68,
          80,
          69,
          51,
          75,
          71,
          59,
          74,
          82,
          69,
          72,
          90,
          111,
          97,
          87,
          77,
          1,
          0,
          0,
          1
         ],
         "yaxis": "y"
        },
        {
         "hovertemplate": "os_name=Android<br>show_dt=%{x}<br>approve_flag=%{y}<extra></extra>",
         "legendgroup": "Android",
         "line": {
          "color": "#00cc96",
          "dash": "solid"
         },
         "marker": {
          "symbol": "circle"
         },
         "mode": "lines",
         "name": "Android",
         "orientation": "v",
         "showlegend": true,
         "type": "scatter",
         "x": [
          "2025-05-21T06:00:00+00:00",
          "2025-05-21T19:00:00+00:00"
         ],
         "xaxis": "x",
         "y": [
          0,
          1
         ],
         "yaxis": "y"
        },
        {
         "hovertemplate": "os_name=ipados<br>show_dt=%{x}<br>approve_flag=%{y}<extra></extra>",
         "legendgroup": "ipados",
         "line": {
          "color": "#ab63fa",
          "dash": "solid"
         },
         "marker": {
          "symbol": "circle"
         },
         "mode": "lines",
         "name": "ipados",
         "orientation": "v",
         "showlegend": true,
         "type": "scatter",
         "x": [
          "2025-05-22T00:30:00+00:00"
         ],
         "xaxis": "x",
         "y": [
          1
         ],
         "yaxis": "y"
        }
       ],
       "layout": {
        "legend": {
         "title": {
          "text": "os_name"
         },
         "tracegroupgap": 0
        },
        "shapes": [
         {
          "fillcolor": "lightgreen",
          "layer": "below",
          "line": {
           "width": 0
          },
          "opacity": 0.2,
          "type": "rect",
          "x0": "2025-05-22 00:00:00+00:00",
          "x1": "2025-05-23 00:00:00+00:00",
          "xref": "x",
          "y0": 0,
          "y1": 1,
          "yref": "y domain"
         }
        ],
        "template": {
         "data": {
          "bar": [
           {
            "error_x": {
             "color": "#2a3f5f"
            },
            "error_y": {
             "color": "#2a3f5f"
            },
            "marker": {
             "line": {
              "color": "#E5ECF6",
              "width": 0.5
             },
             "pattern": {
              "fillmode": "overlay",
              "size": 10,
              "solidity": 0.2
             }
            },
            "type": "bar"
           }
          ],
          "barpolar": [
           {
            "marker": {
             "line": {
              "color": "#E5ECF6",
              "width": 0.5
             },
             "pattern": {
              "fillmode": "overlay",
              "size": 10,
              "solidity": 0.2
             }
            },
            "type": "barpolar"
           }
          ],
          "carpet": [
           {
            "aaxis": {
             "endlinecolor": "#2a3f5f",
             "gridcolor": "white",
             "linecolor": "white",
             "minorgridcolor": "white",
             "startlinecolor": "#2a3f5f"
            },
            "baxis": {
             "endlinecolor": "#2a3f5f",
             "gridcolor": "white",
             "linecolor": "white",
             "minorgridcolor": "white",
             "startlinecolor": "#2a3f5f"
            },
            "type": "carpet"
           }
          ],
          "choropleth": [
           {
            "colorbar": {
             "outlinewidth": 0,
             "ticks": ""
            },
            "type": "choropleth"
           }
          ],
          "contour": [
           {
            "colorbar": {
             "outlinewidth": 0,
             "ticks": ""
            },
            "colorscale": [
             [
              0,
              "#0d0887"
             ],
             [
              0.1111111111111111,
              "#46039f"
             ],
             [
              0.2222222222222222,
              "#7201a8"
             ],
             [
              0.3333333333333333,
              "#9c179e"
             ],
             [
              0.4444444444444444,
              "#bd3786"
             ],
             [
              0.5555555555555556,
              "#d8576b"
             ],
             [
              0.6666666666666666,
              "#ed7953"
             ],
             [
              0.7777777777777778,
              "#fb9f3a"
             ],
             [
              0.8888888888888888,
              "#fdca26"
             ],
             [
              1,
              "#f0f921"
             ]
            ],
            "type": "contour"
           }
          ],
          "contourcarpet": [
           {
            "colorbar": {
             "outlinewidth": 0,
             "ticks": ""
            },
            "type": "contourcarpet"
           }
          ],
          "heatmap": [
           {
            "colorbar": {
             "outlinewidth": 0,
             "ticks": ""
            },
            "colorscale": [
             [
              0,
              "#0d0887"
             ],
             [
              0.1111111111111111,
              "#46039f"
             ],
             [
              0.2222222222222222,
              "#7201a8"
             ],
             [
              0.3333333333333333,
              "#9c179e"
             ],
             [
              0.4444444444444444,
              "#bd3786"
             ],
             [
              0.5555555555555556,
              "#d8576b"
             ],
             [
              0.6666666666666666,
              "#ed7953"
             ],
             [
              0.7777777777777778,
              "#fb9f3a"
             ],
             [
              0.8888888888888888,
              "#fdca26"
             ],
             [
              1,
              "#f0f921"
             ]
            ],
            "type": "heatmap"
           }
          ],
          "heatmapgl": [
           {
            "colorbar": {
             "outlinewidth": 0,
             "ticks": ""
            },
            "colorscale": [
             [
              0,
              "#0d0887"
             ],
             [
              0.1111111111111111,
              "#46039f"
             ],
             [
              0.2222222222222222,
              "#7201a8"
             ],
             [
              0.3333333333333333,
              "#9c179e"
             ],
             [
              0.4444444444444444,
              "#bd3786"
             ],
             [
              0.5555555555555556,
              "#d8576b"
             ],
             [
              0.6666666666666666,
              "#ed7953"
             ],
             [
              0.7777777777777778,
              "#fb9f3a"
             ],
             [
              0.8888888888888888,
              "#fdca26"
             ],
             [
              1,
              "#f0f921"
             ]
            ],
            "type": "heatmapgl"
           }
          ],
          "histogram": [
           {
            "marker": {
             "pattern": {
              "fillmode": "overlay",
              "size": 10,
              "solidity": 0.2
             }
            },
            "type": "histogram"
           }
          ],
          "histogram2d": [
           {
            "colorbar": {
             "outlinewidth": 0,
             "ticks": ""
            },
            "colorscale": [
             [
              0,
              "#0d0887"
             ],
             [
              0.1111111111111111,
              "#46039f"
             ],
             [
              0.2222222222222222,
              "#7201a8"
             ],
             [
              0.3333333333333333,
              "#9c179e"
             ],
             [
              0.4444444444444444,
              "#bd3786"
             ],
             [
              0.5555555555555556,
              "#d8576b"
             ],
             [
              0.6666666666666666,
              "#ed7953"
             ],
             [
              0.7777777777777778,
              "#fb9f3a"
             ],
             [
              0.8888888888888888,
              "#fdca26"
             ],
             [
              1,
              "#f0f921"
             ]
            ],
            "type": "histogram2d"
           }
          ],
          "histogram2dcontour": [
           {
            "colorbar": {
             "outlinewidth": 0,
             "ticks": ""
            },
            "colorscale": [
             [
              0,
              "#0d0887"
             ],
             [
              0.1111111111111111,
              "#46039f"
             ],
             [
              0.2222222222222222,
              "#7201a8"
             ],
             [
              0.3333333333333333,
              "#9c179e"
             ],
             [
              0.4444444444444444,
              "#bd3786"
             ],
             [
              0.5555555555555556,
              "#d8576b"
             ],
             [
              0.6666666666666666,
              "#ed7953"
             ],
             [
              0.7777777777777778,
              "#fb9f3a"
             ],
             [
              0.8888888888888888,
              "#fdca26"
             ],
             [
              1,
              "#f0f921"
             ]
            ],
            "type": "histogram2dcontour"
           }
          ],
          "mesh3d": [
           {
            "colorbar": {
             "outlinewidth": 0,
             "ticks": ""
            },
            "type": "mesh3d"
           }
          ],
          "parcoords": [
           {
            "line": {
             "colorbar": {
              "outlinewidth": 0,
              "ticks": ""
             }
            },
            "type": "parcoords"
           }
          ],
          "pie": [
           {
            "automargin": true,
            "type": "pie"
           }
          ],
          "scatter": [
           {
            "fillpattern": {
             "fillmode": "overlay",
             "size": 10,
             "solidity": 0.2
            },
            "type": "scatter"
           }
          ],
          "scatter3d": [
           {
            "line": {
             "colorbar": {
              "outlinewidth": 0,
              "ticks": ""
             }
            },
            "marker": {
             "colorbar": {
              "outlinewidth": 0,
              "ticks": ""
             }
            },
            "type": "scatter3d"
           }
          ],
          "scattercarpet": [
           {
            "marker": {
             "colorbar": {
              "outlinewidth": 0,
              "ticks": ""
             }
            },
            "type": "scattercarpet"
           }
          ],
          "scattergeo": [
           {
            "marker": {
             "colorbar": {
              "outlinewidth": 0,
              "ticks": ""
             }
            },
            "type": "scattergeo"
           }
          ],
          "scattergl": [
           {
            "marker": {
             "colorbar": {
              "outlinewidth": 0,
              "ticks": ""
             }
            },
            "type": "scattergl"
           }
          ],
          "scattermapbox": [
           {
            "marker": {
             "colorbar": {
              "outlinewidth": 0,
              "ticks": ""
             }
            },
            "type": "scattermapbox"
           }
          ],
          "scatterpolar": [
           {
            "marker": {
             "colorbar": {
              "outlinewidth": 0,
              "ticks": ""
             }
            },
            "type": "scatterpolar"
           }
          ],
          "scatterpolargl": [
           {
            "marker": {
             "colorbar": {
              "outlinewidth": 0,
              "ticks": ""
             }
            },
            "type": "scatterpolargl"
           }
          ],
          "scatterternary": [
           {
            "marker": {
             "colorbar": {
              "outlinewidth": 0,
              "ticks": ""
             }
            },
            "type": "scatterternary"
           }
          ],
          "surface": [
           {
            "colorbar": {
             "outlinewidth": 0,
             "ticks": ""
            },
            "colorscale": [
             [
              0,
              "#0d0887"
             ],
             [
              0.1111111111111111,
              "#46039f"
             ],
             [
              0.2222222222222222,
              "#7201a8"
             ],
             [
              0.3333333333333333,
              "#9c179e"
             ],
             [
              0.4444444444444444,
              "#bd3786"
             ],
             [
              0.5555555555555556,
              "#d8576b"
             ],
             [
              0.6666666666666666,
              "#ed7953"
             ],
             [
              0.7777777777777778,
              "#fb9f3a"
             ],
             [
              0.8888888888888888,
              "#fdca26"
             ],
             [
              1,
              "#f0f921"
             ]
            ],
            "type": "surface"
           }
          ],
          "table": [
           {
            "cells": {
             "fill": {
              "color": "#EBF0F8"
             },
             "line": {
              "color": "white"
             }
            },
            "header": {
             "fill": {
              "color": "#C8D4E3"
             },
             "line": {
              "color": "white"
             }
            },
            "type": "table"
           }
          ]
         },
         "layout": {
          "annotationdefaults": {
           "arrowcolor": "#2a3f5f",
           "arrowhead": 0,
           "arrowwidth": 1
          },
          "autotypenumbers": "strict",
          "coloraxis": {
           "colorbar": {
            "outlinewidth": 0,
            "ticks": ""
           }
          },
          "colorscale": {
           "diverging": [
            [
             0,
             "#8e0152"
            ],
            [
             0.1,
             "#c51b7d"
            ],
            [
             0.2,
             "#de77ae"
            ],
            [
             0.3,
             "#f1b6da"
            ],
            [
             0.4,
             "#fde0ef"
            ],
            [
             0.5,
             "#f7f7f7"
            ],
            [
             0.6,
             "#e6f5d0"
            ],
            [
             0.7,
             "#b8e186"
            ],
            [
             0.8,
             "#7fbc41"
            ],
            [
             0.9,
             "#4d9221"
            ],
            [
             1,
             "#276419"
            ]
           ],
           "sequential": [
            [
             0,
             "#0d0887"
            ],
            [
             0.1111111111111111,
             "#46039f"
            ],
            [
             0.2222222222222222,
             "#7201a8"
            ],
            [
             0.3333333333333333,
             "#9c179e"
            ],
            [
             0.4444444444444444,
             "#bd3786"
            ],
            [
             0.5555555555555556,
             "#d8576b"
            ],
            [
             0.6666666666666666,
             "#ed7953"
            ],
            [
             0.7777777777777778,
             "#fb9f3a"
            ],
            [
             0.8888888888888888,
             "#fdca26"
            ],
            [
             1,
             "#f0f921"
            ]
           ],
           "sequentialminus": [
            [
             0,
             "#0d0887"
            ],
            [
             0.1111111111111111,
             "#46039f"
            ],
            [
             0.2222222222222222,
             "#7201a8"
            ],
            [
             0.3333333333333333,
             "#9c179e"
            ],
            [
             0.4444444444444444,
             "#bd3786"
            ],
            [
             0.5555555555555556,
             "#d8576b"
            ],
            [
             0.6666666666666666,
             "#ed7953"
            ],
            [
             0.7777777777777778,
             "#fb9f3a"
            ],
            [
             0.8888888888888888,
             "#fdca26"
            ],
            [
             1,
             "#f0f921"
            ]
           ]
          },
          "colorway": [
           "#636efa",
           "#EF553B",
           "#00cc96",
           "#ab63fa",
           "#FFA15A",
           "#19d3f3",
           "#FF6692",
           "#B6E880",
           "#FF97FF",
           "#FECB52"
          ],
          "font": {
           "color": "#2a3f5f"
          },
          "geo": {
           "bgcolor": "white",
           "lakecolor": "white",
           "landcolor": "#E5ECF6",
           "showlakes": true,
           "showland": true,
           "subunitcolor": "white"
          },
          "hoverlabel": {
           "align": "left"
          },
          "hovermode": "closest",
          "mapbox": {
           "style": "light"
          },
          "paper_bgcolor": "white",
          "plot_bgcolor": "#E5ECF6",
          "polar": {
           "angularaxis": {
            "gridcolor": "white",
            "linecolor": "white",
            "ticks": ""
           },
           "bgcolor": "#E5ECF6",
           "radialaxis": {
            "gridcolor": "white",
            "linecolor": "white",
            "ticks": ""
           }
          },
          "scene": {
           "xaxis": {
            "backgroundcolor": "#E5ECF6",
            "gridcolor": "white",
            "gridwidth": 2,
            "linecolor": "white",
            "showbackground": true,
            "ticks": "",
            "zerolinecolor": "white"
           },
           "yaxis": {
            "backgroundcolor": "#E5ECF6",
            "gridcolor": "white",
            "gridwidth": 2,
            "linecolor": "white",
            "showbackground": true,
            "ticks": "",
            "zerolinecolor": "white"
           },
           "zaxis": {
            "backgroundcolor": "#E5ECF6",
            "gridcolor": "white",
            "gridwidth": 2,
            "linecolor": "white",
            "showbackground": true,
            "ticks": "",
            "zerolinecolor": "white"
           }
          },
          "shapedefaults": {
           "line": {
            "color": "#2a3f5f"
           }
          },
          "ternary": {
           "aaxis": {
            "gridcolor": "white",
            "linecolor": "white",
            "ticks": ""
           },
           "baxis": {
            "gridcolor": "white",
            "linecolor": "white",
            "ticks": ""
           },
           "bgcolor": "#E5ECF6",
           "caxis": {
            "gridcolor": "white",
            "linecolor": "white",
            "ticks": ""
           }
          },
          "title": {
           "x": 0.05
          },
          "xaxis": {
           "automargin": true,
           "gridcolor": "white",
           "linecolor": "white",
           "ticks": "",
           "title": {
            "standoff": 15
           },
           "zerolinecolor": "white",
           "zerolinewidth": 2
          },
          "yaxis": {
           "automargin": true,
           "gridcolor": "white",
           "linecolor": "white",
           "ticks": "",
           "title": {
            "standoff": 15
           },
           "zerolinecolor": "white",
           "zerolinewidth": 2
          }
         }
        },
        "title": {
         "text": "Chile"
        },
        "xaxis": {
         "anchor": "y",
         "domain": [
          0,
          1
         ],
         "title": {
          "text": "show_dt"
         }
        },
        "yaxis": {
         "anchor": "x",
         "domain": [
          0,
          1
         ],
         "title": {
          "text": "approve_flag"
         }
        }
       }
      }
     },
     "metadata": {},
     "output_type": "display_data"
    },
    {
     "data": {
      "application/vnd.plotly.v1+json": {
       "config": {
        "plotlyServerURL": "https://plot.ly"
       },
       "data": [
        {
         "hovertemplate": "os_name=ios<br>show_dt=%{x}<br>approve_flag=%{y}<extra></extra>",
         "legendgroup": "ios",
         "line": {
          "color": "#636efa",
          "dash": "solid"
         },
         "marker": {
          "symbol": "circle"
         },
         "mode": "lines",
         "name": "ios",
         "orientation": "v",
         "showlegend": true,
         "type": "scatter",
         "x": [
          "2024-12-12T21:30:00+00:00",
          "2025-01-19T18:30:00+00:00",
          "2025-02-01T23:30:00+00:00",
          "2025-02-20T02:00:00+00:00",
          "2025-02-22T17:30:00+00:00",
          "2025-02-28T01:30:00+00:00",
          "2025-03-30T09:00:00+00:00",
          "2025-04-05T05:00:00+00:00",
          "2025-04-06T23:00:00+00:00",
          "2025-04-08T20:30:00+00:00",
          "2025-04-10T11:30:00+00:00",
          "2025-04-10T21:30:00+00:00",
          "2025-04-12T13:30:00+00:00",
          "2025-04-16T22:00:00+00:00",
          "2025-04-18T19:00:00+00:00",
          "2025-04-19T22:30:00+00:00",
          "2025-04-22T21:30:00+00:00",
          "2025-04-23T12:30:00+00:00",
          "2025-04-23T17:00:00+00:00",
          "2025-04-23T23:30:00+00:00",
          "2025-04-24T13:00:00+00:00",
          "2025-04-25T20:30:00+00:00",
          "2025-04-25T23:00:00+00:00",
          "2025-04-27T15:30:00+00:00",
          "2025-04-27T20:00:00+00:00",
          "2025-04-28T10:30:00+00:00",
          "2025-04-29T10:30:00+00:00",
          "2025-04-29T11:30:00+00:00",
          "2025-04-30T00:00:00+00:00",
          "2025-04-30T05:00:00+00:00",
          "2025-04-30T12:00:00+00:00",
          "2025-04-30T18:00:00+00:00",
          "2025-04-30T22:30:00+00:00",
          "2025-05-01T01:00:00+00:00",
          "2025-05-01T01:30:00+00:00",
          "2025-05-01T22:00:00+00:00",
          "2025-05-02T17:00:00+00:00",
          "2025-05-02T20:00:00+00:00",
          "2025-05-02T20:30:00+00:00",
          "2025-05-03T20:30:00+00:00",
          "2025-05-03T22:00:00+00:00",
          "2025-05-04T09:30:00+00:00",
          "2025-05-04T12:30:00+00:00",
          "2025-05-04T19:30:00+00:00",
          "2025-05-05T01:00:00+00:00",
          "2025-05-05T16:00:00+00:00",
          "2025-05-05T18:30:00+00:00",
          "2025-05-05T20:30:00+00:00",
          "2025-05-05T23:00:00+00:00",
          "2025-05-06T00:30:00+00:00",
          "2025-05-06T12:00:00+00:00",
          "2025-05-06T20:30:00+00:00",
          "2025-05-07T12:00:00+00:00",
          "2025-05-07T14:30:00+00:00",
          "2025-05-07T21:30:00+00:00",
          "2025-05-08T00:30:00+00:00",
          "2025-05-08T04:30:00+00:00",
          "2025-05-08T12:30:00+00:00",
          "2025-05-08T19:00:00+00:00",
          "2025-05-08T20:30:00+00:00",
          "2025-05-08T21:00:00+00:00",
          "2025-05-08T22:00:00+00:00",
          "2025-05-08T22:30:00+00:00",
          "2025-05-08T23:30:00+00:00",
          "2025-05-09T16:00:00+00:00",
          "2025-05-09T19:30:00+00:00",
          "2025-05-09T22:00:00+00:00",
          "2025-05-10T18:30:00+00:00",
          "2025-05-10T19:00:00+00:00",
          "2025-05-10T21:00:00+00:00",
          "2025-05-11T03:30:00+00:00",
          "2025-05-11T16:30:00+00:00",
          "2025-05-11T18:00:00+00:00",
          "2025-05-11T22:30:00+00:00",
          "2025-05-12T01:00:00+00:00",
          "2025-05-12T03:30:00+00:00",
          "2025-05-12T11:30:00+00:00",
          "2025-05-13T05:00:00+00:00",
          "2025-05-13T10:30:00+00:00",
          "2025-05-13T12:30:00+00:00",
          "2025-05-13T19:30:00+00:00",
          "2025-05-13T21:30:00+00:00",
          "2025-05-14T03:00:00+00:00",
          "2025-05-14T12:30:00+00:00",
          "2025-05-14T13:00:00+00:00",
          "2025-05-14T19:30:00+00:00",
          "2025-05-14T20:30:00+00:00",
          "2025-05-14T22:00:00+00:00",
          "2025-05-15T01:00:00+00:00",
          "2025-05-15T11:30:00+00:00",
          "2025-05-15T12:00:00+00:00",
          "2025-05-15T12:30:00+00:00",
          "2025-05-15T18:30:00+00:00",
          "2025-05-15T19:00:00+00:00",
          "2025-05-15T21:30:00+00:00",
          "2025-05-15T22:00:00+00:00",
          "2025-05-15T23:00:00+00:00",
          "2025-05-15T23:30:00+00:00",
          "2025-05-16T00:30:00+00:00",
          "2025-05-16T02:30:00+00:00",
          "2025-05-16T04:00:00+00:00",
          "2025-05-16T06:00:00+00:00",
          "2025-05-16T10:30:00+00:00",
          "2025-05-16T11:30:00+00:00",
          "2025-05-16T13:30:00+00:00",
          "2025-05-16T14:00:00+00:00",
          "2025-05-16T15:30:00+00:00",
          "2025-05-16T17:00:00+00:00",
          "2025-05-16T20:30:00+00:00",
          "2025-05-16T21:00:00+00:00",
          "2025-05-16T22:00:00+00:00",
          "2025-05-16T22:30:00+00:00",
          "2025-05-17T00:00:00+00:00",
          "2025-05-17T01:00:00+00:00",
          "2025-05-17T02:30:00+00:00",
          "2025-05-17T03:30:00+00:00",
          "2025-05-17T04:30:00+00:00",
          "2025-05-17T07:00:00+00:00",
          "2025-05-17T08:30:00+00:00",
          "2025-05-17T11:30:00+00:00",
          "2025-05-17T14:00:00+00:00",
          "2025-05-17T15:00:00+00:00",
          "2025-05-17T16:00:00+00:00",
          "2025-05-17T16:30:00+00:00",
          "2025-05-17T17:30:00+00:00",
          "2025-05-17T18:00:00+00:00",
          "2025-05-17T18:30:00+00:00",
          "2025-05-17T20:00:00+00:00",
          "2025-05-17T21:30:00+00:00",
          "2025-05-17T22:00:00+00:00",
          "2025-05-17T22:30:00+00:00",
          "2025-05-17T23:00:00+00:00",
          "2025-05-17T23:30:00+00:00",
          "2025-05-18T01:30:00+00:00",
          "2025-05-18T02:00:00+00:00",
          "2025-05-18T03:00:00+00:00",
          "2025-05-18T03:30:00+00:00",
          "2025-05-18T04:00:00+00:00",
          "2025-05-18T04:30:00+00:00",
          "2025-05-18T05:00:00+00:00",
          "2025-05-18T06:00:00+00:00",
          "2025-05-18T07:00:00+00:00",
          "2025-05-18T11:30:00+00:00",
          "2025-05-18T15:00:00+00:00",
          "2025-05-18T15:30:00+00:00",
          "2025-05-18T19:30:00+00:00",
          "2025-05-18T20:00:00+00:00",
          "2025-05-18T23:00:00+00:00",
          "2025-05-19T00:30:00+00:00",
          "2025-05-19T01:00:00+00:00",
          "2025-05-19T02:00:00+00:00",
          "2025-05-19T05:00:00+00:00",
          "2025-05-19T11:30:00+00:00",
          "2025-05-19T12:30:00+00:00",
          "2025-05-19T13:30:00+00:00",
          "2025-05-19T15:00:00+00:00",
          "2025-05-19T16:00:00+00:00",
          "2025-05-19T16:30:00+00:00",
          "2025-05-19T18:00:00+00:00",
          "2025-05-19T18:30:00+00:00",
          "2025-05-19T20:00:00+00:00",
          "2025-05-19T20:30:00+00:00",
          "2025-05-19T21:30:00+00:00",
          "2025-05-19T22:00:00+00:00",
          "2025-05-19T23:30:00+00:00",
          "2025-05-20T00:00:00+00:00",
          "2025-05-20T00:30:00+00:00",
          "2025-05-20T01:00:00+00:00",
          "2025-05-20T01:30:00+00:00",
          "2025-05-20T02:00:00+00:00",
          "2025-05-20T02:30:00+00:00",
          "2025-05-20T03:00:00+00:00",
          "2025-05-20T03:30:00+00:00",
          "2025-05-20T04:00:00+00:00",
          "2025-05-20T04:30:00+00:00",
          "2025-05-20T05:00:00+00:00",
          "2025-05-20T05:30:00+00:00",
          "2025-05-20T06:00:00+00:00",
          "2025-05-20T06:30:00+00:00",
          "2025-05-20T07:00:00+00:00",
          "2025-05-20T07:30:00+00:00",
          "2025-05-20T08:00:00+00:00",
          "2025-05-20T08:30:00+00:00",
          "2025-05-20T09:00:00+00:00",
          "2025-05-20T09:30:00+00:00",
          "2025-05-20T10:00:00+00:00",
          "2025-05-20T10:30:00+00:00",
          "2025-05-20T11:00:00+00:00",
          "2025-05-20T11:30:00+00:00",
          "2025-05-20T12:00:00+00:00",
          "2025-05-20T12:30:00+00:00",
          "2025-05-20T13:00:00+00:00",
          "2025-05-20T13:30:00+00:00",
          "2025-05-20T14:00:00+00:00",
          "2025-05-20T14:30:00+00:00",
          "2025-05-20T15:00:00+00:00",
          "2025-05-20T15:30:00+00:00",
          "2025-05-20T16:00:00+00:00",
          "2025-05-20T16:30:00+00:00",
          "2025-05-20T17:00:00+00:00",
          "2025-05-20T17:30:00+00:00",
          "2025-05-20T18:00:00+00:00",
          "2025-05-20T18:30:00+00:00",
          "2025-05-20T19:00:00+00:00",
          "2025-05-20T19:30:00+00:00",
          "2025-05-20T20:00:00+00:00",
          "2025-05-20T20:30:00+00:00",
          "2025-05-20T21:00:00+00:00",
          "2025-05-20T21:30:00+00:00",
          "2025-05-20T22:00:00+00:00",
          "2025-05-20T22:30:00+00:00",
          "2025-05-20T23:00:00+00:00",
          "2025-05-20T23:30:00+00:00",
          "2025-05-21T00:00:00+00:00",
          "2025-05-21T00:30:00+00:00",
          "2025-05-21T01:00:00+00:00",
          "2025-05-21T01:30:00+00:00",
          "2025-05-21T02:00:00+00:00",
          "2025-05-21T02:30:00+00:00",
          "2025-05-21T03:00:00+00:00",
          "2025-05-21T03:30:00+00:00",
          "2025-05-21T04:00:00+00:00",
          "2025-05-21T04:30:00+00:00",
          "2025-05-21T05:00:00+00:00",
          "2025-05-21T05:30:00+00:00",
          "2025-05-21T06:00:00+00:00",
          "2025-05-21T06:30:00+00:00",
          "2025-05-21T07:00:00+00:00",
          "2025-05-21T07:30:00+00:00",
          "2025-05-21T08:00:00+00:00",
          "2025-05-21T08:30:00+00:00",
          "2025-05-21T09:00:00+00:00",
          "2025-05-21T09:30:00+00:00",
          "2025-05-21T10:00:00+00:00",
          "2025-05-21T10:30:00+00:00",
          "2025-05-21T11:00:00+00:00",
          "2025-05-21T11:30:00+00:00",
          "2025-05-21T12:00:00+00:00",
          "2025-05-21T12:30:00+00:00",
          "2025-05-21T13:00:00+00:00",
          "2025-05-21T13:30:00+00:00",
          "2025-05-21T14:00:00+00:00",
          "2025-05-21T14:30:00+00:00",
          "2025-05-21T15:00:00+00:00",
          "2025-05-21T15:30:00+00:00",
          "2025-05-21T16:00:00+00:00",
          "2025-05-21T16:30:00+00:00",
          "2025-05-21T17:00:00+00:00",
          "2025-05-21T17:30:00+00:00",
          "2025-05-21T18:00:00+00:00",
          "2025-05-21T18:30:00+00:00",
          "2025-05-21T19:00:00+00:00",
          "2025-05-21T19:30:00+00:00",
          "2025-05-21T20:00:00+00:00",
          "2025-05-21T20:30:00+00:00",
          "2025-05-21T21:00:00+00:00",
          "2025-05-21T21:30:00+00:00",
          "2025-05-21T22:00:00+00:00",
          "2025-05-21T22:30:00+00:00",
          "2025-05-21T23:00:00+00:00",
          "2025-05-21T23:30:00+00:00",
          "2025-05-22T00:00:00+00:00",
          "2025-05-22T00:30:00+00:00",
          "2025-05-22T01:00:00+00:00",
          "2025-05-22T01:30:00+00:00",
          "2025-05-22T02:00:00+00:00",
          "2025-05-22T02:30:00+00:00",
          "2025-05-22T03:00:00+00:00",
          "2025-05-22T03:30:00+00:00",
          "2025-05-22T04:00:00+00:00",
          "2025-05-22T04:30:00+00:00",
          "2025-05-22T05:00:00+00:00",
          "2025-05-22T05:30:00+00:00",
          "2025-05-22T06:00:00+00:00",
          "2025-05-22T06:30:00+00:00",
          "2025-05-22T07:00:00+00:00",
          "2025-05-22T07:30:00+00:00",
          "2025-05-22T08:00:00+00:00",
          "2025-05-22T08:30:00+00:00",
          "2025-05-22T09:00:00+00:00",
          "2025-05-22T09:30:00+00:00",
          "2025-05-22T10:00:00+00:00",
          "2025-05-22T10:30:00+00:00",
          "2025-05-22T11:00:00+00:00",
          "2025-05-22T11:30:00+00:00",
          "2025-05-22T12:00:00+00:00",
          "2025-05-22T12:30:00+00:00",
          "2025-05-22T13:00:00+00:00",
          "2025-05-22T13:30:00+00:00",
          "2025-05-22T14:00:00+00:00",
          "2025-05-22T14:30:00+00:00",
          "2025-05-22T15:00:00+00:00",
          "2025-05-22T15:30:00+00:00",
          "2025-05-22T16:00:00+00:00",
          "2025-05-22T16:30:00+00:00",
          "2025-05-22T17:00:00+00:00",
          "2025-05-22T17:30:00+00:00",
          "2025-05-22T18:00:00+00:00",
          "2025-05-22T18:30:00+00:00",
          "2025-05-22T19:00:00+00:00",
          "2025-05-22T19:30:00+00:00",
          "2025-05-22T20:00:00+00:00",
          "2025-05-22T20:30:00+00:00",
          "2025-05-22T21:00:00+00:00",
          "2025-05-22T21:30:00+00:00",
          "2025-05-22T22:00:00+00:00",
          "2025-05-22T22:30:00+00:00",
          "2025-05-22T23:00:00+00:00",
          "2025-05-22T23:30:00+00:00",
          "2025-05-23T01:30:00+00:00"
         ],
         "xaxis": "x",
         "y": [
          0,
          1,
          1,
          0,
          1,
          1,
          0,
          0,
          1,
          1,
          0,
          0,
          0,
          1,
          1,
          0,
          0,
          0,
          0,
          0,
          1,
          0,
          1,
          1,
          0,
          0,
          1,
          0,
          1,
          0,
          0,
          0,
          0,
          0,
          0,
          0,
          0,
          1,
          0,
          0,
          0,
          1,
          1,
          0,
          1,
          0,
          0,
          0,
          0,
          0,
          0,
          1,
          1,
          1,
          0,
          1,
          0,
          0,
          0,
          0,
          0,
          1,
          0,
          1,
          1,
          1,
          0,
          0,
          0,
          0,
          0,
          0,
          0,
          1,
          1,
          0,
          0,
          1,
          0,
          0,
          1,
          0,
          1,
          0,
          0,
          0,
          0,
          1,
          0,
          1,
          0,
          0,
          0,
          0,
          0,
          1,
          1,
          0,
          0,
          1,
          0,
          1,
          0,
          0,
          1,
          0,
          0,
          2,
          0,
          0,
          0,
          0,
          0,
          0,
          0,
          0,
          0,
          0,
          0,
          0,
          0,
          1,
          1,
          1,
          1,
          1,
          0,
          0,
          1,
          0,
          0,
          0,
          0,
          0,
          1,
          0,
          1,
          0,
          1,
          0,
          1,
          0,
          0,
          0,
          1,
          1,
          0,
          1,
          0,
          0,
          1,
          0,
          1,
          1,
          2,
          0,
          0,
          1,
          0,
          2,
          0,
          1,
          0,
          1,
          1,
          73,
          61,
          71,
          77,
          72,
          68,
          68,
          53,
          55,
          42,
          21,
          27,
          14,
          7,
          11,
          8,
          9,
          9,
          17,
          30,
          38,
          83,
          85,
          119,
          133,
          143,
          104,
          85,
          76,
          84,
          78,
          69,
          58,
          71,
          81,
          74,
          87,
          95,
          95,
          77,
          90,
          100,
          104,
          101,
          119,
          111,
          107,
          79,
          72,
          68,
          65,
          65,
          64,
          57,
          35,
          34,
          37,
          15,
          24,
          13,
          12,
          12,
          6,
          8,
          10,
          10,
          13,
          19,
          25,
          52,
          72,
          80,
          100,
          100,
          88,
          73,
          62,
          107,
          71,
          89,
          70,
          86,
          83,
          101,
          104,
          105,
          94,
          70,
          99,
          91,
          104,
          108,
          111,
          104,
          99,
          91,
          84,
          125,
          111,
          77,
          87,
          65,
          67,
          49,
          46,
          37,
          23,
          17,
          12,
          18,
          9,
          10,
          6,
          10,
          12,
          12,
          29,
          48,
          77,
          61,
          90,
          97,
          79,
          92,
          98,
          69,
          76,
          70,
          66,
          80,
          96,
          100,
          104,
          101,
          88,
          95,
          113,
          87,
          102,
          111,
          116,
          100,
          97,
          64,
          1
         ],
         "yaxis": "y"
        },
        {
         "hovertemplate": "os_name=android<br>show_dt=%{x}<br>approve_flag=%{y}<extra></extra>",
         "legendgroup": "android",
         "line": {
          "color": "#EF553B",
          "dash": "solid"
         },
         "marker": {
          "symbol": "circle"
         },
         "mode": "lines",
         "name": "android",
         "orientation": "v",
         "showlegend": true,
         "type": "scatter",
         "x": [
          "2025-05-12T20:00:00+00:00",
          "2025-05-12T21:00:00+00:00",
          "2025-05-13T22:00:00+00:00",
          "2025-05-14T17:00:00+00:00",
          "2025-05-14T17:30:00+00:00",
          "2025-05-14T23:30:00+00:00",
          "2025-05-15T01:30:00+00:00",
          "2025-05-15T15:00:00+00:00",
          "2025-05-15T15:30:00+00:00",
          "2025-05-15T20:30:00+00:00",
          "2025-05-15T21:30:00+00:00",
          "2025-05-15T22:30:00+00:00",
          "2025-05-15T23:00:00+00:00",
          "2025-05-16T00:00:00+00:00",
          "2025-05-16T03:00:00+00:00",
          "2025-05-16T05:30:00+00:00",
          "2025-05-16T10:30:00+00:00",
          "2025-05-16T16:30:00+00:00",
          "2025-05-16T17:30:00+00:00",
          "2025-05-16T18:00:00+00:00",
          "2025-05-16T19:00:00+00:00",
          "2025-05-17T01:00:00+00:00",
          "2025-05-17T02:00:00+00:00",
          "2025-05-17T02:30:00+00:00",
          "2025-05-17T03:30:00+00:00",
          "2025-05-17T07:00:00+00:00",
          "2025-05-17T08:00:00+00:00",
          "2025-05-17T09:30:00+00:00",
          "2025-05-17T12:30:00+00:00",
          "2025-05-17T13:00:00+00:00",
          "2025-05-17T14:30:00+00:00",
          "2025-05-17T17:00:00+00:00",
          "2025-05-17T17:30:00+00:00",
          "2025-05-17T18:30:00+00:00",
          "2025-05-17T19:00:00+00:00",
          "2025-05-17T19:30:00+00:00",
          "2025-05-17T22:00:00+00:00",
          "2025-05-17T23:30:00+00:00",
          "2025-05-18T01:00:00+00:00",
          "2025-05-18T03:00:00+00:00",
          "2025-05-18T04:30:00+00:00",
          "2025-05-18T05:30:00+00:00",
          "2025-05-18T11:30:00+00:00",
          "2025-05-18T14:00:00+00:00",
          "2025-05-18T14:30:00+00:00",
          "2025-05-18T15:00:00+00:00",
          "2025-05-18T16:30:00+00:00",
          "2025-05-18T17:00:00+00:00",
          "2025-05-18T18:00:00+00:00",
          "2025-05-18T18:30:00+00:00",
          "2025-05-18T20:00:00+00:00",
          "2025-05-18T21:00:00+00:00",
          "2025-05-18T21:30:00+00:00",
          "2025-05-18T22:00:00+00:00",
          "2025-05-18T22:30:00+00:00",
          "2025-05-18T23:00:00+00:00",
          "2025-05-19T00:00:00+00:00",
          "2025-05-19T01:00:00+00:00",
          "2025-05-19T01:30:00+00:00",
          "2025-05-19T03:00:00+00:00",
          "2025-05-19T03:30:00+00:00",
          "2025-05-19T06:00:00+00:00",
          "2025-05-19T10:30:00+00:00",
          "2025-05-19T11:00:00+00:00",
          "2025-05-19T11:30:00+00:00",
          "2025-05-19T12:00:00+00:00",
          "2025-05-19T12:30:00+00:00",
          "2025-05-19T13:30:00+00:00",
          "2025-05-19T14:00:00+00:00",
          "2025-05-19T14:30:00+00:00",
          "2025-05-19T15:00:00+00:00",
          "2025-05-19T15:30:00+00:00",
          "2025-05-19T17:30:00+00:00",
          "2025-05-19T18:00:00+00:00",
          "2025-05-19T18:30:00+00:00",
          "2025-05-19T19:00:00+00:00",
          "2025-05-19T19:30:00+00:00",
          "2025-05-19T20:00:00+00:00",
          "2025-05-19T20:30:00+00:00",
          "2025-05-19T21:00:00+00:00",
          "2025-05-19T22:00:00+00:00",
          "2025-05-19T22:30:00+00:00",
          "2025-05-19T23:00:00+00:00",
          "2025-05-19T23:30:00+00:00",
          "2025-05-20T00:00:00+00:00",
          "2025-05-20T00:30:00+00:00",
          "2025-05-20T01:00:00+00:00",
          "2025-05-20T01:30:00+00:00",
          "2025-05-20T02:00:00+00:00",
          "2025-05-20T02:30:00+00:00",
          "2025-05-20T03:00:00+00:00",
          "2025-05-20T03:30:00+00:00",
          "2025-05-20T04:00:00+00:00",
          "2025-05-20T04:30:00+00:00",
          "2025-05-20T05:00:00+00:00",
          "2025-05-20T05:30:00+00:00",
          "2025-05-20T06:00:00+00:00",
          "2025-05-20T06:30:00+00:00",
          "2025-05-20T07:00:00+00:00",
          "2025-05-20T07:30:00+00:00",
          "2025-05-20T08:00:00+00:00",
          "2025-05-20T08:30:00+00:00",
          "2025-05-20T09:00:00+00:00",
          "2025-05-20T09:30:00+00:00",
          "2025-05-20T10:00:00+00:00",
          "2025-05-20T10:30:00+00:00",
          "2025-05-20T11:00:00+00:00",
          "2025-05-20T11:30:00+00:00",
          "2025-05-20T12:00:00+00:00",
          "2025-05-20T12:30:00+00:00",
          "2025-05-20T13:00:00+00:00",
          "2025-05-20T13:30:00+00:00",
          "2025-05-20T14:00:00+00:00",
          "2025-05-20T14:30:00+00:00",
          "2025-05-20T15:00:00+00:00",
          "2025-05-20T15:30:00+00:00",
          "2025-05-20T16:00:00+00:00",
          "2025-05-20T16:30:00+00:00",
          "2025-05-20T17:00:00+00:00",
          "2025-05-20T17:30:00+00:00",
          "2025-05-20T18:00:00+00:00",
          "2025-05-20T18:30:00+00:00",
          "2025-05-20T19:00:00+00:00",
          "2025-05-20T19:30:00+00:00",
          "2025-05-20T20:00:00+00:00",
          "2025-05-20T20:30:00+00:00",
          "2025-05-20T21:00:00+00:00",
          "2025-05-20T21:30:00+00:00",
          "2025-05-20T22:00:00+00:00",
          "2025-05-20T22:30:00+00:00",
          "2025-05-20T23:00:00+00:00",
          "2025-05-20T23:30:00+00:00",
          "2025-05-21T00:00:00+00:00",
          "2025-05-21T00:30:00+00:00",
          "2025-05-21T01:00:00+00:00",
          "2025-05-21T01:30:00+00:00",
          "2025-05-21T02:00:00+00:00",
          "2025-05-21T02:30:00+00:00",
          "2025-05-21T03:00:00+00:00",
          "2025-05-21T03:30:00+00:00",
          "2025-05-21T04:00:00+00:00",
          "2025-05-21T04:30:00+00:00",
          "2025-05-21T05:00:00+00:00",
          "2025-05-21T05:30:00+00:00",
          "2025-05-21T06:00:00+00:00",
          "2025-05-21T06:30:00+00:00",
          "2025-05-21T07:00:00+00:00",
          "2025-05-21T07:30:00+00:00",
          "2025-05-21T08:00:00+00:00",
          "2025-05-21T08:30:00+00:00",
          "2025-05-21T09:00:00+00:00",
          "2025-05-21T09:30:00+00:00",
          "2025-05-21T10:00:00+00:00",
          "2025-05-21T10:30:00+00:00",
          "2025-05-21T11:00:00+00:00",
          "2025-05-21T11:30:00+00:00",
          "2025-05-21T12:00:00+00:00",
          "2025-05-21T12:30:00+00:00",
          "2025-05-21T13:00:00+00:00",
          "2025-05-21T13:30:00+00:00",
          "2025-05-21T14:00:00+00:00",
          "2025-05-21T14:30:00+00:00",
          "2025-05-21T15:00:00+00:00",
          "2025-05-21T15:30:00+00:00",
          "2025-05-21T16:00:00+00:00",
          "2025-05-21T16:30:00+00:00",
          "2025-05-21T17:00:00+00:00",
          "2025-05-21T17:30:00+00:00",
          "2025-05-21T18:00:00+00:00",
          "2025-05-21T18:30:00+00:00",
          "2025-05-21T19:00:00+00:00",
          "2025-05-21T19:30:00+00:00",
          "2025-05-21T20:00:00+00:00",
          "2025-05-21T20:30:00+00:00",
          "2025-05-21T21:00:00+00:00",
          "2025-05-21T21:30:00+00:00",
          "2025-05-21T22:00:00+00:00",
          "2025-05-21T22:30:00+00:00",
          "2025-05-21T23:00:00+00:00",
          "2025-05-21T23:30:00+00:00",
          "2025-05-22T00:00:00+00:00",
          "2025-05-22T00:30:00+00:00",
          "2025-05-22T01:00:00+00:00",
          "2025-05-22T01:30:00+00:00",
          "2025-05-22T02:00:00+00:00",
          "2025-05-22T02:30:00+00:00",
          "2025-05-22T03:00:00+00:00",
          "2025-05-22T03:30:00+00:00",
          "2025-05-22T04:00:00+00:00",
          "2025-05-22T04:30:00+00:00",
          "2025-05-22T05:00:00+00:00",
          "2025-05-22T05:30:00+00:00",
          "2025-05-22T06:00:00+00:00",
          "2025-05-22T06:30:00+00:00",
          "2025-05-22T07:00:00+00:00",
          "2025-05-22T07:30:00+00:00",
          "2025-05-22T08:00:00+00:00",
          "2025-05-22T08:30:00+00:00",
          "2025-05-22T09:00:00+00:00",
          "2025-05-22T09:30:00+00:00",
          "2025-05-22T10:00:00+00:00",
          "2025-05-22T10:30:00+00:00",
          "2025-05-22T11:00:00+00:00",
          "2025-05-22T11:30:00+00:00",
          "2025-05-22T12:00:00+00:00",
          "2025-05-22T12:30:00+00:00",
          "2025-05-22T13:00:00+00:00",
          "2025-05-22T13:30:00+00:00",
          "2025-05-22T14:00:00+00:00",
          "2025-05-22T14:30:00+00:00",
          "2025-05-22T15:00:00+00:00",
          "2025-05-22T15:30:00+00:00",
          "2025-05-22T16:00:00+00:00",
          "2025-05-22T16:30:00+00:00",
          "2025-05-22T17:00:00+00:00",
          "2025-05-22T17:30:00+00:00",
          "2025-05-22T18:00:00+00:00",
          "2025-05-22T18:30:00+00:00",
          "2025-05-22T19:00:00+00:00",
          "2025-05-22T19:30:00+00:00",
          "2025-05-22T20:00:00+00:00",
          "2025-05-22T20:30:00+00:00",
          "2025-05-22T21:00:00+00:00",
          "2025-05-22T21:30:00+00:00",
          "2025-05-22T22:00:00+00:00",
          "2025-05-22T22:30:00+00:00",
          "2025-05-22T23:00:00+00:00",
          "2025-05-22T23:30:00+00:00"
         ],
         "xaxis": "x",
         "y": [
          0,
          1,
          1,
          1,
          0,
          1,
          0,
          1,
          0,
          0,
          1,
          0,
          1,
          1,
          2,
          1,
          0,
          1,
          0,
          1,
          1,
          1,
          0,
          1,
          1,
          0,
          0,
          1,
          1,
          1,
          0,
          1,
          0,
          2,
          1,
          1,
          0,
          1,
          0,
          2,
          0,
          1,
          1,
          1,
          0,
          0,
          1,
          1,
          1,
          2,
          1,
          0,
          0,
          0,
          0,
          2,
          1,
          0,
          2,
          0,
          2,
          0,
          0,
          1,
          1,
          0,
          0,
          1,
          1,
          1,
          0,
          2,
          1,
          1,
          1,
          1,
          1,
          0,
          0,
          1,
          0,
          1,
          0,
          1,
          207,
          177,
          213,
          167,
          169,
          141,
          187,
          150,
          105,
          94,
          88,
          53,
          43,
          34,
          35,
          35,
          44,
          39,
          57,
          76,
          123,
          187,
          250,
          302,
          298,
          261,
          234,
          212,
          199,
          192,
          206,
          189,
          166,
          186,
          196,
          217,
          225,
          217,
          222,
          205,
          178,
          220,
          200,
          224,
          274,
          247,
          264,
          198,
          196,
          174,
          160,
          159,
          141,
          123,
          113,
          90,
          84,
          73,
          60,
          51,
          39,
          32,
          27,
          28,
          26,
          35,
          37,
          57,
          99,
          128,
          158,
          167,
          183,
          200,
          200,
          178,
          182,
          217,
          185,
          190,
          163,
          169,
          189,
          205,
          202,
          230,
          242,
          221,
          230,
          231,
          222,
          234,
          265,
          231,
          227,
          211,
          184,
          209,
          183,
          202,
          181,
          173,
          132,
          91,
          99,
          87,
          56,
          42,
          44,
          33,
          26,
          20,
          30,
          16,
          40,
          57,
          73,
          121,
          153,
          181,
          155,
          227,
          192,
          202,
          193,
          188,
          202,
          177,
          190,
          187,
          217,
          232,
          237,
          239,
          224,
          213,
          195,
          204,
          207,
          245,
          256,
          226,
          275,
          199
         ],
         "yaxis": "y"
        },
        {
         "hovertemplate": "os_name=Android<br>show_dt=%{x}<br>approve_flag=%{y}<extra></extra>",
         "legendgroup": "Android",
         "line": {
          "color": "#00cc96",
          "dash": "solid"
         },
         "marker": {
          "symbol": "circle"
         },
         "mode": "lines",
         "name": "Android",
         "orientation": "v",
         "showlegend": true,
         "type": "scatter",
         "x": [
          "2025-05-20T15:30:00+00:00",
          "2025-05-21T12:30:00+00:00",
          "2025-05-22T15:30:00+00:00"
         ],
         "xaxis": "x",
         "y": [
          0,
          0,
          0
         ],
         "yaxis": "y"
        },
        {
         "hovertemplate": "os_name=ipados<br>show_dt=%{x}<br>approve_flag=%{y}<extra></extra>",
         "legendgroup": "ipados",
         "line": {
          "color": "#ab63fa",
          "dash": "solid"
         },
         "marker": {
          "symbol": "circle"
         },
         "mode": "lines",
         "name": "ipados",
         "orientation": "v",
         "showlegend": true,
         "type": "scatter",
         "x": [
          "2025-05-20T18:30:00+00:00",
          "2025-05-20T21:30:00+00:00",
          "2025-05-21T00:30:00+00:00",
          "2025-05-21T03:30:00+00:00",
          "2025-05-21T11:30:00+00:00",
          "2025-05-22T10:00:00+00:00",
          "2025-05-22T12:30:00+00:00",
          "2025-05-22T21:00:00+00:00",
          "2025-05-22T23:30:00+00:00"
         ],
         "xaxis": "x",
         "y": [
          1,
          1,
          1,
          1,
          0,
          1,
          1,
          1,
          1
         ],
         "yaxis": "y"
        }
       ],
       "layout": {
        "legend": {
         "title": {
          "text": "os_name"
         },
         "tracegroupgap": 0
        },
        "shapes": [
         {
          "fillcolor": "lightgreen",
          "layer": "below",
          "line": {
           "width": 0
          },
          "opacity": 0.2,
          "type": "rect",
          "x0": "2025-05-22 00:00:00+00:00",
          "x1": "2025-05-23 00:00:00+00:00",
          "xref": "x",
          "y0": 0,
          "y1": 1,
          "yref": "y domain"
         }
        ],
        "template": {
         "data": {
          "bar": [
           {
            "error_x": {
             "color": "#2a3f5f"
            },
            "error_y": {
             "color": "#2a3f5f"
            },
            "marker": {
             "line": {
              "color": "#E5ECF6",
              "width": 0.5
             },
             "pattern": {
              "fillmode": "overlay",
              "size": 10,
              "solidity": 0.2
             }
            },
            "type": "bar"
           }
          ],
          "barpolar": [
           {
            "marker": {
             "line": {
              "color": "#E5ECF6",
              "width": 0.5
             },
             "pattern": {
              "fillmode": "overlay",
              "size": 10,
              "solidity": 0.2
             }
            },
            "type": "barpolar"
           }
          ],
          "carpet": [
           {
            "aaxis": {
             "endlinecolor": "#2a3f5f",
             "gridcolor": "white",
             "linecolor": "white",
             "minorgridcolor": "white",
             "startlinecolor": "#2a3f5f"
            },
            "baxis": {
             "endlinecolor": "#2a3f5f",
             "gridcolor": "white",
             "linecolor": "white",
             "minorgridcolor": "white",
             "startlinecolor": "#2a3f5f"
            },
            "type": "carpet"
           }
          ],
          "choropleth": [
           {
            "colorbar": {
             "outlinewidth": 0,
             "ticks": ""
            },
            "type": "choropleth"
           }
          ],
          "contour": [
           {
            "colorbar": {
             "outlinewidth": 0,
             "ticks": ""
            },
            "colorscale": [
             [
              0,
              "#0d0887"
             ],
             [
              0.1111111111111111,
              "#46039f"
             ],
             [
              0.2222222222222222,
              "#7201a8"
             ],
             [
              0.3333333333333333,
              "#9c179e"
             ],
             [
              0.4444444444444444,
              "#bd3786"
             ],
             [
              0.5555555555555556,
              "#d8576b"
             ],
             [
              0.6666666666666666,
              "#ed7953"
             ],
             [
              0.7777777777777778,
              "#fb9f3a"
             ],
             [
              0.8888888888888888,
              "#fdca26"
             ],
             [
              1,
              "#f0f921"
             ]
            ],
            "type": "contour"
           }
          ],
          "contourcarpet": [
           {
            "colorbar": {
             "outlinewidth": 0,
             "ticks": ""
            },
            "type": "contourcarpet"
           }
          ],
          "heatmap": [
           {
            "colorbar": {
             "outlinewidth": 0,
             "ticks": ""
            },
            "colorscale": [
             [
              0,
              "#0d0887"
             ],
             [
              0.1111111111111111,
              "#46039f"
             ],
             [
              0.2222222222222222,
              "#7201a8"
             ],
             [
              0.3333333333333333,
              "#9c179e"
             ],
             [
              0.4444444444444444,
              "#bd3786"
             ],
             [
              0.5555555555555556,
              "#d8576b"
             ],
             [
              0.6666666666666666,
              "#ed7953"
             ],
             [
              0.7777777777777778,
              "#fb9f3a"
             ],
             [
              0.8888888888888888,
              "#fdca26"
             ],
             [
              1,
              "#f0f921"
             ]
            ],
            "type": "heatmap"
           }
          ],
          "heatmapgl": [
           {
            "colorbar": {
             "outlinewidth": 0,
             "ticks": ""
            },
            "colorscale": [
             [
              0,
              "#0d0887"
             ],
             [
              0.1111111111111111,
              "#46039f"
             ],
             [
              0.2222222222222222,
              "#7201a8"
             ],
             [
              0.3333333333333333,
              "#9c179e"
             ],
             [
              0.4444444444444444,
              "#bd3786"
             ],
             [
              0.5555555555555556,
              "#d8576b"
             ],
             [
              0.6666666666666666,
              "#ed7953"
             ],
             [
              0.7777777777777778,
              "#fb9f3a"
             ],
             [
              0.8888888888888888,
              "#fdca26"
             ],
             [
              1,
              "#f0f921"
             ]
            ],
            "type": "heatmapgl"
           }
          ],
          "histogram": [
           {
            "marker": {
             "pattern": {
              "fillmode": "overlay",
              "size": 10,
              "solidity": 0.2
             }
            },
            "type": "histogram"
           }
          ],
          "histogram2d": [
           {
            "colorbar": {
             "outlinewidth": 0,
             "ticks": ""
            },
            "colorscale": [
             [
              0,
              "#0d0887"
             ],
             [
              0.1111111111111111,
              "#46039f"
             ],
             [
              0.2222222222222222,
              "#7201a8"
             ],
             [
              0.3333333333333333,
              "#9c179e"
             ],
             [
              0.4444444444444444,
              "#bd3786"
             ],
             [
              0.5555555555555556,
              "#d8576b"
             ],
             [
              0.6666666666666666,
              "#ed7953"
             ],
             [
              0.7777777777777778,
              "#fb9f3a"
             ],
             [
              0.8888888888888888,
              "#fdca26"
             ],
             [
              1,
              "#f0f921"
             ]
            ],
            "type": "histogram2d"
           }
          ],
          "histogram2dcontour": [
           {
            "colorbar": {
             "outlinewidth": 0,
             "ticks": ""
            },
            "colorscale": [
             [
              0,
              "#0d0887"
             ],
             [
              0.1111111111111111,
              "#46039f"
             ],
             [
              0.2222222222222222,
              "#7201a8"
             ],
             [
              0.3333333333333333,
              "#9c179e"
             ],
             [
              0.4444444444444444,
              "#bd3786"
             ],
             [
              0.5555555555555556,
              "#d8576b"
             ],
             [
              0.6666666666666666,
              "#ed7953"
             ],
             [
              0.7777777777777778,
              "#fb9f3a"
             ],
             [
              0.8888888888888888,
              "#fdca26"
             ],
             [
              1,
              "#f0f921"
             ]
            ],
            "type": "histogram2dcontour"
           }
          ],
          "mesh3d": [
           {
            "colorbar": {
             "outlinewidth": 0,
             "ticks": ""
            },
            "type": "mesh3d"
           }
          ],
          "parcoords": [
           {
            "line": {
             "colorbar": {
              "outlinewidth": 0,
              "ticks": ""
             }
            },
            "type": "parcoords"
           }
          ],
          "pie": [
           {
            "automargin": true,
            "type": "pie"
           }
          ],
          "scatter": [
           {
            "fillpattern": {
             "fillmode": "overlay",
             "size": 10,
             "solidity": 0.2
            },
            "type": "scatter"
           }
          ],
          "scatter3d": [
           {
            "line": {
             "colorbar": {
              "outlinewidth": 0,
              "ticks": ""
             }
            },
            "marker": {
             "colorbar": {
              "outlinewidth": 0,
              "ticks": ""
             }
            },
            "type": "scatter3d"
           }
          ],
          "scattercarpet": [
           {
            "marker": {
             "colorbar": {
              "outlinewidth": 0,
              "ticks": ""
             }
            },
            "type": "scattercarpet"
           }
          ],
          "scattergeo": [
           {
            "marker": {
             "colorbar": {
              "outlinewidth": 0,
              "ticks": ""
             }
            },
            "type": "scattergeo"
           }
          ],
          "scattergl": [
           {
            "marker": {
             "colorbar": {
              "outlinewidth": 0,
              "ticks": ""
             }
            },
            "type": "scattergl"
           }
          ],
          "scattermapbox": [
           {
            "marker": {
             "colorbar": {
              "outlinewidth": 0,
              "ticks": ""
             }
            },
            "type": "scattermapbox"
           }
          ],
          "scatterpolar": [
           {
            "marker": {
             "colorbar": {
              "outlinewidth": 0,
              "ticks": ""
             }
            },
            "type": "scatterpolar"
           }
          ],
          "scatterpolargl": [
           {
            "marker": {
             "colorbar": {
              "outlinewidth": 0,
              "ticks": ""
             }
            },
            "type": "scatterpolargl"
           }
          ],
          "scatterternary": [
           {
            "marker": {
             "colorbar": {
              "outlinewidth": 0,
              "ticks": ""
             }
            },
            "type": "scatterternary"
           }
          ],
          "surface": [
           {
            "colorbar": {
             "outlinewidth": 0,
             "ticks": ""
            },
            "colorscale": [
             [
              0,
              "#0d0887"
             ],
             [
              0.1111111111111111,
              "#46039f"
             ],
             [
              0.2222222222222222,
              "#7201a8"
             ],
             [
              0.3333333333333333,
              "#9c179e"
             ],
             [
              0.4444444444444444,
              "#bd3786"
             ],
             [
              0.5555555555555556,
              "#d8576b"
             ],
             [
              0.6666666666666666,
              "#ed7953"
             ],
             [
              0.7777777777777778,
              "#fb9f3a"
             ],
             [
              0.8888888888888888,
              "#fdca26"
             ],
             [
              1,
              "#f0f921"
             ]
            ],
            "type": "surface"
           }
          ],
          "table": [
           {
            "cells": {
             "fill": {
              "color": "#EBF0F8"
             },
             "line": {
              "color": "white"
             }
            },
            "header": {
             "fill": {
              "color": "#C8D4E3"
             },
             "line": {
              "color": "white"
             }
            },
            "type": "table"
           }
          ]
         },
         "layout": {
          "annotationdefaults": {
           "arrowcolor": "#2a3f5f",
           "arrowhead": 0,
           "arrowwidth": 1
          },
          "autotypenumbers": "strict",
          "coloraxis": {
           "colorbar": {
            "outlinewidth": 0,
            "ticks": ""
           }
          },
          "colorscale": {
           "diverging": [
            [
             0,
             "#8e0152"
            ],
            [
             0.1,
             "#c51b7d"
            ],
            [
             0.2,
             "#de77ae"
            ],
            [
             0.3,
             "#f1b6da"
            ],
            [
             0.4,
             "#fde0ef"
            ],
            [
             0.5,
             "#f7f7f7"
            ],
            [
             0.6,
             "#e6f5d0"
            ],
            [
             0.7,
             "#b8e186"
            ],
            [
             0.8,
             "#7fbc41"
            ],
            [
             0.9,
             "#4d9221"
            ],
            [
             1,
             "#276419"
            ]
           ],
           "sequential": [
            [
             0,
             "#0d0887"
            ],
            [
             0.1111111111111111,
             "#46039f"
            ],
            [
             0.2222222222222222,
             "#7201a8"
            ],
            [
             0.3333333333333333,
             "#9c179e"
            ],
            [
             0.4444444444444444,
             "#bd3786"
            ],
            [
             0.5555555555555556,
             "#d8576b"
            ],
            [
             0.6666666666666666,
             "#ed7953"
            ],
            [
             0.7777777777777778,
             "#fb9f3a"
            ],
            [
             0.8888888888888888,
             "#fdca26"
            ],
            [
             1,
             "#f0f921"
            ]
           ],
           "sequentialminus": [
            [
             0,
             "#0d0887"
            ],
            [
             0.1111111111111111,
             "#46039f"
            ],
            [
             0.2222222222222222,
             "#7201a8"
            ],
            [
             0.3333333333333333,
             "#9c179e"
            ],
            [
             0.4444444444444444,
             "#bd3786"
            ],
            [
             0.5555555555555556,
             "#d8576b"
            ],
            [
             0.6666666666666666,
             "#ed7953"
            ],
            [
             0.7777777777777778,
             "#fb9f3a"
            ],
            [
             0.8888888888888888,
             "#fdca26"
            ],
            [
             1,
             "#f0f921"
            ]
           ]
          },
          "colorway": [
           "#636efa",
           "#EF553B",
           "#00cc96",
           "#ab63fa",
           "#FFA15A",
           "#19d3f3",
           "#FF6692",
           "#B6E880",
           "#FF97FF",
           "#FECB52"
          ],
          "font": {
           "color": "#2a3f5f"
          },
          "geo": {
           "bgcolor": "white",
           "lakecolor": "white",
           "landcolor": "#E5ECF6",
           "showlakes": true,
           "showland": true,
           "subunitcolor": "white"
          },
          "hoverlabel": {
           "align": "left"
          },
          "hovermode": "closest",
          "mapbox": {
           "style": "light"
          },
          "paper_bgcolor": "white",
          "plot_bgcolor": "#E5ECF6",
          "polar": {
           "angularaxis": {
            "gridcolor": "white",
            "linecolor": "white",
            "ticks": ""
           },
           "bgcolor": "#E5ECF6",
           "radialaxis": {
            "gridcolor": "white",
            "linecolor": "white",
            "ticks": ""
           }
          },
          "scene": {
           "xaxis": {
            "backgroundcolor": "#E5ECF6",
            "gridcolor": "white",
            "gridwidth": 2,
            "linecolor": "white",
            "showbackground": true,
            "ticks": "",
            "zerolinecolor": "white"
           },
           "yaxis": {
            "backgroundcolor": "#E5ECF6",
            "gridcolor": "white",
            "gridwidth": 2,
            "linecolor": "white",
            "showbackground": true,
            "ticks": "",
            "zerolinecolor": "white"
           },
           "zaxis": {
            "backgroundcolor": "#E5ECF6",
            "gridcolor": "white",
            "gridwidth": 2,
            "linecolor": "white",
            "showbackground": true,
            "ticks": "",
            "zerolinecolor": "white"
           }
          },
          "shapedefaults": {
           "line": {
            "color": "#2a3f5f"
           }
          },
          "ternary": {
           "aaxis": {
            "gridcolor": "white",
            "linecolor": "white",
            "ticks": ""
           },
           "baxis": {
            "gridcolor": "white",
            "linecolor": "white",
            "ticks": ""
           },
           "bgcolor": "#E5ECF6",
           "caxis": {
            "gridcolor": "white",
            "linecolor": "white",
            "ticks": ""
           }
          },
          "title": {
           "x": 0.05
          },
          "xaxis": {
           "automargin": true,
           "gridcolor": "white",
           "linecolor": "white",
           "ticks": "",
           "title": {
            "standoff": 15
           },
           "zerolinecolor": "white",
           "zerolinewidth": 2
          },
          "yaxis": {
           "automargin": true,
           "gridcolor": "white",
           "linecolor": "white",
           "ticks": "",
           "title": {
            "standoff": 15
           },
           "zerolinecolor": "white",
           "zerolinewidth": 2
          }
         }
        },
        "title": {
         "text": "Colombia"
        },
        "xaxis": {
         "anchor": "y",
         "domain": [
          0,
          1
         ],
         "title": {
          "text": "show_dt"
         }
        },
        "yaxis": {
         "anchor": "x",
         "domain": [
          0,
          1
         ],
         "title": {
          "text": "approve_flag"
         }
        }
       }
      }
     },
     "metadata": {},
     "output_type": "display_data"
    },
    {
     "data": {
      "application/vnd.plotly.v1+json": {
       "config": {
        "plotlyServerURL": "https://plot.ly"
       },
       "data": [
        {
         "hovertemplate": "os_name=ios<br>show_dt=%{x}<br>approve_flag=%{y}<extra></extra>",
         "legendgroup": "ios",
         "line": {
          "color": "#636efa",
          "dash": "solid"
         },
         "marker": {
          "symbol": "circle"
         },
         "mode": "lines",
         "name": "ios",
         "orientation": "v",
         "showlegend": true,
         "type": "scatter",
         "x": [
          "2025-04-09T01:30:00+00:00",
          "2025-05-18T06:00:00+00:00",
          "2025-05-20T00:00:00+00:00",
          "2025-05-20T00:30:00+00:00",
          "2025-05-20T01:00:00+00:00",
          "2025-05-20T01:30:00+00:00",
          "2025-05-20T02:00:00+00:00",
          "2025-05-20T02:30:00+00:00",
          "2025-05-20T03:00:00+00:00",
          "2025-05-20T03:30:00+00:00",
          "2025-05-20T04:00:00+00:00",
          "2025-05-20T04:30:00+00:00",
          "2025-05-20T06:00:00+00:00",
          "2025-05-20T10:00:00+00:00",
          "2025-05-20T10:30:00+00:00",
          "2025-05-20T11:30:00+00:00",
          "2025-05-20T12:00:00+00:00",
          "2025-05-20T12:30:00+00:00",
          "2025-05-20T13:00:00+00:00",
          "2025-05-20T13:30:00+00:00",
          "2025-05-20T14:00:00+00:00",
          "2025-05-20T14:30:00+00:00",
          "2025-05-20T15:00:00+00:00",
          "2025-05-20T16:00:00+00:00",
          "2025-05-20T16:30:00+00:00",
          "2025-05-20T17:00:00+00:00",
          "2025-05-20T17:30:00+00:00",
          "2025-05-20T18:00:00+00:00",
          "2025-05-20T18:30:00+00:00",
          "2025-05-20T19:00:00+00:00",
          "2025-05-20T20:00:00+00:00",
          "2025-05-20T20:30:00+00:00",
          "2025-05-20T21:00:00+00:00",
          "2025-05-20T21:30:00+00:00",
          "2025-05-20T22:00:00+00:00",
          "2025-05-20T22:30:00+00:00",
          "2025-05-20T23:00:00+00:00",
          "2025-05-20T23:30:00+00:00",
          "2025-05-21T00:00:00+00:00",
          "2025-05-21T00:30:00+00:00",
          "2025-05-21T01:00:00+00:00",
          "2025-05-21T01:30:00+00:00",
          "2025-05-21T02:00:00+00:00",
          "2025-05-21T02:30:00+00:00",
          "2025-05-21T03:00:00+00:00",
          "2025-05-21T04:00:00+00:00",
          "2025-05-21T04:30:00+00:00",
          "2025-05-21T05:00:00+00:00",
          "2025-05-21T11:30:00+00:00",
          "2025-05-21T12:00:00+00:00",
          "2025-05-21T12:30:00+00:00",
          "2025-05-21T13:00:00+00:00",
          "2025-05-21T13:30:00+00:00",
          "2025-05-21T14:00:00+00:00",
          "2025-05-21T14:30:00+00:00",
          "2025-05-21T15:00:00+00:00",
          "2025-05-21T15:30:00+00:00",
          "2025-05-21T16:00:00+00:00",
          "2025-05-21T16:30:00+00:00",
          "2025-05-21T17:00:00+00:00",
          "2025-05-21T17:30:00+00:00",
          "2025-05-21T18:00:00+00:00",
          "2025-05-21T18:30:00+00:00",
          "2025-05-21T19:00:00+00:00",
          "2025-05-21T19:30:00+00:00",
          "2025-05-21T20:00:00+00:00",
          "2025-05-21T20:30:00+00:00",
          "2025-05-21T21:00:00+00:00",
          "2025-05-21T21:30:00+00:00",
          "2025-05-21T22:00:00+00:00",
          "2025-05-21T22:30:00+00:00",
          "2025-05-21T23:00:00+00:00",
          "2025-05-21T23:30:00+00:00",
          "2025-05-22T00:00:00+00:00",
          "2025-05-22T00:30:00+00:00",
          "2025-05-22T01:00:00+00:00",
          "2025-05-22T01:30:00+00:00",
          "2025-05-22T02:00:00+00:00",
          "2025-05-22T02:30:00+00:00",
          "2025-05-22T03:00:00+00:00",
          "2025-05-22T04:00:00+00:00",
          "2025-05-22T04:30:00+00:00",
          "2025-05-22T06:00:00+00:00",
          "2025-05-22T06:30:00+00:00",
          "2025-05-22T07:00:00+00:00",
          "2025-05-22T09:00:00+00:00",
          "2025-05-22T11:30:00+00:00",
          "2025-05-22T12:00:00+00:00",
          "2025-05-22T12:30:00+00:00",
          "2025-05-22T13:00:00+00:00",
          "2025-05-22T13:30:00+00:00",
          "2025-05-22T14:00:00+00:00",
          "2025-05-22T14:30:00+00:00",
          "2025-05-22T15:00:00+00:00",
          "2025-05-22T15:30:00+00:00",
          "2025-05-22T16:00:00+00:00",
          "2025-05-22T16:30:00+00:00",
          "2025-05-22T17:00:00+00:00",
          "2025-05-22T17:30:00+00:00",
          "2025-05-22T18:00:00+00:00",
          "2025-05-22T18:30:00+00:00",
          "2025-05-22T19:00:00+00:00",
          "2025-05-22T19:30:00+00:00",
          "2025-05-22T20:00:00+00:00",
          "2025-05-22T20:30:00+00:00",
          "2025-05-22T21:00:00+00:00",
          "2025-05-22T21:30:00+00:00",
          "2025-05-22T22:00:00+00:00",
          "2025-05-22T22:30:00+00:00",
          "2025-05-22T23:00:00+00:00",
          "2025-05-22T23:30:00+00:00"
         ],
         "xaxis": "x",
         "y": [
          1,
          0,
          7,
          3,
          6,
          2,
          1,
          1,
          0,
          1,
          0,
          2,
          1,
          1,
          1,
          2,
          1,
          3,
          2,
          4,
          3,
          8,
          2,
          6,
          4,
          4,
          2,
          5,
          1,
          1,
          2,
          4,
          5,
          3,
          4,
          2,
          1,
          2,
          3,
          2,
          3,
          2,
          2,
          3,
          1,
          1,
          1,
          1,
          0,
          2,
          3,
          1,
          5,
          4,
          6,
          1,
          3,
          2,
          4,
          0,
          1,
          1,
          2,
          1,
          5,
          2,
          3,
          1,
          7,
          3,
          5,
          2,
          4,
          5,
          0,
          2,
          1,
          2,
          1,
          2,
          2,
          1,
          1,
          2,
          1,
          1,
          1,
          3,
          2,
          2,
          1,
          4,
          4,
          3,
          4,
          3,
          1,
          3,
          1,
          6,
          2,
          4,
          1,
          5,
          3,
          1,
          3,
          3,
          8,
          3,
          6
         ],
         "yaxis": "y"
        },
        {
         "hovertemplate": "os_name=android<br>show_dt=%{x}<br>approve_flag=%{y}<extra></extra>",
         "legendgroup": "android",
         "line": {
          "color": "#EF553B",
          "dash": "solid"
         },
         "marker": {
          "symbol": "circle"
         },
         "mode": "lines",
         "name": "android",
         "orientation": "v",
         "showlegend": true,
         "type": "scatter",
         "x": [
          "2025-05-17T12:30:00+00:00",
          "2025-05-17T17:00:00+00:00",
          "2025-05-20T00:00:00+00:00",
          "2025-05-20T00:30:00+00:00",
          "2025-05-20T01:00:00+00:00",
          "2025-05-20T01:30:00+00:00",
          "2025-05-20T02:00:00+00:00",
          "2025-05-20T02:30:00+00:00",
          "2025-05-20T03:00:00+00:00",
          "2025-05-20T03:30:00+00:00",
          "2025-05-20T04:00:00+00:00",
          "2025-05-20T04:30:00+00:00",
          "2025-05-20T05:00:00+00:00",
          "2025-05-20T05:30:00+00:00",
          "2025-05-20T06:00:00+00:00",
          "2025-05-20T10:30:00+00:00",
          "2025-05-20T11:00:00+00:00",
          "2025-05-20T11:30:00+00:00",
          "2025-05-20T12:00:00+00:00",
          "2025-05-20T12:30:00+00:00",
          "2025-05-20T13:00:00+00:00",
          "2025-05-20T13:30:00+00:00",
          "2025-05-20T14:00:00+00:00",
          "2025-05-20T14:30:00+00:00",
          "2025-05-20T15:00:00+00:00",
          "2025-05-20T15:30:00+00:00",
          "2025-05-20T16:00:00+00:00",
          "2025-05-20T16:30:00+00:00",
          "2025-05-20T17:00:00+00:00",
          "2025-05-20T17:30:00+00:00",
          "2025-05-20T18:00:00+00:00",
          "2025-05-20T18:30:00+00:00",
          "2025-05-20T19:00:00+00:00",
          "2025-05-20T19:30:00+00:00",
          "2025-05-20T20:00:00+00:00",
          "2025-05-20T20:30:00+00:00",
          "2025-05-20T21:00:00+00:00",
          "2025-05-20T21:30:00+00:00",
          "2025-05-20T22:00:00+00:00",
          "2025-05-20T22:30:00+00:00",
          "2025-05-20T23:00:00+00:00",
          "2025-05-20T23:30:00+00:00",
          "2025-05-21T00:00:00+00:00",
          "2025-05-21T00:30:00+00:00",
          "2025-05-21T01:00:00+00:00",
          "2025-05-21T01:30:00+00:00",
          "2025-05-21T02:00:00+00:00",
          "2025-05-21T02:30:00+00:00",
          "2025-05-21T03:00:00+00:00",
          "2025-05-21T03:30:00+00:00",
          "2025-05-21T04:00:00+00:00",
          "2025-05-21T05:00:00+00:00",
          "2025-05-21T06:00:00+00:00",
          "2025-05-21T06:30:00+00:00",
          "2025-05-21T07:00:00+00:00",
          "2025-05-21T07:30:00+00:00",
          "2025-05-21T08:00:00+00:00",
          "2025-05-21T08:30:00+00:00",
          "2025-05-21T09:30:00+00:00",
          "2025-05-21T10:00:00+00:00",
          "2025-05-21T11:00:00+00:00",
          "2025-05-21T11:30:00+00:00",
          "2025-05-21T12:00:00+00:00",
          "2025-05-21T12:30:00+00:00",
          "2025-05-21T13:00:00+00:00",
          "2025-05-21T13:30:00+00:00",
          "2025-05-21T14:00:00+00:00",
          "2025-05-21T14:30:00+00:00",
          "2025-05-21T15:00:00+00:00",
          "2025-05-21T15:30:00+00:00",
          "2025-05-21T16:00:00+00:00",
          "2025-05-21T16:30:00+00:00",
          "2025-05-21T17:00:00+00:00",
          "2025-05-21T17:30:00+00:00",
          "2025-05-21T18:00:00+00:00",
          "2025-05-21T18:30:00+00:00",
          "2025-05-21T19:00:00+00:00",
          "2025-05-21T19:30:00+00:00",
          "2025-05-21T20:00:00+00:00",
          "2025-05-21T20:30:00+00:00",
          "2025-05-21T21:00:00+00:00",
          "2025-05-21T21:30:00+00:00",
          "2025-05-21T22:00:00+00:00",
          "2025-05-21T22:30:00+00:00",
          "2025-05-21T23:00:00+00:00",
          "2025-05-21T23:30:00+00:00",
          "2025-05-22T00:00:00+00:00",
          "2025-05-22T00:30:00+00:00",
          "2025-05-22T01:00:00+00:00",
          "2025-05-22T01:30:00+00:00",
          "2025-05-22T02:00:00+00:00",
          "2025-05-22T02:30:00+00:00",
          "2025-05-22T03:00:00+00:00",
          "2025-05-22T03:30:00+00:00",
          "2025-05-22T04:00:00+00:00",
          "2025-05-22T04:30:00+00:00",
          "2025-05-22T05:00:00+00:00",
          "2025-05-22T05:30:00+00:00",
          "2025-05-22T06:00:00+00:00",
          "2025-05-22T06:30:00+00:00",
          "2025-05-22T07:00:00+00:00",
          "2025-05-22T07:30:00+00:00",
          "2025-05-22T08:00:00+00:00",
          "2025-05-22T08:30:00+00:00",
          "2025-05-22T09:00:00+00:00",
          "2025-05-22T09:30:00+00:00",
          "2025-05-22T10:00:00+00:00",
          "2025-05-22T10:30:00+00:00",
          "2025-05-22T11:30:00+00:00",
          "2025-05-22T12:00:00+00:00",
          "2025-05-22T12:30:00+00:00",
          "2025-05-22T13:00:00+00:00",
          "2025-05-22T13:30:00+00:00",
          "2025-05-22T14:00:00+00:00",
          "2025-05-22T14:30:00+00:00",
          "2025-05-22T15:00:00+00:00",
          "2025-05-22T15:30:00+00:00",
          "2025-05-22T16:00:00+00:00",
          "2025-05-22T16:30:00+00:00",
          "2025-05-22T17:00:00+00:00",
          "2025-05-22T17:30:00+00:00",
          "2025-05-22T18:00:00+00:00",
          "2025-05-22T18:30:00+00:00",
          "2025-05-22T19:00:00+00:00",
          "2025-05-22T19:30:00+00:00",
          "2025-05-22T20:00:00+00:00",
          "2025-05-22T20:30:00+00:00",
          "2025-05-22T21:00:00+00:00",
          "2025-05-22T21:30:00+00:00",
          "2025-05-22T22:00:00+00:00",
          "2025-05-22T22:30:00+00:00",
          "2025-05-22T23:00:00+00:00",
          "2025-05-22T23:30:00+00:00"
         ],
         "xaxis": "x",
         "y": [
          0,
          0,
          4,
          7,
          6,
          3,
          7,
          6,
          6,
          3,
          3,
          2,
          4,
          1,
          1,
          2,
          4,
          1,
          3,
          3,
          5,
          4,
          7,
          4,
          4,
          2,
          8,
          7,
          6,
          1,
          3,
          4,
          6,
          8,
          5,
          5,
          6,
          5,
          6,
          7,
          6,
          5,
          5,
          5,
          8,
          8,
          8,
          4,
          6,
          2,
          3,
          3,
          1,
          1,
          0,
          1,
          0,
          1,
          0,
          1,
          3,
          2,
          2,
          3,
          2,
          7,
          2,
          4,
          5,
          1,
          6,
          6,
          4,
          2,
          4,
          7,
          3,
          6,
          4,
          8,
          7,
          5,
          7,
          7,
          9,
          3,
          2,
          7,
          8,
          2,
          7,
          6,
          2,
          5,
          5,
          4,
          3,
          1,
          1,
          1,
          0,
          1,
          1,
          1,
          1,
          0,
          3,
          2,
          1,
          4,
          3,
          2,
          6,
          0,
          3,
          4,
          6,
          4,
          6,
          6,
          2,
          9,
          6,
          8,
          4,
          2,
          9,
          6,
          6,
          6,
          3,
          7,
          7
         ],
         "yaxis": "y"
        }
       ],
       "layout": {
        "legend": {
         "title": {
          "text": "os_name"
         },
         "tracegroupgap": 0
        },
        "shapes": [
         {
          "fillcolor": "lightgreen",
          "layer": "below",
          "line": {
           "width": 0
          },
          "opacity": 0.2,
          "type": "rect",
          "x0": "2025-05-22 00:00:00+00:00",
          "x1": "2025-05-23 00:00:00+00:00",
          "xref": "x",
          "y0": 0,
          "y1": 1,
          "yref": "y domain"
         }
        ],
        "template": {
         "data": {
          "bar": [
           {
            "error_x": {
             "color": "#2a3f5f"
            },
            "error_y": {
             "color": "#2a3f5f"
            },
            "marker": {
             "line": {
              "color": "#E5ECF6",
              "width": 0.5
             },
             "pattern": {
              "fillmode": "overlay",
              "size": 10,
              "solidity": 0.2
             }
            },
            "type": "bar"
           }
          ],
          "barpolar": [
           {
            "marker": {
             "line": {
              "color": "#E5ECF6",
              "width": 0.5
             },
             "pattern": {
              "fillmode": "overlay",
              "size": 10,
              "solidity": 0.2
             }
            },
            "type": "barpolar"
           }
          ],
          "carpet": [
           {
            "aaxis": {
             "endlinecolor": "#2a3f5f",
             "gridcolor": "white",
             "linecolor": "white",
             "minorgridcolor": "white",
             "startlinecolor": "#2a3f5f"
            },
            "baxis": {
             "endlinecolor": "#2a3f5f",
             "gridcolor": "white",
             "linecolor": "white",
             "minorgridcolor": "white",
             "startlinecolor": "#2a3f5f"
            },
            "type": "carpet"
           }
          ],
          "choropleth": [
           {
            "colorbar": {
             "outlinewidth": 0,
             "ticks": ""
            },
            "type": "choropleth"
           }
          ],
          "contour": [
           {
            "colorbar": {
             "outlinewidth": 0,
             "ticks": ""
            },
            "colorscale": [
             [
              0,
              "#0d0887"
             ],
             [
              0.1111111111111111,
              "#46039f"
             ],
             [
              0.2222222222222222,
              "#7201a8"
             ],
             [
              0.3333333333333333,
              "#9c179e"
             ],
             [
              0.4444444444444444,
              "#bd3786"
             ],
             [
              0.5555555555555556,
              "#d8576b"
             ],
             [
              0.6666666666666666,
              "#ed7953"
             ],
             [
              0.7777777777777778,
              "#fb9f3a"
             ],
             [
              0.8888888888888888,
              "#fdca26"
             ],
             [
              1,
              "#f0f921"
             ]
            ],
            "type": "contour"
           }
          ],
          "contourcarpet": [
           {
            "colorbar": {
             "outlinewidth": 0,
             "ticks": ""
            },
            "type": "contourcarpet"
           }
          ],
          "heatmap": [
           {
            "colorbar": {
             "outlinewidth": 0,
             "ticks": ""
            },
            "colorscale": [
             [
              0,
              "#0d0887"
             ],
             [
              0.1111111111111111,
              "#46039f"
             ],
             [
              0.2222222222222222,
              "#7201a8"
             ],
             [
              0.3333333333333333,
              "#9c179e"
             ],
             [
              0.4444444444444444,
              "#bd3786"
             ],
             [
              0.5555555555555556,
              "#d8576b"
             ],
             [
              0.6666666666666666,
              "#ed7953"
             ],
             [
              0.7777777777777778,
              "#fb9f3a"
             ],
             [
              0.8888888888888888,
              "#fdca26"
             ],
             [
              1,
              "#f0f921"
             ]
            ],
            "type": "heatmap"
           }
          ],
          "heatmapgl": [
           {
            "colorbar": {
             "outlinewidth": 0,
             "ticks": ""
            },
            "colorscale": [
             [
              0,
              "#0d0887"
             ],
             [
              0.1111111111111111,
              "#46039f"
             ],
             [
              0.2222222222222222,
              "#7201a8"
             ],
             [
              0.3333333333333333,
              "#9c179e"
             ],
             [
              0.4444444444444444,
              "#bd3786"
             ],
             [
              0.5555555555555556,
              "#d8576b"
             ],
             [
              0.6666666666666666,
              "#ed7953"
             ],
             [
              0.7777777777777778,
              "#fb9f3a"
             ],
             [
              0.8888888888888888,
              "#fdca26"
             ],
             [
              1,
              "#f0f921"
             ]
            ],
            "type": "heatmapgl"
           }
          ],
          "histogram": [
           {
            "marker": {
             "pattern": {
              "fillmode": "overlay",
              "size": 10,
              "solidity": 0.2
             }
            },
            "type": "histogram"
           }
          ],
          "histogram2d": [
           {
            "colorbar": {
             "outlinewidth": 0,
             "ticks": ""
            },
            "colorscale": [
             [
              0,
              "#0d0887"
             ],
             [
              0.1111111111111111,
              "#46039f"
             ],
             [
              0.2222222222222222,
              "#7201a8"
             ],
             [
              0.3333333333333333,
              "#9c179e"
             ],
             [
              0.4444444444444444,
              "#bd3786"
             ],
             [
              0.5555555555555556,
              "#d8576b"
             ],
             [
              0.6666666666666666,
              "#ed7953"
             ],
             [
              0.7777777777777778,
              "#fb9f3a"
             ],
             [
              0.8888888888888888,
              "#fdca26"
             ],
             [
              1,
              "#f0f921"
             ]
            ],
            "type": "histogram2d"
           }
          ],
          "histogram2dcontour": [
           {
            "colorbar": {
             "outlinewidth": 0,
             "ticks": ""
            },
            "colorscale": [
             [
              0,
              "#0d0887"
             ],
             [
              0.1111111111111111,
              "#46039f"
             ],
             [
              0.2222222222222222,
              "#7201a8"
             ],
             [
              0.3333333333333333,
              "#9c179e"
             ],
             [
              0.4444444444444444,
              "#bd3786"
             ],
             [
              0.5555555555555556,
              "#d8576b"
             ],
             [
              0.6666666666666666,
              "#ed7953"
             ],
             [
              0.7777777777777778,
              "#fb9f3a"
             ],
             [
              0.8888888888888888,
              "#fdca26"
             ],
             [
              1,
              "#f0f921"
             ]
            ],
            "type": "histogram2dcontour"
           }
          ],
          "mesh3d": [
           {
            "colorbar": {
             "outlinewidth": 0,
             "ticks": ""
            },
            "type": "mesh3d"
           }
          ],
          "parcoords": [
           {
            "line": {
             "colorbar": {
              "outlinewidth": 0,
              "ticks": ""
             }
            },
            "type": "parcoords"
           }
          ],
          "pie": [
           {
            "automargin": true,
            "type": "pie"
           }
          ],
          "scatter": [
           {
            "fillpattern": {
             "fillmode": "overlay",
             "size": 10,
             "solidity": 0.2
            },
            "type": "scatter"
           }
          ],
          "scatter3d": [
           {
            "line": {
             "colorbar": {
              "outlinewidth": 0,
              "ticks": ""
             }
            },
            "marker": {
             "colorbar": {
              "outlinewidth": 0,
              "ticks": ""
             }
            },
            "type": "scatter3d"
           }
          ],
          "scattercarpet": [
           {
            "marker": {
             "colorbar": {
              "outlinewidth": 0,
              "ticks": ""
             }
            },
            "type": "scattercarpet"
           }
          ],
          "scattergeo": [
           {
            "marker": {
             "colorbar": {
              "outlinewidth": 0,
              "ticks": ""
             }
            },
            "type": "scattergeo"
           }
          ],
          "scattergl": [
           {
            "marker": {
             "colorbar": {
              "outlinewidth": 0,
              "ticks": ""
             }
            },
            "type": "scattergl"
           }
          ],
          "scattermapbox": [
           {
            "marker": {
             "colorbar": {
              "outlinewidth": 0,
              "ticks": ""
             }
            },
            "type": "scattermapbox"
           }
          ],
          "scatterpolar": [
           {
            "marker": {
             "colorbar": {
              "outlinewidth": 0,
              "ticks": ""
             }
            },
            "type": "scatterpolar"
           }
          ],
          "scatterpolargl": [
           {
            "marker": {
             "colorbar": {
              "outlinewidth": 0,
              "ticks": ""
             }
            },
            "type": "scatterpolargl"
           }
          ],
          "scatterternary": [
           {
            "marker": {
             "colorbar": {
              "outlinewidth": 0,
              "ticks": ""
             }
            },
            "type": "scatterternary"
           }
          ],
          "surface": [
           {
            "colorbar": {
             "outlinewidth": 0,
             "ticks": ""
            },
            "colorscale": [
             [
              0,
              "#0d0887"
             ],
             [
              0.1111111111111111,
              "#46039f"
             ],
             [
              0.2222222222222222,
              "#7201a8"
             ],
             [
              0.3333333333333333,
              "#9c179e"
             ],
             [
              0.4444444444444444,
              "#bd3786"
             ],
             [
              0.5555555555555556,
              "#d8576b"
             ],
             [
              0.6666666666666666,
              "#ed7953"
             ],
             [
              0.7777777777777778,
              "#fb9f3a"
             ],
             [
              0.8888888888888888,
              "#fdca26"
             ],
             [
              1,
              "#f0f921"
             ]
            ],
            "type": "surface"
           }
          ],
          "table": [
           {
            "cells": {
             "fill": {
              "color": "#EBF0F8"
             },
             "line": {
              "color": "white"
             }
            },
            "header": {
             "fill": {
              "color": "#C8D4E3"
             },
             "line": {
              "color": "white"
             }
            },
            "type": "table"
           }
          ]
         },
         "layout": {
          "annotationdefaults": {
           "arrowcolor": "#2a3f5f",
           "arrowhead": 0,
           "arrowwidth": 1
          },
          "autotypenumbers": "strict",
          "coloraxis": {
           "colorbar": {
            "outlinewidth": 0,
            "ticks": ""
           }
          },
          "colorscale": {
           "diverging": [
            [
             0,
             "#8e0152"
            ],
            [
             0.1,
             "#c51b7d"
            ],
            [
             0.2,
             "#de77ae"
            ],
            [
             0.3,
             "#f1b6da"
            ],
            [
             0.4,
             "#fde0ef"
            ],
            [
             0.5,
             "#f7f7f7"
            ],
            [
             0.6,
             "#e6f5d0"
            ],
            [
             0.7,
             "#b8e186"
            ],
            [
             0.8,
             "#7fbc41"
            ],
            [
             0.9,
             "#4d9221"
            ],
            [
             1,
             "#276419"
            ]
           ],
           "sequential": [
            [
             0,
             "#0d0887"
            ],
            [
             0.1111111111111111,
             "#46039f"
            ],
            [
             0.2222222222222222,
             "#7201a8"
            ],
            [
             0.3333333333333333,
             "#9c179e"
            ],
            [
             0.4444444444444444,
             "#bd3786"
            ],
            [
             0.5555555555555556,
             "#d8576b"
            ],
            [
             0.6666666666666666,
             "#ed7953"
            ],
            [
             0.7777777777777778,
             "#fb9f3a"
            ],
            [
             0.8888888888888888,
             "#fdca26"
            ],
            [
             1,
             "#f0f921"
            ]
           ],
           "sequentialminus": [
            [
             0,
             "#0d0887"
            ],
            [
             0.1111111111111111,
             "#46039f"
            ],
            [
             0.2222222222222222,
             "#7201a8"
            ],
            [
             0.3333333333333333,
             "#9c179e"
            ],
            [
             0.4444444444444444,
             "#bd3786"
            ],
            [
             0.5555555555555556,
             "#d8576b"
            ],
            [
             0.6666666666666666,
             "#ed7953"
            ],
            [
             0.7777777777777778,
             "#fb9f3a"
            ],
            [
             0.8888888888888888,
             "#fdca26"
            ],
            [
             1,
             "#f0f921"
            ]
           ]
          },
          "colorway": [
           "#636efa",
           "#EF553B",
           "#00cc96",
           "#ab63fa",
           "#FFA15A",
           "#19d3f3",
           "#FF6692",
           "#B6E880",
           "#FF97FF",
           "#FECB52"
          ],
          "font": {
           "color": "#2a3f5f"
          },
          "geo": {
           "bgcolor": "white",
           "lakecolor": "white",
           "landcolor": "#E5ECF6",
           "showlakes": true,
           "showland": true,
           "subunitcolor": "white"
          },
          "hoverlabel": {
           "align": "left"
          },
          "hovermode": "closest",
          "mapbox": {
           "style": "light"
          },
          "paper_bgcolor": "white",
          "plot_bgcolor": "#E5ECF6",
          "polar": {
           "angularaxis": {
            "gridcolor": "white",
            "linecolor": "white",
            "ticks": ""
           },
           "bgcolor": "#E5ECF6",
           "radialaxis": {
            "gridcolor": "white",
            "linecolor": "white",
            "ticks": ""
           }
          },
          "scene": {
           "xaxis": {
            "backgroundcolor": "#E5ECF6",
            "gridcolor": "white",
            "gridwidth": 2,
            "linecolor": "white",
            "showbackground": true,
            "ticks": "",
            "zerolinecolor": "white"
           },
           "yaxis": {
            "backgroundcolor": "#E5ECF6",
            "gridcolor": "white",
            "gridwidth": 2,
            "linecolor": "white",
            "showbackground": true,
            "ticks": "",
            "zerolinecolor": "white"
           },
           "zaxis": {
            "backgroundcolor": "#E5ECF6",
            "gridcolor": "white",
            "gridwidth": 2,
            "linecolor": "white",
            "showbackground": true,
            "ticks": "",
            "zerolinecolor": "white"
           }
          },
          "shapedefaults": {
           "line": {
            "color": "#2a3f5f"
           }
          },
          "ternary": {
           "aaxis": {
            "gridcolor": "white",
            "linecolor": "white",
            "ticks": ""
           },
           "baxis": {
            "gridcolor": "white",
            "linecolor": "white",
            "ticks": ""
           },
           "bgcolor": "#E5ECF6",
           "caxis": {
            "gridcolor": "white",
            "linecolor": "white",
            "ticks": ""
           }
          },
          "title": {
           "x": 0.05
          },
          "xaxis": {
           "automargin": true,
           "gridcolor": "white",
           "linecolor": "white",
           "ticks": "",
           "title": {
            "standoff": 15
           },
           "zerolinecolor": "white",
           "zerolinewidth": 2
          },
          "yaxis": {
           "automargin": true,
           "gridcolor": "white",
           "linecolor": "white",
           "ticks": "",
           "title": {
            "standoff": 15
           },
           "zerolinecolor": "white",
           "zerolinewidth": 2
          }
         }
        },
        "title": {
         "text": "Honduras"
        },
        "xaxis": {
         "anchor": "y",
         "domain": [
          0,
          1
         ],
         "title": {
          "text": "show_dt"
         }
        },
        "yaxis": {
         "anchor": "x",
         "domain": [
          0,
          1
         ],
         "title": {
          "text": "approve_flag"
         }
        }
       }
      }
     },
     "metadata": {},
     "output_type": "display_data"
    },
    {
     "data": {
      "application/vnd.plotly.v1+json": {
       "config": {
        "plotlyServerURL": "https://plot.ly"
       },
       "data": [
        {
         "hovertemplate": "os_name=ios<br>show_dt=%{x}<br>approve_flag=%{y}<extra></extra>",
         "legendgroup": "ios",
         "line": {
          "color": "#636efa",
          "dash": "solid"
         },
         "marker": {
          "symbol": "circle"
         },
         "mode": "lines",
         "name": "ios",
         "orientation": "v",
         "showlegend": true,
         "type": "scatter",
         "x": [
          "2025-04-29T02:00:00+00:00",
          "2025-05-07T18:30:00+00:00",
          "2025-05-10T17:00:00+00:00",
          "2025-05-19T10:30:00+00:00",
          "2025-05-19T18:00:00+00:00",
          "2025-05-20T00:00:00+00:00",
          "2025-05-20T00:30:00+00:00",
          "2025-05-20T01:30:00+00:00",
          "2025-05-20T02:00:00+00:00",
          "2025-05-20T02:30:00+00:00",
          "2025-05-20T03:00:00+00:00",
          "2025-05-20T03:30:00+00:00",
          "2025-05-20T04:00:00+00:00",
          "2025-05-20T05:00:00+00:00",
          "2025-05-20T07:00:00+00:00",
          "2025-05-20T07:30:00+00:00",
          "2025-05-20T10:00:00+00:00",
          "2025-05-20T11:00:00+00:00",
          "2025-05-20T11:30:00+00:00",
          "2025-05-20T13:00:00+00:00",
          "2025-05-20T14:00:00+00:00",
          "2025-05-20T14:30:00+00:00",
          "2025-05-20T15:00:00+00:00",
          "2025-05-20T15:30:00+00:00",
          "2025-05-20T16:00:00+00:00",
          "2025-05-20T16:30:00+00:00",
          "2025-05-20T17:00:00+00:00",
          "2025-05-20T17:30:00+00:00",
          "2025-05-20T18:30:00+00:00",
          "2025-05-20T19:00:00+00:00",
          "2025-05-20T19:30:00+00:00",
          "2025-05-20T20:00:00+00:00",
          "2025-05-20T20:30:00+00:00",
          "2025-05-20T21:00:00+00:00",
          "2025-05-20T21:30:00+00:00",
          "2025-05-20T22:00:00+00:00",
          "2025-05-20T22:30:00+00:00",
          "2025-05-20T23:30:00+00:00",
          "2025-05-21T00:00:00+00:00",
          "2025-05-21T00:30:00+00:00",
          "2025-05-21T01:00:00+00:00",
          "2025-05-21T01:30:00+00:00",
          "2025-05-21T02:00:00+00:00",
          "2025-05-21T02:30:00+00:00",
          "2025-05-21T03:00:00+00:00",
          "2025-05-21T04:00:00+00:00",
          "2025-05-21T04:30:00+00:00",
          "2025-05-21T06:30:00+00:00",
          "2025-05-21T07:30:00+00:00",
          "2025-05-21T10:30:00+00:00",
          "2025-05-21T12:30:00+00:00",
          "2025-05-21T13:00:00+00:00",
          "2025-05-21T14:30:00+00:00",
          "2025-05-21T15:00:00+00:00",
          "2025-05-21T15:30:00+00:00",
          "2025-05-21T16:00:00+00:00",
          "2025-05-21T16:30:00+00:00",
          "2025-05-21T17:00:00+00:00",
          "2025-05-21T17:30:00+00:00",
          "2025-05-21T18:00:00+00:00",
          "2025-05-21T18:30:00+00:00",
          "2025-05-21T19:00:00+00:00",
          "2025-05-21T19:30:00+00:00",
          "2025-05-21T20:00:00+00:00",
          "2025-05-21T21:00:00+00:00",
          "2025-05-21T21:30:00+00:00",
          "2025-05-21T22:00:00+00:00",
          "2025-05-21T22:30:00+00:00",
          "2025-05-21T23:00:00+00:00",
          "2025-05-21T23:30:00+00:00",
          "2025-05-22T00:00:00+00:00",
          "2025-05-22T00:30:00+00:00",
          "2025-05-22T01:00:00+00:00",
          "2025-05-22T01:30:00+00:00",
          "2025-05-22T02:00:00+00:00",
          "2025-05-22T02:30:00+00:00",
          "2025-05-22T03:00:00+00:00",
          "2025-05-22T03:30:00+00:00",
          "2025-05-22T04:00:00+00:00",
          "2025-05-22T04:30:00+00:00",
          "2025-05-22T05:00:00+00:00",
          "2025-05-22T05:30:00+00:00",
          "2025-05-22T06:00:00+00:00",
          "2025-05-22T06:30:00+00:00",
          "2025-05-22T07:30:00+00:00",
          "2025-05-22T08:30:00+00:00",
          "2025-05-22T10:30:00+00:00",
          "2025-05-22T12:30:00+00:00",
          "2025-05-22T13:00:00+00:00",
          "2025-05-22T14:30:00+00:00",
          "2025-05-22T15:00:00+00:00",
          "2025-05-22T15:30:00+00:00",
          "2025-05-22T16:00:00+00:00",
          "2025-05-22T16:30:00+00:00",
          "2025-05-22T17:00:00+00:00",
          "2025-05-22T17:30:00+00:00",
          "2025-05-22T18:00:00+00:00",
          "2025-05-22T18:30:00+00:00",
          "2025-05-22T19:00:00+00:00",
          "2025-05-22T19:30:00+00:00",
          "2025-05-22T20:00:00+00:00",
          "2025-05-22T20:30:00+00:00",
          "2025-05-22T21:00:00+00:00",
          "2025-05-22T21:30:00+00:00",
          "2025-05-22T22:00:00+00:00",
          "2025-05-22T22:30:00+00:00",
          "2025-05-22T23:30:00+00:00"
         ],
         "xaxis": "x",
         "y": [
          1,
          1,
          0,
          1,
          0,
          3,
          3,
          2,
          2,
          3,
          2,
          2,
          2,
          1,
          1,
          1,
          1,
          1,
          1,
          2,
          2,
          1,
          3,
          2,
          3,
          3,
          0,
          3,
          3,
          2,
          4,
          1,
          3,
          2,
          2,
          3,
          2,
          3,
          2,
          4,
          3,
          5,
          2,
          3,
          3,
          2,
          0,
          0,
          1,
          1,
          0,
          1,
          1,
          2,
          6,
          2,
          2,
          2,
          2,
          2,
          4,
          3,
          2,
          1,
          5,
          4,
          0,
          3,
          1,
          1,
          0,
          2,
          1,
          1,
          5,
          1,
          2,
          0,
          1,
          1,
          1,
          1,
          1,
          0,
          1,
          1,
          1,
          3,
          2,
          2,
          4,
          1,
          1,
          2,
          6,
          3,
          4,
          1,
          2,
          3,
          2,
          4,
          1,
          1,
          3,
          3,
          2
         ],
         "yaxis": "y"
        },
        {
         "hovertemplate": "os_name=android<br>show_dt=%{x}<br>approve_flag=%{y}<extra></extra>",
         "legendgroup": "android",
         "line": {
          "color": "#EF553B",
          "dash": "solid"
         },
         "marker": {
          "symbol": "circle"
         },
         "mode": "lines",
         "name": "android",
         "orientation": "v",
         "showlegend": true,
         "type": "scatter",
         "x": [
          "2025-05-20T00:00:00+00:00",
          "2025-05-20T00:30:00+00:00",
          "2025-05-20T01:00:00+00:00",
          "2025-05-20T01:30:00+00:00",
          "2025-05-20T02:00:00+00:00",
          "2025-05-20T02:30:00+00:00",
          "2025-05-20T03:00:00+00:00",
          "2025-05-20T03:30:00+00:00",
          "2025-05-20T04:00:00+00:00",
          "2025-05-20T04:30:00+00:00",
          "2025-05-20T05:00:00+00:00",
          "2025-05-20T05:30:00+00:00",
          "2025-05-20T06:00:00+00:00",
          "2025-05-20T06:30:00+00:00",
          "2025-05-20T11:30:00+00:00",
          "2025-05-20T12:00:00+00:00",
          "2025-05-20T12:30:00+00:00",
          "2025-05-20T13:00:00+00:00",
          "2025-05-20T13:30:00+00:00",
          "2025-05-20T14:00:00+00:00",
          "2025-05-20T14:30:00+00:00",
          "2025-05-20T15:00:00+00:00",
          "2025-05-20T15:30:00+00:00",
          "2025-05-20T16:00:00+00:00",
          "2025-05-20T16:30:00+00:00",
          "2025-05-20T17:00:00+00:00",
          "2025-05-20T17:30:00+00:00",
          "2025-05-20T18:00:00+00:00",
          "2025-05-20T18:30:00+00:00",
          "2025-05-20T19:00:00+00:00",
          "2025-05-20T19:30:00+00:00",
          "2025-05-20T20:00:00+00:00",
          "2025-05-20T20:30:00+00:00",
          "2025-05-20T21:00:00+00:00",
          "2025-05-20T21:30:00+00:00",
          "2025-05-20T22:00:00+00:00",
          "2025-05-20T22:30:00+00:00",
          "2025-05-20T23:00:00+00:00",
          "2025-05-21T00:00:00+00:00",
          "2025-05-21T00:30:00+00:00",
          "2025-05-21T01:30:00+00:00",
          "2025-05-21T02:30:00+00:00",
          "2025-05-21T03:00:00+00:00",
          "2025-05-21T03:30:00+00:00",
          "2025-05-21T04:00:00+00:00",
          "2025-05-21T04:30:00+00:00",
          "2025-05-21T05:30:00+00:00",
          "2025-05-21T06:00:00+00:00",
          "2025-05-21T06:30:00+00:00",
          "2025-05-21T07:00:00+00:00",
          "2025-05-21T07:30:00+00:00",
          "2025-05-21T09:30:00+00:00",
          "2025-05-21T10:30:00+00:00",
          "2025-05-21T11:30:00+00:00",
          "2025-05-21T12:00:00+00:00",
          "2025-05-21T12:30:00+00:00",
          "2025-05-21T13:00:00+00:00",
          "2025-05-21T13:30:00+00:00",
          "2025-05-21T14:00:00+00:00",
          "2025-05-21T14:30:00+00:00",
          "2025-05-21T15:00:00+00:00",
          "2025-05-21T15:30:00+00:00",
          "2025-05-21T16:00:00+00:00",
          "2025-05-21T16:30:00+00:00",
          "2025-05-21T17:00:00+00:00",
          "2025-05-21T17:30:00+00:00",
          "2025-05-21T18:00:00+00:00",
          "2025-05-21T18:30:00+00:00",
          "2025-05-21T19:00:00+00:00",
          "2025-05-21T19:30:00+00:00",
          "2025-05-21T20:00:00+00:00",
          "2025-05-21T20:30:00+00:00",
          "2025-05-21T21:00:00+00:00",
          "2025-05-21T21:30:00+00:00",
          "2025-05-21T22:00:00+00:00",
          "2025-05-21T22:30:00+00:00",
          "2025-05-21T23:00:00+00:00",
          "2025-05-21T23:30:00+00:00",
          "2025-05-22T00:00:00+00:00",
          "2025-05-22T00:30:00+00:00",
          "2025-05-22T01:00:00+00:00",
          "2025-05-22T01:30:00+00:00",
          "2025-05-22T02:00:00+00:00",
          "2025-05-22T02:30:00+00:00",
          "2025-05-22T03:00:00+00:00",
          "2025-05-22T03:30:00+00:00",
          "2025-05-22T04:00:00+00:00",
          "2025-05-22T04:30:00+00:00",
          "2025-05-22T05:00:00+00:00",
          "2025-05-22T05:30:00+00:00",
          "2025-05-22T07:00:00+00:00",
          "2025-05-22T08:00:00+00:00",
          "2025-05-22T08:30:00+00:00",
          "2025-05-22T09:30:00+00:00",
          "2025-05-22T11:00:00+00:00",
          "2025-05-22T12:00:00+00:00",
          "2025-05-22T12:30:00+00:00",
          "2025-05-22T13:30:00+00:00",
          "2025-05-22T14:00:00+00:00",
          "2025-05-22T14:30:00+00:00",
          "2025-05-22T15:00:00+00:00",
          "2025-05-22T15:30:00+00:00",
          "2025-05-22T16:00:00+00:00",
          "2025-05-22T16:30:00+00:00",
          "2025-05-22T17:00:00+00:00",
          "2025-05-22T17:30:00+00:00",
          "2025-05-22T18:00:00+00:00",
          "2025-05-22T18:30:00+00:00",
          "2025-05-22T19:00:00+00:00",
          "2025-05-22T19:30:00+00:00",
          "2025-05-22T20:00:00+00:00",
          "2025-05-22T20:30:00+00:00",
          "2025-05-22T21:00:00+00:00",
          "2025-05-22T21:30:00+00:00",
          "2025-05-22T22:00:00+00:00",
          "2025-05-22T22:30:00+00:00",
          "2025-05-22T23:00:00+00:00",
          "2025-05-22T23:30:00+00:00"
         ],
         "xaxis": "x",
         "y": [
          3,
          1,
          3,
          3,
          1,
          2,
          3,
          1,
          0,
          1,
          1,
          1,
          1,
          2,
          1,
          2,
          1,
          2,
          2,
          2,
          1,
          3,
          2,
          4,
          0,
          3,
          1,
          3,
          2,
          1,
          4,
          1,
          3,
          1,
          2,
          1,
          0,
          2,
          1,
          3,
          2,
          2,
          3,
          0,
          1,
          2,
          0,
          1,
          1,
          1,
          0,
          1,
          3,
          2,
          2,
          3,
          1,
          2,
          3,
          2,
          2,
          1,
          2,
          2,
          1,
          3,
          1,
          3,
          1,
          4,
          0,
          2,
          4,
          1,
          3,
          2,
          1,
          1,
          2,
          1,
          2,
          4,
          3,
          3,
          3,
          0,
          3,
          1,
          1,
          2,
          3,
          1,
          0,
          1,
          1,
          4,
          2,
          1,
          5,
          1,
          1,
          2,
          2,
          1,
          3,
          2,
          3,
          0,
          9,
          2,
          4,
          1,
          2,
          1,
          5,
          5,
          3,
          2
         ],
         "yaxis": "y"
        },
        {
         "hovertemplate": "os_name=ipados<br>show_dt=%{x}<br>approve_flag=%{y}<extra></extra>",
         "legendgroup": "ipados",
         "line": {
          "color": "#00cc96",
          "dash": "solid"
         },
         "marker": {
          "symbol": "circle"
         },
         "mode": "lines",
         "name": "ipados",
         "orientation": "v",
         "showlegend": true,
         "type": "scatter",
         "x": [
          "2025-05-20T00:00:00+00:00",
          "2025-05-21T14:30:00+00:00",
          "2025-05-22T14:30:00+00:00"
         ],
         "xaxis": "x",
         "y": [
          0,
          1,
          1
         ],
         "yaxis": "y"
        }
       ],
       "layout": {
        "legend": {
         "title": {
          "text": "os_name"
         },
         "tracegroupgap": 0
        },
        "shapes": [
         {
          "fillcolor": "lightgreen",
          "layer": "below",
          "line": {
           "width": 0
          },
          "opacity": 0.2,
          "type": "rect",
          "x0": "2025-05-22 00:00:00+00:00",
          "x1": "2025-05-23 00:00:00+00:00",
          "xref": "x",
          "y0": 0,
          "y1": 1,
          "yref": "y domain"
         }
        ],
        "template": {
         "data": {
          "bar": [
           {
            "error_x": {
             "color": "#2a3f5f"
            },
            "error_y": {
             "color": "#2a3f5f"
            },
            "marker": {
             "line": {
              "color": "#E5ECF6",
              "width": 0.5
             },
             "pattern": {
              "fillmode": "overlay",
              "size": 10,
              "solidity": 0.2
             }
            },
            "type": "bar"
           }
          ],
          "barpolar": [
           {
            "marker": {
             "line": {
              "color": "#E5ECF6",
              "width": 0.5
             },
             "pattern": {
              "fillmode": "overlay",
              "size": 10,
              "solidity": 0.2
             }
            },
            "type": "barpolar"
           }
          ],
          "carpet": [
           {
            "aaxis": {
             "endlinecolor": "#2a3f5f",
             "gridcolor": "white",
             "linecolor": "white",
             "minorgridcolor": "white",
             "startlinecolor": "#2a3f5f"
            },
            "baxis": {
             "endlinecolor": "#2a3f5f",
             "gridcolor": "white",
             "linecolor": "white",
             "minorgridcolor": "white",
             "startlinecolor": "#2a3f5f"
            },
            "type": "carpet"
           }
          ],
          "choropleth": [
           {
            "colorbar": {
             "outlinewidth": 0,
             "ticks": ""
            },
            "type": "choropleth"
           }
          ],
          "contour": [
           {
            "colorbar": {
             "outlinewidth": 0,
             "ticks": ""
            },
            "colorscale": [
             [
              0,
              "#0d0887"
             ],
             [
              0.1111111111111111,
              "#46039f"
             ],
             [
              0.2222222222222222,
              "#7201a8"
             ],
             [
              0.3333333333333333,
              "#9c179e"
             ],
             [
              0.4444444444444444,
              "#bd3786"
             ],
             [
              0.5555555555555556,
              "#d8576b"
             ],
             [
              0.6666666666666666,
              "#ed7953"
             ],
             [
              0.7777777777777778,
              "#fb9f3a"
             ],
             [
              0.8888888888888888,
              "#fdca26"
             ],
             [
              1,
              "#f0f921"
             ]
            ],
            "type": "contour"
           }
          ],
          "contourcarpet": [
           {
            "colorbar": {
             "outlinewidth": 0,
             "ticks": ""
            },
            "type": "contourcarpet"
           }
          ],
          "heatmap": [
           {
            "colorbar": {
             "outlinewidth": 0,
             "ticks": ""
            },
            "colorscale": [
             [
              0,
              "#0d0887"
             ],
             [
              0.1111111111111111,
              "#46039f"
             ],
             [
              0.2222222222222222,
              "#7201a8"
             ],
             [
              0.3333333333333333,
              "#9c179e"
             ],
             [
              0.4444444444444444,
              "#bd3786"
             ],
             [
              0.5555555555555556,
              "#d8576b"
             ],
             [
              0.6666666666666666,
              "#ed7953"
             ],
             [
              0.7777777777777778,
              "#fb9f3a"
             ],
             [
              0.8888888888888888,
              "#fdca26"
             ],
             [
              1,
              "#f0f921"
             ]
            ],
            "type": "heatmap"
           }
          ],
          "heatmapgl": [
           {
            "colorbar": {
             "outlinewidth": 0,
             "ticks": ""
            },
            "colorscale": [
             [
              0,
              "#0d0887"
             ],
             [
              0.1111111111111111,
              "#46039f"
             ],
             [
              0.2222222222222222,
              "#7201a8"
             ],
             [
              0.3333333333333333,
              "#9c179e"
             ],
             [
              0.4444444444444444,
              "#bd3786"
             ],
             [
              0.5555555555555556,
              "#d8576b"
             ],
             [
              0.6666666666666666,
              "#ed7953"
             ],
             [
              0.7777777777777778,
              "#fb9f3a"
             ],
             [
              0.8888888888888888,
              "#fdca26"
             ],
             [
              1,
              "#f0f921"
             ]
            ],
            "type": "heatmapgl"
           }
          ],
          "histogram": [
           {
            "marker": {
             "pattern": {
              "fillmode": "overlay",
              "size": 10,
              "solidity": 0.2
             }
            },
            "type": "histogram"
           }
          ],
          "histogram2d": [
           {
            "colorbar": {
             "outlinewidth": 0,
             "ticks": ""
            },
            "colorscale": [
             [
              0,
              "#0d0887"
             ],
             [
              0.1111111111111111,
              "#46039f"
             ],
             [
              0.2222222222222222,
              "#7201a8"
             ],
             [
              0.3333333333333333,
              "#9c179e"
             ],
             [
              0.4444444444444444,
              "#bd3786"
             ],
             [
              0.5555555555555556,
              "#d8576b"
             ],
             [
              0.6666666666666666,
              "#ed7953"
             ],
             [
              0.7777777777777778,
              "#fb9f3a"
             ],
             [
              0.8888888888888888,
              "#fdca26"
             ],
             [
              1,
              "#f0f921"
             ]
            ],
            "type": "histogram2d"
           }
          ],
          "histogram2dcontour": [
           {
            "colorbar": {
             "outlinewidth": 0,
             "ticks": ""
            },
            "colorscale": [
             [
              0,
              "#0d0887"
             ],
             [
              0.1111111111111111,
              "#46039f"
             ],
             [
              0.2222222222222222,
              "#7201a8"
             ],
             [
              0.3333333333333333,
              "#9c179e"
             ],
             [
              0.4444444444444444,
              "#bd3786"
             ],
             [
              0.5555555555555556,
              "#d8576b"
             ],
             [
              0.6666666666666666,
              "#ed7953"
             ],
             [
              0.7777777777777778,
              "#fb9f3a"
             ],
             [
              0.8888888888888888,
              "#fdca26"
             ],
             [
              1,
              "#f0f921"
             ]
            ],
            "type": "histogram2dcontour"
           }
          ],
          "mesh3d": [
           {
            "colorbar": {
             "outlinewidth": 0,
             "ticks": ""
            },
            "type": "mesh3d"
           }
          ],
          "parcoords": [
           {
            "line": {
             "colorbar": {
              "outlinewidth": 0,
              "ticks": ""
             }
            },
            "type": "parcoords"
           }
          ],
          "pie": [
           {
            "automargin": true,
            "type": "pie"
           }
          ],
          "scatter": [
           {
            "fillpattern": {
             "fillmode": "overlay",
             "size": 10,
             "solidity": 0.2
            },
            "type": "scatter"
           }
          ],
          "scatter3d": [
           {
            "line": {
             "colorbar": {
              "outlinewidth": 0,
              "ticks": ""
             }
            },
            "marker": {
             "colorbar": {
              "outlinewidth": 0,
              "ticks": ""
             }
            },
            "type": "scatter3d"
           }
          ],
          "scattercarpet": [
           {
            "marker": {
             "colorbar": {
              "outlinewidth": 0,
              "ticks": ""
             }
            },
            "type": "scattercarpet"
           }
          ],
          "scattergeo": [
           {
            "marker": {
             "colorbar": {
              "outlinewidth": 0,
              "ticks": ""
             }
            },
            "type": "scattergeo"
           }
          ],
          "scattergl": [
           {
            "marker": {
             "colorbar": {
              "outlinewidth": 0,
              "ticks": ""
             }
            },
            "type": "scattergl"
           }
          ],
          "scattermapbox": [
           {
            "marker": {
             "colorbar": {
              "outlinewidth": 0,
              "ticks": ""
             }
            },
            "type": "scattermapbox"
           }
          ],
          "scatterpolar": [
           {
            "marker": {
             "colorbar": {
              "outlinewidth": 0,
              "ticks": ""
             }
            },
            "type": "scatterpolar"
           }
          ],
          "scatterpolargl": [
           {
            "marker": {
             "colorbar": {
              "outlinewidth": 0,
              "ticks": ""
             }
            },
            "type": "scatterpolargl"
           }
          ],
          "scatterternary": [
           {
            "marker": {
             "colorbar": {
              "outlinewidth": 0,
              "ticks": ""
             }
            },
            "type": "scatterternary"
           }
          ],
          "surface": [
           {
            "colorbar": {
             "outlinewidth": 0,
             "ticks": ""
            },
            "colorscale": [
             [
              0,
              "#0d0887"
             ],
             [
              0.1111111111111111,
              "#46039f"
             ],
             [
              0.2222222222222222,
              "#7201a8"
             ],
             [
              0.3333333333333333,
              "#9c179e"
             ],
             [
              0.4444444444444444,
              "#bd3786"
             ],
             [
              0.5555555555555556,
              "#d8576b"
             ],
             [
              0.6666666666666666,
              "#ed7953"
             ],
             [
              0.7777777777777778,
              "#fb9f3a"
             ],
             [
              0.8888888888888888,
              "#fdca26"
             ],
             [
              1,
              "#f0f921"
             ]
            ],
            "type": "surface"
           }
          ],
          "table": [
           {
            "cells": {
             "fill": {
              "color": "#EBF0F8"
             },
             "line": {
              "color": "white"
             }
            },
            "header": {
             "fill": {
              "color": "#C8D4E3"
             },
             "line": {
              "color": "white"
             }
            },
            "type": "table"
           }
          ]
         },
         "layout": {
          "annotationdefaults": {
           "arrowcolor": "#2a3f5f",
           "arrowhead": 0,
           "arrowwidth": 1
          },
          "autotypenumbers": "strict",
          "coloraxis": {
           "colorbar": {
            "outlinewidth": 0,
            "ticks": ""
           }
          },
          "colorscale": {
           "diverging": [
            [
             0,
             "#8e0152"
            ],
            [
             0.1,
             "#c51b7d"
            ],
            [
             0.2,
             "#de77ae"
            ],
            [
             0.3,
             "#f1b6da"
            ],
            [
             0.4,
             "#fde0ef"
            ],
            [
             0.5,
             "#f7f7f7"
            ],
            [
             0.6,
             "#e6f5d0"
            ],
            [
             0.7,
             "#b8e186"
            ],
            [
             0.8,
             "#7fbc41"
            ],
            [
             0.9,
             "#4d9221"
            ],
            [
             1,
             "#276419"
            ]
           ],
           "sequential": [
            [
             0,
             "#0d0887"
            ],
            [
             0.1111111111111111,
             "#46039f"
            ],
            [
             0.2222222222222222,
             "#7201a8"
            ],
            [
             0.3333333333333333,
             "#9c179e"
            ],
            [
             0.4444444444444444,
             "#bd3786"
            ],
            [
             0.5555555555555556,
             "#d8576b"
            ],
            [
             0.6666666666666666,
             "#ed7953"
            ],
            [
             0.7777777777777778,
             "#fb9f3a"
            ],
            [
             0.8888888888888888,
             "#fdca26"
            ],
            [
             1,
             "#f0f921"
            ]
           ],
           "sequentialminus": [
            [
             0,
             "#0d0887"
            ],
            [
             0.1111111111111111,
             "#46039f"
            ],
            [
             0.2222222222222222,
             "#7201a8"
            ],
            [
             0.3333333333333333,
             "#9c179e"
            ],
            [
             0.4444444444444444,
             "#bd3786"
            ],
            [
             0.5555555555555556,
             "#d8576b"
            ],
            [
             0.6666666666666666,
             "#ed7953"
            ],
            [
             0.7777777777777778,
             "#fb9f3a"
            ],
            [
             0.8888888888888888,
             "#fdca26"
            ],
            [
             1,
             "#f0f921"
            ]
           ]
          },
          "colorway": [
           "#636efa",
           "#EF553B",
           "#00cc96",
           "#ab63fa",
           "#FFA15A",
           "#19d3f3",
           "#FF6692",
           "#B6E880",
           "#FF97FF",
           "#FECB52"
          ],
          "font": {
           "color": "#2a3f5f"
          },
          "geo": {
           "bgcolor": "white",
           "lakecolor": "white",
           "landcolor": "#E5ECF6",
           "showlakes": true,
           "showland": true,
           "subunitcolor": "white"
          },
          "hoverlabel": {
           "align": "left"
          },
          "hovermode": "closest",
          "mapbox": {
           "style": "light"
          },
          "paper_bgcolor": "white",
          "plot_bgcolor": "#E5ECF6",
          "polar": {
           "angularaxis": {
            "gridcolor": "white",
            "linecolor": "white",
            "ticks": ""
           },
           "bgcolor": "#E5ECF6",
           "radialaxis": {
            "gridcolor": "white",
            "linecolor": "white",
            "ticks": ""
           }
          },
          "scene": {
           "xaxis": {
            "backgroundcolor": "#E5ECF6",
            "gridcolor": "white",
            "gridwidth": 2,
            "linecolor": "white",
            "showbackground": true,
            "ticks": "",
            "zerolinecolor": "white"
           },
           "yaxis": {
            "backgroundcolor": "#E5ECF6",
            "gridcolor": "white",
            "gridwidth": 2,
            "linecolor": "white",
            "showbackground": true,
            "ticks": "",
            "zerolinecolor": "white"
           },
           "zaxis": {
            "backgroundcolor": "#E5ECF6",
            "gridcolor": "white",
            "gridwidth": 2,
            "linecolor": "white",
            "showbackground": true,
            "ticks": "",
            "zerolinecolor": "white"
           }
          },
          "shapedefaults": {
           "line": {
            "color": "#2a3f5f"
           }
          },
          "ternary": {
           "aaxis": {
            "gridcolor": "white",
            "linecolor": "white",
            "ticks": ""
           },
           "baxis": {
            "gridcolor": "white",
            "linecolor": "white",
            "ticks": ""
           },
           "bgcolor": "#E5ECF6",
           "caxis": {
            "gridcolor": "white",
            "linecolor": "white",
            "ticks": ""
           }
          },
          "title": {
           "x": 0.05
          },
          "xaxis": {
           "automargin": true,
           "gridcolor": "white",
           "linecolor": "white",
           "ticks": "",
           "title": {
            "standoff": 15
           },
           "zerolinecolor": "white",
           "zerolinewidth": 2
          },
          "yaxis": {
           "automargin": true,
           "gridcolor": "white",
           "linecolor": "white",
           "ticks": "",
           "title": {
            "standoff": 15
           },
           "zerolinecolor": "white",
           "zerolinewidth": 2
          }
         }
        },
        "title": {
         "text": "Jamaica"
        },
        "xaxis": {
         "anchor": "y",
         "domain": [
          0,
          1
         ],
         "title": {
          "text": "show_dt"
         }
        },
        "yaxis": {
         "anchor": "x",
         "domain": [
          0,
          1
         ],
         "title": {
          "text": "approve_flag"
         }
        }
       }
      }
     },
     "metadata": {},
     "output_type": "display_data"
    },
    {
     "data": {
      "application/vnd.plotly.v1+json": {
       "config": {
        "plotlyServerURL": "https://plot.ly"
       },
       "data": [
        {
         "hovertemplate": "os_name=ios<br>show_dt=%{x}<br>approve_flag=%{y}<extra></extra>",
         "legendgroup": "ios",
         "line": {
          "color": "#636efa",
          "dash": "solid"
         },
         "marker": {
          "symbol": "circle"
         },
         "mode": "lines",
         "name": "ios",
         "orientation": "v",
         "showlegend": true,
         "type": "scatter",
         "x": [
          "2025-05-06T21:30:00+00:00",
          "2025-05-08T11:00:00+00:00",
          "2025-05-08T13:00:00+00:00",
          "2025-05-16T09:00:00+00:00",
          "2025-05-17T00:00:00+00:00",
          "2025-05-19T10:00:00+00:00",
          "2025-05-20T00:00:00+00:00",
          "2025-05-20T01:30:00+00:00",
          "2025-05-20T02:00:00+00:00",
          "2025-05-20T02:30:00+00:00",
          "2025-05-20T03:00:00+00:00",
          "2025-05-20T04:00:00+00:00",
          "2025-05-20T04:30:00+00:00",
          "2025-05-20T05:00:00+00:00",
          "2025-05-20T05:30:00+00:00",
          "2025-05-20T06:00:00+00:00",
          "2025-05-20T07:30:00+00:00",
          "2025-05-20T09:00:00+00:00",
          "2025-05-20T09:30:00+00:00",
          "2025-05-20T10:30:00+00:00",
          "2025-05-20T12:00:00+00:00",
          "2025-05-20T12:30:00+00:00",
          "2025-05-20T13:00:00+00:00",
          "2025-05-20T14:30:00+00:00",
          "2025-05-20T15:00:00+00:00",
          "2025-05-20T16:00:00+00:00",
          "2025-05-20T17:00:00+00:00",
          "2025-05-20T18:00:00+00:00",
          "2025-05-20T18:30:00+00:00",
          "2025-05-20T19:00:00+00:00",
          "2025-05-20T19:30:00+00:00",
          "2025-05-20T20:00:00+00:00",
          "2025-05-20T20:30:00+00:00",
          "2025-05-20T21:00:00+00:00",
          "2025-05-20T22:00:00+00:00",
          "2025-05-20T22:30:00+00:00",
          "2025-05-20T23:00:00+00:00",
          "2025-05-21T00:00:00+00:00",
          "2025-05-21T00:30:00+00:00",
          "2025-05-21T01:00:00+00:00",
          "2025-05-21T01:30:00+00:00",
          "2025-05-21T02:00:00+00:00",
          "2025-05-21T03:00:00+00:00",
          "2025-05-21T03:30:00+00:00",
          "2025-05-21T04:00:00+00:00",
          "2025-05-21T05:00:00+00:00",
          "2025-05-21T06:00:00+00:00",
          "2025-05-21T07:00:00+00:00",
          "2025-05-21T08:30:00+00:00",
          "2025-05-21T09:00:00+00:00",
          "2025-05-21T09:30:00+00:00",
          "2025-05-21T10:00:00+00:00",
          "2025-05-21T10:30:00+00:00",
          "2025-05-21T11:00:00+00:00",
          "2025-05-21T12:00:00+00:00",
          "2025-05-21T13:00:00+00:00",
          "2025-05-21T13:30:00+00:00",
          "2025-05-21T14:00:00+00:00",
          "2025-05-21T14:30:00+00:00",
          "2025-05-21T15:00:00+00:00",
          "2025-05-21T15:30:00+00:00",
          "2025-05-21T16:00:00+00:00",
          "2025-05-21T16:30:00+00:00",
          "2025-05-21T17:00:00+00:00",
          "2025-05-21T17:30:00+00:00",
          "2025-05-21T19:00:00+00:00",
          "2025-05-21T19:30:00+00:00",
          "2025-05-21T20:00:00+00:00",
          "2025-05-21T20:30:00+00:00",
          "2025-05-21T21:00:00+00:00",
          "2025-05-21T21:30:00+00:00",
          "2025-05-21T22:00:00+00:00",
          "2025-05-21T22:30:00+00:00",
          "2025-05-21T23:00:00+00:00",
          "2025-05-21T23:30:00+00:00",
          "2025-05-22T00:00:00+00:00",
          "2025-05-22T00:30:00+00:00",
          "2025-05-22T01:30:00+00:00",
          "2025-05-22T02:00:00+00:00",
          "2025-05-22T02:30:00+00:00",
          "2025-05-22T03:00:00+00:00",
          "2025-05-22T03:30:00+00:00",
          "2025-05-22T04:00:00+00:00",
          "2025-05-22T04:30:00+00:00",
          "2025-05-22T05:00:00+00:00",
          "2025-05-22T05:30:00+00:00",
          "2025-05-22T06:00:00+00:00",
          "2025-05-22T06:30:00+00:00",
          "2025-05-22T07:00:00+00:00",
          "2025-05-22T09:30:00+00:00",
          "2025-05-22T10:00:00+00:00",
          "2025-05-22T10:30:00+00:00",
          "2025-05-22T11:00:00+00:00",
          "2025-05-22T11:30:00+00:00",
          "2025-05-22T12:30:00+00:00",
          "2025-05-22T13:00:00+00:00",
          "2025-05-22T13:30:00+00:00",
          "2025-05-22T14:30:00+00:00",
          "2025-05-22T15:00:00+00:00",
          "2025-05-22T16:00:00+00:00",
          "2025-05-22T16:30:00+00:00",
          "2025-05-22T17:00:00+00:00",
          "2025-05-22T18:00:00+00:00",
          "2025-05-22T18:30:00+00:00",
          "2025-05-22T19:30:00+00:00",
          "2025-05-22T20:00:00+00:00",
          "2025-05-22T20:30:00+00:00",
          "2025-05-22T21:00:00+00:00",
          "2025-05-22T21:30:00+00:00",
          "2025-05-22T22:00:00+00:00",
          "2025-05-22T22:30:00+00:00",
          "2025-05-22T23:00:00+00:00",
          "2025-05-22T23:30:00+00:00"
         ],
         "xaxis": "x",
         "y": [
          1,
          1,
          0,
          1,
          1,
          1,
          3,
          2,
          1,
          4,
          3,
          2,
          1,
          2,
          1,
          1,
          1,
          1,
          2,
          2,
          1,
          1,
          1,
          1,
          4,
          1,
          0,
          1,
          2,
          2,
          1,
          4,
          1,
          6,
          2,
          4,
          2,
          2,
          3,
          1,
          1,
          1,
          3,
          1,
          2,
          2,
          1,
          1,
          1,
          1,
          1,
          3,
          0,
          1,
          3,
          2,
          1,
          1,
          1,
          3,
          1,
          2,
          4,
          1,
          1,
          2,
          1,
          1,
          3,
          2,
          1,
          1,
          3,
          4,
          1,
          2,
          4,
          3,
          2,
          1,
          3,
          1,
          1,
          1,
          1,
          1,
          1,
          2,
          1,
          1,
          2,
          2,
          2,
          4,
          2,
          3,
          1,
          3,
          3,
          1,
          2,
          2,
          1,
          1,
          2,
          5,
          3,
          3,
          2,
          1,
          1,
          2,
          3
         ],
         "yaxis": "y"
        },
        {
         "hovertemplate": "os_name=android<br>show_dt=%{x}<br>approve_flag=%{y}<extra></extra>",
         "legendgroup": "android",
         "line": {
          "color": "#EF553B",
          "dash": "solid"
         },
         "marker": {
          "symbol": "circle"
         },
         "mode": "lines",
         "name": "android",
         "orientation": "v",
         "showlegend": true,
         "type": "scatter",
         "x": [
          "2025-05-20T00:00:00+00:00",
          "2025-05-20T00:30:00+00:00",
          "2025-05-20T01:00:00+00:00",
          "2025-05-20T01:30:00+00:00",
          "2025-05-20T02:00:00+00:00",
          "2025-05-20T02:30:00+00:00",
          "2025-05-20T03:00:00+00:00",
          "2025-05-20T03:30:00+00:00",
          "2025-05-20T04:00:00+00:00",
          "2025-05-20T04:30:00+00:00",
          "2025-05-20T05:00:00+00:00",
          "2025-05-20T05:30:00+00:00",
          "2025-05-20T07:30:00+00:00",
          "2025-05-20T08:30:00+00:00",
          "2025-05-20T09:00:00+00:00",
          "2025-05-20T09:30:00+00:00",
          "2025-05-20T10:00:00+00:00",
          "2025-05-20T10:30:00+00:00",
          "2025-05-20T11:00:00+00:00",
          "2025-05-20T11:30:00+00:00",
          "2025-05-20T12:00:00+00:00",
          "2025-05-20T12:30:00+00:00",
          "2025-05-20T13:00:00+00:00",
          "2025-05-20T13:30:00+00:00",
          "2025-05-20T14:00:00+00:00",
          "2025-05-20T14:30:00+00:00",
          "2025-05-20T15:00:00+00:00",
          "2025-05-20T15:30:00+00:00",
          "2025-05-20T16:00:00+00:00",
          "2025-05-20T16:30:00+00:00",
          "2025-05-20T17:00:00+00:00",
          "2025-05-20T17:30:00+00:00",
          "2025-05-20T18:00:00+00:00",
          "2025-05-20T18:30:00+00:00",
          "2025-05-20T19:00:00+00:00",
          "2025-05-20T19:30:00+00:00",
          "2025-05-20T20:00:00+00:00",
          "2025-05-20T20:30:00+00:00",
          "2025-05-20T21:00:00+00:00",
          "2025-05-20T21:30:00+00:00",
          "2025-05-20T22:00:00+00:00",
          "2025-05-20T22:30:00+00:00",
          "2025-05-20T23:00:00+00:00",
          "2025-05-21T00:00:00+00:00",
          "2025-05-21T00:30:00+00:00",
          "2025-05-21T01:00:00+00:00",
          "2025-05-21T01:30:00+00:00",
          "2025-05-21T02:00:00+00:00",
          "2025-05-21T02:30:00+00:00",
          "2025-05-21T03:00:00+00:00",
          "2025-05-21T03:30:00+00:00",
          "2025-05-21T04:00:00+00:00",
          "2025-05-21T04:30:00+00:00",
          "2025-05-21T05:00:00+00:00",
          "2025-05-21T05:30:00+00:00",
          "2025-05-21T06:00:00+00:00",
          "2025-05-21T06:30:00+00:00",
          "2025-05-21T09:00:00+00:00",
          "2025-05-21T09:30:00+00:00",
          "2025-05-21T10:00:00+00:00",
          "2025-05-21T10:30:00+00:00",
          "2025-05-21T11:00:00+00:00",
          "2025-05-21T11:30:00+00:00",
          "2025-05-21T12:00:00+00:00",
          "2025-05-21T12:30:00+00:00",
          "2025-05-21T13:30:00+00:00",
          "2025-05-21T14:00:00+00:00",
          "2025-05-21T14:30:00+00:00",
          "2025-05-21T15:00:00+00:00",
          "2025-05-21T15:30:00+00:00",
          "2025-05-21T16:00:00+00:00",
          "2025-05-21T17:00:00+00:00",
          "2025-05-21T17:30:00+00:00",
          "2025-05-21T18:00:00+00:00",
          "2025-05-21T18:30:00+00:00",
          "2025-05-21T19:00:00+00:00",
          "2025-05-21T19:30:00+00:00",
          "2025-05-21T20:00:00+00:00",
          "2025-05-21T20:30:00+00:00",
          "2025-05-21T21:00:00+00:00",
          "2025-05-21T21:30:00+00:00",
          "2025-05-21T22:00:00+00:00",
          "2025-05-21T22:30:00+00:00",
          "2025-05-21T23:00:00+00:00",
          "2025-05-21T23:30:00+00:00",
          "2025-05-22T00:00:00+00:00",
          "2025-05-22T00:30:00+00:00",
          "2025-05-22T01:00:00+00:00",
          "2025-05-22T02:00:00+00:00",
          "2025-05-22T02:30:00+00:00",
          "2025-05-22T03:00:00+00:00",
          "2025-05-22T03:30:00+00:00",
          "2025-05-22T04:00:00+00:00",
          "2025-05-22T04:30:00+00:00",
          "2025-05-22T05:00:00+00:00",
          "2025-05-22T06:30:00+00:00",
          "2025-05-22T07:30:00+00:00",
          "2025-05-22T08:00:00+00:00",
          "2025-05-22T08:30:00+00:00",
          "2025-05-22T09:00:00+00:00",
          "2025-05-22T09:30:00+00:00",
          "2025-05-22T10:00:00+00:00",
          "2025-05-22T10:30:00+00:00",
          "2025-05-22T11:00:00+00:00",
          "2025-05-22T11:30:00+00:00",
          "2025-05-22T12:00:00+00:00",
          "2025-05-22T12:30:00+00:00",
          "2025-05-22T13:00:00+00:00",
          "2025-05-22T13:30:00+00:00",
          "2025-05-22T14:00:00+00:00",
          "2025-05-22T14:30:00+00:00",
          "2025-05-22T15:00:00+00:00",
          "2025-05-22T15:30:00+00:00",
          "2025-05-22T16:00:00+00:00",
          "2025-05-22T16:30:00+00:00",
          "2025-05-22T17:00:00+00:00",
          "2025-05-22T17:30:00+00:00",
          "2025-05-22T18:00:00+00:00",
          "2025-05-22T18:30:00+00:00",
          "2025-05-22T19:00:00+00:00",
          "2025-05-22T19:30:00+00:00",
          "2025-05-22T20:00:00+00:00",
          "2025-05-22T20:30:00+00:00",
          "2025-05-22T21:00:00+00:00",
          "2025-05-22T21:30:00+00:00",
          "2025-05-22T22:00:00+00:00",
          "2025-05-22T22:30:00+00:00",
          "2025-05-22T23:00:00+00:00",
          "2025-05-22T23:30:00+00:00"
         ],
         "xaxis": "x",
         "y": [
          3,
          2,
          1,
          2,
          1,
          3,
          5,
          5,
          1,
          0,
          1,
          2,
          1,
          1,
          2,
          5,
          3,
          5,
          4,
          3,
          3,
          1,
          3,
          2,
          0,
          0,
          2,
          6,
          4,
          3,
          3,
          0,
          1,
          3,
          3,
          4,
          3,
          3,
          6,
          2,
          1,
          3,
          3,
          2,
          5,
          3,
          4,
          3,
          5,
          5,
          2,
          7,
          1,
          1,
          2,
          1,
          3,
          2,
          2,
          1,
          5,
          3,
          3,
          3,
          1,
          3,
          2,
          6,
          5,
          2,
          2,
          2,
          3,
          3,
          5,
          3,
          7,
          4,
          3,
          3,
          3,
          4,
          5,
          1,
          3,
          1,
          4,
          5,
          4,
          2,
          7,
          7,
          3,
          3,
          2,
          4,
          0,
          1,
          2,
          1,
          2,
          1,
          3,
          1,
          3,
          3,
          3,
          6,
          3,
          2,
          4,
          3,
          2,
          2,
          2,
          1,
          2,
          3,
          2,
          5,
          5,
          7,
          4,
          12,
          4,
          5,
          3,
          1,
          2
         ],
         "yaxis": "y"
        },
        {
         "hovertemplate": "os_name=ipados<br>show_dt=%{x}<br>approve_flag=%{y}<extra></extra>",
         "legendgroup": "ipados",
         "line": {
          "color": "#00cc96",
          "dash": "solid"
         },
         "marker": {
          "symbol": "circle"
         },
         "mode": "lines",
         "name": "ipados",
         "orientation": "v",
         "showlegend": true,
         "type": "scatter",
         "x": [
          "2025-05-21T05:00:00+00:00"
         ],
         "xaxis": "x",
         "y": [
          1
         ],
         "yaxis": "y"
        }
       ],
       "layout": {
        "legend": {
         "title": {
          "text": "os_name"
         },
         "tracegroupgap": 0
        },
        "shapes": [
         {
          "fillcolor": "lightgreen",
          "layer": "below",
          "line": {
           "width": 0
          },
          "opacity": 0.2,
          "type": "rect",
          "x0": "2025-05-22 00:00:00+00:00",
          "x1": "2025-05-23 00:00:00+00:00",
          "xref": "x",
          "y0": 0,
          "y1": 1,
          "yref": "y domain"
         }
        ],
        "template": {
         "data": {
          "bar": [
           {
            "error_x": {
             "color": "#2a3f5f"
            },
            "error_y": {
             "color": "#2a3f5f"
            },
            "marker": {
             "line": {
              "color": "#E5ECF6",
              "width": 0.5
             },
             "pattern": {
              "fillmode": "overlay",
              "size": 10,
              "solidity": 0.2
             }
            },
            "type": "bar"
           }
          ],
          "barpolar": [
           {
            "marker": {
             "line": {
              "color": "#E5ECF6",
              "width": 0.5
             },
             "pattern": {
              "fillmode": "overlay",
              "size": 10,
              "solidity": 0.2
             }
            },
            "type": "barpolar"
           }
          ],
          "carpet": [
           {
            "aaxis": {
             "endlinecolor": "#2a3f5f",
             "gridcolor": "white",
             "linecolor": "white",
             "minorgridcolor": "white",
             "startlinecolor": "#2a3f5f"
            },
            "baxis": {
             "endlinecolor": "#2a3f5f",
             "gridcolor": "white",
             "linecolor": "white",
             "minorgridcolor": "white",
             "startlinecolor": "#2a3f5f"
            },
            "type": "carpet"
           }
          ],
          "choropleth": [
           {
            "colorbar": {
             "outlinewidth": 0,
             "ticks": ""
            },
            "type": "choropleth"
           }
          ],
          "contour": [
           {
            "colorbar": {
             "outlinewidth": 0,
             "ticks": ""
            },
            "colorscale": [
             [
              0,
              "#0d0887"
             ],
             [
              0.1111111111111111,
              "#46039f"
             ],
             [
              0.2222222222222222,
              "#7201a8"
             ],
             [
              0.3333333333333333,
              "#9c179e"
             ],
             [
              0.4444444444444444,
              "#bd3786"
             ],
             [
              0.5555555555555556,
              "#d8576b"
             ],
             [
              0.6666666666666666,
              "#ed7953"
             ],
             [
              0.7777777777777778,
              "#fb9f3a"
             ],
             [
              0.8888888888888888,
              "#fdca26"
             ],
             [
              1,
              "#f0f921"
             ]
            ],
            "type": "contour"
           }
          ],
          "contourcarpet": [
           {
            "colorbar": {
             "outlinewidth": 0,
             "ticks": ""
            },
            "type": "contourcarpet"
           }
          ],
          "heatmap": [
           {
            "colorbar": {
             "outlinewidth": 0,
             "ticks": ""
            },
            "colorscale": [
             [
              0,
              "#0d0887"
             ],
             [
              0.1111111111111111,
              "#46039f"
             ],
             [
              0.2222222222222222,
              "#7201a8"
             ],
             [
              0.3333333333333333,
              "#9c179e"
             ],
             [
              0.4444444444444444,
              "#bd3786"
             ],
             [
              0.5555555555555556,
              "#d8576b"
             ],
             [
              0.6666666666666666,
              "#ed7953"
             ],
             [
              0.7777777777777778,
              "#fb9f3a"
             ],
             [
              0.8888888888888888,
              "#fdca26"
             ],
             [
              1,
              "#f0f921"
             ]
            ],
            "type": "heatmap"
           }
          ],
          "heatmapgl": [
           {
            "colorbar": {
             "outlinewidth": 0,
             "ticks": ""
            },
            "colorscale": [
             [
              0,
              "#0d0887"
             ],
             [
              0.1111111111111111,
              "#46039f"
             ],
             [
              0.2222222222222222,
              "#7201a8"
             ],
             [
              0.3333333333333333,
              "#9c179e"
             ],
             [
              0.4444444444444444,
              "#bd3786"
             ],
             [
              0.5555555555555556,
              "#d8576b"
             ],
             [
              0.6666666666666666,
              "#ed7953"
             ],
             [
              0.7777777777777778,
              "#fb9f3a"
             ],
             [
              0.8888888888888888,
              "#fdca26"
             ],
             [
              1,
              "#f0f921"
             ]
            ],
            "type": "heatmapgl"
           }
          ],
          "histogram": [
           {
            "marker": {
             "pattern": {
              "fillmode": "overlay",
              "size": 10,
              "solidity": 0.2
             }
            },
            "type": "histogram"
           }
          ],
          "histogram2d": [
           {
            "colorbar": {
             "outlinewidth": 0,
             "ticks": ""
            },
            "colorscale": [
             [
              0,
              "#0d0887"
             ],
             [
              0.1111111111111111,
              "#46039f"
             ],
             [
              0.2222222222222222,
              "#7201a8"
             ],
             [
              0.3333333333333333,
              "#9c179e"
             ],
             [
              0.4444444444444444,
              "#bd3786"
             ],
             [
              0.5555555555555556,
              "#d8576b"
             ],
             [
              0.6666666666666666,
              "#ed7953"
             ],
             [
              0.7777777777777778,
              "#fb9f3a"
             ],
             [
              0.8888888888888888,
              "#fdca26"
             ],
             [
              1,
              "#f0f921"
             ]
            ],
            "type": "histogram2d"
           }
          ],
          "histogram2dcontour": [
           {
            "colorbar": {
             "outlinewidth": 0,
             "ticks": ""
            },
            "colorscale": [
             [
              0,
              "#0d0887"
             ],
             [
              0.1111111111111111,
              "#46039f"
             ],
             [
              0.2222222222222222,
              "#7201a8"
             ],
             [
              0.3333333333333333,
              "#9c179e"
             ],
             [
              0.4444444444444444,
              "#bd3786"
             ],
             [
              0.5555555555555556,
              "#d8576b"
             ],
             [
              0.6666666666666666,
              "#ed7953"
             ],
             [
              0.7777777777777778,
              "#fb9f3a"
             ],
             [
              0.8888888888888888,
              "#fdca26"
             ],
             [
              1,
              "#f0f921"
             ]
            ],
            "type": "histogram2dcontour"
           }
          ],
          "mesh3d": [
           {
            "colorbar": {
             "outlinewidth": 0,
             "ticks": ""
            },
            "type": "mesh3d"
           }
          ],
          "parcoords": [
           {
            "line": {
             "colorbar": {
              "outlinewidth": 0,
              "ticks": ""
             }
            },
            "type": "parcoords"
           }
          ],
          "pie": [
           {
            "automargin": true,
            "type": "pie"
           }
          ],
          "scatter": [
           {
            "fillpattern": {
             "fillmode": "overlay",
             "size": 10,
             "solidity": 0.2
            },
            "type": "scatter"
           }
          ],
          "scatter3d": [
           {
            "line": {
             "colorbar": {
              "outlinewidth": 0,
              "ticks": ""
             }
            },
            "marker": {
             "colorbar": {
              "outlinewidth": 0,
              "ticks": ""
             }
            },
            "type": "scatter3d"
           }
          ],
          "scattercarpet": [
           {
            "marker": {
             "colorbar": {
              "outlinewidth": 0,
              "ticks": ""
             }
            },
            "type": "scattercarpet"
           }
          ],
          "scattergeo": [
           {
            "marker": {
             "colorbar": {
              "outlinewidth": 0,
              "ticks": ""
             }
            },
            "type": "scattergeo"
           }
          ],
          "scattergl": [
           {
            "marker": {
             "colorbar": {
              "outlinewidth": 0,
              "ticks": ""
             }
            },
            "type": "scattergl"
           }
          ],
          "scattermapbox": [
           {
            "marker": {
             "colorbar": {
              "outlinewidth": 0,
              "ticks": ""
             }
            },
            "type": "scattermapbox"
           }
          ],
          "scatterpolar": [
           {
            "marker": {
             "colorbar": {
              "outlinewidth": 0,
              "ticks": ""
             }
            },
            "type": "scatterpolar"
           }
          ],
          "scatterpolargl": [
           {
            "marker": {
             "colorbar": {
              "outlinewidth": 0,
              "ticks": ""
             }
            },
            "type": "scatterpolargl"
           }
          ],
          "scatterternary": [
           {
            "marker": {
             "colorbar": {
              "outlinewidth": 0,
              "ticks": ""
             }
            },
            "type": "scatterternary"
           }
          ],
          "surface": [
           {
            "colorbar": {
             "outlinewidth": 0,
             "ticks": ""
            },
            "colorscale": [
             [
              0,
              "#0d0887"
             ],
             [
              0.1111111111111111,
              "#46039f"
             ],
             [
              0.2222222222222222,
              "#7201a8"
             ],
             [
              0.3333333333333333,
              "#9c179e"
             ],
             [
              0.4444444444444444,
              "#bd3786"
             ],
             [
              0.5555555555555556,
              "#d8576b"
             ],
             [
              0.6666666666666666,
              "#ed7953"
             ],
             [
              0.7777777777777778,
              "#fb9f3a"
             ],
             [
              0.8888888888888888,
              "#fdca26"
             ],
             [
              1,
              "#f0f921"
             ]
            ],
            "type": "surface"
           }
          ],
          "table": [
           {
            "cells": {
             "fill": {
              "color": "#EBF0F8"
             },
             "line": {
              "color": "white"
             }
            },
            "header": {
             "fill": {
              "color": "#C8D4E3"
             },
             "line": {
              "color": "white"
             }
            },
            "type": "table"
           }
          ]
         },
         "layout": {
          "annotationdefaults": {
           "arrowcolor": "#2a3f5f",
           "arrowhead": 0,
           "arrowwidth": 1
          },
          "autotypenumbers": "strict",
          "coloraxis": {
           "colorbar": {
            "outlinewidth": 0,
            "ticks": ""
           }
          },
          "colorscale": {
           "diverging": [
            [
             0,
             "#8e0152"
            ],
            [
             0.1,
             "#c51b7d"
            ],
            [
             0.2,
             "#de77ae"
            ],
            [
             0.3,
             "#f1b6da"
            ],
            [
             0.4,
             "#fde0ef"
            ],
            [
             0.5,
             "#f7f7f7"
            ],
            [
             0.6,
             "#e6f5d0"
            ],
            [
             0.7,
             "#b8e186"
            ],
            [
             0.8,
             "#7fbc41"
            ],
            [
             0.9,
             "#4d9221"
            ],
            [
             1,
             "#276419"
            ]
           ],
           "sequential": [
            [
             0,
             "#0d0887"
            ],
            [
             0.1111111111111111,
             "#46039f"
            ],
            [
             0.2222222222222222,
             "#7201a8"
            ],
            [
             0.3333333333333333,
             "#9c179e"
            ],
            [
             0.4444444444444444,
             "#bd3786"
            ],
            [
             0.5555555555555556,
             "#d8576b"
            ],
            [
             0.6666666666666666,
             "#ed7953"
            ],
            [
             0.7777777777777778,
             "#fb9f3a"
            ],
            [
             0.8888888888888888,
             "#fdca26"
            ],
            [
             1,
             "#f0f921"
            ]
           ],
           "sequentialminus": [
            [
             0,
             "#0d0887"
            ],
            [
             0.1111111111111111,
             "#46039f"
            ],
            [
             0.2222222222222222,
             "#7201a8"
            ],
            [
             0.3333333333333333,
             "#9c179e"
            ],
            [
             0.4444444444444444,
             "#bd3786"
            ],
            [
             0.5555555555555556,
             "#d8576b"
            ],
            [
             0.6666666666666666,
             "#ed7953"
            ],
            [
             0.7777777777777778,
             "#fb9f3a"
            ],
            [
             0.8888888888888888,
             "#fdca26"
            ],
            [
             1,
             "#f0f921"
            ]
           ]
          },
          "colorway": [
           "#636efa",
           "#EF553B",
           "#00cc96",
           "#ab63fa",
           "#FFA15A",
           "#19d3f3",
           "#FF6692",
           "#B6E880",
           "#FF97FF",
           "#FECB52"
          ],
          "font": {
           "color": "#2a3f5f"
          },
          "geo": {
           "bgcolor": "white",
           "lakecolor": "white",
           "landcolor": "#E5ECF6",
           "showlakes": true,
           "showland": true,
           "subunitcolor": "white"
          },
          "hoverlabel": {
           "align": "left"
          },
          "hovermode": "closest",
          "mapbox": {
           "style": "light"
          },
          "paper_bgcolor": "white",
          "plot_bgcolor": "#E5ECF6",
          "polar": {
           "angularaxis": {
            "gridcolor": "white",
            "linecolor": "white",
            "ticks": ""
           },
           "bgcolor": "#E5ECF6",
           "radialaxis": {
            "gridcolor": "white",
            "linecolor": "white",
            "ticks": ""
           }
          },
          "scene": {
           "xaxis": {
            "backgroundcolor": "#E5ECF6",
            "gridcolor": "white",
            "gridwidth": 2,
            "linecolor": "white",
            "showbackground": true,
            "ticks": "",
            "zerolinecolor": "white"
           },
           "yaxis": {
            "backgroundcolor": "#E5ECF6",
            "gridcolor": "white",
            "gridwidth": 2,
            "linecolor": "white",
            "showbackground": true,
            "ticks": "",
            "zerolinecolor": "white"
           },
           "zaxis": {
            "backgroundcolor": "#E5ECF6",
            "gridcolor": "white",
            "gridwidth": 2,
            "linecolor": "white",
            "showbackground": true,
            "ticks": "",
            "zerolinecolor": "white"
           }
          },
          "shapedefaults": {
           "line": {
            "color": "#2a3f5f"
           }
          },
          "ternary": {
           "aaxis": {
            "gridcolor": "white",
            "linecolor": "white",
            "ticks": ""
           },
           "baxis": {
            "gridcolor": "white",
            "linecolor": "white",
            "ticks": ""
           },
           "bgcolor": "#E5ECF6",
           "caxis": {
            "gridcolor": "white",
            "linecolor": "white",
            "ticks": ""
           }
          },
          "title": {
           "x": 0.05
          },
          "xaxis": {
           "automargin": true,
           "gridcolor": "white",
           "linecolor": "white",
           "ticks": "",
           "title": {
            "standoff": 15
           },
           "zerolinecolor": "white",
           "zerolinewidth": 2
          },
          "yaxis": {
           "automargin": true,
           "gridcolor": "white",
           "linecolor": "white",
           "ticks": "",
           "title": {
            "standoff": 15
           },
           "zerolinecolor": "white",
           "zerolinewidth": 2
          }
         }
        },
        "title": {
         "text": "Argentina"
        },
        "xaxis": {
         "anchor": "y",
         "domain": [
          0,
          1
         ],
         "title": {
          "text": "show_dt"
         }
        },
        "yaxis": {
         "anchor": "x",
         "domain": [
          0,
          1
         ],
         "title": {
          "text": "approve_flag"
         }
        }
       }
      }
     },
     "metadata": {},
     "output_type": "display_data"
    },
    {
     "data": {
      "application/vnd.plotly.v1+json": {
       "config": {
        "plotlyServerURL": "https://plot.ly"
       },
       "data": [
        {
         "hovertemplate": "os_name=ios<br>show_dt=%{x}<br>approve_flag=%{y}<extra></extra>",
         "legendgroup": "ios",
         "line": {
          "color": "#636efa",
          "dash": "solid"
         },
         "marker": {
          "symbol": "circle"
         },
         "mode": "lines",
         "name": "ios",
         "orientation": "v",
         "showlegend": true,
         "type": "scatter",
         "x": [
          "2025-05-11T00:30:00+00:00",
          "2025-05-15T05:30:00+00:00",
          "2025-05-17T12:00:00+00:00",
          "2025-05-17T18:00:00+00:00",
          "2025-05-18T19:00:00+00:00",
          "2025-05-19T01:00:00+00:00",
          "2025-05-19T13:30:00+00:00",
          "2025-05-20T00:00:00+00:00",
          "2025-05-20T00:30:00+00:00",
          "2025-05-20T01:00:00+00:00",
          "2025-05-20T01:30:00+00:00",
          "2025-05-20T02:00:00+00:00",
          "2025-05-20T02:30:00+00:00",
          "2025-05-20T03:00:00+00:00",
          "2025-05-20T03:30:00+00:00",
          "2025-05-20T04:00:00+00:00",
          "2025-05-20T04:30:00+00:00",
          "2025-05-20T05:00:00+00:00",
          "2025-05-20T05:30:00+00:00",
          "2025-05-20T06:00:00+00:00",
          "2025-05-20T06:30:00+00:00",
          "2025-05-20T07:30:00+00:00",
          "2025-05-20T08:00:00+00:00",
          "2025-05-20T09:00:00+00:00",
          "2025-05-20T09:30:00+00:00",
          "2025-05-20T10:00:00+00:00",
          "2025-05-20T10:30:00+00:00",
          "2025-05-20T11:00:00+00:00",
          "2025-05-20T11:30:00+00:00",
          "2025-05-20T12:00:00+00:00",
          "2025-05-20T12:30:00+00:00",
          "2025-05-20T13:00:00+00:00",
          "2025-05-20T13:30:00+00:00",
          "2025-05-20T14:00:00+00:00",
          "2025-05-20T14:30:00+00:00",
          "2025-05-20T15:00:00+00:00",
          "2025-05-20T15:30:00+00:00",
          "2025-05-20T16:00:00+00:00",
          "2025-05-20T16:30:00+00:00",
          "2025-05-20T17:00:00+00:00",
          "2025-05-20T17:30:00+00:00",
          "2025-05-20T18:00:00+00:00",
          "2025-05-20T18:30:00+00:00",
          "2025-05-20T19:00:00+00:00",
          "2025-05-20T19:30:00+00:00",
          "2025-05-20T20:00:00+00:00",
          "2025-05-20T20:30:00+00:00",
          "2025-05-20T21:00:00+00:00",
          "2025-05-20T21:30:00+00:00",
          "2025-05-20T22:00:00+00:00",
          "2025-05-20T22:30:00+00:00",
          "2025-05-20T23:00:00+00:00",
          "2025-05-20T23:30:00+00:00",
          "2025-05-21T00:00:00+00:00",
          "2025-05-21T00:30:00+00:00",
          "2025-05-21T01:00:00+00:00",
          "2025-05-21T01:30:00+00:00",
          "2025-05-21T02:00:00+00:00",
          "2025-05-21T02:30:00+00:00",
          "2025-05-21T03:00:00+00:00",
          "2025-05-21T03:30:00+00:00",
          "2025-05-21T04:00:00+00:00",
          "2025-05-21T05:30:00+00:00",
          "2025-05-21T06:00:00+00:00",
          "2025-05-21T06:30:00+00:00",
          "2025-05-21T07:00:00+00:00",
          "2025-05-21T08:00:00+00:00",
          "2025-05-21T09:30:00+00:00",
          "2025-05-21T10:30:00+00:00",
          "2025-05-21T11:00:00+00:00",
          "2025-05-21T11:30:00+00:00",
          "2025-05-21T12:00:00+00:00",
          "2025-05-21T12:30:00+00:00",
          "2025-05-21T13:00:00+00:00",
          "2025-05-21T13:30:00+00:00",
          "2025-05-21T14:00:00+00:00",
          "2025-05-21T14:30:00+00:00",
          "2025-05-21T15:00:00+00:00",
          "2025-05-21T15:30:00+00:00",
          "2025-05-21T16:00:00+00:00",
          "2025-05-21T16:30:00+00:00",
          "2025-05-21T17:00:00+00:00",
          "2025-05-21T17:30:00+00:00",
          "2025-05-21T18:00:00+00:00",
          "2025-05-21T18:30:00+00:00",
          "2025-05-21T19:00:00+00:00",
          "2025-05-21T19:30:00+00:00",
          "2025-05-21T20:00:00+00:00",
          "2025-05-21T20:30:00+00:00",
          "2025-05-21T21:00:00+00:00",
          "2025-05-21T21:30:00+00:00",
          "2025-05-21T22:00:00+00:00",
          "2025-05-21T22:30:00+00:00",
          "2025-05-21T23:00:00+00:00",
          "2025-05-21T23:30:00+00:00",
          "2025-05-22T00:00:00+00:00",
          "2025-05-22T00:30:00+00:00",
          "2025-05-22T01:00:00+00:00",
          "2025-05-22T01:30:00+00:00",
          "2025-05-22T02:00:00+00:00",
          "2025-05-22T02:30:00+00:00",
          "2025-05-22T03:00:00+00:00",
          "2025-05-22T03:30:00+00:00",
          "2025-05-22T04:00:00+00:00",
          "2025-05-22T04:30:00+00:00",
          "2025-05-22T05:00:00+00:00",
          "2025-05-22T05:30:00+00:00",
          "2025-05-22T08:00:00+00:00",
          "2025-05-22T08:30:00+00:00",
          "2025-05-22T09:00:00+00:00",
          "2025-05-22T09:30:00+00:00",
          "2025-05-22T10:30:00+00:00",
          "2025-05-22T11:00:00+00:00",
          "2025-05-22T11:30:00+00:00",
          "2025-05-22T12:00:00+00:00",
          "2025-05-22T12:30:00+00:00",
          "2025-05-22T13:00:00+00:00",
          "2025-05-22T13:30:00+00:00",
          "2025-05-22T14:00:00+00:00",
          "2025-05-22T14:30:00+00:00",
          "2025-05-22T15:00:00+00:00",
          "2025-05-22T15:30:00+00:00",
          "2025-05-22T16:00:00+00:00",
          "2025-05-22T16:30:00+00:00",
          "2025-05-22T17:00:00+00:00",
          "2025-05-22T17:30:00+00:00",
          "2025-05-22T18:00:00+00:00",
          "2025-05-22T18:30:00+00:00",
          "2025-05-22T19:00:00+00:00",
          "2025-05-22T19:30:00+00:00",
          "2025-05-22T20:00:00+00:00",
          "2025-05-22T20:30:00+00:00",
          "2025-05-22T21:00:00+00:00",
          "2025-05-22T21:30:00+00:00",
          "2025-05-22T22:00:00+00:00",
          "2025-05-22T22:30:00+00:00",
          "2025-05-22T23:00:00+00:00",
          "2025-05-22T23:30:00+00:00"
         ],
         "xaxis": "x",
         "y": [
          1,
          1,
          1,
          0,
          1,
          0,
          1,
          5,
          4,
          7,
          9,
          5,
          5,
          3,
          2,
          3,
          3,
          2,
          1,
          1,
          1,
          2,
          1,
          1,
          1,
          1,
          2,
          3,
          5,
          7,
          4,
          6,
          8,
          6,
          5,
          7,
          10,
          6,
          5,
          7,
          5,
          6,
          18,
          9,
          6,
          9,
          3,
          11,
          11,
          11,
          6,
          8,
          1,
          7,
          4,
          7,
          4,
          1,
          2,
          4,
          7,
          1,
          3,
          1,
          1,
          2,
          1,
          1,
          2,
          1,
          8,
          8,
          8,
          10,
          6,
          2,
          4,
          2,
          6,
          6,
          2,
          9,
          3,
          5,
          6,
          6,
          10,
          12,
          8,
          8,
          4,
          7,
          6,
          9,
          8,
          7,
          8,
          4,
          6,
          8,
          7,
          6,
          1,
          3,
          1,
          3,
          1,
          2,
          1,
          2,
          1,
          1,
          4,
          8,
          5,
          4,
          6,
          2,
          6,
          2,
          9,
          7,
          3,
          8,
          6,
          10,
          14,
          5,
          10,
          5,
          8,
          19,
          12,
          12,
          17,
          16,
          10,
          15
         ],
         "yaxis": "y"
        },
        {
         "hovertemplate": "os_name=android<br>show_dt=%{x}<br>approve_flag=%{y}<extra></extra>",
         "legendgroup": "android",
         "line": {
          "color": "#EF553B",
          "dash": "solid"
         },
         "marker": {
          "symbol": "circle"
         },
         "mode": "lines",
         "name": "android",
         "orientation": "v",
         "showlegend": true,
         "type": "scatter",
         "x": [
          "2025-05-14T21:00:00+00:00",
          "2025-05-17T03:00:00+00:00",
          "2025-05-18T04:30:00+00:00",
          "2025-05-18T18:30:00+00:00",
          "2025-05-18T23:30:00+00:00",
          "2025-05-19T01:00:00+00:00",
          "2025-05-20T00:00:00+00:00",
          "2025-05-20T00:30:00+00:00",
          "2025-05-20T01:00:00+00:00",
          "2025-05-20T01:30:00+00:00",
          "2025-05-20T02:00:00+00:00",
          "2025-05-20T02:30:00+00:00",
          "2025-05-20T03:00:00+00:00",
          "2025-05-20T03:30:00+00:00",
          "2025-05-20T04:00:00+00:00",
          "2025-05-20T04:30:00+00:00",
          "2025-05-20T05:00:00+00:00",
          "2025-05-20T05:30:00+00:00",
          "2025-05-20T06:00:00+00:00",
          "2025-05-20T06:30:00+00:00",
          "2025-05-20T07:00:00+00:00",
          "2025-05-20T07:30:00+00:00",
          "2025-05-20T08:00:00+00:00",
          "2025-05-20T08:30:00+00:00",
          "2025-05-20T09:00:00+00:00",
          "2025-05-20T09:30:00+00:00",
          "2025-05-20T10:00:00+00:00",
          "2025-05-20T10:30:00+00:00",
          "2025-05-20T11:00:00+00:00",
          "2025-05-20T11:30:00+00:00",
          "2025-05-20T12:00:00+00:00",
          "2025-05-20T12:30:00+00:00",
          "2025-05-20T13:00:00+00:00",
          "2025-05-20T13:30:00+00:00",
          "2025-05-20T14:00:00+00:00",
          "2025-05-20T14:30:00+00:00",
          "2025-05-20T15:00:00+00:00",
          "2025-05-20T15:30:00+00:00",
          "2025-05-20T16:00:00+00:00",
          "2025-05-20T16:30:00+00:00",
          "2025-05-20T17:00:00+00:00",
          "2025-05-20T17:30:00+00:00",
          "2025-05-20T18:00:00+00:00",
          "2025-05-20T18:30:00+00:00",
          "2025-05-20T19:00:00+00:00",
          "2025-05-20T19:30:00+00:00",
          "2025-05-20T20:00:00+00:00",
          "2025-05-20T20:30:00+00:00",
          "2025-05-20T21:00:00+00:00",
          "2025-05-20T21:30:00+00:00",
          "2025-05-20T22:00:00+00:00",
          "2025-05-20T22:30:00+00:00",
          "2025-05-20T23:00:00+00:00",
          "2025-05-20T23:30:00+00:00",
          "2025-05-21T00:00:00+00:00",
          "2025-05-21T00:30:00+00:00",
          "2025-05-21T01:00:00+00:00",
          "2025-05-21T01:30:00+00:00",
          "2025-05-21T02:00:00+00:00",
          "2025-05-21T02:30:00+00:00",
          "2025-05-21T03:00:00+00:00",
          "2025-05-21T03:30:00+00:00",
          "2025-05-21T04:00:00+00:00",
          "2025-05-21T04:30:00+00:00",
          "2025-05-21T05:00:00+00:00",
          "2025-05-21T05:30:00+00:00",
          "2025-05-21T06:00:00+00:00",
          "2025-05-21T06:30:00+00:00",
          "2025-05-21T07:00:00+00:00",
          "2025-05-21T07:30:00+00:00",
          "2025-05-21T08:00:00+00:00",
          "2025-05-21T08:30:00+00:00",
          "2025-05-21T09:00:00+00:00",
          "2025-05-21T09:30:00+00:00",
          "2025-05-21T10:00:00+00:00",
          "2025-05-21T10:30:00+00:00",
          "2025-05-21T11:00:00+00:00",
          "2025-05-21T11:30:00+00:00",
          "2025-05-21T12:00:00+00:00",
          "2025-05-21T12:30:00+00:00",
          "2025-05-21T13:00:00+00:00",
          "2025-05-21T13:30:00+00:00",
          "2025-05-21T14:00:00+00:00",
          "2025-05-21T14:30:00+00:00",
          "2025-05-21T15:00:00+00:00",
          "2025-05-21T15:30:00+00:00",
          "2025-05-21T16:00:00+00:00",
          "2025-05-21T16:30:00+00:00",
          "2025-05-21T17:00:00+00:00",
          "2025-05-21T17:30:00+00:00",
          "2025-05-21T18:00:00+00:00",
          "2025-05-21T18:30:00+00:00",
          "2025-05-21T19:00:00+00:00",
          "2025-05-21T19:30:00+00:00",
          "2025-05-21T20:00:00+00:00",
          "2025-05-21T20:30:00+00:00",
          "2025-05-21T21:00:00+00:00",
          "2025-05-21T21:30:00+00:00",
          "2025-05-21T22:00:00+00:00",
          "2025-05-21T22:30:00+00:00",
          "2025-05-21T23:00:00+00:00",
          "2025-05-21T23:30:00+00:00",
          "2025-05-22T00:00:00+00:00",
          "2025-05-22T00:30:00+00:00",
          "2025-05-22T01:00:00+00:00",
          "2025-05-22T01:30:00+00:00",
          "2025-05-22T02:00:00+00:00",
          "2025-05-22T02:30:00+00:00",
          "2025-05-22T03:00:00+00:00",
          "2025-05-22T03:30:00+00:00",
          "2025-05-22T04:00:00+00:00",
          "2025-05-22T04:30:00+00:00",
          "2025-05-22T05:00:00+00:00",
          "2025-05-22T05:30:00+00:00",
          "2025-05-22T06:00:00+00:00",
          "2025-05-22T06:30:00+00:00",
          "2025-05-22T07:00:00+00:00",
          "2025-05-22T07:30:00+00:00",
          "2025-05-22T08:00:00+00:00",
          "2025-05-22T08:30:00+00:00",
          "2025-05-22T09:00:00+00:00",
          "2025-05-22T09:30:00+00:00",
          "2025-05-22T10:00:00+00:00",
          "2025-05-22T10:30:00+00:00",
          "2025-05-22T11:00:00+00:00",
          "2025-05-22T11:30:00+00:00",
          "2025-05-22T12:00:00+00:00",
          "2025-05-22T12:30:00+00:00",
          "2025-05-22T13:00:00+00:00",
          "2025-05-22T13:30:00+00:00",
          "2025-05-22T14:00:00+00:00",
          "2025-05-22T14:30:00+00:00",
          "2025-05-22T15:00:00+00:00",
          "2025-05-22T15:30:00+00:00",
          "2025-05-22T16:00:00+00:00",
          "2025-05-22T16:30:00+00:00",
          "2025-05-22T17:00:00+00:00",
          "2025-05-22T17:30:00+00:00",
          "2025-05-22T18:00:00+00:00",
          "2025-05-22T18:30:00+00:00",
          "2025-05-22T19:00:00+00:00",
          "2025-05-22T19:30:00+00:00",
          "2025-05-22T20:00:00+00:00",
          "2025-05-22T20:30:00+00:00",
          "2025-05-22T21:00:00+00:00",
          "2025-05-22T21:30:00+00:00",
          "2025-05-22T22:00:00+00:00",
          "2025-05-22T22:30:00+00:00",
          "2025-05-22T23:00:00+00:00",
          "2025-05-22T23:30:00+00:00",
          "2025-05-23T00:00:00+00:00"
         ],
         "xaxis": "x",
         "y": [
          1,
          1,
          1,
          0,
          0,
          1,
          20,
          27,
          26,
          30,
          26,
          30,
          24,
          19,
          13,
          9,
          14,
          14,
          7,
          6,
          1,
          3,
          4,
          3,
          3,
          6,
          9,
          12,
          19,
          24,
          26,
          28,
          22,
          30,
          13,
          17,
          27,
          18,
          19,
          24,
          15,
          34,
          19,
          19,
          25,
          26,
          29,
          26,
          18,
          29,
          33,
          29,
          27,
          26,
          25,
          20,
          29,
          23,
          37,
          25,
          26,
          12,
          19,
          6,
          13,
          6,
          9,
          3,
          4,
          7,
          6,
          2,
          3,
          5,
          7,
          10,
          16,
          30,
          16,
          18,
          22,
          22,
          24,
          23,
          19,
          26,
          32,
          22,
          19,
          21,
          21,
          22,
          28,
          26,
          24,
          21,
          22,
          27,
          38,
          30,
          23,
          33,
          22,
          34,
          29,
          16,
          26,
          28,
          23,
          20,
          18,
          11,
          11,
          6,
          5,
          3,
          8,
          3,
          2,
          3,
          3,
          4,
          7,
          8,
          13,
          17,
          19,
          31,
          24,
          21,
          25,
          23,
          23,
          26,
          22,
          19,
          31,
          26,
          29,
          15,
          31,
          23,
          28,
          33,
          36,
          38,
          35,
          27,
          36,
          26,
          0
         ],
         "yaxis": "y"
        },
        {
         "hovertemplate": "os_name=ipados<br>show_dt=%{x}<br>approve_flag=%{y}<extra></extra>",
         "legendgroup": "ipados",
         "line": {
          "color": "#00cc96",
          "dash": "solid"
         },
         "marker": {
          "symbol": "circle"
         },
         "mode": "lines",
         "name": "ipados",
         "orientation": "v",
         "showlegend": true,
         "type": "scatter",
         "x": [
          "2025-05-20T10:30:00+00:00",
          "2025-05-20T13:30:00+00:00"
         ],
         "xaxis": "x",
         "y": [
          0,
          0
         ],
         "yaxis": "y"
        },
        {
         "hovertemplate": "os_name=Android<br>show_dt=%{x}<br>approve_flag=%{y}<extra></extra>",
         "legendgroup": "Android",
         "line": {
          "color": "#ab63fa",
          "dash": "solid"
         },
         "marker": {
          "symbol": "circle"
         },
         "mode": "lines",
         "name": "Android",
         "orientation": "v",
         "showlegend": true,
         "type": "scatter",
         "x": [
          "2025-05-21T01:30:00+00:00"
         ],
         "xaxis": "x",
         "y": [
          0
         ],
         "yaxis": "y"
        }
       ],
       "layout": {
        "legend": {
         "title": {
          "text": "os_name"
         },
         "tracegroupgap": 0
        },
        "shapes": [
         {
          "fillcolor": "lightgreen",
          "layer": "below",
          "line": {
           "width": 0
          },
          "opacity": 0.2,
          "type": "rect",
          "x0": "2025-05-22 00:00:00+00:00",
          "x1": "2025-05-23 00:00:00+00:00",
          "xref": "x",
          "y0": 0,
          "y1": 1,
          "yref": "y domain"
         }
        ],
        "template": {
         "data": {
          "bar": [
           {
            "error_x": {
             "color": "#2a3f5f"
            },
            "error_y": {
             "color": "#2a3f5f"
            },
            "marker": {
             "line": {
              "color": "#E5ECF6",
              "width": 0.5
             },
             "pattern": {
              "fillmode": "overlay",
              "size": 10,
              "solidity": 0.2
             }
            },
            "type": "bar"
           }
          ],
          "barpolar": [
           {
            "marker": {
             "line": {
              "color": "#E5ECF6",
              "width": 0.5
             },
             "pattern": {
              "fillmode": "overlay",
              "size": 10,
              "solidity": 0.2
             }
            },
            "type": "barpolar"
           }
          ],
          "carpet": [
           {
            "aaxis": {
             "endlinecolor": "#2a3f5f",
             "gridcolor": "white",
             "linecolor": "white",
             "minorgridcolor": "white",
             "startlinecolor": "#2a3f5f"
            },
            "baxis": {
             "endlinecolor": "#2a3f5f",
             "gridcolor": "white",
             "linecolor": "white",
             "minorgridcolor": "white",
             "startlinecolor": "#2a3f5f"
            },
            "type": "carpet"
           }
          ],
          "choropleth": [
           {
            "colorbar": {
             "outlinewidth": 0,
             "ticks": ""
            },
            "type": "choropleth"
           }
          ],
          "contour": [
           {
            "colorbar": {
             "outlinewidth": 0,
             "ticks": ""
            },
            "colorscale": [
             [
              0,
              "#0d0887"
             ],
             [
              0.1111111111111111,
              "#46039f"
             ],
             [
              0.2222222222222222,
              "#7201a8"
             ],
             [
              0.3333333333333333,
              "#9c179e"
             ],
             [
              0.4444444444444444,
              "#bd3786"
             ],
             [
              0.5555555555555556,
              "#d8576b"
             ],
             [
              0.6666666666666666,
              "#ed7953"
             ],
             [
              0.7777777777777778,
              "#fb9f3a"
             ],
             [
              0.8888888888888888,
              "#fdca26"
             ],
             [
              1,
              "#f0f921"
             ]
            ],
            "type": "contour"
           }
          ],
          "contourcarpet": [
           {
            "colorbar": {
             "outlinewidth": 0,
             "ticks": ""
            },
            "type": "contourcarpet"
           }
          ],
          "heatmap": [
           {
            "colorbar": {
             "outlinewidth": 0,
             "ticks": ""
            },
            "colorscale": [
             [
              0,
              "#0d0887"
             ],
             [
              0.1111111111111111,
              "#46039f"
             ],
             [
              0.2222222222222222,
              "#7201a8"
             ],
             [
              0.3333333333333333,
              "#9c179e"
             ],
             [
              0.4444444444444444,
              "#bd3786"
             ],
             [
              0.5555555555555556,
              "#d8576b"
             ],
             [
              0.6666666666666666,
              "#ed7953"
             ],
             [
              0.7777777777777778,
              "#fb9f3a"
             ],
             [
              0.8888888888888888,
              "#fdca26"
             ],
             [
              1,
              "#f0f921"
             ]
            ],
            "type": "heatmap"
           }
          ],
          "heatmapgl": [
           {
            "colorbar": {
             "outlinewidth": 0,
             "ticks": ""
            },
            "colorscale": [
             [
              0,
              "#0d0887"
             ],
             [
              0.1111111111111111,
              "#46039f"
             ],
             [
              0.2222222222222222,
              "#7201a8"
             ],
             [
              0.3333333333333333,
              "#9c179e"
             ],
             [
              0.4444444444444444,
              "#bd3786"
             ],
             [
              0.5555555555555556,
              "#d8576b"
             ],
             [
              0.6666666666666666,
              "#ed7953"
             ],
             [
              0.7777777777777778,
              "#fb9f3a"
             ],
             [
              0.8888888888888888,
              "#fdca26"
             ],
             [
              1,
              "#f0f921"
             ]
            ],
            "type": "heatmapgl"
           }
          ],
          "histogram": [
           {
            "marker": {
             "pattern": {
              "fillmode": "overlay",
              "size": 10,
              "solidity": 0.2
             }
            },
            "type": "histogram"
           }
          ],
          "histogram2d": [
           {
            "colorbar": {
             "outlinewidth": 0,
             "ticks": ""
            },
            "colorscale": [
             [
              0,
              "#0d0887"
             ],
             [
              0.1111111111111111,
              "#46039f"
             ],
             [
              0.2222222222222222,
              "#7201a8"
             ],
             [
              0.3333333333333333,
              "#9c179e"
             ],
             [
              0.4444444444444444,
              "#bd3786"
             ],
             [
              0.5555555555555556,
              "#d8576b"
             ],
             [
              0.6666666666666666,
              "#ed7953"
             ],
             [
              0.7777777777777778,
              "#fb9f3a"
             ],
             [
              0.8888888888888888,
              "#fdca26"
             ],
             [
              1,
              "#f0f921"
             ]
            ],
            "type": "histogram2d"
           }
          ],
          "histogram2dcontour": [
           {
            "colorbar": {
             "outlinewidth": 0,
             "ticks": ""
            },
            "colorscale": [
             [
              0,
              "#0d0887"
             ],
             [
              0.1111111111111111,
              "#46039f"
             ],
             [
              0.2222222222222222,
              "#7201a8"
             ],
             [
              0.3333333333333333,
              "#9c179e"
             ],
             [
              0.4444444444444444,
              "#bd3786"
             ],
             [
              0.5555555555555556,
              "#d8576b"
             ],
             [
              0.6666666666666666,
              "#ed7953"
             ],
             [
              0.7777777777777778,
              "#fb9f3a"
             ],
             [
              0.8888888888888888,
              "#fdca26"
             ],
             [
              1,
              "#f0f921"
             ]
            ],
            "type": "histogram2dcontour"
           }
          ],
          "mesh3d": [
           {
            "colorbar": {
             "outlinewidth": 0,
             "ticks": ""
            },
            "type": "mesh3d"
           }
          ],
          "parcoords": [
           {
            "line": {
             "colorbar": {
              "outlinewidth": 0,
              "ticks": ""
             }
            },
            "type": "parcoords"
           }
          ],
          "pie": [
           {
            "automargin": true,
            "type": "pie"
           }
          ],
          "scatter": [
           {
            "fillpattern": {
             "fillmode": "overlay",
             "size": 10,
             "solidity": 0.2
            },
            "type": "scatter"
           }
          ],
          "scatter3d": [
           {
            "line": {
             "colorbar": {
              "outlinewidth": 0,
              "ticks": ""
             }
            },
            "marker": {
             "colorbar": {
              "outlinewidth": 0,
              "ticks": ""
             }
            },
            "type": "scatter3d"
           }
          ],
          "scattercarpet": [
           {
            "marker": {
             "colorbar": {
              "outlinewidth": 0,
              "ticks": ""
             }
            },
            "type": "scattercarpet"
           }
          ],
          "scattergeo": [
           {
            "marker": {
             "colorbar": {
              "outlinewidth": 0,
              "ticks": ""
             }
            },
            "type": "scattergeo"
           }
          ],
          "scattergl": [
           {
            "marker": {
             "colorbar": {
              "outlinewidth": 0,
              "ticks": ""
             }
            },
            "type": "scattergl"
           }
          ],
          "scattermapbox": [
           {
            "marker": {
             "colorbar": {
              "outlinewidth": 0,
              "ticks": ""
             }
            },
            "type": "scattermapbox"
           }
          ],
          "scatterpolar": [
           {
            "marker": {
             "colorbar": {
              "outlinewidth": 0,
              "ticks": ""
             }
            },
            "type": "scatterpolar"
           }
          ],
          "scatterpolargl": [
           {
            "marker": {
             "colorbar": {
              "outlinewidth": 0,
              "ticks": ""
             }
            },
            "type": "scatterpolargl"
           }
          ],
          "scatterternary": [
           {
            "marker": {
             "colorbar": {
              "outlinewidth": 0,
              "ticks": ""
             }
            },
            "type": "scatterternary"
           }
          ],
          "surface": [
           {
            "colorbar": {
             "outlinewidth": 0,
             "ticks": ""
            },
            "colorscale": [
             [
              0,
              "#0d0887"
             ],
             [
              0.1111111111111111,
              "#46039f"
             ],
             [
              0.2222222222222222,
              "#7201a8"
             ],
             [
              0.3333333333333333,
              "#9c179e"
             ],
             [
              0.4444444444444444,
              "#bd3786"
             ],
             [
              0.5555555555555556,
              "#d8576b"
             ],
             [
              0.6666666666666666,
              "#ed7953"
             ],
             [
              0.7777777777777778,
              "#fb9f3a"
             ],
             [
              0.8888888888888888,
              "#fdca26"
             ],
             [
              1,
              "#f0f921"
             ]
            ],
            "type": "surface"
           }
          ],
          "table": [
           {
            "cells": {
             "fill": {
              "color": "#EBF0F8"
             },
             "line": {
              "color": "white"
             }
            },
            "header": {
             "fill": {
              "color": "#C8D4E3"
             },
             "line": {
              "color": "white"
             }
            },
            "type": "table"
           }
          ]
         },
         "layout": {
          "annotationdefaults": {
           "arrowcolor": "#2a3f5f",
           "arrowhead": 0,
           "arrowwidth": 1
          },
          "autotypenumbers": "strict",
          "coloraxis": {
           "colorbar": {
            "outlinewidth": 0,
            "ticks": ""
           }
          },
          "colorscale": {
           "diverging": [
            [
             0,
             "#8e0152"
            ],
            [
             0.1,
             "#c51b7d"
            ],
            [
             0.2,
             "#de77ae"
            ],
            [
             0.3,
             "#f1b6da"
            ],
            [
             0.4,
             "#fde0ef"
            ],
            [
             0.5,
             "#f7f7f7"
            ],
            [
             0.6,
             "#e6f5d0"
            ],
            [
             0.7,
             "#b8e186"
            ],
            [
             0.8,
             "#7fbc41"
            ],
            [
             0.9,
             "#4d9221"
            ],
            [
             1,
             "#276419"
            ]
           ],
           "sequential": [
            [
             0,
             "#0d0887"
            ],
            [
             0.1111111111111111,
             "#46039f"
            ],
            [
             0.2222222222222222,
             "#7201a8"
            ],
            [
             0.3333333333333333,
             "#9c179e"
            ],
            [
             0.4444444444444444,
             "#bd3786"
            ],
            [
             0.5555555555555556,
             "#d8576b"
            ],
            [
             0.6666666666666666,
             "#ed7953"
            ],
            [
             0.7777777777777778,
             "#fb9f3a"
            ],
            [
             0.8888888888888888,
             "#fdca26"
            ],
            [
             1,
             "#f0f921"
            ]
           ],
           "sequentialminus": [
            [
             0,
             "#0d0887"
            ],
            [
             0.1111111111111111,
             "#46039f"
            ],
            [
             0.2222222222222222,
             "#7201a8"
            ],
            [
             0.3333333333333333,
             "#9c179e"
            ],
            [
             0.4444444444444444,
             "#bd3786"
            ],
            [
             0.5555555555555556,
             "#d8576b"
            ],
            [
             0.6666666666666666,
             "#ed7953"
            ],
            [
             0.7777777777777778,
             "#fb9f3a"
            ],
            [
             0.8888888888888888,
             "#fdca26"
            ],
            [
             1,
             "#f0f921"
            ]
           ]
          },
          "colorway": [
           "#636efa",
           "#EF553B",
           "#00cc96",
           "#ab63fa",
           "#FFA15A",
           "#19d3f3",
           "#FF6692",
           "#B6E880",
           "#FF97FF",
           "#FECB52"
          ],
          "font": {
           "color": "#2a3f5f"
          },
          "geo": {
           "bgcolor": "white",
           "lakecolor": "white",
           "landcolor": "#E5ECF6",
           "showlakes": true,
           "showland": true,
           "subunitcolor": "white"
          },
          "hoverlabel": {
           "align": "left"
          },
          "hovermode": "closest",
          "mapbox": {
           "style": "light"
          },
          "paper_bgcolor": "white",
          "plot_bgcolor": "#E5ECF6",
          "polar": {
           "angularaxis": {
            "gridcolor": "white",
            "linecolor": "white",
            "ticks": ""
           },
           "bgcolor": "#E5ECF6",
           "radialaxis": {
            "gridcolor": "white",
            "linecolor": "white",
            "ticks": ""
           }
          },
          "scene": {
           "xaxis": {
            "backgroundcolor": "#E5ECF6",
            "gridcolor": "white",
            "gridwidth": 2,
            "linecolor": "white",
            "showbackground": true,
            "ticks": "",
            "zerolinecolor": "white"
           },
           "yaxis": {
            "backgroundcolor": "#E5ECF6",
            "gridcolor": "white",
            "gridwidth": 2,
            "linecolor": "white",
            "showbackground": true,
            "ticks": "",
            "zerolinecolor": "white"
           },
           "zaxis": {
            "backgroundcolor": "#E5ECF6",
            "gridcolor": "white",
            "gridwidth": 2,
            "linecolor": "white",
            "showbackground": true,
            "ticks": "",
            "zerolinecolor": "white"
           }
          },
          "shapedefaults": {
           "line": {
            "color": "#2a3f5f"
           }
          },
          "ternary": {
           "aaxis": {
            "gridcolor": "white",
            "linecolor": "white",
            "ticks": ""
           },
           "baxis": {
            "gridcolor": "white",
            "linecolor": "white",
            "ticks": ""
           },
           "bgcolor": "#E5ECF6",
           "caxis": {
            "gridcolor": "white",
            "linecolor": "white",
            "ticks": ""
           }
          },
          "title": {
           "x": 0.05
          },
          "xaxis": {
           "automargin": true,
           "gridcolor": "white",
           "linecolor": "white",
           "ticks": "",
           "title": {
            "standoff": 15
           },
           "zerolinecolor": "white",
           "zerolinewidth": 2
          },
          "yaxis": {
           "automargin": true,
           "gridcolor": "white",
           "linecolor": "white",
           "ticks": "",
           "title": {
            "standoff": 15
           },
           "zerolinecolor": "white",
           "zerolinewidth": 2
          }
         }
        },
        "title": {
         "text": "Ecuador"
        },
        "xaxis": {
         "anchor": "y",
         "domain": [
          0,
          1
         ],
         "title": {
          "text": "show_dt"
         }
        },
        "yaxis": {
         "anchor": "x",
         "domain": [
          0,
          1
         ],
         "title": {
          "text": "approve_flag"
         }
        }
       }
      }
     },
     "metadata": {},
     "output_type": "display_data"
    },
    {
     "data": {
      "application/vnd.plotly.v1+json": {
       "config": {
        "plotlyServerURL": "https://plot.ly"
       },
       "data": [
        {
         "hovertemplate": "os_name=ios<br>show_dt=%{x}<br>approve_flag=%{y}<extra></extra>",
         "legendgroup": "ios",
         "line": {
          "color": "#636efa",
          "dash": "solid"
         },
         "marker": {
          "symbol": "circle"
         },
         "mode": "lines",
         "name": "ios",
         "orientation": "v",
         "showlegend": true,
         "type": "scatter",
         "x": [
          "2025-02-03T21:30:00+00:00",
          "2025-04-29T13:00:00+00:00",
          "2025-05-10T01:30:00+00:00",
          "2025-05-17T16:00:00+00:00",
          "2025-05-17T20:00:00+00:00",
          "2025-05-18T06:30:00+00:00",
          "2025-05-19T15:30:00+00:00",
          "2025-05-20T00:00:00+00:00",
          "2025-05-20T00:30:00+00:00",
          "2025-05-20T01:00:00+00:00",
          "2025-05-20T01:30:00+00:00",
          "2025-05-20T02:00:00+00:00",
          "2025-05-20T02:30:00+00:00",
          "2025-05-20T03:00:00+00:00",
          "2025-05-20T03:30:00+00:00",
          "2025-05-20T04:30:00+00:00",
          "2025-05-20T05:00:00+00:00",
          "2025-05-20T05:30:00+00:00",
          "2025-05-20T06:00:00+00:00",
          "2025-05-20T07:30:00+00:00",
          "2025-05-20T08:30:00+00:00",
          "2025-05-20T09:30:00+00:00",
          "2025-05-20T10:30:00+00:00",
          "2025-05-20T11:00:00+00:00",
          "2025-05-20T11:30:00+00:00",
          "2025-05-20T12:00:00+00:00",
          "2025-05-20T12:30:00+00:00",
          "2025-05-20T13:00:00+00:00",
          "2025-05-20T13:30:00+00:00",
          "2025-05-20T14:00:00+00:00",
          "2025-05-20T14:30:00+00:00",
          "2025-05-20T15:00:00+00:00",
          "2025-05-20T15:30:00+00:00",
          "2025-05-20T16:00:00+00:00",
          "2025-05-20T16:30:00+00:00",
          "2025-05-20T17:00:00+00:00",
          "2025-05-20T17:30:00+00:00",
          "2025-05-20T18:00:00+00:00",
          "2025-05-20T18:30:00+00:00",
          "2025-05-20T19:00:00+00:00",
          "2025-05-20T19:30:00+00:00",
          "2025-05-20T20:00:00+00:00",
          "2025-05-20T20:30:00+00:00",
          "2025-05-20T21:00:00+00:00",
          "2025-05-20T21:30:00+00:00",
          "2025-05-20T22:00:00+00:00",
          "2025-05-20T22:30:00+00:00",
          "2025-05-20T23:00:00+00:00",
          "2025-05-20T23:30:00+00:00",
          "2025-05-21T00:00:00+00:00",
          "2025-05-21T00:30:00+00:00",
          "2025-05-21T01:00:00+00:00",
          "2025-05-21T01:30:00+00:00",
          "2025-05-21T02:00:00+00:00",
          "2025-05-21T02:30:00+00:00",
          "2025-05-21T03:00:00+00:00",
          "2025-05-21T03:30:00+00:00",
          "2025-05-21T05:00:00+00:00",
          "2025-05-21T05:30:00+00:00",
          "2025-05-21T06:30:00+00:00",
          "2025-05-21T07:30:00+00:00",
          "2025-05-21T08:00:00+00:00",
          "2025-05-21T09:30:00+00:00",
          "2025-05-21T10:30:00+00:00",
          "2025-05-21T11:00:00+00:00",
          "2025-05-21T11:30:00+00:00",
          "2025-05-21T12:00:00+00:00",
          "2025-05-21T12:30:00+00:00",
          "2025-05-21T13:00:00+00:00",
          "2025-05-21T13:30:00+00:00",
          "2025-05-21T14:00:00+00:00",
          "2025-05-21T14:30:00+00:00",
          "2025-05-21T15:00:00+00:00",
          "2025-05-21T15:30:00+00:00",
          "2025-05-21T16:00:00+00:00",
          "2025-05-21T16:30:00+00:00",
          "2025-05-21T17:00:00+00:00",
          "2025-05-21T17:30:00+00:00",
          "2025-05-21T18:00:00+00:00",
          "2025-05-21T18:30:00+00:00",
          "2025-05-21T19:00:00+00:00",
          "2025-05-21T19:30:00+00:00",
          "2025-05-21T20:00:00+00:00",
          "2025-05-21T20:30:00+00:00",
          "2025-05-21T21:00:00+00:00",
          "2025-05-21T21:30:00+00:00",
          "2025-05-21T22:00:00+00:00",
          "2025-05-21T22:30:00+00:00",
          "2025-05-21T23:00:00+00:00",
          "2025-05-21T23:30:00+00:00",
          "2025-05-22T00:00:00+00:00",
          "2025-05-22T00:30:00+00:00",
          "2025-05-22T01:00:00+00:00",
          "2025-05-22T01:30:00+00:00",
          "2025-05-22T02:00:00+00:00",
          "2025-05-22T02:30:00+00:00",
          "2025-05-22T03:00:00+00:00",
          "2025-05-22T03:30:00+00:00",
          "2025-05-22T04:00:00+00:00",
          "2025-05-22T04:30:00+00:00",
          "2025-05-22T05:30:00+00:00",
          "2025-05-22T06:30:00+00:00",
          "2025-05-22T07:00:00+00:00",
          "2025-05-22T08:00:00+00:00",
          "2025-05-22T09:30:00+00:00",
          "2025-05-22T10:00:00+00:00",
          "2025-05-22T11:00:00+00:00",
          "2025-05-22T11:30:00+00:00",
          "2025-05-22T12:00:00+00:00",
          "2025-05-22T12:30:00+00:00",
          "2025-05-22T13:00:00+00:00",
          "2025-05-22T13:30:00+00:00",
          "2025-05-22T14:00:00+00:00",
          "2025-05-22T14:30:00+00:00",
          "2025-05-22T15:00:00+00:00",
          "2025-05-22T15:30:00+00:00",
          "2025-05-22T16:00:00+00:00",
          "2025-05-22T16:30:00+00:00",
          "2025-05-22T17:00:00+00:00",
          "2025-05-22T17:30:00+00:00",
          "2025-05-22T18:00:00+00:00",
          "2025-05-22T18:30:00+00:00",
          "2025-05-22T19:00:00+00:00",
          "2025-05-22T19:30:00+00:00",
          "2025-05-22T20:00:00+00:00",
          "2025-05-22T20:30:00+00:00",
          "2025-05-22T21:00:00+00:00",
          "2025-05-22T21:30:00+00:00",
          "2025-05-22T22:00:00+00:00",
          "2025-05-22T22:30:00+00:00",
          "2025-05-22T23:00:00+00:00",
          "2025-05-22T23:30:00+00:00"
         ],
         "xaxis": "x",
         "y": [
          1,
          1,
          1,
          0,
          1,
          0,
          1,
          4,
          3,
          5,
          4,
          7,
          3,
          2,
          3,
          3,
          2,
          1,
          1,
          1,
          1,
          2,
          2,
          5,
          7,
          5,
          6,
          4,
          9,
          3,
          6,
          4,
          5,
          1,
          9,
          9,
          5,
          10,
          10,
          6,
          7,
          5,
          2,
          3,
          8,
          7,
          3,
          4,
          8,
          3,
          4,
          4,
          4,
          7,
          1,
          2,
          3,
          3,
          0,
          1,
          2,
          1,
          1,
          1,
          3,
          3,
          8,
          3,
          1,
          4,
          14,
          1,
          10,
          2,
          7,
          3,
          6,
          4,
          3,
          6,
          6,
          3,
          3,
          7,
          6,
          8,
          4,
          4,
          8,
          3,
          5,
          5,
          1,
          5,
          3,
          1,
          6,
          1,
          6,
          2,
          1,
          2,
          1,
          2,
          1,
          2,
          1,
          6,
          9,
          10,
          9,
          5,
          7,
          5,
          4,
          4,
          4,
          8,
          4,
          0,
          5,
          7,
          6,
          3,
          9,
          5,
          8,
          8,
          8,
          8,
          9,
          7
         ],
         "yaxis": "y"
        },
        {
         "hovertemplate": "os_name=android<br>show_dt=%{x}<br>approve_flag=%{y}<extra></extra>",
         "legendgroup": "android",
         "line": {
          "color": "#EF553B",
          "dash": "solid"
         },
         "marker": {
          "symbol": "circle"
         },
         "mode": "lines",
         "name": "android",
         "orientation": "v",
         "showlegend": true,
         "type": "scatter",
         "x": [
          "2025-05-13T21:00:00+00:00",
          "2025-05-15T12:30:00+00:00",
          "2025-05-18T05:00:00+00:00",
          "2025-05-19T02:30:00+00:00",
          "2025-05-19T12:30:00+00:00",
          "2025-05-19T17:30:00+00:00",
          "2025-05-19T18:30:00+00:00",
          "2025-05-19T20:30:00+00:00",
          "2025-05-19T22:00:00+00:00",
          "2025-05-20T00:00:00+00:00",
          "2025-05-20T00:30:00+00:00",
          "2025-05-20T01:00:00+00:00",
          "2025-05-20T01:30:00+00:00",
          "2025-05-20T02:00:00+00:00",
          "2025-05-20T02:30:00+00:00",
          "2025-05-20T03:00:00+00:00",
          "2025-05-20T03:30:00+00:00",
          "2025-05-20T04:00:00+00:00",
          "2025-05-20T04:30:00+00:00",
          "2025-05-20T05:00:00+00:00",
          "2025-05-20T05:30:00+00:00",
          "2025-05-20T06:00:00+00:00",
          "2025-05-20T06:30:00+00:00",
          "2025-05-20T07:00:00+00:00",
          "2025-05-20T07:30:00+00:00",
          "2025-05-20T08:00:00+00:00",
          "2025-05-20T08:30:00+00:00",
          "2025-05-20T09:00:00+00:00",
          "2025-05-20T09:30:00+00:00",
          "2025-05-20T10:00:00+00:00",
          "2025-05-20T10:30:00+00:00",
          "2025-05-20T11:00:00+00:00",
          "2025-05-20T11:30:00+00:00",
          "2025-05-20T12:00:00+00:00",
          "2025-05-20T12:30:00+00:00",
          "2025-05-20T13:00:00+00:00",
          "2025-05-20T13:30:00+00:00",
          "2025-05-20T14:00:00+00:00",
          "2025-05-20T14:30:00+00:00",
          "2025-05-20T15:00:00+00:00",
          "2025-05-20T15:30:00+00:00",
          "2025-05-20T16:00:00+00:00",
          "2025-05-20T16:30:00+00:00",
          "2025-05-20T17:00:00+00:00",
          "2025-05-20T17:30:00+00:00",
          "2025-05-20T18:00:00+00:00",
          "2025-05-20T18:30:00+00:00",
          "2025-05-20T19:00:00+00:00",
          "2025-05-20T19:30:00+00:00",
          "2025-05-20T20:00:00+00:00",
          "2025-05-20T20:30:00+00:00",
          "2025-05-20T21:00:00+00:00",
          "2025-05-20T21:30:00+00:00",
          "2025-05-20T22:00:00+00:00",
          "2025-05-20T22:30:00+00:00",
          "2025-05-20T23:00:00+00:00",
          "2025-05-20T23:30:00+00:00",
          "2025-05-21T00:00:00+00:00",
          "2025-05-21T00:30:00+00:00",
          "2025-05-21T01:00:00+00:00",
          "2025-05-21T01:30:00+00:00",
          "2025-05-21T02:00:00+00:00",
          "2025-05-21T02:30:00+00:00",
          "2025-05-21T03:00:00+00:00",
          "2025-05-21T03:30:00+00:00",
          "2025-05-21T04:00:00+00:00",
          "2025-05-21T04:30:00+00:00",
          "2025-05-21T05:00:00+00:00",
          "2025-05-21T05:30:00+00:00",
          "2025-05-21T06:00:00+00:00",
          "2025-05-21T06:30:00+00:00",
          "2025-05-21T07:00:00+00:00",
          "2025-05-21T07:30:00+00:00",
          "2025-05-21T08:00:00+00:00",
          "2025-05-21T08:30:00+00:00",
          "2025-05-21T09:00:00+00:00",
          "2025-05-21T09:30:00+00:00",
          "2025-05-21T10:00:00+00:00",
          "2025-05-21T10:30:00+00:00",
          "2025-05-21T11:00:00+00:00",
          "2025-05-21T11:30:00+00:00",
          "2025-05-21T12:00:00+00:00",
          "2025-05-21T12:30:00+00:00",
          "2025-05-21T13:00:00+00:00",
          "2025-05-21T13:30:00+00:00",
          "2025-05-21T14:00:00+00:00",
          "2025-05-21T14:30:00+00:00",
          "2025-05-21T15:00:00+00:00",
          "2025-05-21T15:30:00+00:00",
          "2025-05-21T16:00:00+00:00",
          "2025-05-21T16:30:00+00:00",
          "2025-05-21T17:00:00+00:00",
          "2025-05-21T17:30:00+00:00",
          "2025-05-21T18:00:00+00:00",
          "2025-05-21T18:30:00+00:00",
          "2025-05-21T19:00:00+00:00",
          "2025-05-21T19:30:00+00:00",
          "2025-05-21T20:00:00+00:00",
          "2025-05-21T20:30:00+00:00",
          "2025-05-21T21:00:00+00:00",
          "2025-05-21T21:30:00+00:00",
          "2025-05-21T22:00:00+00:00",
          "2025-05-21T22:30:00+00:00",
          "2025-05-21T23:00:00+00:00",
          "2025-05-21T23:30:00+00:00",
          "2025-05-22T00:00:00+00:00",
          "2025-05-22T00:30:00+00:00",
          "2025-05-22T01:00:00+00:00",
          "2025-05-22T01:30:00+00:00",
          "2025-05-22T02:00:00+00:00",
          "2025-05-22T02:30:00+00:00",
          "2025-05-22T03:00:00+00:00",
          "2025-05-22T03:30:00+00:00",
          "2025-05-22T04:00:00+00:00",
          "2025-05-22T04:30:00+00:00",
          "2025-05-22T05:00:00+00:00",
          "2025-05-22T05:30:00+00:00",
          "2025-05-22T06:00:00+00:00",
          "2025-05-22T06:30:00+00:00",
          "2025-05-22T07:00:00+00:00",
          "2025-05-22T07:30:00+00:00",
          "2025-05-22T08:00:00+00:00",
          "2025-05-22T08:30:00+00:00",
          "2025-05-22T09:00:00+00:00",
          "2025-05-22T09:30:00+00:00",
          "2025-05-22T10:00:00+00:00",
          "2025-05-22T10:30:00+00:00",
          "2025-05-22T11:00:00+00:00",
          "2025-05-22T11:30:00+00:00",
          "2025-05-22T12:00:00+00:00",
          "2025-05-22T12:30:00+00:00",
          "2025-05-22T13:00:00+00:00",
          "2025-05-22T13:30:00+00:00",
          "2025-05-22T14:00:00+00:00",
          "2025-05-22T14:30:00+00:00",
          "2025-05-22T15:00:00+00:00",
          "2025-05-22T15:30:00+00:00",
          "2025-05-22T16:00:00+00:00",
          "2025-05-22T16:30:00+00:00",
          "2025-05-22T17:00:00+00:00",
          "2025-05-22T17:30:00+00:00",
          "2025-05-22T18:00:00+00:00",
          "2025-05-22T18:30:00+00:00",
          "2025-05-22T19:00:00+00:00",
          "2025-05-22T19:30:00+00:00",
          "2025-05-22T20:00:00+00:00",
          "2025-05-22T20:30:00+00:00",
          "2025-05-22T21:00:00+00:00",
          "2025-05-22T21:30:00+00:00",
          "2025-05-22T22:00:00+00:00",
          "2025-05-22T22:30:00+00:00",
          "2025-05-22T23:00:00+00:00",
          "2025-05-22T23:30:00+00:00"
         ],
         "xaxis": "x",
         "y": [
          0,
          0,
          0,
          2,
          0,
          0,
          0,
          0,
          0,
          31,
          41,
          30,
          33,
          26,
          23,
          26,
          21,
          19,
          14,
          7,
          6,
          5,
          3,
          2,
          2,
          7,
          2,
          2,
          9,
          10,
          16,
          15,
          38,
          38,
          37,
          31,
          40,
          52,
          28,
          44,
          34,
          33,
          20,
          25,
          26,
          28,
          41,
          36,
          31,
          30,
          33,
          36,
          30,
          34,
          28,
          38,
          22,
          23,
          32,
          33,
          30,
          22,
          34,
          22,
          28,
          20,
          8,
          6,
          8,
          5,
          3,
          5,
          6,
          5,
          2,
          5,
          4,
          3,
          11,
          17,
          31,
          29,
          33,
          39,
          43,
          38,
          37,
          33,
          33,
          36,
          40,
          23,
          20,
          41,
          34,
          44,
          34,
          28,
          43,
          31,
          45,
          38,
          35,
          37,
          30,
          24,
          23,
          22,
          24,
          25,
          30,
          22,
          16,
          19,
          19,
          9,
          3,
          8,
          6,
          3,
          2,
          4,
          5,
          7,
          6,
          17,
          12,
          11,
          24,
          25,
          35,
          26,
          33,
          25,
          26,
          37,
          27,
          34,
          27,
          24,
          29,
          24,
          31,
          35,
          36,
          40,
          36,
          39,
          37,
          34,
          39,
          36,
          27
         ],
         "yaxis": "y"
        },
        {
         "hovertemplate": "os_name=ipados<br>show_dt=%{x}<br>approve_flag=%{y}<extra></extra>",
         "legendgroup": "ipados",
         "line": {
          "color": "#00cc96",
          "dash": "solid"
         },
         "marker": {
          "symbol": "circle"
         },
         "mode": "lines",
         "name": "ipados",
         "orientation": "v",
         "showlegend": true,
         "type": "scatter",
         "x": [
          "2025-05-22T22:30:00+00:00"
         ],
         "xaxis": "x",
         "y": [
          1
         ],
         "yaxis": "y"
        }
       ],
       "layout": {
        "legend": {
         "title": {
          "text": "os_name"
         },
         "tracegroupgap": 0
        },
        "shapes": [
         {
          "fillcolor": "lightgreen",
          "layer": "below",
          "line": {
           "width": 0
          },
          "opacity": 0.2,
          "type": "rect",
          "x0": "2025-05-22 00:00:00+00:00",
          "x1": "2025-05-23 00:00:00+00:00",
          "xref": "x",
          "y0": 0,
          "y1": 1,
          "yref": "y domain"
         }
        ],
        "template": {
         "data": {
          "bar": [
           {
            "error_x": {
             "color": "#2a3f5f"
            },
            "error_y": {
             "color": "#2a3f5f"
            },
            "marker": {
             "line": {
              "color": "#E5ECF6",
              "width": 0.5
             },
             "pattern": {
              "fillmode": "overlay",
              "size": 10,
              "solidity": 0.2
             }
            },
            "type": "bar"
           }
          ],
          "barpolar": [
           {
            "marker": {
             "line": {
              "color": "#E5ECF6",
              "width": 0.5
             },
             "pattern": {
              "fillmode": "overlay",
              "size": 10,
              "solidity": 0.2
             }
            },
            "type": "barpolar"
           }
          ],
          "carpet": [
           {
            "aaxis": {
             "endlinecolor": "#2a3f5f",
             "gridcolor": "white",
             "linecolor": "white",
             "minorgridcolor": "white",
             "startlinecolor": "#2a3f5f"
            },
            "baxis": {
             "endlinecolor": "#2a3f5f",
             "gridcolor": "white",
             "linecolor": "white",
             "minorgridcolor": "white",
             "startlinecolor": "#2a3f5f"
            },
            "type": "carpet"
           }
          ],
          "choropleth": [
           {
            "colorbar": {
             "outlinewidth": 0,
             "ticks": ""
            },
            "type": "choropleth"
           }
          ],
          "contour": [
           {
            "colorbar": {
             "outlinewidth": 0,
             "ticks": ""
            },
            "colorscale": [
             [
              0,
              "#0d0887"
             ],
             [
              0.1111111111111111,
              "#46039f"
             ],
             [
              0.2222222222222222,
              "#7201a8"
             ],
             [
              0.3333333333333333,
              "#9c179e"
             ],
             [
              0.4444444444444444,
              "#bd3786"
             ],
             [
              0.5555555555555556,
              "#d8576b"
             ],
             [
              0.6666666666666666,
              "#ed7953"
             ],
             [
              0.7777777777777778,
              "#fb9f3a"
             ],
             [
              0.8888888888888888,
              "#fdca26"
             ],
             [
              1,
              "#f0f921"
             ]
            ],
            "type": "contour"
           }
          ],
          "contourcarpet": [
           {
            "colorbar": {
             "outlinewidth": 0,
             "ticks": ""
            },
            "type": "contourcarpet"
           }
          ],
          "heatmap": [
           {
            "colorbar": {
             "outlinewidth": 0,
             "ticks": ""
            },
            "colorscale": [
             [
              0,
              "#0d0887"
             ],
             [
              0.1111111111111111,
              "#46039f"
             ],
             [
              0.2222222222222222,
              "#7201a8"
             ],
             [
              0.3333333333333333,
              "#9c179e"
             ],
             [
              0.4444444444444444,
              "#bd3786"
             ],
             [
              0.5555555555555556,
              "#d8576b"
             ],
             [
              0.6666666666666666,
              "#ed7953"
             ],
             [
              0.7777777777777778,
              "#fb9f3a"
             ],
             [
              0.8888888888888888,
              "#fdca26"
             ],
             [
              1,
              "#f0f921"
             ]
            ],
            "type": "heatmap"
           }
          ],
          "heatmapgl": [
           {
            "colorbar": {
             "outlinewidth": 0,
             "ticks": ""
            },
            "colorscale": [
             [
              0,
              "#0d0887"
             ],
             [
              0.1111111111111111,
              "#46039f"
             ],
             [
              0.2222222222222222,
              "#7201a8"
             ],
             [
              0.3333333333333333,
              "#9c179e"
             ],
             [
              0.4444444444444444,
              "#bd3786"
             ],
             [
              0.5555555555555556,
              "#d8576b"
             ],
             [
              0.6666666666666666,
              "#ed7953"
             ],
             [
              0.7777777777777778,
              "#fb9f3a"
             ],
             [
              0.8888888888888888,
              "#fdca26"
             ],
             [
              1,
              "#f0f921"
             ]
            ],
            "type": "heatmapgl"
           }
          ],
          "histogram": [
           {
            "marker": {
             "pattern": {
              "fillmode": "overlay",
              "size": 10,
              "solidity": 0.2
             }
            },
            "type": "histogram"
           }
          ],
          "histogram2d": [
           {
            "colorbar": {
             "outlinewidth": 0,
             "ticks": ""
            },
            "colorscale": [
             [
              0,
              "#0d0887"
             ],
             [
              0.1111111111111111,
              "#46039f"
             ],
             [
              0.2222222222222222,
              "#7201a8"
             ],
             [
              0.3333333333333333,
              "#9c179e"
             ],
             [
              0.4444444444444444,
              "#bd3786"
             ],
             [
              0.5555555555555556,
              "#d8576b"
             ],
             [
              0.6666666666666666,
              "#ed7953"
             ],
             [
              0.7777777777777778,
              "#fb9f3a"
             ],
             [
              0.8888888888888888,
              "#fdca26"
             ],
             [
              1,
              "#f0f921"
             ]
            ],
            "type": "histogram2d"
           }
          ],
          "histogram2dcontour": [
           {
            "colorbar": {
             "outlinewidth": 0,
             "ticks": ""
            },
            "colorscale": [
             [
              0,
              "#0d0887"
             ],
             [
              0.1111111111111111,
              "#46039f"
             ],
             [
              0.2222222222222222,
              "#7201a8"
             ],
             [
              0.3333333333333333,
              "#9c179e"
             ],
             [
              0.4444444444444444,
              "#bd3786"
             ],
             [
              0.5555555555555556,
              "#d8576b"
             ],
             [
              0.6666666666666666,
              "#ed7953"
             ],
             [
              0.7777777777777778,
              "#fb9f3a"
             ],
             [
              0.8888888888888888,
              "#fdca26"
             ],
             [
              1,
              "#f0f921"
             ]
            ],
            "type": "histogram2dcontour"
           }
          ],
          "mesh3d": [
           {
            "colorbar": {
             "outlinewidth": 0,
             "ticks": ""
            },
            "type": "mesh3d"
           }
          ],
          "parcoords": [
           {
            "line": {
             "colorbar": {
              "outlinewidth": 0,
              "ticks": ""
             }
            },
            "type": "parcoords"
           }
          ],
          "pie": [
           {
            "automargin": true,
            "type": "pie"
           }
          ],
          "scatter": [
           {
            "fillpattern": {
             "fillmode": "overlay",
             "size": 10,
             "solidity": 0.2
            },
            "type": "scatter"
           }
          ],
          "scatter3d": [
           {
            "line": {
             "colorbar": {
              "outlinewidth": 0,
              "ticks": ""
             }
            },
            "marker": {
             "colorbar": {
              "outlinewidth": 0,
              "ticks": ""
             }
            },
            "type": "scatter3d"
           }
          ],
          "scattercarpet": [
           {
            "marker": {
             "colorbar": {
              "outlinewidth": 0,
              "ticks": ""
             }
            },
            "type": "scattercarpet"
           }
          ],
          "scattergeo": [
           {
            "marker": {
             "colorbar": {
              "outlinewidth": 0,
              "ticks": ""
             }
            },
            "type": "scattergeo"
           }
          ],
          "scattergl": [
           {
            "marker": {
             "colorbar": {
              "outlinewidth": 0,
              "ticks": ""
             }
            },
            "type": "scattergl"
           }
          ],
          "scattermapbox": [
           {
            "marker": {
             "colorbar": {
              "outlinewidth": 0,
              "ticks": ""
             }
            },
            "type": "scattermapbox"
           }
          ],
          "scatterpolar": [
           {
            "marker": {
             "colorbar": {
              "outlinewidth": 0,
              "ticks": ""
             }
            },
            "type": "scatterpolar"
           }
          ],
          "scatterpolargl": [
           {
            "marker": {
             "colorbar": {
              "outlinewidth": 0,
              "ticks": ""
             }
            },
            "type": "scatterpolargl"
           }
          ],
          "scatterternary": [
           {
            "marker": {
             "colorbar": {
              "outlinewidth": 0,
              "ticks": ""
             }
            },
            "type": "scatterternary"
           }
          ],
          "surface": [
           {
            "colorbar": {
             "outlinewidth": 0,
             "ticks": ""
            },
            "colorscale": [
             [
              0,
              "#0d0887"
             ],
             [
              0.1111111111111111,
              "#46039f"
             ],
             [
              0.2222222222222222,
              "#7201a8"
             ],
             [
              0.3333333333333333,
              "#9c179e"
             ],
             [
              0.4444444444444444,
              "#bd3786"
             ],
             [
              0.5555555555555556,
              "#d8576b"
             ],
             [
              0.6666666666666666,
              "#ed7953"
             ],
             [
              0.7777777777777778,
              "#fb9f3a"
             ],
             [
              0.8888888888888888,
              "#fdca26"
             ],
             [
              1,
              "#f0f921"
             ]
            ],
            "type": "surface"
           }
          ],
          "table": [
           {
            "cells": {
             "fill": {
              "color": "#EBF0F8"
             },
             "line": {
              "color": "white"
             }
            },
            "header": {
             "fill": {
              "color": "#C8D4E3"
             },
             "line": {
              "color": "white"
             }
            },
            "type": "table"
           }
          ]
         },
         "layout": {
          "annotationdefaults": {
           "arrowcolor": "#2a3f5f",
           "arrowhead": 0,
           "arrowwidth": 1
          },
          "autotypenumbers": "strict",
          "coloraxis": {
           "colorbar": {
            "outlinewidth": 0,
            "ticks": ""
           }
          },
          "colorscale": {
           "diverging": [
            [
             0,
             "#8e0152"
            ],
            [
             0.1,
             "#c51b7d"
            ],
            [
             0.2,
             "#de77ae"
            ],
            [
             0.3,
             "#f1b6da"
            ],
            [
             0.4,
             "#fde0ef"
            ],
            [
             0.5,
             "#f7f7f7"
            ],
            [
             0.6,
             "#e6f5d0"
            ],
            [
             0.7,
             "#b8e186"
            ],
            [
             0.8,
             "#7fbc41"
            ],
            [
             0.9,
             "#4d9221"
            ],
            [
             1,
             "#276419"
            ]
           ],
           "sequential": [
            [
             0,
             "#0d0887"
            ],
            [
             0.1111111111111111,
             "#46039f"
            ],
            [
             0.2222222222222222,
             "#7201a8"
            ],
            [
             0.3333333333333333,
             "#9c179e"
            ],
            [
             0.4444444444444444,
             "#bd3786"
            ],
            [
             0.5555555555555556,
             "#d8576b"
            ],
            [
             0.6666666666666666,
             "#ed7953"
            ],
            [
             0.7777777777777778,
             "#fb9f3a"
            ],
            [
             0.8888888888888888,
             "#fdca26"
            ],
            [
             1,
             "#f0f921"
            ]
           ],
           "sequentialminus": [
            [
             0,
             "#0d0887"
            ],
            [
             0.1111111111111111,
             "#46039f"
            ],
            [
             0.2222222222222222,
             "#7201a8"
            ],
            [
             0.3333333333333333,
             "#9c179e"
            ],
            [
             0.4444444444444444,
             "#bd3786"
            ],
            [
             0.5555555555555556,
             "#d8576b"
            ],
            [
             0.6666666666666666,
             "#ed7953"
            ],
            [
             0.7777777777777778,
             "#fb9f3a"
            ],
            [
             0.8888888888888888,
             "#fdca26"
            ],
            [
             1,
             "#f0f921"
            ]
           ]
          },
          "colorway": [
           "#636efa",
           "#EF553B",
           "#00cc96",
           "#ab63fa",
           "#FFA15A",
           "#19d3f3",
           "#FF6692",
           "#B6E880",
           "#FF97FF",
           "#FECB52"
          ],
          "font": {
           "color": "#2a3f5f"
          },
          "geo": {
           "bgcolor": "white",
           "lakecolor": "white",
           "landcolor": "#E5ECF6",
           "showlakes": true,
           "showland": true,
           "subunitcolor": "white"
          },
          "hoverlabel": {
           "align": "left"
          },
          "hovermode": "closest",
          "mapbox": {
           "style": "light"
          },
          "paper_bgcolor": "white",
          "plot_bgcolor": "#E5ECF6",
          "polar": {
           "angularaxis": {
            "gridcolor": "white",
            "linecolor": "white",
            "ticks": ""
           },
           "bgcolor": "#E5ECF6",
           "radialaxis": {
            "gridcolor": "white",
            "linecolor": "white",
            "ticks": ""
           }
          },
          "scene": {
           "xaxis": {
            "backgroundcolor": "#E5ECF6",
            "gridcolor": "white",
            "gridwidth": 2,
            "linecolor": "white",
            "showbackground": true,
            "ticks": "",
            "zerolinecolor": "white"
           },
           "yaxis": {
            "backgroundcolor": "#E5ECF6",
            "gridcolor": "white",
            "gridwidth": 2,
            "linecolor": "white",
            "showbackground": true,
            "ticks": "",
            "zerolinecolor": "white"
           },
           "zaxis": {
            "backgroundcolor": "#E5ECF6",
            "gridcolor": "white",
            "gridwidth": 2,
            "linecolor": "white",
            "showbackground": true,
            "ticks": "",
            "zerolinecolor": "white"
           }
          },
          "shapedefaults": {
           "line": {
            "color": "#2a3f5f"
           }
          },
          "ternary": {
           "aaxis": {
            "gridcolor": "white",
            "linecolor": "white",
            "ticks": ""
           },
           "baxis": {
            "gridcolor": "white",
            "linecolor": "white",
            "ticks": ""
           },
           "bgcolor": "#E5ECF6",
           "caxis": {
            "gridcolor": "white",
            "linecolor": "white",
            "ticks": ""
           }
          },
          "title": {
           "x": 0.05
          },
          "xaxis": {
           "automargin": true,
           "gridcolor": "white",
           "linecolor": "white",
           "ticks": "",
           "title": {
            "standoff": 15
           },
           "zerolinecolor": "white",
           "zerolinewidth": 2
          },
          "yaxis": {
           "automargin": true,
           "gridcolor": "white",
           "linecolor": "white",
           "ticks": "",
           "title": {
            "standoff": 15
           },
           "zerolinecolor": "white",
           "zerolinewidth": 2
          }
         }
        },
        "title": {
         "text": "Guatemala"
        },
        "xaxis": {
         "anchor": "y",
         "domain": [
          0,
          1
         ],
         "title": {
          "text": "show_dt"
         }
        },
        "yaxis": {
         "anchor": "x",
         "domain": [
          0,
          1
         ],
         "title": {
          "text": "approve_flag"
         }
        }
       }
      }
     },
     "metadata": {},
     "output_type": "display_data"
    },
    {
     "data": {
      "application/vnd.plotly.v1+json": {
       "config": {
        "plotlyServerURL": "https://plot.ly"
       },
       "data": [
        {
         "hovertemplate": "os_name=ios<br>show_dt=%{x}<br>approve_flag=%{y}<extra></extra>",
         "legendgroup": "ios",
         "line": {
          "color": "#636efa",
          "dash": "solid"
         },
         "marker": {
          "symbol": "circle"
         },
         "mode": "lines",
         "name": "ios",
         "orientation": "v",
         "showlegend": true,
         "type": "scatter",
         "x": [
          "2025-05-01T13:30:00+00:00",
          "2025-05-01T22:00:00+00:00",
          "2025-05-02T22:00:00+00:00",
          "2025-05-05T00:30:00+00:00",
          "2025-05-09T04:00:00+00:00",
          "2025-05-11T15:00:00+00:00",
          "2025-05-13T23:00:00+00:00",
          "2025-05-17T16:30:00+00:00",
          "2025-05-19T20:30:00+00:00",
          "2025-05-20T00:00:00+00:00",
          "2025-05-20T00:30:00+00:00",
          "2025-05-20T01:00:00+00:00",
          "2025-05-20T01:30:00+00:00",
          "2025-05-20T02:00:00+00:00",
          "2025-05-20T02:30:00+00:00",
          "2025-05-20T03:00:00+00:00",
          "2025-05-20T03:30:00+00:00",
          "2025-05-20T04:00:00+00:00",
          "2025-05-20T04:30:00+00:00",
          "2025-05-20T05:00:00+00:00",
          "2025-05-20T05:30:00+00:00",
          "2025-05-20T06:00:00+00:00",
          "2025-05-20T06:30:00+00:00",
          "2025-05-20T07:00:00+00:00",
          "2025-05-20T07:30:00+00:00",
          "2025-05-20T08:00:00+00:00",
          "2025-05-20T09:00:00+00:00",
          "2025-05-20T09:30:00+00:00",
          "2025-05-20T10:00:00+00:00",
          "2025-05-20T10:30:00+00:00",
          "2025-05-20T11:00:00+00:00",
          "2025-05-20T11:30:00+00:00",
          "2025-05-20T12:00:00+00:00",
          "2025-05-20T12:30:00+00:00",
          "2025-05-20T13:00:00+00:00",
          "2025-05-20T13:30:00+00:00",
          "2025-05-20T14:00:00+00:00",
          "2025-05-20T14:30:00+00:00",
          "2025-05-20T15:00:00+00:00",
          "2025-05-20T15:30:00+00:00",
          "2025-05-20T16:00:00+00:00",
          "2025-05-20T16:30:00+00:00",
          "2025-05-20T17:00:00+00:00",
          "2025-05-20T17:30:00+00:00",
          "2025-05-20T18:00:00+00:00",
          "2025-05-20T18:30:00+00:00",
          "2025-05-20T19:00:00+00:00",
          "2025-05-20T19:30:00+00:00",
          "2025-05-20T20:00:00+00:00",
          "2025-05-20T20:30:00+00:00",
          "2025-05-20T21:00:00+00:00",
          "2025-05-20T21:30:00+00:00",
          "2025-05-20T22:00:00+00:00",
          "2025-05-20T22:30:00+00:00",
          "2025-05-20T23:00:00+00:00",
          "2025-05-20T23:30:00+00:00",
          "2025-05-21T00:00:00+00:00",
          "2025-05-21T00:30:00+00:00",
          "2025-05-21T01:00:00+00:00",
          "2025-05-21T01:30:00+00:00",
          "2025-05-21T02:00:00+00:00",
          "2025-05-21T02:30:00+00:00",
          "2025-05-21T03:00:00+00:00",
          "2025-05-21T03:30:00+00:00",
          "2025-05-21T04:00:00+00:00",
          "2025-05-21T04:30:00+00:00",
          "2025-05-21T05:00:00+00:00",
          "2025-05-21T05:30:00+00:00",
          "2025-05-21T06:30:00+00:00",
          "2025-05-21T07:00:00+00:00",
          "2025-05-21T08:00:00+00:00",
          "2025-05-21T08:30:00+00:00",
          "2025-05-21T09:00:00+00:00",
          "2025-05-21T09:30:00+00:00",
          "2025-05-21T10:00:00+00:00",
          "2025-05-21T10:30:00+00:00",
          "2025-05-21T11:00:00+00:00",
          "2025-05-21T11:30:00+00:00",
          "2025-05-21T12:00:00+00:00",
          "2025-05-21T12:30:00+00:00",
          "2025-05-21T13:00:00+00:00",
          "2025-05-21T13:30:00+00:00",
          "2025-05-21T14:00:00+00:00",
          "2025-05-21T14:30:00+00:00",
          "2025-05-21T15:00:00+00:00",
          "2025-05-21T15:30:00+00:00",
          "2025-05-21T16:00:00+00:00",
          "2025-05-21T16:30:00+00:00",
          "2025-05-21T17:00:00+00:00",
          "2025-05-21T17:30:00+00:00",
          "2025-05-21T18:00:00+00:00",
          "2025-05-21T18:30:00+00:00",
          "2025-05-21T19:00:00+00:00",
          "2025-05-21T19:30:00+00:00",
          "2025-05-21T20:00:00+00:00",
          "2025-05-21T20:30:00+00:00",
          "2025-05-21T21:00:00+00:00",
          "2025-05-21T21:30:00+00:00",
          "2025-05-21T22:00:00+00:00",
          "2025-05-21T22:30:00+00:00",
          "2025-05-21T23:00:00+00:00",
          "2025-05-21T23:30:00+00:00",
          "2025-05-22T00:00:00+00:00",
          "2025-05-22T00:30:00+00:00",
          "2025-05-22T01:00:00+00:00",
          "2025-05-22T01:30:00+00:00",
          "2025-05-22T02:00:00+00:00",
          "2025-05-22T02:30:00+00:00",
          "2025-05-22T03:00:00+00:00",
          "2025-05-22T03:30:00+00:00",
          "2025-05-22T04:00:00+00:00",
          "2025-05-22T04:30:00+00:00",
          "2025-05-22T05:00:00+00:00",
          "2025-05-22T05:30:00+00:00",
          "2025-05-22T06:00:00+00:00",
          "2025-05-22T07:00:00+00:00",
          "2025-05-22T07:30:00+00:00",
          "2025-05-22T08:00:00+00:00",
          "2025-05-22T09:00:00+00:00",
          "2025-05-22T09:30:00+00:00",
          "2025-05-22T10:00:00+00:00",
          "2025-05-22T10:30:00+00:00",
          "2025-05-22T11:00:00+00:00",
          "2025-05-22T11:30:00+00:00",
          "2025-05-22T12:00:00+00:00",
          "2025-05-22T12:30:00+00:00",
          "2025-05-22T13:00:00+00:00",
          "2025-05-22T13:30:00+00:00",
          "2025-05-22T14:00:00+00:00",
          "2025-05-22T14:30:00+00:00",
          "2025-05-22T15:00:00+00:00",
          "2025-05-22T15:30:00+00:00",
          "2025-05-22T16:00:00+00:00",
          "2025-05-22T16:30:00+00:00",
          "2025-05-22T17:00:00+00:00",
          "2025-05-22T17:30:00+00:00",
          "2025-05-22T18:00:00+00:00",
          "2025-05-22T18:30:00+00:00",
          "2025-05-22T19:00:00+00:00",
          "2025-05-22T19:30:00+00:00",
          "2025-05-22T20:00:00+00:00",
          "2025-05-22T20:30:00+00:00",
          "2025-05-22T21:00:00+00:00",
          "2025-05-22T21:30:00+00:00",
          "2025-05-22T22:00:00+00:00",
          "2025-05-22T22:30:00+00:00",
          "2025-05-22T23:00:00+00:00",
          "2025-05-22T23:30:00+00:00"
         ],
         "xaxis": "x",
         "y": [
          1,
          1,
          1,
          1,
          0,
          0,
          1,
          0,
          0,
          7,
          8,
          12,
          4,
          10,
          10,
          2,
          2,
          5,
          1,
          3,
          2,
          1,
          1,
          1,
          2,
          1,
          1,
          3,
          3,
          1,
          5,
          3,
          4,
          7,
          6,
          5,
          9,
          9,
          6,
          7,
          3,
          8,
          8,
          8,
          7,
          9,
          9,
          1,
          10,
          5,
          6,
          6,
          8,
          9,
          11,
          6,
          4,
          3,
          2,
          6,
          4,
          6,
          1,
          3,
          3,
          5,
          2,
          1,
          1,
          1,
          1,
          1,
          1,
          1,
          3,
          3,
          4,
          6,
          6,
          7,
          7,
          3,
          10,
          5,
          6,
          4,
          9,
          9,
          7,
          6,
          7,
          3,
          5,
          12,
          3,
          7,
          6,
          12,
          12,
          7,
          6,
          3,
          6,
          7,
          3,
          6,
          6,
          7,
          5,
          8,
          3,
          2,
          0,
          4,
          5,
          3,
          2,
          1,
          1,
          1,
          2,
          2,
          1,
          6,
          6,
          4,
          4,
          3,
          7,
          9,
          8,
          4,
          3,
          13,
          5,
          10,
          9,
          6,
          10,
          11,
          3,
          3,
          10,
          6,
          11,
          8,
          6,
          4
         ],
         "yaxis": "y"
        },
        {
         "hovertemplate": "os_name=android<br>show_dt=%{x}<br>approve_flag=%{y}<extra></extra>",
         "legendgroup": "android",
         "line": {
          "color": "#EF553B",
          "dash": "solid"
         },
         "marker": {
          "symbol": "circle"
         },
         "mode": "lines",
         "name": "android",
         "orientation": "v",
         "showlegend": true,
         "type": "scatter",
         "x": [
          "2025-05-15T19:00:00+00:00",
          "2025-05-20T00:00:00+00:00",
          "2025-05-20T00:30:00+00:00",
          "2025-05-20T01:00:00+00:00",
          "2025-05-20T01:30:00+00:00",
          "2025-05-20T02:00:00+00:00",
          "2025-05-20T02:30:00+00:00",
          "2025-05-20T03:00:00+00:00",
          "2025-05-20T03:30:00+00:00",
          "2025-05-20T04:00:00+00:00",
          "2025-05-20T04:30:00+00:00",
          "2025-05-20T05:00:00+00:00",
          "2025-05-20T05:30:00+00:00",
          "2025-05-20T06:00:00+00:00",
          "2025-05-20T06:30:00+00:00",
          "2025-05-20T07:00:00+00:00",
          "2025-05-20T07:30:00+00:00",
          "2025-05-20T08:00:00+00:00",
          "2025-05-20T08:30:00+00:00",
          "2025-05-20T09:00:00+00:00",
          "2025-05-20T09:30:00+00:00",
          "2025-05-20T10:00:00+00:00",
          "2025-05-20T10:30:00+00:00",
          "2025-05-20T11:00:00+00:00",
          "2025-05-20T11:30:00+00:00",
          "2025-05-20T12:00:00+00:00",
          "2025-05-20T12:30:00+00:00",
          "2025-05-20T13:00:00+00:00",
          "2025-05-20T13:30:00+00:00",
          "2025-05-20T14:00:00+00:00",
          "2025-05-20T14:30:00+00:00",
          "2025-05-20T15:00:00+00:00",
          "2025-05-20T15:30:00+00:00",
          "2025-05-20T16:00:00+00:00",
          "2025-05-20T16:30:00+00:00",
          "2025-05-20T17:00:00+00:00",
          "2025-05-20T17:30:00+00:00",
          "2025-05-20T18:00:00+00:00",
          "2025-05-20T18:30:00+00:00",
          "2025-05-20T19:00:00+00:00",
          "2025-05-20T19:30:00+00:00",
          "2025-05-20T20:00:00+00:00",
          "2025-05-20T20:30:00+00:00",
          "2025-05-20T21:00:00+00:00",
          "2025-05-20T21:30:00+00:00",
          "2025-05-20T22:00:00+00:00",
          "2025-05-20T22:30:00+00:00",
          "2025-05-20T23:00:00+00:00",
          "2025-05-20T23:30:00+00:00",
          "2025-05-21T00:00:00+00:00",
          "2025-05-21T00:30:00+00:00",
          "2025-05-21T01:00:00+00:00",
          "2025-05-21T01:30:00+00:00",
          "2025-05-21T02:00:00+00:00",
          "2025-05-21T02:30:00+00:00",
          "2025-05-21T03:00:00+00:00",
          "2025-05-21T03:30:00+00:00",
          "2025-05-21T04:00:00+00:00",
          "2025-05-21T04:30:00+00:00",
          "2025-05-21T05:00:00+00:00",
          "2025-05-21T05:30:00+00:00",
          "2025-05-21T06:00:00+00:00",
          "2025-05-21T06:30:00+00:00",
          "2025-05-21T07:00:00+00:00",
          "2025-05-21T07:30:00+00:00",
          "2025-05-21T08:00:00+00:00",
          "2025-05-21T08:30:00+00:00",
          "2025-05-21T09:00:00+00:00",
          "2025-05-21T09:30:00+00:00",
          "2025-05-21T10:00:00+00:00",
          "2025-05-21T10:30:00+00:00",
          "2025-05-21T11:00:00+00:00",
          "2025-05-21T11:30:00+00:00",
          "2025-05-21T12:00:00+00:00",
          "2025-05-21T12:30:00+00:00",
          "2025-05-21T13:00:00+00:00",
          "2025-05-21T13:30:00+00:00",
          "2025-05-21T14:00:00+00:00",
          "2025-05-21T14:30:00+00:00",
          "2025-05-21T15:00:00+00:00",
          "2025-05-21T15:30:00+00:00",
          "2025-05-21T16:00:00+00:00",
          "2025-05-21T16:30:00+00:00",
          "2025-05-21T17:00:00+00:00",
          "2025-05-21T17:30:00+00:00",
          "2025-05-21T18:00:00+00:00",
          "2025-05-21T18:30:00+00:00",
          "2025-05-21T19:00:00+00:00",
          "2025-05-21T19:30:00+00:00",
          "2025-05-21T20:00:00+00:00",
          "2025-05-21T20:30:00+00:00",
          "2025-05-21T21:00:00+00:00",
          "2025-05-21T21:30:00+00:00",
          "2025-05-21T22:00:00+00:00",
          "2025-05-21T22:30:00+00:00",
          "2025-05-21T23:00:00+00:00",
          "2025-05-21T23:30:00+00:00",
          "2025-05-22T00:00:00+00:00",
          "2025-05-22T00:30:00+00:00",
          "2025-05-22T01:00:00+00:00",
          "2025-05-22T01:30:00+00:00",
          "2025-05-22T02:00:00+00:00",
          "2025-05-22T02:30:00+00:00",
          "2025-05-22T03:00:00+00:00",
          "2025-05-22T03:30:00+00:00",
          "2025-05-22T04:00:00+00:00",
          "2025-05-22T04:30:00+00:00",
          "2025-05-22T05:00:00+00:00",
          "2025-05-22T05:30:00+00:00",
          "2025-05-22T06:00:00+00:00",
          "2025-05-22T06:30:00+00:00",
          "2025-05-22T07:00:00+00:00",
          "2025-05-22T07:30:00+00:00",
          "2025-05-22T08:00:00+00:00",
          "2025-05-22T08:30:00+00:00",
          "2025-05-22T09:00:00+00:00",
          "2025-05-22T09:30:00+00:00",
          "2025-05-22T10:00:00+00:00",
          "2025-05-22T10:30:00+00:00",
          "2025-05-22T11:00:00+00:00",
          "2025-05-22T11:30:00+00:00",
          "2025-05-22T12:00:00+00:00",
          "2025-05-22T12:30:00+00:00",
          "2025-05-22T13:00:00+00:00",
          "2025-05-22T13:30:00+00:00",
          "2025-05-22T14:00:00+00:00",
          "2025-05-22T14:30:00+00:00",
          "2025-05-22T15:00:00+00:00",
          "2025-05-22T15:30:00+00:00",
          "2025-05-22T16:00:00+00:00",
          "2025-05-22T16:30:00+00:00",
          "2025-05-22T17:00:00+00:00",
          "2025-05-22T17:30:00+00:00",
          "2025-05-22T18:00:00+00:00",
          "2025-05-22T18:30:00+00:00",
          "2025-05-22T19:00:00+00:00",
          "2025-05-22T19:30:00+00:00",
          "2025-05-22T20:00:00+00:00",
          "2025-05-22T20:30:00+00:00",
          "2025-05-22T21:00:00+00:00",
          "2025-05-22T21:30:00+00:00",
          "2025-05-22T22:00:00+00:00",
          "2025-05-22T22:30:00+00:00",
          "2025-05-22T23:00:00+00:00",
          "2025-05-22T23:30:00+00:00"
         ],
         "xaxis": "x",
         "y": [
          0,
          16,
          10,
          11,
          11,
          10,
          10,
          9,
          8,
          3,
          8,
          4,
          1,
          6,
          2,
          4,
          5,
          0,
          1,
          2,
          4,
          4,
          1,
          8,
          10,
          7,
          8,
          5,
          11,
          10,
          8,
          10,
          12,
          16,
          17,
          13,
          15,
          10,
          11,
          14,
          17,
          12,
          14,
          14,
          11,
          13,
          14,
          13,
          9,
          10,
          11,
          18,
          7,
          12,
          11,
          10,
          9,
          11,
          9,
          8,
          9,
          3,
          3,
          3,
          1,
          1,
          3,
          3,
          3,
          2,
          3,
          15,
          15,
          9,
          9,
          12,
          8,
          12,
          9,
          19,
          10,
          12,
          14,
          13,
          8,
          11,
          7,
          15,
          16,
          14,
          14,
          10,
          13,
          11,
          14,
          10,
          10,
          6,
          8,
          9,
          10,
          8,
          8,
          11,
          5,
          7,
          2,
          6,
          2,
          6,
          5,
          5,
          1,
          3,
          2,
          2,
          4,
          2,
          3,
          9,
          7,
          12,
          6,
          7,
          8,
          11,
          9,
          12,
          7,
          15,
          13,
          13,
          11,
          5,
          17,
          17,
          9,
          9,
          11,
          19,
          10,
          18,
          7,
          15,
          10
         ],
         "yaxis": "y"
        },
        {
         "hovertemplate": "os_name=Android<br>show_dt=%{x}<br>approve_flag=%{y}<extra></extra>",
         "legendgroup": "Android",
         "line": {
          "color": "#00cc96",
          "dash": "solid"
         },
         "marker": {
          "symbol": "circle"
         },
         "mode": "lines",
         "name": "Android",
         "orientation": "v",
         "showlegend": true,
         "type": "scatter",
         "x": [
          "2025-05-22T21:00:00+00:00"
         ],
         "xaxis": "x",
         "y": [
          0
         ],
         "yaxis": "y"
        }
       ],
       "layout": {
        "legend": {
         "title": {
          "text": "os_name"
         },
         "tracegroupgap": 0
        },
        "shapes": [
         {
          "fillcolor": "lightgreen",
          "layer": "below",
          "line": {
           "width": 0
          },
          "opacity": 0.2,
          "type": "rect",
          "x0": "2025-05-22 00:00:00+00:00",
          "x1": "2025-05-23 00:00:00+00:00",
          "xref": "x",
          "y0": 0,
          "y1": 1,
          "yref": "y domain"
         }
        ],
        "template": {
         "data": {
          "bar": [
           {
            "error_x": {
             "color": "#2a3f5f"
            },
            "error_y": {
             "color": "#2a3f5f"
            },
            "marker": {
             "line": {
              "color": "#E5ECF6",
              "width": 0.5
             },
             "pattern": {
              "fillmode": "overlay",
              "size": 10,
              "solidity": 0.2
             }
            },
            "type": "bar"
           }
          ],
          "barpolar": [
           {
            "marker": {
             "line": {
              "color": "#E5ECF6",
              "width": 0.5
             },
             "pattern": {
              "fillmode": "overlay",
              "size": 10,
              "solidity": 0.2
             }
            },
            "type": "barpolar"
           }
          ],
          "carpet": [
           {
            "aaxis": {
             "endlinecolor": "#2a3f5f",
             "gridcolor": "white",
             "linecolor": "white",
             "minorgridcolor": "white",
             "startlinecolor": "#2a3f5f"
            },
            "baxis": {
             "endlinecolor": "#2a3f5f",
             "gridcolor": "white",
             "linecolor": "white",
             "minorgridcolor": "white",
             "startlinecolor": "#2a3f5f"
            },
            "type": "carpet"
           }
          ],
          "choropleth": [
           {
            "colorbar": {
             "outlinewidth": 0,
             "ticks": ""
            },
            "type": "choropleth"
           }
          ],
          "contour": [
           {
            "colorbar": {
             "outlinewidth": 0,
             "ticks": ""
            },
            "colorscale": [
             [
              0,
              "#0d0887"
             ],
             [
              0.1111111111111111,
              "#46039f"
             ],
             [
              0.2222222222222222,
              "#7201a8"
             ],
             [
              0.3333333333333333,
              "#9c179e"
             ],
             [
              0.4444444444444444,
              "#bd3786"
             ],
             [
              0.5555555555555556,
              "#d8576b"
             ],
             [
              0.6666666666666666,
              "#ed7953"
             ],
             [
              0.7777777777777778,
              "#fb9f3a"
             ],
             [
              0.8888888888888888,
              "#fdca26"
             ],
             [
              1,
              "#f0f921"
             ]
            ],
            "type": "contour"
           }
          ],
          "contourcarpet": [
           {
            "colorbar": {
             "outlinewidth": 0,
             "ticks": ""
            },
            "type": "contourcarpet"
           }
          ],
          "heatmap": [
           {
            "colorbar": {
             "outlinewidth": 0,
             "ticks": ""
            },
            "colorscale": [
             [
              0,
              "#0d0887"
             ],
             [
              0.1111111111111111,
              "#46039f"
             ],
             [
              0.2222222222222222,
              "#7201a8"
             ],
             [
              0.3333333333333333,
              "#9c179e"
             ],
             [
              0.4444444444444444,
              "#bd3786"
             ],
             [
              0.5555555555555556,
              "#d8576b"
             ],
             [
              0.6666666666666666,
              "#ed7953"
             ],
             [
              0.7777777777777778,
              "#fb9f3a"
             ],
             [
              0.8888888888888888,
              "#fdca26"
             ],
             [
              1,
              "#f0f921"
             ]
            ],
            "type": "heatmap"
           }
          ],
          "heatmapgl": [
           {
            "colorbar": {
             "outlinewidth": 0,
             "ticks": ""
            },
            "colorscale": [
             [
              0,
              "#0d0887"
             ],
             [
              0.1111111111111111,
              "#46039f"
             ],
             [
              0.2222222222222222,
              "#7201a8"
             ],
             [
              0.3333333333333333,
              "#9c179e"
             ],
             [
              0.4444444444444444,
              "#bd3786"
             ],
             [
              0.5555555555555556,
              "#d8576b"
             ],
             [
              0.6666666666666666,
              "#ed7953"
             ],
             [
              0.7777777777777778,
              "#fb9f3a"
             ],
             [
              0.8888888888888888,
              "#fdca26"
             ],
             [
              1,
              "#f0f921"
             ]
            ],
            "type": "heatmapgl"
           }
          ],
          "histogram": [
           {
            "marker": {
             "pattern": {
              "fillmode": "overlay",
              "size": 10,
              "solidity": 0.2
             }
            },
            "type": "histogram"
           }
          ],
          "histogram2d": [
           {
            "colorbar": {
             "outlinewidth": 0,
             "ticks": ""
            },
            "colorscale": [
             [
              0,
              "#0d0887"
             ],
             [
              0.1111111111111111,
              "#46039f"
             ],
             [
              0.2222222222222222,
              "#7201a8"
             ],
             [
              0.3333333333333333,
              "#9c179e"
             ],
             [
              0.4444444444444444,
              "#bd3786"
             ],
             [
              0.5555555555555556,
              "#d8576b"
             ],
             [
              0.6666666666666666,
              "#ed7953"
             ],
             [
              0.7777777777777778,
              "#fb9f3a"
             ],
             [
              0.8888888888888888,
              "#fdca26"
             ],
             [
              1,
              "#f0f921"
             ]
            ],
            "type": "histogram2d"
           }
          ],
          "histogram2dcontour": [
           {
            "colorbar": {
             "outlinewidth": 0,
             "ticks": ""
            },
            "colorscale": [
             [
              0,
              "#0d0887"
             ],
             [
              0.1111111111111111,
              "#46039f"
             ],
             [
              0.2222222222222222,
              "#7201a8"
             ],
             [
              0.3333333333333333,
              "#9c179e"
             ],
             [
              0.4444444444444444,
              "#bd3786"
             ],
             [
              0.5555555555555556,
              "#d8576b"
             ],
             [
              0.6666666666666666,
              "#ed7953"
             ],
             [
              0.7777777777777778,
              "#fb9f3a"
             ],
             [
              0.8888888888888888,
              "#fdca26"
             ],
             [
              1,
              "#f0f921"
             ]
            ],
            "type": "histogram2dcontour"
           }
          ],
          "mesh3d": [
           {
            "colorbar": {
             "outlinewidth": 0,
             "ticks": ""
            },
            "type": "mesh3d"
           }
          ],
          "parcoords": [
           {
            "line": {
             "colorbar": {
              "outlinewidth": 0,
              "ticks": ""
             }
            },
            "type": "parcoords"
           }
          ],
          "pie": [
           {
            "automargin": true,
            "type": "pie"
           }
          ],
          "scatter": [
           {
            "fillpattern": {
             "fillmode": "overlay",
             "size": 10,
             "solidity": 0.2
            },
            "type": "scatter"
           }
          ],
          "scatter3d": [
           {
            "line": {
             "colorbar": {
              "outlinewidth": 0,
              "ticks": ""
             }
            },
            "marker": {
             "colorbar": {
              "outlinewidth": 0,
              "ticks": ""
             }
            },
            "type": "scatter3d"
           }
          ],
          "scattercarpet": [
           {
            "marker": {
             "colorbar": {
              "outlinewidth": 0,
              "ticks": ""
             }
            },
            "type": "scattercarpet"
           }
          ],
          "scattergeo": [
           {
            "marker": {
             "colorbar": {
              "outlinewidth": 0,
              "ticks": ""
             }
            },
            "type": "scattergeo"
           }
          ],
          "scattergl": [
           {
            "marker": {
             "colorbar": {
              "outlinewidth": 0,
              "ticks": ""
             }
            },
            "type": "scattergl"
           }
          ],
          "scattermapbox": [
           {
            "marker": {
             "colorbar": {
              "outlinewidth": 0,
              "ticks": ""
             }
            },
            "type": "scattermapbox"
           }
          ],
          "scatterpolar": [
           {
            "marker": {
             "colorbar": {
              "outlinewidth": 0,
              "ticks": ""
             }
            },
            "type": "scatterpolar"
           }
          ],
          "scatterpolargl": [
           {
            "marker": {
             "colorbar": {
              "outlinewidth": 0,
              "ticks": ""
             }
            },
            "type": "scatterpolargl"
           }
          ],
          "scatterternary": [
           {
            "marker": {
             "colorbar": {
              "outlinewidth": 0,
              "ticks": ""
             }
            },
            "type": "scatterternary"
           }
          ],
          "surface": [
           {
            "colorbar": {
             "outlinewidth": 0,
             "ticks": ""
            },
            "colorscale": [
             [
              0,
              "#0d0887"
             ],
             [
              0.1111111111111111,
              "#46039f"
             ],
             [
              0.2222222222222222,
              "#7201a8"
             ],
             [
              0.3333333333333333,
              "#9c179e"
             ],
             [
              0.4444444444444444,
              "#bd3786"
             ],
             [
              0.5555555555555556,
              "#d8576b"
             ],
             [
              0.6666666666666666,
              "#ed7953"
             ],
             [
              0.7777777777777778,
              "#fb9f3a"
             ],
             [
              0.8888888888888888,
              "#fdca26"
             ],
             [
              1,
              "#f0f921"
             ]
            ],
            "type": "surface"
           }
          ],
          "table": [
           {
            "cells": {
             "fill": {
              "color": "#EBF0F8"
             },
             "line": {
              "color": "white"
             }
            },
            "header": {
             "fill": {
              "color": "#C8D4E3"
             },
             "line": {
              "color": "white"
             }
            },
            "type": "table"
           }
          ]
         },
         "layout": {
          "annotationdefaults": {
           "arrowcolor": "#2a3f5f",
           "arrowhead": 0,
           "arrowwidth": 1
          },
          "autotypenumbers": "strict",
          "coloraxis": {
           "colorbar": {
            "outlinewidth": 0,
            "ticks": ""
           }
          },
          "colorscale": {
           "diverging": [
            [
             0,
             "#8e0152"
            ],
            [
             0.1,
             "#c51b7d"
            ],
            [
             0.2,
             "#de77ae"
            ],
            [
             0.3,
             "#f1b6da"
            ],
            [
             0.4,
             "#fde0ef"
            ],
            [
             0.5,
             "#f7f7f7"
            ],
            [
             0.6,
             "#e6f5d0"
            ],
            [
             0.7,
             "#b8e186"
            ],
            [
             0.8,
             "#7fbc41"
            ],
            [
             0.9,
             "#4d9221"
            ],
            [
             1,
             "#276419"
            ]
           ],
           "sequential": [
            [
             0,
             "#0d0887"
            ],
            [
             0.1111111111111111,
             "#46039f"
            ],
            [
             0.2222222222222222,
             "#7201a8"
            ],
            [
             0.3333333333333333,
             "#9c179e"
            ],
            [
             0.4444444444444444,
             "#bd3786"
            ],
            [
             0.5555555555555556,
             "#d8576b"
            ],
            [
             0.6666666666666666,
             "#ed7953"
            ],
            [
             0.7777777777777778,
             "#fb9f3a"
            ],
            [
             0.8888888888888888,
             "#fdca26"
            ],
            [
             1,
             "#f0f921"
            ]
           ],
           "sequentialminus": [
            [
             0,
             "#0d0887"
            ],
            [
             0.1111111111111111,
             "#46039f"
            ],
            [
             0.2222222222222222,
             "#7201a8"
            ],
            [
             0.3333333333333333,
             "#9c179e"
            ],
            [
             0.4444444444444444,
             "#bd3786"
            ],
            [
             0.5555555555555556,
             "#d8576b"
            ],
            [
             0.6666666666666666,
             "#ed7953"
            ],
            [
             0.7777777777777778,
             "#fb9f3a"
            ],
            [
             0.8888888888888888,
             "#fdca26"
            ],
            [
             1,
             "#f0f921"
            ]
           ]
          },
          "colorway": [
           "#636efa",
           "#EF553B",
           "#00cc96",
           "#ab63fa",
           "#FFA15A",
           "#19d3f3",
           "#FF6692",
           "#B6E880",
           "#FF97FF",
           "#FECB52"
          ],
          "font": {
           "color": "#2a3f5f"
          },
          "geo": {
           "bgcolor": "white",
           "lakecolor": "white",
           "landcolor": "#E5ECF6",
           "showlakes": true,
           "showland": true,
           "subunitcolor": "white"
          },
          "hoverlabel": {
           "align": "left"
          },
          "hovermode": "closest",
          "mapbox": {
           "style": "light"
          },
          "paper_bgcolor": "white",
          "plot_bgcolor": "#E5ECF6",
          "polar": {
           "angularaxis": {
            "gridcolor": "white",
            "linecolor": "white",
            "ticks": ""
           },
           "bgcolor": "#E5ECF6",
           "radialaxis": {
            "gridcolor": "white",
            "linecolor": "white",
            "ticks": ""
           }
          },
          "scene": {
           "xaxis": {
            "backgroundcolor": "#E5ECF6",
            "gridcolor": "white",
            "gridwidth": 2,
            "linecolor": "white",
            "showbackground": true,
            "ticks": "",
            "zerolinecolor": "white"
           },
           "yaxis": {
            "backgroundcolor": "#E5ECF6",
            "gridcolor": "white",
            "gridwidth": 2,
            "linecolor": "white",
            "showbackground": true,
            "ticks": "",
            "zerolinecolor": "white"
           },
           "zaxis": {
            "backgroundcolor": "#E5ECF6",
            "gridcolor": "white",
            "gridwidth": 2,
            "linecolor": "white",
            "showbackground": true,
            "ticks": "",
            "zerolinecolor": "white"
           }
          },
          "shapedefaults": {
           "line": {
            "color": "#2a3f5f"
           }
          },
          "ternary": {
           "aaxis": {
            "gridcolor": "white",
            "linecolor": "white",
            "ticks": ""
           },
           "baxis": {
            "gridcolor": "white",
            "linecolor": "white",
            "ticks": ""
           },
           "bgcolor": "#E5ECF6",
           "caxis": {
            "gridcolor": "white",
            "linecolor": "white",
            "ticks": ""
           }
          },
          "title": {
           "x": 0.05
          },
          "xaxis": {
           "automargin": true,
           "gridcolor": "white",
           "linecolor": "white",
           "ticks": "",
           "title": {
            "standoff": 15
           },
           "zerolinecolor": "white",
           "zerolinewidth": 2
          },
          "yaxis": {
           "automargin": true,
           "gridcolor": "white",
           "linecolor": "white",
           "ticks": "",
           "title": {
            "standoff": 15
           },
           "zerolinecolor": "white",
           "zerolinewidth": 2
          }
         }
        },
        "title": {
         "text": "Panama"
        },
        "xaxis": {
         "anchor": "y",
         "domain": [
          0,
          1
         ],
         "title": {
          "text": "show_dt"
         }
        },
        "yaxis": {
         "anchor": "x",
         "domain": [
          0,
          1
         ],
         "title": {
          "text": "approve_flag"
         }
        }
       }
      }
     },
     "metadata": {},
     "output_type": "display_data"
    },
    {
     "data": {
      "application/vnd.plotly.v1+json": {
       "config": {
        "plotlyServerURL": "https://plot.ly"
       },
       "data": [
        {
         "hovertemplate": "os_name=ios<br>show_dt=%{x}<br>approve_flag=%{y}<extra></extra>",
         "legendgroup": "ios",
         "line": {
          "color": "#636efa",
          "dash": "solid"
         },
         "marker": {
          "symbol": "circle"
         },
         "mode": "lines",
         "name": "ios",
         "orientation": "v",
         "showlegend": true,
         "type": "scatter",
         "x": [
          "2024-12-07T23:30:00+00:00",
          "2025-01-09T23:30:00+00:00",
          "2025-01-28T23:30:00+00:00",
          "2025-05-04T19:30:00+00:00",
          "2025-05-06T21:00:00+00:00",
          "2025-05-07T00:00:00+00:00",
          "2025-05-07T16:00:00+00:00",
          "2025-05-08T03:00:00+00:00",
          "2025-05-11T01:00:00+00:00",
          "2025-05-12T02:30:00+00:00",
          "2025-05-13T09:00:00+00:00",
          "2025-05-15T14:30:00+00:00",
          "2025-05-16T01:00:00+00:00",
          "2025-05-16T04:30:00+00:00",
          "2025-05-16T13:00:00+00:00",
          "2025-05-16T13:30:00+00:00",
          "2025-05-16T19:30:00+00:00",
          "2025-05-17T05:00:00+00:00",
          "2025-05-17T14:30:00+00:00",
          "2025-05-17T15:00:00+00:00",
          "2025-05-17T15:30:00+00:00",
          "2025-05-17T16:00:00+00:00",
          "2025-05-17T18:00:00+00:00",
          "2025-05-17T21:00:00+00:00",
          "2025-05-18T00:30:00+00:00",
          "2025-05-18T05:30:00+00:00",
          "2025-05-18T06:00:00+00:00",
          "2025-05-18T07:00:00+00:00",
          "2025-05-18T18:00:00+00:00",
          "2025-05-19T02:30:00+00:00",
          "2025-05-19T03:00:00+00:00",
          "2025-05-19T03:30:00+00:00",
          "2025-05-19T09:30:00+00:00",
          "2025-05-19T13:30:00+00:00",
          "2025-05-19T16:30:00+00:00",
          "2025-05-19T18:30:00+00:00",
          "2025-05-19T21:00:00+00:00",
          "2025-05-20T00:00:00+00:00",
          "2025-05-20T00:30:00+00:00",
          "2025-05-20T01:00:00+00:00",
          "2025-05-20T01:30:00+00:00",
          "2025-05-20T02:00:00+00:00",
          "2025-05-20T02:30:00+00:00",
          "2025-05-20T03:00:00+00:00",
          "2025-05-20T03:30:00+00:00",
          "2025-05-20T04:00:00+00:00",
          "2025-05-20T04:30:00+00:00",
          "2025-05-20T05:00:00+00:00",
          "2025-05-20T05:30:00+00:00",
          "2025-05-20T06:00:00+00:00",
          "2025-05-20T06:30:00+00:00",
          "2025-05-20T07:00:00+00:00",
          "2025-05-20T07:30:00+00:00",
          "2025-05-20T08:00:00+00:00",
          "2025-05-20T08:30:00+00:00",
          "2025-05-20T09:00:00+00:00",
          "2025-05-20T09:30:00+00:00",
          "2025-05-20T10:00:00+00:00",
          "2025-05-20T10:30:00+00:00",
          "2025-05-20T11:00:00+00:00",
          "2025-05-20T11:30:00+00:00",
          "2025-05-20T12:00:00+00:00",
          "2025-05-20T12:30:00+00:00",
          "2025-05-20T13:00:00+00:00",
          "2025-05-20T13:30:00+00:00",
          "2025-05-20T14:00:00+00:00",
          "2025-05-20T14:30:00+00:00",
          "2025-05-20T15:00:00+00:00",
          "2025-05-20T15:30:00+00:00",
          "2025-05-20T16:00:00+00:00",
          "2025-05-20T16:30:00+00:00",
          "2025-05-20T17:00:00+00:00",
          "2025-05-20T17:30:00+00:00",
          "2025-05-20T18:00:00+00:00",
          "2025-05-20T18:30:00+00:00",
          "2025-05-20T19:00:00+00:00",
          "2025-05-20T19:30:00+00:00",
          "2025-05-20T20:00:00+00:00",
          "2025-05-20T20:30:00+00:00",
          "2025-05-20T21:00:00+00:00",
          "2025-05-20T21:30:00+00:00",
          "2025-05-20T22:00:00+00:00",
          "2025-05-20T22:30:00+00:00",
          "2025-05-20T23:00:00+00:00",
          "2025-05-20T23:30:00+00:00",
          "2025-05-21T00:00:00+00:00",
          "2025-05-21T00:30:00+00:00",
          "2025-05-21T01:00:00+00:00",
          "2025-05-21T01:30:00+00:00",
          "2025-05-21T02:00:00+00:00",
          "2025-05-21T02:30:00+00:00",
          "2025-05-21T03:00:00+00:00",
          "2025-05-21T03:30:00+00:00",
          "2025-05-21T04:00:00+00:00",
          "2025-05-21T04:30:00+00:00",
          "2025-05-21T05:00:00+00:00",
          "2025-05-21T05:30:00+00:00",
          "2025-05-21T06:00:00+00:00",
          "2025-05-21T06:30:00+00:00",
          "2025-05-21T07:00:00+00:00",
          "2025-05-21T07:30:00+00:00",
          "2025-05-21T08:00:00+00:00",
          "2025-05-21T08:30:00+00:00",
          "2025-05-21T09:00:00+00:00",
          "2025-05-21T09:30:00+00:00",
          "2025-05-21T10:00:00+00:00",
          "2025-05-21T10:30:00+00:00",
          "2025-05-21T11:00:00+00:00",
          "2025-05-21T11:30:00+00:00",
          "2025-05-21T12:00:00+00:00",
          "2025-05-21T12:30:00+00:00",
          "2025-05-21T13:00:00+00:00",
          "2025-05-21T13:30:00+00:00",
          "2025-05-21T14:00:00+00:00",
          "2025-05-21T14:30:00+00:00",
          "2025-05-21T15:00:00+00:00",
          "2025-05-21T15:30:00+00:00",
          "2025-05-21T16:00:00+00:00",
          "2025-05-21T16:30:00+00:00",
          "2025-05-21T17:00:00+00:00",
          "2025-05-21T17:30:00+00:00",
          "2025-05-21T18:00:00+00:00",
          "2025-05-21T18:30:00+00:00",
          "2025-05-21T19:00:00+00:00",
          "2025-05-21T19:30:00+00:00",
          "2025-05-21T20:00:00+00:00",
          "2025-05-21T20:30:00+00:00",
          "2025-05-21T21:00:00+00:00",
          "2025-05-21T21:30:00+00:00",
          "2025-05-21T22:00:00+00:00",
          "2025-05-21T22:30:00+00:00",
          "2025-05-21T23:00:00+00:00",
          "2025-05-21T23:30:00+00:00",
          "2025-05-22T00:00:00+00:00",
          "2025-05-22T00:30:00+00:00",
          "2025-05-22T01:00:00+00:00",
          "2025-05-22T01:30:00+00:00",
          "2025-05-22T02:00:00+00:00",
          "2025-05-22T02:30:00+00:00",
          "2025-05-22T03:00:00+00:00",
          "2025-05-22T03:30:00+00:00",
          "2025-05-22T04:00:00+00:00",
          "2025-05-22T04:30:00+00:00",
          "2025-05-22T05:00:00+00:00",
          "2025-05-22T05:30:00+00:00",
          "2025-05-22T06:00:00+00:00",
          "2025-05-22T06:30:00+00:00",
          "2025-05-22T07:00:00+00:00",
          "2025-05-22T07:30:00+00:00",
          "2025-05-22T08:00:00+00:00",
          "2025-05-22T08:30:00+00:00",
          "2025-05-22T09:00:00+00:00",
          "2025-05-22T09:30:00+00:00",
          "2025-05-22T10:00:00+00:00",
          "2025-05-22T10:30:00+00:00",
          "2025-05-22T11:00:00+00:00",
          "2025-05-22T11:30:00+00:00",
          "2025-05-22T12:00:00+00:00",
          "2025-05-22T12:30:00+00:00",
          "2025-05-22T13:00:00+00:00",
          "2025-05-22T13:30:00+00:00",
          "2025-05-22T14:00:00+00:00",
          "2025-05-22T14:30:00+00:00",
          "2025-05-22T15:00:00+00:00",
          "2025-05-22T15:30:00+00:00",
          "2025-05-22T16:00:00+00:00",
          "2025-05-22T16:30:00+00:00",
          "2025-05-22T17:00:00+00:00",
          "2025-05-22T17:30:00+00:00",
          "2025-05-22T18:00:00+00:00",
          "2025-05-22T18:30:00+00:00",
          "2025-05-22T19:00:00+00:00",
          "2025-05-22T19:30:00+00:00",
          "2025-05-22T20:00:00+00:00",
          "2025-05-22T20:30:00+00:00",
          "2025-05-22T21:00:00+00:00",
          "2025-05-22T21:30:00+00:00",
          "2025-05-22T22:00:00+00:00",
          "2025-05-22T22:30:00+00:00",
          "2025-05-22T23:00:00+00:00",
          "2025-05-22T23:30:00+00:00",
          "2025-05-23T01:00:00+00:00"
         ],
         "xaxis": "x",
         "y": [
          0,
          1,
          0,
          1,
          1,
          0,
          0,
          0,
          0,
          0,
          0,
          1,
          0,
          1,
          1,
          0,
          0,
          0,
          1,
          1,
          1,
          0,
          2,
          0,
          1,
          0,
          1,
          1,
          1,
          0,
          2,
          1,
          0,
          1,
          0,
          1,
          1,
          26,
          31,
          24,
          24,
          25,
          24,
          22,
          23,
          19,
          14,
          15,
          13,
          7,
          9,
          7,
          7,
          4,
          3,
          3,
          2,
          6,
          6,
          13,
          15,
          25,
          31,
          25,
          27,
          20,
          24,
          16,
          32,
          18,
          23,
          27,
          24,
          23,
          36,
          26,
          36,
          25,
          30,
          33,
          29,
          23,
          36,
          35,
          27,
          32,
          33,
          19,
          26,
          25,
          33,
          21,
          23,
          15,
          13,
          20,
          12,
          8,
          2,
          7,
          5,
          4,
          5,
          6,
          3,
          6,
          7,
          13,
          17,
          27,
          26,
          14,
          31,
          31,
          19,
          27,
          19,
          15,
          30,
          21,
          27,
          26,
          23,
          24,
          25,
          38,
          36,
          27,
          24,
          31,
          29,
          34,
          45,
          28,
          20,
          26,
          26,
          25,
          18,
          23,
          26,
          17,
          21,
          24,
          12,
          4,
          12,
          6,
          5,
          2,
          7,
          5,
          4,
          5,
          10,
          14,
          19,
          25,
          32,
          27,
          33,
          22,
          21,
          23,
          27,
          28,
          20,
          21,
          37,
          29,
          37,
          37,
          25,
          25,
          30,
          30,
          35,
          38,
          33,
          43,
          41,
          1
         ],
         "yaxis": "y"
        },
        {
         "hovertemplate": "os_name=android<br>show_dt=%{x}<br>approve_flag=%{y}<extra></extra>",
         "legendgroup": "android",
         "line": {
          "color": "#EF553B",
          "dash": "solid"
         },
         "marker": {
          "symbol": "circle"
         },
         "mode": "lines",
         "name": "android",
         "orientation": "v",
         "showlegend": true,
         "type": "scatter",
         "x": [
          "2025-04-17T04:00:00+00:00",
          "2025-05-14T16:00:00+00:00",
          "2025-05-15T18:00:00+00:00",
          "2025-05-17T09:00:00+00:00",
          "2025-05-17T09:30:00+00:00",
          "2025-05-17T14:00:00+00:00",
          "2025-05-17T14:30:00+00:00",
          "2025-05-17T19:00:00+00:00",
          "2025-05-17T22:00:00+00:00",
          "2025-05-18T00:30:00+00:00",
          "2025-05-18T03:00:00+00:00",
          "2025-05-18T19:00:00+00:00",
          "2025-05-18T20:30:00+00:00",
          "2025-05-18T22:30:00+00:00",
          "2025-05-19T00:30:00+00:00",
          "2025-05-19T03:30:00+00:00",
          "2025-05-19T04:30:00+00:00",
          "2025-05-19T08:00:00+00:00",
          "2025-05-19T15:30:00+00:00",
          "2025-05-19T16:30:00+00:00",
          "2025-05-19T19:00:00+00:00",
          "2025-05-19T20:30:00+00:00",
          "2025-05-19T21:00:00+00:00",
          "2025-05-19T22:00:00+00:00",
          "2025-05-19T22:30:00+00:00",
          "2025-05-19T23:00:00+00:00",
          "2025-05-19T23:30:00+00:00",
          "2025-05-20T00:00:00+00:00",
          "2025-05-20T00:30:00+00:00",
          "2025-05-20T01:00:00+00:00",
          "2025-05-20T01:30:00+00:00",
          "2025-05-20T02:00:00+00:00",
          "2025-05-20T02:30:00+00:00",
          "2025-05-20T03:00:00+00:00",
          "2025-05-20T03:30:00+00:00",
          "2025-05-20T04:00:00+00:00",
          "2025-05-20T04:30:00+00:00",
          "2025-05-20T05:00:00+00:00",
          "2025-05-20T05:30:00+00:00",
          "2025-05-20T06:00:00+00:00",
          "2025-05-20T06:30:00+00:00",
          "2025-05-20T07:00:00+00:00",
          "2025-05-20T07:30:00+00:00",
          "2025-05-20T08:00:00+00:00",
          "2025-05-20T08:30:00+00:00",
          "2025-05-20T09:00:00+00:00",
          "2025-05-20T09:30:00+00:00",
          "2025-05-20T10:00:00+00:00",
          "2025-05-20T10:30:00+00:00",
          "2025-05-20T11:00:00+00:00",
          "2025-05-20T11:30:00+00:00",
          "2025-05-20T12:00:00+00:00",
          "2025-05-20T12:30:00+00:00",
          "2025-05-20T13:00:00+00:00",
          "2025-05-20T13:30:00+00:00",
          "2025-05-20T14:00:00+00:00",
          "2025-05-20T14:30:00+00:00",
          "2025-05-20T15:00:00+00:00",
          "2025-05-20T15:30:00+00:00",
          "2025-05-20T16:00:00+00:00",
          "2025-05-20T16:30:00+00:00",
          "2025-05-20T17:00:00+00:00",
          "2025-05-20T17:30:00+00:00",
          "2025-05-20T18:00:00+00:00",
          "2025-05-20T18:30:00+00:00",
          "2025-05-20T19:00:00+00:00",
          "2025-05-20T19:30:00+00:00",
          "2025-05-20T20:00:00+00:00",
          "2025-05-20T20:30:00+00:00",
          "2025-05-20T21:00:00+00:00",
          "2025-05-20T21:30:00+00:00",
          "2025-05-20T22:00:00+00:00",
          "2025-05-20T22:30:00+00:00",
          "2025-05-20T23:00:00+00:00",
          "2025-05-20T23:30:00+00:00",
          "2025-05-21T00:00:00+00:00",
          "2025-05-21T00:30:00+00:00",
          "2025-05-21T01:00:00+00:00",
          "2025-05-21T01:30:00+00:00",
          "2025-05-21T02:00:00+00:00",
          "2025-05-21T02:30:00+00:00",
          "2025-05-21T03:00:00+00:00",
          "2025-05-21T03:30:00+00:00",
          "2025-05-21T04:00:00+00:00",
          "2025-05-21T04:30:00+00:00",
          "2025-05-21T05:00:00+00:00",
          "2025-05-21T05:30:00+00:00",
          "2025-05-21T06:00:00+00:00",
          "2025-05-21T06:30:00+00:00",
          "2025-05-21T07:00:00+00:00",
          "2025-05-21T07:30:00+00:00",
          "2025-05-21T08:00:00+00:00",
          "2025-05-21T08:30:00+00:00",
          "2025-05-21T09:00:00+00:00",
          "2025-05-21T09:30:00+00:00",
          "2025-05-21T10:00:00+00:00",
          "2025-05-21T10:30:00+00:00",
          "2025-05-21T11:00:00+00:00",
          "2025-05-21T11:30:00+00:00",
          "2025-05-21T12:00:00+00:00",
          "2025-05-21T12:30:00+00:00",
          "2025-05-21T13:00:00+00:00",
          "2025-05-21T13:30:00+00:00",
          "2025-05-21T14:00:00+00:00",
          "2025-05-21T14:30:00+00:00",
          "2025-05-21T15:00:00+00:00",
          "2025-05-21T15:30:00+00:00",
          "2025-05-21T16:00:00+00:00",
          "2025-05-21T16:30:00+00:00",
          "2025-05-21T17:00:00+00:00",
          "2025-05-21T17:30:00+00:00",
          "2025-05-21T18:00:00+00:00",
          "2025-05-21T18:30:00+00:00",
          "2025-05-21T19:00:00+00:00",
          "2025-05-21T19:30:00+00:00",
          "2025-05-21T20:00:00+00:00",
          "2025-05-21T20:30:00+00:00",
          "2025-05-21T21:00:00+00:00",
          "2025-05-21T21:30:00+00:00",
          "2025-05-21T22:00:00+00:00",
          "2025-05-21T22:30:00+00:00",
          "2025-05-21T23:00:00+00:00",
          "2025-05-21T23:30:00+00:00",
          "2025-05-22T00:00:00+00:00",
          "2025-05-22T00:30:00+00:00",
          "2025-05-22T01:00:00+00:00",
          "2025-05-22T01:30:00+00:00",
          "2025-05-22T02:00:00+00:00",
          "2025-05-22T02:30:00+00:00",
          "2025-05-22T03:00:00+00:00",
          "2025-05-22T03:30:00+00:00",
          "2025-05-22T04:00:00+00:00",
          "2025-05-22T04:30:00+00:00",
          "2025-05-22T05:00:00+00:00",
          "2025-05-22T05:30:00+00:00",
          "2025-05-22T06:00:00+00:00",
          "2025-05-22T06:30:00+00:00",
          "2025-05-22T07:00:00+00:00",
          "2025-05-22T07:30:00+00:00",
          "2025-05-22T08:00:00+00:00",
          "2025-05-22T08:30:00+00:00",
          "2025-05-22T09:00:00+00:00",
          "2025-05-22T09:30:00+00:00",
          "2025-05-22T10:00:00+00:00",
          "2025-05-22T10:30:00+00:00",
          "2025-05-22T11:00:00+00:00",
          "2025-05-22T11:30:00+00:00",
          "2025-05-22T12:00:00+00:00",
          "2025-05-22T12:30:00+00:00",
          "2025-05-22T13:00:00+00:00",
          "2025-05-22T13:30:00+00:00",
          "2025-05-22T14:00:00+00:00",
          "2025-05-22T14:30:00+00:00",
          "2025-05-22T15:00:00+00:00",
          "2025-05-22T15:30:00+00:00",
          "2025-05-22T16:00:00+00:00",
          "2025-05-22T16:30:00+00:00",
          "2025-05-22T17:00:00+00:00",
          "2025-05-22T17:30:00+00:00",
          "2025-05-22T18:00:00+00:00",
          "2025-05-22T18:30:00+00:00",
          "2025-05-22T19:00:00+00:00",
          "2025-05-22T19:30:00+00:00",
          "2025-05-22T20:00:00+00:00",
          "2025-05-22T20:30:00+00:00",
          "2025-05-22T21:00:00+00:00",
          "2025-05-22T21:30:00+00:00",
          "2025-05-22T22:00:00+00:00",
          "2025-05-22T22:30:00+00:00",
          "2025-05-22T23:00:00+00:00",
          "2025-05-22T23:30:00+00:00"
         ],
         "xaxis": "x",
         "y": [
          0,
          0,
          1,
          0,
          0,
          0,
          0,
          1,
          0,
          1,
          0,
          0,
          1,
          1,
          0,
          0,
          1,
          0,
          0,
          0,
          1,
          0,
          1,
          0,
          0,
          0,
          0,
          148,
          113,
          114,
          102,
          102,
          100,
          123,
          100,
          86,
          69,
          72,
          55,
          37,
          29,
          29,
          18,
          22,
          30,
          18,
          18,
          36,
          41,
          50,
          98,
          91,
          113,
          116,
          125,
          89,
          127,
          115,
          110,
          92,
          106,
          89,
          107,
          106,
          129,
          129,
          129,
          146,
          132,
          147,
          136,
          148,
          126,
          176,
          163,
          154,
          108,
          115,
          126,
          132,
          119,
          125,
          119,
          75,
          69,
          69,
          45,
          37,
          25,
          28,
          27,
          23,
          22,
          25,
          21,
          24,
          29,
          51,
          93,
          95,
          126,
          95,
          105,
          96,
          108,
          112,
          98,
          93,
          86,
          92,
          107,
          106,
          118,
          120,
          131,
          131,
          145,
          126,
          119,
          141,
          153,
          192,
          145,
          128,
          158,
          122,
          111,
          100,
          106,
          109,
          106,
          80,
          67,
          73,
          47,
          49,
          33,
          23,
          30,
          23,
          34,
          13,
          25,
          21,
          28,
          53,
          79,
          109,
          89,
          111,
          95,
          107,
          120,
          112,
          107,
          99,
          118,
          110,
          123,
          105,
          133,
          131,
          138,
          113,
          120,
          133,
          139,
          165,
          176,
          165,
          175
         ],
         "yaxis": "y"
        },
        {
         "hovertemplate": "os_name=Android<br>show_dt=%{x}<br>approve_flag=%{y}<extra></extra>",
         "legendgroup": "Android",
         "line": {
          "color": "#00cc96",
          "dash": "solid"
         },
         "marker": {
          "symbol": "circle"
         },
         "mode": "lines",
         "name": "Android",
         "orientation": "v",
         "showlegend": true,
         "type": "scatter",
         "x": [
          "2025-05-20T01:30:00+00:00",
          "2025-05-20T05:30:00+00:00",
          "2025-05-20T14:00:00+00:00",
          "2025-05-20T18:30:00+00:00",
          "2025-05-20T20:30:00+00:00",
          "2025-05-20T22:30:00+00:00",
          "2025-05-20T23:00:00+00:00",
          "2025-05-21T00:00:00+00:00",
          "2025-05-21T00:30:00+00:00",
          "2025-05-21T01:30:00+00:00",
          "2025-05-21T13:30:00+00:00",
          "2025-05-21T17:00:00+00:00",
          "2025-05-21T21:30:00+00:00",
          "2025-05-21T23:30:00+00:00",
          "2025-05-22T03:30:00+00:00",
          "2025-05-22T07:00:00+00:00",
          "2025-05-22T14:30:00+00:00",
          "2025-05-22T15:00:00+00:00",
          "2025-05-22T16:00:00+00:00",
          "2025-05-22T17:00:00+00:00",
          "2025-05-22T21:00:00+00:00",
          "2025-05-22T22:00:00+00:00"
         ],
         "xaxis": "x",
         "y": [
          0,
          0,
          0,
          0,
          1,
          0,
          0,
          0,
          0,
          0,
          0,
          0,
          0,
          0,
          0,
          0,
          0,
          0,
          0,
          0,
          0,
          0
         ],
         "yaxis": "y"
        },
        {
         "hovertemplate": "os_name=ipados<br>show_dt=%{x}<br>approve_flag=%{y}<extra></extra>",
         "legendgroup": "ipados",
         "line": {
          "color": "#ab63fa",
          "dash": "solid"
         },
         "marker": {
          "symbol": "circle"
         },
         "mode": "lines",
         "name": "ipados",
         "orientation": "v",
         "showlegend": true,
         "type": "scatter",
         "x": [
          "2025-05-20T17:30:00+00:00",
          "2025-05-20T18:30:00+00:00",
          "2025-05-20T22:30:00+00:00",
          "2025-05-21T18:30:00+00:00",
          "2025-05-21T22:30:00+00:00",
          "2025-05-22T01:30:00+00:00",
          "2025-05-22T04:00:00+00:00",
          "2025-05-22T14:30:00+00:00",
          "2025-05-22T16:30:00+00:00",
          "2025-05-22T21:00:00+00:00"
         ],
         "xaxis": "x",
         "y": [
          1,
          1,
          1,
          1,
          1,
          1,
          1,
          1,
          1,
          0
         ],
         "yaxis": "y"
        }
       ],
       "layout": {
        "legend": {
         "title": {
          "text": "os_name"
         },
         "tracegroupgap": 0
        },
        "shapes": [
         {
          "fillcolor": "lightgreen",
          "layer": "below",
          "line": {
           "width": 0
          },
          "opacity": 0.2,
          "type": "rect",
          "x0": "2025-05-22 00:00:00+00:00",
          "x1": "2025-05-23 00:00:00+00:00",
          "xref": "x",
          "y0": 0,
          "y1": 1,
          "yref": "y domain"
         }
        ],
        "template": {
         "data": {
          "bar": [
           {
            "error_x": {
             "color": "#2a3f5f"
            },
            "error_y": {
             "color": "#2a3f5f"
            },
            "marker": {
             "line": {
              "color": "#E5ECF6",
              "width": 0.5
             },
             "pattern": {
              "fillmode": "overlay",
              "size": 10,
              "solidity": 0.2
             }
            },
            "type": "bar"
           }
          ],
          "barpolar": [
           {
            "marker": {
             "line": {
              "color": "#E5ECF6",
              "width": 0.5
             },
             "pattern": {
              "fillmode": "overlay",
              "size": 10,
              "solidity": 0.2
             }
            },
            "type": "barpolar"
           }
          ],
          "carpet": [
           {
            "aaxis": {
             "endlinecolor": "#2a3f5f",
             "gridcolor": "white",
             "linecolor": "white",
             "minorgridcolor": "white",
             "startlinecolor": "#2a3f5f"
            },
            "baxis": {
             "endlinecolor": "#2a3f5f",
             "gridcolor": "white",
             "linecolor": "white",
             "minorgridcolor": "white",
             "startlinecolor": "#2a3f5f"
            },
            "type": "carpet"
           }
          ],
          "choropleth": [
           {
            "colorbar": {
             "outlinewidth": 0,
             "ticks": ""
            },
            "type": "choropleth"
           }
          ],
          "contour": [
           {
            "colorbar": {
             "outlinewidth": 0,
             "ticks": ""
            },
            "colorscale": [
             [
              0,
              "#0d0887"
             ],
             [
              0.1111111111111111,
              "#46039f"
             ],
             [
              0.2222222222222222,
              "#7201a8"
             ],
             [
              0.3333333333333333,
              "#9c179e"
             ],
             [
              0.4444444444444444,
              "#bd3786"
             ],
             [
              0.5555555555555556,
              "#d8576b"
             ],
             [
              0.6666666666666666,
              "#ed7953"
             ],
             [
              0.7777777777777778,
              "#fb9f3a"
             ],
             [
              0.8888888888888888,
              "#fdca26"
             ],
             [
              1,
              "#f0f921"
             ]
            ],
            "type": "contour"
           }
          ],
          "contourcarpet": [
           {
            "colorbar": {
             "outlinewidth": 0,
             "ticks": ""
            },
            "type": "contourcarpet"
           }
          ],
          "heatmap": [
           {
            "colorbar": {
             "outlinewidth": 0,
             "ticks": ""
            },
            "colorscale": [
             [
              0,
              "#0d0887"
             ],
             [
              0.1111111111111111,
              "#46039f"
             ],
             [
              0.2222222222222222,
              "#7201a8"
             ],
             [
              0.3333333333333333,
              "#9c179e"
             ],
             [
              0.4444444444444444,
              "#bd3786"
             ],
             [
              0.5555555555555556,
              "#d8576b"
             ],
             [
              0.6666666666666666,
              "#ed7953"
             ],
             [
              0.7777777777777778,
              "#fb9f3a"
             ],
             [
              0.8888888888888888,
              "#fdca26"
             ],
             [
              1,
              "#f0f921"
             ]
            ],
            "type": "heatmap"
           }
          ],
          "heatmapgl": [
           {
            "colorbar": {
             "outlinewidth": 0,
             "ticks": ""
            },
            "colorscale": [
             [
              0,
              "#0d0887"
             ],
             [
              0.1111111111111111,
              "#46039f"
             ],
             [
              0.2222222222222222,
              "#7201a8"
             ],
             [
              0.3333333333333333,
              "#9c179e"
             ],
             [
              0.4444444444444444,
              "#bd3786"
             ],
             [
              0.5555555555555556,
              "#d8576b"
             ],
             [
              0.6666666666666666,
              "#ed7953"
             ],
             [
              0.7777777777777778,
              "#fb9f3a"
             ],
             [
              0.8888888888888888,
              "#fdca26"
             ],
             [
              1,
              "#f0f921"
             ]
            ],
            "type": "heatmapgl"
           }
          ],
          "histogram": [
           {
            "marker": {
             "pattern": {
              "fillmode": "overlay",
              "size": 10,
              "solidity": 0.2
             }
            },
            "type": "histogram"
           }
          ],
          "histogram2d": [
           {
            "colorbar": {
             "outlinewidth": 0,
             "ticks": ""
            },
            "colorscale": [
             [
              0,
              "#0d0887"
             ],
             [
              0.1111111111111111,
              "#46039f"
             ],
             [
              0.2222222222222222,
              "#7201a8"
             ],
             [
              0.3333333333333333,
              "#9c179e"
             ],
             [
              0.4444444444444444,
              "#bd3786"
             ],
             [
              0.5555555555555556,
              "#d8576b"
             ],
             [
              0.6666666666666666,
              "#ed7953"
             ],
             [
              0.7777777777777778,
              "#fb9f3a"
             ],
             [
              0.8888888888888888,
              "#fdca26"
             ],
             [
              1,
              "#f0f921"
             ]
            ],
            "type": "histogram2d"
           }
          ],
          "histogram2dcontour": [
           {
            "colorbar": {
             "outlinewidth": 0,
             "ticks": ""
            },
            "colorscale": [
             [
              0,
              "#0d0887"
             ],
             [
              0.1111111111111111,
              "#46039f"
             ],
             [
              0.2222222222222222,
              "#7201a8"
             ],
             [
              0.3333333333333333,
              "#9c179e"
             ],
             [
              0.4444444444444444,
              "#bd3786"
             ],
             [
              0.5555555555555556,
              "#d8576b"
             ],
             [
              0.6666666666666666,
              "#ed7953"
             ],
             [
              0.7777777777777778,
              "#fb9f3a"
             ],
             [
              0.8888888888888888,
              "#fdca26"
             ],
             [
              1,
              "#f0f921"
             ]
            ],
            "type": "histogram2dcontour"
           }
          ],
          "mesh3d": [
           {
            "colorbar": {
             "outlinewidth": 0,
             "ticks": ""
            },
            "type": "mesh3d"
           }
          ],
          "parcoords": [
           {
            "line": {
             "colorbar": {
              "outlinewidth": 0,
              "ticks": ""
             }
            },
            "type": "parcoords"
           }
          ],
          "pie": [
           {
            "automargin": true,
            "type": "pie"
           }
          ],
          "scatter": [
           {
            "fillpattern": {
             "fillmode": "overlay",
             "size": 10,
             "solidity": 0.2
            },
            "type": "scatter"
           }
          ],
          "scatter3d": [
           {
            "line": {
             "colorbar": {
              "outlinewidth": 0,
              "ticks": ""
             }
            },
            "marker": {
             "colorbar": {
              "outlinewidth": 0,
              "ticks": ""
             }
            },
            "type": "scatter3d"
           }
          ],
          "scattercarpet": [
           {
            "marker": {
             "colorbar": {
              "outlinewidth": 0,
              "ticks": ""
             }
            },
            "type": "scattercarpet"
           }
          ],
          "scattergeo": [
           {
            "marker": {
             "colorbar": {
              "outlinewidth": 0,
              "ticks": ""
             }
            },
            "type": "scattergeo"
           }
          ],
          "scattergl": [
           {
            "marker": {
             "colorbar": {
              "outlinewidth": 0,
              "ticks": ""
             }
            },
            "type": "scattergl"
           }
          ],
          "scattermapbox": [
           {
            "marker": {
             "colorbar": {
              "outlinewidth": 0,
              "ticks": ""
             }
            },
            "type": "scattermapbox"
           }
          ],
          "scatterpolar": [
           {
            "marker": {
             "colorbar": {
              "outlinewidth": 0,
              "ticks": ""
             }
            },
            "type": "scatterpolar"
           }
          ],
          "scatterpolargl": [
           {
            "marker": {
             "colorbar": {
              "outlinewidth": 0,
              "ticks": ""
             }
            },
            "type": "scatterpolargl"
           }
          ],
          "scatterternary": [
           {
            "marker": {
             "colorbar": {
              "outlinewidth": 0,
              "ticks": ""
             }
            },
            "type": "scatterternary"
           }
          ],
          "surface": [
           {
            "colorbar": {
             "outlinewidth": 0,
             "ticks": ""
            },
            "colorscale": [
             [
              0,
              "#0d0887"
             ],
             [
              0.1111111111111111,
              "#46039f"
             ],
             [
              0.2222222222222222,
              "#7201a8"
             ],
             [
              0.3333333333333333,
              "#9c179e"
             ],
             [
              0.4444444444444444,
              "#bd3786"
             ],
             [
              0.5555555555555556,
              "#d8576b"
             ],
             [
              0.6666666666666666,
              "#ed7953"
             ],
             [
              0.7777777777777778,
              "#fb9f3a"
             ],
             [
              0.8888888888888888,
              "#fdca26"
             ],
             [
              1,
              "#f0f921"
             ]
            ],
            "type": "surface"
           }
          ],
          "table": [
           {
            "cells": {
             "fill": {
              "color": "#EBF0F8"
             },
             "line": {
              "color": "white"
             }
            },
            "header": {
             "fill": {
              "color": "#C8D4E3"
             },
             "line": {
              "color": "white"
             }
            },
            "type": "table"
           }
          ]
         },
         "layout": {
          "annotationdefaults": {
           "arrowcolor": "#2a3f5f",
           "arrowhead": 0,
           "arrowwidth": 1
          },
          "autotypenumbers": "strict",
          "coloraxis": {
           "colorbar": {
            "outlinewidth": 0,
            "ticks": ""
           }
          },
          "colorscale": {
           "diverging": [
            [
             0,
             "#8e0152"
            ],
            [
             0.1,
             "#c51b7d"
            ],
            [
             0.2,
             "#de77ae"
            ],
            [
             0.3,
             "#f1b6da"
            ],
            [
             0.4,
             "#fde0ef"
            ],
            [
             0.5,
             "#f7f7f7"
            ],
            [
             0.6,
             "#e6f5d0"
            ],
            [
             0.7,
             "#b8e186"
            ],
            [
             0.8,
             "#7fbc41"
            ],
            [
             0.9,
             "#4d9221"
            ],
            [
             1,
             "#276419"
            ]
           ],
           "sequential": [
            [
             0,
             "#0d0887"
            ],
            [
             0.1111111111111111,
             "#46039f"
            ],
            [
             0.2222222222222222,
             "#7201a8"
            ],
            [
             0.3333333333333333,
             "#9c179e"
            ],
            [
             0.4444444444444444,
             "#bd3786"
            ],
            [
             0.5555555555555556,
             "#d8576b"
            ],
            [
             0.6666666666666666,
             "#ed7953"
            ],
            [
             0.7777777777777778,
             "#fb9f3a"
            ],
            [
             0.8888888888888888,
             "#fdca26"
            ],
            [
             1,
             "#f0f921"
            ]
           ],
           "sequentialminus": [
            [
             0,
             "#0d0887"
            ],
            [
             0.1111111111111111,
             "#46039f"
            ],
            [
             0.2222222222222222,
             "#7201a8"
            ],
            [
             0.3333333333333333,
             "#9c179e"
            ],
            [
             0.4444444444444444,
             "#bd3786"
            ],
            [
             0.5555555555555556,
             "#d8576b"
            ],
            [
             0.6666666666666666,
             "#ed7953"
            ],
            [
             0.7777777777777778,
             "#fb9f3a"
            ],
            [
             0.8888888888888888,
             "#fdca26"
            ],
            [
             1,
             "#f0f921"
            ]
           ]
          },
          "colorway": [
           "#636efa",
           "#EF553B",
           "#00cc96",
           "#ab63fa",
           "#FFA15A",
           "#19d3f3",
           "#FF6692",
           "#B6E880",
           "#FF97FF",
           "#FECB52"
          ],
          "font": {
           "color": "#2a3f5f"
          },
          "geo": {
           "bgcolor": "white",
           "lakecolor": "white",
           "landcolor": "#E5ECF6",
           "showlakes": true,
           "showland": true,
           "subunitcolor": "white"
          },
          "hoverlabel": {
           "align": "left"
          },
          "hovermode": "closest",
          "mapbox": {
           "style": "light"
          },
          "paper_bgcolor": "white",
          "plot_bgcolor": "#E5ECF6",
          "polar": {
           "angularaxis": {
            "gridcolor": "white",
            "linecolor": "white",
            "ticks": ""
           },
           "bgcolor": "#E5ECF6",
           "radialaxis": {
            "gridcolor": "white",
            "linecolor": "white",
            "ticks": ""
           }
          },
          "scene": {
           "xaxis": {
            "backgroundcolor": "#E5ECF6",
            "gridcolor": "white",
            "gridwidth": 2,
            "linecolor": "white",
            "showbackground": true,
            "ticks": "",
            "zerolinecolor": "white"
           },
           "yaxis": {
            "backgroundcolor": "#E5ECF6",
            "gridcolor": "white",
            "gridwidth": 2,
            "linecolor": "white",
            "showbackground": true,
            "ticks": "",
            "zerolinecolor": "white"
           },
           "zaxis": {
            "backgroundcolor": "#E5ECF6",
            "gridcolor": "white",
            "gridwidth": 2,
            "linecolor": "white",
            "showbackground": true,
            "ticks": "",
            "zerolinecolor": "white"
           }
          },
          "shapedefaults": {
           "line": {
            "color": "#2a3f5f"
           }
          },
          "ternary": {
           "aaxis": {
            "gridcolor": "white",
            "linecolor": "white",
            "ticks": ""
           },
           "baxis": {
            "gridcolor": "white",
            "linecolor": "white",
            "ticks": ""
           },
           "bgcolor": "#E5ECF6",
           "caxis": {
            "gridcolor": "white",
            "linecolor": "white",
            "ticks": ""
           }
          },
          "title": {
           "x": 0.05
          },
          "xaxis": {
           "automargin": true,
           "gridcolor": "white",
           "linecolor": "white",
           "ticks": "",
           "title": {
            "standoff": 15
           },
           "zerolinecolor": "white",
           "zerolinewidth": 2
          },
          "yaxis": {
           "automargin": true,
           "gridcolor": "white",
           "linecolor": "white",
           "ticks": "",
           "title": {
            "standoff": 15
           },
           "zerolinecolor": "white",
           "zerolinewidth": 2
          }
         }
        },
        "title": {
         "text": "Peru"
        },
        "xaxis": {
         "anchor": "y",
         "domain": [
          0,
          1
         ],
         "title": {
          "text": "show_dt"
         }
        },
        "yaxis": {
         "anchor": "x",
         "domain": [
          0,
          1
         ],
         "title": {
          "text": "approve_flag"
         }
        }
       }
      }
     },
     "metadata": {},
     "output_type": "display_data"
    },
    {
     "data": {
      "application/vnd.plotly.v1+json": {
       "config": {
        "plotlyServerURL": "https://plot.ly"
       },
       "data": [
        {
         "hovertemplate": "os_name=android<br>show_dt=%{x}<br>approve_flag=%{y}<extra></extra>",
         "legendgroup": "android",
         "line": {
          "color": "#636efa",
          "dash": "solid"
         },
         "marker": {
          "symbol": "circle"
         },
         "mode": "lines",
         "name": "android",
         "orientation": "v",
         "showlegend": true,
         "type": "scatter",
         "x": [
          "2025-05-20T11:00:00+00:00",
          "2025-05-20T12:00:00+00:00",
          "2025-05-21T01:00:00+00:00",
          "2025-05-21T23:00:00+00:00",
          "2025-05-22T13:00:00+00:00",
          "2025-05-22T17:30:00+00:00",
          "2025-05-22T20:00:00+00:00",
          "2025-05-22T20:30:00+00:00"
         ],
         "xaxis": "x",
         "y": [
          1,
          0,
          1,
          1,
          1,
          0,
          0,
          0
         ],
         "yaxis": "y"
        },
        {
         "hovertemplate": "os_name=ios<br>show_dt=%{x}<br>approve_flag=%{y}<extra></extra>",
         "legendgroup": "ios",
         "line": {
          "color": "#EF553B",
          "dash": "solid"
         },
         "marker": {
          "symbol": "circle"
         },
         "mode": "lines",
         "name": "ios",
         "orientation": "v",
         "showlegend": true,
         "type": "scatter",
         "x": [
          "2025-05-20T16:30:00+00:00",
          "2025-05-22T11:00:00+00:00",
          "2025-05-22T12:30:00+00:00"
         ],
         "xaxis": "x",
         "y": [
          1,
          1,
          1
         ],
         "yaxis": "y"
        }
       ],
       "layout": {
        "legend": {
         "title": {
          "text": "os_name"
         },
         "tracegroupgap": 0
        },
        "shapes": [
         {
          "fillcolor": "lightgreen",
          "layer": "below",
          "line": {
           "width": 0
          },
          "opacity": 0.2,
          "type": "rect",
          "x0": "2025-05-22 00:00:00+00:00",
          "x1": "2025-05-23 00:00:00+00:00",
          "xref": "x",
          "y0": 0,
          "y1": 1,
          "yref": "y domain"
         }
        ],
        "template": {
         "data": {
          "bar": [
           {
            "error_x": {
             "color": "#2a3f5f"
            },
            "error_y": {
             "color": "#2a3f5f"
            },
            "marker": {
             "line": {
              "color": "#E5ECF6",
              "width": 0.5
             },
             "pattern": {
              "fillmode": "overlay",
              "size": 10,
              "solidity": 0.2
             }
            },
            "type": "bar"
           }
          ],
          "barpolar": [
           {
            "marker": {
             "line": {
              "color": "#E5ECF6",
              "width": 0.5
             },
             "pattern": {
              "fillmode": "overlay",
              "size": 10,
              "solidity": 0.2
             }
            },
            "type": "barpolar"
           }
          ],
          "carpet": [
           {
            "aaxis": {
             "endlinecolor": "#2a3f5f",
             "gridcolor": "white",
             "linecolor": "white",
             "minorgridcolor": "white",
             "startlinecolor": "#2a3f5f"
            },
            "baxis": {
             "endlinecolor": "#2a3f5f",
             "gridcolor": "white",
             "linecolor": "white",
             "minorgridcolor": "white",
             "startlinecolor": "#2a3f5f"
            },
            "type": "carpet"
           }
          ],
          "choropleth": [
           {
            "colorbar": {
             "outlinewidth": 0,
             "ticks": ""
            },
            "type": "choropleth"
           }
          ],
          "contour": [
           {
            "colorbar": {
             "outlinewidth": 0,
             "ticks": ""
            },
            "colorscale": [
             [
              0,
              "#0d0887"
             ],
             [
              0.1111111111111111,
              "#46039f"
             ],
             [
              0.2222222222222222,
              "#7201a8"
             ],
             [
              0.3333333333333333,
              "#9c179e"
             ],
             [
              0.4444444444444444,
              "#bd3786"
             ],
             [
              0.5555555555555556,
              "#d8576b"
             ],
             [
              0.6666666666666666,
              "#ed7953"
             ],
             [
              0.7777777777777778,
              "#fb9f3a"
             ],
             [
              0.8888888888888888,
              "#fdca26"
             ],
             [
              1,
              "#f0f921"
             ]
            ],
            "type": "contour"
           }
          ],
          "contourcarpet": [
           {
            "colorbar": {
             "outlinewidth": 0,
             "ticks": ""
            },
            "type": "contourcarpet"
           }
          ],
          "heatmap": [
           {
            "colorbar": {
             "outlinewidth": 0,
             "ticks": ""
            },
            "colorscale": [
             [
              0,
              "#0d0887"
             ],
             [
              0.1111111111111111,
              "#46039f"
             ],
             [
              0.2222222222222222,
              "#7201a8"
             ],
             [
              0.3333333333333333,
              "#9c179e"
             ],
             [
              0.4444444444444444,
              "#bd3786"
             ],
             [
              0.5555555555555556,
              "#d8576b"
             ],
             [
              0.6666666666666666,
              "#ed7953"
             ],
             [
              0.7777777777777778,
              "#fb9f3a"
             ],
             [
              0.8888888888888888,
              "#fdca26"
             ],
             [
              1,
              "#f0f921"
             ]
            ],
            "type": "heatmap"
           }
          ],
          "heatmapgl": [
           {
            "colorbar": {
             "outlinewidth": 0,
             "ticks": ""
            },
            "colorscale": [
             [
              0,
              "#0d0887"
             ],
             [
              0.1111111111111111,
              "#46039f"
             ],
             [
              0.2222222222222222,
              "#7201a8"
             ],
             [
              0.3333333333333333,
              "#9c179e"
             ],
             [
              0.4444444444444444,
              "#bd3786"
             ],
             [
              0.5555555555555556,
              "#d8576b"
             ],
             [
              0.6666666666666666,
              "#ed7953"
             ],
             [
              0.7777777777777778,
              "#fb9f3a"
             ],
             [
              0.8888888888888888,
              "#fdca26"
             ],
             [
              1,
              "#f0f921"
             ]
            ],
            "type": "heatmapgl"
           }
          ],
          "histogram": [
           {
            "marker": {
             "pattern": {
              "fillmode": "overlay",
              "size": 10,
              "solidity": 0.2
             }
            },
            "type": "histogram"
           }
          ],
          "histogram2d": [
           {
            "colorbar": {
             "outlinewidth": 0,
             "ticks": ""
            },
            "colorscale": [
             [
              0,
              "#0d0887"
             ],
             [
              0.1111111111111111,
              "#46039f"
             ],
             [
              0.2222222222222222,
              "#7201a8"
             ],
             [
              0.3333333333333333,
              "#9c179e"
             ],
             [
              0.4444444444444444,
              "#bd3786"
             ],
             [
              0.5555555555555556,
              "#d8576b"
             ],
             [
              0.6666666666666666,
              "#ed7953"
             ],
             [
              0.7777777777777778,
              "#fb9f3a"
             ],
             [
              0.8888888888888888,
              "#fdca26"
             ],
             [
              1,
              "#f0f921"
             ]
            ],
            "type": "histogram2d"
           }
          ],
          "histogram2dcontour": [
           {
            "colorbar": {
             "outlinewidth": 0,
             "ticks": ""
            },
            "colorscale": [
             [
              0,
              "#0d0887"
             ],
             [
              0.1111111111111111,
              "#46039f"
             ],
             [
              0.2222222222222222,
              "#7201a8"
             ],
             [
              0.3333333333333333,
              "#9c179e"
             ],
             [
              0.4444444444444444,
              "#bd3786"
             ],
             [
              0.5555555555555556,
              "#d8576b"
             ],
             [
              0.6666666666666666,
              "#ed7953"
             ],
             [
              0.7777777777777778,
              "#fb9f3a"
             ],
             [
              0.8888888888888888,
              "#fdca26"
             ],
             [
              1,
              "#f0f921"
             ]
            ],
            "type": "histogram2dcontour"
           }
          ],
          "mesh3d": [
           {
            "colorbar": {
             "outlinewidth": 0,
             "ticks": ""
            },
            "type": "mesh3d"
           }
          ],
          "parcoords": [
           {
            "line": {
             "colorbar": {
              "outlinewidth": 0,
              "ticks": ""
             }
            },
            "type": "parcoords"
           }
          ],
          "pie": [
           {
            "automargin": true,
            "type": "pie"
           }
          ],
          "scatter": [
           {
            "fillpattern": {
             "fillmode": "overlay",
             "size": 10,
             "solidity": 0.2
            },
            "type": "scatter"
           }
          ],
          "scatter3d": [
           {
            "line": {
             "colorbar": {
              "outlinewidth": 0,
              "ticks": ""
             }
            },
            "marker": {
             "colorbar": {
              "outlinewidth": 0,
              "ticks": ""
             }
            },
            "type": "scatter3d"
           }
          ],
          "scattercarpet": [
           {
            "marker": {
             "colorbar": {
              "outlinewidth": 0,
              "ticks": ""
             }
            },
            "type": "scattercarpet"
           }
          ],
          "scattergeo": [
           {
            "marker": {
             "colorbar": {
              "outlinewidth": 0,
              "ticks": ""
             }
            },
            "type": "scattergeo"
           }
          ],
          "scattergl": [
           {
            "marker": {
             "colorbar": {
              "outlinewidth": 0,
              "ticks": ""
             }
            },
            "type": "scattergl"
           }
          ],
          "scattermapbox": [
           {
            "marker": {
             "colorbar": {
              "outlinewidth": 0,
              "ticks": ""
             }
            },
            "type": "scattermapbox"
           }
          ],
          "scatterpolar": [
           {
            "marker": {
             "colorbar": {
              "outlinewidth": 0,
              "ticks": ""
             }
            },
            "type": "scatterpolar"
           }
          ],
          "scatterpolargl": [
           {
            "marker": {
             "colorbar": {
              "outlinewidth": 0,
              "ticks": ""
             }
            },
            "type": "scatterpolargl"
           }
          ],
          "scatterternary": [
           {
            "marker": {
             "colorbar": {
              "outlinewidth": 0,
              "ticks": ""
             }
            },
            "type": "scatterternary"
           }
          ],
          "surface": [
           {
            "colorbar": {
             "outlinewidth": 0,
             "ticks": ""
            },
            "colorscale": [
             [
              0,
              "#0d0887"
             ],
             [
              0.1111111111111111,
              "#46039f"
             ],
             [
              0.2222222222222222,
              "#7201a8"
             ],
             [
              0.3333333333333333,
              "#9c179e"
             ],
             [
              0.4444444444444444,
              "#bd3786"
             ],
             [
              0.5555555555555556,
              "#d8576b"
             ],
             [
              0.6666666666666666,
              "#ed7953"
             ],
             [
              0.7777777777777778,
              "#fb9f3a"
             ],
             [
              0.8888888888888888,
              "#fdca26"
             ],
             [
              1,
              "#f0f921"
             ]
            ],
            "type": "surface"
           }
          ],
          "table": [
           {
            "cells": {
             "fill": {
              "color": "#EBF0F8"
             },
             "line": {
              "color": "white"
             }
            },
            "header": {
             "fill": {
              "color": "#C8D4E3"
             },
             "line": {
              "color": "white"
             }
            },
            "type": "table"
           }
          ]
         },
         "layout": {
          "annotationdefaults": {
           "arrowcolor": "#2a3f5f",
           "arrowhead": 0,
           "arrowwidth": 1
          },
          "autotypenumbers": "strict",
          "coloraxis": {
           "colorbar": {
            "outlinewidth": 0,
            "ticks": ""
           }
          },
          "colorscale": {
           "diverging": [
            [
             0,
             "#8e0152"
            ],
            [
             0.1,
             "#c51b7d"
            ],
            [
             0.2,
             "#de77ae"
            ],
            [
             0.3,
             "#f1b6da"
            ],
            [
             0.4,
             "#fde0ef"
            ],
            [
             0.5,
             "#f7f7f7"
            ],
            [
             0.6,
             "#e6f5d0"
            ],
            [
             0.7,
             "#b8e186"
            ],
            [
             0.8,
             "#7fbc41"
            ],
            [
             0.9,
             "#4d9221"
            ],
            [
             1,
             "#276419"
            ]
           ],
           "sequential": [
            [
             0,
             "#0d0887"
            ],
            [
             0.1111111111111111,
             "#46039f"
            ],
            [
             0.2222222222222222,
             "#7201a8"
            ],
            [
             0.3333333333333333,
             "#9c179e"
            ],
            [
             0.4444444444444444,
             "#bd3786"
            ],
            [
             0.5555555555555556,
             "#d8576b"
            ],
            [
             0.6666666666666666,
             "#ed7953"
            ],
            [
             0.7777777777777778,
             "#fb9f3a"
            ],
            [
             0.8888888888888888,
             "#fdca26"
            ],
            [
             1,
             "#f0f921"
            ]
           ],
           "sequentialminus": [
            [
             0,
             "#0d0887"
            ],
            [
             0.1111111111111111,
             "#46039f"
            ],
            [
             0.2222222222222222,
             "#7201a8"
            ],
            [
             0.3333333333333333,
             "#9c179e"
            ],
            [
             0.4444444444444444,
             "#bd3786"
            ],
            [
             0.5555555555555556,
             "#d8576b"
            ],
            [
             0.6666666666666666,
             "#ed7953"
            ],
            [
             0.7777777777777778,
             "#fb9f3a"
            ],
            [
             0.8888888888888888,
             "#fdca26"
            ],
            [
             1,
             "#f0f921"
            ]
           ]
          },
          "colorway": [
           "#636efa",
           "#EF553B",
           "#00cc96",
           "#ab63fa",
           "#FFA15A",
           "#19d3f3",
           "#FF6692",
           "#B6E880",
           "#FF97FF",
           "#FECB52"
          ],
          "font": {
           "color": "#2a3f5f"
          },
          "geo": {
           "bgcolor": "white",
           "lakecolor": "white",
           "landcolor": "#E5ECF6",
           "showlakes": true,
           "showland": true,
           "subunitcolor": "white"
          },
          "hoverlabel": {
           "align": "left"
          },
          "hovermode": "closest",
          "mapbox": {
           "style": "light"
          },
          "paper_bgcolor": "white",
          "plot_bgcolor": "#E5ECF6",
          "polar": {
           "angularaxis": {
            "gridcolor": "white",
            "linecolor": "white",
            "ticks": ""
           },
           "bgcolor": "#E5ECF6",
           "radialaxis": {
            "gridcolor": "white",
            "linecolor": "white",
            "ticks": ""
           }
          },
          "scene": {
           "xaxis": {
            "backgroundcolor": "#E5ECF6",
            "gridcolor": "white",
            "gridwidth": 2,
            "linecolor": "white",
            "showbackground": true,
            "ticks": "",
            "zerolinecolor": "white"
           },
           "yaxis": {
            "backgroundcolor": "#E5ECF6",
            "gridcolor": "white",
            "gridwidth": 2,
            "linecolor": "white",
            "showbackground": true,
            "ticks": "",
            "zerolinecolor": "white"
           },
           "zaxis": {
            "backgroundcolor": "#E5ECF6",
            "gridcolor": "white",
            "gridwidth": 2,
            "linecolor": "white",
            "showbackground": true,
            "ticks": "",
            "zerolinecolor": "white"
           }
          },
          "shapedefaults": {
           "line": {
            "color": "#2a3f5f"
           }
          },
          "ternary": {
           "aaxis": {
            "gridcolor": "white",
            "linecolor": "white",
            "ticks": ""
           },
           "baxis": {
            "gridcolor": "white",
            "linecolor": "white",
            "ticks": ""
           },
           "bgcolor": "#E5ECF6",
           "caxis": {
            "gridcolor": "white",
            "linecolor": "white",
            "ticks": ""
           }
          },
          "title": {
           "x": 0.05
          },
          "xaxis": {
           "automargin": true,
           "gridcolor": "white",
           "linecolor": "white",
           "ticks": "",
           "title": {
            "standoff": 15
           },
           "zerolinecolor": "white",
           "zerolinewidth": 2
          },
          "yaxis": {
           "automargin": true,
           "gridcolor": "white",
           "linecolor": "white",
           "ticks": "",
           "title": {
            "standoff": 15
           },
           "zerolinecolor": "white",
           "zerolinewidth": 2
          }
         }
        },
        "title": {
         "text": "Bolivia"
        },
        "xaxis": {
         "anchor": "y",
         "domain": [
          0,
          1
         ],
         "title": {
          "text": "show_dt"
         }
        },
        "yaxis": {
         "anchor": "x",
         "domain": [
          0,
          1
         ],
         "title": {
          "text": "approve_flag"
         }
        }
       }
      }
     },
     "metadata": {},
     "output_type": "display_data"
    },
    {
     "data": {
      "application/vnd.plotly.v1+json": {
       "config": {
        "plotlyServerURL": "https://plot.ly"
       },
       "data": [
        {
         "hovertemplate": "os_name=android<br>show_dt=%{x}<br>approve_flag=%{y}<extra></extra>",
         "legendgroup": "android",
         "line": {
          "color": "#636efa",
          "dash": "solid"
         },
         "marker": {
          "symbol": "circle"
         },
         "mode": "lines",
         "name": "android",
         "orientation": "v",
         "showlegend": true,
         "type": "scatter",
         "x": [
          "2025-05-14T18:00:00+00:00",
          "2025-05-17T18:30:00+00:00",
          "2025-05-18T03:30:00+00:00",
          "2025-05-19T11:00:00+00:00",
          "2025-05-19T13:30:00+00:00",
          "2025-05-19T20:30:00+00:00",
          "2025-05-20T00:00:00+00:00",
          "2025-05-20T00:30:00+00:00",
          "2025-05-20T01:00:00+00:00",
          "2025-05-20T01:30:00+00:00",
          "2025-05-20T02:00:00+00:00",
          "2025-05-20T02:30:00+00:00",
          "2025-05-20T03:00:00+00:00",
          "2025-05-20T03:30:00+00:00",
          "2025-05-20T04:00:00+00:00",
          "2025-05-20T04:30:00+00:00",
          "2025-05-20T05:00:00+00:00",
          "2025-05-20T05:30:00+00:00",
          "2025-05-20T06:00:00+00:00",
          "2025-05-20T06:30:00+00:00",
          "2025-05-20T07:00:00+00:00",
          "2025-05-20T07:30:00+00:00",
          "2025-05-20T08:00:00+00:00",
          "2025-05-20T08:30:00+00:00",
          "2025-05-20T09:00:00+00:00",
          "2025-05-20T09:30:00+00:00",
          "2025-05-20T10:00:00+00:00",
          "2025-05-20T10:30:00+00:00",
          "2025-05-20T11:00:00+00:00",
          "2025-05-20T11:30:00+00:00",
          "2025-05-20T12:00:00+00:00",
          "2025-05-20T12:30:00+00:00",
          "2025-05-20T13:00:00+00:00",
          "2025-05-20T13:30:00+00:00",
          "2025-05-20T14:00:00+00:00",
          "2025-05-20T14:30:00+00:00",
          "2025-05-20T15:00:00+00:00",
          "2025-05-20T15:30:00+00:00",
          "2025-05-20T16:00:00+00:00",
          "2025-05-20T16:30:00+00:00",
          "2025-05-20T17:00:00+00:00",
          "2025-05-20T17:30:00+00:00",
          "2025-05-20T18:00:00+00:00",
          "2025-05-20T18:30:00+00:00",
          "2025-05-20T19:00:00+00:00",
          "2025-05-20T19:30:00+00:00",
          "2025-05-20T20:00:00+00:00",
          "2025-05-20T20:30:00+00:00",
          "2025-05-20T21:00:00+00:00",
          "2025-05-20T21:30:00+00:00",
          "2025-05-20T22:00:00+00:00",
          "2025-05-20T22:30:00+00:00",
          "2025-05-20T23:00:00+00:00",
          "2025-05-20T23:30:00+00:00",
          "2025-05-21T00:00:00+00:00",
          "2025-05-21T00:30:00+00:00",
          "2025-05-21T01:00:00+00:00",
          "2025-05-21T01:30:00+00:00",
          "2025-05-21T02:00:00+00:00",
          "2025-05-21T02:30:00+00:00",
          "2025-05-21T03:00:00+00:00",
          "2025-05-21T03:30:00+00:00",
          "2025-05-21T04:00:00+00:00",
          "2025-05-21T04:30:00+00:00",
          "2025-05-21T05:00:00+00:00",
          "2025-05-21T05:30:00+00:00",
          "2025-05-21T06:00:00+00:00",
          "2025-05-21T06:30:00+00:00",
          "2025-05-21T07:00:00+00:00",
          "2025-05-21T07:30:00+00:00",
          "2025-05-21T08:00:00+00:00",
          "2025-05-21T08:30:00+00:00",
          "2025-05-21T09:00:00+00:00",
          "2025-05-21T09:30:00+00:00",
          "2025-05-21T10:00:00+00:00",
          "2025-05-21T10:30:00+00:00",
          "2025-05-21T11:00:00+00:00",
          "2025-05-21T11:30:00+00:00",
          "2025-05-21T12:00:00+00:00",
          "2025-05-21T12:30:00+00:00",
          "2025-05-21T13:00:00+00:00",
          "2025-05-21T13:30:00+00:00",
          "2025-05-21T14:00:00+00:00",
          "2025-05-21T14:30:00+00:00",
          "2025-05-21T15:00:00+00:00",
          "2025-05-21T15:30:00+00:00",
          "2025-05-21T16:00:00+00:00",
          "2025-05-21T16:30:00+00:00",
          "2025-05-21T17:00:00+00:00",
          "2025-05-21T17:30:00+00:00",
          "2025-05-21T18:00:00+00:00",
          "2025-05-21T18:30:00+00:00",
          "2025-05-21T19:00:00+00:00",
          "2025-05-21T19:30:00+00:00",
          "2025-05-21T20:00:00+00:00",
          "2025-05-21T20:30:00+00:00",
          "2025-05-21T21:00:00+00:00",
          "2025-05-21T21:30:00+00:00",
          "2025-05-21T22:00:00+00:00",
          "2025-05-21T22:30:00+00:00",
          "2025-05-21T23:00:00+00:00",
          "2025-05-21T23:30:00+00:00",
          "2025-05-22T00:00:00+00:00",
          "2025-05-22T00:30:00+00:00",
          "2025-05-22T01:00:00+00:00",
          "2025-05-22T01:30:00+00:00",
          "2025-05-22T02:00:00+00:00",
          "2025-05-22T02:30:00+00:00",
          "2025-05-22T03:00:00+00:00",
          "2025-05-22T03:30:00+00:00",
          "2025-05-22T04:00:00+00:00",
          "2025-05-22T04:30:00+00:00",
          "2025-05-22T05:00:00+00:00",
          "2025-05-22T05:30:00+00:00",
          "2025-05-22T06:00:00+00:00",
          "2025-05-22T06:30:00+00:00",
          "2025-05-22T07:00:00+00:00",
          "2025-05-22T07:30:00+00:00",
          "2025-05-22T08:00:00+00:00",
          "2025-05-22T08:30:00+00:00",
          "2025-05-22T09:00:00+00:00",
          "2025-05-22T09:30:00+00:00",
          "2025-05-22T10:00:00+00:00",
          "2025-05-22T10:30:00+00:00",
          "2025-05-22T11:00:00+00:00",
          "2025-05-22T11:30:00+00:00",
          "2025-05-22T12:00:00+00:00",
          "2025-05-22T12:30:00+00:00",
          "2025-05-22T13:00:00+00:00",
          "2025-05-22T13:30:00+00:00",
          "2025-05-22T14:00:00+00:00",
          "2025-05-22T14:30:00+00:00",
          "2025-05-22T15:00:00+00:00",
          "2025-05-22T15:30:00+00:00",
          "2025-05-22T16:00:00+00:00",
          "2025-05-22T16:30:00+00:00",
          "2025-05-22T17:00:00+00:00",
          "2025-05-22T17:30:00+00:00",
          "2025-05-22T18:00:00+00:00",
          "2025-05-22T18:30:00+00:00",
          "2025-05-22T19:00:00+00:00",
          "2025-05-22T19:30:00+00:00",
          "2025-05-22T20:00:00+00:00",
          "2025-05-22T20:30:00+00:00",
          "2025-05-22T21:00:00+00:00",
          "2025-05-22T21:30:00+00:00",
          "2025-05-22T22:00:00+00:00",
          "2025-05-22T22:30:00+00:00",
          "2025-05-22T23:00:00+00:00",
          "2025-05-22T23:30:00+00:00"
         ],
         "xaxis": "x",
         "y": [
          0,
          0,
          0,
          0,
          0,
          0,
          17,
          11,
          17,
          18,
          13,
          11,
          17,
          9,
          7,
          10,
          9,
          4,
          4,
          1,
          1,
          2,
          1,
          2,
          2,
          2,
          3,
          4,
          6,
          9,
          9,
          13,
          9,
          19,
          19,
          20,
          19,
          11,
          12,
          11,
          14,
          8,
          16,
          16,
          11,
          13,
          16,
          20,
          23,
          14,
          16,
          17,
          16,
          19,
          12,
          13,
          15,
          18,
          25,
          18,
          14,
          5,
          10,
          10,
          9,
          8,
          4,
          2,
          6,
          0,
          1,
          2,
          1,
          3,
          2,
          5,
          2,
          11,
          13,
          8,
          14,
          17,
          16,
          13,
          16,
          17,
          16,
          23,
          9,
          17,
          13,
          18,
          15,
          19,
          9,
          13,
          18,
          14,
          16,
          17,
          26,
          10,
          11,
          13,
          9,
          18,
          22,
          15,
          14,
          9,
          10,
          11,
          4,
          5,
          6,
          3,
          3,
          2,
          3,
          2,
          1,
          3,
          6,
          5,
          8,
          10,
          12,
          21,
          8,
          11,
          11,
          16,
          18,
          15,
          32,
          16,
          22,
          18,
          17,
          14,
          18,
          15,
          13,
          11,
          22,
          17,
          24,
          22,
          17,
          12
         ],
         "yaxis": "y"
        },
        {
         "hovertemplate": "os_name=ios<br>show_dt=%{x}<br>approve_flag=%{y}<extra></extra>",
         "legendgroup": "ios",
         "line": {
          "color": "#EF553B",
          "dash": "solid"
         },
         "marker": {
          "symbol": "circle"
         },
         "mode": "lines",
         "name": "ios",
         "orientation": "v",
         "showlegend": true,
         "type": "scatter",
         "x": [
          "2025-05-15T20:00:00+00:00",
          "2025-05-18T11:30:00+00:00",
          "2025-05-19T14:00:00+00:00",
          "2025-05-20T00:00:00+00:00",
          "2025-05-20T00:30:00+00:00",
          "2025-05-20T01:00:00+00:00",
          "2025-05-20T01:30:00+00:00",
          "2025-05-20T02:00:00+00:00",
          "2025-05-20T02:30:00+00:00",
          "2025-05-20T03:00:00+00:00",
          "2025-05-20T03:30:00+00:00",
          "2025-05-20T04:00:00+00:00",
          "2025-05-20T04:30:00+00:00",
          "2025-05-20T05:30:00+00:00",
          "2025-05-20T07:00:00+00:00",
          "2025-05-20T09:00:00+00:00",
          "2025-05-20T11:00:00+00:00",
          "2025-05-20T11:30:00+00:00",
          "2025-05-20T12:00:00+00:00",
          "2025-05-20T12:30:00+00:00",
          "2025-05-20T13:00:00+00:00",
          "2025-05-20T13:30:00+00:00",
          "2025-05-20T14:00:00+00:00",
          "2025-05-20T14:30:00+00:00",
          "2025-05-20T15:00:00+00:00",
          "2025-05-20T15:30:00+00:00",
          "2025-05-20T16:00:00+00:00",
          "2025-05-20T16:30:00+00:00",
          "2025-05-20T17:00:00+00:00",
          "2025-05-20T17:30:00+00:00",
          "2025-05-20T18:00:00+00:00",
          "2025-05-20T18:30:00+00:00",
          "2025-05-20T19:00:00+00:00",
          "2025-05-20T20:00:00+00:00",
          "2025-05-20T20:30:00+00:00",
          "2025-05-20T21:00:00+00:00",
          "2025-05-20T21:30:00+00:00",
          "2025-05-20T22:00:00+00:00",
          "2025-05-20T22:30:00+00:00",
          "2025-05-20T23:00:00+00:00",
          "2025-05-20T23:30:00+00:00",
          "2025-05-21T00:00:00+00:00",
          "2025-05-21T00:30:00+00:00",
          "2025-05-21T01:00:00+00:00",
          "2025-05-21T01:30:00+00:00",
          "2025-05-21T02:00:00+00:00",
          "2025-05-21T02:30:00+00:00",
          "2025-05-21T03:00:00+00:00",
          "2025-05-21T03:30:00+00:00",
          "2025-05-21T04:00:00+00:00",
          "2025-05-21T04:30:00+00:00",
          "2025-05-21T05:30:00+00:00",
          "2025-05-21T06:00:00+00:00",
          "2025-05-21T07:30:00+00:00",
          "2025-05-21T09:00:00+00:00",
          "2025-05-21T11:00:00+00:00",
          "2025-05-21T11:30:00+00:00",
          "2025-05-21T12:00:00+00:00",
          "2025-05-21T12:30:00+00:00",
          "2025-05-21T13:00:00+00:00",
          "2025-05-21T13:30:00+00:00",
          "2025-05-21T14:00:00+00:00",
          "2025-05-21T14:30:00+00:00",
          "2025-05-21T15:00:00+00:00",
          "2025-05-21T15:30:00+00:00",
          "2025-05-21T16:00:00+00:00",
          "2025-05-21T16:30:00+00:00",
          "2025-05-21T17:00:00+00:00",
          "2025-05-21T17:30:00+00:00",
          "2025-05-21T18:00:00+00:00",
          "2025-05-21T19:00:00+00:00",
          "2025-05-21T19:30:00+00:00",
          "2025-05-21T20:00:00+00:00",
          "2025-05-21T20:30:00+00:00",
          "2025-05-21T21:00:00+00:00",
          "2025-05-21T21:30:00+00:00",
          "2025-05-21T22:00:00+00:00",
          "2025-05-21T22:30:00+00:00",
          "2025-05-21T23:00:00+00:00",
          "2025-05-21T23:30:00+00:00",
          "2025-05-22T00:30:00+00:00",
          "2025-05-22T01:00:00+00:00",
          "2025-05-22T01:30:00+00:00",
          "2025-05-22T02:00:00+00:00",
          "2025-05-22T02:30:00+00:00",
          "2025-05-22T03:30:00+00:00",
          "2025-05-22T04:00:00+00:00",
          "2025-05-22T04:30:00+00:00",
          "2025-05-22T05:00:00+00:00",
          "2025-05-22T05:30:00+00:00",
          "2025-05-22T07:00:00+00:00",
          "2025-05-22T10:00:00+00:00",
          "2025-05-22T10:30:00+00:00",
          "2025-05-22T11:30:00+00:00",
          "2025-05-22T12:00:00+00:00",
          "2025-05-22T12:30:00+00:00",
          "2025-05-22T13:00:00+00:00",
          "2025-05-22T13:30:00+00:00",
          "2025-05-22T14:00:00+00:00",
          "2025-05-22T14:30:00+00:00",
          "2025-05-22T15:00:00+00:00",
          "2025-05-22T15:30:00+00:00",
          "2025-05-22T16:30:00+00:00",
          "2025-05-22T17:00:00+00:00",
          "2025-05-22T17:30:00+00:00",
          "2025-05-22T18:00:00+00:00",
          "2025-05-22T18:30:00+00:00",
          "2025-05-22T19:00:00+00:00",
          "2025-05-22T19:30:00+00:00",
          "2025-05-22T20:00:00+00:00",
          "2025-05-22T20:30:00+00:00",
          "2025-05-22T21:00:00+00:00",
          "2025-05-22T21:30:00+00:00",
          "2025-05-22T22:00:00+00:00",
          "2025-05-22T22:30:00+00:00",
          "2025-05-22T23:00:00+00:00",
          "2025-05-22T23:30:00+00:00"
         ],
         "xaxis": "x",
         "y": [
          1,
          0,
          0,
          3,
          3,
          2,
          3,
          0,
          1,
          1,
          1,
          2,
          2,
          1,
          1,
          1,
          1,
          3,
          1,
          0,
          3,
          5,
          2,
          1,
          4,
          6,
          2,
          1,
          4,
          5,
          1,
          4,
          1,
          1,
          4,
          1,
          2,
          3,
          3,
          4,
          3,
          5,
          1,
          2,
          5,
          0,
          1,
          1,
          1,
          2,
          1,
          1,
          1,
          1,
          1,
          1,
          3,
          2,
          2,
          2,
          3,
          1,
          3,
          5,
          2,
          2,
          4,
          4,
          2,
          3,
          2,
          3,
          2,
          1,
          1,
          2,
          1,
          5,
          6,
          2,
          3,
          1,
          2,
          0,
          0,
          1,
          1,
          1,
          1,
          0,
          1,
          2,
          0,
          2,
          4,
          2,
          3,
          0,
          3,
          4,
          1,
          6,
          3,
          3,
          3,
          2,
          4,
          3,
          6,
          3,
          4,
          4,
          2,
          5,
          0,
          4,
          4
         ],
         "yaxis": "y"
        },
        {
         "hovertemplate": "os_name=ipados<br>show_dt=%{x}<br>approve_flag=%{y}<extra></extra>",
         "legendgroup": "ipados",
         "line": {
          "color": "#00cc96",
          "dash": "solid"
         },
         "marker": {
          "symbol": "circle"
         },
         "mode": "lines",
         "name": "ipados",
         "orientation": "v",
         "showlegend": true,
         "type": "scatter",
         "x": [
          "2025-05-20T19:00:00+00:00",
          "2025-05-21T22:00:00+00:00"
         ],
         "xaxis": "x",
         "y": [
          1,
          1
         ],
         "yaxis": "y"
        }
       ],
       "layout": {
        "legend": {
         "title": {
          "text": "os_name"
         },
         "tracegroupgap": 0
        },
        "shapes": [
         {
          "fillcolor": "lightgreen",
          "layer": "below",
          "line": {
           "width": 0
          },
          "opacity": 0.2,
          "type": "rect",
          "x0": "2025-05-22 00:00:00+00:00",
          "x1": "2025-05-23 00:00:00+00:00",
          "xref": "x",
          "y0": 0,
          "y1": 1,
          "yref": "y domain"
         }
        ],
        "template": {
         "data": {
          "bar": [
           {
            "error_x": {
             "color": "#2a3f5f"
            },
            "error_y": {
             "color": "#2a3f5f"
            },
            "marker": {
             "line": {
              "color": "#E5ECF6",
              "width": 0.5
             },
             "pattern": {
              "fillmode": "overlay",
              "size": 10,
              "solidity": 0.2
             }
            },
            "type": "bar"
           }
          ],
          "barpolar": [
           {
            "marker": {
             "line": {
              "color": "#E5ECF6",
              "width": 0.5
             },
             "pattern": {
              "fillmode": "overlay",
              "size": 10,
              "solidity": 0.2
             }
            },
            "type": "barpolar"
           }
          ],
          "carpet": [
           {
            "aaxis": {
             "endlinecolor": "#2a3f5f",
             "gridcolor": "white",
             "linecolor": "white",
             "minorgridcolor": "white",
             "startlinecolor": "#2a3f5f"
            },
            "baxis": {
             "endlinecolor": "#2a3f5f",
             "gridcolor": "white",
             "linecolor": "white",
             "minorgridcolor": "white",
             "startlinecolor": "#2a3f5f"
            },
            "type": "carpet"
           }
          ],
          "choropleth": [
           {
            "colorbar": {
             "outlinewidth": 0,
             "ticks": ""
            },
            "type": "choropleth"
           }
          ],
          "contour": [
           {
            "colorbar": {
             "outlinewidth": 0,
             "ticks": ""
            },
            "colorscale": [
             [
              0,
              "#0d0887"
             ],
             [
              0.1111111111111111,
              "#46039f"
             ],
             [
              0.2222222222222222,
              "#7201a8"
             ],
             [
              0.3333333333333333,
              "#9c179e"
             ],
             [
              0.4444444444444444,
              "#bd3786"
             ],
             [
              0.5555555555555556,
              "#d8576b"
             ],
             [
              0.6666666666666666,
              "#ed7953"
             ],
             [
              0.7777777777777778,
              "#fb9f3a"
             ],
             [
              0.8888888888888888,
              "#fdca26"
             ],
             [
              1,
              "#f0f921"
             ]
            ],
            "type": "contour"
           }
          ],
          "contourcarpet": [
           {
            "colorbar": {
             "outlinewidth": 0,
             "ticks": ""
            },
            "type": "contourcarpet"
           }
          ],
          "heatmap": [
           {
            "colorbar": {
             "outlinewidth": 0,
             "ticks": ""
            },
            "colorscale": [
             [
              0,
              "#0d0887"
             ],
             [
              0.1111111111111111,
              "#46039f"
             ],
             [
              0.2222222222222222,
              "#7201a8"
             ],
             [
              0.3333333333333333,
              "#9c179e"
             ],
             [
              0.4444444444444444,
              "#bd3786"
             ],
             [
              0.5555555555555556,
              "#d8576b"
             ],
             [
              0.6666666666666666,
              "#ed7953"
             ],
             [
              0.7777777777777778,
              "#fb9f3a"
             ],
             [
              0.8888888888888888,
              "#fdca26"
             ],
             [
              1,
              "#f0f921"
             ]
            ],
            "type": "heatmap"
           }
          ],
          "heatmapgl": [
           {
            "colorbar": {
             "outlinewidth": 0,
             "ticks": ""
            },
            "colorscale": [
             [
              0,
              "#0d0887"
             ],
             [
              0.1111111111111111,
              "#46039f"
             ],
             [
              0.2222222222222222,
              "#7201a8"
             ],
             [
              0.3333333333333333,
              "#9c179e"
             ],
             [
              0.4444444444444444,
              "#bd3786"
             ],
             [
              0.5555555555555556,
              "#d8576b"
             ],
             [
              0.6666666666666666,
              "#ed7953"
             ],
             [
              0.7777777777777778,
              "#fb9f3a"
             ],
             [
              0.8888888888888888,
              "#fdca26"
             ],
             [
              1,
              "#f0f921"
             ]
            ],
            "type": "heatmapgl"
           }
          ],
          "histogram": [
           {
            "marker": {
             "pattern": {
              "fillmode": "overlay",
              "size": 10,
              "solidity": 0.2
             }
            },
            "type": "histogram"
           }
          ],
          "histogram2d": [
           {
            "colorbar": {
             "outlinewidth": 0,
             "ticks": ""
            },
            "colorscale": [
             [
              0,
              "#0d0887"
             ],
             [
              0.1111111111111111,
              "#46039f"
             ],
             [
              0.2222222222222222,
              "#7201a8"
             ],
             [
              0.3333333333333333,
              "#9c179e"
             ],
             [
              0.4444444444444444,
              "#bd3786"
             ],
             [
              0.5555555555555556,
              "#d8576b"
             ],
             [
              0.6666666666666666,
              "#ed7953"
             ],
             [
              0.7777777777777778,
              "#fb9f3a"
             ],
             [
              0.8888888888888888,
              "#fdca26"
             ],
             [
              1,
              "#f0f921"
             ]
            ],
            "type": "histogram2d"
           }
          ],
          "histogram2dcontour": [
           {
            "colorbar": {
             "outlinewidth": 0,
             "ticks": ""
            },
            "colorscale": [
             [
              0,
              "#0d0887"
             ],
             [
              0.1111111111111111,
              "#46039f"
             ],
             [
              0.2222222222222222,
              "#7201a8"
             ],
             [
              0.3333333333333333,
              "#9c179e"
             ],
             [
              0.4444444444444444,
              "#bd3786"
             ],
             [
              0.5555555555555556,
              "#d8576b"
             ],
             [
              0.6666666666666666,
              "#ed7953"
             ],
             [
              0.7777777777777778,
              "#fb9f3a"
             ],
             [
              0.8888888888888888,
              "#fdca26"
             ],
             [
              1,
              "#f0f921"
             ]
            ],
            "type": "histogram2dcontour"
           }
          ],
          "mesh3d": [
           {
            "colorbar": {
             "outlinewidth": 0,
             "ticks": ""
            },
            "type": "mesh3d"
           }
          ],
          "parcoords": [
           {
            "line": {
             "colorbar": {
              "outlinewidth": 0,
              "ticks": ""
             }
            },
            "type": "parcoords"
           }
          ],
          "pie": [
           {
            "automargin": true,
            "type": "pie"
           }
          ],
          "scatter": [
           {
            "fillpattern": {
             "fillmode": "overlay",
             "size": 10,
             "solidity": 0.2
            },
            "type": "scatter"
           }
          ],
          "scatter3d": [
           {
            "line": {
             "colorbar": {
              "outlinewidth": 0,
              "ticks": ""
             }
            },
            "marker": {
             "colorbar": {
              "outlinewidth": 0,
              "ticks": ""
             }
            },
            "type": "scatter3d"
           }
          ],
          "scattercarpet": [
           {
            "marker": {
             "colorbar": {
              "outlinewidth": 0,
              "ticks": ""
             }
            },
            "type": "scattercarpet"
           }
          ],
          "scattergeo": [
           {
            "marker": {
             "colorbar": {
              "outlinewidth": 0,
              "ticks": ""
             }
            },
            "type": "scattergeo"
           }
          ],
          "scattergl": [
           {
            "marker": {
             "colorbar": {
              "outlinewidth": 0,
              "ticks": ""
             }
            },
            "type": "scattergl"
           }
          ],
          "scattermapbox": [
           {
            "marker": {
             "colorbar": {
              "outlinewidth": 0,
              "ticks": ""
             }
            },
            "type": "scattermapbox"
           }
          ],
          "scatterpolar": [
           {
            "marker": {
             "colorbar": {
              "outlinewidth": 0,
              "ticks": ""
             }
            },
            "type": "scatterpolar"
           }
          ],
          "scatterpolargl": [
           {
            "marker": {
             "colorbar": {
              "outlinewidth": 0,
              "ticks": ""
             }
            },
            "type": "scatterpolargl"
           }
          ],
          "scatterternary": [
           {
            "marker": {
             "colorbar": {
              "outlinewidth": 0,
              "ticks": ""
             }
            },
            "type": "scatterternary"
           }
          ],
          "surface": [
           {
            "colorbar": {
             "outlinewidth": 0,
             "ticks": ""
            },
            "colorscale": [
             [
              0,
              "#0d0887"
             ],
             [
              0.1111111111111111,
              "#46039f"
             ],
             [
              0.2222222222222222,
              "#7201a8"
             ],
             [
              0.3333333333333333,
              "#9c179e"
             ],
             [
              0.4444444444444444,
              "#bd3786"
             ],
             [
              0.5555555555555556,
              "#d8576b"
             ],
             [
              0.6666666666666666,
              "#ed7953"
             ],
             [
              0.7777777777777778,
              "#fb9f3a"
             ],
             [
              0.8888888888888888,
              "#fdca26"
             ],
             [
              1,
              "#f0f921"
             ]
            ],
            "type": "surface"
           }
          ],
          "table": [
           {
            "cells": {
             "fill": {
              "color": "#EBF0F8"
             },
             "line": {
              "color": "white"
             }
            },
            "header": {
             "fill": {
              "color": "#C8D4E3"
             },
             "line": {
              "color": "white"
             }
            },
            "type": "table"
           }
          ]
         },
         "layout": {
          "annotationdefaults": {
           "arrowcolor": "#2a3f5f",
           "arrowhead": 0,
           "arrowwidth": 1
          },
          "autotypenumbers": "strict",
          "coloraxis": {
           "colorbar": {
            "outlinewidth": 0,
            "ticks": ""
           }
          },
          "colorscale": {
           "diverging": [
            [
             0,
             "#8e0152"
            ],
            [
             0.1,
             "#c51b7d"
            ],
            [
             0.2,
             "#de77ae"
            ],
            [
             0.3,
             "#f1b6da"
            ],
            [
             0.4,
             "#fde0ef"
            ],
            [
             0.5,
             "#f7f7f7"
            ],
            [
             0.6,
             "#e6f5d0"
            ],
            [
             0.7,
             "#b8e186"
            ],
            [
             0.8,
             "#7fbc41"
            ],
            [
             0.9,
             "#4d9221"
            ],
            [
             1,
             "#276419"
            ]
           ],
           "sequential": [
            [
             0,
             "#0d0887"
            ],
            [
             0.1111111111111111,
             "#46039f"
            ],
            [
             0.2222222222222222,
             "#7201a8"
            ],
            [
             0.3333333333333333,
             "#9c179e"
            ],
            [
             0.4444444444444444,
             "#bd3786"
            ],
            [
             0.5555555555555556,
             "#d8576b"
            ],
            [
             0.6666666666666666,
             "#ed7953"
            ],
            [
             0.7777777777777778,
             "#fb9f3a"
            ],
            [
             0.8888888888888888,
             "#fdca26"
            ],
            [
             1,
             "#f0f921"
            ]
           ],
           "sequentialminus": [
            [
             0,
             "#0d0887"
            ],
            [
             0.1111111111111111,
             "#46039f"
            ],
            [
             0.2222222222222222,
             "#7201a8"
            ],
            [
             0.3333333333333333,
             "#9c179e"
            ],
            [
             0.4444444444444444,
             "#bd3786"
            ],
            [
             0.5555555555555556,
             "#d8576b"
            ],
            [
             0.6666666666666666,
             "#ed7953"
            ],
            [
             0.7777777777777778,
             "#fb9f3a"
            ],
            [
             0.8888888888888888,
             "#fdca26"
            ],
            [
             1,
             "#f0f921"
            ]
           ]
          },
          "colorway": [
           "#636efa",
           "#EF553B",
           "#00cc96",
           "#ab63fa",
           "#FFA15A",
           "#19d3f3",
           "#FF6692",
           "#B6E880",
           "#FF97FF",
           "#FECB52"
          ],
          "font": {
           "color": "#2a3f5f"
          },
          "geo": {
           "bgcolor": "white",
           "lakecolor": "white",
           "landcolor": "#E5ECF6",
           "showlakes": true,
           "showland": true,
           "subunitcolor": "white"
          },
          "hoverlabel": {
           "align": "left"
          },
          "hovermode": "closest",
          "mapbox": {
           "style": "light"
          },
          "paper_bgcolor": "white",
          "plot_bgcolor": "#E5ECF6",
          "polar": {
           "angularaxis": {
            "gridcolor": "white",
            "linecolor": "white",
            "ticks": ""
           },
           "bgcolor": "#E5ECF6",
           "radialaxis": {
            "gridcolor": "white",
            "linecolor": "white",
            "ticks": ""
           }
          },
          "scene": {
           "xaxis": {
            "backgroundcolor": "#E5ECF6",
            "gridcolor": "white",
            "gridwidth": 2,
            "linecolor": "white",
            "showbackground": true,
            "ticks": "",
            "zerolinecolor": "white"
           },
           "yaxis": {
            "backgroundcolor": "#E5ECF6",
            "gridcolor": "white",
            "gridwidth": 2,
            "linecolor": "white",
            "showbackground": true,
            "ticks": "",
            "zerolinecolor": "white"
           },
           "zaxis": {
            "backgroundcolor": "#E5ECF6",
            "gridcolor": "white",
            "gridwidth": 2,
            "linecolor": "white",
            "showbackground": true,
            "ticks": "",
            "zerolinecolor": "white"
           }
          },
          "shapedefaults": {
           "line": {
            "color": "#2a3f5f"
           }
          },
          "ternary": {
           "aaxis": {
            "gridcolor": "white",
            "linecolor": "white",
            "ticks": ""
           },
           "baxis": {
            "gridcolor": "white",
            "linecolor": "white",
            "ticks": ""
           },
           "bgcolor": "#E5ECF6",
           "caxis": {
            "gridcolor": "white",
            "linecolor": "white",
            "ticks": ""
           }
          },
          "title": {
           "x": 0.05
          },
          "xaxis": {
           "automargin": true,
           "gridcolor": "white",
           "linecolor": "white",
           "ticks": "",
           "title": {
            "standoff": 15
           },
           "zerolinecolor": "white",
           "zerolinewidth": 2
          },
          "yaxis": {
           "automargin": true,
           "gridcolor": "white",
           "linecolor": "white",
           "ticks": "",
           "title": {
            "standoff": 15
           },
           "zerolinecolor": "white",
           "zerolinewidth": 2
          }
         }
        },
        "title": {
         "text": "El Salvador"
        },
        "xaxis": {
         "anchor": "y",
         "domain": [
          0,
          1
         ],
         "title": {
          "text": "show_dt"
         }
        },
        "yaxis": {
         "anchor": "x",
         "domain": [
          0,
          1
         ],
         "title": {
          "text": "approve_flag"
         }
        }
       }
      }
     },
     "metadata": {},
     "output_type": "display_data"
    },
    {
     "data": {
      "application/vnd.plotly.v1+json": {
       "config": {
        "plotlyServerURL": "https://plot.ly"
       },
       "data": [
        {
         "hovertemplate": "os_name=ios<br>show_dt=%{x}<br>approve_flag=%{y}<extra></extra>",
         "legendgroup": "ios",
         "line": {
          "color": "#636efa",
          "dash": "solid"
         },
         "marker": {
          "symbol": "circle"
         },
         "mode": "lines",
         "name": "ios",
         "orientation": "v",
         "showlegend": true,
         "type": "scatter",
         "x": [
          "2025-04-27T08:00:00+00:00",
          "2025-05-15T19:30:00+00:00",
          "2025-05-16T20:00:00+00:00",
          "2025-05-18T09:00:00+00:00",
          "2025-05-20T00:00:00+00:00",
          "2025-05-20T01:00:00+00:00",
          "2025-05-20T01:30:00+00:00",
          "2025-05-20T02:00:00+00:00",
          "2025-05-20T03:00:00+00:00",
          "2025-05-20T03:30:00+00:00",
          "2025-05-20T04:00:00+00:00",
          "2025-05-20T04:30:00+00:00",
          "2025-05-20T10:30:00+00:00",
          "2025-05-20T11:00:00+00:00",
          "2025-05-20T11:30:00+00:00",
          "2025-05-20T12:00:00+00:00",
          "2025-05-20T12:30:00+00:00",
          "2025-05-20T13:00:00+00:00",
          "2025-05-20T13:30:00+00:00",
          "2025-05-20T14:00:00+00:00",
          "2025-05-20T14:30:00+00:00",
          "2025-05-20T15:00:00+00:00",
          "2025-05-20T15:30:00+00:00",
          "2025-05-20T16:00:00+00:00",
          "2025-05-20T16:30:00+00:00",
          "2025-05-20T17:00:00+00:00",
          "2025-05-20T17:30:00+00:00",
          "2025-05-20T18:30:00+00:00",
          "2025-05-20T19:00:00+00:00",
          "2025-05-20T19:30:00+00:00",
          "2025-05-20T20:00:00+00:00",
          "2025-05-20T21:00:00+00:00",
          "2025-05-20T21:30:00+00:00",
          "2025-05-20T22:00:00+00:00",
          "2025-05-20T22:30:00+00:00",
          "2025-05-20T23:00:00+00:00",
          "2025-05-20T23:30:00+00:00",
          "2025-05-21T00:00:00+00:00",
          "2025-05-21T00:30:00+00:00",
          "2025-05-21T01:00:00+00:00",
          "2025-05-21T01:30:00+00:00",
          "2025-05-21T02:00:00+00:00",
          "2025-05-21T02:30:00+00:00",
          "2025-05-21T03:30:00+00:00",
          "2025-05-21T04:00:00+00:00",
          "2025-05-21T05:30:00+00:00",
          "2025-05-21T06:00:00+00:00",
          "2025-05-21T07:00:00+00:00",
          "2025-05-21T07:30:00+00:00",
          "2025-05-21T08:30:00+00:00",
          "2025-05-21T11:00:00+00:00",
          "2025-05-21T11:30:00+00:00",
          "2025-05-21T12:00:00+00:00",
          "2025-05-21T12:30:00+00:00",
          "2025-05-21T13:00:00+00:00",
          "2025-05-21T13:30:00+00:00",
          "2025-05-21T14:00:00+00:00",
          "2025-05-21T14:30:00+00:00",
          "2025-05-21T15:00:00+00:00",
          "2025-05-21T15:30:00+00:00",
          "2025-05-21T16:00:00+00:00",
          "2025-05-21T17:00:00+00:00",
          "2025-05-21T17:30:00+00:00",
          "2025-05-21T18:00:00+00:00",
          "2025-05-21T18:30:00+00:00",
          "2025-05-21T19:00:00+00:00",
          "2025-05-21T19:30:00+00:00",
          "2025-05-21T20:00:00+00:00",
          "2025-05-21T20:30:00+00:00",
          "2025-05-21T21:00:00+00:00",
          "2025-05-21T21:30:00+00:00",
          "2025-05-21T22:00:00+00:00",
          "2025-05-21T22:30:00+00:00",
          "2025-05-21T23:00:00+00:00",
          "2025-05-21T23:30:00+00:00",
          "2025-05-22T00:00:00+00:00",
          "2025-05-22T00:30:00+00:00",
          "2025-05-22T01:00:00+00:00",
          "2025-05-22T01:30:00+00:00",
          "2025-05-22T02:00:00+00:00",
          "2025-05-22T02:30:00+00:00",
          "2025-05-22T03:00:00+00:00",
          "2025-05-22T03:30:00+00:00",
          "2025-05-22T04:00:00+00:00",
          "2025-05-22T04:30:00+00:00",
          "2025-05-22T05:00:00+00:00",
          "2025-05-22T06:00:00+00:00",
          "2025-05-22T06:30:00+00:00",
          "2025-05-22T08:00:00+00:00",
          "2025-05-22T08:30:00+00:00",
          "2025-05-22T09:30:00+00:00",
          "2025-05-22T10:30:00+00:00",
          "2025-05-22T11:00:00+00:00",
          "2025-05-22T11:30:00+00:00",
          "2025-05-22T12:00:00+00:00",
          "2025-05-22T12:30:00+00:00",
          "2025-05-22T13:00:00+00:00",
          "2025-05-22T13:30:00+00:00",
          "2025-05-22T14:00:00+00:00",
          "2025-05-22T14:30:00+00:00",
          "2025-05-22T15:00:00+00:00",
          "2025-05-22T15:30:00+00:00",
          "2025-05-22T16:00:00+00:00",
          "2025-05-22T16:30:00+00:00",
          "2025-05-22T17:30:00+00:00",
          "2025-05-22T19:00:00+00:00",
          "2025-05-22T19:30:00+00:00",
          "2025-05-22T20:00:00+00:00",
          "2025-05-22T20:30:00+00:00",
          "2025-05-22T21:00:00+00:00",
          "2025-05-22T21:30:00+00:00",
          "2025-05-22T22:00:00+00:00",
          "2025-05-22T22:30:00+00:00",
          "2025-05-22T23:00:00+00:00",
          "2025-05-22T23:30:00+00:00"
         ],
         "xaxis": "x",
         "y": [
          0,
          1,
          1,
          1,
          3,
          2,
          1,
          2,
          3,
          2,
          2,
          2,
          1,
          1,
          1,
          4,
          5,
          3,
          1,
          5,
          4,
          2,
          3,
          1,
          5,
          3,
          3,
          3,
          3,
          5,
          3,
          1,
          2,
          2,
          5,
          1,
          1,
          2,
          3,
          4,
          2,
          1,
          2,
          1,
          1,
          1,
          2,
          0,
          1,
          1,
          2,
          3,
          3,
          5,
          1,
          2,
          4,
          2,
          4,
          5,
          3,
          2,
          4,
          2,
          1,
          2,
          2,
          3,
          3,
          2,
          2,
          3,
          3,
          5,
          1,
          2,
          4,
          2,
          4,
          0,
          1,
          8,
          5,
          1,
          1,
          1,
          1,
          3,
          0,
          1,
          1,
          1,
          0,
          4,
          3,
          5,
          2,
          5,
          2,
          2,
          4,
          1,
          1,
          2,
          1,
          5,
          2,
          3,
          3,
          4,
          4,
          5,
          3,
          3,
          4
         ],
         "yaxis": "y"
        },
        {
         "hovertemplate": "os_name=android<br>show_dt=%{x}<br>approve_flag=%{y}<extra></extra>",
         "legendgroup": "android",
         "line": {
          "color": "#EF553B",
          "dash": "solid"
         },
         "marker": {
          "symbol": "circle"
         },
         "mode": "lines",
         "name": "android",
         "orientation": "v",
         "showlegend": true,
         "type": "scatter",
         "x": [
          "2025-05-15T01:30:00+00:00",
          "2025-05-18T15:30:00+00:00",
          "2025-05-20T00:00:00+00:00",
          "2025-05-20T00:30:00+00:00",
          "2025-05-20T01:00:00+00:00",
          "2025-05-20T01:30:00+00:00",
          "2025-05-20T02:00:00+00:00",
          "2025-05-20T02:30:00+00:00",
          "2025-05-20T03:00:00+00:00",
          "2025-05-20T03:30:00+00:00",
          "2025-05-20T04:00:00+00:00",
          "2025-05-20T04:30:00+00:00",
          "2025-05-20T05:00:00+00:00",
          "2025-05-20T05:30:00+00:00",
          "2025-05-20T06:00:00+00:00",
          "2025-05-20T06:30:00+00:00",
          "2025-05-20T07:30:00+00:00",
          "2025-05-20T08:00:00+00:00",
          "2025-05-20T08:30:00+00:00",
          "2025-05-20T09:00:00+00:00",
          "2025-05-20T09:30:00+00:00",
          "2025-05-20T10:30:00+00:00",
          "2025-05-20T11:00:00+00:00",
          "2025-05-20T11:30:00+00:00",
          "2025-05-20T12:00:00+00:00",
          "2025-05-20T12:30:00+00:00",
          "2025-05-20T13:00:00+00:00",
          "2025-05-20T13:30:00+00:00",
          "2025-05-20T14:00:00+00:00",
          "2025-05-20T14:30:00+00:00",
          "2025-05-20T15:00:00+00:00",
          "2025-05-20T15:30:00+00:00",
          "2025-05-20T16:00:00+00:00",
          "2025-05-20T16:30:00+00:00",
          "2025-05-20T17:00:00+00:00",
          "2025-05-20T17:30:00+00:00",
          "2025-05-20T18:00:00+00:00",
          "2025-05-20T18:30:00+00:00",
          "2025-05-20T19:00:00+00:00",
          "2025-05-20T19:30:00+00:00",
          "2025-05-20T20:00:00+00:00",
          "2025-05-20T20:30:00+00:00",
          "2025-05-20T21:00:00+00:00",
          "2025-05-20T21:30:00+00:00",
          "2025-05-20T22:00:00+00:00",
          "2025-05-20T22:30:00+00:00",
          "2025-05-20T23:00:00+00:00",
          "2025-05-20T23:30:00+00:00",
          "2025-05-21T00:00:00+00:00",
          "2025-05-21T00:30:00+00:00",
          "2025-05-21T01:00:00+00:00",
          "2025-05-21T01:30:00+00:00",
          "2025-05-21T02:00:00+00:00",
          "2025-05-21T02:30:00+00:00",
          "2025-05-21T03:00:00+00:00",
          "2025-05-21T03:30:00+00:00",
          "2025-05-21T04:00:00+00:00",
          "2025-05-21T04:30:00+00:00",
          "2025-05-21T05:00:00+00:00",
          "2025-05-21T05:30:00+00:00",
          "2025-05-21T06:00:00+00:00",
          "2025-05-21T06:30:00+00:00",
          "2025-05-21T07:00:00+00:00",
          "2025-05-21T07:30:00+00:00",
          "2025-05-21T08:00:00+00:00",
          "2025-05-21T08:30:00+00:00",
          "2025-05-21T09:00:00+00:00",
          "2025-05-21T09:30:00+00:00",
          "2025-05-21T10:00:00+00:00",
          "2025-05-21T10:30:00+00:00",
          "2025-05-21T11:00:00+00:00",
          "2025-05-21T11:30:00+00:00",
          "2025-05-21T12:00:00+00:00",
          "2025-05-21T12:30:00+00:00",
          "2025-05-21T13:00:00+00:00",
          "2025-05-21T13:30:00+00:00",
          "2025-05-21T14:00:00+00:00",
          "2025-05-21T14:30:00+00:00",
          "2025-05-21T15:00:00+00:00",
          "2025-05-21T15:30:00+00:00",
          "2025-05-21T16:00:00+00:00",
          "2025-05-21T16:30:00+00:00",
          "2025-05-21T17:00:00+00:00",
          "2025-05-21T17:30:00+00:00",
          "2025-05-21T18:00:00+00:00",
          "2025-05-21T18:30:00+00:00",
          "2025-05-21T19:00:00+00:00",
          "2025-05-21T19:30:00+00:00",
          "2025-05-21T20:00:00+00:00",
          "2025-05-21T20:30:00+00:00",
          "2025-05-21T21:00:00+00:00",
          "2025-05-21T21:30:00+00:00",
          "2025-05-21T22:00:00+00:00",
          "2025-05-21T22:30:00+00:00",
          "2025-05-21T23:00:00+00:00",
          "2025-05-21T23:30:00+00:00",
          "2025-05-22T00:00:00+00:00",
          "2025-05-22T00:30:00+00:00",
          "2025-05-22T01:00:00+00:00",
          "2025-05-22T01:30:00+00:00",
          "2025-05-22T02:00:00+00:00",
          "2025-05-22T02:30:00+00:00",
          "2025-05-22T03:00:00+00:00",
          "2025-05-22T03:30:00+00:00",
          "2025-05-22T04:00:00+00:00",
          "2025-05-22T04:30:00+00:00",
          "2025-05-22T05:00:00+00:00",
          "2025-05-22T05:30:00+00:00",
          "2025-05-22T06:00:00+00:00",
          "2025-05-22T06:30:00+00:00",
          "2025-05-22T07:00:00+00:00",
          "2025-05-22T07:30:00+00:00",
          "2025-05-22T08:30:00+00:00",
          "2025-05-22T09:00:00+00:00",
          "2025-05-22T09:30:00+00:00",
          "2025-05-22T10:00:00+00:00",
          "2025-05-22T10:30:00+00:00",
          "2025-05-22T11:00:00+00:00",
          "2025-05-22T11:30:00+00:00",
          "2025-05-22T12:00:00+00:00",
          "2025-05-22T12:30:00+00:00",
          "2025-05-22T13:00:00+00:00",
          "2025-05-22T13:30:00+00:00",
          "2025-05-22T14:00:00+00:00",
          "2025-05-22T14:30:00+00:00",
          "2025-05-22T15:00:00+00:00",
          "2025-05-22T15:30:00+00:00",
          "2025-05-22T16:00:00+00:00",
          "2025-05-22T16:30:00+00:00",
          "2025-05-22T17:00:00+00:00",
          "2025-05-22T17:30:00+00:00",
          "2025-05-22T18:00:00+00:00",
          "2025-05-22T18:30:00+00:00",
          "2025-05-22T19:00:00+00:00",
          "2025-05-22T19:30:00+00:00",
          "2025-05-22T20:00:00+00:00",
          "2025-05-22T20:30:00+00:00",
          "2025-05-22T21:00:00+00:00",
          "2025-05-22T21:30:00+00:00",
          "2025-05-22T22:00:00+00:00",
          "2025-05-22T22:30:00+00:00",
          "2025-05-22T23:00:00+00:00",
          "2025-05-22T23:30:00+00:00"
         ],
         "xaxis": "x",
         "y": [
          0,
          0,
          5,
          5,
          8,
          7,
          8,
          8,
          7,
          3,
          10,
          2,
          2,
          1,
          1,
          1,
          1,
          0,
          3,
          2,
          2,
          4,
          2,
          5,
          3,
          7,
          9,
          17,
          6,
          10,
          7,
          7,
          5,
          3,
          1,
          9,
          8,
          8,
          9,
          5,
          5,
          3,
          5,
          2,
          10,
          6,
          10,
          5,
          8,
          6,
          6,
          9,
          4,
          2,
          4,
          7,
          2,
          7,
          2,
          4,
          3,
          1,
          2,
          2,
          3,
          3,
          3,
          2,
          3,
          3,
          5,
          3,
          7,
          7,
          8,
          7,
          9,
          4,
          7,
          5,
          8,
          7,
          4,
          5,
          7,
          6,
          5,
          9,
          8,
          14,
          9,
          7,
          7,
          9,
          7,
          7,
          7,
          8,
          15,
          7,
          9,
          4,
          11,
          6,
          6,
          6,
          5,
          4,
          4,
          3,
          3,
          1,
          1,
          1,
          2,
          0,
          3,
          2,
          8,
          5,
          12,
          9,
          11,
          3,
          5,
          2,
          6,
          6,
          6,
          8,
          5,
          5,
          9,
          6,
          7,
          10,
          7,
          7,
          5,
          13,
          4,
          7,
          12
         ],
         "yaxis": "y"
        },
        {
         "hovertemplate": "os_name=ipados<br>show_dt=%{x}<br>approve_flag=%{y}<extra></extra>",
         "legendgroup": "ipados",
         "line": {
          "color": "#00cc96",
          "dash": "solid"
         },
         "marker": {
          "symbol": "circle"
         },
         "mode": "lines",
         "name": "ipados",
         "orientation": "v",
         "showlegend": true,
         "type": "scatter",
         "x": [
          "2025-05-22T15:30:00+00:00"
         ],
         "xaxis": "x",
         "y": [
          1
         ],
         "yaxis": "y"
        },
        {
         "hovertemplate": "os_name=Android<br>show_dt=%{x}<br>approve_flag=%{y}<extra></extra>",
         "legendgroup": "Android",
         "line": {
          "color": "#ab63fa",
          "dash": "solid"
         },
         "marker": {
          "symbol": "circle"
         },
         "mode": "lines",
         "name": "Android",
         "orientation": "v",
         "showlegend": true,
         "type": "scatter",
         "x": [
          "2025-05-22T22:30:00+00:00"
         ],
         "xaxis": "x",
         "y": [
          1
         ],
         "yaxis": "y"
        }
       ],
       "layout": {
        "legend": {
         "title": {
          "text": "os_name"
         },
         "tracegroupgap": 0
        },
        "shapes": [
         {
          "fillcolor": "lightgreen",
          "layer": "below",
          "line": {
           "width": 0
          },
          "opacity": 0.2,
          "type": "rect",
          "x0": "2025-05-22 00:00:00+00:00",
          "x1": "2025-05-23 00:00:00+00:00",
          "xref": "x",
          "y0": 0,
          "y1": 1,
          "yref": "y domain"
         }
        ],
        "template": {
         "data": {
          "bar": [
           {
            "error_x": {
             "color": "#2a3f5f"
            },
            "error_y": {
             "color": "#2a3f5f"
            },
            "marker": {
             "line": {
              "color": "#E5ECF6",
              "width": 0.5
             },
             "pattern": {
              "fillmode": "overlay",
              "size": 10,
              "solidity": 0.2
             }
            },
            "type": "bar"
           }
          ],
          "barpolar": [
           {
            "marker": {
             "line": {
              "color": "#E5ECF6",
              "width": 0.5
             },
             "pattern": {
              "fillmode": "overlay",
              "size": 10,
              "solidity": 0.2
             }
            },
            "type": "barpolar"
           }
          ],
          "carpet": [
           {
            "aaxis": {
             "endlinecolor": "#2a3f5f",
             "gridcolor": "white",
             "linecolor": "white",
             "minorgridcolor": "white",
             "startlinecolor": "#2a3f5f"
            },
            "baxis": {
             "endlinecolor": "#2a3f5f",
             "gridcolor": "white",
             "linecolor": "white",
             "minorgridcolor": "white",
             "startlinecolor": "#2a3f5f"
            },
            "type": "carpet"
           }
          ],
          "choropleth": [
           {
            "colorbar": {
             "outlinewidth": 0,
             "ticks": ""
            },
            "type": "choropleth"
           }
          ],
          "contour": [
           {
            "colorbar": {
             "outlinewidth": 0,
             "ticks": ""
            },
            "colorscale": [
             [
              0,
              "#0d0887"
             ],
             [
              0.1111111111111111,
              "#46039f"
             ],
             [
              0.2222222222222222,
              "#7201a8"
             ],
             [
              0.3333333333333333,
              "#9c179e"
             ],
             [
              0.4444444444444444,
              "#bd3786"
             ],
             [
              0.5555555555555556,
              "#d8576b"
             ],
             [
              0.6666666666666666,
              "#ed7953"
             ],
             [
              0.7777777777777778,
              "#fb9f3a"
             ],
             [
              0.8888888888888888,
              "#fdca26"
             ],
             [
              1,
              "#f0f921"
             ]
            ],
            "type": "contour"
           }
          ],
          "contourcarpet": [
           {
            "colorbar": {
             "outlinewidth": 0,
             "ticks": ""
            },
            "type": "contourcarpet"
           }
          ],
          "heatmap": [
           {
            "colorbar": {
             "outlinewidth": 0,
             "ticks": ""
            },
            "colorscale": [
             [
              0,
              "#0d0887"
             ],
             [
              0.1111111111111111,
              "#46039f"
             ],
             [
              0.2222222222222222,
              "#7201a8"
             ],
             [
              0.3333333333333333,
              "#9c179e"
             ],
             [
              0.4444444444444444,
              "#bd3786"
             ],
             [
              0.5555555555555556,
              "#d8576b"
             ],
             [
              0.6666666666666666,
              "#ed7953"
             ],
             [
              0.7777777777777778,
              "#fb9f3a"
             ],
             [
              0.8888888888888888,
              "#fdca26"
             ],
             [
              1,
              "#f0f921"
             ]
            ],
            "type": "heatmap"
           }
          ],
          "heatmapgl": [
           {
            "colorbar": {
             "outlinewidth": 0,
             "ticks": ""
            },
            "colorscale": [
             [
              0,
              "#0d0887"
             ],
             [
              0.1111111111111111,
              "#46039f"
             ],
             [
              0.2222222222222222,
              "#7201a8"
             ],
             [
              0.3333333333333333,
              "#9c179e"
             ],
             [
              0.4444444444444444,
              "#bd3786"
             ],
             [
              0.5555555555555556,
              "#d8576b"
             ],
             [
              0.6666666666666666,
              "#ed7953"
             ],
             [
              0.7777777777777778,
              "#fb9f3a"
             ],
             [
              0.8888888888888888,
              "#fdca26"
             ],
             [
              1,
              "#f0f921"
             ]
            ],
            "type": "heatmapgl"
           }
          ],
          "histogram": [
           {
            "marker": {
             "pattern": {
              "fillmode": "overlay",
              "size": 10,
              "solidity": 0.2
             }
            },
            "type": "histogram"
           }
          ],
          "histogram2d": [
           {
            "colorbar": {
             "outlinewidth": 0,
             "ticks": ""
            },
            "colorscale": [
             [
              0,
              "#0d0887"
             ],
             [
              0.1111111111111111,
              "#46039f"
             ],
             [
              0.2222222222222222,
              "#7201a8"
             ],
             [
              0.3333333333333333,
              "#9c179e"
             ],
             [
              0.4444444444444444,
              "#bd3786"
             ],
             [
              0.5555555555555556,
              "#d8576b"
             ],
             [
              0.6666666666666666,
              "#ed7953"
             ],
             [
              0.7777777777777778,
              "#fb9f3a"
             ],
             [
              0.8888888888888888,
              "#fdca26"
             ],
             [
              1,
              "#f0f921"
             ]
            ],
            "type": "histogram2d"
           }
          ],
          "histogram2dcontour": [
           {
            "colorbar": {
             "outlinewidth": 0,
             "ticks": ""
            },
            "colorscale": [
             [
              0,
              "#0d0887"
             ],
             [
              0.1111111111111111,
              "#46039f"
             ],
             [
              0.2222222222222222,
              "#7201a8"
             ],
             [
              0.3333333333333333,
              "#9c179e"
             ],
             [
              0.4444444444444444,
              "#bd3786"
             ],
             [
              0.5555555555555556,
              "#d8576b"
             ],
             [
              0.6666666666666666,
              "#ed7953"
             ],
             [
              0.7777777777777778,
              "#fb9f3a"
             ],
             [
              0.8888888888888888,
              "#fdca26"
             ],
             [
              1,
              "#f0f921"
             ]
            ],
            "type": "histogram2dcontour"
           }
          ],
          "mesh3d": [
           {
            "colorbar": {
             "outlinewidth": 0,
             "ticks": ""
            },
            "type": "mesh3d"
           }
          ],
          "parcoords": [
           {
            "line": {
             "colorbar": {
              "outlinewidth": 0,
              "ticks": ""
             }
            },
            "type": "parcoords"
           }
          ],
          "pie": [
           {
            "automargin": true,
            "type": "pie"
           }
          ],
          "scatter": [
           {
            "fillpattern": {
             "fillmode": "overlay",
             "size": 10,
             "solidity": 0.2
            },
            "type": "scatter"
           }
          ],
          "scatter3d": [
           {
            "line": {
             "colorbar": {
              "outlinewidth": 0,
              "ticks": ""
             }
            },
            "marker": {
             "colorbar": {
              "outlinewidth": 0,
              "ticks": ""
             }
            },
            "type": "scatter3d"
           }
          ],
          "scattercarpet": [
           {
            "marker": {
             "colorbar": {
              "outlinewidth": 0,
              "ticks": ""
             }
            },
            "type": "scattercarpet"
           }
          ],
          "scattergeo": [
           {
            "marker": {
             "colorbar": {
              "outlinewidth": 0,
              "ticks": ""
             }
            },
            "type": "scattergeo"
           }
          ],
          "scattergl": [
           {
            "marker": {
             "colorbar": {
              "outlinewidth": 0,
              "ticks": ""
             }
            },
            "type": "scattergl"
           }
          ],
          "scattermapbox": [
           {
            "marker": {
             "colorbar": {
              "outlinewidth": 0,
              "ticks": ""
             }
            },
            "type": "scattermapbox"
           }
          ],
          "scatterpolar": [
           {
            "marker": {
             "colorbar": {
              "outlinewidth": 0,
              "ticks": ""
             }
            },
            "type": "scatterpolar"
           }
          ],
          "scatterpolargl": [
           {
            "marker": {
             "colorbar": {
              "outlinewidth": 0,
              "ticks": ""
             }
            },
            "type": "scatterpolargl"
           }
          ],
          "scatterternary": [
           {
            "marker": {
             "colorbar": {
              "outlinewidth": 0,
              "ticks": ""
             }
            },
            "type": "scatterternary"
           }
          ],
          "surface": [
           {
            "colorbar": {
             "outlinewidth": 0,
             "ticks": ""
            },
            "colorscale": [
             [
              0,
              "#0d0887"
             ],
             [
              0.1111111111111111,
              "#46039f"
             ],
             [
              0.2222222222222222,
              "#7201a8"
             ],
             [
              0.3333333333333333,
              "#9c179e"
             ],
             [
              0.4444444444444444,
              "#bd3786"
             ],
             [
              0.5555555555555556,
              "#d8576b"
             ],
             [
              0.6666666666666666,
              "#ed7953"
             ],
             [
              0.7777777777777778,
              "#fb9f3a"
             ],
             [
              0.8888888888888888,
              "#fdca26"
             ],
             [
              1,
              "#f0f921"
             ]
            ],
            "type": "surface"
           }
          ],
          "table": [
           {
            "cells": {
             "fill": {
              "color": "#EBF0F8"
             },
             "line": {
              "color": "white"
             }
            },
            "header": {
             "fill": {
              "color": "#C8D4E3"
             },
             "line": {
              "color": "white"
             }
            },
            "type": "table"
           }
          ]
         },
         "layout": {
          "annotationdefaults": {
           "arrowcolor": "#2a3f5f",
           "arrowhead": 0,
           "arrowwidth": 1
          },
          "autotypenumbers": "strict",
          "coloraxis": {
           "colorbar": {
            "outlinewidth": 0,
            "ticks": ""
           }
          },
          "colorscale": {
           "diverging": [
            [
             0,
             "#8e0152"
            ],
            [
             0.1,
             "#c51b7d"
            ],
            [
             0.2,
             "#de77ae"
            ],
            [
             0.3,
             "#f1b6da"
            ],
            [
             0.4,
             "#fde0ef"
            ],
            [
             0.5,
             "#f7f7f7"
            ],
            [
             0.6,
             "#e6f5d0"
            ],
            [
             0.7,
             "#b8e186"
            ],
            [
             0.8,
             "#7fbc41"
            ],
            [
             0.9,
             "#4d9221"
            ],
            [
             1,
             "#276419"
            ]
           ],
           "sequential": [
            [
             0,
             "#0d0887"
            ],
            [
             0.1111111111111111,
             "#46039f"
            ],
            [
             0.2222222222222222,
             "#7201a8"
            ],
            [
             0.3333333333333333,
             "#9c179e"
            ],
            [
             0.4444444444444444,
             "#bd3786"
            ],
            [
             0.5555555555555556,
             "#d8576b"
            ],
            [
             0.6666666666666666,
             "#ed7953"
            ],
            [
             0.7777777777777778,
             "#fb9f3a"
            ],
            [
             0.8888888888888888,
             "#fdca26"
            ],
            [
             1,
             "#f0f921"
            ]
           ],
           "sequentialminus": [
            [
             0,
             "#0d0887"
            ],
            [
             0.1111111111111111,
             "#46039f"
            ],
            [
             0.2222222222222222,
             "#7201a8"
            ],
            [
             0.3333333333333333,
             "#9c179e"
            ],
            [
             0.4444444444444444,
             "#bd3786"
            ],
            [
             0.5555555555555556,
             "#d8576b"
            ],
            [
             0.6666666666666666,
             "#ed7953"
            ],
            [
             0.7777777777777778,
             "#fb9f3a"
            ],
            [
             0.8888888888888888,
             "#fdca26"
            ],
            [
             1,
             "#f0f921"
            ]
           ]
          },
          "colorway": [
           "#636efa",
           "#EF553B",
           "#00cc96",
           "#ab63fa",
           "#FFA15A",
           "#19d3f3",
           "#FF6692",
           "#B6E880",
           "#FF97FF",
           "#FECB52"
          ],
          "font": {
           "color": "#2a3f5f"
          },
          "geo": {
           "bgcolor": "white",
           "lakecolor": "white",
           "landcolor": "#E5ECF6",
           "showlakes": true,
           "showland": true,
           "subunitcolor": "white"
          },
          "hoverlabel": {
           "align": "left"
          },
          "hovermode": "closest",
          "mapbox": {
           "style": "light"
          },
          "paper_bgcolor": "white",
          "plot_bgcolor": "#E5ECF6",
          "polar": {
           "angularaxis": {
            "gridcolor": "white",
            "linecolor": "white",
            "ticks": ""
           },
           "bgcolor": "#E5ECF6",
           "radialaxis": {
            "gridcolor": "white",
            "linecolor": "white",
            "ticks": ""
           }
          },
          "scene": {
           "xaxis": {
            "backgroundcolor": "#E5ECF6",
            "gridcolor": "white",
            "gridwidth": 2,
            "linecolor": "white",
            "showbackground": true,
            "ticks": "",
            "zerolinecolor": "white"
           },
           "yaxis": {
            "backgroundcolor": "#E5ECF6",
            "gridcolor": "white",
            "gridwidth": 2,
            "linecolor": "white",
            "showbackground": true,
            "ticks": "",
            "zerolinecolor": "white"
           },
           "zaxis": {
            "backgroundcolor": "#E5ECF6",
            "gridcolor": "white",
            "gridwidth": 2,
            "linecolor": "white",
            "showbackground": true,
            "ticks": "",
            "zerolinecolor": "white"
           }
          },
          "shapedefaults": {
           "line": {
            "color": "#2a3f5f"
           }
          },
          "ternary": {
           "aaxis": {
            "gridcolor": "white",
            "linecolor": "white",
            "ticks": ""
           },
           "baxis": {
            "gridcolor": "white",
            "linecolor": "white",
            "ticks": ""
           },
           "bgcolor": "#E5ECF6",
           "caxis": {
            "gridcolor": "white",
            "linecolor": "white",
            "ticks": ""
           }
          },
          "title": {
           "x": 0.05
          },
          "xaxis": {
           "automargin": true,
           "gridcolor": "white",
           "linecolor": "white",
           "ticks": "",
           "title": {
            "standoff": 15
           },
           "zerolinecolor": "white",
           "zerolinewidth": 2
          },
          "yaxis": {
           "automargin": true,
           "gridcolor": "white",
           "linecolor": "white",
           "ticks": "",
           "title": {
            "standoff": 15
           },
           "zerolinecolor": "white",
           "zerolinewidth": 2
          }
         }
        },
        "title": {
         "text": "Costa Rica"
        },
        "xaxis": {
         "anchor": "y",
         "domain": [
          0,
          1
         ],
         "title": {
          "text": "show_dt"
         }
        },
        "yaxis": {
         "anchor": "x",
         "domain": [
          0,
          1
         ],
         "title": {
          "text": "approve_flag"
         }
        }
       }
      }
     },
     "metadata": {},
     "output_type": "display_data"
    }
   ],
   "source": [
    "for country in df_check_errors['country_name'].unique():\n",
    "    fig = px.line(df_check_errors.query(f\"country_name == '{country}'\").groupby(['show_dt', 'os_name'],as_index=False)[['not_approve_flag', 'approve_flag']].sum(), x=\"show_dt\", y=\"approve_flag\" \\\n",
    "    \"\", color='os_name', title=f'{country}')\n",
    "\n",
    "\n",
    "    fig.add_vrect(\n",
    "        x0=\"2025-05-22 00:00:00+00:00\", \n",
    "        x1=\"2025-05-23 00:00:00+00:00\",\n",
    "        fillcolor=\"lightgreen\", \n",
    "        opacity=0.2, \n",
    "        layer=\"below\", \n",
    "        line_width=0\n",
    "    )\n",
    "\n",
    "\n",
    "    fig.show()"
   ]
  },
  {
   "cell_type": "markdown",
   "id": "35ae18ca",
   "metadata": {},
   "source": [
    "# Design"
   ]
  },
  {
   "cell_type": "markdown",
   "id": "b9a5bb6e",
   "metadata": {},
   "source": [
    "### Test in Chile"
   ]
  },
  {
   "cell_type": "code",
   "execution_count": 22,
   "id": "098fe6ff",
   "metadata": {},
   "outputs": [
    {
     "name": "stdout",
     "output_type": "stream",
     "text": [
      "1\n",
      "2\n"
     ]
    }
   ],
   "source": [
    "df_sample_size = read_bq(\"\"\"\n",
    "SELECT name,\n",
    "       event_dt_part,\n",
    "       DATE_TRUNC(event_dt_part, WEEK)  AS weekly,\n",
    "       DATE_TRUNC(event_dt_part, MONTH) AS monthly,\n",
    "       t1.city_id,\n",
    "       t2.city_name,\n",
    "       t2.country_id,\n",
    "       t2.country_name,\n",
    "       COUNT(DISTINCT user_id)          AS users\n",
    "FROM indriver-e6e40.ods_event_tracker.event t1\n",
    "         JOIN indriver-e6e40.heap.vw_macroregion_mapping t2\n",
    "              ON\n",
    "                  t1.city_id = t2.city_id\n",
    "WHERE 1 = 1\n",
    "  AND name IN (\n",
    "    'client.verification_start.click'\n",
    "    )\n",
    "  AND event_dt_part >= '2025-04-01'\n",
    "  AND t1.city_id IN\n",
    "      (4200, 4267, 5596)\n",
    "GROUP BY 1, 2, 3, 4, 5, 6, 7, 8\n",
    "\"\"\")\n",
    "print(\"1\")\n",
    "df_cr_to_ride = read_bq(\"\"\"\n",
    "WITH newbies AS (SELECT user_id,\n",
    "                        metric_date\n",
    "                 FROM indriver-bi.incity.tbl_incity_growth_metrics_detail\n",
    "                 WHERE user_type = 'pass'\n",
    "                   AND rides_count > 0\n",
    "                   AND metric_date >= DATE_ADD(CURRENT_DATE(), INTERVAL -1 YEAR)\n",
    "                   AND country_id = 25),\n",
    "     gmv AS (SELECT user_id,\n",
    "                    SUM(gmv_clean_usd) AS gmv,\n",
    "                    SUM(rides_count)   AS rides,\n",
    "                    SUM(orders_count)  AS orders\n",
    "             FROM indriver-bi.incity.tbl_incity_growth_metrics_detail\n",
    "             WHERE user_type = 'pass'\n",
    "               AND metric_date BETWEEN '2025-04-01' AND DATE_ADD(CURRENT_DATE(), INTERVAL -1 DAY)\n",
    "               AND country_id = 25\n",
    "             GROUP BY 1),\n",
    "     total AS (SELECT t1.user_id,\n",
    "                      t1.city_id,\n",
    "                      geo.city_name,\n",
    "                      geo.country_id,\n",
    "                      geo.country_name,\n",
    "                      IF(group_id = 4540557, 0, 1) AS group_id,\n",
    "                      created_dt_part,\n",
    "                      t2.metric_date,\n",
    "                      CASE\n",
    "                          WHEN t2.metric_date IS NULL THEN 1\n",
    "                          ELSE 0\n",
    "                          END                         newbie_flag\n",
    "               FROM indriver-e6e40.ss_ab_platform_mart.markup_users t1\n",
    "                        JOIN indriver-e6e40.heap.vw_macroregion_mapping geo\n",
    "                             ON\n",
    "                                 t1.city_id = geo.city_id\n",
    "                        LEFT JOIN newbies t2 ON t1.user_id = t2.user_id AND t2.metric_date < t1.created_dt_part\n",
    "               WHERE test_id = 3139\n",
    "               QUALIFY ROW_NUMBER() OVER (PARTITION BY t1.user_id ORDER BY metric_date DESC) = 1),\n",
    "     liveness AS (SELECT user_id,\n",
    "                         os_name,\n",
    "                         city_id,\n",
    "                         city_name,\n",
    "                         country_id,\n",
    "                         country_name,\n",
    "                         COALESCE(filled_flow, 'liveness')                                  AS filled_flow,\n",
    "                         COALESCE(MAX(IF(name = 'client.verification_start.show', client_time, NULL)),\n",
    "                                  MAX(IF((name = 'client.verification_flow_result_status.show' AND\n",
    "                                          LOWER(status) = 'approve'), client_time, NULL)),\n",
    "                                  MAX(IF((name = 'client.verification_flow_result_status.show' AND\n",
    "                                          LOWER(status) != 'approve'), client_time, NULL))) AS show_dt,\n",
    "                         COALESCE(MAX(IF(name = 'client.verification_start.click', client_time, NULL)),\n",
    "                                  MAX(IF((name = 'client.verification_flow_result_status.show' AND\n",
    "                                          LOWER(status) = 'approve'), client_time, NULL)),\n",
    "                                  MAX(IF((name = 'client.verification_flow_result_status.show' AND\n",
    "                                          LOWER(status) != 'approve'), client_time, NULL))) AS click_dt,\n",
    "                         MAX(IF((name = 'client.verification_flow_result_status.show' AND\n",
    "                                 LOWER(status) = 'approve'), client_time, NULL))            AS approve_dt,\n",
    "                         MAX(IF((name = 'client.verification_flow_result_status.show' AND\n",
    "                                 LOWER(status) != 'approve'), client_time, NULL))           AS not_approve_dt\n",
    "                  FROM (SELECT t1.user_id,\n",
    "                               t1.name,\n",
    "                               t1.os_name,\n",
    "                               DATE(TIMESTAMP_MILLIS(t1.client_time))                  AS event_dt_part,\n",
    "                               TIMESTAMP_MILLIS(t1.client_time)                        AS client_time,\n",
    "                               t1.city_id,\n",
    "                               t2.city_name,\n",
    "                               t2.country_id,\n",
    "                               t2.country_name,\n",
    "                               JSON_EXTRACT_SCALAR(payload, '$.verification_flow')     AS verification_flow,\n",
    "                               IF(JSON_EXTRACT_SCALAR(payload, '$.verification_flow') IS NULL,\n",
    "                                  LAG(JSON_EXTRACT_SCALAR(payload, '$.verification_flow'))\n",
    "                                      OVER (PARTITION BY t1.user_id ORDER BY client_time),\n",
    "                                  JSON_EXTRACT_SCALAR(payload, '$.verification_flow')) AS filled_flow,\n",
    "                               JSON_EXTRACT_SCALAR(payload, '$.status')                AS status\n",
    "                        FROM (SELECT *\n",
    "                              FROM indriver-e6e40.emart.product_event t1\n",
    "                              WHERE 1 = 1\n",
    "                                AND name IN (\n",
    "                                             'client.verification_start.show',\n",
    "                                             'client.verification_start.click',\n",
    "                                             'client.verification_flow_result_status.show'\n",
    "                                  )\n",
    "                                AND event_dt_part BETWEEN '2025-04-01' AND DATE_ADD(CURRENT_DATE(), INTERVAL -1 DAY)\n",
    "                                AND city_id IN (4200, 4267, 5596)\n",
    "                              QUALIFY\n",
    "                                  ROW_NUMBER() OVER (PARTITION BY user_id, name, os_name, event_dt_part, JSON_EXTRACT_SCALAR(payload, '$.verification_flow') ORDER BY client_time DESC) =\n",
    "                                  1) t1\n",
    "                                 JOIN indriver-e6e40.heap.vw_macroregion_mapping t2\n",
    "                                      ON\n",
    "                                          t1.city_id = t2.city_id\n",
    "                        WHERE 1 = 1\n",
    "                          AND name IN (\n",
    "                                       'client.verification_start.show', 'client.verification_start.click',\n",
    "                                       'client.verification_flow_result_status.show'\n",
    "                            ))\n",
    "                  GROUP BY 1, 2, 3, 4, 5, 6, 7),\n",
    "     total_liv AS (SELECT t1.user_id,\n",
    "                          CASE\n",
    "                              WHEN t2.metric_date IS NULL THEN 1\n",
    "                              ELSE 0\n",
    "                              END newbie_flag,\n",
    "                          t1.os_name,\n",
    "                          t1.city_id,\n",
    "                          t1.city_name,\n",
    "                          t1.country_id,\n",
    "                          t1.country_name,\n",
    "                          t1.filled_flow,\n",
    "                          t1.show_dt,\n",
    "                          t1.click_dt,\n",
    "                          t1.approve_dt,\n",
    "                          t1.not_approve_dt\n",
    "                   FROM liveness t1\n",
    "                            LEFT JOIN newbies t2 ON t1.user_id = t2.user_id AND t2.metric_date < DATE(t1.show_dt)\n",
    "                   QUALIFY ROW_NUMBER() OVER (PARTITION BY t1.user_id ORDER BY t2.metric_date DESC) = 1),\n",
    "     rides AS (SELECT order_uuid,\n",
    "                      user_id    AS pass_id,\n",
    "                      driver_id,\n",
    "                      city_id    AS order_city_id,\n",
    "                      country_id AS order_country_id,\n",
    "                      status_order,\n",
    "                      order_timestamp,\n",
    "                      at_pickup_dttm,\n",
    "                      departed_pickup_dttm,\n",
    "                      at_destination_dttm,\n",
    "                      departed_destination_dttm,\n",
    "                      driveraccept_timestamp,\n",
    "                      driverarrived_timestamp,\n",
    "                      driverstarttheride_timestamp,\n",
    "                      driverdone_timestamp,\n",
    "                      clientdone_timestamp,\n",
    "                      clientcancel_timestamp,\n",
    "                      drivercancel_timestamp,\n",
    "                      user_reg_date,\n",
    "                      driver_reg_date,\n",
    "                      stage,\n",
    "                      created_date_order_part,\n",
    "                      duration_in_seconds\n",
    "               FROM indriver-e6e40.imart.incity_detail_new_order\n",
    "               WHERE created_date_order_part BETWEEN '2025-04-01'\n",
    "                   AND DATE_ADD(CURRENT_DATE(), INTERVAL -1 DAY)\n",
    "                 AND status_order = 'RIDE_STATUS_DONE'\n",
    "                 AND driveraccept_timestamp IS NOT NULL\n",
    "                 AND (clientcancel_timestamp IS NULL\n",
    "                   AND drivercancel_timestamp IS NULL))\n",
    "SELECT t1.user_id,\n",
    "       t1.os_name,\n",
    "       t1.city_id,\n",
    "       t1.city_name,\n",
    "       t1.country_id,\n",
    "       t1.country_name,\n",
    "       t1.newbie_flag,\n",
    "       filled_flow,\n",
    "       show_dt,\n",
    "       click_dt,\n",
    "       COALESCE(approve_dt, t2.order_timestamp)                    AS approve_dt,\n",
    "       IF(approve_dt IS NOT NULL, 1, 0)                            AS approve_flag,\n",
    "       not_approve_dt,\n",
    "       IF(not_approve_dt IS NOT NULL AND approve_dt IS NULL, 1, 0) AS not_approve_flag,\n",
    "       t2.order_timestamp,\n",
    "       IF(t2.order_timestamp IS NOT NULL, 1, 0)                    AS order_flag,\n",
    "       t3.gmv,\n",
    "       t3.rides,\n",
    "       t3.orders\n",
    "FROM total_liv t1\n",
    "         LEFT JOIN rides t2\n",
    "                   ON t1.user_id = t2.pass_id AND\n",
    "                      t2.created_date_order_part BETWEEN DATE(show_dt) AND DATE_ADD(DATE(show_dt), INTERVAL +3 DAY)\n",
    "         LEFT JOIN gmv t3 ON t1.user_id = t3.user_id\n",
    "QUALIFY ROW_NUMBER() OVER (PARTITION BY t1.user_id ORDER BY t2.order_timestamp) = 1\n",
    "\"\"\")\n",
    "print(\"2\")\n",
    "df_cr_to_order = read_bq(\"\"\"\n",
    "WITH newbies AS (SELECT user_id,\n",
    "                        metric_date\n",
    "                 FROM indriver-bi.incity.tbl_incity_growth_metrics_detail\n",
    "                 WHERE user_type = 'pass'\n",
    "                   AND rides_count > 0\n",
    "                   AND metric_date >= DATE_ADD(CURRENT_DATE(), INTERVAL -1 YEAR)\n",
    "                   AND country_id = 25),\n",
    "     gmv AS (SELECT user_id,\n",
    "                    SUM(gmv_clean_usd) AS gmv,\n",
    "                    SUM(rides_count)   AS rides,\n",
    "                    SUM(orders_count)  AS orders\n",
    "             FROM indriver-bi.incity.tbl_incity_growth_metrics_detail\n",
    "             WHERE user_type = 'pass'\n",
    "               AND metric_date BETWEEN '2025-04-01' AND DATE_ADD(CURRENT_DATE(), INTERVAL -1 DAY)\n",
    "               AND country_id = 25\n",
    "             GROUP BY 1),\n",
    "     total AS (SELECT t1.user_id,\n",
    "                      t1.city_id,\n",
    "                      geo.city_name,\n",
    "                      geo.country_id,\n",
    "                      geo.country_name,\n",
    "                      IF(group_id = 4540557, 0, 1) AS group_id,\n",
    "                      created_dt_part,\n",
    "                      t2.metric_date,\n",
    "                      CASE\n",
    "                          WHEN t2.metric_date IS NULL THEN 1\n",
    "                          ELSE 0\n",
    "                          END                         newbie_flag\n",
    "               FROM indriver-e6e40.ss_ab_platform_mart.markup_users t1\n",
    "                        JOIN indriver-e6e40.heap.vw_macroregion_mapping geo\n",
    "                             ON\n",
    "                                 t1.city_id = geo.city_id\n",
    "                        LEFT JOIN newbies t2 ON t1.user_id = t2.user_id AND t2.metric_date < t1.created_dt_part\n",
    "               WHERE test_id = 3139\n",
    "               QUALIFY ROW_NUMBER() OVER (PARTITION BY t1.user_id ORDER BY metric_date DESC) = 1),\n",
    "     liveness AS (SELECT user_id,\n",
    "                         os_name,\n",
    "                         city_id,\n",
    "                         city_name,\n",
    "                         country_id,\n",
    "                         country_name,\n",
    "                         COALESCE(filled_flow, 'liveness')                                  AS filled_flow,\n",
    "                         COALESCE(MAX(IF(name = 'client.verification_start.show', client_time, NULL)),\n",
    "                                  MAX(IF((name = 'client.verification_flow_result_status.show' AND\n",
    "                                          LOWER(status) = 'approve'), client_time, NULL)),\n",
    "                                  MAX(IF((name = 'client.verification_flow_result_status.show' AND\n",
    "                                          LOWER(status) != 'approve'), client_time, NULL))) AS show_dt,\n",
    "                         COALESCE(MAX(IF(name = 'client.verification_start.click', client_time, NULL)),\n",
    "                                  MAX(IF((name = 'client.verification_flow_result_status.show' AND\n",
    "                                          LOWER(status) = 'approve'), client_time, NULL)),\n",
    "                                  MAX(IF((name = 'client.verification_flow_result_status.show' AND\n",
    "                                          LOWER(status) != 'approve'), client_time, NULL))) AS click_dt,\n",
    "                         MAX(IF((name = 'client.verification_flow_result_status.show' AND\n",
    "                                 LOWER(status) = 'approve'), client_time, NULL))            AS approve_dt,\n",
    "                         MAX(IF((name = 'client.verification_flow_result_status.show' AND\n",
    "                                 LOWER(status) != 'approve'), client_time, NULL))           AS not_approve_dt\n",
    "                  FROM (SELECT t1.user_id,\n",
    "                               t1.name,\n",
    "                               t1.os_name,\n",
    "                               DATE(TIMESTAMP_MILLIS(t1.client_time))                  AS event_dt_part,\n",
    "                               TIMESTAMP_MILLIS(t1.client_time)                        AS client_time,\n",
    "                               t1.city_id,\n",
    "                               t2.city_name,\n",
    "                               t2.country_id,\n",
    "                               t2.country_name,\n",
    "                               JSON_EXTRACT_SCALAR(payload, '$.verification_flow')     AS verification_flow,\n",
    "                               IF(JSON_EXTRACT_SCALAR(payload, '$.verification_flow') IS NULL,\n",
    "                                  LAG(JSON_EXTRACT_SCALAR(payload, '$.verification_flow'))\n",
    "                                      OVER (PARTITION BY t1.user_id ORDER BY client_time),\n",
    "                                  JSON_EXTRACT_SCALAR(payload, '$.verification_flow')) AS filled_flow,\n",
    "                               JSON_EXTRACT_SCALAR(payload, '$.status')                AS status\n",
    "                        FROM (SELECT *\n",
    "                              FROM indriver-e6e40.emart.product_event t1\n",
    "                              WHERE 1 = 1\n",
    "                                AND name IN (\n",
    "                                             'client.verification_start.show',\n",
    "                                             'client.verification_start.click',\n",
    "                                             'client.verification_flow_result_status.show'\n",
    "                                  )\n",
    "                                AND event_dt_part BETWEEN '2025-04-01' AND DATE_ADD(CURRENT_DATE(), INTERVAL -1 DAY)\n",
    "                                AND city_id IN (4200, 4267, 5596)\n",
    "                              QUALIFY\n",
    "                                  ROW_NUMBER() OVER (PARTITION BY user_id, name, os_name, event_dt_part, JSON_EXTRACT_SCALAR(payload, '$.verification_flow') ORDER BY client_time DESC) =\n",
    "                                  1) t1\n",
    "                                 JOIN indriver-e6e40.heap.vw_macroregion_mapping t2\n",
    "                                      ON\n",
    "                                          t1.city_id = t2.city_id\n",
    "                        WHERE 1 = 1\n",
    "                          AND name IN (\n",
    "                                       'client.verification_start.show', 'client.verification_start.click',\n",
    "                                       'client.verification_flow_result_status.show'\n",
    "                            ))\n",
    "                  GROUP BY 1, 2, 3, 4, 5, 6, 7),\n",
    "     total_liv AS (SELECT t1.user_id,\n",
    "                          CASE\n",
    "                              WHEN t2.metric_date IS NULL THEN 1\n",
    "                              ELSE 0\n",
    "                              END newbie_flag,\n",
    "                          t1.os_name,\n",
    "                          t1.city_id,\n",
    "                          t1.city_name,\n",
    "                          t1.country_id,\n",
    "                          t1.country_name,\n",
    "                          t1.filled_flow,\n",
    "                          t1.show_dt,\n",
    "                          t1.click_dt,\n",
    "                          t1.approve_dt,\n",
    "                          t1.not_approve_dt\n",
    "                   FROM liveness t1\n",
    "                            LEFT JOIN newbies t2 ON t1.user_id = t2.user_id AND t2.metric_date < DATE(t1.show_dt)\n",
    "                   QUALIFY ROW_NUMBER() OVER (PARTITION BY t1.user_id ORDER BY t2.metric_date DESC) = 1),\n",
    "     rides AS (SELECT order_uuid,\n",
    "                      user_id    AS pass_id,\n",
    "                      driver_id,\n",
    "                      city_id    AS order_city_id,\n",
    "                      country_id AS order_country_id,\n",
    "                      status_order,\n",
    "                      order_timestamp,\n",
    "                      at_pickup_dttm,\n",
    "                      departed_pickup_dttm,\n",
    "                      at_destination_dttm,\n",
    "                      departed_destination_dttm,\n",
    "                      driveraccept_timestamp,\n",
    "                      driverarrived_timestamp,\n",
    "                      driverstarttheride_timestamp,\n",
    "                      driverdone_timestamp,\n",
    "                      clientdone_timestamp,\n",
    "                      clientcancel_timestamp,\n",
    "                      drivercancel_timestamp,\n",
    "                      user_reg_date,\n",
    "                      driver_reg_date,\n",
    "                      stage,\n",
    "                      created_date_order_part,\n",
    "                      duration_in_seconds\n",
    "               FROM indriver-e6e40.imart.incity_detail_new_order\n",
    "               WHERE created_date_order_part BETWEEN '2025-04-01'\n",
    "                         AND DATE_ADD(CURRENT_DATE(), INTERVAL -1 DAY))\n",
    "SELECT t1.user_id,\n",
    "       t1.os_name,\n",
    "       t1.city_id,\n",
    "       t1.city_name,\n",
    "       t1.country_id,\n",
    "       t1.country_name,\n",
    "       t1.newbie_flag,\n",
    "       filled_flow,\n",
    "       show_dt,\n",
    "       click_dt,\n",
    "       COALESCE(approve_dt, t2.order_timestamp)                    AS approve_dt,\n",
    "       IF(approve_dt IS NOT NULL, 1, 0)                            AS approve_flag,\n",
    "       not_approve_dt,\n",
    "       IF(not_approve_dt IS NOT NULL AND approve_dt IS NULL, 1, 0) AS not_approve_flag,\n",
    "       t2.order_timestamp,\n",
    "       IF(t2.order_timestamp IS NOT NULL, 1, 0)                    AS order_flag,\n",
    "       t3.gmv,\n",
    "       t3.rides,\n",
    "       t3.orders\n",
    "FROM total_liv t1\n",
    "         LEFT JOIN rides t2\n",
    "                   ON t1.user_id = t2.pass_id AND\n",
    "                      t2.created_date_order_part BETWEEN DATE(show_dt) AND DATE_ADD(DATE(show_dt), INTERVAL +3 DAY)\n",
    "         LEFT JOIN gmv t3 ON t1.user_id = t3.user_id\n",
    "QUALIFY ROW_NUMBER() OVER (PARTITION BY t1.user_id ORDER BY t2.order_timestamp) = 1\n",
    "\"\"\")"
   ]
  },
  {
   "cell_type": "code",
   "execution_count": 150,
   "id": "b80c1164",
   "metadata": {},
   "outputs": [
    {
     "data": {
      "text/html": [
       "<div>\n",
       "<style scoped>\n",
       "    .dataframe tbody tr th:only-of-type {\n",
       "        vertical-align: middle;\n",
       "    }\n",
       "\n",
       "    .dataframe tbody tr th {\n",
       "        vertical-align: top;\n",
       "    }\n",
       "\n",
       "    .dataframe thead th {\n",
       "        text-align: right;\n",
       "    }\n",
       "</style>\n",
       "<table border=\"1\" class=\"dataframe\">\n",
       "  <thead>\n",
       "    <tr style=\"text-align: right;\">\n",
       "      <th></th>\n",
       "      <th>user_id</th>\n",
       "      <th>os_name</th>\n",
       "      <th>city_id</th>\n",
       "      <th>city_name</th>\n",
       "      <th>country_id</th>\n",
       "      <th>country_name</th>\n",
       "      <th>newbie_flag</th>\n",
       "      <th>filled_flow</th>\n",
       "      <th>show_dt</th>\n",
       "      <th>click_dt</th>\n",
       "      <th>approve_dt</th>\n",
       "      <th>approve_flag</th>\n",
       "      <th>not_approve_dt</th>\n",
       "      <th>not_approve_flag</th>\n",
       "      <th>order_timestamp</th>\n",
       "      <th>order_flag</th>\n",
       "      <th>gmv</th>\n",
       "      <th>rides</th>\n",
       "      <th>orders</th>\n",
       "    </tr>\n",
       "  </thead>\n",
       "  <tbody>\n",
       "    <tr>\n",
       "      <th>0</th>\n",
       "      <td>37671880</td>\n",
       "      <td>android</td>\n",
       "      <td>4267</td>\n",
       "      <td>Arica</td>\n",
       "      <td>25</td>\n",
       "      <td>Chile</td>\n",
       "      <td>0</td>\n",
       "      <td>liveness</td>\n",
       "      <td>2025-05-09 21:20:02.023000+00:00</td>\n",
       "      <td>2025-05-09 21:20:06.131000+00:00</td>\n",
       "      <td>2025-05-09 21:20:25.473000+00:00</td>\n",
       "      <td>1</td>\n",
       "      <td>NaT</td>\n",
       "      <td>0</td>\n",
       "      <td>2025-05-11 13:08:43+00:00</td>\n",
       "      <td>1</td>\n",
       "      <td>87.434</td>\n",
       "      <td>21</td>\n",
       "      <td>30</td>\n",
       "    </tr>\n",
       "    <tr>\n",
       "      <th>1</th>\n",
       "      <td>39239093</td>\n",
       "      <td>ios</td>\n",
       "      <td>4267</td>\n",
       "      <td>Arica</td>\n",
       "      <td>25</td>\n",
       "      <td>Chile</td>\n",
       "      <td>0</td>\n",
       "      <td>liveness</td>\n",
       "      <td>2025-05-04 17:08:51.224000+00:00</td>\n",
       "      <td>2025-05-04 17:08:52.254000+00:00</td>\n",
       "      <td>2025-05-04 17:09:18.705000+00:00</td>\n",
       "      <td>1</td>\n",
       "      <td>NaT</td>\n",
       "      <td>0</td>\n",
       "      <td>2025-05-04 17:10:54+00:00</td>\n",
       "      <td>1</td>\n",
       "      <td>47.620</td>\n",
       "      <td>19</td>\n",
       "      <td>24</td>\n",
       "    </tr>\n",
       "    <tr>\n",
       "      <th>2</th>\n",
       "      <td>53567363</td>\n",
       "      <td>ios</td>\n",
       "      <td>4267</td>\n",
       "      <td>Arica</td>\n",
       "      <td>25</td>\n",
       "      <td>Chile</td>\n",
       "      <td>0</td>\n",
       "      <td>liveness</td>\n",
       "      <td>2025-05-12 11:01:27.197000+00:00</td>\n",
       "      <td>2025-05-12 11:01:36.250000+00:00</td>\n",
       "      <td>2025-05-12 11:02:09.563000+00:00</td>\n",
       "      <td>1</td>\n",
       "      <td>NaT</td>\n",
       "      <td>0</td>\n",
       "      <td>2025-05-12 11:02:11+00:00</td>\n",
       "      <td>1</td>\n",
       "      <td>246.639</td>\n",
       "      <td>91</td>\n",
       "      <td>117</td>\n",
       "    </tr>\n",
       "    <tr>\n",
       "      <th>3</th>\n",
       "      <td>54773647</td>\n",
       "      <td>android</td>\n",
       "      <td>4267</td>\n",
       "      <td>Arica</td>\n",
       "      <td>25</td>\n",
       "      <td>Chile</td>\n",
       "      <td>0</td>\n",
       "      <td>liveness</td>\n",
       "      <td>2025-05-07 04:19:01.625000+00:00</td>\n",
       "      <td>2025-05-07 04:19:03.712000+00:00</td>\n",
       "      <td>2025-05-07 04:19:42.967000+00:00</td>\n",
       "      <td>1</td>\n",
       "      <td>NaT</td>\n",
       "      <td>0</td>\n",
       "      <td>2025-05-07 00:19:52+00:00</td>\n",
       "      <td>1</td>\n",
       "      <td>200.937</td>\n",
       "      <td>85</td>\n",
       "      <td>111</td>\n",
       "    </tr>\n",
       "    <tr>\n",
       "      <th>4</th>\n",
       "      <td>56532284</td>\n",
       "      <td>ios</td>\n",
       "      <td>4200</td>\n",
       "      <td>Santiago</td>\n",
       "      <td>25</td>\n",
       "      <td>Chile</td>\n",
       "      <td>0</td>\n",
       "      <td>liveness</td>\n",
       "      <td>2025-04-04 21:45:27.470000+00:00</td>\n",
       "      <td>2025-04-04 21:45:29.730000+00:00</td>\n",
       "      <td>2025-04-04 21:45:57.820000+00:00</td>\n",
       "      <td>1</td>\n",
       "      <td>NaT</td>\n",
       "      <td>0</td>\n",
       "      <td>2025-04-04 03:27:59+00:00</td>\n",
       "      <td>1</td>\n",
       "      <td>331.312</td>\n",
       "      <td>41</td>\n",
       "      <td>50</td>\n",
       "    </tr>\n",
       "    <tr>\n",
       "      <th>...</th>\n",
       "      <td>...</td>\n",
       "      <td>...</td>\n",
       "      <td>...</td>\n",
       "      <td>...</td>\n",
       "      <td>...</td>\n",
       "      <td>...</td>\n",
       "      <td>...</td>\n",
       "      <td>...</td>\n",
       "      <td>...</td>\n",
       "      <td>...</td>\n",
       "      <td>...</td>\n",
       "      <td>...</td>\n",
       "      <td>...</td>\n",
       "      <td>...</td>\n",
       "      <td>...</td>\n",
       "      <td>...</td>\n",
       "      <td>...</td>\n",
       "      <td>...</td>\n",
       "      <td>...</td>\n",
       "    </tr>\n",
       "    <tr>\n",
       "      <th>121989</th>\n",
       "      <td>245562930</td>\n",
       "      <td>ios</td>\n",
       "      <td>4200</td>\n",
       "      <td>Santiago</td>\n",
       "      <td>25</td>\n",
       "      <td>Chile</td>\n",
       "      <td>0</td>\n",
       "      <td>liveness</td>\n",
       "      <td>2025-04-07 02:40:43.658000+00:00</td>\n",
       "      <td>2025-04-07 02:40:48.350000+00:00</td>\n",
       "      <td>2025-04-07 02:41:19.096000+00:00</td>\n",
       "      <td>1</td>\n",
       "      <td>NaT</td>\n",
       "      <td>0</td>\n",
       "      <td>2025-04-07 02:41:30+00:00</td>\n",
       "      <td>1</td>\n",
       "      <td>59.084</td>\n",
       "      <td>12</td>\n",
       "      <td>22</td>\n",
       "    </tr>\n",
       "    <tr>\n",
       "      <th>121990</th>\n",
       "      <td>255160355</td>\n",
       "      <td>android</td>\n",
       "      <td>4267</td>\n",
       "      <td>Arica</td>\n",
       "      <td>25</td>\n",
       "      <td>Chile</td>\n",
       "      <td>0</td>\n",
       "      <td>liveness</td>\n",
       "      <td>2025-04-14 00:57:19.184000+00:00</td>\n",
       "      <td>2025-04-14 00:57:20.428000+00:00</td>\n",
       "      <td>NaT</td>\n",
       "      <td>0</td>\n",
       "      <td>NaT</td>\n",
       "      <td>0</td>\n",
       "      <td>NaT</td>\n",
       "      <td>0</td>\n",
       "      <td>31.550</td>\n",
       "      <td>12</td>\n",
       "      <td>13</td>\n",
       "    </tr>\n",
       "    <tr>\n",
       "      <th>121991</th>\n",
       "      <td>279512263</td>\n",
       "      <td>android</td>\n",
       "      <td>4267</td>\n",
       "      <td>Arica</td>\n",
       "      <td>25</td>\n",
       "      <td>Chile</td>\n",
       "      <td>0</td>\n",
       "      <td>liveness</td>\n",
       "      <td>2025-04-12 18:59:25.095000+00:00</td>\n",
       "      <td>2025-04-12 18:59:26.735000+00:00</td>\n",
       "      <td>2025-04-27 02:06:05.258000+00:00</td>\n",
       "      <td>1</td>\n",
       "      <td>NaT</td>\n",
       "      <td>0</td>\n",
       "      <td>2025-04-12 19:00:10+00:00</td>\n",
       "      <td>1</td>\n",
       "      <td>33.027</td>\n",
       "      <td>12</td>\n",
       "      <td>20</td>\n",
       "    </tr>\n",
       "    <tr>\n",
       "      <th>121992</th>\n",
       "      <td>134244507</td>\n",
       "      <td>android</td>\n",
       "      <td>4267</td>\n",
       "      <td>Arica</td>\n",
       "      <td>25</td>\n",
       "      <td>Chile</td>\n",
       "      <td>0</td>\n",
       "      <td>liveness</td>\n",
       "      <td>2025-04-05 02:52:40.766000+00:00</td>\n",
       "      <td>2025-04-05 02:52:43.936000+00:00</td>\n",
       "      <td>2025-04-05 03:07:19.273000+00:00</td>\n",
       "      <td>1</td>\n",
       "      <td>NaT</td>\n",
       "      <td>0</td>\n",
       "      <td>2025-04-05 02:53:47+00:00</td>\n",
       "      <td>1</td>\n",
       "      <td>32.755</td>\n",
       "      <td>12</td>\n",
       "      <td>16</td>\n",
       "    </tr>\n",
       "    <tr>\n",
       "      <th>121993</th>\n",
       "      <td>292224251</td>\n",
       "      <td>android</td>\n",
       "      <td>4200</td>\n",
       "      <td>Santiago</td>\n",
       "      <td>25</td>\n",
       "      <td>Chile</td>\n",
       "      <td>1</td>\n",
       "      <td>liveness</td>\n",
       "      <td>2025-04-25 12:13:48.565000+00:00</td>\n",
       "      <td>2025-04-25 12:13:50.486000+00:00</td>\n",
       "      <td>2025-04-25 12:14:32.014000+00:00</td>\n",
       "      <td>1</td>\n",
       "      <td>NaT</td>\n",
       "      <td>0</td>\n",
       "      <td>2025-04-25 12:14:38+00:00</td>\n",
       "      <td>1</td>\n",
       "      <td>58.088</td>\n",
       "      <td>12</td>\n",
       "      <td>15</td>\n",
       "    </tr>\n",
       "  </tbody>\n",
       "</table>\n",
       "<p>121994 rows × 19 columns</p>\n",
       "</div>"
      ],
      "text/plain": [
       "          user_id  os_name  city_id city_name  country_id country_name  newbie_flag filled_flow                          show_dt                         click_dt                       approve_dt  approve_flag not_approve_dt  not_approve_flag           order_timestamp  order_flag     gmv  rides  orders\n",
       "0        37671880  android     4267     Arica          25        Chile            0    liveness 2025-05-09 21:20:02.023000+00:00 2025-05-09 21:20:06.131000+00:00 2025-05-09 21:20:25.473000+00:00             1            NaT                 0 2025-05-11 13:08:43+00:00           1  87.434     21      30\n",
       "1        39239093      ios     4267     Arica          25        Chile            0    liveness 2025-05-04 17:08:51.224000+00:00 2025-05-04 17:08:52.254000+00:00 2025-05-04 17:09:18.705000+00:00             1            NaT                 0 2025-05-04 17:10:54+00:00           1  47.620     19      24\n",
       "2        53567363      ios     4267     Arica          25        Chile            0    liveness 2025-05-12 11:01:27.197000+00:00 2025-05-12 11:01:36.250000+00:00 2025-05-12 11:02:09.563000+00:00             1            NaT                 0 2025-05-12 11:02:11+00:00           1 246.639     91     117\n",
       "3        54773647  android     4267     Arica          25        Chile            0    liveness 2025-05-07 04:19:01.625000+00:00 2025-05-07 04:19:03.712000+00:00 2025-05-07 04:19:42.967000+00:00             1            NaT                 0 2025-05-07 00:19:52+00:00           1 200.937     85     111\n",
       "4        56532284      ios     4200  Santiago          25        Chile            0    liveness 2025-04-04 21:45:27.470000+00:00 2025-04-04 21:45:29.730000+00:00 2025-04-04 21:45:57.820000+00:00             1            NaT                 0 2025-04-04 03:27:59+00:00           1 331.312     41      50\n",
       "...           ...      ...      ...       ...         ...          ...          ...         ...                              ...                              ...                              ...           ...            ...               ...                       ...         ...     ...    ...     ...\n",
       "121989  245562930      ios     4200  Santiago          25        Chile            0    liveness 2025-04-07 02:40:43.658000+00:00 2025-04-07 02:40:48.350000+00:00 2025-04-07 02:41:19.096000+00:00             1            NaT                 0 2025-04-07 02:41:30+00:00           1  59.084     12      22\n",
       "121990  255160355  android     4267     Arica          25        Chile            0    liveness 2025-04-14 00:57:19.184000+00:00 2025-04-14 00:57:20.428000+00:00                              NaT             0            NaT                 0                       NaT           0  31.550     12      13\n",
       "121991  279512263  android     4267     Arica          25        Chile            0    liveness 2025-04-12 18:59:25.095000+00:00 2025-04-12 18:59:26.735000+00:00 2025-04-27 02:06:05.258000+00:00             1            NaT                 0 2025-04-12 19:00:10+00:00           1  33.027     12      20\n",
       "121992  134244507  android     4267     Arica          25        Chile            0    liveness 2025-04-05 02:52:40.766000+00:00 2025-04-05 02:52:43.936000+00:00 2025-04-05 03:07:19.273000+00:00             1            NaT                 0 2025-04-05 02:53:47+00:00           1  32.755     12      16\n",
       "121993  292224251  android     4200  Santiago          25        Chile            1    liveness 2025-04-25 12:13:48.565000+00:00 2025-04-25 12:13:50.486000+00:00 2025-04-25 12:14:32.014000+00:00             1            NaT                 0 2025-04-25 12:14:38+00:00           1  58.088     12      15\n",
       "\n",
       "[121994 rows x 19 columns]"
      ]
     },
     "execution_count": 150,
     "metadata": {},
     "output_type": "execute_result"
    }
   ],
   "source": [
    "df_cr_to_ride"
   ]
  },
  {
   "cell_type": "code",
   "execution_count": 151,
   "id": "5dd2e1e9",
   "metadata": {},
   "outputs": [
    {
     "data": {
      "text/plain": [
       "approve_flag       0.751\n",
       "not_approve_flag   0.061\n",
       "order_flag         0.388\n",
       "dtype: Float64"
      ]
     },
     "execution_count": 151,
     "metadata": {},
     "output_type": "execute_result"
    }
   ],
   "source": [
    "df_cr_to_ride.query(\"newbie_flag==1\")[['approve_flag', 'not_approve_flag', 'order_flag']].mean()"
   ]
  },
  {
   "cell_type": "code",
   "execution_count": 152,
   "id": "34c107c2",
   "metadata": {},
   "outputs": [
    {
     "data": {
      "text/plain": [
       "approve_flag       0.751\n",
       "not_approve_flag   0.061\n",
       "order_flag         0.784\n",
       "dtype: Float64"
      ]
     },
     "execution_count": 152,
     "metadata": {},
     "output_type": "execute_result"
    }
   ],
   "source": [
    "df_cr_to_order.query(\"newbie_flag==1\")[['approve_flag', 'not_approve_flag', 'order_flag']].mean()"
   ]
  },
  {
   "cell_type": "code",
   "execution_count": 155,
   "id": "d3cf0810",
   "metadata": {},
   "outputs": [
    {
     "data": {
      "text/plain": [
       "[1475, 8849, 17698, 35396]"
      ]
     },
     "execution_count": 155,
     "metadata": {},
     "output_type": "execute_result"
    }
   ],
   "source": [
    "df_sample_size['event_dt_part'] = pd.to_datetime(df_sample_size['event_dt_part'])\n",
    "daily = df_sample_size[df_sample_size['event_dt_part']<= '2025-05-18'].groupby(['event_dt_part'], as_index=False)['users'].sum()['users'].mean().round(0)*0.5\n",
    "weekly = df_sample_size[df_sample_size['event_dt_part']<= '2025-05-18'].groupby(['weekly'], as_index=False)['users'].sum()['users'].mean().round(0)*0.5\n",
    "month = df_sample_size[df_sample_size['event_dt_part']<= '2025-05-18'].groupby(['monthly'], as_index=False)['users'].sum()['users'].mean().round(0)*0.5\n",
    "\n",
    "sizes = [int(daily), int(weekly), int(weekly)*2, int(month)]\n",
    "\n",
    "sizes"
   ]
  },
  {
   "cell_type": "code",
   "execution_count": 159,
   "id": "82379207",
   "metadata": {},
   "outputs": [
    {
     "data": {
      "text/html": [
       "<div>\n",
       "<style scoped>\n",
       "    .dataframe tbody tr th:only-of-type {\n",
       "        vertical-align: middle;\n",
       "    }\n",
       "\n",
       "    .dataframe tbody tr th {\n",
       "        vertical-align: top;\n",
       "    }\n",
       "\n",
       "    .dataframe thead th {\n",
       "        text-align: right;\n",
       "    }\n",
       "</style>\n",
       "<table border=\"1\" class=\"dataframe\">\n",
       "  <thead>\n",
       "    <tr style=\"text-align: right;\">\n",
       "      <th></th>\n",
       "      <th>Errors (α, β)</th>\n",
       "      <th>N_Total</th>\n",
       "      <th>Allocation_Ratio</th>\n",
       "      <th>Group sizes</th>\n",
       "      <th>MDE_Absolute</th>\n",
       "      <th>MDE_Relative_Percentage</th>\n",
       "    </tr>\n",
       "  </thead>\n",
       "  <tbody>\n",
       "    <tr>\n",
       "      <th>0</th>\n",
       "      <td>(0.1; 0.2)</td>\n",
       "      <td>1475</td>\n",
       "      <td>(0.9, 0.1)</td>\n",
       "      <td>Control: 1327; Test: 148</td>\n",
       "      <td>0.107</td>\n",
       "      <td>27.393</td>\n",
       "    </tr>\n",
       "    <tr>\n",
       "      <th>1</th>\n",
       "      <td>(0.05; 0.2)</td>\n",
       "      <td>1475</td>\n",
       "      <td>(0.9, 0.1)</td>\n",
       "      <td>Control: 1327; Test: 148</td>\n",
       "      <td>0.120</td>\n",
       "      <td>30.894</td>\n",
       "    </tr>\n",
       "    <tr>\n",
       "      <th>2</th>\n",
       "      <td>(0.1; 0.2)</td>\n",
       "      <td>8849</td>\n",
       "      <td>(0.9, 0.1)</td>\n",
       "      <td>Control: 7964; Test: 885</td>\n",
       "      <td>0.043</td>\n",
       "      <td>11.113</td>\n",
       "    </tr>\n",
       "    <tr>\n",
       "      <th>3</th>\n",
       "      <td>(0.05; 0.2)</td>\n",
       "      <td>8849</td>\n",
       "      <td>(0.9, 0.1)</td>\n",
       "      <td>Control: 7964; Test: 885</td>\n",
       "      <td>0.049</td>\n",
       "      <td>12.533</td>\n",
       "    </tr>\n",
       "    <tr>\n",
       "      <th>4</th>\n",
       "      <td>(0.1; 0.2)</td>\n",
       "      <td>17698</td>\n",
       "      <td>(0.9, 0.1)</td>\n",
       "      <td>Control: 15928; Test: 1770</td>\n",
       "      <td>0.031</td>\n",
       "      <td>7.841</td>\n",
       "    </tr>\n",
       "    <tr>\n",
       "      <th>5</th>\n",
       "      <td>(0.05; 0.2)</td>\n",
       "      <td>17698</td>\n",
       "      <td>(0.9, 0.1)</td>\n",
       "      <td>Control: 15928; Test: 1770</td>\n",
       "      <td>0.034</td>\n",
       "      <td>8.841</td>\n",
       "    </tr>\n",
       "    <tr>\n",
       "      <th>6</th>\n",
       "      <td>(0.1; 0.2)</td>\n",
       "      <td>35396</td>\n",
       "      <td>(0.9, 0.1)</td>\n",
       "      <td>Control: 31856; Test: 3540</td>\n",
       "      <td>0.022</td>\n",
       "      <td>5.535</td>\n",
       "    </tr>\n",
       "    <tr>\n",
       "      <th>7</th>\n",
       "      <td>(0.05; 0.2)</td>\n",
       "      <td>35396</td>\n",
       "      <td>(0.9, 0.1)</td>\n",
       "      <td>Control: 31856; Test: 3540</td>\n",
       "      <td>0.024</td>\n",
       "      <td>6.240</td>\n",
       "    </tr>\n",
       "  </tbody>\n",
       "</table>\n",
       "</div>"
      ],
      "text/plain": [
       "  Errors (α, β)  N_Total Allocation_Ratio                 Group sizes  MDE_Absolute  MDE_Relative_Percentage\n",
       "0    (0.1; 0.2)     1475       (0.9, 0.1)    Control: 1327; Test: 148         0.107                   27.393\n",
       "1   (0.05; 0.2)     1475       (0.9, 0.1)    Control: 1327; Test: 148         0.120                   30.894\n",
       "2    (0.1; 0.2)     8849       (0.9, 0.1)    Control: 7964; Test: 885         0.043                   11.113\n",
       "3   (0.05; 0.2)     8849       (0.9, 0.1)    Control: 7964; Test: 885         0.049                   12.533\n",
       "4    (0.1; 0.2)    17698       (0.9, 0.1)  Control: 15928; Test: 1770         0.031                    7.841\n",
       "5   (0.05; 0.2)    17698       (0.9, 0.1)  Control: 15928; Test: 1770         0.034                    8.841\n",
       "6    (0.1; 0.2)    35396       (0.9, 0.1)  Control: 31856; Test: 3540         0.022                    5.535\n",
       "7   (0.05; 0.2)    35396       (0.9, 0.1)  Control: 31856; Test: 3540         0.024                    6.240"
      ]
     },
     "execution_count": 159,
     "metadata": {},
     "output_type": "execute_result"
    }
   ],
   "source": [
    "\n",
    "def calculate_mde_unequal_split(\n",
    "    baseline_conversion_rate: float,\n",
    "    alpha: float = 0.05,\n",
    "    power: float = 0.8,\n",
    "    n_total: int = None,\n",
    "    allocation_ratio: tuple = (0.5, 0.5) # Соотношение (контроль, тест), например (0.7, 0.3)\n",
    ") -> dict:\n",
    "    \"\"\"\n",
    "    Рассчитывает MDE (минимально обнаруживаемый эффект) для A/B-теста\n",
    "    с неравномерным распределением групп.\n",
    "\n",
    "    Args:\n",
    "        baseline_conversion_rate (float): Базовая конверсия контрольной группы (от 0 до 1).\n",
    "        alpha (float): Уровень значимости (ошибка I рода), по умолчанию 0.05.\n",
    "        power (float): Статистическая мощность (1 - ошибка II рода), по умолчанию 0.8.\n",
    "        n_total (int): Общий размер выборки для обеих групп.\n",
    "                       Если не указан, функция вернет ошибку, так как MDE зависит от размера выборки.\n",
    "        allocation_ratio (tuple): Кортеж, представляющий соотношение распределения\n",
    "                                  (доля контрольной группы, доля тестовой группы).\n",
    "                                  Сумма долей должна быть равна 1.0.\n",
    "                                  По умолчанию (0.5, 0.5) - равномерное распределение.\n",
    "\n",
    "    Returns:\n",
    "        dict: Словарь, содержащий рассчитанный MDE (абсолютный и относительный),\n",
    "              а также размеры групп и другие параметры.\n",
    "              Возвращает None, если n_total не указан.\n",
    "    \"\"\"\n",
    "    if n_total is None:\n",
    "        return {\"error\": \"Для расчета MDE необходимо указать общий размер выборки (n_total).\"}\n",
    "\n",
    "    if not (0 < baseline_conversion_rate < 1):\n",
    "        raise ValueError(\"Базовая конверсия должна быть между 0 и 1.\")\n",
    "    if not (0 < alpha < 1):\n",
    "        raise ValueError(\"Уровень значимости (альфа) должен быть между 0 и 1.\")\n",
    "    if not (0 < power < 1):\n",
    "        raise ValueError(\"Мощность должна быть между 0 и 1.\")\n",
    "    if not (np.isclose(sum(allocation_ratio), 1.0) and all(r > 0 for r in allocation_ratio)):\n",
    "        raise ValueError(\"Соотношение распределения должно быть кортежем положительных чисел, сумма которых равна 1.0.\")\n",
    "\n",
    "    # Разделяем общий размер выборки согласно соотношению\n",
    "    n_control = ceil(n_total * allocation_ratio[0])\n",
    "    n_variant = ceil(n_total * allocation_ratio[1])\n",
    "\n",
    "    # Убедимся, что n_control + n_variant не превышает n_total (из-за округления ceil)\n",
    "    # и корректируем, если это так\n",
    "    if n_control + n_variant > n_total:\n",
    "        if allocation_ratio[0] > allocation_ratio[1]:\n",
    "            n_control = n_total - n_variant\n",
    "        else:\n",
    "            n_variant = n_total - n_control\n",
    "    \n",
    "    # Если одна из групп слишком мала после округления, убедимся, что она не 0\n",
    "    if n_control == 0:\n",
    "        n_control = 1\n",
    "        n_variant = n_total - 1\n",
    "    if n_variant == 0:\n",
    "        n_variant = 1\n",
    "        n_control = n_total - 1\n",
    "    \n",
    "    # Рассчитываем отношение размеров групп для NormalIndPower\n",
    "    # NormalIndPower ожидает nobs1 (размер первой группы) и ratio (nobs2 / nobs1)\n",
    "    # Мы используем n_control как nobs1, а n_variant как nobs2\n",
    "    ratio_nobs = n_variant / n_control if n_control > 0 else 1 # Избегаем деления на ноль\n",
    "\n",
    "    # Создаем объект для расчета мощности\n",
    "    power_calculator = NormalIndPower()\n",
    "\n",
    "    # Находим размер эффекта (Cohen's h)\n",
    "    # solve_power возвращает effect_size, если остальные параметры заданы\n",
    "    effect_size_cohen_h = power_calculator.solve_power(\n",
    "        effect_size=None,\n",
    "        nobs1=n_control,\n",
    "        alpha=alpha,\n",
    "        power=power,\n",
    "        ratio=ratio_nobs,\n",
    "        alternative='two-sided' # Двусторонний тест (обнаруживаем как увеличение, так и уменьшение)\n",
    "    )\n",
    "\n",
    "    # Преобразуем Cohen's h обратно в конверсию тестовой группы\n",
    "    # effect_size = 2 * arcsin(sqrt(p2)) - 2 * arcsin(sqrt(p1))\n",
    "    # Мы знаем p1 (baseline_conversion_rate) и effect_size_cohen_h\n",
    "    # Нужно найти p2\n",
    "    arcsin_sqrt_p1 = np.arcsin(np.sqrt(baseline_conversion_rate))\n",
    "    arcsin_sqrt_p2 = arcsin_sqrt_p1 + (effect_size_cohen_h / 2) # Для увеличения\n",
    "    \n",
    "    # Конверсия не может быть больше 1\n",
    "    detectable_conversion_rate_variant = np.sin(arcsin_sqrt_p2)**2\n",
    "    if detectable_conversion_rate_variant > 1:\n",
    "        detectable_conversion_rate_variant = 1.0\n",
    "\n",
    "    # MDE (абсолютная разница)\n",
    "    mde_absolute = detectable_conversion_rate_variant - baseline_conversion_rate\n",
    "\n",
    "    # MDE (относительная разница, в процентах)\n",
    "    mde_relative_percentage = (mde_absolute / baseline_conversion_rate) * 100 if baseline_conversion_rate != 0 else float('inf')\n",
    "\n",
    "    return {\n",
    "        \"baseline_conversion_rate\": baseline_conversion_rate,\n",
    "        \"alpha\": alpha,\n",
    "        \"power\": power,\n",
    "        \"n_total\": n_total,\n",
    "        \"n_control\": int(n_control),\n",
    "        \"n_variant\": int(n_variant),\n",
    "        \"allocation_ratio\": allocation_ratio,\n",
    "        \"effect_size_cohen_h\": effect_size_cohen_h,\n",
    "        \"detectable_conversion_rate_variant\": detectable_conversion_rate_variant,\n",
    "        \"mde_absolute\": mde_absolute,\n",
    "        \"mde_relative_percentage\": mde_relative_percentage\n",
    "    }\n",
    "\n",
    "def analyze_mde_scenarios(\n",
    "    baseline_conversion_rate: float,\n",
    "    alpha_levels: list[float],\n",
    "    power_levels: list[float],\n",
    "    n_total_levels: list[int],\n",
    "    allocation_ratio: tuple = (0.5, 0.5)\n",
    ") -> pd.DataFrame:\n",
    "    \"\"\"\n",
    "    Анализирует MDE для различных сценариев, возвращая результаты в DataFrame.\n",
    "\n",
    "    Args:\n",
    "        baseline_conversion_rate (float): Базовая конверсия контрольной группы (от 0 до 1).\n",
    "        alpha_levels (list[float]): Список уровней значимости (альфа) для тестирования.\n",
    "        power_levels (list[float]): Список уровней статистической мощности для тестирования.\n",
    "        n_total_levels (list[int]): Список общих размеров выборок для тестирования.\n",
    "        allocation_ratio (tuple): Кортеж, представляющий соотношение распределения\n",
    "                                  (доля контрольной группы, доля тестовой группы).\n",
    "\n",
    "    Returns:\n",
    "        pd.DataFrame: DataFrame, содержащий MDE и размеры групп для каждого сценария.\n",
    "    \"\"\"\n",
    "    results = []\n",
    "    for n_total in n_total_levels:\n",
    "        for alpha in alpha_levels:\n",
    "            for power in power_levels:\n",
    "                beta = 1 - power # Ошибка второго рода\n",
    "                \n",
    "                mde_result = calculate_mde_unequal_split(\n",
    "                    baseline_conversion_rate=baseline_conversion_rate,\n",
    "                    alpha=alpha,\n",
    "                    power=power,\n",
    "                    n_total=n_total,\n",
    "                    allocation_ratio=allocation_ratio\n",
    "                )\n",
    "                \n",
    "                if \"error\" not in mde_result:\n",
    "                    results.append({\n",
    "                        \"Alpha\": alpha,\n",
    "                        \"Beta\": beta,\n",
    "                        \"N_Total\": n_total,\n",
    "                        \"Allocation_Ratio\": allocation_ratio,\n",
    "                        \"N_Control\": mde_result[\"n_control\"],\n",
    "                        \"N_Variant\": mde_result[\"n_variant\"],\n",
    "                        \"MDE_Absolute\": mde_result[\"mde_absolute\"],\n",
    "                        \"MDE_Relative_Percentage\": mde_result[\"mde_relative_percentage\"]\n",
    "                    })\n",
    "                else:\n",
    "                    print(f\"Ошибка для N_Total={n_total}, Alpha={alpha}, Power={power}: {mde_result['error']}\")\n",
    "\n",
    "    df_results = pd.DataFrame(results)\n",
    "    \n",
    "    # Добавляем столбец с форматированной строкой для ошибок\n",
    "    df_results['Errors (α, β)'] = df_results.apply(\n",
    "        lambda row: f\"({row['Alpha']}; {row['Beta']:.1f})\", axis=1\n",
    "    )\n",
    "    \n",
    "    # Добавляем столбец с форматированной строкой для размеров групп\n",
    "    df_results['Group sizes'] = df_results.apply(\n",
    "        lambda row: f\"Control: {row['N_Control']}; Test: {row['N_Variant']}\", axis=1\n",
    "    )\n",
    "\n",
    "    # Переупорядочиваем столбцы для соответствия запрошенному формату\n",
    "    # 'Metric' не является прямым столбцом, это скорее категория.\n",
    "    # Я представлю MDE_Absolute и MDE_Relative_Percentage как отдельные столбцы.\n",
    "    final_columns = [\n",
    "        \"Errors (α, β)\",\n",
    "        \"N_Total\",\n",
    "        \"Allocation_Ratio\",\n",
    "        \"Group sizes\",\n",
    "        \"MDE_Absolute\",\n",
    "        \"MDE_Relative_Percentage\"\n",
    "    ]\n",
    "    \n",
    "    return df_results[final_columns]\n",
    "\n",
    "baseline_cr = 0.39\n",
    "alpha_levels_to_test = [0.1, 0.05]\n",
    "power_levels_to_test = [0.8] \n",
    "n_total_levels_to_test = [1475, 8849, 17698, 35396]\n",
    "allocation_ratio_to_test = (0.9, 0.1) \n",
    "\n",
    "mde_analysis_df = analyze_mde_scenarios(\n",
    "    baseline_conversion_rate=baseline_cr,\n",
    "    alpha_levels=alpha_levels_to_test,\n",
    "    power_levels=power_levels_to_test,\n",
    "    n_total_levels=n_total_levels_to_test,\n",
    "    allocation_ratio=allocation_ratio_to_test\n",
    ")\n",
    "\n",
    "mde_analysis_df\n",
    "\n"
   ]
  },
  {
   "cell_type": "markdown",
   "id": "9a2613c2",
   "metadata": {},
   "source": [
    "# Summarising"
   ]
  },
  {
   "cell_type": "code",
   "execution_count": null,
   "id": "5fec53a7",
   "metadata": {},
   "outputs": [
    {
     "data": {
      "text/html": [
       "<div>\n",
       "<style scoped>\n",
       "    .dataframe tbody tr th:only-of-type {\n",
       "        vertical-align: middle;\n",
       "    }\n",
       "\n",
       "    .dataframe tbody tr th {\n",
       "        vertical-align: top;\n",
       "    }\n",
       "\n",
       "    .dataframe thead th {\n",
       "        text-align: right;\n",
       "    }\n",
       "</style>\n",
       "<table border=\"1\" class=\"dataframe\">\n",
       "  <thead>\n",
       "    <tr style=\"text-align: right;\">\n",
       "      <th></th>\n",
       "      <th>user_id</th>\n",
       "      <th>group_id</th>\n",
       "      <th>created_dt_part</th>\n",
       "      <th>os_name</th>\n",
       "      <th>city_id</th>\n",
       "      <th>city_name</th>\n",
       "      <th>country_id</th>\n",
       "      <th>country_name</th>\n",
       "      <th>newbie_flag</th>\n",
       "      <th>filled_flow</th>\n",
       "      <th>show_dt</th>\n",
       "      <th>click_dt</th>\n",
       "      <th>approve_dt</th>\n",
       "      <th>approve_flag</th>\n",
       "      <th>not_approve_dt</th>\n",
       "      <th>not_approve_flag</th>\n",
       "      <th>order_timestamp</th>\n",
       "      <th>order_flag</th>\n",
       "      <th>gmv</th>\n",
       "      <th>rides</th>\n",
       "      <th>orders</th>\n",
       "    </tr>\n",
       "  </thead>\n",
       "  <tbody>\n",
       "    <tr>\n",
       "      <th>0</th>\n",
       "      <td>12051735</td>\n",
       "      <td>0</td>\n",
       "      <td>2025-05-25</td>\n",
       "      <td>None</td>\n",
       "      <td>4267</td>\n",
       "      <td>Arica</td>\n",
       "      <td>25</td>\n",
       "      <td>Chile</td>\n",
       "      <td>0</td>\n",
       "      <td>None</td>\n",
       "      <td>NaT</td>\n",
       "      <td>NaT</td>\n",
       "      <td>NaT</td>\n",
       "      <td>0</td>\n",
       "      <td>NaT</td>\n",
       "      <td>0</td>\n",
       "      <td>2025-05-27 14:03:43+00:00</td>\n",
       "      <td>1</td>\n",
       "      <td>25.98</td>\n",
       "      <td>11</td>\n",
       "      <td>25</td>\n",
       "    </tr>\n",
       "    <tr>\n",
       "      <th>1</th>\n",
       "      <td>12257163</td>\n",
       "      <td>0</td>\n",
       "      <td>2025-05-22</td>\n",
       "      <td>None</td>\n",
       "      <td>5596</td>\n",
       "      <td>Punta Arenas</td>\n",
       "      <td>25</td>\n",
       "      <td>Chile</td>\n",
       "      <td>0</td>\n",
       "      <td>None</td>\n",
       "      <td>NaT</td>\n",
       "      <td>NaT</td>\n",
       "      <td>NaT</td>\n",
       "      <td>0</td>\n",
       "      <td>NaT</td>\n",
       "      <td>0</td>\n",
       "      <td>2025-05-22 09:47:24+00:00</td>\n",
       "      <td>1</td>\n",
       "      <td>12.74</td>\n",
       "      <td>4</td>\n",
       "      <td>8</td>\n",
       "    </tr>\n",
       "    <tr>\n",
       "      <th>2</th>\n",
       "      <td>13624693</td>\n",
       "      <td>0</td>\n",
       "      <td>2025-05-22</td>\n",
       "      <td>None</td>\n",
       "      <td>4200</td>\n",
       "      <td>Santiago</td>\n",
       "      <td>25</td>\n",
       "      <td>Chile</td>\n",
       "      <td>0</td>\n",
       "      <td>None</td>\n",
       "      <td>NaT</td>\n",
       "      <td>NaT</td>\n",
       "      <td>NaT</td>\n",
       "      <td>0</td>\n",
       "      <td>NaT</td>\n",
       "      <td>0</td>\n",
       "      <td>2025-05-22 03:09:20+00:00</td>\n",
       "      <td>1</td>\n",
       "      <td>23.35</td>\n",
       "      <td>3</td>\n",
       "      <td>7</td>\n",
       "    </tr>\n",
       "    <tr>\n",
       "      <th>3</th>\n",
       "      <td>13649714</td>\n",
       "      <td>0</td>\n",
       "      <td>2025-06-01</td>\n",
       "      <td>None</td>\n",
       "      <td>4200</td>\n",
       "      <td>Santiago</td>\n",
       "      <td>25</td>\n",
       "      <td>Chile</td>\n",
       "      <td>0</td>\n",
       "      <td>None</td>\n",
       "      <td>NaT</td>\n",
       "      <td>NaT</td>\n",
       "      <td>NaT</td>\n",
       "      <td>0</td>\n",
       "      <td>NaT</td>\n",
       "      <td>0</td>\n",
       "      <td>NaT</td>\n",
       "      <td>0</td>\n",
       "      <td>6.88</td>\n",
       "      <td>1</td>\n",
       "      <td>3</td>\n",
       "    </tr>\n",
       "    <tr>\n",
       "      <th>4</th>\n",
       "      <td>14362557</td>\n",
       "      <td>0</td>\n",
       "      <td>2025-05-22</td>\n",
       "      <td>None</td>\n",
       "      <td>4267</td>\n",
       "      <td>Arica</td>\n",
       "      <td>25</td>\n",
       "      <td>Chile</td>\n",
       "      <td>0</td>\n",
       "      <td>None</td>\n",
       "      <td>NaT</td>\n",
       "      <td>NaT</td>\n",
       "      <td>NaT</td>\n",
       "      <td>0</td>\n",
       "      <td>NaT</td>\n",
       "      <td>0</td>\n",
       "      <td>NaT</td>\n",
       "      <td>0</td>\n",
       "      <td>0.00</td>\n",
       "      <td>0</td>\n",
       "      <td>1</td>\n",
       "    </tr>\n",
       "  </tbody>\n",
       "</table>\n",
       "</div>"
      ],
      "text/plain": [
       "    user_id  group_id created_dt_part os_name  city_id     city_name  country_id country_name  newbie_flag filled_flow show_dt click_dt approve_dt  approve_flag not_approve_dt  not_approve_flag           order_timestamp  order_flag   gmv  rides  orders\n",
       "0  12051735         0      2025-05-25    None     4267         Arica          25        Chile            0        None     NaT      NaT        NaT             0            NaT                 0 2025-05-27 14:03:43+00:00           1 25.98     11      25\n",
       "1  12257163         0      2025-05-22    None     5596  Punta Arenas          25        Chile            0        None     NaT      NaT        NaT             0            NaT                 0 2025-05-22 09:47:24+00:00           1 12.74      4       8\n",
       "2  13624693         0      2025-05-22    None     4200      Santiago          25        Chile            0        None     NaT      NaT        NaT             0            NaT                 0 2025-05-22 03:09:20+00:00           1 23.35      3       7\n",
       "3  13649714         0      2025-06-01    None     4200      Santiago          25        Chile            0        None     NaT      NaT        NaT             0            NaT                 0                       NaT           0  6.88      1       3\n",
       "4  14362557         0      2025-05-22    None     4267         Arica          25        Chile            0        None     NaT      NaT        NaT             0            NaT                 0                       NaT           0  0.00      0       1"
      ]
     },
     "execution_count": 124,
     "metadata": {},
     "output_type": "execute_result"
    }
   ],
   "source": [
    "df_res = read_bq(\"\"\"\n",
    "WITH newbies AS (SELECT user_id,\n",
    "                        metric_date\n",
    "                 FROM indriver-bi.incity.tbl_incity_growth_metrics_detail\n",
    "                 WHERE user_type = 'pass'\n",
    "                   AND rides_count > 0\n",
    "                   AND metric_date >= DATE_ADD(CURRENT_DATE(), INTERVAL -1 YEAR)\n",
    "                   AND country_id = 25),\n",
    "     gmv AS (SELECT user_id,\n",
    "                    SUM(gmv_clean_usd) AS gmv,\n",
    "                    SUM(rides_count)   AS rides,\n",
    "                    SUM(orders_count)  AS orders\n",
    "             FROM indriver-bi.incity.tbl_incity_growth_metrics_detail\n",
    "             WHERE user_type = 'pass'\n",
    "               AND metric_date BETWEEN '2025-05-01' AND CURRENT_DATE()\n",
    "               AND country_id = 25\n",
    "             GROUP BY 1),\n",
    "     total AS (SELECT t1.user_id,\n",
    "                      t1.city_id,\n",
    "                      geo.city_name,\n",
    "                      geo.country_id,\n",
    "                      geo.country_name,\n",
    "                      IF(group_id = 4541078, 0, 1) AS group_id,\n",
    "                      created_dt_part,\n",
    "                      t2.metric_date,\n",
    "                      CASE\n",
    "                          WHEN t2.metric_date IS NULL THEN 1\n",
    "                          ELSE 0\n",
    "                          END                         newbie_flag\n",
    "               FROM indriver-e6e40.ss_ab_platform_mart.markup_users t1\n",
    "                        JOIN indriver-e6e40.heap.vw_macroregion_mapping geo\n",
    "                             ON\n",
    "                                 t1.city_id = geo.city_id\n",
    "                        LEFT JOIN newbies t2 ON t1.user_id = t2.user_id AND t2.metric_date < t1.created_dt_part\n",
    "               WHERE test_id = 3182\n",
    "               QUALIFY ROW_NUMBER() OVER (PARTITION BY t1.user_id ORDER BY metric_date DESC) = 1),\n",
    "     liveness AS (SELECT user_id,\n",
    "                         os_name,\n",
    "                         city_id,\n",
    "                         city_name,\n",
    "                         country_id,\n",
    "                         country_name,\n",
    "                         COALESCE(filled_flow, 'liveness')                                  AS filled_flow,\n",
    "                         COALESCE(MAX(IF(name = 'client.verification_start.show', client_time, NULL)),\n",
    "                                  MAX(IF((name = 'client.verification_flow_result_status.show' AND\n",
    "                                          LOWER(status) = 'approve'), client_time, NULL)),\n",
    "                                  MAX(IF((name = 'client.verification_flow_result_status.show' AND\n",
    "                                          LOWER(status) != 'approve'), client_time, NULL))) AS show_dt,\n",
    "                         COALESCE(MAX(IF(name = 'client.verification_start.click', client_time, NULL)),\n",
    "                                  MAX(IF((name = 'client.verification_flow_result_status.show' AND\n",
    "                                          LOWER(status) = 'approve'), client_time, NULL)),\n",
    "                                  MAX(IF((name = 'client.verification_flow_result_status.show' AND\n",
    "                                          LOWER(status) != 'approve'), client_time, NULL))) AS click_dt,\n",
    "                         MAX(IF((name = 'client.verification_flow_result_status.show' AND\n",
    "                                 LOWER(status) = 'approve'), client_time, NULL))            AS approve_dt,\n",
    "                         MAX(IF((name = 'client.verification_flow_result_status.show' AND\n",
    "                                 LOWER(status) != 'approve'), client_time, NULL))           AS not_approve_dt\n",
    "                  FROM (SELECT t1.user_id,\n",
    "                               t1.name,\n",
    "                               t1.os_name,\n",
    "                               DATE(TIMESTAMP_MILLIS(t1.client_time))                  AS event_dt_part,\n",
    "                               TIMESTAMP_MILLIS(t1.client_time)                        AS client_time,\n",
    "                               t1.city_id,\n",
    "                               t2.city_name,\n",
    "                               t2.country_id,\n",
    "                               t2.country_name,\n",
    "                               JSON_EXTRACT_SCALAR(payload, '$.verification_flow')     AS verification_flow,\n",
    "                               IF(JSON_EXTRACT_SCALAR(payload, '$.verification_flow') IS NULL,\n",
    "                                  LAG(JSON_EXTRACT_SCALAR(payload, '$.verification_flow'))\n",
    "                                      OVER (PARTITION BY t1.user_id ORDER BY client_time),\n",
    "                                  JSON_EXTRACT_SCALAR(payload, '$.verification_flow')) AS filled_flow,\n",
    "                               JSON_EXTRACT_SCALAR(payload, '$.status')                AS status\n",
    "                        FROM (SELECT *\n",
    "                              FROM indriver-e6e40.emart.product_event t1\n",
    "                              WHERE 1 = 1\n",
    "                                AND name IN (\n",
    "                                             'client.verification_start.show',\n",
    "                                             'client.verification_start.click',\n",
    "                                             'client.verification_flow_result_status.show'\n",
    "                                  )\n",
    "                                AND event_dt_part BETWEEN '2025-04-01' AND CURRENT_DATE()\n",
    "                                AND country_id IN (25)\n",
    "                              QUALIFY\n",
    "                                  ROW_NUMBER() OVER (PARTITION BY user_id, name, os_name, event_dt_part, JSON_EXTRACT_SCALAR(payload, '$.verification_flow') ORDER BY client_time DESC) =\n",
    "                                  1) t1\n",
    "                                 JOIN indriver-e6e40.heap.vw_macroregion_mapping t2\n",
    "                                      ON\n",
    "                                          t1.city_id = t2.city_id\n",
    "                        WHERE 1 = 1\n",
    "                          AND name IN (\n",
    "                                       'client.verification_start.show', 'client.verification_start.click',\n",
    "                                       'client.verification_flow_result_status.show'\n",
    "                            ))\n",
    "                  GROUP BY 1, 2, 3, 4, 5, 6, 7),\n",
    "     total_liv AS (SELECT t1.user_id,\n",
    "                          t1.city_id,\n",
    "                          t1.city_name,\n",
    "                          t1.country_id,\n",
    "                          t1.country_name,\n",
    "                          t1.group_id,\n",
    "                          t1.created_dt_part,\n",
    "                          t1.newbie_flag,\n",
    "                          t2.user_id AS user_with_svf,\n",
    "                          t2.os_name,\n",
    "                          t2.filled_flow,\n",
    "                          t2.show_dt,\n",
    "                          t2.click_dt,\n",
    "                          t2.approve_dt,\n",
    "                          t2.not_approve_dt\n",
    "                   FROM total t1\n",
    "                            LEFT JOIN liveness t2\n",
    "                                      ON t1.user_id = t2.user_id AND DATE(t2.show_dt) >= t1.created_dt_part),\n",
    "     rides AS (SELECT order_uuid,\n",
    "                      user_id    AS pass_id,\n",
    "                      driver_id,\n",
    "                      city_id    AS order_city_id,\n",
    "                      country_id AS order_country_id,\n",
    "                      status_order,\n",
    "                      order_timestamp,\n",
    "                      at_pickup_dttm,\n",
    "                      departed_pickup_dttm,\n",
    "                      at_destination_dttm,\n",
    "                      departed_destination_dttm,\n",
    "                      driveraccept_timestamp,\n",
    "                      driverarrived_timestamp,\n",
    "                      driverstarttheride_timestamp,\n",
    "                      driverdone_timestamp,\n",
    "                      clientdone_timestamp,\n",
    "                      clientcancel_timestamp,\n",
    "                      drivercancel_timestamp,\n",
    "                      user_reg_date,\n",
    "                      driver_reg_date,\n",
    "                      stage,\n",
    "                      created_date_order_part,\n",
    "                      duration_in_seconds\n",
    "               FROM indriver-e6e40.imart.incity_detail_new_order\n",
    "               WHERE created_date_order_part BETWEEN '2025-05-01'\n",
    "                   AND CURRENT_DATE()\n",
    "                 AND status_order = 'RIDE_STATUS_DONE'\n",
    "                 AND driveraccept_timestamp IS NOT NULL\n",
    "                 AND (clientcancel_timestamp IS NULL\n",
    "                   AND drivercancel_timestamp IS NULL))\n",
    "SELECT t1.user_id,\n",
    "       t1.group_id,\n",
    "       t1.created_dt_part,\n",
    "       t1.os_name,\n",
    "       t1.city_id,\n",
    "       t1.city_name,\n",
    "       t1.country_id,\n",
    "       t1.country_name,\n",
    "       t1.newbie_flag,\n",
    "       filled_flow,\n",
    "       show_dt,\n",
    "       click_dt,\n",
    "       approve_dt                                                  AS approve_dt,\n",
    "       IF(approve_dt IS NOT NULL, 1, 0)                            AS approve_flag,\n",
    "       not_approve_dt,\n",
    "       IF(not_approve_dt IS NOT NULL AND approve_dt IS NULL, 1, 0) AS not_approve_flag,\n",
    "       t2.order_timestamp,\n",
    "       IF(t2.order_timestamp IS NOT NULL, 1, 0)                    AS order_flag,\n",
    "       t3.gmv,\n",
    "       t3.rides,\n",
    "       t3.orders\n",
    "FROM total_liv t1\n",
    "         LEFT JOIN rides t2\n",
    "                   ON t1.user_id = t2.pass_id AND\n",
    "                      t2.created_date_order_part >= created_dt_part\n",
    "         LEFT JOIN gmv t3 ON t1.user_id = t3.user_id\n",
    "QUALIFY ROW_NUMBER() OVER (PARTITION BY t1.user_id ORDER BY t2.order_timestamp) = 1\n",
    "\"\"\")\n",
    "df_res['rides'] = df_res['rides'].fillna(0)\n",
    "df_res['gmv'] = df_res['gmv'].fillna(0)\n",
    "df_res.head()"
   ]
  },
  {
   "cell_type": "code",
   "execution_count": 140,
   "id": "05e44edf",
   "metadata": {},
   "outputs": [
    {
     "data": {
      "text/html": [
       "<div>\n",
       "<style scoped>\n",
       "    .dataframe tbody tr th:only-of-type {\n",
       "        vertical-align: middle;\n",
       "    }\n",
       "\n",
       "    .dataframe tbody tr th {\n",
       "        vertical-align: top;\n",
       "    }\n",
       "\n",
       "    .dataframe thead th {\n",
       "        text-align: right;\n",
       "    }\n",
       "</style>\n",
       "<table border=\"1\" class=\"dataframe\">\n",
       "  <thead>\n",
       "    <tr style=\"text-align: right;\">\n",
       "      <th></th>\n",
       "      <th>metric_name</th>\n",
       "      <th>group0_sample_size</th>\n",
       "      <th>group1_sample_size</th>\n",
       "      <th>group0</th>\n",
       "      <th>group1</th>\n",
       "      <th>statistic</th>\n",
       "      <th>pvalue</th>\n",
       "      <th>mean0</th>\n",
       "      <th>mean1</th>\n",
       "      <th>diff_mean</th>\n",
       "      <th>diff_mean_%</th>\n",
       "      <th>lb</th>\n",
       "      <th>ub</th>\n",
       "      <th>lb_%</th>\n",
       "      <th>ub_%</th>\n",
       "      <th>criteria</th>\n",
       "      <th>significance</th>\n",
       "      <th>result_with_corr</th>\n",
       "    </tr>\n",
       "  </thead>\n",
       "  <tbody>\n",
       "    <tr>\n",
       "      <th>0</th>\n",
       "      <td>approve_flag</td>\n",
       "      <td>7254</td>\n",
       "      <td>3873</td>\n",
       "      <td>0</td>\n",
       "      <td>1</td>\n",
       "      <td>20.803</td>\n",
       "      <td>0.000</td>\n",
       "      <td>0.813</td>\n",
       "      <td>0.625</td>\n",
       "      <td>-0.188</td>\n",
       "      <td>-23.111</td>\n",
       "      <td>-0.206</td>\n",
       "      <td>-0.170</td>\n",
       "      <td>-25.289</td>\n",
       "      <td>-20.934</td>\n",
       "      <td>ztest</td>\n",
       "      <td>1</td>\n",
       "      <td>1</td>\n",
       "    </tr>\n",
       "    <tr>\n",
       "      <th>0</th>\n",
       "      <td>not_approve_flag</td>\n",
       "      <td>7254</td>\n",
       "      <td>3873</td>\n",
       "      <td>0</td>\n",
       "      <td>1</td>\n",
       "      <td>-9.559</td>\n",
       "      <td>0.000</td>\n",
       "      <td>0.021</td>\n",
       "      <td>0.061</td>\n",
       "      <td>0.040</td>\n",
       "      <td>193.431</td>\n",
       "      <td>0.032</td>\n",
       "      <td>0.048</td>\n",
       "      <td>153.772</td>\n",
       "      <td>233.091</td>\n",
       "      <td>ztest</td>\n",
       "      <td>1</td>\n",
       "      <td>1</td>\n",
       "    </tr>\n",
       "    <tr>\n",
       "      <th>0</th>\n",
       "      <td>order_flag</td>\n",
       "      <td>7254</td>\n",
       "      <td>3873</td>\n",
       "      <td>0</td>\n",
       "      <td>1</td>\n",
       "      <td>12.588</td>\n",
       "      <td>0.000</td>\n",
       "      <td>0.480</td>\n",
       "      <td>0.358</td>\n",
       "      <td>-0.122</td>\n",
       "      <td>-25.404</td>\n",
       "      <td>-0.141</td>\n",
       "      <td>-0.103</td>\n",
       "      <td>-29.360</td>\n",
       "      <td>-21.449</td>\n",
       "      <td>ztest</td>\n",
       "      <td>1</td>\n",
       "      <td>1</td>\n",
       "    </tr>\n",
       "    <tr>\n",
       "      <th>0</th>\n",
       "      <td>rides</td>\n",
       "      <td>7254</td>\n",
       "      <td>3873</td>\n",
       "      <td>0</td>\n",
       "      <td>1</td>\n",
       "      <td>8.714</td>\n",
       "      <td>0.000</td>\n",
       "      <td>0.964</td>\n",
       "      <td>0.686</td>\n",
       "      <td>-0.279</td>\n",
       "      <td>-28.920</td>\n",
       "      <td>-0.342</td>\n",
       "      <td>-0.216</td>\n",
       "      <td>-35.426</td>\n",
       "      <td>-22.415</td>\n",
       "      <td>ttest</td>\n",
       "      <td>1</td>\n",
       "      <td>1</td>\n",
       "    </tr>\n",
       "    <tr>\n",
       "      <th>0</th>\n",
       "      <td>gmv</td>\n",
       "      <td>7254</td>\n",
       "      <td>3873</td>\n",
       "      <td>0</td>\n",
       "      <td>1</td>\n",
       "      <td>8.128</td>\n",
       "      <td>0.000</td>\n",
       "      <td>5.177</td>\n",
       "      <td>3.792</td>\n",
       "      <td>-1.385</td>\n",
       "      <td>-26.747</td>\n",
       "      <td>-1.719</td>\n",
       "      <td>-1.051</td>\n",
       "      <td>-33.197</td>\n",
       "      <td>-20.296</td>\n",
       "      <td>ttest</td>\n",
       "      <td>1</td>\n",
       "      <td>1</td>\n",
       "    </tr>\n",
       "  </tbody>\n",
       "</table>\n",
       "</div>"
      ],
      "text/plain": [
       "        metric_name group0_sample_size group1_sample_size group0 group1  statistic  pvalue  mean0  mean1  diff_mean  diff_mean_%     lb     ub    lb_%    ub_% criteria  significance  result_with_corr\n",
       "0      approve_flag               7254               3873      0      1     20.803   0.000  0.813  0.625     -0.188      -23.111 -0.206 -0.170 -25.289 -20.934    ztest             1                 1\n",
       "0  not_approve_flag               7254               3873      0      1     -9.559   0.000  0.021  0.061      0.040      193.431  0.032  0.048 153.772 233.091    ztest             1                 1\n",
       "0        order_flag               7254               3873      0      1     12.588   0.000  0.480  0.358     -0.122      -25.404 -0.141 -0.103 -29.360 -21.449    ztest             1                 1\n",
       "0             rides               7254               3873      0      1      8.714   0.000  0.964  0.686     -0.279      -28.920 -0.342 -0.216 -35.426 -22.415    ttest             1                 1\n",
       "0               gmv               7254               3873      0      1      8.128   0.000  5.177  3.792     -1.385      -26.747 -1.719 -1.051 -33.197 -20.296    ttest             1                 1"
      ]
     },
     "execution_count": 140,
     "metadata": {},
     "output_type": "execute_result"
    }
   ],
   "source": [
    "indicators = ['approve_flag', 'not_approve_flag', 'order_flag', 'rides', 'gmv']\n",
    "res_df = pd.DataFrame()\n",
    "\n",
    "\n",
    "for metric in indicators:\n",
    "\n",
    "    if metric in ['rides', 'gmv']:\n",
    "        ttest = expab.ttest(\n",
    "            df_res[(df_res['newbie_flag']==1)&(~df_res['show_dt'].isna())][['user_id', 'group_id', 'os_name', 'approve_flag', 'not_approve_flag', 'order_flag', 'rides', 'gmv']],\n",
    "            metric,\n",
    "            'group_id'\n",
    "            )\n",
    "        ttest['criteria'] = 'ttest'\n",
    "        res_df = pd.concat([res_df, ttest])\n",
    "\n",
    "    else:\n",
    "        ztest = expab.ztest_proportion(\n",
    "            df_res[(df_res['newbie_flag']==1)&(~df_res['show_dt'].isna())][['user_id', 'group_id', 'os_name', 'approve_flag', 'not_approve_flag', 'order_flag', 'rides', 'gmv']],\n",
    "            metric,\n",
    "            'group_id'\n",
    "            )\n",
    "        ztest['criteria'] = 'ztest'\n",
    "        res_df = pd.concat([res_df, ztest])\n",
    "\n",
    "\n",
    "res_df['significance'] = (res_df['pvalue']<0.05)*1\n",
    "res_df['result_with_corr'] = method_benjamini_hochberg(res_df['pvalue'].values)\n",
    "res_df"
   ]
  }
 ],
 "metadata": {
  "kernelspec": {
   "display_name": "Python 3",
   "language": "python",
   "name": "python3"
  },
  "language_info": {
   "codemirror_mode": {
    "name": "ipython",
    "version": 3
   },
   "file_extension": ".py",
   "mimetype": "text/x-python",
   "name": "python",
   "nbconvert_exporter": "python",
   "pygments_lexer": "ipython3",
   "version": "3.9.6"
  }
 },
 "nbformat": 4,
 "nbformat_minor": 5
}
